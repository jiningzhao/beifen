{
 "cells": [
  {
   "cell_type": "code",
   "execution_count": 1,
   "metadata": {
    "ExecuteTime": {
     "end_time": "2020-05-25T06:08:16.118974Z",
     "start_time": "2020-05-25T06:08:14.740635Z"
    }
   },
   "outputs": [],
   "source": [
    "import pandas as pd\n",
    "import numpy as np\n",
    "import os\n",
    "import shutil\n",
    "import seaborn as  sns\n",
    "import matplotlib.pyplot as plt\n",
    "import gc\n",
    "import matplotlib as mpl\n",
    "from matplotlib.pyplot import savefig\n",
    "\n",
    "mpl.rcParams['font.sans-serif'] = ['SimHei']  # 指定默认字体\n",
    "mpl.rcParams['axes.unicode_minus'] = False  # 解决保存图像是负号'-'显示为方块的问题\n",
    "\n",
    "%matplotlib inline"
   ]
  },
  {
   "cell_type": "markdown",
   "metadata": {},
   "source": [
    "## 订单数据整合\n",
    "### 常用字段"
   ]
  },
  {
   "cell_type": "code",
   "execution_count": 2,
   "metadata": {
    "ExecuteTime": {
     "end_time": "2020-05-25T06:08:17.756569Z",
     "start_time": "2020-05-25T06:08:17.746595Z"
    }
   },
   "outputs": [],
   "source": [
    "cn_short_col = ['订单号','保单号','订单状态','下单日期','支付日期','承保时间','支付方式','保单金额','理赔津贴-购买金额',\n",
    "                '渠道来源','来源明细','推广费比例A','推广费比例B','推广费A','推广费B','推广费税费','推荐费税费','推荐费',\n",
    "                '推广费b1','推广费b2','红包金额',\n",
    "                '起保时间','终保时间','商品编码','产品ID','产品名称','保险公司','批量流水号','计划名称',\n",
    "                '订单续期来源','是否自保件',\n",
    "                '服务网点ID','销售团队名称','销服id','销服名称','营业部ID','营业部名称',\n",
    "                '福利券编码','福利券名称','福利券比例','上限金额','福利固定面值','推广费X',\n",
    "                '创建人ID','推广费代理人','推广费代理人ID','推广费代理人电话',\n",
    "                '推广费代理人省','推广费代理人市','推广费代理人区','推广费代理人展业地点','推广费代理人服务网点',\n",
    "                '是否司内用户','核心代理人编码','核心入职时间','区域中心',\n",
    "                '推荐费代理人姓名','推荐费代理人ID','推荐费代理人电话','推荐费代理人省','推荐费代理人市','推荐费代理人区',\n",
    "                '推荐费代理人展业地点','推荐费代理人服务网点',\n",
    "                '投保人','投保人证件类型','投保人证件号','投保人电子邮箱','投保人电话',\n",
    "                '与投保人关系','被保人姓名','被保人证件类型','被保人证件号']\n",
    "en_short_col = ['order','order_origin','order_stat','time_order','time_pay','time_cb','pay_way','bf','bf_add',\n",
    "               'channel_src','channel_detail','tgf_rate_A','tgf_rate_B','tgf_A','tgf_B','tgf_tax','tjf_tax','tjf',\n",
    "                'tgf_b1','tgf_b2','money_add',\n",
    "                'time_start','time_end','pcode','pid','pname','pcompany','batch_id','plan',\n",
    "                'order_renew_src','is_self',\n",
    "                'area_service_id','team_leader','team_sale_id','team_sale_name','team_bus_id','team_bus_name',\n",
    "                'ticket_code','ticket_name','ticket_rate','money_top','ticket_value','tgf_X',\n",
    "                'order_origin_uid','uname','uid','ucell',\n",
    "                'uprov','ucity','uarea','area_work','area_service',\n",
    "                'is_insider','ucode','time_join','area_type',\n",
    "                'tj_name','tj_uid','tj_cell','tj_prov','tj_city','tj_area','tj_area_work','tj_area_service',\n",
    "                'tb_name','tb_id_type','tb_id','tb_email','tb_cell',\n",
    "                'relation','bb_name','bb_id_type','bb_id']\n",
    "order_short_col = dict(zip(cn_short_col,en_short_col))"
   ]
  },
  {
   "cell_type": "code",
   "execution_count": 3,
   "metadata": {
    "ExecuteTime": {
     "end_time": "2020-05-25T06:08:19.263537Z",
     "start_time": "2020-05-25T06:08:19.251570Z"
    }
   },
   "outputs": [],
   "source": [
    "cn_life_col = [\n",
    "                '订单号','保单号','订单状态','下单日期','支付日期','承保时间','支付方式','保单金额',\n",
    "                '渠道来源','来源明细','推广费比例A','推广费比例B','推广费A','推广费B','推广费税费','推荐费税费','推荐费',\n",
    "                '起保时间','商品编码','产品ID','产品名称','保险公司','合并订单流水号','缴费期间','是否自保件',\n",
    "                '福利券编码','福利券名称','福利券比例','上限金额','福利固定面值','推广费X',\n",
    "                '创建人ID','推广费代理人','推广费代理人ID','推广费代理人电话',\n",
    "                '推广费代理人省','推广费代理人市','推广费代理人区','推广费代理人展业地点','推广费代理人服务网点',\n",
    "                '是否司内用户','核心代理人编码','核心入职时间','区域中心',\n",
    "                '推荐费代理人姓名','推荐费代理人ID','推荐费代理人电话','推荐费代理人省','推荐费代理人市','推荐费代理人区',\n",
    "                '推荐费代理人展业地点','推荐费代理人服务网点',\n",
    "                '投保人','投保人证件类型','投保人证件号','投保人电子邮箱','投保人电话',\n",
    "                '与投保人关系','被保人姓名','被保人证件类型','被保人证件号',\n",
    "                '服务网点ID','销售团队名称','销服id','销服名称','营业部ID','营业部名称',\n",
    "                '红包金额','推广费b1','推广费b2']\n",
    "en_life_col = ['order','order_origin','order_stat','time_order','time_pay','time_cb','pay_way','bf',\n",
    "               'channel_src','channel_detail','tgf_rate_A','tgf_rate_B','tgf_A','tgf_B','tgf_tax','tjf_tax','tjf',\n",
    "                'time_start','pcode','pid','pname','pcompany','batch_id','plan','is_self',\n",
    "                'ticket_code','ticket_name','ticket_rate','money_top','ticket_value','tgf_X',\n",
    "                'order_origin_uid','uname','uid','ucell',\n",
    "                'uprov','ucity','uarea','area_work','area_service',\n",
    "                'is_insider','ucode','time_join','area_type',\n",
    "                'tj_name','tj_uid','tj_cell','tj_prov','tj_city','tj_area','tj_area_work','tj_area_service',\n",
    "                'tb_name','tb_id_type','tb_id','tb_email','tb_cell',\n",
    "                'relation','bb_name','bb_id_type','bb_id',\n",
    "                'area_service_id','team_leader','team_sale_id','team_sale_name','team_bus_id','team_bus_name',\n",
    "                'money_add','tgf_b1','tgf_b2']\n",
    "order_life_col = dict(zip(cn_life_col,en_life_col))"
   ]
  },
  {
   "cell_type": "code",
   "execution_count": 4,
   "metadata": {
    "ExecuteTime": {
     "end_time": "2020-05-25T06:08:26.127273Z",
     "start_time": "2020-05-25T06:08:26.017500Z"
    }
   },
   "outputs": [],
   "source": [
    "dir_dic   = 'E:\\\\SynologyDrive\\\\dir_dic\\\\'\n",
    "dir_login = 'E:\\\\SynologyDrive\\\\dir_login\\\\'\n",
    "dir_order = 'E:\\\\SynologyDrive\\\\dir_order\\\\'\n",
    "dir_user  = 'E:\\\\SynologyDrive\\\\dir_user\\\\'\n",
    "dir_order_life = 'E:\\\\SynologyDrive\\\\dir_order\\\\order_life\\\\'\n",
    "dir_score = 'E:\\\\SynologyDrive\\\\dir_score\\\\'\n",
    "dir_sup = 'E:\\\\SynologyDrive\\\\data_support_pro\\\\'\n",
    "dir_report = 'E:\\\\SynologyDrive\\\\日报明细数据\\\\'\n",
    "dir_download = 'D:\\\\User\\\\Downloads\\\\'\n",
    "\n",
    "date_bus = pd.read_excel(dir_dic  + '03_time_index.xlsx',parse_dates=['date_pay'])\n",
    "d1= list(date_bus.date_pay)\n",
    "d2 = list(date_bus.mon_business)\n",
    "date_bus = dict(zip(d1,d2))"
   ]
  },
  {
   "cell_type": "markdown",
   "metadata": {},
   "source": [
    "### 今年累积订单"
   ]
  },
  {
   "cell_type": "code",
   "execution_count": 5,
   "metadata": {
    "ExecuteTime": {
     "end_time": "2020-05-25T06:08:44.564888Z",
     "start_time": "2020-05-25T06:08:28.995506Z"
    },
    "scrolled": false
   },
   "outputs": [
    {
     "data": {
      "text/html": [
       "<div>\n",
       "<style scoped>\n",
       "    .dataframe tbody tr th:only-of-type {\n",
       "        vertical-align: middle;\n",
       "    }\n",
       "\n",
       "    .dataframe tbody tr th {\n",
       "        vertical-align: top;\n",
       "    }\n",
       "\n",
       "    .dataframe thead th {\n",
       "        text-align: right;\n",
       "    }\n",
       "</style>\n",
       "<table border=\"1\" class=\"dataframe\">\n",
       "  <thead>\n",
       "    <tr style=\"text-align: right;\">\n",
       "      <th></th>\n",
       "      <th>date_pay</th>\n",
       "      <th>bf</th>\n",
       "    </tr>\n",
       "  </thead>\n",
       "  <tbody>\n",
       "    <tr>\n",
       "      <th>143</th>\n",
       "      <td>2020-05-17</td>\n",
       "      <td>1106044.36</td>\n",
       "    </tr>\n",
       "    <tr>\n",
       "      <th>144</th>\n",
       "      <td>2020-05-18</td>\n",
       "      <td>1470095.30</td>\n",
       "    </tr>\n",
       "    <tr>\n",
       "      <th>145</th>\n",
       "      <td>2020-05-19</td>\n",
       "      <td>1485886.14</td>\n",
       "    </tr>\n",
       "    <tr>\n",
       "      <th>146</th>\n",
       "      <td>2020-05-20</td>\n",
       "      <td>1874182.58</td>\n",
       "    </tr>\n",
       "    <tr>\n",
       "      <th>147</th>\n",
       "      <td>2020-05-21</td>\n",
       "      <td>1415569.52</td>\n",
       "    </tr>\n",
       "  </tbody>\n",
       "</table>\n",
       "</div>"
      ],
      "text/plain": [
       "      date_pay          bf\n",
       "143 2020-05-17  1106044.36\n",
       "144 2020-05-18  1470095.30\n",
       "145 2020-05-19  1485886.14\n",
       "146 2020-05-20  1874182.58\n",
       "147 2020-05-21  1415569.52"
      ]
     },
     "execution_count": 5,
     "metadata": {},
     "output_type": "execute_result"
    }
   ],
   "source": [
    "## 修改-日期\n",
    "order_2020 = pd.read_csv('D:\\\\User\\\\Desktop\\\\order_info\\\\order_detail_2020_0521.csv',encoding='utf-8',parse_dates=['date_pay'],low_memory=False)\n",
    "order_2020.groupby('date_pay').bf.sum().reset_index().tail()"
   ]
  },
  {
   "cell_type": "markdown",
   "metadata": {},
   "source": [
    "### 今日订单"
   ]
  },
  {
   "cell_type": "code",
   "execution_count": 6,
   "metadata": {
    "ExecuteTime": {
     "end_time": "2020-05-25T06:08:47.702468Z",
     "start_time": "2020-05-25T06:08:47.666565Z"
    }
   },
   "outputs": [
    {
     "name": "stdout",
     "output_type": "stream",
     "text": [
      "1_finish\n",
      "2_finish\n"
     ]
    }
   ],
   "source": [
    "order_file_old_1  = dir_download + '非车险订单管理1.xlsx'\n",
    "order_file_old_2 = dir_download + '定期寿订单管理.xlsx'\n",
    "order_file_new_1 = dir_order + '非车险订单管理.xlsx'\n",
    "order_file_new_2 = dir_order + '定期寿订单管理.xlsx'\n",
    "\n",
    "shutil.copyfile(order_file_old_1,order_file_new_1)\n",
    "print('1_finish')\n",
    "shutil.copyfile(order_file_old_2,order_file_new_2)\n",
    "print('2_finish')"
   ]
  },
  {
   "cell_type": "code",
   "execution_count": 7,
   "metadata": {
    "ExecuteTime": {
     "end_time": "2020-05-25T06:09:01.257308Z",
     "start_time": "2020-05-25T06:08:49.108707Z"
    }
   },
   "outputs": [],
   "source": [
    "order_short_day = pd.read_excel(order_file_new_1,parse_dates=['支付日期'])\n",
    "order_life_day = pd.read_excel(order_file_new_2,parse_dates=['支付日期'])\n",
    "order_short_day.rename(columns=order_short_col,inplace=True)\n",
    "order_life_day.rename(columns=order_life_col,inplace=True)\n",
    "order_life_day['time_end'] = np.nan\n",
    "order_life_day['order_renew_src'] = np.nan\n",
    "order_short_day['date_pay'] = pd.to_datetime(order_short_day.time_pay.dt.strftime('%Y-%m-%d'))\n",
    "order_life_day['date_pay'] = pd.to_datetime(order_life_day.time_pay.dt.strftime('%Y-%m-%d'))"
   ]
  },
  {
   "cell_type": "markdown",
   "metadata": {},
   "source": [
    "### 数据整合"
   ]
  },
  {
   "cell_type": "code",
   "execution_count": 8,
   "metadata": {
    "ExecuteTime": {
     "end_time": "2020-05-25T06:09:03.065403Z",
     "start_time": "2020-05-25T06:09:01.258209Z"
    }
   },
   "outputs": [],
   "source": [
    "en_short_col = ['order','order_origin','order_stat','time_order','time_pay','time_cb',\n",
    "                'time_start','time_end','pcode','pid','pname','pcompany','plan',\n",
    "                'pay_way','channel_src','channel_detail','batch_id','order_renew_src','is_self',\n",
    "                'bf','tgf_rate_A','tgf_rate_B','tgf_A','tgf_B','tgf_tax','tjf_tax','tjf','tgf_b1','tgf_b2','money_add',\n",
    "                'ticket_code','ticket_name','ticket_rate','money_top','ticket_value','tgf_X',\n",
    "                'uid','order_origin_uid','uname','ucell','uprov','ucity','uarea',\n",
    "                'is_insider','ucode','time_join','area_type','area_work',\n",
    "                'area_service_id','area_service','team_sale_id','team_sale_name','team_bus_id','team_bus_name',\n",
    "                'tj_name','tj_uid','tj_cell','tj_prov','tj_city','tj_area','tj_area_work','tj_area_service',\n",
    "                'tb_name','tb_id_type','tb_id','tb_email','tb_cell',\n",
    "                'relation','bb_name','bb_id_type','bb_id']\n",
    "en_short_col.append('date_pay')\n",
    "# order_sum = pd.concat([order_life_day[en_short_col],order_short_day[en_short_col]])\n",
    "order_sum = pd.concat([order_2020[en_short_col],order_life_day[en_short_col],order_short_day[en_short_col]])\n",
    "# del order_2019\n",
    "# order_sum = pd.concat([order_2019[en_short_col],order_life_day[en_short_col]])\n",
    "# order_sum = pd.concat([order_life_day[en_short_col],order_short_day[en_short_col]])"
   ]
  },
  {
   "cell_type": "code",
   "execution_count": 9,
   "metadata": {
    "ExecuteTime": {
     "end_time": "2020-05-25T06:09:03.797417Z",
     "start_time": "2020-05-25T06:09:03.067373Z"
    }
   },
   "outputs": [
    {
     "data": {
      "text/html": [
       "<div>\n",
       "<style scoped>\n",
       "    .dataframe tbody tr th:only-of-type {\n",
       "        vertical-align: middle;\n",
       "    }\n",
       "\n",
       "    .dataframe tbody tr th {\n",
       "        vertical-align: top;\n",
       "    }\n",
       "\n",
       "    .dataframe thead th {\n",
       "        text-align: right;\n",
       "    }\n",
       "</style>\n",
       "<table border=\"1\" class=\"dataframe\">\n",
       "  <thead>\n",
       "    <tr style=\"text-align: right;\">\n",
       "      <th></th>\n",
       "      <th>date_pay</th>\n",
       "      <th>bf</th>\n",
       "    </tr>\n",
       "  </thead>\n",
       "  <tbody>\n",
       "    <tr>\n",
       "      <th>146</th>\n",
       "      <td>2020-05-20</td>\n",
       "      <td>1874182.58</td>\n",
       "    </tr>\n",
       "    <tr>\n",
       "      <th>147</th>\n",
       "      <td>2020-05-21</td>\n",
       "      <td>1415569.52</td>\n",
       "    </tr>\n",
       "    <tr>\n",
       "      <th>148</th>\n",
       "      <td>2020-05-22</td>\n",
       "      <td>1427480.14</td>\n",
       "    </tr>\n",
       "    <tr>\n",
       "      <th>149</th>\n",
       "      <td>2020-05-23</td>\n",
       "      <td>1137187.66</td>\n",
       "    </tr>\n",
       "    <tr>\n",
       "      <th>150</th>\n",
       "      <td>2020-05-24</td>\n",
       "      <td>1094152.31</td>\n",
       "    </tr>\n",
       "  </tbody>\n",
       "</table>\n",
       "</div>"
      ],
      "text/plain": [
       "      date_pay          bf\n",
       "146 2020-05-20  1874182.58\n",
       "147 2020-05-21  1415569.52\n",
       "148 2020-05-22  1427480.14\n",
       "149 2020-05-23  1137187.66\n",
       "150 2020-05-24  1094152.31"
      ]
     },
     "execution_count": 9,
     "metadata": {},
     "output_type": "execute_result"
    }
   ],
   "source": [
    "order_sum.groupby('date_pay').bf.sum().reset_index().tail()"
   ]
  },
  {
   "cell_type": "code",
   "execution_count": 10,
   "metadata": {
    "ExecuteTime": {
     "end_time": "2020-05-25T06:09:28.412683Z",
     "start_time": "2020-05-25T06:09:03.799412Z"
    }
   },
   "outputs": [],
   "source": [
    "## 修改-日期\n",
    "order_sum.to_csv('D:\\\\User\\\\Desktop\\\\order_info\\\\order_detail_2020_0524.csv',encoding='utf-8',index=0)"
   ]
  }
 ],
 "metadata": {
  "hide_input": false,
  "kernelspec": {
   "display_name": "Python 3",
   "language": "python",
   "name": "python3"
  },
  "language_info": {
   "codemirror_mode": {
    "name": "ipython",
    "version": 3
   },
   "file_extension": ".py",
   "mimetype": "text/x-python",
   "name": "python",
   "nbconvert_exporter": "python",
   "pygments_lexer": "ipython3",
   "version": "3.7.6"
  },
  "toc": {
   "base_numbering": 1,
   "nav_menu": {},
   "number_sections": true,
   "sideBar": true,
   "skip_h1_title": false,
   "title_cell": "Table of Contents",
   "title_sidebar": "Contents",
   "toc_cell": false,
   "toc_position": {
    "height": "896.641px",
    "left": "0px",
    "top": "110px",
    "width": "337.969px"
   },
   "toc_section_display": true,
   "toc_window_display": true
  }
 },
 "nbformat": 4,
 "nbformat_minor": 2
}
