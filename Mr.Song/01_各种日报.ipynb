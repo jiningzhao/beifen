{
 "cells": [
  {
   "cell_type": "code",
   "execution_count": 72,
   "metadata": {
    "ExecuteTime": {
     "end_time": "2020-05-22T08:25:19.607879Z",
     "start_time": "2020-05-22T08:25:19.172014Z"
    }
   },
   "outputs": [],
   "source": [
    "import pandas as pd\n",
    "import numpy as  np\n",
    "import matplotlib.pyplot as plt\n",
    "import seaborn as sns\n",
    "import gc\n",
    "import os\n",
    "import shutil\n",
    "import requests\n",
    "import datetime\n",
    "\n",
    "import matplotlib.pyplot as plt\n",
    "import matplotlib as mpl \n",
    "from matplotlib.pyplot import savefig\n",
    "import time\n",
    "\n",
    "from openpyxl import load_workbook\n",
    "from openpyxl.utils.dataframe import dataframe_to_rows\n",
    "mpl.rcParams['font.sans-serif'] = ['SimHei']  # 指定默认字体\n",
    "mpl.rcParams['axes.unicode_minus'] = False  # 解决保存图像是负号'-'显示为方块的问题\n",
    "\n",
    "%matplotlib inline"
   ]
  },
  {
   "cell_type": "markdown",
   "metadata": {},
   "source": [
    "## 数据准备"
   ]
  },
  {
   "cell_type": "markdown",
   "metadata": {},
   "source": [
    "### 云文件目录"
   ]
  },
  {
   "cell_type": "code",
   "execution_count": 73,
   "metadata": {
    "ExecuteTime": {
     "end_time": "2020-05-22T08:59:06.677680Z",
     "start_time": "2020-05-22T08:59:06.672694Z"
    }
   },
   "outputs": [],
   "source": [
    "dir_dic   = 'E:\\\\SynologyDrive\\\\dir_dic\\\\'\n",
    "dir_login = 'E:\\\\SynologyDrive\\\\dir_login\\\\'\n",
    "dir_order = 'E:\\\\SynologyDrive\\\\dir_order\\\\'\n",
    "dir_user  = 'E:\\\\SynologyDrive\\\\dir_user\\\\'\n",
    "dir_order_life = 'E:\\\\SynologyDrive\\\\dir_order\\\\order_life\\\\'\n",
    "dir_score = 'E:\\\\SynologyDrive\\\\dir_score\\\\'\n",
    "dir_sup = 'E:\\\\SynologyDrive\\\\data_support_pro\\\\'\n",
    "dir_report = 'E:\\\\SynologyDrive\\\\日报明细数据\\\\'\n",
    "dir_down = 'D:\\\\User\\\\Downloads\\\\'\n",
    "dir_des = 'D:\\\\User\\Desktop\\\\'"
   ]
  },
  {
   "cell_type": "code",
   "execution_count": 74,
   "metadata": {
    "ExecuteTime": {
     "end_time": "2020-05-22T08:59:22.582172Z",
     "start_time": "2020-05-22T08:59:07.756827Z"
    }
   },
   "outputs": [],
   "source": [
    "date_bus = pd.read_excel(dir_dic  + '03_time_index.xlsx',parse_dates=['date_pay'])\n",
    "area_name = pd.read_excel(dir_dic +  '00_用户区域中心对照表.xlsx')\n",
    "area_target = pd.read_excel(dir_dic + '01_2020年各机构月度目标表.xlsx')\n",
    "ptype = pd.read_excel(dir_dic + '04_产品映射表.xlsx')\n",
    "mon_quart = pd.read_excel(dir_dic  + '08_月份_季度映射表.xlsx')\n",
    "mon_sdate_map = pd.read_excel(dir_dic + '07_月份_当月开始时间映射表.xlsx')\n",
    "covar = pd.read_excel(dir_dic + '11_保额字典.xlsx')\n",
    "order_renew = pd.read_excel(dir_dic + '10_order_renew_new_core.xlsx')"
   ]
  },
  {
   "cell_type": "code",
   "execution_count": 75,
   "metadata": {
    "ExecuteTime": {
     "end_time": "2020-05-22T08:59:22.630072Z",
     "start_time": "2020-05-22T08:59:22.583169Z"
    }
   },
   "outputs": [],
   "source": [
    "d1= list(date_bus.date_pay)\n",
    "d2 = list(date_bus.mon_business)\n",
    "date_bus = dict(zip(d1,d2))\n",
    "\n",
    "\n",
    "d1 = list(mon_sdate_map.mon)\n",
    "d2 = list(mon_sdate_map.sdate)\n",
    "mon_sdate_map= dict(zip(d1,d2))\n",
    "\n",
    "d1 = list(mon_quart.mon)\n",
    "d2 = list(mon_quart.q)\n",
    "mon_quart = dict(zip(d1,d2))\n",
    "\n",
    "def day_date_descision(model,start,end):\n",
    "    start  =pd.to_datetime(start)\n",
    "    end  =pd.to_datetime(end)\n",
    "    if model == 1:\n",
    "        day_date_start = start\n",
    "        day_date_end = start\n",
    "    else:\n",
    "        day_date_start = start\n",
    "        day_date_end = end\n",
    "    return day_date_start,day_date_end\n",
    "def getAge(x):\n",
    "    try :\n",
    "        bornYear = int(x[6:10])\n",
    "        age = 2020-bornYear\n",
    "        return age\n",
    "    except(TypeError,ValueError):\n",
    "        return -1\n",
    "def getGender(x):\n",
    "    try :\n",
    "        gender = int(x[-2:-1])\n",
    "        if gender %2 ==1:\n",
    "            return '男'\n",
    "        else:\n",
    "            return '女'\n",
    "    except(TypeError,ValueError):\n",
    "        return '未知'"
   ]
  },
  {
   "cell_type": "markdown",
   "metadata": {},
   "source": [
    "## 临时数据"
   ]
  },
  {
   "cell_type": "code",
   "execution_count": 150,
   "metadata": {
    "ExecuteTime": {
     "end_time": "2020-05-22T10:59:01.355147Z",
     "start_time": "2020-05-22T10:59:00.868448Z"
    }
   },
   "outputs": [],
   "source": [
    "col = ['pname','date_pay','bf','uid','is_insider','order']\n",
    "df = pd.concat([order_20[col],order_2019_need[col]])"
   ]
  },
  {
   "cell_type": "code",
   "execution_count": 151,
   "metadata": {
    "ExecuteTime": {
     "end_time": "2020-05-22T10:59:02.431243Z",
     "start_time": "2020-05-22T10:59:02.275661Z"
    }
   },
   "outputs": [],
   "source": [
    "df['mon'] = df.date_pay.map(date_bus)"
   ]
  },
  {
   "cell_type": "code",
   "execution_count": 152,
   "metadata": {
    "ExecuteTime": {
     "end_time": "2020-05-22T10:59:09.570164Z",
     "start_time": "2020-05-22T10:59:08.279643Z"
    }
   },
   "outputs": [],
   "source": [
    "df['is_renew'] = np.nan\n",
    "df.loc[df.order.isin(order_renew.order),'is_renew'] ='续购'\n",
    "df.is_renew.fillna('新单',inplace=True)"
   ]
  },
  {
   "cell_type": "code",
   "execution_count": 141,
   "metadata": {
    "ExecuteTime": {
     "end_time": "2020-05-22T10:54:46.201915Z",
     "start_time": "2020-05-22T10:54:42.369187Z"
    }
   },
   "outputs": [
    {
     "data": {
      "text/html": [
       "<div>\n",
       "<style scoped>\n",
       "    .dataframe tbody tr th:only-of-type {\n",
       "        vertical-align: middle;\n",
       "    }\n",
       "\n",
       "    .dataframe tbody tr th {\n",
       "        vertical-align: top;\n",
       "    }\n",
       "\n",
       "    .dataframe thead th {\n",
       "        text-align: right;\n",
       "    }\n",
       "</style>\n",
       "<table border=\"1\" class=\"dataframe\">\n",
       "  <thead>\n",
       "    <tr style=\"text-align: right;\">\n",
       "      <th>is_insider</th>\n",
       "      <th>否</th>\n",
       "      <th>是</th>\n",
       "    </tr>\n",
       "    <tr>\n",
       "      <th>mon</th>\n",
       "      <th></th>\n",
       "      <th></th>\n",
       "    </tr>\n",
       "  </thead>\n",
       "  <tbody>\n",
       "    <tr>\n",
       "      <th>2019-01</th>\n",
       "      <td>9074</td>\n",
       "      <td>14270</td>\n",
       "    </tr>\n",
       "    <tr>\n",
       "      <th>2019-02</th>\n",
       "      <td>7887</td>\n",
       "      <td>13684</td>\n",
       "    </tr>\n",
       "    <tr>\n",
       "      <th>2019-03</th>\n",
       "      <td>10688</td>\n",
       "      <td>15600</td>\n",
       "    </tr>\n",
       "    <tr>\n",
       "      <th>2019-04</th>\n",
       "      <td>10642</td>\n",
       "      <td>15283</td>\n",
       "    </tr>\n",
       "    <tr>\n",
       "      <th>2019-05</th>\n",
       "      <td>9773</td>\n",
       "      <td>14679</td>\n",
       "    </tr>\n",
       "    <tr>\n",
       "      <th>2019-06</th>\n",
       "      <td>10159</td>\n",
       "      <td>14855</td>\n",
       "    </tr>\n",
       "    <tr>\n",
       "      <th>2019-07</th>\n",
       "      <td>9744</td>\n",
       "      <td>13707</td>\n",
       "    </tr>\n",
       "    <tr>\n",
       "      <th>2019-08</th>\n",
       "      <td>10366</td>\n",
       "      <td>14269</td>\n",
       "    </tr>\n",
       "    <tr>\n",
       "      <th>2019-09</th>\n",
       "      <td>12490</td>\n",
       "      <td>16004</td>\n",
       "    </tr>\n",
       "    <tr>\n",
       "      <th>2019-10</th>\n",
       "      <td>9424</td>\n",
       "      <td>13301</td>\n",
       "    </tr>\n",
       "    <tr>\n",
       "      <th>2019-11</th>\n",
       "      <td>9351</td>\n",
       "      <td>13181</td>\n",
       "    </tr>\n",
       "    <tr>\n",
       "      <th>2019-12</th>\n",
       "      <td>8710</td>\n",
       "      <td>12806</td>\n",
       "    </tr>\n",
       "    <tr>\n",
       "      <th>2020-01</th>\n",
       "      <td>8798</td>\n",
       "      <td>13276</td>\n",
       "    </tr>\n",
       "    <tr>\n",
       "      <th>2020-02</th>\n",
       "      <td>6961</td>\n",
       "      <td>14296</td>\n",
       "    </tr>\n",
       "    <tr>\n",
       "      <th>2020-03</th>\n",
       "      <td>8585</td>\n",
       "      <td>15064</td>\n",
       "    </tr>\n",
       "    <tr>\n",
       "      <th>2020-04</th>\n",
       "      <td>9593</td>\n",
       "      <td>13456</td>\n",
       "    </tr>\n",
       "    <tr>\n",
       "      <th>2020-05</th>\n",
       "      <td>8244</td>\n",
       "      <td>12870</td>\n",
       "    </tr>\n",
       "  </tbody>\n",
       "</table>\n",
       "</div>"
      ],
      "text/plain": [
       "is_insider      否      是\n",
       "mon                     \n",
       "2019-01      9074  14270\n",
       "2019-02      7887  13684\n",
       "2019-03     10688  15600\n",
       "2019-04     10642  15283\n",
       "2019-05      9773  14679\n",
       "2019-06     10159  14855\n",
       "2019-07      9744  13707\n",
       "2019-08     10366  14269\n",
       "2019-09     12490  16004\n",
       "2019-10      9424  13301\n",
       "2019-11      9351  13181\n",
       "2019-12      8710  12806\n",
       "2020-01      8798  13276\n",
       "2020-02      6961  14296\n",
       "2020-03      8585  15064\n",
       "2020-04      9593  13456\n",
       "2020-05      8244  12870"
      ]
     },
     "execution_count": 141,
     "metadata": {},
     "output_type": "execute_result"
    }
   ],
   "source": [
    "df.groupby(['mon','is_insider']).uid.nunique().reset_index().pivot('mon','is_insider','uid')"
   ]
  },
  {
   "cell_type": "code",
   "execution_count": 142,
   "metadata": {
    "ExecuteTime": {
     "end_time": "2020-05-22T10:56:34.993339Z",
     "start_time": "2020-05-22T10:56:34.983344Z"
    }
   },
   "outputs": [],
   "source": [
    "pt = pd.read_clipboard()"
   ]
  },
  {
   "cell_type": "code",
   "execution_count": 153,
   "metadata": {
    "ExecuteTime": {
     "end_time": "2020-05-22T10:59:13.945501Z",
     "start_time": "2020-05-22T10:59:12.873336Z"
    }
   },
   "outputs": [],
   "source": [
    "res = pd.merge(df,pt,how='left',on='pname')"
   ]
  },
  {
   "cell_type": "code",
   "execution_count": 161,
   "metadata": {
    "ExecuteTime": {
     "end_time": "2020-05-23T01:55:59.241930Z",
     "start_time": "2020-05-23T01:55:58.225647Z"
    }
   },
   "outputs": [],
   "source": [
    "res.groupby(['mon','plabel_L2','pname','is_renew']).bf.sum().reset_index().to_excel('12.xlsx')"
   ]
  },
  {
   "cell_type": "markdown",
   "metadata": {},
   "source": [
    "### 用户数据"
   ]
  },
  {
   "cell_type": "code",
   "execution_count": 24,
   "metadata": {
    "ExecuteTime": {
     "end_time": "2020-01-13T06:38:36.291750Z",
     "start_time": "2020-01-13T06:37:57.878480Z"
    }
   },
   "outputs": [],
   "source": [
    "user_info_all = pd.read_excel('D:\\\\User\\\\Desktop\\\\user_info\\\\sensor\\\\user_info_20191226.xlsx')"
   ]
  },
  {
   "cell_type": "code",
   "execution_count": 44,
   "metadata": {
    "ExecuteTime": {
     "end_time": "2020-05-14T02:52:50.364718Z",
     "start_time": "2020-05-14T02:52:48.675235Z"
    }
   },
   "outputs": [],
   "source": [
    "user_all = pd.read_csv(dir_user + 'user_info_online_20200429.csv',encoding='utf-8',low_memory=False)"
   ]
  },
  {
   "cell_type": "code",
   "execution_count": 35,
   "metadata": {
    "ExecuteTime": {
     "end_time": "2020-05-11T06:20:20.394834Z",
     "start_time": "2020-05-11T06:20:10.072213Z"
    }
   },
   "outputs": [],
   "source": [
    "user_01 = pd.read_excel(dir_down + '用户管理 (21).xlsx')\n",
    "user_02 = pd.read_excel(dir_down + '用户管理 (22).xlsx')\n",
    "user = pd.concat([user_01,user_02])"
   ]
  },
  {
   "cell_type": "code",
   "execution_count": 37,
   "metadata": {
    "ExecuteTime": {
     "end_time": "2020-05-11T06:22:30.317080Z",
     "start_time": "2020-05-11T06:22:30.277160Z"
    }
   },
   "outputs": [],
   "source": [
    "user.区域中心.replace('大童|区域中心','',regex=True,inplace=True)"
   ]
  },
  {
   "cell_type": "code",
   "execution_count": 39,
   "metadata": {
    "ExecuteTime": {
     "end_time": "2020-05-11T07:31:04.507783Z",
     "start_time": "2020-05-11T07:31:00.111262Z"
    }
   },
   "outputs": [],
   "source": [
    "user[['用户ID','代理人编码','区域中心']].to_excel('12.xlsx')"
   ]
  },
  {
   "cell_type": "code",
   "execution_count": 105,
   "metadata": {
    "ExecuteTime": {
     "end_time": "2020-05-22T05:56:42.294839Z",
     "start_time": "2020-05-22T05:55:53.251021Z"
    }
   },
   "outputs": [],
   "source": [
    "user_info = pd.read_excel(dir_user + 'user_info_offline_20200426.xlsx',header=2)"
   ]
  },
  {
   "cell_type": "markdown",
   "metadata": {},
   "source": [
    "### 历史数据"
   ]
  },
  {
   "cell_type": "code",
   "execution_count": 4,
   "metadata": {
    "ExecuteTime": {
     "end_time": "2020-05-09T02:03:40.697582Z",
     "start_time": "2020-05-09T02:03:11.483709Z"
    }
   },
   "outputs": [],
   "source": [
    "order_2018 = pd.read_csv(dir_order + 'order_2018.csv',low_memory=False,parse_dates=['date_pay'])\n",
    "# order_2017 = pd.read_csv(dir_order + 'order_year\\\\csv\\\\order_2017.csv',low_memory=False,parse_dates=['date_pay'])"
   ]
  },
  {
   "cell_type": "code",
   "execution_count": 5,
   "metadata": {
    "ExecuteTime": {
     "end_time": "2020-05-24T10:00:09.815223Z",
     "start_time": "2020-05-24T09:59:01.895715Z"
    },
    "scrolled": true
   },
   "outputs": [],
   "source": [
    "order_2019 = pd.read_csv(dir_order + 'order_detail_2019_1226_1226.csv',encoding='utf-8',low_memory=False,parse_dates=['date_pay'])\n",
    "ct_order = pd.read_excel(dir_order + 'ct_order_0426.xlsx')  \n",
    "ct_order_list = list(ct_order.order.unique())\n",
    "order_stat_need = ['已生效','待生效','已发货' '已收货', '提取NDA','核保中']\n",
    "order_2019_need = order_2019.loc[ (order_2019.order_stat.isin(order_stat_need))\n",
    "                                & (order_2019.order.isin(ct_order_list)==False),:].copy()"
   ]
  },
  {
   "cell_type": "code",
   "execution_count": 22,
   "metadata": {
    "ExecuteTime": {
     "end_time": "2020-05-22T08:59:44.233331Z",
     "start_time": "2020-05-22T08:59:44.131603Z"
    }
   },
   "outputs": [],
   "source": [
    "order_2019_need['mon'] = order_2019_need.date_pay.map(date_bus)"
   ]
  },
  {
   "cell_type": "markdown",
   "metadata": {},
   "source": [
    "### 今日数据"
   ]
  },
  {
   "cell_type": "code",
   "execution_count": 76,
   "metadata": {
    "ExecuteTime": {
     "end_time": "2020-05-22T09:00:46.933720Z",
     "start_time": "2020-05-22T09:00:31.631620Z"
    }
   },
   "outputs": [
    {
     "name": "stdout",
     "output_type": "stream",
     "text": [
      "Wall time: 15.6 s\n"
     ]
    }
   ],
   "source": [
    "%%time\n",
    "order_2020_all = pd.read_csv('D:\\\\User\\\\Desktop\\\\order_info\\\\order_detail_2020_0524.csv',encoding='utf-8',low_memory=False,parse_dates=['date_pay'])"
   ]
  },
  {
   "cell_type": "code",
   "execution_count": 77,
   "metadata": {
    "ExecuteTime": {
     "end_time": "2020-05-22T09:00:48.328021Z",
     "start_time": "2020-05-22T09:00:46.935726Z"
    },
    "scrolled": true
   },
   "outputs": [
    {
     "data": {
      "text/html": [
       "<div>\n",
       "<style scoped>\n",
       "    .dataframe tbody tr th:only-of-type {\n",
       "        vertical-align: middle;\n",
       "    }\n",
       "\n",
       "    .dataframe tbody tr th {\n",
       "        vertical-align: top;\n",
       "    }\n",
       "\n",
       "    .dataframe thead th {\n",
       "        text-align: right;\n",
       "    }\n",
       "</style>\n",
       "<table border=\"1\" class=\"dataframe\">\n",
       "  <thead>\n",
       "    <tr style=\"text-align: right;\">\n",
       "      <th></th>\n",
       "      <th>date_pay</th>\n",
       "      <th>bf</th>\n",
       "    </tr>\n",
       "  </thead>\n",
       "  <tbody>\n",
       "    <tr>\n",
       "      <th>146</th>\n",
       "      <td>2020-05-20</td>\n",
       "      <td>1860189.58</td>\n",
       "    </tr>\n",
       "    <tr>\n",
       "      <th>147</th>\n",
       "      <td>2020-05-21</td>\n",
       "      <td>1409078.52</td>\n",
       "    </tr>\n",
       "    <tr>\n",
       "      <th>148</th>\n",
       "      <td>2020-05-22</td>\n",
       "      <td>1396209.14</td>\n",
       "    </tr>\n",
       "    <tr>\n",
       "      <th>149</th>\n",
       "      <td>2020-05-23</td>\n",
       "      <td>1129973.66</td>\n",
       "    </tr>\n",
       "    <tr>\n",
       "      <th>150</th>\n",
       "      <td>2020-05-24</td>\n",
       "      <td>1072586.31</td>\n",
       "    </tr>\n",
       "  </tbody>\n",
       "</table>\n",
       "</div>"
      ],
      "text/plain": [
       "      date_pay          bf\n",
       "146 2020-05-20  1860189.58\n",
       "147 2020-05-21  1409078.52\n",
       "148 2020-05-22  1396209.14\n",
       "149 2020-05-23  1129973.66\n",
       "150 2020-05-24  1072586.31"
      ]
     },
     "execution_count": 77,
     "metadata": {},
     "output_type": "execute_result"
    }
   ],
   "source": [
    "order_stat_need = ['已生效','待生效','已发货']\n",
    "order_sum = order_2020_all.loc[(order_2020_all.order_stat.isin(order_stat_need)),:].copy()\n",
    "order_sum['mon'] = order_sum.date_pay.map(date_bus)\n",
    "order_sum.groupby('date_pay').bf.sum().reset_index().tail()"
   ]
  },
  {
   "cell_type": "markdown",
   "metadata": {},
   "source": [
    "### BI平台业务数据"
   ]
  },
  {
   "cell_type": "code",
   "execution_count": 88,
   "metadata": {
    "ExecuteTime": {
     "end_time": "2020-05-22T09:39:06.750395Z",
     "start_time": "2020-05-22T09:37:23.554213Z"
    }
   },
   "outputs": [],
   "source": [
    "df6 = pd.read_excel(dir_down + '互联网业务清单 (6).xlsx',header = 2)\n",
    "df5 = pd.read_excel(dir_down + '互联网业务清单 (5).xlsx',header = 2)\n",
    "df4 = pd.read_excel(dir_down + '互联网业务清单 (4).xlsx',header = 2)\n",
    "df3 = pd.read_excel(dir_down + '互联网业务清单 (3).xlsx',header = 2)\n",
    "df2 = pd.read_excel(dir_down + '互联网业务清单 (2).xlsx',header = 2)\n",
    "df7 = pd.read_excel(dir_down + '互联网业务清单 (7).xlsx',header = 2)\n",
    "df9 = pd.read_excel(dir_down + '互联网业务清单 (9).xlsx',header = 2)\n",
    "df10 = pd.read_excel(dir_down + '互联网业务清单 (10).xlsx',header = 2)\n",
    "df11 = pd.read_excel(dir_down + '互联网业务清单 (11).xlsx',header = 2)\n",
    "df12 = pd.read_excel(dir_down + '网销业务清单.xlsx',header = 2)"
   ]
  },
  {
   "cell_type": "code",
   "execution_count": 89,
   "metadata": {
    "ExecuteTime": {
     "end_time": "2020-05-22T09:39:08.473761Z",
     "start_time": "2020-05-22T09:39:06.751365Z"
    }
   },
   "outputs": [],
   "source": [
    "df = pd.concat([df2,df3,df4,df5,df6,df7,df9,df10,df11,df12]).drop_duplicates()"
   ]
  },
  {
   "cell_type": "code",
   "execution_count": 90,
   "metadata": {
    "ExecuteTime": {
     "end_time": "2020-05-22T09:39:08.571499Z",
     "start_time": "2020-05-22T09:39:08.474758Z"
    }
   },
   "outputs": [],
   "source": [
    "df.rename(columns = {'支付日期':'time_pay','保费':'bf','产品名称':'pname','区域中心':'area_type','核心编码':'ucode',\n",
    "                     '缴费年期':'year_pay','保障期间':'year_protect','订单号':'order'},inplace=True)"
   ]
  },
  {
   "cell_type": "code",
   "execution_count": 91,
   "metadata": {
    "ExecuteTime": {
     "end_time": "2020-05-22T09:39:09.145963Z",
     "start_time": "2020-05-22T09:39:08.573495Z"
    }
   },
   "outputs": [],
   "source": [
    "df.order.replace('TW|T','',inplace=True,regex=True)"
   ]
  },
  {
   "cell_type": "code",
   "execution_count": null,
   "metadata": {},
   "outputs": [],
   "source": []
  },
  {
   "cell_type": "code",
   "execution_count": 92,
   "metadata": {
    "ExecuteTime": {
     "end_time": "2020-05-22T09:39:47.841570Z",
     "start_time": "2020-05-22T09:39:09.146961Z"
    }
   },
   "outputs": [
    {
     "ename": "ParserError",
     "evalue": "Unknown string format: 支付日期",
     "output_type": "error",
     "traceback": [
      "\u001b[1;31m---------------------------------------------------------------------------\u001b[0m",
      "\u001b[1;31mTypeError\u001b[0m                                 Traceback (most recent call last)",
      "\u001b[1;32mC:\\ProgramData\\Anaconda3\\lib\\site-packages\\pandas\\core\\arrays\\datetimes.py\u001b[0m in \u001b[0;36mobjects_to_datetime64ns\u001b[1;34m(data, dayfirst, yearfirst, utc, errors, require_iso8601, allow_object)\u001b[0m\n\u001b[0;32m   1855\u001b[0m         \u001b[1;32mtry\u001b[0m\u001b[1;33m:\u001b[0m\u001b[1;33m\u001b[0m\u001b[1;33m\u001b[0m\u001b[0m\n\u001b[1;32m-> 1856\u001b[1;33m             \u001b[0mvalues\u001b[0m\u001b[1;33m,\u001b[0m \u001b[0mtz_parsed\u001b[0m \u001b[1;33m=\u001b[0m \u001b[0mconversion\u001b[0m\u001b[1;33m.\u001b[0m\u001b[0mdatetime_to_datetime64\u001b[0m\u001b[1;33m(\u001b[0m\u001b[0mdata\u001b[0m\u001b[1;33m)\u001b[0m\u001b[1;33m\u001b[0m\u001b[1;33m\u001b[0m\u001b[0m\n\u001b[0m\u001b[0;32m   1857\u001b[0m             \u001b[1;31m# If tzaware, these values represent unix timestamps, so we\u001b[0m\u001b[1;33m\u001b[0m\u001b[1;33m\u001b[0m\u001b[1;33m\u001b[0m\u001b[0m\n",
      "\u001b[1;32mpandas\\_libs\\tslibs\\conversion.pyx\u001b[0m in \u001b[0;36mpandas._libs.tslibs.conversion.datetime_to_datetime64\u001b[1;34m()\u001b[0m\n",
      "\u001b[1;31mTypeError\u001b[0m: Unrecognized value type: <class 'str'>",
      "\nDuring handling of the above exception, another exception occurred:\n",
      "\u001b[1;31mParserError\u001b[0m                               Traceback (most recent call last)",
      "\u001b[1;32m<ipython-input-92-dd66d1a07f73>\u001b[0m in \u001b[0;36m<module>\u001b[1;34m\u001b[0m\n\u001b[1;32m----> 1\u001b[1;33m \u001b[0mdf\u001b[0m\u001b[1;33m[\u001b[0m\u001b[1;34m'date_pay'\u001b[0m\u001b[1;33m]\u001b[0m \u001b[1;33m=\u001b[0m \u001b[0mpd\u001b[0m\u001b[1;33m.\u001b[0m\u001b[0mto_datetime\u001b[0m\u001b[1;33m(\u001b[0m\u001b[0mpd\u001b[0m\u001b[1;33m.\u001b[0m\u001b[0mto_datetime\u001b[0m\u001b[1;33m(\u001b[0m\u001b[0mdf\u001b[0m\u001b[1;33m.\u001b[0m\u001b[0mtime_pay\u001b[0m\u001b[1;33m)\u001b[0m\u001b[1;33m.\u001b[0m\u001b[0mdt\u001b[0m\u001b[1;33m.\u001b[0m\u001b[0mstrftime\u001b[0m\u001b[1;33m(\u001b[0m\u001b[1;34m'%Y-%m-%d'\u001b[0m\u001b[1;33m)\u001b[0m\u001b[1;33m)\u001b[0m\u001b[1;33m\u001b[0m\u001b[1;33m\u001b[0m\u001b[0m\n\u001b[0m\u001b[0;32m      2\u001b[0m \u001b[0mdf\u001b[0m\u001b[1;33m[\u001b[0m\u001b[1;34m'mon'\u001b[0m\u001b[1;33m]\u001b[0m \u001b[1;33m=\u001b[0m \u001b[0mdf\u001b[0m\u001b[1;33m.\u001b[0m\u001b[0mdate_pay\u001b[0m\u001b[1;33m.\u001b[0m\u001b[0mmap\u001b[0m\u001b[1;33m(\u001b[0m\u001b[0mdate_bus\u001b[0m\u001b[1;33m)\u001b[0m\u001b[1;33m\u001b[0m\u001b[1;33m\u001b[0m\u001b[0m\n",
      "\u001b[1;32mC:\\ProgramData\\Anaconda3\\lib\\site-packages\\pandas\\core\\tools\\datetimes.py\u001b[0m in \u001b[0;36mto_datetime\u001b[1;34m(arg, errors, dayfirst, yearfirst, utc, format, exact, unit, infer_datetime_format, origin, cache)\u001b[0m\n\u001b[0;32m    726\u001b[0m             \u001b[0mresult\u001b[0m \u001b[1;33m=\u001b[0m \u001b[0marg\u001b[0m\u001b[1;33m.\u001b[0m\u001b[0mmap\u001b[0m\u001b[1;33m(\u001b[0m\u001b[0mcache_array\u001b[0m\u001b[1;33m)\u001b[0m\u001b[1;33m\u001b[0m\u001b[1;33m\u001b[0m\u001b[0m\n\u001b[0;32m    727\u001b[0m         \u001b[1;32melse\u001b[0m\u001b[1;33m:\u001b[0m\u001b[1;33m\u001b[0m\u001b[1;33m\u001b[0m\u001b[0m\n\u001b[1;32m--> 728\u001b[1;33m             \u001b[0mvalues\u001b[0m \u001b[1;33m=\u001b[0m \u001b[0mconvert_listlike\u001b[0m\u001b[1;33m(\u001b[0m\u001b[0marg\u001b[0m\u001b[1;33m.\u001b[0m\u001b[0m_values\u001b[0m\u001b[1;33m,\u001b[0m \u001b[0mformat\u001b[0m\u001b[1;33m)\u001b[0m\u001b[1;33m\u001b[0m\u001b[1;33m\u001b[0m\u001b[0m\n\u001b[0m\u001b[0;32m    729\u001b[0m             \u001b[0mresult\u001b[0m \u001b[1;33m=\u001b[0m \u001b[0marg\u001b[0m\u001b[1;33m.\u001b[0m\u001b[0m_constructor\u001b[0m\u001b[1;33m(\u001b[0m\u001b[0mvalues\u001b[0m\u001b[1;33m,\u001b[0m \u001b[0mindex\u001b[0m\u001b[1;33m=\u001b[0m\u001b[0marg\u001b[0m\u001b[1;33m.\u001b[0m\u001b[0mindex\u001b[0m\u001b[1;33m,\u001b[0m \u001b[0mname\u001b[0m\u001b[1;33m=\u001b[0m\u001b[0marg\u001b[0m\u001b[1;33m.\u001b[0m\u001b[0mname\u001b[0m\u001b[1;33m)\u001b[0m\u001b[1;33m\u001b[0m\u001b[1;33m\u001b[0m\u001b[0m\n\u001b[0;32m    730\u001b[0m     \u001b[1;32melif\u001b[0m \u001b[0misinstance\u001b[0m\u001b[1;33m(\u001b[0m\u001b[0marg\u001b[0m\u001b[1;33m,\u001b[0m \u001b[1;33m(\u001b[0m\u001b[0mABCDataFrame\u001b[0m\u001b[1;33m,\u001b[0m \u001b[0mabc\u001b[0m\u001b[1;33m.\u001b[0m\u001b[0mMutableMapping\u001b[0m\u001b[1;33m)\u001b[0m\u001b[1;33m)\u001b[0m\u001b[1;33m:\u001b[0m\u001b[1;33m\u001b[0m\u001b[1;33m\u001b[0m\u001b[0m\n",
      "\u001b[1;32mC:\\ProgramData\\Anaconda3\\lib\\site-packages\\pandas\\core\\tools\\datetimes.py\u001b[0m in \u001b[0;36m_convert_listlike_datetimes\u001b[1;34m(arg, format, name, tz, unit, errors, infer_datetime_format, dayfirst, yearfirst, exact)\u001b[0m\n\u001b[0;32m    445\u001b[0m             \u001b[0merrors\u001b[0m\u001b[1;33m=\u001b[0m\u001b[0merrors\u001b[0m\u001b[1;33m,\u001b[0m\u001b[1;33m\u001b[0m\u001b[1;33m\u001b[0m\u001b[0m\n\u001b[0;32m    446\u001b[0m             \u001b[0mrequire_iso8601\u001b[0m\u001b[1;33m=\u001b[0m\u001b[0mrequire_iso8601\u001b[0m\u001b[1;33m,\u001b[0m\u001b[1;33m\u001b[0m\u001b[1;33m\u001b[0m\u001b[0m\n\u001b[1;32m--> 447\u001b[1;33m             \u001b[0mallow_object\u001b[0m\u001b[1;33m=\u001b[0m\u001b[1;32mTrue\u001b[0m\u001b[1;33m,\u001b[0m\u001b[1;33m\u001b[0m\u001b[1;33m\u001b[0m\u001b[0m\n\u001b[0m\u001b[0;32m    448\u001b[0m         )\n\u001b[0;32m    449\u001b[0m \u001b[1;33m\u001b[0m\u001b[0m\n",
      "\u001b[1;32mC:\\ProgramData\\Anaconda3\\lib\\site-packages\\pandas\\core\\arrays\\datetimes.py\u001b[0m in \u001b[0;36mobjects_to_datetime64ns\u001b[1;34m(data, dayfirst, yearfirst, utc, errors, require_iso8601, allow_object)\u001b[0m\n\u001b[0;32m   1859\u001b[0m             \u001b[1;32mreturn\u001b[0m \u001b[0mvalues\u001b[0m\u001b[1;33m.\u001b[0m\u001b[0mview\u001b[0m\u001b[1;33m(\u001b[0m\u001b[1;34m\"i8\"\u001b[0m\u001b[1;33m)\u001b[0m\u001b[1;33m,\u001b[0m \u001b[0mtz_parsed\u001b[0m\u001b[1;33m\u001b[0m\u001b[1;33m\u001b[0m\u001b[0m\n\u001b[0;32m   1860\u001b[0m         \u001b[1;32mexcept\u001b[0m \u001b[1;33m(\u001b[0m\u001b[0mValueError\u001b[0m\u001b[1;33m,\u001b[0m \u001b[0mTypeError\u001b[0m\u001b[1;33m)\u001b[0m\u001b[1;33m:\u001b[0m\u001b[1;33m\u001b[0m\u001b[1;33m\u001b[0m\u001b[0m\n\u001b[1;32m-> 1861\u001b[1;33m             \u001b[1;32mraise\u001b[0m \u001b[0me\u001b[0m\u001b[1;33m\u001b[0m\u001b[1;33m\u001b[0m\u001b[0m\n\u001b[0m\u001b[0;32m   1862\u001b[0m \u001b[1;33m\u001b[0m\u001b[0m\n\u001b[0;32m   1863\u001b[0m     \u001b[1;32mif\u001b[0m \u001b[0mtz_parsed\u001b[0m \u001b[1;32mis\u001b[0m \u001b[1;32mnot\u001b[0m \u001b[1;32mNone\u001b[0m\u001b[1;33m:\u001b[0m\u001b[1;33m\u001b[0m\u001b[1;33m\u001b[0m\u001b[0m\n",
      "\u001b[1;32mC:\\ProgramData\\Anaconda3\\lib\\site-packages\\pandas\\core\\arrays\\datetimes.py\u001b[0m in \u001b[0;36mobjects_to_datetime64ns\u001b[1;34m(data, dayfirst, yearfirst, utc, errors, require_iso8601, allow_object)\u001b[0m\n\u001b[0;32m   1850\u001b[0m             \u001b[0mdayfirst\u001b[0m\u001b[1;33m=\u001b[0m\u001b[0mdayfirst\u001b[0m\u001b[1;33m,\u001b[0m\u001b[1;33m\u001b[0m\u001b[1;33m\u001b[0m\u001b[0m\n\u001b[0;32m   1851\u001b[0m             \u001b[0myearfirst\u001b[0m\u001b[1;33m=\u001b[0m\u001b[0myearfirst\u001b[0m\u001b[1;33m,\u001b[0m\u001b[1;33m\u001b[0m\u001b[1;33m\u001b[0m\u001b[0m\n\u001b[1;32m-> 1852\u001b[1;33m             \u001b[0mrequire_iso8601\u001b[0m\u001b[1;33m=\u001b[0m\u001b[0mrequire_iso8601\u001b[0m\u001b[1;33m,\u001b[0m\u001b[1;33m\u001b[0m\u001b[1;33m\u001b[0m\u001b[0m\n\u001b[0m\u001b[0;32m   1853\u001b[0m         )\n\u001b[0;32m   1854\u001b[0m     \u001b[1;32mexcept\u001b[0m \u001b[0mValueError\u001b[0m \u001b[1;32mas\u001b[0m \u001b[0me\u001b[0m\u001b[1;33m:\u001b[0m\u001b[1;33m\u001b[0m\u001b[1;33m\u001b[0m\u001b[0m\n",
      "\u001b[1;32mpandas\\_libs\\tslib.pyx\u001b[0m in \u001b[0;36mpandas._libs.tslib.array_to_datetime\u001b[1;34m()\u001b[0m\n",
      "\u001b[1;32mpandas\\_libs\\tslib.pyx\u001b[0m in \u001b[0;36mpandas._libs.tslib.array_to_datetime\u001b[1;34m()\u001b[0m\n",
      "\u001b[1;32mpandas\\_libs\\tslib.pyx\u001b[0m in \u001b[0;36mpandas._libs.tslib.array_to_datetime_object\u001b[1;34m()\u001b[0m\n",
      "\u001b[1;32mpandas\\_libs\\tslib.pyx\u001b[0m in \u001b[0;36mpandas._libs.tslib.array_to_datetime_object\u001b[1;34m()\u001b[0m\n",
      "\u001b[1;32mpandas\\_libs\\tslibs\\parsing.pyx\u001b[0m in \u001b[0;36mpandas._libs.tslibs.parsing.parse_datetime_string\u001b[1;34m()\u001b[0m\n",
      "\u001b[1;32mC:\\ProgramData\\Anaconda3\\lib\\site-packages\\dateutil\\parser\\_parser.py\u001b[0m in \u001b[0;36mparse\u001b[1;34m(timestr, parserinfo, **kwargs)\u001b[0m\n\u001b[0;32m   1372\u001b[0m         \u001b[1;32mreturn\u001b[0m \u001b[0mparser\u001b[0m\u001b[1;33m(\u001b[0m\u001b[0mparserinfo\u001b[0m\u001b[1;33m)\u001b[0m\u001b[1;33m.\u001b[0m\u001b[0mparse\u001b[0m\u001b[1;33m(\u001b[0m\u001b[0mtimestr\u001b[0m\u001b[1;33m,\u001b[0m \u001b[1;33m**\u001b[0m\u001b[0mkwargs\u001b[0m\u001b[1;33m)\u001b[0m\u001b[1;33m\u001b[0m\u001b[1;33m\u001b[0m\u001b[0m\n\u001b[0;32m   1373\u001b[0m     \u001b[1;32melse\u001b[0m\u001b[1;33m:\u001b[0m\u001b[1;33m\u001b[0m\u001b[1;33m\u001b[0m\u001b[0m\n\u001b[1;32m-> 1374\u001b[1;33m         \u001b[1;32mreturn\u001b[0m \u001b[0mDEFAULTPARSER\u001b[0m\u001b[1;33m.\u001b[0m\u001b[0mparse\u001b[0m\u001b[1;33m(\u001b[0m\u001b[0mtimestr\u001b[0m\u001b[1;33m,\u001b[0m \u001b[1;33m**\u001b[0m\u001b[0mkwargs\u001b[0m\u001b[1;33m)\u001b[0m\u001b[1;33m\u001b[0m\u001b[1;33m\u001b[0m\u001b[0m\n\u001b[0m\u001b[0;32m   1375\u001b[0m \u001b[1;33m\u001b[0m\u001b[0m\n\u001b[0;32m   1376\u001b[0m \u001b[1;33m\u001b[0m\u001b[0m\n",
      "\u001b[1;32mC:\\ProgramData\\Anaconda3\\lib\\site-packages\\dateutil\\parser\\_parser.py\u001b[0m in \u001b[0;36mparse\u001b[1;34m(self, timestr, default, ignoretz, tzinfos, **kwargs)\u001b[0m\n\u001b[0;32m    647\u001b[0m \u001b[1;33m\u001b[0m\u001b[0m\n\u001b[0;32m    648\u001b[0m         \u001b[1;32mif\u001b[0m \u001b[0mres\u001b[0m \u001b[1;32mis\u001b[0m \u001b[1;32mNone\u001b[0m\u001b[1;33m:\u001b[0m\u001b[1;33m\u001b[0m\u001b[1;33m\u001b[0m\u001b[0m\n\u001b[1;32m--> 649\u001b[1;33m             \u001b[1;32mraise\u001b[0m \u001b[0mParserError\u001b[0m\u001b[1;33m(\u001b[0m\u001b[1;34m\"Unknown string format: %s\"\u001b[0m\u001b[1;33m,\u001b[0m \u001b[0mtimestr\u001b[0m\u001b[1;33m)\u001b[0m\u001b[1;33m\u001b[0m\u001b[1;33m\u001b[0m\u001b[0m\n\u001b[0m\u001b[0;32m    650\u001b[0m \u001b[1;33m\u001b[0m\u001b[0m\n\u001b[0;32m    651\u001b[0m         \u001b[1;32mif\u001b[0m \u001b[0mlen\u001b[0m\u001b[1;33m(\u001b[0m\u001b[0mres\u001b[0m\u001b[1;33m)\u001b[0m \u001b[1;33m==\u001b[0m \u001b[1;36m0\u001b[0m\u001b[1;33m:\u001b[0m\u001b[1;33m\u001b[0m\u001b[1;33m\u001b[0m\u001b[0m\n",
      "\u001b[1;31mParserError\u001b[0m: Unknown string format: 支付日期"
     ]
    }
   ],
   "source": [
    "df['date_pay'] = pd.to_datetime(pd.to_datetime(df.time_pay).dt.strftime('%Y-%m-%d'))\n",
    "df['mon'] = df.date_pay.map(date_bus)"
   ]
  },
  {
   "cell_type": "code",
   "execution_count": 30,
   "metadata": {
    "ExecuteTime": {
     "end_time": "2020-05-14T01:42:02.577377Z",
     "start_time": "2020-05-14T01:42:01.888226Z"
    }
   },
   "outputs": [],
   "source": [
    "order_all = pd.merge(df,ptype,how='left',on='pname')"
   ]
  },
  {
   "cell_type": "code",
   "execution_count": 31,
   "metadata": {
    "ExecuteTime": {
     "end_time": "2020-05-14T01:42:03.388209Z",
     "start_time": "2020-05-14T01:42:02.579372Z"
    }
   },
   "outputs": [],
   "source": [
    "order_all.loc['order_type'] = np.nan\n",
    "order_all.loc[order_all.year_protect.isin(['至-105岁','至-99岁','至-88岁']),'order_type'] = '终身重疾'\n",
    "order_all.order_type.fillna('消费重疾',inplace=True)"
   ]
  },
  {
   "cell_type": "code",
   "execution_count": 32,
   "metadata": {
    "ExecuteTime": {
     "end_time": "2020-05-14T01:42:03.638540Z",
     "start_time": "2020-05-14T01:42:03.389207Z"
    }
   },
   "outputs": [
    {
     "data": {
      "text/html": [
       "<div>\n",
       "<style scoped>\n",
       "    .dataframe tbody tr th:only-of-type {\n",
       "        vertical-align: middle;\n",
       "    }\n",
       "\n",
       "    .dataframe tbody tr th {\n",
       "        vertical-align: top;\n",
       "    }\n",
       "\n",
       "    .dataframe thead th {\n",
       "        text-align: right;\n",
       "    }\n",
       "</style>\n",
       "<table border=\"1\" class=\"dataframe\">\n",
       "  <thead>\n",
       "    <tr style=\"text-align: right;\">\n",
       "      <th></th>\n",
       "      <th>order_type</th>\n",
       "      <th>bf</th>\n",
       "    </tr>\n",
       "  </thead>\n",
       "  <tbody>\n",
       "    <tr>\n",
       "      <th>0</th>\n",
       "      <td>消费重疾</td>\n",
       "      <td>2378963.35</td>\n",
       "    </tr>\n",
       "    <tr>\n",
       "      <th>1</th>\n",
       "      <td>终身重疾</td>\n",
       "      <td>15803805.30</td>\n",
       "    </tr>\n",
       "  </tbody>\n",
       "</table>\n",
       "</div>"
      ],
      "text/plain": [
       "  order_type           bf\n",
       "0       消费重疾   2378963.35\n",
       "1       终身重疾  15803805.30"
      ]
     },
     "execution_count": 32,
     "metadata": {},
     "output_type": "execute_result"
    }
   ],
   "source": [
    "order_all.loc[(order_all.plabel_term==1) & (order_all.plabel_need =='重疾险_其他'),:].groupby(['order_type']).bf.sum().reset_index()"
   ]
  },
  {
   "cell_type": "code",
   "execution_count": 43,
   "metadata": {
    "ExecuteTime": {
     "end_time": "2020-05-14T02:20:36.932893Z",
     "start_time": "2020-05-14T02:20:36.822188Z"
    }
   },
   "outputs": [],
   "source": [
    "order_all.loc[(order_all.plabel_term==1) & (order_all.plabel_need =='重疾险_其他'),:].groupby(['area_type','mon','order_type']).agg({'ucode':'nunique','order':'count','bf':'sum'}).reset_index().to_excel('12.xlsx')"
   ]
  },
  {
   "cell_type": "code",
   "execution_count": 69,
   "metadata": {
    "ExecuteTime": {
     "end_time": "2020-05-13T09:21:56.614214Z",
     "start_time": "2020-05-13T09:21:56.597265Z"
    }
   },
   "outputs": [
    {
     "data": {
      "text/html": [
       "<div>\n",
       "<style scoped>\n",
       "    .dataframe tbody tr th:only-of-type {\n",
       "        vertical-align: middle;\n",
       "    }\n",
       "\n",
       "    .dataframe tbody tr th {\n",
       "        vertical-align: top;\n",
       "    }\n",
       "\n",
       "    .dataframe thead th {\n",
       "        text-align: right;\n",
       "    }\n",
       "</style>\n",
       "<table border=\"1\" class=\"dataframe\">\n",
       "  <thead>\n",
       "    <tr style=\"text-align: right;\">\n",
       "      <th></th>\n",
       "      <th>序号</th>\n",
       "      <th>订单号</th>\n",
       "      <th>保单号</th>\n",
       "      <th>投保人</th>\n",
       "      <th>被保人</th>\n",
       "      <th>pname</th>\n",
       "      <th>bf</th>\n",
       "      <th>保额</th>\n",
       "      <th>缴费年期</th>\n",
       "      <th>保障期间</th>\n",
       "      <th>time_pay</th>\n",
       "      <th>ucode</th>\n",
       "      <th>姓名</th>\n",
       "      <th>area_type</th>\n",
       "      <th>保单状态</th>\n",
       "      <th>date_pay</th>\n",
       "    </tr>\n",
       "  </thead>\n",
       "  <tbody>\n",
       "    <tr>\n",
       "      <th>39110</th>\n",
       "      <td>39111</td>\n",
       "      <td>202004131008517116</td>\n",
       "      <td>10103006600038406349</td>\n",
       "      <td>胡方苑</td>\n",
       "      <td>胡前平</td>\n",
       "      <td>平安个人意外保障计划</td>\n",
       "      <td>375.0</td>\n",
       "      <td>0.0</td>\n",
       "      <td>1年</td>\n",
       "      <td>NaN</td>\n",
       "      <td>2020-04-13 21:17:06</td>\n",
       "      <td>640288623.0</td>\n",
       "      <td>王静</td>\n",
       "      <td>大童安徽区域中心</td>\n",
       "      <td>已承保</td>\n",
       "      <td>2020-04-13</td>\n",
       "    </tr>\n",
       "  </tbody>\n",
       "</table>\n",
       "</div>"
      ],
      "text/plain": [
       "          序号                 订单号                   保单号  投保人  被保人       pname  \\\n",
       "39110  39111  202004131008517116  10103006600038406349  胡方苑  胡前平  平安个人意外保障计划   \n",
       "\n",
       "          bf   保额 缴费年期 保障期间             time_pay        ucode  姓名 area_type  \\\n",
       "39110  375.0  0.0   1年  NaN  2020-04-13 21:17:06  640288623.0  王静  大童安徽区域中心   \n",
       "\n",
       "      保单状态    date_pay  \n",
       "39110  已承保  2020-04-13  "
      ]
     },
     "execution_count": 69,
     "metadata": {},
     "output_type": "execute_result"
    }
   ],
   "source": [
    "df.loc[df.ucode ==640288623]"
   ]
  },
  {
   "cell_type": "markdown",
   "metadata": {},
   "source": [
    "## 新日报"
   ]
  },
  {
   "cell_type": "markdown",
   "metadata": {
    "ExecuteTime": {
     "end_time": "2020-05-06T13:31:21.384184Z",
     "start_time": "2020-05-06T13:31:21.381193Z"
    }
   },
   "source": [
    "### 基本处理"
   ]
  },
  {
   "cell_type": "code",
   "execution_count": 78,
   "metadata": {
    "ExecuteTime": {
     "end_time": "2020-05-22T01:28:29.241438Z",
     "start_time": "2020-05-22T01:28:29.209524Z"
    }
   },
   "outputs": [
    {
     "name": "stdout",
     "output_type": "stream",
     "text": [
      "快保经营日报-业务 (16).xlsx\n"
     ]
    }
   ],
   "source": [
    "fileList = []\n",
    "for x in os.listdir(dir_down):\n",
    "    str_code = x.find('快保经营日报')\n",
    "\n",
    "    if str_code ==0:\n",
    "        fileDate = time.strftime(\"%Y-%m-%d %H:%M:%S\", time.localtime(os.stat(dir_down +x).st_mtime))\n",
    "        total_name = '%s_%s'%(fileDate,x)\n",
    "#         print(total_name)\n",
    "        fileList.append(total_name)\n",
    "file = sorted(fileList,reverse=True)[0]\n",
    "file_name = file.split('_')[1]\n",
    "# print(file)\n",
    "\n",
    "nowTime=datetime.datetime.now().strftime('%Y-%m-%d')\n",
    "shutil.copyfile(dir_down +file_name,dir_report+nowTime+file_name)\n",
    "shutil.copyfile(dir_down +file_name,dir_report+'快保经营日报数据.xlsx')\n",
    "print(file_name)"
   ]
  },
  {
   "cell_type": "markdown",
   "metadata": {},
   "source": [
    "### 续购口径"
   ]
  },
  {
   "cell_type": "code",
   "execution_count": 79,
   "metadata": {
    "ExecuteTime": {
     "end_time": "2020-05-22T01:28:37.470433Z",
     "start_time": "2020-05-22T01:28:37.464448Z"
    }
   },
   "outputs": [
    {
     "name": "stdout",
     "output_type": "stream",
     "text": [
      "当日数据时间2020-05-24 00:00:00\n",
      "当月开始时间2020-04-26 00:00:00,当月结束时间2020-05-24 00:00:00\n",
      "当月开始时间2019-12-26 00:00:00,当月结束时间2020-05-24 00:00:00\n"
     ]
    }
   ],
   "source": [
    "model =2\n",
    "start = '2020-05-22'\n",
    "end = '2020-05-24'\n",
    "\n",
    "tsdate = day_date_descision(model,start,end)[0]\n",
    "tedate = day_date_descision(model,start,end)[1]\n",
    "\n",
    "curmon = '2020-05'\n",
    "msdate = mon_sdate_map[curmon]\n",
    "medate = tedate\n",
    "\n",
    "ysdate = pd.to_datetime('2019-12-26')\n",
    "yedate = tedate\n",
    "\n",
    "print('当日数据时间%s'%tedate)\n",
    "print('当月开始时间%s,当月结束时间%s'%(msdate,medate))\n",
    "print('当月开始时间%s,当月结束时间%s'%(ysdate,yedate))"
   ]
  },
  {
   "cell_type": "code",
   "execution_count": 81,
   "metadata": {
    "ExecuteTime": {
     "end_time": "2020-05-22T09:01:38.715321Z",
     "start_time": "2020-05-22T09:01:07.487815Z"
    }
   },
   "outputs": [],
   "source": [
    "order_20 = pd.merge(order_sum,ptype,how='left',on='pname')\n",
    "order_19 = pd.merge(order_2019_need,ptype,how='left',on='pname')"
   ]
  },
  {
   "cell_type": "code",
   "execution_count": 82,
   "metadata": {
    "ExecuteTime": {
     "end_time": "2020-05-22T01:29:37.146855Z",
     "start_time": "2020-05-22T01:29:07.527059Z"
    }
   },
   "outputs": [],
   "source": [
    "need_plabel = ['健康险_百万医疗','健康险_专项医疗','健康险_住院保','健康险_门诊住院','健康险_海外医疗',\n",
    "               '意外险_“10+1”','意外险_高额意外','意外险_学平险','意外险_特殊人群']\n",
    "order_20['days_protect'] = (pd.to_datetime(order_20.time_end) - pd.to_datetime(order_20.time_start)).map(lambda x:x.days)\n",
    "order_19['days_protect'] = (pd.to_datetime(order_19.time_end) - pd.to_datetime(order_19.time_start)).map(lambda x:x.days)\n",
    "\n",
    "order_19_renew = order_19.loc[(order_19.days_protect.isin([364,365])) & (order_19.plabel.isin(need_plabel)),:].copy()\n",
    "order_20_renew = order_20.loc[(order_20.days_protect.isin([364,365])) & (order_20.plabel.isin(need_plabel)),:].copy()"
   ]
  },
  {
   "cell_type": "code",
   "execution_count": 83,
   "metadata": {
    "ExecuteTime": {
     "end_time": "2020-05-22T01:29:56.387404Z",
     "start_time": "2020-05-22T01:29:37.147861Z"
    }
   },
   "outputs": [],
   "source": [
    "# order_renew_all['mon'] = order_renew_all.date_pay_x.map(date_bus)\n",
    "order_renew_all = pd.merge(order_20_renew,order_19_renew,how='left',on=['bb_id','plabel'],suffixes=['_ty','_ly'])\n",
    "order_renew_all['delta_renew'] = (pd.to_datetime(order_renew_all.time_end_ly) - pd.to_datetime(order_renew_all.time_start_ty)).map(lambda x:x.days)"
   ]
  },
  {
   "cell_type": "code",
   "execution_count": 84,
   "metadata": {
    "ExecuteTime": {
     "end_time": "2020-05-22T01:29:57.795647Z",
     "start_time": "2020-05-22T01:29:56.389398Z"
    }
   },
   "outputs": [
    {
     "data": {
      "text/html": [
       "<div>\n",
       "<style scoped>\n",
       "    .dataframe tbody tr th:only-of-type {\n",
       "        vertical-align: middle;\n",
       "    }\n",
       "\n",
       "    .dataframe tbody tr th {\n",
       "        vertical-align: top;\n",
       "    }\n",
       "\n",
       "    .dataframe thead th {\n",
       "        text-align: right;\n",
       "    }\n",
       "</style>\n",
       "<table border=\"1\" class=\"dataframe\">\n",
       "  <thead>\n",
       "    <tr style=\"text-align: right;\">\n",
       "      <th></th>\n",
       "      <th>bb_id</th>\n",
       "      <th>pname_ty</th>\n",
       "      <th>pname_ly</th>\n",
       "      <th>time_end_ly</th>\n",
       "      <th>time_start_ty</th>\n",
       "      <th>delta_renew</th>\n",
       "      <th>order_renew_src_ty</th>\n",
       "      <th>order_ty</th>\n",
       "      <th>bf_ty</th>\n",
       "      <th>date_pay_ty</th>\n",
       "      <th>order_ly</th>\n",
       "    </tr>\n",
       "  </thead>\n",
       "  <tbody>\n",
       "    <tr>\n",
       "      <th>455567</th>\n",
       "      <td>411024198606096233</td>\n",
       "      <td>亚太金典综合保障计划</td>\n",
       "      <td>平安个人意外保障计划</td>\n",
       "      <td>2020-05-29</td>\n",
       "      <td>2020-05-29</td>\n",
       "      <td>0.0</td>\n",
       "      <td>NaN</td>\n",
       "      <td>202005221087675688</td>\n",
       "      <td>200.0</td>\n",
       "      <td>2020-05-22</td>\n",
       "      <td>201905236721058284</td>\n",
       "    </tr>\n",
       "    <tr>\n",
       "      <th>455570</th>\n",
       "      <td>532301198801040016</td>\n",
       "      <td>亚太守护意外保</td>\n",
       "      <td>亚太守护意外保</td>\n",
       "      <td>2020-05-24</td>\n",
       "      <td>2020-05-25</td>\n",
       "      <td>-1.0</td>\n",
       "      <td>同类型产品库续购</td>\n",
       "      <td>202005224666126724</td>\n",
       "      <td>258.0</td>\n",
       "      <td>2020-05-22</td>\n",
       "      <td>201905224858752006</td>\n",
       "    </tr>\n",
       "    <tr>\n",
       "      <th>455575</th>\n",
       "      <td>321181198707113187</td>\n",
       "      <td>众惠全能百万医疗2019款</td>\n",
       "      <td>众惠全能百万医疗保险</td>\n",
       "      <td>2020-05-24</td>\n",
       "      <td>2020-05-25</td>\n",
       "      <td>-1.0</td>\n",
       "      <td>续投-APP</td>\n",
       "      <td>202005221975094373</td>\n",
       "      <td>366.0</td>\n",
       "      <td>2020-05-22</td>\n",
       "      <td>201905211106788431</td>\n",
       "    </tr>\n",
       "    <tr>\n",
       "      <th>455577</th>\n",
       "      <td>321181198608295974</td>\n",
       "      <td>众惠全能百万医疗2019款</td>\n",
       "      <td>众惠全能百万医疗保险</td>\n",
       "      <td>2020-05-24</td>\n",
       "      <td>2020-05-25</td>\n",
       "      <td>-1.0</td>\n",
       "      <td>续投-APP</td>\n",
       "      <td>202005229849241200</td>\n",
       "      <td>366.0</td>\n",
       "      <td>2020-05-22</td>\n",
       "      <td>201905212649183537</td>\n",
       "    </tr>\n",
       "    <tr>\n",
       "      <th>455580</th>\n",
       "      <td>133023198001190241</td>\n",
       "      <td>众安尊享e生2020版</td>\n",
       "      <td>众惠全能百万医疗2019款</td>\n",
       "      <td>2020-05-15</td>\n",
       "      <td>2020-05-23</td>\n",
       "      <td>-8.0</td>\n",
       "      <td>NaN</td>\n",
       "      <td>202005224666113143</td>\n",
       "      <td>473.0</td>\n",
       "      <td>2020-05-22</td>\n",
       "      <td>201905152393170580</td>\n",
       "    </tr>\n",
       "  </tbody>\n",
       "</table>\n",
       "</div>"
      ],
      "text/plain": [
       "                     bb_id       pname_ty       pname_ly time_end_ly  \\\n",
       "455567  411024198606096233     亚太金典综合保障计划     平安个人意外保障计划  2020-05-29   \n",
       "455570  532301198801040016        亚太守护意外保        亚太守护意外保  2020-05-24   \n",
       "455575  321181198707113187  众惠全能百万医疗2019款     众惠全能百万医疗保险  2020-05-24   \n",
       "455577  321181198608295974  众惠全能百万医疗2019款     众惠全能百万医疗保险  2020-05-24   \n",
       "455580  133023198001190241    众安尊享e生2020版  众惠全能百万医疗2019款  2020-05-15   \n",
       "\n",
       "       time_start_ty  delta_renew order_renew_src_ty            order_ty  \\\n",
       "455567    2020-05-29          0.0                NaN  202005221087675688   \n",
       "455570    2020-05-25         -1.0           同类型产品库续购  202005224666126724   \n",
       "455575    2020-05-25         -1.0             续投-APP  202005221975094373   \n",
       "455577    2020-05-25         -1.0             续投-APP  202005229849241200   \n",
       "455580    2020-05-23         -8.0                NaN  202005224666113143   \n",
       "\n",
       "        bf_ty date_pay_ty            order_ly  \n",
       "455567  200.0  2020-05-22  201905236721058284  \n",
       "455570  258.0  2020-05-22  201905224858752006  \n",
       "455575  366.0  2020-05-22  201905211106788431  \n",
       "455577  366.0  2020-05-22  201905212649183537  \n",
       "455580  473.0  2020-05-22  201905152393170580  "
      ]
     },
     "execution_count": 84,
     "metadata": {},
     "output_type": "execute_result"
    }
   ],
   "source": [
    "col = ['bb_id','pname_ty','pname_ly','time_end_ly','time_start_ty','delta_renew','order_renew_src_ty','order_ty','bf_ty','date_pay_ty','order_ly']\n",
    "order_renew_need = order_renew_all.loc[(order_renew_all.pname_ly.notna())\n",
    "                                       &(order_renew_all.delta_renew <30)\n",
    "                                       & (order_renew_all.delta_renew >=-30),col].copy()\n",
    "order_renew_need.tail()"
   ]
  },
  {
   "cell_type": "code",
   "execution_count": 85,
   "metadata": {
    "ExecuteTime": {
     "end_time": "2020-05-22T01:29:58.180611Z",
     "start_time": "2020-05-22T01:29:57.797633Z"
    }
   },
   "outputs": [],
   "source": [
    "renew_col =['保险公司回传', '续投-短信C', '续投-分享', '续投-APP', '续投-C端短信', '续投-邮件','续投-短信A', '续投-微信公众号']\n",
    "order_renew_01 = order_renew_need[['order_ty']]\n",
    "order_renew_02 = order_renew_all.loc[order_renew_all.order_renew_src_ty.isin(renew_col),['order_ty']]\n",
    "order_renew_res = pd.concat([order_renew_01,order_renew_02]).drop_duplicates()"
   ]
  },
  {
   "cell_type": "code",
   "execution_count": 86,
   "metadata": {
    "ExecuteTime": {
     "end_time": "2020-05-22T01:29:58.555610Z",
     "start_time": "2020-05-22T01:29:58.181608Z"
    }
   },
   "outputs": [],
   "source": [
    "order_20['is_renew'] = np.nan\n",
    "order_20.loc[order_20.order.isin(order_renew_res.order_ty.unique()),'is_renew'] = '续购'\n",
    "order_20.is_renew.fillna('新单',inplace=True)"
   ]
  },
  {
   "cell_type": "code",
   "execution_count": 69,
   "metadata": {
    "ExecuteTime": {
     "end_time": "2020-05-22T02:55:32.871776Z",
     "start_time": "2020-05-22T02:55:32.783983Z"
    }
   },
   "outputs": [
    {
     "data": {
      "text/html": [
       "<div>\n",
       "<style scoped>\n",
       "    .dataframe tbody tr th:only-of-type {\n",
       "        vertical-align: middle;\n",
       "    }\n",
       "\n",
       "    .dataframe tbody tr th {\n",
       "        vertical-align: top;\n",
       "    }\n",
       "\n",
       "    .dataframe thead th {\n",
       "        text-align: right;\n",
       "    }\n",
       "</style>\n",
       "<table border=\"1\" class=\"dataframe\">\n",
       "  <thead>\n",
       "    <tr style=\"text-align: right;\">\n",
       "      <th></th>\n",
       "      <th>mon</th>\n",
       "      <th>is_renew</th>\n",
       "      <th>bf</th>\n",
       "    </tr>\n",
       "  </thead>\n",
       "  <tbody>\n",
       "    <tr>\n",
       "      <th>5</th>\n",
       "      <td>2020-03</td>\n",
       "      <td>续购</td>\n",
       "      <td>13817539.46</td>\n",
       "    </tr>\n",
       "    <tr>\n",
       "      <th>6</th>\n",
       "      <td>2020-04</td>\n",
       "      <td>新单</td>\n",
       "      <td>29056514.82</td>\n",
       "    </tr>\n",
       "    <tr>\n",
       "      <th>7</th>\n",
       "      <td>2020-04</td>\n",
       "      <td>续购</td>\n",
       "      <td>14354903.06</td>\n",
       "    </tr>\n",
       "    <tr>\n",
       "      <th>8</th>\n",
       "      <td>2020-05</td>\n",
       "      <td>新单</td>\n",
       "      <td>25546153.31</td>\n",
       "    </tr>\n",
       "    <tr>\n",
       "      <th>9</th>\n",
       "      <td>2020-05</td>\n",
       "      <td>续购</td>\n",
       "      <td>10607653.00</td>\n",
       "    </tr>\n",
       "  </tbody>\n",
       "</table>\n",
       "</div>"
      ],
      "text/plain": [
       "       mon is_renew           bf\n",
       "5  2020-03       续购  13817539.46\n",
       "6  2020-04       新单  29056514.82\n",
       "7  2020-04       续购  14354903.06\n",
       "8  2020-05       新单  25546153.31\n",
       "9  2020-05       续购  10607653.00"
      ]
     },
     "execution_count": 69,
     "metadata": {},
     "output_type": "execute_result"
    }
   ],
   "source": [
    "order_20.groupby(['mon','is_renew']).bf.sum().reset_index().tail()"
   ]
  },
  {
   "cell_type": "code",
   "execution_count": 94,
   "metadata": {},
   "outputs": [],
   "source": [
    "col = ['order','bf','uid','date_pay','ucode','area_type']\n",
    "order_20.loc[order_20.pname=='复星联合爱无忧意外伤害保险',col].to_excel('12.xlsx')"
   ]
  },
  {
   "cell_type": "markdown",
   "metadata": {},
   "source": [
    "### 区域中心续购新单数据输出"
   ]
  },
  {
   "cell_type": "code",
   "execution_count": 87,
   "metadata": {
    "ExecuteTime": {
     "end_time": "2020-05-22T02:55:36.595893Z",
     "start_time": "2020-05-22T02:55:35.031973Z"
    }
   },
   "outputs": [],
   "source": [
    "order_20['area_type_need'] = order_20.area_type.copy()\n",
    "order_20.loc[(order_20.area_type =='大童直属区域中心') \n",
    "              | (order_20.area_type.isna()),'area_type_need'] = '其他'\n",
    "order_20.area_type_need.replace('大童|区域中心','',regex=True,inplace=True)\n",
    "order_20.loc[order_20.area_type_need =='直属经纪','area_type_need'] = '经纪北京'\n",
    "order_20.loc[order_20.area_type_need =='内蒙古','area_type_need'] = '内蒙'"
   ]
  },
  {
   "cell_type": "code",
   "execution_count": 88,
   "metadata": {
    "ExecuteTime": {
     "end_time": "2020-05-22T02:55:37.047582Z",
     "start_time": "2020-05-22T02:55:36.597787Z"
    }
   },
   "outputs": [],
   "source": [
    "order_d = order_20.loc[(order_20.date_pay >= tsdate) &(order_20.date_pay<=tedate) & (order_20.is_renew =='续购'),:]\\\n",
    ".groupby(['area_type_need']).bf.sum().reset_index()\n",
    "order_m = order_20.loc[(order_20.date_pay >= msdate) &(order_20.date_pay<=medate) & (order_20.is_renew =='续购'),:]\\\n",
    ".groupby(['area_type_need']).bf.sum().reset_index()\n",
    "order_y = order_20.loc[(order_20.date_pay >= ysdate) &(order_20.date_pay<=yedate) & (order_20.is_renew =='续购'),:]\\\n",
    ".groupby(['area_type_need']).bf.sum().reset_index()"
   ]
  },
  {
   "cell_type": "code",
   "execution_count": 89,
   "metadata": {
    "ExecuteTime": {
     "end_time": "2020-05-22T02:55:37.139366Z",
     "start_time": "2020-05-22T02:55:37.094485Z"
    }
   },
   "outputs": [],
   "source": [
    "res_mid = pd.merge(order_y,order_m,how='left',on='area_type_need',suffixes=['_y','_m'])\n",
    "res = pd.merge(res_mid,order_d,how='left',on='area_type_need')[['area_type_need','bf','bf_m','bf_y']]\n",
    "res.to_excel(dir_report + '各区域中心续购情况.xlsx')"
   ]
  },
  {
   "cell_type": "markdown",
   "metadata": {},
   "source": [
    "### E营业部报表"
   ]
  },
  {
   "cell_type": "code",
   "execution_count": 95,
   "metadata": {
    "ExecuteTime": {
     "end_time": "2020-05-22T01:44:44.371192Z",
     "start_time": "2020-05-22T01:44:43.102585Z"
    }
   },
   "outputs": [
    {
     "data": {
      "text/html": [
       "<div>\n",
       "<style scoped>\n",
       "    .dataframe tbody tr th:only-of-type {\n",
       "        vertical-align: middle;\n",
       "    }\n",
       "\n",
       "    .dataframe tbody tr th {\n",
       "        vertical-align: top;\n",
       "    }\n",
       "\n",
       "    .dataframe thead th {\n",
       "        text-align: right;\n",
       "    }\n",
       "</style>\n",
       "<table border=\"1\" class=\"dataframe\">\n",
       "  <thead>\n",
       "    <tr style=\"text-align: right;\">\n",
       "      <th></th>\n",
       "      <th>date_pay</th>\n",
       "      <th>area_type</th>\n",
       "      <th>team_bus_name</th>\n",
       "      <th>uname</th>\n",
       "      <th>pname</th>\n",
       "      <th>bf</th>\n",
       "    </tr>\n",
       "  </thead>\n",
       "  <tbody>\n",
       "    <tr>\n",
       "      <th>54</th>\n",
       "      <td>2020-05-23</td>\n",
       "      <td>大童河北区域中心</td>\n",
       "      <td>河北E营业部</td>\n",
       "      <td>冯小建</td>\n",
       "      <td>华贵大麦2020定期寿险</td>\n",
       "      <td>1498.8</td>\n",
       "    </tr>\n",
       "    <tr>\n",
       "      <th>53</th>\n",
       "      <td>2020-05-21</td>\n",
       "      <td>大童辽宁区域中心</td>\n",
       "      <td>辽宁E营业部</td>\n",
       "      <td>王卓</td>\n",
       "      <td>国寿财学平险2019版</td>\n",
       "      <td>70.0</td>\n",
       "    </tr>\n",
       "    <tr>\n",
       "      <th>52</th>\n",
       "      <td>2020-05-21</td>\n",
       "      <td>大童河北区域中心</td>\n",
       "      <td>河北E营业部</td>\n",
       "      <td>林莉</td>\n",
       "      <td>平安中老年意外保障计划</td>\n",
       "      <td>209.0</td>\n",
       "    </tr>\n",
       "    <tr>\n",
       "      <th>51</th>\n",
       "      <td>2020-05-20</td>\n",
       "      <td>大童湖北区域中心</td>\n",
       "      <td>湖北E营业部</td>\n",
       "      <td>鲍铭涵</td>\n",
       "      <td>泰康住院保2019-老年版</td>\n",
       "      <td>419.0</td>\n",
       "    </tr>\n",
       "    <tr>\n",
       "      <th>50</th>\n",
       "      <td>2020-05-20</td>\n",
       "      <td>大童湖北区域中心</td>\n",
       "      <td>湖北E营业部</td>\n",
       "      <td>鲍铭涵</td>\n",
       "      <td>泰康住院保2019-成人版</td>\n",
       "      <td>478.0</td>\n",
       "    </tr>\n",
       "    <tr>\n",
       "      <th>49</th>\n",
       "      <td>2020-05-20</td>\n",
       "      <td>大童湖北区域中心</td>\n",
       "      <td>湖北E营业部</td>\n",
       "      <td>鲍铭涵</td>\n",
       "      <td>众安尊享e生2019版</td>\n",
       "      <td>1948.0</td>\n",
       "    </tr>\n",
       "    <tr>\n",
       "      <th>48</th>\n",
       "      <td>2020-05-20</td>\n",
       "      <td>大童浙江区域中心</td>\n",
       "      <td>浙江E营业部</td>\n",
       "      <td>赵欣怡</td>\n",
       "      <td>平安中老年意外保障计划</td>\n",
       "      <td>309.0</td>\n",
       "    </tr>\n",
       "    <tr>\n",
       "      <th>47</th>\n",
       "      <td>2020-05-20</td>\n",
       "      <td>大童浙江区域中心</td>\n",
       "      <td>浙江E营业部</td>\n",
       "      <td>赵欣怡</td>\n",
       "      <td>华贵大麦2020定期寿险</td>\n",
       "      <td>1338.5</td>\n",
       "    </tr>\n",
       "    <tr>\n",
       "      <th>46</th>\n",
       "      <td>2020-05-20</td>\n",
       "      <td>大童河北区域中心</td>\n",
       "      <td>河北E营业部</td>\n",
       "      <td>陈丹霞</td>\n",
       "      <td>众安尊享e生2019版</td>\n",
       "      <td>932.0</td>\n",
       "    </tr>\n",
       "    <tr>\n",
       "      <th>45</th>\n",
       "      <td>2020-05-20</td>\n",
       "      <td>大童安徽区域中心</td>\n",
       "      <td>安徽E营业部</td>\n",
       "      <td>杨茂杰</td>\n",
       "      <td>百年康惠保(2020版)重大疾病保险</td>\n",
       "      <td>547.0</td>\n",
       "    </tr>\n",
       "    <tr>\n",
       "      <th>44</th>\n",
       "      <td>2020-05-20</td>\n",
       "      <td>大童四川区域中心</td>\n",
       "      <td>四川E营业部</td>\n",
       "      <td>曾天慧</td>\n",
       "      <td>百年康惠保(2020版)重大疾病保险</td>\n",
       "      <td>1613.0</td>\n",
       "    </tr>\n",
       "    <tr>\n",
       "      <th>40</th>\n",
       "      <td>2020-05-19</td>\n",
       "      <td>大童浙江区域中心</td>\n",
       "      <td>浙江E营业部</td>\n",
       "      <td>郑凯骏</td>\n",
       "      <td>信泰如意人生守护（英雄版）重大疾病保险</td>\n",
       "      <td>6678.0</td>\n",
       "    </tr>\n",
       "    <tr>\n",
       "      <th>38</th>\n",
       "      <td>2020-05-19</td>\n",
       "      <td>大童北京区域中心</td>\n",
       "      <td>北京E营业部</td>\n",
       "      <td>刘朝建</td>\n",
       "      <td>国富定海神柱定期寿险</td>\n",
       "      <td>2160.0</td>\n",
       "    </tr>\n",
       "    <tr>\n",
       "      <th>39</th>\n",
       "      <td>2020-05-19</td>\n",
       "      <td>大童浙江区域中心</td>\n",
       "      <td>浙江E营业部</td>\n",
       "      <td>赵欣怡</td>\n",
       "      <td>平安少儿意外伤害保障计划(升级版)</td>\n",
       "      <td>150.0</td>\n",
       "    </tr>\n",
       "    <tr>\n",
       "      <th>42</th>\n",
       "      <td>2020-05-19</td>\n",
       "      <td>大童浙江区域中心</td>\n",
       "      <td>浙江E营业部</td>\n",
       "      <td>马宇航</td>\n",
       "      <td>国富定海神柱定期寿险</td>\n",
       "      <td>520.0</td>\n",
       "    </tr>\n",
       "    <tr>\n",
       "      <th>41</th>\n",
       "      <td>2020-05-19</td>\n",
       "      <td>大童浙江区域中心</td>\n",
       "      <td>浙江E营业部</td>\n",
       "      <td>马宇航</td>\n",
       "      <td>信泰如意人生守护（英雄版）重大疾病保险</td>\n",
       "      <td>1706.0</td>\n",
       "    </tr>\n",
       "    <tr>\n",
       "      <th>43</th>\n",
       "      <td>2020-05-19</td>\n",
       "      <td>大童辽宁区域中心</td>\n",
       "      <td>辽宁E营业部</td>\n",
       "      <td>张秀霞</td>\n",
       "      <td>平安个人意外保障计划（2020版）</td>\n",
       "      <td>115.0</td>\n",
       "    </tr>\n",
       "    <tr>\n",
       "      <th>37</th>\n",
       "      <td>2020-05-18</td>\n",
       "      <td>大童辽宁区域中心</td>\n",
       "      <td>辽宁E营业部</td>\n",
       "      <td>王卓</td>\n",
       "      <td>中信保诚「祯爱」优选定期寿险（2019版）</td>\n",
       "      <td>1090.0</td>\n",
       "    </tr>\n",
       "    <tr>\n",
       "      <th>36</th>\n",
       "      <td>2020-05-18</td>\n",
       "      <td>大童河南区域中心</td>\n",
       "      <td>河南E营业部</td>\n",
       "      <td>陈修峻</td>\n",
       "      <td>平安个人意外保障计划（2020版）</td>\n",
       "      <td>465.0</td>\n",
       "    </tr>\n",
       "    <tr>\n",
       "      <th>35</th>\n",
       "      <td>2020-05-18</td>\n",
       "      <td>大童河北区域中心</td>\n",
       "      <td>河北E营业部</td>\n",
       "      <td>李学佳</td>\n",
       "      <td>昆仑健康保（多倍版）重大疾病保险</td>\n",
       "      <td>4678.6</td>\n",
       "    </tr>\n",
       "    <tr>\n",
       "      <th>34</th>\n",
       "      <td>2020-05-18</td>\n",
       "      <td>大童河北区域中心</td>\n",
       "      <td>河北E营业部</td>\n",
       "      <td>李学佳</td>\n",
       "      <td>平安个人意外保障计划（2020版）</td>\n",
       "      <td>115.0</td>\n",
       "    </tr>\n",
       "    <tr>\n",
       "      <th>33</th>\n",
       "      <td>2020-05-18</td>\n",
       "      <td>大童河北区域中心</td>\n",
       "      <td>河北E营业部</td>\n",
       "      <td>李学佳</td>\n",
       "      <td>信泰如意人生守护（英雄版）重大疾病保险</td>\n",
       "      <td>5660.0</td>\n",
       "    </tr>\n",
       "    <tr>\n",
       "      <th>28</th>\n",
       "      <td>2020-05-17</td>\n",
       "      <td>大童北京区域中心</td>\n",
       "      <td>北京E营业部</td>\n",
       "      <td>巴信军</td>\n",
       "      <td>和谐健康大黄蜂少儿定期重疾</td>\n",
       "      <td>420.0</td>\n",
       "    </tr>\n",
       "    <tr>\n",
       "      <th>32</th>\n",
       "      <td>2020-05-17</td>\n",
       "      <td>大童浙江区域中心</td>\n",
       "      <td>浙江E营业部</td>\n",
       "      <td>马宇航</td>\n",
       "      <td>平安个人意外保障计划（2020版）</td>\n",
       "      <td>115.0</td>\n",
       "    </tr>\n",
       "    <tr>\n",
       "      <th>31</th>\n",
       "      <td>2020-05-17</td>\n",
       "      <td>大童浙江区域中心</td>\n",
       "      <td>浙江E营业部</td>\n",
       "      <td>马宇航</td>\n",
       "      <td>众安飞享e生</td>\n",
       "      <td>79.0</td>\n",
       "    </tr>\n",
       "    <tr>\n",
       "      <th>30</th>\n",
       "      <td>2020-05-17</td>\n",
       "      <td>大童浙江区域中心</td>\n",
       "      <td>浙江E营业部</td>\n",
       "      <td>郑凯骏</td>\n",
       "      <td>平安个人意外保障计划（2020版）</td>\n",
       "      <td>230.0</td>\n",
       "    </tr>\n",
       "    <tr>\n",
       "      <th>29</th>\n",
       "      <td>2020-05-17</td>\n",
       "      <td>大童河北区域中心</td>\n",
       "      <td>河北E营业部</td>\n",
       "      <td>房颖</td>\n",
       "      <td>平安个人意外保障计划（2020版）</td>\n",
       "      <td>115.0</td>\n",
       "    </tr>\n",
       "    <tr>\n",
       "      <th>27</th>\n",
       "      <td>2020-05-17</td>\n",
       "      <td>大童北京区域中心</td>\n",
       "      <td>北京E营业部</td>\n",
       "      <td>巴信军</td>\n",
       "      <td>众安尊享e生2020版</td>\n",
       "      <td>267.0</td>\n",
       "    </tr>\n",
       "    <tr>\n",
       "      <th>25</th>\n",
       "      <td>2020-05-16</td>\n",
       "      <td>大童四川区域中心</td>\n",
       "      <td>四川E营业部</td>\n",
       "      <td>曾天慧</td>\n",
       "      <td>平安个人意外保障计划（2020版）</td>\n",
       "      <td>115.0</td>\n",
       "    </tr>\n",
       "    <tr>\n",
       "      <th>26</th>\n",
       "      <td>2020-05-16</td>\n",
       "      <td>大童辽宁区域中心</td>\n",
       "      <td>辽宁E营业部</td>\n",
       "      <td>王卓</td>\n",
       "      <td>众安尊享e生2020版</td>\n",
       "      <td>1083.0</td>\n",
       "    </tr>\n",
       "    <tr>\n",
       "      <th>24</th>\n",
       "      <td>2020-05-15</td>\n",
       "      <td>大童辽宁区域中心</td>\n",
       "      <td>辽宁E营业部</td>\n",
       "      <td>王卓</td>\n",
       "      <td>平安个人意外保障计划（2020版）</td>\n",
       "      <td>115.0</td>\n",
       "    </tr>\n",
       "    <tr>\n",
       "      <th>23</th>\n",
       "      <td>2020-05-15</td>\n",
       "      <td>大童湖南区域中心</td>\n",
       "      <td>湖南E营业部</td>\n",
       "      <td>何敏</td>\n",
       "      <td>易安住院保•成人医疗保险</td>\n",
       "      <td>277.0</td>\n",
       "    </tr>\n",
       "    <tr>\n",
       "      <th>22</th>\n",
       "      <td>2020-05-15</td>\n",
       "      <td>大童四川区域中心</td>\n",
       "      <td>四川E营业部</td>\n",
       "      <td>曾天慧</td>\n",
       "      <td>平安个人意外保障计划（2020版）</td>\n",
       "      <td>115.0</td>\n",
       "    </tr>\n",
       "    <tr>\n",
       "      <th>21</th>\n",
       "      <td>2020-05-15</td>\n",
       "      <td>大童上海区域中心</td>\n",
       "      <td>上海E营业部</td>\n",
       "      <td>陆颖</td>\n",
       "      <td>泰康E齿康个人综合齿科保险</td>\n",
       "      <td>588.0</td>\n",
       "    </tr>\n",
       "    <tr>\n",
       "      <th>20</th>\n",
       "      <td>2020-05-14</td>\n",
       "      <td>大童辽宁区域中心</td>\n",
       "      <td>辽宁E营业部</td>\n",
       "      <td>王卓</td>\n",
       "      <td>复星联合妈咪保贝少儿重大疾病保险</td>\n",
       "      <td>537.0</td>\n",
       "    </tr>\n",
       "    <tr>\n",
       "      <th>19</th>\n",
       "      <td>2020-05-14</td>\n",
       "      <td>大童湖北区域中心</td>\n",
       "      <td>湖北E营业部</td>\n",
       "      <td>艾华东</td>\n",
       "      <td>平安复业保</td>\n",
       "      <td>10788.0</td>\n",
       "    </tr>\n",
       "    <tr>\n",
       "      <th>18</th>\n",
       "      <td>2020-05-13</td>\n",
       "      <td>大童河北区域中心</td>\n",
       "      <td>河北E营业部</td>\n",
       "      <td>吕俊芬</td>\n",
       "      <td>平安个人意外保障计划（2020版）</td>\n",
       "      <td>115.0</td>\n",
       "    </tr>\n",
       "    <tr>\n",
       "      <th>14</th>\n",
       "      <td>2020-05-12</td>\n",
       "      <td>大童云南区域中心</td>\n",
       "      <td>云南E营业部</td>\n",
       "      <td>付忠英</td>\n",
       "      <td>众惠全能百万医疗保险2020款</td>\n",
       "      <td>232.0</td>\n",
       "    </tr>\n",
       "    <tr>\n",
       "      <th>16</th>\n",
       "      <td>2020-05-12</td>\n",
       "      <td>大童浙江区域中心</td>\n",
       "      <td>浙江E营业部</td>\n",
       "      <td>郑凯骏</td>\n",
       "      <td>信泰如意人生守护（英雄版）重大疾病保险</td>\n",
       "      <td>8301.0</td>\n",
       "    </tr>\n",
       "    <tr>\n",
       "      <th>15</th>\n",
       "      <td>2020-05-12</td>\n",
       "      <td>大童河北区域中心</td>\n",
       "      <td>河北E营业部</td>\n",
       "      <td>房颖</td>\n",
       "      <td>平安个人意外保障计划（2020版）</td>\n",
       "      <td>230.0</td>\n",
       "    </tr>\n",
       "    <tr>\n",
       "      <th>17</th>\n",
       "      <td>2020-05-12</td>\n",
       "      <td>大童湖北区域中心</td>\n",
       "      <td>湖北E营业部</td>\n",
       "      <td>鲍铭涵</td>\n",
       "      <td>平安个人意外保障计划（2020版）</td>\n",
       "      <td>115.0</td>\n",
       "    </tr>\n",
       "    <tr>\n",
       "      <th>13</th>\n",
       "      <td>2020-05-11</td>\n",
       "      <td>大童上海区域中心</td>\n",
       "      <td>上海E营业部</td>\n",
       "      <td>刘雅萍</td>\n",
       "      <td>平安个人意外保障计划（2020版）</td>\n",
       "      <td>465.0</td>\n",
       "    </tr>\n",
       "    <tr>\n",
       "      <th>12</th>\n",
       "      <td>2020-05-10</td>\n",
       "      <td>大童河南区域中心</td>\n",
       "      <td>河南E营业部</td>\n",
       "      <td>陈修峻</td>\n",
       "      <td>招商仁和安康综合意外险(升级版)-成人版</td>\n",
       "      <td>300.0</td>\n",
       "    </tr>\n",
       "    <tr>\n",
       "      <th>11</th>\n",
       "      <td>2020-05-09</td>\n",
       "      <td>大童河南区域中心</td>\n",
       "      <td>河南E营业部</td>\n",
       "      <td>陈修峻</td>\n",
       "      <td>浙商乐享全年个人综合意外险</td>\n",
       "      <td>300.0</td>\n",
       "    </tr>\n",
       "    <tr>\n",
       "      <th>10</th>\n",
       "      <td>2020-05-09</td>\n",
       "      <td>大童河南区域中心</td>\n",
       "      <td>河南E营业部</td>\n",
       "      <td>陈修峻</td>\n",
       "      <td>易安百万守护全年综合意外伤害保险</td>\n",
       "      <td>596.0</td>\n",
       "    </tr>\n",
       "    <tr>\n",
       "      <th>9</th>\n",
       "      <td>2020-05-09</td>\n",
       "      <td>大童河南区域中心</td>\n",
       "      <td>河南E营业部</td>\n",
       "      <td>陈修峻</td>\n",
       "      <td>招商仁和安康综合意外险(升级版)-成人版</td>\n",
       "      <td>300.0</td>\n",
       "    </tr>\n",
       "    <tr>\n",
       "      <th>8</th>\n",
       "      <td>2020-05-09</td>\n",
       "      <td>大童河南区域中心</td>\n",
       "      <td>河南E营业部</td>\n",
       "      <td>陈修峻</td>\n",
       "      <td>快保-国泰个人综合意外险(1-4类)</td>\n",
       "      <td>395.0</td>\n",
       "    </tr>\n",
       "    <tr>\n",
       "      <th>7</th>\n",
       "      <td>2020-05-09</td>\n",
       "      <td>大童河南区域中心</td>\n",
       "      <td>河南E营业部</td>\n",
       "      <td>陈修峻</td>\n",
       "      <td>安联意外保（超越版）</td>\n",
       "      <td>300.0</td>\n",
       "    </tr>\n",
       "    <tr>\n",
       "      <th>6</th>\n",
       "      <td>2020-05-09</td>\n",
       "      <td>大童上海区域中心</td>\n",
       "      <td>上海E营业部</td>\n",
       "      <td>郭敏媛</td>\n",
       "      <td>平安个人意外保障计划（2020版）</td>\n",
       "      <td>115.0</td>\n",
       "    </tr>\n",
       "    <tr>\n",
       "      <th>5</th>\n",
       "      <td>2020-05-09</td>\n",
       "      <td>大童上海区域中心</td>\n",
       "      <td>上海E营业部</td>\n",
       "      <td>郭敏媛</td>\n",
       "      <td>众安尊享e生2020版</td>\n",
       "      <td>896.0</td>\n",
       "    </tr>\n",
       "    <tr>\n",
       "      <th>4</th>\n",
       "      <td>2020-05-09</td>\n",
       "      <td>大童上海区域中心</td>\n",
       "      <td>上海E营业部</td>\n",
       "      <td>郭敏媛</td>\n",
       "      <td>众安孝欣保老年恶性肿瘤医疗保险(特惠版)</td>\n",
       "      <td>939.0</td>\n",
       "    </tr>\n",
       "    <tr>\n",
       "      <th>3</th>\n",
       "      <td>2020-05-07</td>\n",
       "      <td>大童云南区域中心</td>\n",
       "      <td>云南E营业部</td>\n",
       "      <td>吴咏梅</td>\n",
       "      <td>快保-安联意外保险计划</td>\n",
       "      <td>200.0</td>\n",
       "    </tr>\n",
       "    <tr>\n",
       "      <th>2</th>\n",
       "      <td>2020-05-05</td>\n",
       "      <td>大童湖北区域中心</td>\n",
       "      <td>湖北E营业部</td>\n",
       "      <td>鲍铭涵</td>\n",
       "      <td>华贵小爱终身寿险</td>\n",
       "      <td>13800.0</td>\n",
       "    </tr>\n",
       "    <tr>\n",
       "      <th>1</th>\n",
       "      <td>2020-05-05</td>\n",
       "      <td>大童湖北区域中心</td>\n",
       "      <td>湖北E营业部</td>\n",
       "      <td>鲍铭涵</td>\n",
       "      <td>华贵守护e家终身寿险</td>\n",
       "      <td>48900.0</td>\n",
       "    </tr>\n",
       "    <tr>\n",
       "      <th>0</th>\n",
       "      <td>2020-04-29</td>\n",
       "      <td>大童山东区域中心</td>\n",
       "      <td>山东E营业部</td>\n",
       "      <td>周生科</td>\n",
       "      <td>百年康惠保（旗舰版）重大疾病保险</td>\n",
       "      <td>2950.0</td>\n",
       "    </tr>\n",
       "  </tbody>\n",
       "</table>\n",
       "</div>"
      ],
      "text/plain": [
       "     date_pay area_type team_bus_name uname                  pname       bf\n",
       "54 2020-05-23  大童河北区域中心        河北E营业部   冯小建           华贵大麦2020定期寿险   1498.8\n",
       "53 2020-05-21  大童辽宁区域中心        辽宁E营业部    王卓            国寿财学平险2019版     70.0\n",
       "52 2020-05-21  大童河北区域中心        河北E营业部    林莉            平安中老年意外保障计划    209.0\n",
       "51 2020-05-20  大童湖北区域中心        湖北E营业部   鲍铭涵          泰康住院保2019-老年版    419.0\n",
       "50 2020-05-20  大童湖北区域中心        湖北E营业部   鲍铭涵          泰康住院保2019-成人版    478.0\n",
       "49 2020-05-20  大童湖北区域中心        湖北E营业部   鲍铭涵            众安尊享e生2019版   1948.0\n",
       "48 2020-05-20  大童浙江区域中心        浙江E营业部   赵欣怡            平安中老年意外保障计划    309.0\n",
       "47 2020-05-20  大童浙江区域中心        浙江E营业部   赵欣怡           华贵大麦2020定期寿险   1338.5\n",
       "46 2020-05-20  大童河北区域中心        河北E营业部   陈丹霞            众安尊享e生2019版    932.0\n",
       "45 2020-05-20  大童安徽区域中心        安徽E营业部   杨茂杰     百年康惠保(2020版)重大疾病保险    547.0\n",
       "44 2020-05-20  大童四川区域中心        四川E营业部   曾天慧     百年康惠保(2020版)重大疾病保险   1613.0\n",
       "40 2020-05-19  大童浙江区域中心        浙江E营业部   郑凯骏    信泰如意人生守护（英雄版）重大疾病保险   6678.0\n",
       "38 2020-05-19  大童北京区域中心        北京E营业部   刘朝建             国富定海神柱定期寿险   2160.0\n",
       "39 2020-05-19  大童浙江区域中心        浙江E营业部   赵欣怡      平安少儿意外伤害保障计划(升级版)    150.0\n",
       "42 2020-05-19  大童浙江区域中心        浙江E营业部   马宇航             国富定海神柱定期寿险    520.0\n",
       "41 2020-05-19  大童浙江区域中心        浙江E营业部   马宇航    信泰如意人生守护（英雄版）重大疾病保险   1706.0\n",
       "43 2020-05-19  大童辽宁区域中心        辽宁E营业部   张秀霞      平安个人意外保障计划（2020版）    115.0\n",
       "37 2020-05-18  大童辽宁区域中心        辽宁E营业部    王卓  中信保诚「祯爱」优选定期寿险（2019版）   1090.0\n",
       "36 2020-05-18  大童河南区域中心        河南E营业部   陈修峻      平安个人意外保障计划（2020版）    465.0\n",
       "35 2020-05-18  大童河北区域中心        河北E营业部   李学佳       昆仑健康保（多倍版）重大疾病保险   4678.6\n",
       "34 2020-05-18  大童河北区域中心        河北E营业部   李学佳      平安个人意外保障计划（2020版）    115.0\n",
       "33 2020-05-18  大童河北区域中心        河北E营业部   李学佳    信泰如意人生守护（英雄版）重大疾病保险   5660.0\n",
       "28 2020-05-17  大童北京区域中心        北京E营业部   巴信军          和谐健康大黄蜂少儿定期重疾    420.0\n",
       "32 2020-05-17  大童浙江区域中心        浙江E营业部   马宇航      平安个人意外保障计划（2020版）    115.0\n",
       "31 2020-05-17  大童浙江区域中心        浙江E营业部   马宇航                 众安飞享e生     79.0\n",
       "30 2020-05-17  大童浙江区域中心        浙江E营业部   郑凯骏      平安个人意外保障计划（2020版）    230.0\n",
       "29 2020-05-17  大童河北区域中心        河北E营业部    房颖      平安个人意外保障计划（2020版）    115.0\n",
       "27 2020-05-17  大童北京区域中心        北京E营业部   巴信军            众安尊享e生2020版    267.0\n",
       "25 2020-05-16  大童四川区域中心        四川E营业部   曾天慧      平安个人意外保障计划（2020版）    115.0\n",
       "26 2020-05-16  大童辽宁区域中心        辽宁E营业部    王卓            众安尊享e生2020版   1083.0\n",
       "24 2020-05-15  大童辽宁区域中心        辽宁E营业部    王卓      平安个人意外保障计划（2020版）    115.0\n",
       "23 2020-05-15  大童湖南区域中心        湖南E营业部    何敏           易安住院保•成人医疗保险    277.0\n",
       "22 2020-05-15  大童四川区域中心        四川E营业部   曾天慧      平安个人意外保障计划（2020版）    115.0\n",
       "21 2020-05-15  大童上海区域中心        上海E营业部    陆颖          泰康E齿康个人综合齿科保险    588.0\n",
       "20 2020-05-14  大童辽宁区域中心        辽宁E营业部    王卓       复星联合妈咪保贝少儿重大疾病保险    537.0\n",
       "19 2020-05-14  大童湖北区域中心        湖北E营业部   艾华东                  平安复业保  10788.0\n",
       "18 2020-05-13  大童河北区域中心        河北E营业部   吕俊芬      平安个人意外保障计划（2020版）    115.0\n",
       "14 2020-05-12  大童云南区域中心        云南E营业部   付忠英        众惠全能百万医疗保险2020款    232.0\n",
       "16 2020-05-12  大童浙江区域中心        浙江E营业部   郑凯骏    信泰如意人生守护（英雄版）重大疾病保险   8301.0\n",
       "15 2020-05-12  大童河北区域中心        河北E营业部    房颖      平安个人意外保障计划（2020版）    230.0\n",
       "17 2020-05-12  大童湖北区域中心        湖北E营业部   鲍铭涵      平安个人意外保障计划（2020版）    115.0\n",
       "13 2020-05-11  大童上海区域中心        上海E营业部   刘雅萍      平安个人意外保障计划（2020版）    465.0\n",
       "12 2020-05-10  大童河南区域中心        河南E营业部   陈修峻   招商仁和安康综合意外险(升级版)-成人版    300.0\n",
       "11 2020-05-09  大童河南区域中心        河南E营业部   陈修峻          浙商乐享全年个人综合意外险    300.0\n",
       "10 2020-05-09  大童河南区域中心        河南E营业部   陈修峻       易安百万守护全年综合意外伤害保险    596.0\n",
       "9  2020-05-09  大童河南区域中心        河南E营业部   陈修峻   招商仁和安康综合意外险(升级版)-成人版    300.0\n",
       "8  2020-05-09  大童河南区域中心        河南E营业部   陈修峻     快保-国泰个人综合意外险(1-4类)    395.0\n",
       "7  2020-05-09  大童河南区域中心        河南E营业部   陈修峻             安联意外保（超越版）    300.0\n",
       "6  2020-05-09  大童上海区域中心        上海E营业部   郭敏媛      平安个人意外保障计划（2020版）    115.0\n",
       "5  2020-05-09  大童上海区域中心        上海E营业部   郭敏媛            众安尊享e生2020版    896.0\n",
       "4  2020-05-09  大童上海区域中心        上海E营业部   郭敏媛   众安孝欣保老年恶性肿瘤医疗保险(特惠版)    939.0\n",
       "3  2020-05-07  大童云南区域中心        云南E营业部   吴咏梅            快保-安联意外保险计划    200.0\n",
       "2  2020-05-05  大童湖北区域中心        湖北E营业部   鲍铭涵               华贵小爱终身寿险  13800.0\n",
       "1  2020-05-05  大童湖北区域中心        湖北E营业部   鲍铭涵             华贵守护e家终身寿险  48900.0\n",
       "0  2020-04-29  大童山东区域中心        山东E营业部   周生科       百年康惠保（旗舰版）重大疾病保险   2950.0"
      ]
     },
     "execution_count": 95,
     "metadata": {},
     "output_type": "execute_result"
    }
   ],
   "source": [
    "order_20.loc[(order_20.team_bus_name.str.contains('E')) \n",
    "             & (order_20.team_bus_name.notna()),:].groupby(['date_pay','area_type','team_bus_name','uname','pname']).bf.sum().reset_index().sort_values('date_pay',ascending=False)"
   ]
  },
  {
   "cell_type": "markdown",
   "metadata": {},
   "source": [
    "### 险种变化趋势图"
   ]
  },
  {
   "cell_type": "code",
   "execution_count": 30,
   "metadata": {
    "ExecuteTime": {
     "end_time": "2020-05-20T02:01:03.344109Z",
     "start_time": "2020-05-20T02:00:59.600121Z"
    }
   },
   "outputs": [],
   "source": [
    "order_20['date_pay_str'] = order_20.date_pay.dt.strftime('%m-%d')"
   ]
  },
  {
   "cell_type": "code",
   "execution_count": 31,
   "metadata": {
    "ExecuteTime": {
     "end_time": "2020-05-20T02:01:08.297896Z",
     "start_time": "2020-05-20T02:01:07.831112Z"
    }
   },
   "outputs": [],
   "source": [
    "order_20.loc[(order_20.plabel_L1.isin(['意外险','重疾险','健康险','定期寿险'])) \n",
    "             & (order_20.date_pay>= pd.to_datetime('2020-03-01'))].groupby(['date_pay_str','plabel_need']).bf.sum().reset_index().pivot(index='date_pay_str',columns ='plabel_need',values='bf').tail(30).to_excel('12.xlsx')"
   ]
  },
  {
   "cell_type": "markdown",
   "metadata": {},
   "source": [
    "### 邮件发送数据"
   ]
  },
  {
   "cell_type": "code",
   "execution_count": 96,
   "metadata": {
    "ExecuteTime": {
     "end_time": "2020-05-18T08:31:07.972446Z",
     "start_time": "2020-05-18T08:31:06.977106Z"
    }
   },
   "outputs": [
    {
     "name": "stdout",
     "output_type": "stream",
     "text": [
      "邮件发送成功\n"
     ]
    }
   ],
   "source": [
    "import smtplib\n",
    "from email.mime.multipart import MIMEMultipart\n",
    "from email.mime.text import MIMEText\n",
    "from email.mime.application import MIMEApplication\n",
    "\n",
    "export_en_col = ['order','order_origin','pname','bf','date_pay','ucode','uname','area_type']\n",
    "export_cn_col = ['订单号','保单号','产品名称','保费','支付日期','核心编码','姓名','区域中心']\n",
    "\n",
    "\n",
    "_user = \"liusf@dtinsure.com\"\n",
    "_pwd  = \"Lausf621\"\n",
    "dir_mail = 'E:\\\\SynologyDrive\\\\data_support_res\\\\'\n",
    "## 经纪\n",
    "order_bj = order_sum.loc[(order_sum.date_pay >= pd.to_datetime('2020-04-26'))\n",
    "             & (order_sum.area_type =='大童直属经纪区域中心'),export_en_col].copy()\n",
    "order_bj.columns = export_cn_col\n",
    "order_bj.to_excel(dir_mail+'2020年经纪北京互联网报表.xlsx',index=0)                 \n",
    "file_bj = dir_mail + '2020年经纪北京互联网报表.xlsx'\n",
    "\n",
    "to_bj   = \"ningsai@dtinsure.com\"\n",
    "msg = MIMEMultipart()\n",
    "msg[\"Subject\"] = \"互联网保单明细\"\n",
    "msg[\"From\"]    = _user\n",
    "msg[\"To\"]      = to_bj\n",
    "\n",
    "part = MIMEText(\"互联网保单明细，请查收！\")\n",
    "msg.attach(part)\n",
    "\n",
    "#---这是附件部分---\n",
    "#xlsx类型附件\n",
    "part = MIMEApplication(open(file_bj,'rb').read())\n",
    "part.add_header('Content-Disposition', 'attachment', filename=\"2020年经纪北京互联网保单明细.xlsx\")\n",
    "msg.attach(part)\n",
    "\n",
    "s = smtplib.SMTP(\"smtp.dtinsure.com\", 25) #连接smtp邮件服务器,端口默认是25\n",
    "s.login(_user, _pwd) #登陆服务器\n",
    "s.sendmail(_user, to_bj, msg.as_string()) #发送邮件\n",
    "s.close()\n",
    "print('邮件发送成功')\n",
    "del part"
   ]
  },
  {
   "cell_type": "markdown",
   "metadata": {},
   "source": [
    "## 家庭线上线下产品搭配情况"
   ]
  },
  {
   "cell_type": "markdown",
   "metadata": {},
   "source": [
    "### 基础数据处理"
   ]
  },
  {
   "cell_type": "code",
   "execution_count": 168,
   "metadata": {
    "ExecuteTime": {
     "end_time": "2020-05-21T07:35:49.973942Z",
     "start_time": "2020-05-21T07:35:49.949010Z"
    }
   },
   "outputs": [],
   "source": [
    "res = order_zj_on[['tb_id','bb_id']].copy()\n",
    "node = []\n",
    "for x in res.values:\n",
    "#     print(tuple(x))\n",
    "    node.append(tuple(x))"
   ]
  },
  {
   "cell_type": "code",
   "execution_count": 94,
   "metadata": {
    "ExecuteTime": {
     "end_time": "2020-05-22T09:40:53.050253Z",
     "start_time": "2020-05-22T09:40:42.549321Z"
    }
   },
   "outputs": [],
   "source": [
    "order_20_need = pd.merge(order_20,df[['order','保额','year_pay','year_protect']],how='left',on='order')"
   ]
  },
  {
   "cell_type": "code",
   "execution_count": 95,
   "metadata": {
    "ExecuteTime": {
     "end_time": "2020-05-22T09:40:54.043597Z",
     "start_time": "2020-05-22T09:40:53.051252Z"
    }
   },
   "outputs": [],
   "source": [
    "order_zj_on = order_20_need.loc[(order_20_need.plabel_L1 =='重疾险') & (order_20.plabel_term ==1),:].copy()\n",
    "order_off_sum.rename(columns = {'date_input':'date_pay','投保单号':'order'},inplace=True)\n",
    "order_zj_off = order_off_sum.copy()"
   ]
  },
  {
   "cell_type": "code",
   "execution_count": 96,
   "metadata": {
    "ExecuteTime": {
     "end_time": "2020-05-22T09:40:55.202501Z",
     "start_time": "2020-05-22T09:40:55.140665Z"
    }
   },
   "outputs": [],
   "source": [
    "order_zj_on['order_type'] = '线上重疾'\n",
    "order_zj_off['order_type'] = np.nan\n",
    "order_zj_off.loc[order_zj_off.pname.str.contains('重大疾病'),'order_type'] = '线下重疾'\n",
    "order_zj_off.order_type.fillna('线下其他',inplace=True)"
   ]
  },
  {
   "cell_type": "code",
   "execution_count": 97,
   "metadata": {
    "ExecuteTime": {
     "end_time": "2020-05-22T09:40:56.457175Z",
     "start_time": "2020-05-22T09:40:56.336470Z"
    }
   },
   "outputs": [],
   "source": [
    "order_zj_on['zj_type'] = np.nan\n",
    "order_zj_on.loc[order_zj_on.year_protect =='至-105岁','zj_type'] = '保终身'\n",
    "order_zj_on.zj_type.fillna('保定期',inplace=True)\n",
    "order_zj_off['zj_type'] = np.nan\n",
    "order_zj_off.loc[order_zj_off.year_protect.isin(['至200岁','200年','至100岁','至105岁', '至106岁','至99岁', '至120岁', '100年']),'zj_type'] = '保终身'\n",
    "order_zj_off.zj_type.fillna('保定期',inplace=True)"
   ]
  },
  {
   "cell_type": "code",
   "execution_count": 44,
   "metadata": {
    "ExecuteTime": {
     "end_time": "2020-05-22T01:51:18.095353Z",
     "start_time": "2020-05-22T01:51:17.957723Z"
    }
   },
   "outputs": [],
   "source": [
    "col = ['order','date_pay','pname','bf','ucode_need','tb_id','bb_id','relation','year_pay','year_protect','保额','order_type']\n",
    "order_all = pd.concat([order_zj_on[col],order_zj_off[col]])"
   ]
  },
  {
   "cell_type": "code",
   "execution_count": 45,
   "metadata": {
    "ExecuteTime": {
     "end_time": "2020-05-22T01:51:19.249267Z",
     "start_time": "2020-05-22T01:51:19.237300Z"
    }
   },
   "outputs": [],
   "source": [
    "cust_zj_on = list(order_zj_on.tb_id.unique())\n",
    "cust_zj_on.extend(list(order_zj_on.bb_id.unique()))\n",
    "cust_zj_on = list(set(cust_zj_on))"
   ]
  },
  {
   "cell_type": "code",
   "execution_count": 46,
   "metadata": {
    "ExecuteTime": {
     "end_time": "2020-05-22T01:51:19.934437Z",
     "start_time": "2020-05-22T01:51:19.893545Z"
    }
   },
   "outputs": [],
   "source": [
    "cust_off = list(order_zj_off.tb_id.unique())\n",
    "cust_off.extend(list(order_zj_off.bb_id.unique()))\n",
    "cust_off = list(set(cust_off))"
   ]
  },
  {
   "cell_type": "code",
   "execution_count": 47,
   "metadata": {
    "ExecuteTime": {
     "end_time": "2020-05-22T01:51:20.743273Z",
     "start_time": "2020-05-22T01:51:20.610629Z"
    }
   },
   "outputs": [],
   "source": [
    "cust_zj_off = list( order_zj_off.loc[order_zj_off.order_type =='线下重疾'].tb_id.unique())\n",
    "cust_zj_off.extend(list(order_zj_off.loc[order_zj_off.order_type =='线下重疾'].bb_id.unique()))\n",
    "cust_zj_off = list(set(cust_zj_off))"
   ]
  },
  {
   "cell_type": "markdown",
   "metadata": {},
   "source": [
    "### 统计-同一被保人配置情况"
   ]
  },
  {
   "cell_type": "code",
   "execution_count": 325,
   "metadata": {
    "ExecuteTime": {
     "end_time": "2020-05-21T09:50:01.865502Z",
     "start_time": "2020-05-21T09:50:01.340907Z"
    }
   },
   "outputs": [],
   "source": [
    "res = order_all.groupby(['bb_id','pname']).agg({'order':'count','bf':'sum'}).reset_index().pivot('bb_id','pname','order').reset_index()"
   ]
  },
  {
   "cell_type": "code",
   "execution_count": 315,
   "metadata": {
    "ExecuteTime": {
     "end_time": "2020-05-21T09:07:21.544797Z",
     "start_time": "2020-05-21T09:07:21.533828Z"
    }
   },
   "outputs": [
    {
     "name": "stdout",
     "output_type": "stream",
     "text": [
      "<class 'pandas.core.frame.DataFrame'>\n",
      "Int64Index: 12564 entries, 32 to 58150\n",
      "Data columns (total 4 columns):\n",
      "bb_id    12564 non-null object\n",
      "线上重疾     12564 non-null float64\n",
      "线下其他     902 non-null float64\n",
      "线下重疾     2295 non-null float64\n",
      "dtypes: float64(3), object(1)\n",
      "memory usage: 490.8+ KB\n"
     ]
    }
   ],
   "source": [
    "res.loc[res.线上重疾.notna(),:].info()"
   ]
  },
  {
   "cell_type": "code",
   "execution_count": 281,
   "metadata": {
    "ExecuteTime": {
     "end_time": "2020-05-21T08:47:37.083109Z",
     "start_time": "2020-05-21T08:47:37.021274Z"
    }
   },
   "outputs": [
    {
     "data": {
      "text/plain": [
       "30049"
      ]
     },
     "execution_count": 281,
     "metadata": {},
     "output_type": "execute_result"
    }
   ],
   "source": [
    "order_zj_off.loc[order_zj_off.order_type =='线下重疾'].tb_id.nunique()"
   ]
  },
  {
   "cell_type": "code",
   "execution_count": 282,
   "metadata": {
    "ExecuteTime": {
     "end_time": "2020-05-21T08:47:53.849275Z",
     "start_time": "2020-05-21T08:47:53.788437Z"
    }
   },
   "outputs": [
    {
     "data": {
      "text/plain": [
       "35714"
      ]
     },
     "execution_count": 282,
     "metadata": {},
     "output_type": "execute_result"
    }
   ],
   "source": [
    "order_zj_off.loc[order_zj_off.order_type =='线下重疾'].bb_id.nunique()"
   ]
  },
  {
   "cell_type": "code",
   "execution_count": 76,
   "metadata": {
    "ExecuteTime": {
     "end_time": "2020-05-22T03:20:03.070353Z",
     "start_time": "2020-05-22T03:20:03.014493Z"
    }
   },
   "outputs": [],
   "source": [
    "order_zj_off['is_on_cust'] = np.nan\n",
    "order_zj_off.loc[(order_zj_off.tb_id.isin(cust_zj_on)) | (order_zj_off.bb_id.isin(cust_zj_on)),'is_on_cust'] = '线上客户'\n",
    "order_zj_off.is_on_cust.fillna('其他客户',inplace=True)"
   ]
  },
  {
   "cell_type": "code",
   "execution_count": 288,
   "metadata": {
    "ExecuteTime": {
     "end_time": "2020-05-21T08:48:40.365887Z",
     "start_time": "2020-05-21T08:48:40.360901Z"
    }
   },
   "outputs": [
    {
     "data": {
      "text/plain": [
       "19926"
      ]
     },
     "execution_count": 288,
     "metadata": {},
     "output_type": "execute_result"
    }
   ],
   "source": [
    "len(cust_zj_on)"
   ]
  },
  {
   "cell_type": "code",
   "execution_count": 297,
   "metadata": {
    "ExecuteTime": {
     "end_time": "2020-05-21T08:53:04.306098Z",
     "start_time": "2020-05-21T08:53:04.300113Z"
    }
   },
   "outputs": [
    {
     "data": {
      "text/plain": [
       "65726"
      ]
     },
     "execution_count": 297,
     "metadata": {},
     "output_type": "execute_result"
    }
   ],
   "source": [
    "len(cust_off)"
   ]
  },
  {
   "cell_type": "code",
   "execution_count": 295,
   "metadata": {
    "ExecuteTime": {
     "end_time": "2020-05-21T08:52:36.493473Z",
     "start_time": "2020-05-21T08:52:36.489480Z"
    }
   },
   "outputs": [
    {
     "data": {
      "text/plain": [
       "48903"
      ]
     },
     "execution_count": 295,
     "metadata": {},
     "output_type": "execute_result"
    }
   ],
   "source": [
    "len(cust_zj_off)"
   ]
  },
  {
   "cell_type": "code",
   "execution_count": 299,
   "metadata": {
    "ExecuteTime": {
     "end_time": "2020-05-21T08:55:28.150450Z",
     "start_time": "2020-05-21T08:55:28.146461Z"
    }
   },
   "outputs": [],
   "source": [
    "cust_zj_on.extend(cust_zj_off)"
   ]
  },
  {
   "cell_type": "code",
   "execution_count": 302,
   "metadata": {
    "ExecuteTime": {
     "end_time": "2020-05-21T08:55:51.193831Z",
     "start_time": "2020-05-21T08:55:51.180867Z"
    }
   },
   "outputs": [
    {
     "data": {
      "text/plain": [
       "64182"
      ]
     },
     "execution_count": 302,
     "metadata": {},
     "output_type": "execute_result"
    }
   ],
   "source": [
    "len(set(cust_zj_on))"
   ]
  },
  {
   "cell_type": "code",
   "execution_count": null,
   "metadata": {},
   "outputs": [],
   "source": []
  },
  {
   "cell_type": "markdown",
   "metadata": {},
   "source": [
    "### 线上重疾组合"
   ]
  },
  {
   "cell_type": "markdown",
   "metadata": {
    "ExecuteTime": {
     "end_time": "2020-05-22T02:16:10.699854Z",
     "start_time": "2020-05-22T02:16:10.696862Z"
    }
   },
   "source": [
    "#### 被保人视角"
   ]
  },
  {
   "cell_type": "code",
   "execution_count": 49,
   "metadata": {
    "ExecuteTime": {
     "end_time": "2020-05-22T01:56:32.714310Z",
     "start_time": "2020-05-22T01:56:23.190778Z"
    }
   },
   "outputs": [],
   "source": [
    "order_zj_on['order_com']  = order_zj_on.zj_type + '_' + order_zj_on.pname\n",
    "order_zj_off['order_com']  = order_zj_off.zj_type + '_' + order_zj_off.pname\n",
    "bb_on = order_zj_on.groupby(['bb_id']).order_com.unique().reset_index()\n",
    "bb_off = order_zj_off.groupby(['bb_id']).order_com.unique().reset_index()"
   ]
  },
  {
   "cell_type": "code",
   "execution_count": 50,
   "metadata": {
    "ExecuteTime": {
     "end_time": "2020-05-22T01:56:32.792102Z",
     "start_time": "2020-05-22T01:56:32.717301Z"
    }
   },
   "outputs": [],
   "source": [
    "res = pd.merge(bb_on,bb_off,how='left',on='bb_id')"
   ]
  },
  {
   "cell_type": "code",
   "execution_count": 51,
   "metadata": {
    "ExecuteTime": {
     "end_time": "2020-05-22T01:56:32.817035Z",
     "start_time": "2020-05-22T01:56:32.794097Z"
    }
   },
   "outputs": [
    {
     "name": "stdout",
     "output_type": "stream",
     "text": [
      "<class 'pandas.core.frame.DataFrame'>\n",
      "Int64Index: 12645 entries, 0 to 12644\n",
      "Data columns (total 3 columns):\n",
      "bb_id          12645 non-null object\n",
      "order_com_x    12645 non-null object\n",
      "order_com_y    2697 non-null object\n",
      "dtypes: object(3)\n",
      "memory usage: 395.2+ KB\n"
     ]
    }
   ],
   "source": [
    "res.info()"
   ]
  },
  {
   "cell_type": "code",
   "execution_count": 52,
   "metadata": {
    "ExecuteTime": {
     "end_time": "2020-05-22T01:57:48.038887Z",
     "start_time": "2020-05-22T01:57:47.735700Z"
    }
   },
   "outputs": [],
   "source": [
    "res['order_com_x'] = res.order_com_x.map(lambda x:str(x))"
   ]
  },
  {
   "cell_type": "code",
   "execution_count": 57,
   "metadata": {
    "ExecuteTime": {
     "end_time": "2020-05-22T02:02:15.851767Z",
     "start_time": "2020-05-22T02:02:15.844786Z"
    }
   },
   "outputs": [],
   "source": [
    "bb_list = res.loc[res.order_com_y.notna(),:].bb_id.unique()"
   ]
  },
  {
   "cell_type": "code",
   "execution_count": 378,
   "metadata": {
    "ExecuteTime": {
     "end_time": "2020-05-21T10:29:30.484765Z",
     "start_time": "2020-05-21T10:29:30.463822Z"
    }
   },
   "outputs": [
    {
     "data": {
      "text/html": [
       "<div>\n",
       "<style scoped>\n",
       "    .dataframe tbody tr th:only-of-type {\n",
       "        vertical-align: middle;\n",
       "    }\n",
       "\n",
       "    .dataframe tbody tr th {\n",
       "        vertical-align: top;\n",
       "    }\n",
       "\n",
       "    .dataframe thead th {\n",
       "        text-align: right;\n",
       "    }\n",
       "</style>\n",
       "<table border=\"1\" class=\"dataframe\">\n",
       "  <thead>\n",
       "    <tr style=\"text-align: right;\">\n",
       "      <th></th>\n",
       "      <th>zj_type</th>\n",
       "      <th>order</th>\n",
       "    </tr>\n",
       "  </thead>\n",
       "  <tbody>\n",
       "    <tr>\n",
       "      <th>0</th>\n",
       "      <td>保定期</td>\n",
       "      <td>2052</td>\n",
       "    </tr>\n",
       "    <tr>\n",
       "      <th>1</th>\n",
       "      <td>保终身</td>\n",
       "      <td>829</td>\n",
       "    </tr>\n",
       "  </tbody>\n",
       "</table>\n",
       "</div>"
      ],
      "text/plain": [
       "  zj_type  order\n",
       "0     保定期   2052\n",
       "1     保终身    829"
      ]
     },
     "execution_count": 378,
     "metadata": {},
     "output_type": "execute_result"
    }
   ],
   "source": [
    "order_zj_on.loc[order_zj_on.bb_id.isin(bb_list),:].groupby('zj_type').order.count().reset_index()"
   ]
  },
  {
   "cell_type": "code",
   "execution_count": 379,
   "metadata": {
    "ExecuteTime": {
     "end_time": "2020-05-21T10:29:46.530857Z",
     "start_time": "2020-05-21T10:29:46.500937Z"
    }
   },
   "outputs": [
    {
     "data": {
      "text/html": [
       "<div>\n",
       "<style scoped>\n",
       "    .dataframe tbody tr th:only-of-type {\n",
       "        vertical-align: middle;\n",
       "    }\n",
       "\n",
       "    .dataframe tbody tr th {\n",
       "        vertical-align: top;\n",
       "    }\n",
       "\n",
       "    .dataframe thead th {\n",
       "        text-align: right;\n",
       "    }\n",
       "</style>\n",
       "<table border=\"1\" class=\"dataframe\">\n",
       "  <thead>\n",
       "    <tr style=\"text-align: right;\">\n",
       "      <th></th>\n",
       "      <th>zj_type</th>\n",
       "      <th>order</th>\n",
       "    </tr>\n",
       "  </thead>\n",
       "  <tbody>\n",
       "    <tr>\n",
       "      <th>0</th>\n",
       "      <td>保定期</td>\n",
       "      <td>557</td>\n",
       "    </tr>\n",
       "    <tr>\n",
       "      <th>1</th>\n",
       "      <td>保终身</td>\n",
       "      <td>2989</td>\n",
       "    </tr>\n",
       "  </tbody>\n",
       "</table>\n",
       "</div>"
      ],
      "text/plain": [
       "  zj_type  order\n",
       "0     保定期    557\n",
       "1     保终身   2989"
      ]
     },
     "execution_count": 379,
     "metadata": {},
     "output_type": "execute_result"
    }
   ],
   "source": [
    "order_zj_off.loc[order_zj_off.bb_id.isin(bb_list),:].groupby('zj_type').order.count().reset_index()"
   ]
  },
  {
   "cell_type": "code",
   "execution_count": 59,
   "metadata": {
    "ExecuteTime": {
     "end_time": "2020-05-22T02:03:01.377031Z",
     "start_time": "2020-05-22T02:03:01.327172Z"
    }
   },
   "outputs": [],
   "source": [
    "order_on_com = order_zj_on.loc[order_zj_on.bb_id.isin(bb_list),:].groupby(['bb_id','order_com']).order.count().reset_index()\n",
    "order_off_com = order_zj_off.loc[order_zj_off.bb_id.isin(bb_list),:].groupby(['bb_id','order_com']).order.count().reset_index()"
   ]
  },
  {
   "cell_type": "code",
   "execution_count": 62,
   "metadata": {
    "ExecuteTime": {
     "end_time": "2020-05-22T02:10:05.296986Z",
     "start_time": "2020-05-22T02:10:05.080560Z"
    }
   },
   "outputs": [],
   "source": [
    "pd.merge(order_on_com,order_off_com,how='left',on='bb_id').groupby(['order_com_x','order_com_y']).size().reset_index().to_excel('12.xlsx')"
   ]
  },
  {
   "cell_type": "code",
   "execution_count": null,
   "metadata": {},
   "outputs": [],
   "source": [
    "## 只做线上线下的业务没有 交叉的良好\n",
    "## 线上与线下是互为补充的关系。 "
   ]
  },
  {
   "cell_type": "code",
   "execution_count": 381,
   "metadata": {
    "ExecuteTime": {
     "end_time": "2020-05-21T10:30:51.941944Z",
     "start_time": "2020-05-21T10:30:51.930973Z"
    }
   },
   "outputs": [
    {
     "data": {
      "text/html": [
       "<div>\n",
       "<style scoped>\n",
       "    .dataframe tbody tr th:only-of-type {\n",
       "        vertical-align: middle;\n",
       "    }\n",
       "\n",
       "    .dataframe tbody tr th {\n",
       "        vertical-align: top;\n",
       "    }\n",
       "\n",
       "    .dataframe thead th {\n",
       "        text-align: right;\n",
       "    }\n",
       "</style>\n",
       "<table border=\"1\" class=\"dataframe\">\n",
       "  <thead>\n",
       "    <tr style=\"text-align: right;\">\n",
       "      <th></th>\n",
       "      <th>zj_type</th>\n",
       "      <th>order</th>\n",
       "    </tr>\n",
       "  </thead>\n",
       "  <tbody>\n",
       "    <tr>\n",
       "      <th>0</th>\n",
       "      <td>保定期</td>\n",
       "      <td>8139</td>\n",
       "    </tr>\n",
       "    <tr>\n",
       "      <th>1</th>\n",
       "      <td>保终身</td>\n",
       "      <td>5258</td>\n",
       "    </tr>\n",
       "  </tbody>\n",
       "</table>\n",
       "</div>"
      ],
      "text/plain": [
       "  zj_type  order\n",
       "0     保定期   8139\n",
       "1     保终身   5258"
      ]
     },
     "execution_count": 381,
     "metadata": {},
     "output_type": "execute_result"
    }
   ],
   "source": [
    "order_zj_on.groupby('zj_type').order.count().reset_index()"
   ]
  },
  {
   "cell_type": "code",
   "execution_count": 53,
   "metadata": {
    "ExecuteTime": {
     "end_time": "2020-05-22T01:57:54.189442Z",
     "start_time": "2020-05-22T01:57:54.170493Z"
    }
   },
   "outputs": [
    {
     "data": {
      "text/html": [
       "<div>\n",
       "<style scoped>\n",
       "    .dataframe tbody tr th:only-of-type {\n",
       "        vertical-align: middle;\n",
       "    }\n",
       "\n",
       "    .dataframe tbody tr th {\n",
       "        vertical-align: top;\n",
       "    }\n",
       "\n",
       "    .dataframe thead th {\n",
       "        text-align: right;\n",
       "    }\n",
       "</style>\n",
       "<table border=\"1\" class=\"dataframe\">\n",
       "  <thead>\n",
       "    <tr style=\"text-align: right;\">\n",
       "      <th></th>\n",
       "      <th>zj_type</th>\n",
       "      <th>order</th>\n",
       "    </tr>\n",
       "  </thead>\n",
       "  <tbody>\n",
       "    <tr>\n",
       "      <th>0</th>\n",
       "      <td>保定期</td>\n",
       "      <td>9185</td>\n",
       "    </tr>\n",
       "    <tr>\n",
       "      <th>1</th>\n",
       "      <td>保终身</td>\n",
       "      <td>51413</td>\n",
       "    </tr>\n",
       "  </tbody>\n",
       "</table>\n",
       "</div>"
      ],
      "text/plain": [
       "  zj_type  order\n",
       "0     保定期   9185\n",
       "1     保终身  51413"
      ]
     },
     "execution_count": 53,
     "metadata": {},
     "output_type": "execute_result"
    }
   ],
   "source": [
    "order_zj_off.groupby('zj_type').order.count().reset_index()"
   ]
  },
  {
   "cell_type": "markdown",
   "metadata": {},
   "source": [
    "#### 投被家庭视角"
   ]
  },
  {
   "cell_type": "code",
   "execution_count": 66,
   "metadata": {
    "ExecuteTime": {
     "end_time": "2020-05-22T02:21:48.962323Z",
     "start_time": "2020-05-22T02:21:48.920437Z"
    }
   },
   "outputs": [
    {
     "data": {
      "text/html": [
       "<div>\n",
       "<style scoped>\n",
       "    .dataframe tbody tr th:only-of-type {\n",
       "        vertical-align: middle;\n",
       "    }\n",
       "\n",
       "    .dataframe tbody tr th {\n",
       "        vertical-align: top;\n",
       "    }\n",
       "\n",
       "    .dataframe thead th {\n",
       "        text-align: right;\n",
       "    }\n",
       "</style>\n",
       "<table border=\"1\" class=\"dataframe\">\n",
       "  <thead>\n",
       "    <tr style=\"text-align: right;\">\n",
       "      <th></th>\n",
       "      <th>zj_type</th>\n",
       "      <th>order</th>\n",
       "    </tr>\n",
       "  </thead>\n",
       "  <tbody>\n",
       "    <tr>\n",
       "      <th>0</th>\n",
       "      <td>保定期</td>\n",
       "      <td>898</td>\n",
       "    </tr>\n",
       "    <tr>\n",
       "      <th>1</th>\n",
       "      <td>保终身</td>\n",
       "      <td>5079</td>\n",
       "    </tr>\n",
       "  </tbody>\n",
       "</table>\n",
       "</div>"
      ],
      "text/plain": [
       "  zj_type  order\n",
       "0     保定期    898\n",
       "1     保终身   5079"
      ]
     },
     "execution_count": 66,
     "metadata": {},
     "output_type": "execute_result"
    }
   ],
   "source": [
    "order_fam = order_zj_off.loc[(order_zj_off.tb_id.isin(cust_zj_on)) | (order_zj_off.bb_id.isin(cust_zj_on)),:]\n",
    "order_fam.groupby('zj_type').order.count().reset_index()"
   ]
  },
  {
   "cell_type": "code",
   "execution_count": 67,
   "metadata": {
    "ExecuteTime": {
     "end_time": "2020-05-22T02:24:58.670035Z",
     "start_time": "2020-05-22T02:24:58.663054Z"
    }
   },
   "outputs": [],
   "source": [
    "fam_id = list(order_fam.tb_id.unique())\n",
    "fam_id.extend(list(order_fam.bb_id.unique()))\n",
    "fam_id = list(set(fam_id))"
   ]
  },
  {
   "cell_type": "code",
   "execution_count": 68,
   "metadata": {
    "ExecuteTime": {
     "end_time": "2020-05-22T02:26:36.533855Z",
     "start_time": "2020-05-22T02:26:36.507925Z"
    },
    "scrolled": true
   },
   "outputs": [
    {
     "data": {
      "text/html": [
       "<div>\n",
       "<style scoped>\n",
       "    .dataframe tbody tr th:only-of-type {\n",
       "        vertical-align: middle;\n",
       "    }\n",
       "\n",
       "    .dataframe tbody tr th {\n",
       "        vertical-align: top;\n",
       "    }\n",
       "\n",
       "    .dataframe thead th {\n",
       "        text-align: right;\n",
       "    }\n",
       "</style>\n",
       "<table border=\"1\" class=\"dataframe\">\n",
       "  <thead>\n",
       "    <tr style=\"text-align: right;\">\n",
       "      <th></th>\n",
       "      <th>zj_type</th>\n",
       "      <th>order</th>\n",
       "    </tr>\n",
       "  </thead>\n",
       "  <tbody>\n",
       "    <tr>\n",
       "      <th>0</th>\n",
       "      <td>保定期</td>\n",
       "      <td>2970</td>\n",
       "    </tr>\n",
       "    <tr>\n",
       "      <th>1</th>\n",
       "      <td>保终身</td>\n",
       "      <td>1319</td>\n",
       "    </tr>\n",
       "  </tbody>\n",
       "</table>\n",
       "</div>"
      ],
      "text/plain": [
       "  zj_type  order\n",
       "0     保定期   2970\n",
       "1     保终身   1319"
      ]
     },
     "execution_count": 68,
     "metadata": {},
     "output_type": "execute_result"
    }
   ],
   "source": [
    "order_zj_on.loc[(order_zj_on.tb_id.isin(fam_id)) | (order_zj_on.bb_id.isin(fam_id)),:].groupby('zj_type').order.count().reset_index()"
   ]
  },
  {
   "cell_type": "code",
   "execution_count": 77,
   "metadata": {
    "ExecuteTime": {
     "end_time": "2020-05-22T03:20:50.330524Z",
     "start_time": "2020-05-22T03:20:50.277695Z"
    }
   },
   "outputs": [],
   "source": [
    "order_zj_off['is_on_cust'] = np.nan\n",
    "order_zj_off.loc[(order_zj_off.tb_id.isin(cust_zj_on)) | (order_zj_off.bb_id.isin(cust_zj_on)),'is_on_cust'] = '线上客户'\n",
    "order_zj_off.is_on_cust.fillna('其他客户',inplace=True)"
   ]
  },
  {
   "cell_type": "code",
   "execution_count": 79,
   "metadata": {
    "ExecuteTime": {
     "end_time": "2020-05-22T03:24:18.872806Z",
     "start_time": "2020-05-22T03:24:18.853827Z"
    }
   },
   "outputs": [],
   "source": [
    "ucode_on_off = order_zj_off.loc[order_zj_off.is_on_cust =='线上客户',:].ucode_need"
   ]
  },
  {
   "cell_type": "code",
   "execution_count": 87,
   "metadata": {
    "ExecuteTime": {
     "end_time": "2020-05-22T03:30:04.551441Z",
     "start_time": "2020-05-22T03:30:04.503543Z"
    }
   },
   "outputs": [
    {
     "data": {
      "text/html": [
       "<div>\n",
       "<style scoped>\n",
       "    .dataframe tbody tr th:only-of-type {\n",
       "        vertical-align: middle;\n",
       "    }\n",
       "\n",
       "    .dataframe tbody tr th {\n",
       "        vertical-align: top;\n",
       "    }\n",
       "\n",
       "    .dataframe thead th {\n",
       "        text-align: right;\n",
       "    }\n",
       "</style>\n",
       "<table border=\"1\" class=\"dataframe\">\n",
       "  <thead>\n",
       "    <tr style=\"text-align: right;\">\n",
       "      <th></th>\n",
       "      <th>bf</th>\n",
       "    </tr>\n",
       "  </thead>\n",
       "  <tbody>\n",
       "    <tr>\n",
       "      <th>count</th>\n",
       "      <td>2163.000000</td>\n",
       "    </tr>\n",
       "    <tr>\n",
       "      <th>mean</th>\n",
       "      <td>33249.909519</td>\n",
       "    </tr>\n",
       "    <tr>\n",
       "      <th>std</th>\n",
       "      <td>40364.029019</td>\n",
       "    </tr>\n",
       "    <tr>\n",
       "      <th>min</th>\n",
       "      <td>190.000000</td>\n",
       "    </tr>\n",
       "    <tr>\n",
       "      <th>25%</th>\n",
       "      <td>8714.500000</td>\n",
       "    </tr>\n",
       "    <tr>\n",
       "      <th>50%</th>\n",
       "      <td>19775.400000</td>\n",
       "    </tr>\n",
       "    <tr>\n",
       "      <th>75%</th>\n",
       "      <td>41873.250000</td>\n",
       "    </tr>\n",
       "    <tr>\n",
       "      <th>max</th>\n",
       "      <td>340390.980000</td>\n",
       "    </tr>\n",
       "  </tbody>\n",
       "</table>\n",
       "</div>"
      ],
      "text/plain": [
       "                  bf\n",
       "count    2163.000000\n",
       "mean    33249.909519\n",
       "std     40364.029019\n",
       "min       190.000000\n",
       "25%      8714.500000\n",
       "50%     19775.400000\n",
       "75%     41873.250000\n",
       "max    340390.980000"
      ]
     },
     "execution_count": 87,
     "metadata": {},
     "output_type": "execute_result"
    }
   ],
   "source": [
    "order_zj_off.loc[(order_zj_off.ucode_need.isin(ucode_on_off))\n",
    "                 & (order_zj_off.order_type =='线下重疾'),:].groupby('ucode_need').bf.sum().reset_index().describe()"
   ]
  },
  {
   "cell_type": "code",
   "execution_count": 98,
   "metadata": {
    "ExecuteTime": {
     "end_time": "2020-05-22T03:47:17.965757Z",
     "start_time": "2020-05-22T03:47:17.895944Z"
    }
   },
   "outputs": [
    {
     "data": {
      "text/plain": [
       "15314"
      ]
     },
     "execution_count": 98,
     "metadata": {},
     "output_type": "execute_result"
    }
   ],
   "source": [
    "a1 = list(order_zj_off.loc[(order_zj_off.ucode_need.isin(ucode_on_off))\n",
    "                 & (order_zj_off.order_type =='线下重疾'),:].tb_id.unique())\n",
    "a2 = list(order_zj_off.loc[(order_zj_off.ucode_need.isin(ucode_on_off))\n",
    "                 & (order_zj_off.order_type =='线下重疾'),:].bb_id.unique())\n",
    "a1.extend(a2)\n",
    "len(set(a1))"
   ]
  },
  {
   "cell_type": "code",
   "execution_count": 99,
   "metadata": {
    "ExecuteTime": {
     "end_time": "2020-05-22T03:47:56.325909Z",
     "start_time": "2020-05-22T03:47:56.262108Z"
    }
   },
   "outputs": [
    {
     "data": {
      "text/plain": [
       "5587"
      ]
     },
     "execution_count": 99,
     "metadata": {},
     "output_type": "execute_result"
    }
   ],
   "source": [
    "a1 = list(order_zj_off.loc[(order_zj_off.ucode_need.isin(ucode_on_off))\n",
    "                 & (order_zj_off.order_type =='线下重疾') & (order_zj_off.is_on_cust =='线上客户'),:].tb_id.unique())\n",
    "a2 = list(order_zj_off.loc[(order_zj_off.ucode_need.isin(ucode_on_off))\n",
    "                 & (order_zj_off.order_type =='线下重疾') & (order_zj_off.is_on_cust =='线上客户'),:].bb_id.unique())\n",
    "a1.extend(a2)\n",
    "len(set(a1))"
   ]
  },
  {
   "cell_type": "code",
   "execution_count": 97,
   "metadata": {
    "ExecuteTime": {
     "end_time": "2020-05-22T03:46:17.763743Z",
     "start_time": "2020-05-22T03:46:17.700881Z"
    }
   },
   "outputs": [
    {
     "ename": "ValueError",
     "evalue": "operands could not be broadcast together with shapes (9295,) (11210,) ",
     "output_type": "error",
     "traceback": [
      "\u001b[1;31m---------------------------------------------------------------------------\u001b[0m",
      "\u001b[1;31mValueError\u001b[0m                                Traceback (most recent call last)",
      "\u001b[1;32m<ipython-input-97-f3dc2fc4a2c5>\u001b[0m in \u001b[0;36m<module>\u001b[1;34m()\u001b[0m\n\u001b[0;32m      1\u001b[0m order_zj_off.loc[(order_zj_off.ucode_need.isin(ucode_on_off))\n\u001b[1;32m----> 2\u001b[1;33m                  & (order_zj_off.order_type =='线下重疾'),:].tb_id.unique() + order_zj_off.loc[(order_zj_off.ucode_need.isin(ucode_on_off))& (order_zj_off.order_type =='线下重疾'),:].bb_id.unique()\n\u001b[0m",
      "\u001b[1;31mValueError\u001b[0m: operands could not be broadcast together with shapes (9295,) (11210,) "
     ]
    }
   ],
   "source": [
    "order_zj_off.loc[(order_zj_off.ucode_need.isin(ucode_on_off))\n",
    "                 & (order_zj_off.order_type =='线下重疾'),:].tb_id.unique() + order_zj_off.loc[(order_zj_off.ucode_need.isin(ucode_on_off))& (order_zj_off.order_type =='线下重疾'),:].bb_id.unique()"
   ]
  },
  {
   "cell_type": "code",
   "execution_count": 91,
   "metadata": {
    "ExecuteTime": {
     "end_time": "2020-05-22T03:35:20.007869Z",
     "start_time": "2020-05-22T03:35:19.958029Z"
    },
    "scrolled": true
   },
   "outputs": [
    {
     "data": {
      "text/html": [
       "<div>\n",
       "<style scoped>\n",
       "    .dataframe tbody tr th:only-of-type {\n",
       "        vertical-align: middle;\n",
       "    }\n",
       "\n",
       "    .dataframe tbody tr th {\n",
       "        vertical-align: top;\n",
       "    }\n",
       "\n",
       "    .dataframe thead th {\n",
       "        text-align: right;\n",
       "    }\n",
       "</style>\n",
       "<table border=\"1\" class=\"dataframe\">\n",
       "  <thead>\n",
       "    <tr style=\"text-align: right;\">\n",
       "      <th></th>\n",
       "      <th>bf</th>\n",
       "    </tr>\n",
       "  </thead>\n",
       "  <tbody>\n",
       "    <tr>\n",
       "      <th>count</th>\n",
       "      <td>2204.000000</td>\n",
       "    </tr>\n",
       "    <tr>\n",
       "      <th>mean</th>\n",
       "      <td>6544.423798</td>\n",
       "    </tr>\n",
       "    <tr>\n",
       "      <th>std</th>\n",
       "      <td>9973.005807</td>\n",
       "    </tr>\n",
       "    <tr>\n",
       "      <th>min</th>\n",
       "      <td>86.000000</td>\n",
       "    </tr>\n",
       "    <tr>\n",
       "      <th>25%</th>\n",
       "      <td>1123.000000</td>\n",
       "    </tr>\n",
       "    <tr>\n",
       "      <th>50%</th>\n",
       "      <td>3128.500000</td>\n",
       "    </tr>\n",
       "    <tr>\n",
       "      <th>75%</th>\n",
       "      <td>7909.400000</td>\n",
       "    </tr>\n",
       "    <tr>\n",
       "      <th>max</th>\n",
       "      <td>156573.000000</td>\n",
       "    </tr>\n",
       "  </tbody>\n",
       "</table>\n",
       "</div>"
      ],
      "text/plain": [
       "                  bf\n",
       "count    2204.000000\n",
       "mean     6544.423798\n",
       "std      9973.005807\n",
       "min        86.000000\n",
       "25%      1123.000000\n",
       "50%      3128.500000\n",
       "75%      7909.400000\n",
       "max    156573.000000"
      ]
     },
     "execution_count": 91,
     "metadata": {},
     "output_type": "execute_result"
    }
   ],
   "source": [
    "order_zj_on.loc[order_zj_on.ucode_need.isin(ucode_on_off),:].groupby('ucode_need').bf.sum().reset_index().describe()"
   ]
  },
  {
   "cell_type": "markdown",
   "metadata": {},
   "source": [
    "##  ABC重疾用户分类"
   ]
  },
  {
   "cell_type": "code",
   "execution_count": 103,
   "metadata": {
    "ExecuteTime": {
     "end_time": "2020-05-22T09:54:14.956949Z",
     "start_time": "2020-05-22T09:54:14.868216Z"
    }
   },
   "outputs": [],
   "source": [
    "order_zj_offline = order_zj_off.loc[order_zj_off.order_type =='线下重疾',:].copy()"
   ]
  },
  {
   "cell_type": "code",
   "execution_count": 104,
   "metadata": {
    "ExecuteTime": {
     "end_time": "2020-05-22T09:54:16.128817Z",
     "start_time": "2020-05-22T09:54:16.096929Z"
    }
   },
   "outputs": [],
   "source": [
    "res = pd.merge(order_zj_on.groupby('ucode_need').bf.sum().reset_index(),order_zj_offline.groupby('ucode_need').bf.sum().reset_index(),how='left',on='ucode_need')"
   ]
  },
  {
   "cell_type": "code",
   "execution_count": 107,
   "metadata": {
    "ExecuteTime": {
     "end_time": "2020-05-22T09:57:27.368726Z",
     "start_time": "2020-05-22T09:57:27.364710Z"
    }
   },
   "outputs": [],
   "source": [
    "order_zj_on['zj_type_01'] = order_zj_on.zj_type\n",
    "order_zj_on.loc[order_zj_on.plabel_L2 =='少儿','zj_type_01'] = '少儿重疾'"
   ]
  },
  {
   "cell_type": "code",
   "execution_count": 106,
   "metadata": {
    "ExecuteTime": {
     "end_time": "2020-05-22T09:56:54.670073Z",
     "start_time": "2020-05-22T09:56:54.664090Z"
    }
   },
   "outputs": [],
   "source": [
    "ucode_on_off = res.loc[res.bf_y.notna(),:].ucode_need.unique()"
   ]
  },
  {
   "cell_type": "code",
   "execution_count": 124,
   "metadata": {
    "ExecuteTime": {
     "end_time": "2020-05-22T10:10:31.303768Z",
     "start_time": "2020-05-22T10:10:31.300772Z"
    }
   },
   "outputs": [],
   "source": [
    "agg_col_01 = {'uid':'nunique','bf':'sum'}\n",
    "agg_col_02 = {'ucode_need':'nunique','bf':'sum'}"
   ]
  },
  {
   "cell_type": "code",
   "execution_count": 134,
   "metadata": {
    "ExecuteTime": {
     "end_time": "2020-05-22T10:23:22.687962Z",
     "start_time": "2020-05-22T10:23:22.662028Z"
    }
   },
   "outputs": [
    {
     "data": {
      "text/html": [
       "<div>\n",
       "<style scoped>\n",
       "    .dataframe tbody tr th:only-of-type {\n",
       "        vertical-align: middle;\n",
       "    }\n",
       "\n",
       "    .dataframe tbody tr th {\n",
       "        vertical-align: top;\n",
       "    }\n",
       "\n",
       "    .dataframe thead th {\n",
       "        text-align: right;\n",
       "    }\n",
       "</style>\n",
       "<table border=\"1\" class=\"dataframe\">\n",
       "  <thead>\n",
       "    <tr style=\"text-align: right;\">\n",
       "      <th></th>\n",
       "      <th>zj_type_01</th>\n",
       "      <th>uid</th>\n",
       "      <th>bf</th>\n",
       "    </tr>\n",
       "  </thead>\n",
       "  <tbody>\n",
       "    <tr>\n",
       "      <th>0</th>\n",
       "      <td>保定期</td>\n",
       "      <td>394</td>\n",
       "      <td>1740903.20</td>\n",
       "    </tr>\n",
       "    <tr>\n",
       "      <th>1</th>\n",
       "      <td>保终身</td>\n",
       "      <td>893</td>\n",
       "      <td>6703051.85</td>\n",
       "    </tr>\n",
       "    <tr>\n",
       "      <th>2</th>\n",
       "      <td>少儿重疾</td>\n",
       "      <td>1492</td>\n",
       "      <td>3048020.00</td>\n",
       "    </tr>\n",
       "  </tbody>\n",
       "</table>\n",
       "</div>"
      ],
      "text/plain": [
       "  zj_type_01   uid          bf\n",
       "0        保定期   394  1740903.20\n",
       "1        保终身   893  6703051.85\n",
       "2       少儿重疾  1492  3048020.00"
      ]
     },
     "execution_count": 134,
     "metadata": {},
     "output_type": "execute_result"
    }
   ],
   "source": [
    "order_zj_on.loc[order_zj_on.ucode_need.isin(ucode_on_off)==False].groupby('zj_type_01').agg(agg_col_01).reset_index()"
   ]
  },
  {
   "cell_type": "code",
   "execution_count": 135,
   "metadata": {
    "ExecuteTime": {
     "end_time": "2020-05-22T10:24:05.166397Z",
     "start_time": "2020-05-22T10:24:05.145453Z"
    }
   },
   "outputs": [
    {
     "data": {
      "text/html": [
       "<div>\n",
       "<style scoped>\n",
       "    .dataframe tbody tr th:only-of-type {\n",
       "        vertical-align: middle;\n",
       "    }\n",
       "\n",
       "    .dataframe tbody tr th {\n",
       "        vertical-align: top;\n",
       "    }\n",
       "\n",
       "    .dataframe thead th {\n",
       "        text-align: right;\n",
       "    }\n",
       "</style>\n",
       "<table border=\"1\" class=\"dataframe\">\n",
       "  <thead>\n",
       "    <tr style=\"text-align: right;\">\n",
       "      <th></th>\n",
       "      <th>index</th>\n",
       "      <th>0</th>\n",
       "    </tr>\n",
       "  </thead>\n",
       "  <tbody>\n",
       "    <tr>\n",
       "      <th>0</th>\n",
       "      <td>uid</td>\n",
       "      <td>2352.00</td>\n",
       "    </tr>\n",
       "    <tr>\n",
       "      <th>1</th>\n",
       "      <td>bf</td>\n",
       "      <td>11491975.05</td>\n",
       "    </tr>\n",
       "  </tbody>\n",
       "</table>\n",
       "</div>"
      ],
      "text/plain": [
       "  index            0\n",
       "0   uid      2352.00\n",
       "1    bf  11491975.05"
      ]
     },
     "execution_count": 135,
     "metadata": {},
     "output_type": "execute_result"
    }
   ],
   "source": [
    "order_zj_on.loc[order_zj_on.ucode_need.isin(ucode_on_off)==False].agg(agg_col_01).reset_index()"
   ]
  },
  {
   "cell_type": "code",
   "execution_count": 136,
   "metadata": {
    "ExecuteTime": {
     "end_time": "2020-05-22T10:31:42.307217Z",
     "start_time": "2020-05-22T10:31:42.299204Z"
    }
   },
   "outputs": [
    {
     "data": {
      "text/plain": [
       "5725"
      ]
     },
     "execution_count": 136,
     "metadata": {},
     "output_type": "execute_result"
    }
   ],
   "source": [
    "order_zj_on.uid.nunique()"
   ]
  },
  {
   "cell_type": "code",
   "execution_count": 132,
   "metadata": {
    "ExecuteTime": {
     "end_time": "2020-05-22T10:20:30.055384Z",
     "start_time": "2020-05-22T10:20:29.978617Z"
    }
   },
   "outputs": [
    {
     "data": {
      "text/html": [
       "<div>\n",
       "<style scoped>\n",
       "    .dataframe tbody tr th:only-of-type {\n",
       "        vertical-align: middle;\n",
       "    }\n",
       "\n",
       "    .dataframe tbody tr th {\n",
       "        vertical-align: top;\n",
       "    }\n",
       "\n",
       "    .dataframe thead th {\n",
       "        text-align: right;\n",
       "    }\n",
       "</style>\n",
       "<table border=\"1\" class=\"dataframe\">\n",
       "  <thead>\n",
       "    <tr style=\"text-align: right;\">\n",
       "      <th></th>\n",
       "      <th>ucode_need</th>\n",
       "      <th>bf</th>\n",
       "    </tr>\n",
       "    <tr>\n",
       "      <th>zj_type</th>\n",
       "      <th></th>\n",
       "      <th></th>\n",
       "    </tr>\n",
       "  </thead>\n",
       "  <tbody>\n",
       "    <tr>\n",
       "      <th>保定期</th>\n",
       "      <td>202</td>\n",
       "      <td>8.422541e+05</td>\n",
       "    </tr>\n",
       "    <tr>\n",
       "      <th>保终身</th>\n",
       "      <td>7741</td>\n",
       "      <td>1.180733e+08</td>\n",
       "    </tr>\n",
       "  </tbody>\n",
       "</table>\n",
       "</div>"
      ],
      "text/plain": [
       "         ucode_need            bf\n",
       "zj_type                          \n",
       "保定期             202  8.422541e+05\n",
       "保终身            7741  1.180733e+08"
      ]
     },
     "execution_count": 132,
     "metadata": {},
     "output_type": "execute_result"
    }
   ],
   "source": [
    "order_zj_offline.loc[order_zj_offline.ucode_need.isin(ucode_on_off)==False].groupby('zj_type').agg(agg_col_02)"
   ]
  },
  {
   "cell_type": "code",
   "execution_count": 133,
   "metadata": {
    "ExecuteTime": {
     "end_time": "2020-05-22T10:21:11.175432Z",
     "start_time": "2020-05-22T10:21:11.127562Z"
    }
   },
   "outputs": [
    {
     "data": {
      "text/html": [
       "<div>\n",
       "<style scoped>\n",
       "    .dataframe tbody tr th:only-of-type {\n",
       "        vertical-align: middle;\n",
       "    }\n",
       "\n",
       "    .dataframe tbody tr th {\n",
       "        vertical-align: top;\n",
       "    }\n",
       "\n",
       "    .dataframe thead th {\n",
       "        text-align: right;\n",
       "    }\n",
       "</style>\n",
       "<table border=\"1\" class=\"dataframe\">\n",
       "  <thead>\n",
       "    <tr style=\"text-align: right;\">\n",
       "      <th></th>\n",
       "      <th>index</th>\n",
       "      <th>0</th>\n",
       "    </tr>\n",
       "  </thead>\n",
       "  <tbody>\n",
       "    <tr>\n",
       "      <th>0</th>\n",
       "      <td>ucode_need</td>\n",
       "      <td>7.797000e+03</td>\n",
       "    </tr>\n",
       "    <tr>\n",
       "      <th>1</th>\n",
       "      <td>bf</td>\n",
       "      <td>1.189156e+08</td>\n",
       "    </tr>\n",
       "  </tbody>\n",
       "</table>\n",
       "</div>"
      ],
      "text/plain": [
       "        index             0\n",
       "0  ucode_need  7.797000e+03\n",
       "1          bf  1.189156e+08"
      ]
     },
     "execution_count": 133,
     "metadata": {},
     "output_type": "execute_result"
    }
   ],
   "source": [
    "order_zj_offline.loc[order_zj_offline.ucode_need.isin(ucode_on_off)==False].agg(agg_col_02).reset_index()"
   ]
  },
  {
   "cell_type": "code",
   "execution_count": 131,
   "metadata": {
    "ExecuteTime": {
     "end_time": "2020-05-22T10:13:01.864352Z",
     "start_time": "2020-05-22T10:13:01.859393Z"
    }
   },
   "outputs": [
    {
     "data": {
      "text/plain": [
       "3395"
      ]
     },
     "execution_count": 131,
     "metadata": {},
     "output_type": "execute_result"
    }
   ],
   "source": [
    "len(ucode_on_off)"
   ]
  },
  {
   "cell_type": "markdown",
   "metadata": {},
   "source": [
    "## 客户首单产品"
   ]
  },
  {
   "cell_type": "code",
   "execution_count": 26,
   "metadata": {
    "ExecuteTime": {
     "end_time": "2020-05-22T09:02:49.460271Z",
     "start_time": "2020-05-22T09:02:46.497184Z"
    }
   },
   "outputs": [],
   "source": [
    "col =['tb_id','bb_id','pname','date_pay']\n",
    "order_all = pd.concat([order_20[col],order_2019_need[col]])"
   ]
  },
  {
   "cell_type": "code",
   "execution_count": 27,
   "metadata": {
    "ExecuteTime": {
     "end_time": "2020-05-22T09:02:50.715908Z",
     "start_time": "2020-05-22T09:02:50.703927Z"
    }
   },
   "outputs": [],
   "source": [
    "order_all.date_pay.fillna(pd.to_datetime('2019-10-01'),inplace=True)"
   ]
  },
  {
   "cell_type": "code",
   "execution_count": 28,
   "metadata": {
    "ExecuteTime": {
     "end_time": "2020-05-22T09:03:12.269273Z",
     "start_time": "2020-05-22T09:02:52.060289Z"
    }
   },
   "outputs": [],
   "source": [
    "order_all['rns'] = order_all['date_pay'].groupby(order_all['tb_id']).rank(ascending=True,method='first')\n",
    "tb_id_first = order_all.loc[order_all.rns ==1,['tb_id','date_pay','pname']].copy()\n",
    "\n",
    "order_all['rns'] = order_all['date_pay'].groupby(order_all['bb_id']).rank(ascending=True,method='first')\n",
    "bb_id_first = order_all.loc[order_all.rns ==1,['bb_id','date_pay','pname']].copy()\n",
    "\n",
    "tb_id_first.columns = ['bb_id','date_pay','pname']\n",
    "cust_all = pd.concat([tb_id_first,bb_id_first])\n",
    "\n",
    "cust_all['rns'] =  cust_all['date_pay'].groupby(cust_all['bb_id']).rank(ascending=True,method='first')\n",
    "cust_first = cust_all.loc[cust_all.rns ==1,:].copy()"
   ]
  },
  {
   "cell_type": "code",
   "execution_count": 29,
   "metadata": {
    "ExecuteTime": {
     "end_time": "2020-05-22T09:03:12.274261Z",
     "start_time": "2020-05-22T09:03:12.270271Z"
    }
   },
   "outputs": [],
   "source": [
    "plist = ['复星联合爱无忧意外伤害保险','安联女性特定重疾保险计划（18-40周岁）','安联女性特定重疾保险计划（41-50周岁）']\n",
    "plist1 = ['复星联合爱无忧意外伤害保险']\n",
    "plist2 = ['安联女性特定重疾保险计划（18-40周岁）','安联女性特定重疾保险计划（41-50周岁）']"
   ]
  },
  {
   "cell_type": "code",
   "execution_count": 30,
   "metadata": {
    "ExecuteTime": {
     "end_time": "2020-05-22T09:03:12.357067Z",
     "start_time": "2020-05-22T09:03:12.275258Z"
    }
   },
   "outputs": [
    {
     "name": "stdout",
     "output_type": "stream",
     "text": [
      "<class 'pandas.core.frame.DataFrame'>\n",
      "Int64Index: 57560 entries, 208117 to 350245\n",
      "Data columns (total 4 columns):\n",
      " #   Column    Non-Null Count  Dtype         \n",
      "---  ------    --------------  -----         \n",
      " 0   bb_id     57560 non-null  object        \n",
      " 1   date_pay  57560 non-null  datetime64[ns]\n",
      " 2   pname     57560 non-null  object        \n",
      " 3   rns       57560 non-null  float64       \n",
      "dtypes: datetime64[ns](1), float64(1), object(2)\n",
      "memory usage: 2.2+ MB\n"
     ]
    }
   ],
   "source": [
    "cust_first.loc[cust_first.pname.isin(plist2),:].info()"
   ]
  },
  {
   "cell_type": "code",
   "execution_count": 31,
   "metadata": {
    "ExecuteTime": {
     "end_time": "2020-05-22T09:03:12.799887Z",
     "start_time": "2020-05-22T09:03:12.744005Z"
    }
   },
   "outputs": [
    {
     "data": {
      "text/html": [
       "<div>\n",
       "<style scoped>\n",
       "    .dataframe tbody tr th:only-of-type {\n",
       "        vertical-align: middle;\n",
       "    }\n",
       "\n",
       "    .dataframe tbody tr th {\n",
       "        vertical-align: top;\n",
       "    }\n",
       "\n",
       "    .dataframe thead th {\n",
       "        text-align: right;\n",
       "    }\n",
       "</style>\n",
       "<table border=\"1\" class=\"dataframe\">\n",
       "  <thead>\n",
       "    <tr style=\"text-align: right;\">\n",
       "      <th></th>\n",
       "      <th>bb_id</th>\n",
       "      <th>date_pay</th>\n",
       "      <th>pname</th>\n",
       "      <th>rns</th>\n",
       "    </tr>\n",
       "  </thead>\n",
       "  <tbody>\n",
       "    <tr>\n",
       "      <th>141670</th>\n",
       "      <td>460022199210313916</td>\n",
       "      <td>2020-02-10</td>\n",
       "      <td>复星联合爱无忧意外伤害保险</td>\n",
       "      <td>1.0</td>\n",
       "    </tr>\n",
       "    <tr>\n",
       "      <th>141678</th>\n",
       "      <td>362121195808130021</td>\n",
       "      <td>2020-02-10</td>\n",
       "      <td>复星联合爱无忧意外伤害保险</td>\n",
       "      <td>1.0</td>\n",
       "    </tr>\n",
       "    <tr>\n",
       "      <th>141679</th>\n",
       "      <td>445281198803012710</td>\n",
       "      <td>2020-02-10</td>\n",
       "      <td>复星联合爱无忧意外伤害保险</td>\n",
       "      <td>1.0</td>\n",
       "    </tr>\n",
       "    <tr>\n",
       "      <th>141685</th>\n",
       "      <td>430981199704198317</td>\n",
       "      <td>2020-02-10</td>\n",
       "      <td>复星联合爱无忧意外伤害保险</td>\n",
       "      <td>1.0</td>\n",
       "    </tr>\n",
       "    <tr>\n",
       "      <th>141687</th>\n",
       "      <td>460021196302215213</td>\n",
       "      <td>2020-02-10</td>\n",
       "      <td>复星联合爱无忧意外伤害保险</td>\n",
       "      <td>1.0</td>\n",
       "    </tr>\n",
       "  </tbody>\n",
       "</table>\n",
       "</div>"
      ],
      "text/plain": [
       "                     bb_id   date_pay          pname  rns\n",
       "141670  460022199210313916 2020-02-10  复星联合爱无忧意外伤害保险  1.0\n",
       "141678  362121195808130021 2020-02-10  复星联合爱无忧意外伤害保险  1.0\n",
       "141679  445281198803012710 2020-02-10  复星联合爱无忧意外伤害保险  1.0\n",
       "141685  430981199704198317 2020-02-10  复星联合爱无忧意外伤害保险  1.0\n",
       "141687  460021196302215213 2020-02-10  复星联合爱无忧意外伤害保险  1.0"
      ]
     },
     "execution_count": 31,
     "metadata": {},
     "output_type": "execute_result"
    }
   ],
   "source": [
    "cust_first.loc[cust_first.pname.isin(plist1),:].head()"
   ]
  },
  {
   "cell_type": "code",
   "execution_count": 32,
   "metadata": {
    "ExecuteTime": {
     "end_time": "2020-05-22T09:03:16.910898Z",
     "start_time": "2020-05-22T09:03:16.848063Z"
    }
   },
   "outputs": [
    {
     "data": {
      "text/html": [
       "<div>\n",
       "<style scoped>\n",
       "    .dataframe tbody tr th:only-of-type {\n",
       "        vertical-align: middle;\n",
       "    }\n",
       "\n",
       "    .dataframe tbody tr th {\n",
       "        vertical-align: top;\n",
       "    }\n",
       "\n",
       "    .dataframe thead th {\n",
       "        text-align: right;\n",
       "    }\n",
       "</style>\n",
       "<table border=\"1\" class=\"dataframe\">\n",
       "  <thead>\n",
       "    <tr style=\"text-align: right;\">\n",
       "      <th></th>\n",
       "      <th>bb_id</th>\n",
       "      <th>date_pay</th>\n",
       "      <th>pname</th>\n",
       "      <th>rns</th>\n",
       "    </tr>\n",
       "  </thead>\n",
       "  <tbody>\n",
       "    <tr>\n",
       "      <th>208117</th>\n",
       "      <td>421081199402173448</td>\n",
       "      <td>2020-02-25</td>\n",
       "      <td>安联女性特定重疾保险计划（18-40周岁）</td>\n",
       "      <td>1.0</td>\n",
       "    </tr>\n",
       "    <tr>\n",
       "      <th>211011</th>\n",
       "      <td>150204199204121286</td>\n",
       "      <td>2020-02-26</td>\n",
       "      <td>安联女性特定重疾保险计划（18-40周岁）</td>\n",
       "      <td>1.0</td>\n",
       "    </tr>\n",
       "    <tr>\n",
       "      <th>211012</th>\n",
       "      <td>422427197708091520</td>\n",
       "      <td>2020-02-26</td>\n",
       "      <td>安联女性特定重疾保险计划（41-50周岁）</td>\n",
       "      <td>1.0</td>\n",
       "    </tr>\n",
       "    <tr>\n",
       "      <th>211014</th>\n",
       "      <td>362523198501234422</td>\n",
       "      <td>2020-02-26</td>\n",
       "      <td>安联女性特定重疾保险计划（18-40周岁）</td>\n",
       "      <td>1.0</td>\n",
       "    </tr>\n",
       "    <tr>\n",
       "      <th>211015</th>\n",
       "      <td>321121199904034822</td>\n",
       "      <td>2020-02-26</td>\n",
       "      <td>安联女性特定重疾保险计划（18-40周岁）</td>\n",
       "      <td>1.0</td>\n",
       "    </tr>\n",
       "  </tbody>\n",
       "</table>\n",
       "</div>"
      ],
      "text/plain": [
       "                     bb_id   date_pay                  pname  rns\n",
       "208117  421081199402173448 2020-02-25  安联女性特定重疾保险计划（18-40周岁）  1.0\n",
       "211011  150204199204121286 2020-02-26  安联女性特定重疾保险计划（18-40周岁）  1.0\n",
       "211012  422427197708091520 2020-02-26  安联女性特定重疾保险计划（41-50周岁）  1.0\n",
       "211014  362523198501234422 2020-02-26  安联女性特定重疾保险计划（18-40周岁）  1.0\n",
       "211015  321121199904034822 2020-02-26  安联女性特定重疾保险计划（18-40周岁）  1.0"
      ]
     },
     "execution_count": 32,
     "metadata": {},
     "output_type": "execute_result"
    }
   ],
   "source": [
    "cust_first.loc[cust_first.pname.isin(plist2),:].head()"
   ]
  },
  {
   "cell_type": "code",
   "execution_count": 33,
   "metadata": {
    "ExecuteTime": {
     "end_time": "2020-05-22T09:03:17.997963Z",
     "start_time": "2020-05-22T09:03:17.855345Z"
    }
   },
   "outputs": [],
   "source": [
    "cust_love = cust_first.loc[cust_first.pname.isin(plist1),:].bb_id.unique()\n",
    "cust_female = cust_first.loc[cust_first.pname.isin(plist2),:].bb_id.unique()"
   ]
  },
  {
   "cell_type": "markdown",
   "metadata": {},
   "source": [
    "### 净增客户转化"
   ]
  },
  {
   "cell_type": "code",
   "execution_count": 67,
   "metadata": {
    "ExecuteTime": {
     "end_time": "2020-05-22T09:09:45.412503Z",
     "start_time": "2020-05-22T09:09:45.408508Z"
    }
   },
   "outputs": [
    {
     "data": {
      "text/plain": [
       "Index(['序号', '保单状态', 'date_tb', '回单日期', '保单录入日期', '承保日期', '预收日期', 'date_pay',\n",
       "       '销售团队代码', '销售团队名称', '地区分类', '团队分类', '是否本部', '营业部代码', '营业部名称', '是否营业中心',\n",
       "       '营业部所属批牌机构编码', '营业部所属批牌', '营业部类型', '代理人代码', '代理人姓名', '入司日期', '代理人职级',\n",
       "       '业务合伙人级别', '经营合伙人级别', '经营团队总经理标志', '职业化标志', '推荐人代码', '推荐人姓名', '辅导人代码',\n",
       "       '辅导人姓名', '经营合伙人代码', '经营合伙人姓名', '离职日期', 'ucode', '现代理人姓名', 'area_type',\n",
       "       '原辅代理人姓名', '原辅代理人编码', '原辅代理人所在销售团队名称', '原辅代理人所在销售团队代码', '原辅代理人所在机构',\n",
       "       '现辅代理人姓名', '现辅代理人编码', '现辅代理人所在销售团队名称', '现辅代理人所在销售团队代码', '是否自保件',\n",
       "       '保险公司代码', '保险公司名称', '投保单号', '保单号', 'tb_name', 'bb_name', '险种代码',\n",
       "       '外部险种代码', 'pname', '是否主险', '产品分类', '交费年期|年龄标志', '缴费期', '佣金率', '规模保费',\n",
       "       'bf', '保额', '保全标志', '是否纳入现代理人方案统计', '归属类型', '归属细类', '保单关系人', '代码', '姓名',\n",
       "       '月份', '销服代码', '销服名称', '机构', '职级', '入司日期.1', '入司月', '营业部代码.1', '营业部名称.1',\n",
       "       '是否营业中心.1', '师傅代码', '师傅姓名', 'ucode_need', 'age', 'sex', 'area',\n",
       "       'degree', 'grade', 'year_pay', 'year_protect', 'tb_gender', 'tb_age',\n",
       "       'bb_gender', 'bb_age', 'tb_id', 'bb_id', 'relation'],\n",
       "      dtype='object')"
      ]
     },
     "execution_count": 67,
     "metadata": {},
     "output_type": "execute_result"
    }
   ],
   "source": [
    "order_off_sum.columns"
   ]
  },
  {
   "cell_type": "markdown",
   "metadata": {},
   "source": [
    "#### 爱无忧之后的保单"
   ]
  },
  {
   "cell_type": "code",
   "execution_count": 68,
   "metadata": {
    "ExecuteTime": {
     "end_time": "2020-05-22T09:09:58.005866Z",
     "start_time": "2020-05-22T09:09:57.950009Z"
    }
   },
   "outputs": [],
   "source": [
    "agg_col_01 = {'uid':'nunique','order':'count','bf':'sum'}\n",
    "agg_col_02 = {'ucode_need':'nunique','order':'count','bf':'sum'}\n",
    "\n",
    "on_col = ['order','pname','date_pay','bf','ucode_need','uid','tb_id','bb_id']\n",
    "plist = ['复星联合爱无忧意外伤害保险','安联女性特定重疾保险计划（18-40周岁）','安联女性特定重疾保险计划（41-50周岁）']\n",
    "off_col = ['order','pname','date_pay','bf','ucode_need','tb_id','bb_id']\n",
    "\n",
    "order_off_sum.rename(columns = {'date_input':'date_pay','投保单号':'order'},inplace=True)"
   ]
  },
  {
   "cell_type": "code",
   "execution_count": 69,
   "metadata": {
    "ExecuteTime": {
     "end_time": "2020-05-22T09:10:01.233246Z",
     "start_time": "2020-05-22T09:10:00.707617Z"
    }
   },
   "outputs": [],
   "source": [
    "order_on =  order_20.loc[(order_20.pname.isin(plist)==False) & (order_20.date_pay >= pd.to_datetime('2020-02-10')),on_col].copy()\n",
    "order_off = order_off_sum.loc[order_off_sum.date_pay >= pd.to_datetime('2020-02-10'),off_col].copy()"
   ]
  },
  {
   "cell_type": "code",
   "execution_count": 70,
   "metadata": {
    "ExecuteTime": {
     "end_time": "2020-05-22T09:10:02.794066Z",
     "start_time": "2020-05-22T09:10:02.654413Z"
    }
   },
   "outputs": [],
   "source": [
    "order_on['is_love_cust'] = np.nan\n",
    "order_on.loc[(order_on.tb_id.isin(cust_love)) | (order_on.bb_id.isin(cust_love)),'is_love_cust'] = '爱无忧客户'\n",
    "order_on.is_love_cust.fillna('未知客户',inplace=True)"
   ]
  },
  {
   "cell_type": "code",
   "execution_count": 71,
   "metadata": {
    "ExecuteTime": {
     "end_time": "2020-05-22T09:10:04.037718Z",
     "start_time": "2020-05-22T09:10:03.933023Z"
    }
   },
   "outputs": [
    {
     "data": {
      "text/plain": [
       "uid         1418.00\n",
       "order       2942.00\n",
       "bf       1926260.74\n",
       "dtype: float64"
      ]
     },
     "execution_count": 71,
     "metadata": {},
     "output_type": "execute_result"
    }
   ],
   "source": [
    "order_on.loc[order_on.is_love_cust =='爱无忧客户',:].agg(agg_col_01)"
   ]
  },
  {
   "cell_type": "code",
   "execution_count": 76,
   "metadata": {
    "ExecuteTime": {
     "end_time": "2020-05-22T09:12:25.114152Z",
     "start_time": "2020-05-22T09:12:25.057290Z"
    }
   },
   "outputs": [
    {
     "data": {
      "text/plain": [
       "3227"
      ]
     },
     "execution_count": 76,
     "metadata": {},
     "output_type": "execute_result"
    }
   ],
   "source": [
    "a1 = list(order_on.loc[order_on.is_love_cust =='爱无忧客户',:].tb_id.unique())\n",
    "a2 = list(order_on.loc[order_on.is_love_cust =='爱无忧客户',:].bb_id.unique())\n",
    "a1.extend(a2)\n",
    "len(set(a1))"
   ]
  },
  {
   "cell_type": "code",
   "execution_count": 72,
   "metadata": {
    "ExecuteTime": {
     "end_time": "2020-05-22T09:10:18.729479Z",
     "start_time": "2020-05-22T09:10:18.692561Z"
    }
   },
   "outputs": [],
   "source": [
    "order_off['is_love_cust'] = np.nan\n",
    "order_off.loc[(order_off.tb_id.isin(cust_love)) | (order_off.bb_id.isin(cust_love)),'is_love_cust'] = '爱无忧客户'\n",
    "order_off.is_love_cust.fillna('未知客户',inplace=True)"
   ]
  },
  {
   "cell_type": "code",
   "execution_count": 73,
   "metadata": {
    "ExecuteTime": {
     "end_time": "2020-05-22T09:10:20.532659Z",
     "start_time": "2020-05-22T09:10:20.510688Z"
    }
   },
   "outputs": [
    {
     "data": {
      "text/plain": [
       "ucode_need         945.00\n",
       "order             1758.00\n",
       "bf            12445370.92\n",
       "dtype: float64"
      ]
     },
     "execution_count": 73,
     "metadata": {},
     "output_type": "execute_result"
    }
   ],
   "source": [
    "order_off.loc[order_off.is_love_cust =='爱无忧客户',:].agg(agg_col_02)"
   ]
  },
  {
   "cell_type": "code",
   "execution_count": 77,
   "metadata": {
    "ExecuteTime": {
     "end_time": "2020-05-22T09:12:58.671447Z",
     "start_time": "2020-05-22T09:12:58.655490Z"
    }
   },
   "outputs": [
    {
     "data": {
      "text/plain": [
       "1850"
      ]
     },
     "execution_count": 77,
     "metadata": {},
     "output_type": "execute_result"
    }
   ],
   "source": [
    "a1 = list(order_off.loc[order_off.is_love_cust =='爱无忧客户',:].tb_id.unique())\n",
    "a2 = list(order_off.loc[order_off.is_love_cust =='爱无忧客户',:].bb_id.unique())\n",
    "a1.extend(a2)\n",
    "len(set(a1))"
   ]
  },
  {
   "cell_type": "markdown",
   "metadata": {},
   "source": [
    "####  赠险之后的保单"
   ]
  },
  {
   "cell_type": "code",
   "execution_count": 78,
   "metadata": {
    "ExecuteTime": {
     "end_time": "2020-05-22T09:13:28.845827Z",
     "start_time": "2020-05-22T09:13:28.385076Z"
    }
   },
   "outputs": [],
   "source": [
    "order_on =  order_20.loc[(order_20.pname.isin(plist)==False) & (order_20.date_pay >= pd.to_datetime('2020-02-26')),on_col].copy()\n",
    "order_off = order_off_sum.loc[order_off_sum.date_pay >= pd.to_datetime('2020-02-26'),off_col].copy()"
   ]
  },
  {
   "cell_type": "code",
   "execution_count": 80,
   "metadata": {
    "ExecuteTime": {
     "end_time": "2020-05-22T09:13:44.343377Z",
     "start_time": "2020-05-22T09:13:44.134935Z"
    }
   },
   "outputs": [
    {
     "data": {
      "text/plain": [
       "uid         1418.00\n",
       "order       3231.00\n",
       "bf       1747162.15\n",
       "dtype: float64"
      ]
     },
     "execution_count": 80,
     "metadata": {},
     "output_type": "execute_result"
    }
   ],
   "source": [
    "order_on['is_female_cust'] = np.nan\n",
    "order_on.loc[(order_on.tb_id.isin(cust_female)) | (order_on.bb_id.isin(cust_female)),'is_female_cust'] = '赠险客户'\n",
    "order_on.is_female_cust.fillna('未知客户',inplace=True)\n",
    "order_on.loc[order_on.is_female_cust =='赠险客户',:].agg(agg_col_01)"
   ]
  },
  {
   "cell_type": "code",
   "execution_count": 82,
   "metadata": {
    "ExecuteTime": {
     "end_time": "2020-05-22T09:13:58.178427Z",
     "start_time": "2020-05-22T09:13:58.130539Z"
    }
   },
   "outputs": [
    {
     "data": {
      "text/plain": [
       "3501"
      ]
     },
     "execution_count": 82,
     "metadata": {},
     "output_type": "execute_result"
    }
   ],
   "source": [
    "a1 = list(order_on.loc[order_on.is_female_cust =='赠险客户',:].tb_id.unique())\n",
    "a2 = list(order_on.loc[order_on.is_female_cust =='赠险客户',:].bb_id.unique())\n",
    "a1.extend(a2)\n",
    "len(set(a1))"
   ]
  },
  {
   "cell_type": "code",
   "execution_count": 84,
   "metadata": {
    "ExecuteTime": {
     "end_time": "2020-05-22T09:14:24.153005Z",
     "start_time": "2020-05-22T09:14:24.099147Z"
    }
   },
   "outputs": [
    {
     "data": {
      "text/plain": [
       "ucode_need        979.00\n",
       "order            1856.00\n",
       "bf            9484858.28\n",
       "dtype: float64"
      ]
     },
     "execution_count": 84,
     "metadata": {},
     "output_type": "execute_result"
    }
   ],
   "source": [
    "order_off['is_female_cust'] = np.nan\n",
    "order_off.loc[(order_off.tb_id.isin(cust_female)) | (order_off.bb_id.isin(cust_female)),'is_female_cust'] = '赠险客户'\n",
    "order_off.is_female_cust.fillna('未知客户',inplace=True)\n",
    "order_off.loc[order_off.is_female_cust =='赠险客户',:].agg(agg_col_02)"
   ]
  },
  {
   "cell_type": "code",
   "execution_count": 85,
   "metadata": {
    "ExecuteTime": {
     "end_time": "2020-05-22T09:14:25.790630Z",
     "start_time": "2020-05-22T09:14:25.774663Z"
    }
   },
   "outputs": [
    {
     "data": {
      "text/plain": [
       "2046"
      ]
     },
     "execution_count": 85,
     "metadata": {},
     "output_type": "execute_result"
    }
   ],
   "source": [
    "a1 = list(order_off.loc[order_off.is_female_cust =='赠险客户',:].tb_id.unique())\n",
    "a2 = list(order_off.loc[order_off.is_female_cust =='赠险客户',:].bb_id.unique())\n",
    "a1.extend(a2)\n",
    "len(set(a1))"
   ]
  },
  {
   "cell_type": "markdown",
   "metadata": {},
   "source": [
    "#### 托管客户转化"
   ]
  },
  {
   "cell_type": "code",
   "execution_count": 91,
   "metadata": {
    "ExecuteTime": {
     "end_time": "2020-05-21T03:34:00.222149Z",
     "start_time": "2020-05-21T03:34:00.121421Z"
    }
   },
   "outputs": [],
   "source": [
    "cust_tg  = pd.read_csv(dir_order + 'order_tg.csv')"
   ]
  },
  {
   "cell_type": "code",
   "execution_count": 93,
   "metadata": {
    "ExecuteTime": {
     "end_time": "2020-05-21T03:34:42.620746Z",
     "start_time": "2020-05-21T03:34:42.616757Z"
    }
   },
   "outputs": [],
   "source": [
    "cust_tg.columns = ['uid','ucode','bb_id','time_tg']"
   ]
  },
  {
   "cell_type": "code",
   "execution_count": 96,
   "metadata": {
    "ExecuteTime": {
     "end_time": "2020-05-21T03:35:34.146990Z",
     "start_time": "2020-05-21T03:35:34.129038Z"
    }
   },
   "outputs": [
    {
     "data": {
      "text/plain": [
       "uid      2316\n",
       "bb_id    5454\n",
       "dtype: int64"
      ]
     },
     "execution_count": 96,
     "metadata": {},
     "output_type": "execute_result"
    }
   ],
   "source": [
    "cust_tg.loc[cust_tg.bb_id.isin(cust_love),:].agg({'uid':'nunique','bb_id':'nunique'})"
   ]
  },
  {
   "cell_type": "code",
   "execution_count": 97,
   "metadata": {
    "ExecuteTime": {
     "end_time": "2020-05-21T03:36:34.411841Z",
     "start_time": "2020-05-21T03:36:34.383914Z"
    }
   },
   "outputs": [
    {
     "data": {
      "text/plain": [
       "uid       3183\n",
       "bb_id    12619\n",
       "dtype: int64"
      ]
     },
     "execution_count": 97,
     "metadata": {},
     "output_type": "execute_result"
    }
   ],
   "source": [
    "cust_tg.loc[cust_tg.bb_id.isin(cust_female),:].agg({'uid':'nunique','bb_id':'nunique'})"
   ]
  },
  {
   "cell_type": "markdown",
   "metadata": {},
   "source": [
    "### 所需客户"
   ]
  },
  {
   "cell_type": "code",
   "execution_count": 300,
   "metadata": {
    "ExecuteTime": {
     "end_time": "2020-05-20T08:13:30.627055Z",
     "start_time": "2020-05-20T08:13:30.372734Z"
    }
   },
   "outputs": [],
   "source": [
    "## 爱无忧客户 & 三八客户\n",
    "on_col = ['order','pname','date_pay','bf','ucode_need','uid','tb_id','bb_id']\n",
    "cust_love = order_20.loc[order_20.pname=='复星联合爱无忧意外伤害保险',on_col].copy()\n",
    "cust_female = order_20.loc[order_20.pname.isin(['安联女性特定重疾保险计划（18-40周岁）','安联女性特定重疾保险计划（41-50周岁）']),on_col].copy()"
   ]
  },
  {
   "cell_type": "code",
   "execution_count": null,
   "metadata": {},
   "outputs": [],
   "source": [
    "## 托管客户\n",
    "cust_tg = pd.read"
   ]
  },
  {
   "cell_type": "code",
   "execution_count": 299,
   "metadata": {
    "ExecuteTime": {
     "end_time": "2020-05-20T08:12:49.373362Z",
     "start_time": "2020-05-20T08:12:48.894645Z"
    }
   },
   "outputs": [],
   "source": [
    "plist = ['复星联合爱无忧意外伤害保险','安联女性特定重疾保险计划（18-40周岁）','安联女性特定重疾保险计划（41-50周岁）']\n",
    "order_on =  order_20.loc[(order_20.pname.isin(plist)==False) & (order_20.date_pay >= pd.to_datetime('2020-02-10')),on_col].copy()\n",
    "off_col = ['投保单号','pname','date_input','bf','ucode_need','tb_id','bb_id']\n",
    "order_off = order_off_sum.loc[order_off_sum.date_input >= pd.to_datetime('2020-02-10'),off_col].copy()"
   ]
  },
  {
   "cell_type": "code",
   "execution_count": 302,
   "metadata": {
    "ExecuteTime": {
     "end_time": "2020-05-20T08:20:42.335708Z",
     "start_time": "2020-05-20T08:20:42.321745Z"
    }
   },
   "outputs": [
    {
     "data": {
      "text/plain": [
       "9282"
      ]
     },
     "execution_count": 302,
     "metadata": {},
     "output_type": "execute_result"
    }
   ],
   "source": [
    "cust_love.uid.nunique()"
   ]
  },
  {
   "cell_type": "code",
   "execution_count": 331,
   "metadata": {
    "ExecuteTime": {
     "end_time": "2020-05-20T08:30:26.973518Z",
     "start_time": "2020-05-20T08:30:26.915646Z"
    }
   },
   "outputs": [
    {
     "data": {
      "text/plain": [
       "57787"
      ]
     },
     "execution_count": 331,
     "metadata": {},
     "output_type": "execute_result"
    }
   ],
   "source": [
    "res = list(cust_love.tb_id.unique())\n",
    "res.extend(list(cust_love.bb_id.unique()))\n",
    "cust_love_list = pd.Series(res)\n",
    "cust_love_list.nunique()"
   ]
  },
  {
   "cell_type": "code",
   "execution_count": 333,
   "metadata": {
    "ExecuteTime": {
     "end_time": "2020-05-20T08:34:35.657082Z",
     "start_time": "2020-05-20T08:34:35.528427Z"
    }
   },
   "outputs": [],
   "source": [
    "order_on['is_love_cust'] = np.nan\n",
    "order_on.loc[(order_on.tb_id.isin(cust_love_list)) | (order_on.bb_id.isin(cust_love_list)),'is_love_cust'] = '爱无忧客户'\n",
    "order_on.is_love_cust.fillna('未知客户',inplace=True)"
   ]
  },
  {
   "cell_type": "code",
   "execution_count": 347,
   "metadata": {
    "ExecuteTime": {
     "end_time": "2020-05-20T08:55:28.375922Z",
     "start_time": "2020-05-20T08:55:28.324060Z"
    }
   },
   "outputs": [
    {
     "data": {
      "text/html": [
       "<div>\n",
       "<style scoped>\n",
       "    .dataframe tbody tr th:only-of-type {\n",
       "        vertical-align: middle;\n",
       "    }\n",
       "\n",
       "    .dataframe tbody tr th {\n",
       "        vertical-align: top;\n",
       "    }\n",
       "\n",
       "    .dataframe thead th {\n",
       "        text-align: right;\n",
       "    }\n",
       "</style>\n",
       "<table border=\"1\" class=\"dataframe\">\n",
       "  <thead>\n",
       "    <tr style=\"text-align: right;\">\n",
       "      <th></th>\n",
       "      <th>is_love_cust</th>\n",
       "      <th>uid</th>\n",
       "      <th>order</th>\n",
       "      <th>bf</th>\n",
       "    </tr>\n",
       "  </thead>\n",
       "  <tbody>\n",
       "    <tr>\n",
       "      <th>0</th>\n",
       "      <td>爱无忧客户</td>\n",
       "      <td>4527</td>\n",
       "      <td>14398</td>\n",
       "      <td>8385337.97</td>\n",
       "    </tr>\n",
       "  </tbody>\n",
       "</table>\n",
       "</div>"
      ],
      "text/plain": [
       "  is_love_cust   uid  order          bf\n",
       "0        爱无忧客户  4527  14398  8385337.97"
      ]
     },
     "execution_count": 347,
     "metadata": {},
     "output_type": "execute_result"
    }
   ],
   "source": [
    "order_on.loc[order_on.is_love_cust =='爱无忧客户',:].groupby(['is_love_cust']).agg({'uid':'nunique','order':'count','bf':'sum'}).reset_index().sort_values('bf',ascending=False)"
   ]
  },
  {
   "cell_type": "code",
   "execution_count": 357,
   "metadata": {
    "ExecuteTime": {
     "end_time": "2020-05-20T10:16:10.370888Z",
     "start_time": "2020-05-20T10:16:10.354905Z"
    }
   },
   "outputs": [
    {
     "data": {
      "text/plain": [
       "7779"
      ]
     },
     "execution_count": 357,
     "metadata": {},
     "output_type": "execute_result"
    }
   ],
   "source": [
    "cust_female.uid.nunique()"
   ]
  },
  {
   "cell_type": "code",
   "execution_count": 358,
   "metadata": {
    "ExecuteTime": {
     "end_time": "2020-05-20T10:16:20.032055Z",
     "start_time": "2020-05-20T10:16:19.940274Z"
    }
   },
   "outputs": [
    {
     "data": {
      "text/plain": [
       "81208"
      ]
     },
     "execution_count": 358,
     "metadata": {},
     "output_type": "execute_result"
    }
   ],
   "source": [
    "res = list(cust_female.tb_id.unique())\n",
    "res.extend(list(cust_female.bb_id.unique()))\n",
    "cust_female_list = pd.Series(res)\n",
    "cust_female_list.nunique()"
   ]
  },
  {
   "cell_type": "code",
   "execution_count": 343,
   "metadata": {
    "ExecuteTime": {
     "end_time": "2020-05-20T08:53:58.294796Z",
     "start_time": "2020-05-20T08:53:58.123255Z"
    }
   },
   "outputs": [],
   "source": [
    "order_on['is_female_cust'] = np.nan\n",
    "order_on.loc[(order_on.tb_id.isin(cust_female_list)) | (order_on.bb_id.isin(cust_female_list)),'is_female_cust'] = '妇女节客户'\n",
    "order_on.is_love_cust.fillna('未知客户',inplace=True)\n",
    "order_on.groupby(['is_female_cust']).agg({'uid':'nunique','order':'count','bf':'sum'}).reset_index().sort_values('bf',ascending=False)"
   ]
  },
  {
   "cell_type": "code",
   "execution_count": 371,
   "metadata": {
    "ExecuteTime": {
     "end_time": "2020-05-20T10:26:25.862170Z",
     "start_time": "2020-05-20T10:26:25.747486Z"
    }
   },
   "outputs": [
    {
     "data": {
      "text/html": [
       "<div>\n",
       "<style scoped>\n",
       "    .dataframe tbody tr th:only-of-type {\n",
       "        vertical-align: middle;\n",
       "    }\n",
       "\n",
       "    .dataframe tbody tr th {\n",
       "        vertical-align: top;\n",
       "    }\n",
       "\n",
       "    .dataframe thead th {\n",
       "        text-align: right;\n",
       "    }\n",
       "</style>\n",
       "<table border=\"1\" class=\"dataframe\">\n",
       "  <thead>\n",
       "    <tr style=\"text-align: right;\">\n",
       "      <th></th>\n",
       "      <th>is_female_cust</th>\n",
       "      <th>ucode_need</th>\n",
       "      <th>投保单号</th>\n",
       "      <th>bf</th>\n",
       "    </tr>\n",
       "  </thead>\n",
       "  <tbody>\n",
       "    <tr>\n",
       "      <th>1</th>\n",
       "      <td>未知客户</td>\n",
       "      <td>9526</td>\n",
       "      <td>32657</td>\n",
       "      <td>2.078104e+08</td>\n",
       "    </tr>\n",
       "    <tr>\n",
       "      <th>0</th>\n",
       "      <td>妇女节客户</td>\n",
       "      <td>2017</td>\n",
       "      <td>4266</td>\n",
       "      <td>2.082756e+07</td>\n",
       "    </tr>\n",
       "  </tbody>\n",
       "</table>\n",
       "</div>"
      ],
      "text/plain": [
       "  is_female_cust  ucode_need   投保单号            bf\n",
       "1           未知客户        9526  32657  2.078104e+08\n",
       "0          妇女节客户        2017   4266  2.082756e+07"
      ]
     },
     "execution_count": 371,
     "metadata": {},
     "output_type": "execute_result"
    }
   ],
   "source": [
    "order_off['is_female_cust'] = np.nan\n",
    "order_off.loc[(order_off.tb_id.isin(cust_female_list)) | (order_off.bb_id.isin(cust_female_list)),'is_female_cust'] = '妇女节客户'\n",
    "order_off.is_female_cust.fillna('未知客户',inplace=True)\n",
    "order_off.groupby(['is_female_cust']).agg({'ucode_need':'nunique','投保单号':'count','bf':'sum'}).reset_index().sort_values('bf',ascending=False)"
   ]
  },
  {
   "cell_type": "code",
   "execution_count": 369,
   "metadata": {
    "ExecuteTime": {
     "end_time": "2020-05-20T10:26:15.472949Z",
     "start_time": "2020-05-20T10:26:14.722982Z"
    }
   },
   "outputs": [],
   "source": [
    "plist = ['复星联合爱无忧意外伤害保险','安联女性特定重疾保险计划（18-40周岁）','安联女性特定重疾保险计划（41-50周岁）']\n",
    "order_on =  order_20.loc[(order_20.pname.isin(plist)==False) & (order_20.date_pay >= pd.to_datetime('2020-02-25')),on_col].copy()\n",
    "off_col = ['投保单号','pname','date_input','bf','ucode_need','tb_id','bb_id']\n",
    "order_off = order_off_sum.loc[order_off_sum.date_input >= pd.to_datetime('2020-02-25'),off_col].copy()"
   ]
  },
  {
   "cell_type": "code",
   "execution_count": 372,
   "metadata": {
    "ExecuteTime": {
     "end_time": "2020-05-20T10:26:28.255769Z",
     "start_time": "2020-05-20T10:26:28.228842Z"
    }
   },
   "outputs": [
    {
     "data": {
      "text/html": [
       "<div>\n",
       "<style scoped>\n",
       "    .dataframe tbody tr th:only-of-type {\n",
       "        vertical-align: middle;\n",
       "    }\n",
       "\n",
       "    .dataframe tbody tr th {\n",
       "        vertical-align: top;\n",
       "    }\n",
       "\n",
       "    .dataframe thead th {\n",
       "        text-align: right;\n",
       "    }\n",
       "</style>\n",
       "<table border=\"1\" class=\"dataframe\">\n",
       "  <thead>\n",
       "    <tr style=\"text-align: right;\">\n",
       "      <th></th>\n",
       "      <th>date_input</th>\n",
       "      <th>ucode_need</th>\n",
       "      <th>投保单号</th>\n",
       "      <th>bf</th>\n",
       "    </tr>\n",
       "  </thead>\n",
       "  <tbody>\n",
       "    <tr>\n",
       "      <th>0</th>\n",
       "      <td>2020-02-25</td>\n",
       "      <td>59</td>\n",
       "      <td>79</td>\n",
       "      <td>253774.80</td>\n",
       "    </tr>\n",
       "    <tr>\n",
       "      <th>1</th>\n",
       "      <td>2020-02-26</td>\n",
       "      <td>56</td>\n",
       "      <td>74</td>\n",
       "      <td>298639.16</td>\n",
       "    </tr>\n",
       "    <tr>\n",
       "      <th>2</th>\n",
       "      <td>2020-02-27</td>\n",
       "      <td>56</td>\n",
       "      <td>71</td>\n",
       "      <td>424797.72</td>\n",
       "    </tr>\n",
       "    <tr>\n",
       "      <th>3</th>\n",
       "      <td>2020-02-28</td>\n",
       "      <td>63</td>\n",
       "      <td>86</td>\n",
       "      <td>589269.94</td>\n",
       "    </tr>\n",
       "    <tr>\n",
       "      <th>4</th>\n",
       "      <td>2020-02-29</td>\n",
       "      <td>50</td>\n",
       "      <td>64</td>\n",
       "      <td>398800.32</td>\n",
       "    </tr>\n",
       "    <tr>\n",
       "      <th>5</th>\n",
       "      <td>2020-03-01</td>\n",
       "      <td>59</td>\n",
       "      <td>76</td>\n",
       "      <td>273923.02</td>\n",
       "    </tr>\n",
       "    <tr>\n",
       "      <th>6</th>\n",
       "      <td>2020-03-02</td>\n",
       "      <td>77</td>\n",
       "      <td>104</td>\n",
       "      <td>400541.25</td>\n",
       "    </tr>\n",
       "    <tr>\n",
       "      <th>7</th>\n",
       "      <td>2020-03-03</td>\n",
       "      <td>50</td>\n",
       "      <td>71</td>\n",
       "      <td>250117.92</td>\n",
       "    </tr>\n",
       "    <tr>\n",
       "      <th>8</th>\n",
       "      <td>2020-03-04</td>\n",
       "      <td>46</td>\n",
       "      <td>65</td>\n",
       "      <td>216644.35</td>\n",
       "    </tr>\n",
       "    <tr>\n",
       "      <th>9</th>\n",
       "      <td>2020-03-05</td>\n",
       "      <td>57</td>\n",
       "      <td>76</td>\n",
       "      <td>353532.84</td>\n",
       "    </tr>\n",
       "    <tr>\n",
       "      <th>10</th>\n",
       "      <td>2020-03-06</td>\n",
       "      <td>44</td>\n",
       "      <td>57</td>\n",
       "      <td>199354.22</td>\n",
       "    </tr>\n",
       "    <tr>\n",
       "      <th>11</th>\n",
       "      <td>2020-03-07</td>\n",
       "      <td>45</td>\n",
       "      <td>57</td>\n",
       "      <td>224599.34</td>\n",
       "    </tr>\n",
       "    <tr>\n",
       "      <th>12</th>\n",
       "      <td>2020-03-08</td>\n",
       "      <td>60</td>\n",
       "      <td>81</td>\n",
       "      <td>360897.44</td>\n",
       "    </tr>\n",
       "    <tr>\n",
       "      <th>13</th>\n",
       "      <td>2020-03-09</td>\n",
       "      <td>53</td>\n",
       "      <td>70</td>\n",
       "      <td>290437.69</td>\n",
       "    </tr>\n",
       "    <tr>\n",
       "      <th>14</th>\n",
       "      <td>2020-03-10</td>\n",
       "      <td>37</td>\n",
       "      <td>47</td>\n",
       "      <td>261655.42</td>\n",
       "    </tr>\n",
       "    <tr>\n",
       "      <th>15</th>\n",
       "      <td>2020-03-11</td>\n",
       "      <td>43</td>\n",
       "      <td>58</td>\n",
       "      <td>230064.79</td>\n",
       "    </tr>\n",
       "    <tr>\n",
       "      <th>16</th>\n",
       "      <td>2020-03-12</td>\n",
       "      <td>31</td>\n",
       "      <td>41</td>\n",
       "      <td>145108.08</td>\n",
       "    </tr>\n",
       "    <tr>\n",
       "      <th>17</th>\n",
       "      <td>2020-03-13</td>\n",
       "      <td>41</td>\n",
       "      <td>51</td>\n",
       "      <td>179228.52</td>\n",
       "    </tr>\n",
       "    <tr>\n",
       "      <th>18</th>\n",
       "      <td>2020-03-14</td>\n",
       "      <td>35</td>\n",
       "      <td>47</td>\n",
       "      <td>168323.38</td>\n",
       "    </tr>\n",
       "    <tr>\n",
       "      <th>19</th>\n",
       "      <td>2020-03-15</td>\n",
       "      <td>31</td>\n",
       "      <td>40</td>\n",
       "      <td>143899.07</td>\n",
       "    </tr>\n",
       "    <tr>\n",
       "      <th>20</th>\n",
       "      <td>2020-03-16</td>\n",
       "      <td>61</td>\n",
       "      <td>72</td>\n",
       "      <td>387125.37</td>\n",
       "    </tr>\n",
       "    <tr>\n",
       "      <th>21</th>\n",
       "      <td>2020-03-17</td>\n",
       "      <td>50</td>\n",
       "      <td>66</td>\n",
       "      <td>285914.75</td>\n",
       "    </tr>\n",
       "    <tr>\n",
       "      <th>22</th>\n",
       "      <td>2020-03-18</td>\n",
       "      <td>148</td>\n",
       "      <td>179</td>\n",
       "      <td>1486768.82</td>\n",
       "    </tr>\n",
       "    <tr>\n",
       "      <th>23</th>\n",
       "      <td>2020-03-19</td>\n",
       "      <td>54</td>\n",
       "      <td>70</td>\n",
       "      <td>293420.03</td>\n",
       "    </tr>\n",
       "    <tr>\n",
       "      <th>24</th>\n",
       "      <td>2020-03-20</td>\n",
       "      <td>59</td>\n",
       "      <td>75</td>\n",
       "      <td>416779.38</td>\n",
       "    </tr>\n",
       "    <tr>\n",
       "      <th>25</th>\n",
       "      <td>2020-03-21</td>\n",
       "      <td>27</td>\n",
       "      <td>30</td>\n",
       "      <td>147924.47</td>\n",
       "    </tr>\n",
       "    <tr>\n",
       "      <th>26</th>\n",
       "      <td>2020-03-22</td>\n",
       "      <td>30</td>\n",
       "      <td>41</td>\n",
       "      <td>163164.30</td>\n",
       "    </tr>\n",
       "    <tr>\n",
       "      <th>27</th>\n",
       "      <td>2020-03-23</td>\n",
       "      <td>54</td>\n",
       "      <td>67</td>\n",
       "      <td>291235.57</td>\n",
       "    </tr>\n",
       "    <tr>\n",
       "      <th>28</th>\n",
       "      <td>2020-03-24</td>\n",
       "      <td>72</td>\n",
       "      <td>90</td>\n",
       "      <td>482804.30</td>\n",
       "    </tr>\n",
       "    <tr>\n",
       "      <th>29</th>\n",
       "      <td>2020-03-25</td>\n",
       "      <td>143</td>\n",
       "      <td>183</td>\n",
       "      <td>1021213.14</td>\n",
       "    </tr>\n",
       "    <tr>\n",
       "      <th>...</th>\n",
       "      <td>...</td>\n",
       "      <td>...</td>\n",
       "      <td>...</td>\n",
       "      <td>...</td>\n",
       "    </tr>\n",
       "    <tr>\n",
       "      <th>50</th>\n",
       "      <td>2020-04-15</td>\n",
       "      <td>28</td>\n",
       "      <td>32</td>\n",
       "      <td>120198.02</td>\n",
       "    </tr>\n",
       "    <tr>\n",
       "      <th>51</th>\n",
       "      <td>2020-04-16</td>\n",
       "      <td>25</td>\n",
       "      <td>32</td>\n",
       "      <td>210439.73</td>\n",
       "    </tr>\n",
       "    <tr>\n",
       "      <th>52</th>\n",
       "      <td>2020-04-17</td>\n",
       "      <td>21</td>\n",
       "      <td>24</td>\n",
       "      <td>93617.66</td>\n",
       "    </tr>\n",
       "    <tr>\n",
       "      <th>53</th>\n",
       "      <td>2020-04-18</td>\n",
       "      <td>25</td>\n",
       "      <td>27</td>\n",
       "      <td>116312.82</td>\n",
       "    </tr>\n",
       "    <tr>\n",
       "      <th>54</th>\n",
       "      <td>2020-04-19</td>\n",
       "      <td>22</td>\n",
       "      <td>29</td>\n",
       "      <td>145972.16</td>\n",
       "    </tr>\n",
       "    <tr>\n",
       "      <th>55</th>\n",
       "      <td>2020-04-20</td>\n",
       "      <td>32</td>\n",
       "      <td>35</td>\n",
       "      <td>146787.80</td>\n",
       "    </tr>\n",
       "    <tr>\n",
       "      <th>56</th>\n",
       "      <td>2020-04-21</td>\n",
       "      <td>34</td>\n",
       "      <td>39</td>\n",
       "      <td>177140.58</td>\n",
       "    </tr>\n",
       "    <tr>\n",
       "      <th>57</th>\n",
       "      <td>2020-04-22</td>\n",
       "      <td>35</td>\n",
       "      <td>41</td>\n",
       "      <td>225213.30</td>\n",
       "    </tr>\n",
       "    <tr>\n",
       "      <th>58</th>\n",
       "      <td>2020-04-23</td>\n",
       "      <td>46</td>\n",
       "      <td>56</td>\n",
       "      <td>283013.71</td>\n",
       "    </tr>\n",
       "    <tr>\n",
       "      <th>59</th>\n",
       "      <td>2020-04-24</td>\n",
       "      <td>44</td>\n",
       "      <td>58</td>\n",
       "      <td>245859.72</td>\n",
       "    </tr>\n",
       "    <tr>\n",
       "      <th>60</th>\n",
       "      <td>2020-04-25</td>\n",
       "      <td>76</td>\n",
       "      <td>88</td>\n",
       "      <td>250612.20</td>\n",
       "    </tr>\n",
       "    <tr>\n",
       "      <th>61</th>\n",
       "      <td>2020-04-26</td>\n",
       "      <td>35</td>\n",
       "      <td>48</td>\n",
       "      <td>289383.39</td>\n",
       "    </tr>\n",
       "    <tr>\n",
       "      <th>62</th>\n",
       "      <td>2020-04-27</td>\n",
       "      <td>36</td>\n",
       "      <td>41</td>\n",
       "      <td>262600.07</td>\n",
       "    </tr>\n",
       "    <tr>\n",
       "      <th>63</th>\n",
       "      <td>2020-04-28</td>\n",
       "      <td>36</td>\n",
       "      <td>46</td>\n",
       "      <td>282699.86</td>\n",
       "    </tr>\n",
       "    <tr>\n",
       "      <th>64</th>\n",
       "      <td>2020-04-29</td>\n",
       "      <td>38</td>\n",
       "      <td>46</td>\n",
       "      <td>273402.15</td>\n",
       "    </tr>\n",
       "    <tr>\n",
       "      <th>65</th>\n",
       "      <td>2020-04-30</td>\n",
       "      <td>49</td>\n",
       "      <td>56</td>\n",
       "      <td>418538.76</td>\n",
       "    </tr>\n",
       "    <tr>\n",
       "      <th>66</th>\n",
       "      <td>2020-05-01</td>\n",
       "      <td>38</td>\n",
       "      <td>48</td>\n",
       "      <td>157626.60</td>\n",
       "    </tr>\n",
       "    <tr>\n",
       "      <th>67</th>\n",
       "      <td>2020-05-02</td>\n",
       "      <td>17</td>\n",
       "      <td>25</td>\n",
       "      <td>109682.18</td>\n",
       "    </tr>\n",
       "    <tr>\n",
       "      <th>68</th>\n",
       "      <td>2020-05-03</td>\n",
       "      <td>18</td>\n",
       "      <td>28</td>\n",
       "      <td>146029.80</td>\n",
       "    </tr>\n",
       "    <tr>\n",
       "      <th>69</th>\n",
       "      <td>2020-05-04</td>\n",
       "      <td>17</td>\n",
       "      <td>20</td>\n",
       "      <td>79430.99</td>\n",
       "    </tr>\n",
       "    <tr>\n",
       "      <th>70</th>\n",
       "      <td>2020-05-05</td>\n",
       "      <td>28</td>\n",
       "      <td>44</td>\n",
       "      <td>258299.08</td>\n",
       "    </tr>\n",
       "    <tr>\n",
       "      <th>71</th>\n",
       "      <td>2020-05-06</td>\n",
       "      <td>31</td>\n",
       "      <td>36</td>\n",
       "      <td>125609.76</td>\n",
       "    </tr>\n",
       "    <tr>\n",
       "      <th>72</th>\n",
       "      <td>2020-05-07</td>\n",
       "      <td>28</td>\n",
       "      <td>34</td>\n",
       "      <td>132435.02</td>\n",
       "    </tr>\n",
       "    <tr>\n",
       "      <th>73</th>\n",
       "      <td>2020-05-08</td>\n",
       "      <td>22</td>\n",
       "      <td>25</td>\n",
       "      <td>43436.68</td>\n",
       "    </tr>\n",
       "    <tr>\n",
       "      <th>74</th>\n",
       "      <td>2020-05-09</td>\n",
       "      <td>24</td>\n",
       "      <td>34</td>\n",
       "      <td>135682.74</td>\n",
       "    </tr>\n",
       "    <tr>\n",
       "      <th>75</th>\n",
       "      <td>2020-05-10</td>\n",
       "      <td>26</td>\n",
       "      <td>33</td>\n",
       "      <td>138820.53</td>\n",
       "    </tr>\n",
       "    <tr>\n",
       "      <th>76</th>\n",
       "      <td>2020-05-11</td>\n",
       "      <td>29</td>\n",
       "      <td>36</td>\n",
       "      <td>191381.28</td>\n",
       "    </tr>\n",
       "    <tr>\n",
       "      <th>77</th>\n",
       "      <td>2020-05-12</td>\n",
       "      <td>25</td>\n",
       "      <td>34</td>\n",
       "      <td>115688.58</td>\n",
       "    </tr>\n",
       "    <tr>\n",
       "      <th>78</th>\n",
       "      <td>2020-05-13</td>\n",
       "      <td>21</td>\n",
       "      <td>29</td>\n",
       "      <td>139728.82</td>\n",
       "    </tr>\n",
       "    <tr>\n",
       "      <th>79</th>\n",
       "      <td>2020-05-14</td>\n",
       "      <td>10</td>\n",
       "      <td>14</td>\n",
       "      <td>58466.28</td>\n",
       "    </tr>\n",
       "  </tbody>\n",
       "</table>\n",
       "<p>80 rows × 4 columns</p>\n",
       "</div>"
      ],
      "text/plain": [
       "   date_input  ucode_need  投保单号          bf\n",
       "0  2020-02-25          59    79   253774.80\n",
       "1  2020-02-26          56    74   298639.16\n",
       "2  2020-02-27          56    71   424797.72\n",
       "3  2020-02-28          63    86   589269.94\n",
       "4  2020-02-29          50    64   398800.32\n",
       "5  2020-03-01          59    76   273923.02\n",
       "6  2020-03-02          77   104   400541.25\n",
       "7  2020-03-03          50    71   250117.92\n",
       "8  2020-03-04          46    65   216644.35\n",
       "9  2020-03-05          57    76   353532.84\n",
       "10 2020-03-06          44    57   199354.22\n",
       "11 2020-03-07          45    57   224599.34\n",
       "12 2020-03-08          60    81   360897.44\n",
       "13 2020-03-09          53    70   290437.69\n",
       "14 2020-03-10          37    47   261655.42\n",
       "15 2020-03-11          43    58   230064.79\n",
       "16 2020-03-12          31    41   145108.08\n",
       "17 2020-03-13          41    51   179228.52\n",
       "18 2020-03-14          35    47   168323.38\n",
       "19 2020-03-15          31    40   143899.07\n",
       "20 2020-03-16          61    72   387125.37\n",
       "21 2020-03-17          50    66   285914.75\n",
       "22 2020-03-18         148   179  1486768.82\n",
       "23 2020-03-19          54    70   293420.03\n",
       "24 2020-03-20          59    75   416779.38\n",
       "25 2020-03-21          27    30   147924.47\n",
       "26 2020-03-22          30    41   163164.30\n",
       "27 2020-03-23          54    67   291235.57\n",
       "28 2020-03-24          72    90   482804.30\n",
       "29 2020-03-25         143   183  1021213.14\n",
       "..        ...         ...   ...         ...\n",
       "50 2020-04-15          28    32   120198.02\n",
       "51 2020-04-16          25    32   210439.73\n",
       "52 2020-04-17          21    24    93617.66\n",
       "53 2020-04-18          25    27   116312.82\n",
       "54 2020-04-19          22    29   145972.16\n",
       "55 2020-04-20          32    35   146787.80\n",
       "56 2020-04-21          34    39   177140.58\n",
       "57 2020-04-22          35    41   225213.30\n",
       "58 2020-04-23          46    56   283013.71\n",
       "59 2020-04-24          44    58   245859.72\n",
       "60 2020-04-25          76    88   250612.20\n",
       "61 2020-04-26          35    48   289383.39\n",
       "62 2020-04-27          36    41   262600.07\n",
       "63 2020-04-28          36    46   282699.86\n",
       "64 2020-04-29          38    46   273402.15\n",
       "65 2020-04-30          49    56   418538.76\n",
       "66 2020-05-01          38    48   157626.60\n",
       "67 2020-05-02          17    25   109682.18\n",
       "68 2020-05-03          18    28   146029.80\n",
       "69 2020-05-04          17    20    79430.99\n",
       "70 2020-05-05          28    44   258299.08\n",
       "71 2020-05-06          31    36   125609.76\n",
       "72 2020-05-07          28    34   132435.02\n",
       "73 2020-05-08          22    25    43436.68\n",
       "74 2020-05-09          24    34   135682.74\n",
       "75 2020-05-10          26    33   138820.53\n",
       "76 2020-05-11          29    36   191381.28\n",
       "77 2020-05-12          25    34   115688.58\n",
       "78 2020-05-13          21    29   139728.82\n",
       "79 2020-05-14          10    14    58466.28\n",
       "\n",
       "[80 rows x 4 columns]"
      ]
     },
     "execution_count": 372,
     "metadata": {},
     "output_type": "execute_result"
    }
   ],
   "source": [
    "order_off.loc[order_off.is_female_cust =='妇女节客户',:].groupby(['date_input']).agg({'ucode_need':'nunique','投保单号':'count','bf':'sum'}).reset_index().sort_values('date_input',ascending=True)"
   ]
  },
  {
   "cell_type": "markdown",
   "metadata": {
    "ExecuteTime": {
     "end_time": "2020-05-20T07:33:14.151681Z",
     "start_time": "2020-05-20T07:33:14.148690Z"
    }
   },
   "source": [
    "### 托管转化"
   ]
  },
  {
   "cell_type": "markdown",
   "metadata": {
    "ExecuteTime": {
     "end_time": "2020-05-07T02:04:26.240592Z",
     "start_time": "2020-05-07T02:04:26.237629Z"
    }
   },
   "source": [
    "## 线上线下用户群"
   ]
  },
  {
   "cell_type": "markdown",
   "metadata": {},
   "source": [
    "### 线下产品用户年龄"
   ]
  },
  {
   "cell_type": "code",
   "execution_count": 52,
   "metadata": {
    "ExecuteTime": {
     "end_time": "2020-05-22T09:06:09.816854Z",
     "start_time": "2020-05-22T09:06:09.119623Z"
    }
   },
   "outputs": [],
   "source": [
    "user_insider = pd.read_csv(dir_user + 'user_insider.csv',low_memory=False)\n",
    "user_all = pd.read_csv(dir_user + 'user_info_all.csv',low_memory=False)\n",
    "cust_all = pd.read_csv(dir_user + 'cust_user.csv',low_memory=False)"
   ]
  },
  {
   "cell_type": "code",
   "execution_count": 53,
   "metadata": {
    "ExecuteTime": {
     "end_time": "2020-05-22T09:06:11.145208Z",
     "start_time": "2020-05-22T09:06:11.053428Z"
    }
   },
   "outputs": [],
   "source": [
    "order_off_tb = pd.read_csv(dir_order_life + 'order_off_tb.csv')"
   ]
  },
  {
   "cell_type": "code",
   "execution_count": 54,
   "metadata": {
    "ExecuteTime": {
     "end_time": "2020-05-22T09:06:11.906175Z",
     "start_time": "2020-05-22T09:06:11.902159Z"
    }
   },
   "outputs": [],
   "source": [
    "order_off_tb.columns = ['投保单号','tb_id','bb_id','relation']"
   ]
  },
  {
   "cell_type": "code",
   "execution_count": 55,
   "metadata": {
    "ExecuteTime": {
     "end_time": "2020-05-22T09:06:12.755887Z",
     "start_time": "2020-05-22T09:06:12.749894Z"
    }
   },
   "outputs": [
    {
     "data": {
      "text/plain": [
       "Index(['序号', '保单状态', 'date_tb', '回单日期', '保单录入日期', '承保日期', '预收日期', 'date_pay',\n",
       "       '销售团队代码', '销售团队名称', '地区分类', '团队分类', '是否本部', '营业部代码', '营业部名称', '是否营业中心',\n",
       "       '营业部所属批牌机构编码', '营业部所属批牌', '营业部类型', '代理人代码', '代理人姓名', '入司日期', '代理人职级',\n",
       "       '业务合伙人级别', '经营合伙人级别', '经营团队总经理标志', '职业化标志', '推荐人代码', '推荐人姓名', '辅导人代码',\n",
       "       '辅导人姓名', '经营合伙人代码', '经营合伙人姓名', '离职日期', 'ucode', '现代理人姓名', 'area_type',\n",
       "       '原辅代理人姓名', '原辅代理人编码', '原辅代理人所在销售团队名称', '原辅代理人所在销售团队代码', '原辅代理人所在机构',\n",
       "       '现辅代理人姓名', '现辅代理人编码', '现辅代理人所在销售团队名称', '现辅代理人所在销售团队代码', '是否自保件',\n",
       "       '保险公司代码', '保险公司名称', '投保单号', '保单号', 'tb_name', 'bb_name', '险种代码',\n",
       "       '外部险种代码', 'pname', '是否主险', '产品分类', '交费年期|年龄标志', '缴费期', '佣金率', '规模保费',\n",
       "       'bf', '保额', '保全标志', '是否纳入现代理人方案统计', '归属类型', '归属细类', '保单关系人', '代码', '姓名',\n",
       "       '月份', '销服代码', '销服名称', '机构', '职级', '入司日期.1', '入司月', '营业部代码.1', '营业部名称.1',\n",
       "       '是否营业中心.1', '师傅代码', '师傅姓名', 'ucode_need'],\n",
       "      dtype='object')"
      ]
     },
     "execution_count": 55,
     "metadata": {},
     "output_type": "execute_result"
    }
   ],
   "source": [
    "order_life_20.columns"
   ]
  },
  {
   "cell_type": "code",
   "execution_count": 56,
   "metadata": {
    "ExecuteTime": {
     "end_time": "2020-05-22T09:08:00.179862Z",
     "start_time": "2020-05-22T09:06:14.316706Z"
    }
   },
   "outputs": [],
   "source": [
    "order_life_20 = pd.read_excel(dir_order_life + 'order_life_20200514.xlsx',header=1)\n",
    "order_life_20.rename(columns = {'行政录入日期':'date_pay' ,'投保人':'tb_name' ,'被保险人':'bb_name','退保日期':'date_tb'\n",
    "                              ,'现代理人编码':'ucode','标准保费':'bf','代理人所在机构':'area_type','险种名称':'pname'},inplace=True)\n",
    "order_life_20.ucode.fillna(0,inplace=True)\n",
    "order_life_20['ucode_need'] = order_life_20.ucode.map(lambda x:str(int(x)).strip())"
   ]
  },
  {
   "cell_type": "code",
   "execution_count": 57,
   "metadata": {
    "ExecuteTime": {
     "end_time": "2020-05-22T09:08:00.423113Z",
     "start_time": "2020-05-22T09:08:00.181754Z"
    }
   },
   "outputs": [],
   "source": [
    "\n",
    "order_life_20 = order_life_20.loc[order_life_20.是否主险 =='Y',:].copy()"
   ]
  },
  {
   "cell_type": "code",
   "execution_count": 58,
   "metadata": {
    "ExecuteTime": {
     "end_time": "2020-05-22T09:08:00.712366Z",
     "start_time": "2020-05-22T09:08:00.425101Z"
    }
   },
   "outputs": [],
   "source": [
    "user_insider.columns =['ucode_need','uname','age','sex','area','degree','grade']\n",
    "user_insider.ucode_need.replace('a','',inplace=True,regex=True)\n",
    "user_insider['ucode_need'] = user_insider.ucode_need.map(lambda x:str(int(x)).strip())"
   ]
  },
  {
   "cell_type": "code",
   "execution_count": 59,
   "metadata": {
    "ExecuteTime": {
     "end_time": "2020-05-22T09:08:02.224293Z",
     "start_time": "2020-05-22T09:08:00.713360Z"
    }
   },
   "outputs": [],
   "source": [
    "cust_all.columns = ['投保单号','year_pay','year_protect','tb_gender','tb_age','bb_gender','bb_age']\n",
    "col = ['ucode_need', 'age', 'sex', 'area', 'degree', 'grade']\n",
    "order_off_mid = pd.merge(order_life_20,user_insider[col],how='left',on='ucode_need')\n",
    "order_off_mid_01 = pd.merge(order_off_mid,cust_all,how='left',on='投保单号')\n",
    "order_off_sum = pd.merge(order_off_mid_01,order_off_tb,how='left',on='投保单号')"
   ]
  },
  {
   "cell_type": "markdown",
   "metadata": {},
   "source": [
    "### 线上用户客户年龄"
   ]
  },
  {
   "cell_type": "code",
   "execution_count": 60,
   "metadata": {
    "ExecuteTime": {
     "end_time": "2020-05-22T09:08:03.525815Z",
     "start_time": "2020-05-22T09:08:02.226288Z"
    }
   },
   "outputs": [],
   "source": [
    "order_20.ucode.fillna(0,inplace=True)\n",
    "order_20['ucode_need'] = order_20.ucode.map(lambda x:str(int(x)).strip())\n",
    "user_order_all = order_20.groupby(['ucode_need']).bf.sum().reset_index()\n",
    "user_order_need = order_20.loc[(order_20.plabel_term ==1) & (order_20.plabel_L1 =='重疾险')\n",
    "                              & (order_20.ucode_need !='0')].groupby(['ucode_need','mon']).bf.sum().reset_index()"
   ]
  },
  {
   "cell_type": "code",
   "execution_count": 61,
   "metadata": {
    "ExecuteTime": {
     "end_time": "2020-05-22T09:08:08.203355Z",
     "start_time": "2020-05-22T09:08:06.784134Z"
    }
   },
   "outputs": [],
   "source": [
    "order_20['bb_age'] = order_20.bb_id.map(lambda x:getAge(x))\n",
    "order_20['bb_gender'] = order_20.bb_id.map(lambda x:getGender(x))\n",
    "order_20['tb_age'] = order_20.tb_id.map(lambda x:getAge(x))\n",
    "order_20['tb_gender'] = order_20.tb_id.map(lambda x:getGender(x))"
   ]
  },
  {
   "cell_type": "code",
   "execution_count": 64,
   "metadata": {
    "ExecuteTime": {
     "end_time": "2020-05-22T09:08:43.236677Z",
     "start_time": "2020-05-22T09:08:32.536276Z"
    }
   },
   "outputs": [],
   "source": [
    "col = ['ucode_need', 'age', 'sex', 'area', 'degree', 'grade']\n",
    "order_online_sum = pd.merge(order_20,user_insider[col],how='left',on='ucode_need')\n",
    "order_online_sum = order_online_sum.loc[order_online_sum.pname.isin(['安联女性特定重疾保险计划（18-40周岁）','安联女性特定重疾保险计划（41-50周岁）'])==False,:].copy()"
   ]
  },
  {
   "cell_type": "markdown",
   "metadata": {},
   "source": [
    "### 保单合并"
   ]
  },
  {
   "cell_type": "code",
   "execution_count": 135,
   "metadata": {
    "ExecuteTime": {
     "end_time": "2020-05-19T08:15:16.952132Z",
     "start_time": "2020-05-19T08:15:16.813502Z"
    }
   },
   "outputs": [],
   "source": [
    "order_off_sum['order_type_1'] = '线下保单'\n",
    "order_online_sum['order_type_1'] = '线上保单'\n",
    "\n",
    "bins = [0,18,22,25,30,35,40,45,50,55,60,100]\n",
    "order_off_sum['bins_tb_age'] =  pd.cut(order_off_sum.tb_age,bins =bins)\n",
    "order_off_sum['bins_bb_age'] =  pd.cut(order_off_sum.bb_age,bins =bins)\n",
    "order_online_sum['bins_tb_age'] =  pd.cut(order_online_sum.tb_age,bins =bins)\n",
    "order_online_sum['bins_bb_age'] =  pd.cut(order_online_sum.bb_age,bins =bins)\n",
    "\n",
    "order_online_sum.loc[order_online_sum.plabel_need.isin(['重疾险_其他','重疾险_少儿']),'order_type_2'] = '线上重疾'\n",
    "order_off_sum.loc[order_off_sum.pname.str.contains('重大疾病'),'order_type_2'] = '线下重疾'\n",
    "\n",
    "col = ['ucode_need','age','sex','area','degree','grade','pname',\n",
    "       'tb_name','tb_age','tb_gender','bb_name','bb_age','bb_gender',\n",
    "      'bins_tb_age','bins_bb_age','order_type_1','order_type_2']"
   ]
  },
  {
   "cell_type": "code",
   "execution_count": 136,
   "metadata": {
    "ExecuteTime": {
     "end_time": "2020-05-19T08:15:18.443115Z",
     "start_time": "2020-05-19T08:15:18.026252Z"
    }
   },
   "outputs": [],
   "source": [
    "order_all = pd.concat([order_online_sum[col],order_off_sum[col]])"
   ]
  },
  {
   "cell_type": "code",
   "execution_count": 137,
   "metadata": {
    "ExecuteTime": {
     "end_time": "2020-05-19T08:15:20.602343Z",
     "start_time": "2020-05-19T08:15:19.563150Z"
    }
   },
   "outputs": [
    {
     "data": {
      "text/html": [
       "<div>\n",
       "<style scoped>\n",
       "    .dataframe tbody tr th:only-of-type {\n",
       "        vertical-align: middle;\n",
       "    }\n",
       "\n",
       "    .dataframe tbody tr th {\n",
       "        vertical-align: top;\n",
       "    }\n",
       "\n",
       "    .dataframe thead th {\n",
       "        text-align: right;\n",
       "    }\n",
       "</style>\n",
       "<table border=\"1\" class=\"dataframe\">\n",
       "  <thead>\n",
       "    <tr style=\"text-align: right;\">\n",
       "      <th>order_type_1</th>\n",
       "      <th>线上保单</th>\n",
       "      <th>线下保单</th>\n",
       "    </tr>\n",
       "    <tr>\n",
       "      <th>bins_tb_age</th>\n",
       "      <th></th>\n",
       "      <th></th>\n",
       "    </tr>\n",
       "  </thead>\n",
       "  <tbody>\n",
       "    <tr>\n",
       "      <th>(0, 18]</th>\n",
       "      <td>164</td>\n",
       "      <td>35</td>\n",
       "    </tr>\n",
       "    <tr>\n",
       "      <th>(18, 22]</th>\n",
       "      <td>7995</td>\n",
       "      <td>552</td>\n",
       "    </tr>\n",
       "    <tr>\n",
       "      <th>(22, 25]</th>\n",
       "      <td>10991</td>\n",
       "      <td>1376</td>\n",
       "    </tr>\n",
       "    <tr>\n",
       "      <th>(25, 30]</th>\n",
       "      <td>35072</td>\n",
       "      <td>7169</td>\n",
       "    </tr>\n",
       "    <tr>\n",
       "      <th>(30, 35]</th>\n",
       "      <td>56520</td>\n",
       "      <td>10135</td>\n",
       "    </tr>\n",
       "    <tr>\n",
       "      <th>(35, 40]</th>\n",
       "      <td>47425</td>\n",
       "      <td>7624</td>\n",
       "    </tr>\n",
       "    <tr>\n",
       "      <th>(40, 45]</th>\n",
       "      <td>38531</td>\n",
       "      <td>4675</td>\n",
       "    </tr>\n",
       "    <tr>\n",
       "      <th>(45, 50]</th>\n",
       "      <td>40006</td>\n",
       "      <td>3793</td>\n",
       "    </tr>\n",
       "    <tr>\n",
       "      <th>(50, 55]</th>\n",
       "      <td>34518</td>\n",
       "      <td>1865</td>\n",
       "    </tr>\n",
       "    <tr>\n",
       "      <th>(55, 60]</th>\n",
       "      <td>26055</td>\n",
       "      <td>783</td>\n",
       "    </tr>\n",
       "    <tr>\n",
       "      <th>(60, 100]</th>\n",
       "      <td>34425</td>\n",
       "      <td>291</td>\n",
       "    </tr>\n",
       "  </tbody>\n",
       "</table>\n",
       "</div>"
      ],
      "text/plain": [
       "order_type_1   线上保单   线下保单\n",
       "bins_tb_age               \n",
       "(0, 18]         164     35\n",
       "(18, 22]       7995    552\n",
       "(22, 25]      10991   1376\n",
       "(25, 30]      35072   7169\n",
       "(30, 35]      56520  10135\n",
       "(35, 40]      47425   7624\n",
       "(40, 45]      38531   4675\n",
       "(45, 50]      40006   3793\n",
       "(50, 55]      34518   1865\n",
       "(55, 60]      26055    783\n",
       "(60, 100]     34425    291"
      ]
     },
     "execution_count": 137,
     "metadata": {},
     "output_type": "execute_result"
    }
   ],
   "source": [
    "## 全产品投保人分布\n",
    "order_all.groupby(['order_type_1','bins_tb_age']).tb_name.nunique().reset_index().pivot('bins_tb_age','order_type_1','tb_name')"
   ]
  },
  {
   "cell_type": "code",
   "execution_count": 138,
   "metadata": {
    "ExecuteTime": {
     "end_time": "2020-05-19T08:15:24.591704Z",
     "start_time": "2020-05-19T08:15:23.772898Z"
    }
   },
   "outputs": [
    {
     "data": {
      "text/html": [
       "<div>\n",
       "<style scoped>\n",
       "    .dataframe tbody tr th:only-of-type {\n",
       "        vertical-align: middle;\n",
       "    }\n",
       "\n",
       "    .dataframe tbody tr th {\n",
       "        vertical-align: top;\n",
       "    }\n",
       "\n",
       "    .dataframe thead th {\n",
       "        text-align: right;\n",
       "    }\n",
       "</style>\n",
       "<table border=\"1\" class=\"dataframe\">\n",
       "  <thead>\n",
       "    <tr style=\"text-align: right;\">\n",
       "      <th>order_type_2</th>\n",
       "      <th>线上重疾</th>\n",
       "      <th>线下重疾</th>\n",
       "    </tr>\n",
       "    <tr>\n",
       "      <th>bins_tb_age</th>\n",
       "      <th></th>\n",
       "      <th></th>\n",
       "    </tr>\n",
       "  </thead>\n",
       "  <tbody>\n",
       "    <tr>\n",
       "      <th>(0, 18]</th>\n",
       "      <td>3</td>\n",
       "      <td>23</td>\n",
       "    </tr>\n",
       "    <tr>\n",
       "      <th>(18, 22]</th>\n",
       "      <td>104</td>\n",
       "      <td>417</td>\n",
       "    </tr>\n",
       "    <tr>\n",
       "      <th>(22, 25]</th>\n",
       "      <td>263</td>\n",
       "      <td>1139</td>\n",
       "    </tr>\n",
       "    <tr>\n",
       "      <th>(25, 30]</th>\n",
       "      <td>2359</td>\n",
       "      <td>5987</td>\n",
       "    </tr>\n",
       "    <tr>\n",
       "      <th>(30, 35]</th>\n",
       "      <td>4107</td>\n",
       "      <td>8079</td>\n",
       "    </tr>\n",
       "    <tr>\n",
       "      <th>(35, 40]</th>\n",
       "      <td>2403</td>\n",
       "      <td>5632</td>\n",
       "    </tr>\n",
       "    <tr>\n",
       "      <th>(40, 45]</th>\n",
       "      <td>797</td>\n",
       "      <td>3324</td>\n",
       "    </tr>\n",
       "    <tr>\n",
       "      <th>(45, 50]</th>\n",
       "      <td>295</td>\n",
       "      <td>2547</td>\n",
       "    </tr>\n",
       "    <tr>\n",
       "      <th>(50, 55]</th>\n",
       "      <td>96</td>\n",
       "      <td>997</td>\n",
       "    </tr>\n",
       "    <tr>\n",
       "      <th>(55, 60]</th>\n",
       "      <td>15</td>\n",
       "      <td>261</td>\n",
       "    </tr>\n",
       "    <tr>\n",
       "      <th>(60, 100]</th>\n",
       "      <td>7</td>\n",
       "      <td>1</td>\n",
       "    </tr>\n",
       "  </tbody>\n",
       "</table>\n",
       "</div>"
      ],
      "text/plain": [
       "order_type_2  线上重疾  线下重疾\n",
       "bins_tb_age             \n",
       "(0, 18]          3    23\n",
       "(18, 22]       104   417\n",
       "(22, 25]       263  1139\n",
       "(25, 30]      2359  5987\n",
       "(30, 35]      4107  8079\n",
       "(35, 40]      2403  5632\n",
       "(40, 45]       797  3324\n",
       "(45, 50]       295  2547\n",
       "(50, 55]        96   997\n",
       "(55, 60]        15   261\n",
       "(60, 100]        7     1"
      ]
     },
     "execution_count": 138,
     "metadata": {},
     "output_type": "execute_result"
    }
   ],
   "source": [
    "## 重疾产品投保人分布\n",
    "order_all.groupby(['order_type_2','bins_tb_age']).tb_name.nunique().reset_index().pivot('bins_tb_age','order_type_2','tb_name')"
   ]
  },
  {
   "cell_type": "code",
   "execution_count": 132,
   "metadata": {
    "ExecuteTime": {
     "end_time": "2020-05-19T07:39:58.348603Z",
     "start_time": "2020-05-19T07:39:57.428036Z"
    }
   },
   "outputs": [
    {
     "data": {
      "text/html": [
       "<div>\n",
       "<style scoped>\n",
       "    .dataframe tbody tr th:only-of-type {\n",
       "        vertical-align: middle;\n",
       "    }\n",
       "\n",
       "    .dataframe tbody tr th {\n",
       "        vertical-align: top;\n",
       "    }\n",
       "\n",
       "    .dataframe thead th {\n",
       "        text-align: right;\n",
       "    }\n",
       "</style>\n",
       "<table border=\"1\" class=\"dataframe\">\n",
       "  <thead>\n",
       "    <tr style=\"text-align: right;\">\n",
       "      <th>order_type_1</th>\n",
       "      <th>线上保单</th>\n",
       "      <th>线下保单</th>\n",
       "    </tr>\n",
       "    <tr>\n",
       "      <th>bins_bb_age</th>\n",
       "      <th></th>\n",
       "      <th></th>\n",
       "    </tr>\n",
       "  </thead>\n",
       "  <tbody>\n",
       "    <tr>\n",
       "      <th>(0, 18]</th>\n",
       "      <td>53645</td>\n",
       "      <td>10457</td>\n",
       "    </tr>\n",
       "    <tr>\n",
       "      <th>(18, 22]</th>\n",
       "      <td>11615</td>\n",
       "      <td>1509</td>\n",
       "    </tr>\n",
       "    <tr>\n",
       "      <th>(22, 25]</th>\n",
       "      <td>11681</td>\n",
       "      <td>1418</td>\n",
       "    </tr>\n",
       "    <tr>\n",
       "      <th>(25, 30]</th>\n",
       "      <td>29328</td>\n",
       "      <td>5063</td>\n",
       "    </tr>\n",
       "    <tr>\n",
       "      <th>(30, 35]</th>\n",
       "      <td>43051</td>\n",
       "      <td>7020</td>\n",
       "    </tr>\n",
       "    <tr>\n",
       "      <th>(35, 40]</th>\n",
       "      <td>37150</td>\n",
       "      <td>5454</td>\n",
       "    </tr>\n",
       "    <tr>\n",
       "      <th>(40, 45]</th>\n",
       "      <td>32857</td>\n",
       "      <td>3374</td>\n",
       "    </tr>\n",
       "    <tr>\n",
       "      <th>(45, 50]</th>\n",
       "      <td>38161</td>\n",
       "      <td>3013</td>\n",
       "    </tr>\n",
       "    <tr>\n",
       "      <th>(50, 55]</th>\n",
       "      <td>37763</td>\n",
       "      <td>1635</td>\n",
       "    </tr>\n",
       "    <tr>\n",
       "      <th>(55, 60]</th>\n",
       "      <td>32240</td>\n",
       "      <td>690</td>\n",
       "    </tr>\n",
       "    <tr>\n",
       "      <th>(60, 100]</th>\n",
       "      <td>47141</td>\n",
       "      <td>364</td>\n",
       "    </tr>\n",
       "  </tbody>\n",
       "</table>\n",
       "</div>"
      ],
      "text/plain": [
       "order_type_1   线上保单   线下保单\n",
       "bins_bb_age               \n",
       "(0, 18]       53645  10457\n",
       "(18, 22]      11615   1509\n",
       "(22, 25]      11681   1418\n",
       "(25, 30]      29328   5063\n",
       "(30, 35]      43051   7020\n",
       "(35, 40]      37150   5454\n",
       "(40, 45]      32857   3374\n",
       "(45, 50]      38161   3013\n",
       "(50, 55]      37763   1635\n",
       "(55, 60]      32240    690\n",
       "(60, 100]     47141    364"
      ]
     },
     "execution_count": 132,
     "metadata": {},
     "output_type": "execute_result"
    }
   ],
   "source": [
    "## 全产品被保人分布\n",
    "order_all.groupby(['order_type_1','bins_bb_age']).tb_name.nunique().reset_index().pivot('bins_bb_age','order_type_1','tb_name')"
   ]
  },
  {
   "cell_type": "code",
   "execution_count": 139,
   "metadata": {
    "ExecuteTime": {
     "end_time": "2020-05-19T08:17:12.197947Z",
     "start_time": "2020-05-19T08:17:11.279429Z"
    }
   },
   "outputs": [
    {
     "data": {
      "text/html": [
       "<div>\n",
       "<style scoped>\n",
       "    .dataframe tbody tr th:only-of-type {\n",
       "        vertical-align: middle;\n",
       "    }\n",
       "\n",
       "    .dataframe tbody tr th {\n",
       "        vertical-align: top;\n",
       "    }\n",
       "\n",
       "    .dataframe thead th {\n",
       "        text-align: right;\n",
       "    }\n",
       "</style>\n",
       "<table border=\"1\" class=\"dataframe\">\n",
       "  <thead>\n",
       "    <tr style=\"text-align: right;\">\n",
       "      <th>order_type_2</th>\n",
       "      <th>线上重疾</th>\n",
       "      <th>线下重疾</th>\n",
       "    </tr>\n",
       "    <tr>\n",
       "      <th>bins_bb_age</th>\n",
       "      <th></th>\n",
       "      <th></th>\n",
       "    </tr>\n",
       "  </thead>\n",
       "  <tbody>\n",
       "    <tr>\n",
       "      <th>(0, 18]</th>\n",
       "      <td>7714</td>\n",
       "      <td>8906</td>\n",
       "    </tr>\n",
       "    <tr>\n",
       "      <th>(18, 22]</th>\n",
       "      <td>117</td>\n",
       "      <td>1117</td>\n",
       "    </tr>\n",
       "    <tr>\n",
       "      <th>(22, 25]</th>\n",
       "      <td>167</td>\n",
       "      <td>1104</td>\n",
       "    </tr>\n",
       "    <tr>\n",
       "      <th>(25, 30]</th>\n",
       "      <td>947</td>\n",
       "      <td>4204</td>\n",
       "    </tr>\n",
       "    <tr>\n",
       "      <th>(30, 35]</th>\n",
       "      <td>1391</td>\n",
       "      <td>5835</td>\n",
       "    </tr>\n",
       "    <tr>\n",
       "      <th>(35, 40]</th>\n",
       "      <td>869</td>\n",
       "      <td>4324</td>\n",
       "    </tr>\n",
       "    <tr>\n",
       "      <th>(40, 45]</th>\n",
       "      <td>295</td>\n",
       "      <td>2565</td>\n",
       "    </tr>\n",
       "    <tr>\n",
       "      <th>(45, 50]</th>\n",
       "      <td>148</td>\n",
       "      <td>2153</td>\n",
       "    </tr>\n",
       "    <tr>\n",
       "      <th>(50, 55]</th>\n",
       "      <td>100</td>\n",
       "      <td>936</td>\n",
       "    </tr>\n",
       "    <tr>\n",
       "      <th>(55, 60]</th>\n",
       "      <td>28</td>\n",
       "      <td>237</td>\n",
       "    </tr>\n",
       "    <tr>\n",
       "      <th>(60, 100]</th>\n",
       "      <td>5</td>\n",
       "      <td>8</td>\n",
       "    </tr>\n",
       "  </tbody>\n",
       "</table>\n",
       "</div>"
      ],
      "text/plain": [
       "order_type_2  线上重疾  线下重疾\n",
       "bins_bb_age             \n",
       "(0, 18]       7714  8906\n",
       "(18, 22]       117  1117\n",
       "(22, 25]       167  1104\n",
       "(25, 30]       947  4204\n",
       "(30, 35]      1391  5835\n",
       "(35, 40]       869  4324\n",
       "(40, 45]       295  2565\n",
       "(45, 50]       148  2153\n",
       "(50, 55]       100   936\n",
       "(55, 60]        28   237\n",
       "(60, 100]        5     8"
      ]
     },
     "execution_count": 139,
     "metadata": {},
     "output_type": "execute_result"
    }
   ],
   "source": [
    "## 重疾被保人分布\n",
    "order_all.groupby(['order_type_2','bins_bb_age']).bb_name.nunique().reset_index().pivot('bins_bb_age','order_type_2','bb_name')"
   ]
  },
  {
   "cell_type": "code",
   "execution_count": 151,
   "metadata": {
    "ExecuteTime": {
     "end_time": "2020-05-19T08:24:22.363725Z",
     "start_time": "2020-05-19T08:24:21.325499Z"
    }
   },
   "outputs": [
    {
     "data": {
      "text/html": [
       "<div>\n",
       "<style scoped>\n",
       "    .dataframe tbody tr th:only-of-type {\n",
       "        vertical-align: middle;\n",
       "    }\n",
       "\n",
       "    .dataframe tbody tr th {\n",
       "        vertical-align: top;\n",
       "    }\n",
       "\n",
       "    .dataframe thead th {\n",
       "        text-align: right;\n",
       "    }\n",
       "</style>\n",
       "<table border=\"1\" class=\"dataframe\">\n",
       "  <thead>\n",
       "    <tr style=\"text-align: right;\">\n",
       "      <th>tb_gender</th>\n",
       "      <th>女</th>\n",
       "      <th>男</th>\n",
       "    </tr>\n",
       "    <tr>\n",
       "      <th>order_type_1</th>\n",
       "      <th></th>\n",
       "      <th></th>\n",
       "    </tr>\n",
       "  </thead>\n",
       "  <tbody>\n",
       "    <tr>\n",
       "      <th>线上保单</th>\n",
       "      <td>135570</td>\n",
       "      <td>149710</td>\n",
       "    </tr>\n",
       "    <tr>\n",
       "      <th>线下保单</th>\n",
       "      <td>22655</td>\n",
       "      <td>12614</td>\n",
       "    </tr>\n",
       "  </tbody>\n",
       "</table>\n",
       "</div>"
      ],
      "text/plain": [
       "tb_gender          女       男\n",
       "order_type_1                \n",
       "线上保单          135570  149710\n",
       "线下保单           22655   12614"
      ]
     },
     "execution_count": 151,
     "metadata": {},
     "output_type": "execute_result"
    }
   ],
   "source": [
    "order_all.loc[order_all.tb_gender !='未知',:].groupby(['order_type_1','tb_gender']).tb_name.nunique().reset_index().\\\n",
    "pivot('order_type_1','tb_gender','tb_name')"
   ]
  },
  {
   "cell_type": "code",
   "execution_count": 152,
   "metadata": {
    "ExecuteTime": {
     "end_time": "2020-05-19T08:24:35.203393Z",
     "start_time": "2020-05-19T08:24:34.172148Z"
    }
   },
   "outputs": [
    {
     "data": {
      "text/html": [
       "<div>\n",
       "<style scoped>\n",
       "    .dataframe tbody tr th:only-of-type {\n",
       "        vertical-align: middle;\n",
       "    }\n",
       "\n",
       "    .dataframe tbody tr th {\n",
       "        vertical-align: top;\n",
       "    }\n",
       "\n",
       "    .dataframe thead th {\n",
       "        text-align: right;\n",
       "    }\n",
       "</style>\n",
       "<table border=\"1\" class=\"dataframe\">\n",
       "  <thead>\n",
       "    <tr style=\"text-align: right;\">\n",
       "      <th>tb_gender</th>\n",
       "      <th>女</th>\n",
       "      <th>男</th>\n",
       "    </tr>\n",
       "    <tr>\n",
       "      <th>order_type_2</th>\n",
       "      <th></th>\n",
       "      <th></th>\n",
       "    </tr>\n",
       "  </thead>\n",
       "  <tbody>\n",
       "    <tr>\n",
       "      <th>线上重疾</th>\n",
       "      <td>6311</td>\n",
       "      <td>3684</td>\n",
       "    </tr>\n",
       "    <tr>\n",
       "      <th>线下重疾</th>\n",
       "      <td>16617</td>\n",
       "      <td>9841</td>\n",
       "    </tr>\n",
       "  </tbody>\n",
       "</table>\n",
       "</div>"
      ],
      "text/plain": [
       "tb_gender         女     男\n",
       "order_type_2             \n",
       "线上重疾           6311  3684\n",
       "线下重疾          16617  9841"
      ]
     },
     "execution_count": 152,
     "metadata": {},
     "output_type": "execute_result"
    }
   ],
   "source": [
    "order_all.loc[order_all.tb_gender !='未知',:].groupby(['order_type_2','tb_gender']).tb_name.nunique().reset_index().\\\n",
    "pivot('order_type_2','tb_gender','tb_name')"
   ]
  },
  {
   "cell_type": "code",
   "execution_count": 154,
   "metadata": {
    "ExecuteTime": {
     "end_time": "2020-05-19T08:28:08.290690Z",
     "start_time": "2020-05-19T08:28:07.135778Z"
    }
   },
   "outputs": [
    {
     "data": {
      "text/html": [
       "<div>\n",
       "<style scoped>\n",
       "    .dataframe tbody tr th:only-of-type {\n",
       "        vertical-align: middle;\n",
       "    }\n",
       "\n",
       "    .dataframe tbody tr th {\n",
       "        vertical-align: top;\n",
       "    }\n",
       "\n",
       "    .dataframe thead th {\n",
       "        text-align: right;\n",
       "    }\n",
       "</style>\n",
       "<table border=\"1\" class=\"dataframe\">\n",
       "  <thead>\n",
       "    <tr style=\"text-align: right;\">\n",
       "      <th>bb_gender</th>\n",
       "      <th>女</th>\n",
       "      <th>男</th>\n",
       "    </tr>\n",
       "    <tr>\n",
       "      <th>order_type_1</th>\n",
       "      <th></th>\n",
       "      <th></th>\n",
       "    </tr>\n",
       "  </thead>\n",
       "  <tbody>\n",
       "    <tr>\n",
       "      <th>线上保单</th>\n",
       "      <td>157047</td>\n",
       "      <td>201831</td>\n",
       "    </tr>\n",
       "    <tr>\n",
       "      <th>线下保单</th>\n",
       "      <td>23646</td>\n",
       "      <td>20740</td>\n",
       "    </tr>\n",
       "  </tbody>\n",
       "</table>\n",
       "</div>"
      ],
      "text/plain": [
       "bb_gender          女       男\n",
       "order_type_1                \n",
       "线上保单          157047  201831\n",
       "线下保单           23646   20740"
      ]
     },
     "execution_count": 154,
     "metadata": {},
     "output_type": "execute_result"
    }
   ],
   "source": [
    "order_all.loc[order_all.bb_gender !='未知',:].groupby(['order_type_1','bb_gender']).bb_name.nunique().reset_index().\\\n",
    "pivot('order_type_1','bb_gender','bb_name')"
   ]
  },
  {
   "cell_type": "code",
   "execution_count": 155,
   "metadata": {
    "ExecuteTime": {
     "end_time": "2020-05-19T08:29:17.171225Z",
     "start_time": "2020-05-19T08:29:16.093111Z"
    }
   },
   "outputs": [
    {
     "data": {
      "text/html": [
       "<div>\n",
       "<style scoped>\n",
       "    .dataframe tbody tr th:only-of-type {\n",
       "        vertical-align: middle;\n",
       "    }\n",
       "\n",
       "    .dataframe tbody tr th {\n",
       "        vertical-align: top;\n",
       "    }\n",
       "\n",
       "    .dataframe thead th {\n",
       "        text-align: right;\n",
       "    }\n",
       "</style>\n",
       "<table border=\"1\" class=\"dataframe\">\n",
       "  <thead>\n",
       "    <tr style=\"text-align: right;\">\n",
       "      <th>bb_gender</th>\n",
       "      <th>女</th>\n",
       "      <th>男</th>\n",
       "    </tr>\n",
       "    <tr>\n",
       "      <th>order_type_2</th>\n",
       "      <th></th>\n",
       "      <th></th>\n",
       "    </tr>\n",
       "  </thead>\n",
       "  <tbody>\n",
       "    <tr>\n",
       "      <th>线上重疾</th>\n",
       "      <td>6099</td>\n",
       "      <td>6269</td>\n",
       "    </tr>\n",
       "    <tr>\n",
       "      <th>线下重疾</th>\n",
       "      <td>17509</td>\n",
       "      <td>15769</td>\n",
       "    </tr>\n",
       "  </tbody>\n",
       "</table>\n",
       "</div>"
      ],
      "text/plain": [
       "bb_gender         女      男\n",
       "order_type_2              \n",
       "线上重疾           6099   6269\n",
       "线下重疾          17509  15769"
      ]
     },
     "execution_count": 155,
     "metadata": {},
     "output_type": "execute_result"
    }
   ],
   "source": [
    "order_all.loc[order_all.bb_gender !='未知',:].groupby(['order_type_2','bb_gender']).bb_name.nunique().reset_index().\\\n",
    "pivot('order_type_2','bb_gender','bb_name')"
   ]
  },
  {
   "cell_type": "markdown",
   "metadata": {},
   "source": [
    "###  客户年龄情况"
   ]
  },
  {
   "cell_type": "code",
   "execution_count": 34,
   "metadata": {
    "ExecuteTime": {
     "end_time": "2020-05-18T06:58:09.792531Z",
     "start_time": "2020-05-18T06:58:09.776574Z"
    }
   },
   "outputs": [],
   "source": [
    "bins = [0,18,22,25,30,35,40,45,50,55,60,100]\n",
    "order_off_sum['bins_cust_age'] =  pd.cut(order_off_sum.bb_age,bins =bins)\n",
    "order_off_sum['bins_tb_age'] =  pd.cut(order_off_sum.tb_age,bins =bins)"
   ]
  },
  {
   "cell_type": "code",
   "execution_count": 25,
   "metadata": {
    "ExecuteTime": {
     "end_time": "2020-05-18T06:41:24.552423Z",
     "start_time": "2020-05-18T06:41:24.460643Z"
    }
   },
   "outputs": [
    {
     "data": {
      "text/html": [
       "<div>\n",
       "<style scoped>\n",
       "    .dataframe tbody tr th:only-of-type {\n",
       "        vertical-align: middle;\n",
       "    }\n",
       "\n",
       "    .dataframe tbody tr th {\n",
       "        vertical-align: top;\n",
       "    }\n",
       "\n",
       "    .dataframe thead th {\n",
       "        text-align: right;\n",
       "    }\n",
       "</style>\n",
       "<table border=\"1\" class=\"dataframe\">\n",
       "  <thead>\n",
       "    <tr style=\"text-align: right;\">\n",
       "      <th>bb_gender</th>\n",
       "      <th>女</th>\n",
       "      <th>男</th>\n",
       "    </tr>\n",
       "    <tr>\n",
       "      <th>bins_cust_age</th>\n",
       "      <th></th>\n",
       "      <th></th>\n",
       "    </tr>\n",
       "  </thead>\n",
       "  <tbody>\n",
       "    <tr>\n",
       "      <th>(0, 18]</th>\n",
       "      <td>5823</td>\n",
       "      <td>6679</td>\n",
       "    </tr>\n",
       "    <tr>\n",
       "      <th>(18, 22]</th>\n",
       "      <td>743</td>\n",
       "      <td>760</td>\n",
       "    </tr>\n",
       "    <tr>\n",
       "      <th>(22, 25]</th>\n",
       "      <td>815</td>\n",
       "      <td>610</td>\n",
       "    </tr>\n",
       "    <tr>\n",
       "      <th>(25, 30]</th>\n",
       "      <td>3095</td>\n",
       "      <td>2089</td>\n",
       "    </tr>\n",
       "    <tr>\n",
       "      <th>(30, 35]</th>\n",
       "      <td>4257</td>\n",
       "      <td>3055</td>\n",
       "    </tr>\n",
       "    <tr>\n",
       "      <th>(35, 40]</th>\n",
       "      <td>3230</td>\n",
       "      <td>2499</td>\n",
       "    </tr>\n",
       "    <tr>\n",
       "      <th>(40, 45]</th>\n",
       "      <td>1961</td>\n",
       "      <td>1564</td>\n",
       "    </tr>\n",
       "    <tr>\n",
       "      <th>(45, 50]</th>\n",
       "      <td>1826</td>\n",
       "      <td>1355</td>\n",
       "    </tr>\n",
       "    <tr>\n",
       "      <th>(50, 55]</th>\n",
       "      <td>998</td>\n",
       "      <td>717</td>\n",
       "    </tr>\n",
       "    <tr>\n",
       "      <th>(55, 60]</th>\n",
       "      <td>427</td>\n",
       "      <td>297</td>\n",
       "    </tr>\n",
       "    <tr>\n",
       "      <th>(60, 100]</th>\n",
       "      <td>239</td>\n",
       "      <td>139</td>\n",
       "    </tr>\n",
       "  </tbody>\n",
       "</table>\n",
       "</div>"
      ],
      "text/plain": [
       "bb_gender         女     男\n",
       "bins_cust_age            \n",
       "(0, 18]        5823  6679\n",
       "(18, 22]        743   760\n",
       "(22, 25]        815   610\n",
       "(25, 30]       3095  2089\n",
       "(30, 35]       4257  3055\n",
       "(35, 40]       3230  2499\n",
       "(40, 45]       1961  1564\n",
       "(45, 50]       1826  1355\n",
       "(50, 55]        998   717\n",
       "(55, 60]        427   297\n",
       "(60, 100]       239   139"
      ]
     },
     "execution_count": 25,
     "metadata": {},
     "output_type": "execute_result"
    }
   ],
   "source": [
    "order_off_sum.groupby(['bins_cust_age','bb_gender']).bb_name.nunique().reset_index().pivot(index='bins_cust_age',columns = 'bb_gender',values='bb_name')"
   ]
  },
  {
   "cell_type": "code",
   "execution_count": 36,
   "metadata": {
    "ExecuteTime": {
     "end_time": "2020-05-18T06:58:39.475190Z",
     "start_time": "2020-05-18T06:58:39.371466Z"
    }
   },
   "outputs": [
    {
     "data": {
      "text/html": [
       "<div>\n",
       "<style scoped>\n",
       "    .dataframe tbody tr th:only-of-type {\n",
       "        vertical-align: middle;\n",
       "    }\n",
       "\n",
       "    .dataframe tbody tr th {\n",
       "        vertical-align: top;\n",
       "    }\n",
       "\n",
       "    .dataframe thead th {\n",
       "        text-align: right;\n",
       "    }\n",
       "</style>\n",
       "<table border=\"1\" class=\"dataframe\">\n",
       "  <thead>\n",
       "    <tr style=\"text-align: right;\">\n",
       "      <th>tb_gender</th>\n",
       "      <th>女</th>\n",
       "      <th>男</th>\n",
       "    </tr>\n",
       "    <tr>\n",
       "      <th>bins_tb_age</th>\n",
       "      <th></th>\n",
       "      <th></th>\n",
       "    </tr>\n",
       "  </thead>\n",
       "  <tbody>\n",
       "    <tr>\n",
       "      <th>(0, 18]</th>\n",
       "      <td>17</td>\n",
       "      <td>18</td>\n",
       "    </tr>\n",
       "    <tr>\n",
       "      <th>(18, 22]</th>\n",
       "      <td>322</td>\n",
       "      <td>230</td>\n",
       "    </tr>\n",
       "    <tr>\n",
       "      <th>(22, 25]</th>\n",
       "      <td>907</td>\n",
       "      <td>470</td>\n",
       "    </tr>\n",
       "    <tr>\n",
       "      <th>(25, 30]</th>\n",
       "      <td>4767</td>\n",
       "      <td>2468</td>\n",
       "    </tr>\n",
       "    <tr>\n",
       "      <th>(30, 35]</th>\n",
       "      <td>6638</td>\n",
       "      <td>3650</td>\n",
       "    </tr>\n",
       "    <tr>\n",
       "      <th>(35, 40]</th>\n",
       "      <td>4981</td>\n",
       "      <td>2730</td>\n",
       "    </tr>\n",
       "    <tr>\n",
       "      <th>(40, 45]</th>\n",
       "      <td>3075</td>\n",
       "      <td>1627</td>\n",
       "    </tr>\n",
       "    <tr>\n",
       "      <th>(45, 50]</th>\n",
       "      <td>2531</td>\n",
       "      <td>1276</td>\n",
       "    </tr>\n",
       "    <tr>\n",
       "      <th>(50, 55]</th>\n",
       "      <td>1225</td>\n",
       "      <td>645</td>\n",
       "    </tr>\n",
       "    <tr>\n",
       "      <th>(55, 60]</th>\n",
       "      <td>545</td>\n",
       "      <td>239</td>\n",
       "    </tr>\n",
       "    <tr>\n",
       "      <th>(60, 100]</th>\n",
       "      <td>209</td>\n",
       "      <td>82</td>\n",
       "    </tr>\n",
       "  </tbody>\n",
       "</table>\n",
       "</div>"
      ],
      "text/plain": [
       "tb_gender       女     男\n",
       "bins_tb_age            \n",
       "(0, 18]        17    18\n",
       "(18, 22]      322   230\n",
       "(22, 25]      907   470\n",
       "(25, 30]     4767  2468\n",
       "(30, 35]     6638  3650\n",
       "(35, 40]     4981  2730\n",
       "(40, 45]     3075  1627\n",
       "(45, 50]     2531  1276\n",
       "(50, 55]     1225   645\n",
       "(55, 60]      545   239\n",
       "(60, 100]     209    82"
      ]
     },
     "execution_count": 36,
     "metadata": {},
     "output_type": "execute_result"
    }
   ],
   "source": [
    "order_off_sum.groupby(['bins_tb_age','tb_gender']).tb_name.nunique().reset_index().pivot(index='bins_tb_age',columns = 'tb_gender',values='tb_name')"
   ]
  },
  {
   "cell_type": "code",
   "execution_count": 74,
   "metadata": {
    "ExecuteTime": {
     "end_time": "2020-05-18T09:59:13.256418Z",
     "start_time": "2020-05-18T09:59:13.229457Z"
    }
   },
   "outputs": [
    {
     "data": {
      "text/html": [
       "<div>\n",
       "<style scoped>\n",
       "    .dataframe tbody tr th:only-of-type {\n",
       "        vertical-align: middle;\n",
       "    }\n",
       "\n",
       "    .dataframe tbody tr th {\n",
       "        vertical-align: top;\n",
       "    }\n",
       "\n",
       "    .dataframe thead th {\n",
       "        text-align: right;\n",
       "    }\n",
       "</style>\n",
       "<table border=\"1\" class=\"dataframe\">\n",
       "  <thead>\n",
       "    <tr style=\"text-align: right;\">\n",
       "      <th>bb_gender</th>\n",
       "      <th>女</th>\n",
       "      <th>男</th>\n",
       "    </tr>\n",
       "    <tr>\n",
       "      <th>bins_cust_age</th>\n",
       "      <th></th>\n",
       "      <th></th>\n",
       "    </tr>\n",
       "  </thead>\n",
       "  <tbody>\n",
       "    <tr>\n",
       "      <th>(0, 18]</th>\n",
       "      <td>3368.0</td>\n",
       "      <td>3743.0</td>\n",
       "    </tr>\n",
       "    <tr>\n",
       "      <th>(18, 22]</th>\n",
       "      <td>43.0</td>\n",
       "      <td>57.0</td>\n",
       "    </tr>\n",
       "    <tr>\n",
       "      <th>(22, 25]</th>\n",
       "      <td>80.0</td>\n",
       "      <td>56.0</td>\n",
       "    </tr>\n",
       "    <tr>\n",
       "      <th>(25, 30]</th>\n",
       "      <td>452.0</td>\n",
       "      <td>341.0</td>\n",
       "    </tr>\n",
       "    <tr>\n",
       "      <th>(30, 35]</th>\n",
       "      <td>637.0</td>\n",
       "      <td>535.0</td>\n",
       "    </tr>\n",
       "    <tr>\n",
       "      <th>(35, 40]</th>\n",
       "      <td>378.0</td>\n",
       "      <td>361.0</td>\n",
       "    </tr>\n",
       "    <tr>\n",
       "      <th>(40, 45]</th>\n",
       "      <td>125.0</td>\n",
       "      <td>128.0</td>\n",
       "    </tr>\n",
       "    <tr>\n",
       "      <th>(45, 50]</th>\n",
       "      <td>67.0</td>\n",
       "      <td>59.0</td>\n",
       "    </tr>\n",
       "    <tr>\n",
       "      <th>(50, 55]</th>\n",
       "      <td>49.0</td>\n",
       "      <td>35.0</td>\n",
       "    </tr>\n",
       "    <tr>\n",
       "      <th>(55, 60]</th>\n",
       "      <td>12.0</td>\n",
       "      <td>7.0</td>\n",
       "    </tr>\n",
       "    <tr>\n",
       "      <th>(60, 100]</th>\n",
       "      <td>3.0</td>\n",
       "      <td>NaN</td>\n",
       "    </tr>\n",
       "  </tbody>\n",
       "</table>\n",
       "</div>"
      ],
      "text/plain": [
       "bb_gender           女       男\n",
       "bins_cust_age                \n",
       "(0, 18]        3368.0  3743.0\n",
       "(18, 22]         43.0    57.0\n",
       "(22, 25]         80.0    56.0\n",
       "(25, 30]        452.0   341.0\n",
       "(30, 35]        637.0   535.0\n",
       "(35, 40]        378.0   361.0\n",
       "(40, 45]        125.0   128.0\n",
       "(45, 50]         67.0    59.0\n",
       "(50, 55]         49.0    35.0\n",
       "(55, 60]         12.0     7.0\n",
       "(60, 100]         3.0     NaN"
      ]
     },
     "execution_count": 74,
     "metadata": {},
     "output_type": "execute_result"
    }
   ],
   "source": [
    "order_online_sum['bins_cust_age'] =  pd.cut(order_online_sum.bb_age,bins =bins)\n",
    "order_online_sum.groupby(['bb_gender','bins_cust_age']).bb_name.nunique().reset_index().\\\n",
    "pivot(index='bins_cust_age',columns ='bb_gender',values='bb_name')"
   ]
  },
  {
   "cell_type": "code",
   "execution_count": 89,
   "metadata": {
    "ExecuteTime": {
     "end_time": "2020-05-18T11:01:15.217750Z",
     "start_time": "2020-05-18T11:01:14.350097Z"
    }
   },
   "outputs": [
    {
     "data": {
      "text/html": [
       "<div>\n",
       "<style scoped>\n",
       "    .dataframe tbody tr th:only-of-type {\n",
       "        vertical-align: middle;\n",
       "    }\n",
       "\n",
       "    .dataframe tbody tr th {\n",
       "        vertical-align: top;\n",
       "    }\n",
       "\n",
       "    .dataframe thead th {\n",
       "        text-align: right;\n",
       "    }\n",
       "</style>\n",
       "<table border=\"1\" class=\"dataframe\">\n",
       "  <thead>\n",
       "    <tr style=\"text-align: right;\">\n",
       "      <th>tb_gender</th>\n",
       "      <th>女</th>\n",
       "      <th>男</th>\n",
       "    </tr>\n",
       "    <tr>\n",
       "      <th>bins_tb_age</th>\n",
       "      <th></th>\n",
       "      <th></th>\n",
       "    </tr>\n",
       "  </thead>\n",
       "  <tbody>\n",
       "    <tr>\n",
       "      <th>(0, 18]</th>\n",
       "      <td>73</td>\n",
       "      <td>109</td>\n",
       "    </tr>\n",
       "    <tr>\n",
       "      <th>(18, 22]</th>\n",
       "      <td>4275</td>\n",
       "      <td>4801</td>\n",
       "    </tr>\n",
       "    <tr>\n",
       "      <th>(22, 25]</th>\n",
       "      <td>7121</td>\n",
       "      <td>6094</td>\n",
       "    </tr>\n",
       "    <tr>\n",
       "      <th>(25, 30]</th>\n",
       "      <td>25466</td>\n",
       "      <td>17211</td>\n",
       "    </tr>\n",
       "    <tr>\n",
       "      <th>(30, 35]</th>\n",
       "      <td>42683</td>\n",
       "      <td>26777</td>\n",
       "    </tr>\n",
       "    <tr>\n",
       "      <th>(35, 40]</th>\n",
       "      <td>35974</td>\n",
       "      <td>22634</td>\n",
       "    </tr>\n",
       "    <tr>\n",
       "      <th>(40, 45]</th>\n",
       "      <td>27683</td>\n",
       "      <td>19283</td>\n",
       "    </tr>\n",
       "    <tr>\n",
       "      <th>(45, 50]</th>\n",
       "      <td>25509</td>\n",
       "      <td>21332</td>\n",
       "    </tr>\n",
       "    <tr>\n",
       "      <th>(50, 55]</th>\n",
       "      <td>16191</td>\n",
       "      <td>19079</td>\n",
       "    </tr>\n",
       "    <tr>\n",
       "      <th>(55, 60]</th>\n",
       "      <td>11745</td>\n",
       "      <td>14283</td>\n",
       "    </tr>\n",
       "    <tr>\n",
       "      <th>(60, 100]</th>\n",
       "      <td>14577</td>\n",
       "      <td>19782</td>\n",
       "    </tr>\n",
       "  </tbody>\n",
       "</table>\n",
       "</div>"
      ],
      "text/plain": [
       "tb_gender        女      男\n",
       "bins_tb_age              \n",
       "(0, 18]         73    109\n",
       "(18, 22]      4275   4801\n",
       "(22, 25]      7121   6094\n",
       "(25, 30]     25466  17211\n",
       "(30, 35]     42683  26777\n",
       "(35, 40]     35974  22634\n",
       "(40, 45]     27683  19283\n",
       "(45, 50]     25509  21332\n",
       "(50, 55]     16191  19079\n",
       "(55, 60]     11745  14283\n",
       "(60, 100]    14577  19782"
      ]
     },
     "execution_count": 89,
     "metadata": {},
     "output_type": "execute_result"
    }
   ],
   "source": [
    "order_online_sum['bins_tb_age'] =  pd.cut(order_online_sum.tb_age,bins =bins)\n",
    "order_online_sum['bins_cust_age'] =  pd.cut(order_online_sum.bb_age,bins =bins)\n",
    "order_online_sum.groupby(['tb_gender','bins_tb_age']).tb_name.nunique().reset_index().\\\n",
    "pivot(index='bins_tb_age',columns ='tb_gender',values='tb_name')"
   ]
  },
  {
   "cell_type": "code",
   "execution_count": 76,
   "metadata": {
    "ExecuteTime": {
     "end_time": "2020-05-18T10:04:15.361616Z",
     "start_time": "2020-05-18T10:04:15.351611Z"
    }
   },
   "outputs": [
    {
     "data": {
      "text/html": [
       "<div>\n",
       "<style scoped>\n",
       "    .dataframe tbody tr th:only-of-type {\n",
       "        vertical-align: middle;\n",
       "    }\n",
       "\n",
       "    .dataframe tbody tr th {\n",
       "        vertical-align: top;\n",
       "    }\n",
       "\n",
       "    .dataframe thead th {\n",
       "        text-align: right;\n",
       "    }\n",
       "</style>\n",
       "<table border=\"1\" class=\"dataframe\">\n",
       "  <thead>\n",
       "    <tr style=\"text-align: right;\">\n",
       "      <th></th>\n",
       "      <th>plabel_need</th>\n",
       "      <th>order</th>\n",
       "    </tr>\n",
       "  </thead>\n",
       "  <tbody>\n",
       "    <tr>\n",
       "      <th>0</th>\n",
       "      <td>重疾险_其他</td>\n",
       "      <td>4313</td>\n",
       "    </tr>\n",
       "    <tr>\n",
       "      <th>1</th>\n",
       "      <td>重疾险_少儿</td>\n",
       "      <td>7689</td>\n",
       "    </tr>\n",
       "  </tbody>\n",
       "</table>\n",
       "</div>"
      ],
      "text/plain": [
       "  plabel_need  order\n",
       "0      重疾险_其他   4313\n",
       "1      重疾险_少儿   7689"
      ]
     },
     "execution_count": 76,
     "metadata": {},
     "output_type": "execute_result"
    }
   ],
   "source": [
    "order_online_sum.groupby('plabel_need').order.count().reset_index()"
   ]
  },
  {
   "cell_type": "code",
   "execution_count": 56,
   "metadata": {
    "ExecuteTime": {
     "end_time": "2020-05-18T09:28:55.026337Z",
     "start_time": "2020-05-18T09:28:54.137712Z"
    }
   },
   "outputs": [
    {
     "data": {
      "text/html": [
       "<div>\n",
       "<style scoped>\n",
       "    .dataframe tbody tr th:only-of-type {\n",
       "        vertical-align: middle;\n",
       "    }\n",
       "\n",
       "    .dataframe tbody tr th {\n",
       "        vertical-align: top;\n",
       "    }\n",
       "\n",
       "    .dataframe thead th {\n",
       "        text-align: right;\n",
       "    }\n",
       "</style>\n",
       "<table border=\"1\" class=\"dataframe\">\n",
       "  <thead>\n",
       "    <tr style=\"text-align: right;\">\n",
       "      <th>bb_gender</th>\n",
       "      <th>女</th>\n",
       "      <th>男</th>\n",
       "    </tr>\n",
       "    <tr>\n",
       "      <th>bins_cust_age</th>\n",
       "      <th></th>\n",
       "      <th></th>\n",
       "    </tr>\n",
       "  </thead>\n",
       "  <tbody>\n",
       "    <tr>\n",
       "      <th>(0, 18]</th>\n",
       "      <td>31838</td>\n",
       "      <td>38736</td>\n",
       "    </tr>\n",
       "    <tr>\n",
       "      <th>(18, 22]</th>\n",
       "      <td>5991</td>\n",
       "      <td>6781</td>\n",
       "    </tr>\n",
       "    <tr>\n",
       "      <th>(22, 25]</th>\n",
       "      <td>7290</td>\n",
       "      <td>6659</td>\n",
       "    </tr>\n",
       "    <tr>\n",
       "      <th>(25, 30]</th>\n",
       "      <td>21551</td>\n",
       "      <td>16404</td>\n",
       "    </tr>\n",
       "    <tr>\n",
       "      <th>(30, 35]</th>\n",
       "      <td>34155</td>\n",
       "      <td>24719</td>\n",
       "    </tr>\n",
       "    <tr>\n",
       "      <th>(35, 40]</th>\n",
       "      <td>29075</td>\n",
       "      <td>21753</td>\n",
       "    </tr>\n",
       "    <tr>\n",
       "      <th>(40, 45]</th>\n",
       "      <td>23619</td>\n",
       "      <td>19164</td>\n",
       "    </tr>\n",
       "    <tr>\n",
       "      <th>(45, 50]</th>\n",
       "      <td>23995</td>\n",
       "      <td>22383</td>\n",
       "    </tr>\n",
       "    <tr>\n",
       "      <th>(50, 55]</th>\n",
       "      <td>17905</td>\n",
       "      <td>21932</td>\n",
       "    </tr>\n",
       "    <tr>\n",
       "      <th>(55, 60]</th>\n",
       "      <td>15551</td>\n",
       "      <td>18349</td>\n",
       "    </tr>\n",
       "    <tr>\n",
       "      <th>(60, 100]</th>\n",
       "      <td>23483</td>\n",
       "      <td>29130</td>\n",
       "    </tr>\n",
       "  </tbody>\n",
       "</table>\n",
       "</div>"
      ],
      "text/plain": [
       "bb_gender          女      男\n",
       "bins_cust_age              \n",
       "(0, 18]        31838  38736\n",
       "(18, 22]        5991   6781\n",
       "(22, 25]        7290   6659\n",
       "(25, 30]       21551  16404\n",
       "(30, 35]       34155  24719\n",
       "(35, 40]       29075  21753\n",
       "(40, 45]       23619  19164\n",
       "(45, 50]       23995  22383\n",
       "(50, 55]       17905  21932\n",
       "(55, 60]       15551  18349\n",
       "(60, 100]      23483  29130"
      ]
     },
     "execution_count": 56,
     "metadata": {},
     "output_type": "execute_result"
    }
   ],
   "source": [
    "order_online_sum.groupby(['bb_gender','bins_cust_age']).bb_name.nunique().reset_index().pivot(index='bins_cust_age',columns ='bb_gender',values='bb_name')"
   ]
  },
  {
   "cell_type": "code",
   "execution_count": 86,
   "metadata": {
    "ExecuteTime": {
     "end_time": "2020-05-18T10:58:58.198135Z",
     "start_time": "2020-05-18T10:58:58.127317Z"
    }
   },
   "outputs": [
    {
     "name": "stdout",
     "output_type": "stream",
     "text": [
      "<class 'pandas.core.frame.DataFrame'>\n",
      "Int64Index: 12002 entries, 0 to 593553\n",
      "Data columns (total 92 columns):\n",
      "order               12002 non-null object\n",
      "order_origin        12002 non-null object\n",
      "order_stat          12002 non-null object\n",
      "time_order          12002 non-null object\n",
      "time_pay            12002 non-null object\n",
      "time_cb             12002 non-null object\n",
      "time_start          12002 non-null object\n",
      "time_end            0 non-null object\n",
      "pcode               12002 non-null object\n",
      "pid                 12002 non-null object\n",
      "pname               12002 non-null object\n",
      "pcompany            12002 non-null object\n",
      "plan                12002 non-null object\n",
      "pay_way             360 non-null object\n",
      "channel_src         12002 non-null object\n",
      "channel_detail      12002 non-null object\n",
      "batch_id            0 non-null float64\n",
      "order_renew_src     0 non-null object\n",
      "is_self             6855 non-null object\n",
      "bf                  12002 non-null float64\n",
      "tgf_rate_A          12002 non-null object\n",
      "tgf_rate_B          12002 non-null object\n",
      "tgf_A               12002 non-null float64\n",
      "tgf_B               12002 non-null float64\n",
      "tgf_tax             179 non-null float64\n",
      "tjf_tax             179 non-null float64\n",
      "tjf                 12002 non-null float64\n",
      "tgf_b1              11826 non-null float64\n",
      "tgf_b2              11826 non-null float64\n",
      "money_add           0 non-null float64\n",
      "ticket_code         6654 non-null object\n",
      "ticket_name         6654 non-null object\n",
      "ticket_rate         6654 non-null object\n",
      "money_top           6654 non-null object\n",
      "ticket_value        6654 non-null object\n",
      "tgf_X               6654 non-null float64\n",
      "uid                 12002 non-null object\n",
      "order_origin_uid    12002 non-null object\n",
      "uname               12002 non-null object\n",
      "ucell               12002 non-null int64\n",
      "uprov               12002 non-null object\n",
      "ucity               12002 non-null object\n",
      "uarea               12000 non-null object\n",
      "is_insider          12002 non-null object\n",
      "ucode               12002 non-null float64\n",
      "time_join           11994 non-null object\n",
      "area_type           12002 non-null object\n",
      "area_work           12002 non-null object\n",
      "area_service_id     11995 non-null float64\n",
      "area_service        11993 non-null object\n",
      "team_sale_id        12002 non-null float64\n",
      "team_sale_name      12002 non-null object\n",
      "team_bus_id         12002 non-null float64\n",
      "team_bus_name       12002 non-null object\n",
      "tj_name             12002 non-null object\n",
      "tj_uid              12002 non-null object\n",
      "tj_cell             12002 non-null float64\n",
      "tj_prov             12002 non-null object\n",
      "tj_city             12002 non-null object\n",
      "tj_area             12000 non-null object\n",
      "tj_area_work        12002 non-null object\n",
      "tj_area_service     12002 non-null object\n",
      "tb_name             12002 non-null object\n",
      "tb_id_type          12002 non-null object\n",
      "tb_id               12002 non-null object\n",
      "tb_email            12002 non-null object\n",
      "tb_cell             12002 non-null int64\n",
      "relation            12002 non-null object\n",
      "bb_name             12002 non-null object\n",
      "bb_id_type          9469 non-null object\n",
      "bb_id               12002 non-null object\n",
      "date_pay            12002 non-null datetime64[ns]\n",
      "mon                 12002 non-null object\n",
      "plabel_L1           12002 non-null object\n",
      "plabel_L2           12002 non-null object\n",
      "plabel_term         12002 non-null float64\n",
      "plabel              12002 non-null object\n",
      "plabel_need         12002 non-null object\n",
      "plabel_renew        11542 non-null object\n",
      "plabel_stat         11542 non-null object\n",
      "bb_age              12002 non-null int64\n",
      "bb_gender           12002 non-null object\n",
      "ucode_need          12002 non-null object\n",
      "tb_age              12002 non-null int64\n",
      "tb_gender           12002 non-null object\n",
      "age                 12001 non-null float64\n",
      "sex                 12001 non-null float64\n",
      "area                12001 non-null object\n",
      "degree              12001 non-null object\n",
      "grade               11952 non-null object\n",
      "bins_cust_age       11345 non-null category\n",
      "bins_tb_age         12002 non-null category\n",
      "dtypes: category(2), datetime64[ns](1), float64(19), int64(4), object(66)\n",
      "memory usage: 8.4+ MB\n"
     ]
    }
   ],
   "source": [
    "order_online_sum.info()"
   ]
  },
  {
   "cell_type": "code",
   "execution_count": 80,
   "metadata": {
    "ExecuteTime": {
     "end_time": "2020-05-18T10:12:30.522260Z",
     "start_time": "2020-05-18T10:12:30.504311Z"
    }
   },
   "outputs": [
    {
     "data": {
      "text/html": [
       "<div>\n",
       "<style scoped>\n",
       "    .dataframe tbody tr th:only-of-type {\n",
       "        vertical-align: middle;\n",
       "    }\n",
       "\n",
       "    .dataframe tbody tr th {\n",
       "        vertical-align: top;\n",
       "    }\n",
       "\n",
       "    .dataframe thead th {\n",
       "        text-align: right;\n",
       "    }\n",
       "</style>\n",
       "<table border=\"1\" class=\"dataframe\">\n",
       "  <thead>\n",
       "    <tr style=\"text-align: right;\">\n",
       "      <th>relation</th>\n",
       "      <th>丈夫</th>\n",
       "      <th>儿子</th>\n",
       "      <th>其它</th>\n",
       "      <th>女儿</th>\n",
       "      <th>妻子</th>\n",
       "      <th>本人</th>\n",
       "      <th>母亲</th>\n",
       "      <th>父亲</th>\n",
       "    </tr>\n",
       "    <tr>\n",
       "      <th>plabel_need</th>\n",
       "      <th></th>\n",
       "      <th></th>\n",
       "      <th></th>\n",
       "      <th></th>\n",
       "      <th></th>\n",
       "      <th></th>\n",
       "      <th></th>\n",
       "      <th></th>\n",
       "    </tr>\n",
       "  </thead>\n",
       "  <tbody>\n",
       "    <tr>\n",
       "      <th>重疾险_其他</th>\n",
       "      <td>357.0</td>\n",
       "      <td>336.0</td>\n",
       "      <td>2014.0</td>\n",
       "      <td>283.0</td>\n",
       "      <td>210.0</td>\n",
       "      <td>1065.0</td>\n",
       "      <td>25.0</td>\n",
       "      <td>23.0</td>\n",
       "    </tr>\n",
       "    <tr>\n",
       "      <th>重疾险_少儿</th>\n",
       "      <td>NaN</td>\n",
       "      <td>4041.0</td>\n",
       "      <td>NaN</td>\n",
       "      <td>3648.0</td>\n",
       "      <td>NaN</td>\n",
       "      <td>NaN</td>\n",
       "      <td>NaN</td>\n",
       "      <td>NaN</td>\n",
       "    </tr>\n",
       "  </tbody>\n",
       "</table>\n",
       "</div>"
      ],
      "text/plain": [
       "relation        丈夫      儿子      其它      女儿     妻子      本人    母亲    父亲\n",
       "plabel_need                                                          \n",
       "重疾险_其他       357.0   336.0  2014.0   283.0  210.0  1065.0  25.0  23.0\n",
       "重疾险_少儿         NaN  4041.0     NaN  3648.0    NaN     NaN   NaN   NaN"
      ]
     },
     "execution_count": 80,
     "metadata": {},
     "output_type": "execute_result"
    }
   ],
   "source": [
    "order_online_sum.groupby(['plabel_need','relation']).order.count().reset_index().pivot(index='plabel_need',columns ='relation',values='order')"
   ]
  },
  {
   "cell_type": "code",
   "execution_count": 78,
   "metadata": {
    "ExecuteTime": {
     "end_time": "2020-05-18T10:07:29.799388Z",
     "start_time": "2020-05-18T10:07:29.738529Z"
    }
   },
   "outputs": [
    {
     "data": {
      "text/html": [
       "<div>\n",
       "<style scoped>\n",
       "    .dataframe tbody tr th:only-of-type {\n",
       "        vertical-align: middle;\n",
       "    }\n",
       "\n",
       "    .dataframe tbody tr th {\n",
       "        vertical-align: top;\n",
       "    }\n",
       "\n",
       "    .dataframe thead th {\n",
       "        text-align: right;\n",
       "    }\n",
       "</style>\n",
       "<table border=\"1\" class=\"dataframe\">\n",
       "  <thead>\n",
       "    <tr style=\"text-align: right;\">\n",
       "      <th></th>\n",
       "      <th>pname</th>\n",
       "      <th>bb_name</th>\n",
       "    </tr>\n",
       "  </thead>\n",
       "  <tbody>\n",
       "    <tr>\n",
       "      <th>125</th>\n",
       "      <td>恒大恒家保终身重大疾病保险</td>\n",
       "      <td>3514</td>\n",
       "    </tr>\n",
       "    <tr>\n",
       "      <th>36</th>\n",
       "      <td>信泰完美人生守护尊享版重大疾病保险</td>\n",
       "      <td>2430</td>\n",
       "    </tr>\n",
       "    <tr>\n",
       "      <th>133</th>\n",
       "      <td>横琴琴童尊享增额终身寿险</td>\n",
       "      <td>1512</td>\n",
       "    </tr>\n",
       "    <tr>\n",
       "      <th>52</th>\n",
       "      <td>光大永明童佳保尊享版重大疾病保险</td>\n",
       "      <td>1230</td>\n",
       "    </tr>\n",
       "    <tr>\n",
       "      <th>93</th>\n",
       "      <td>天安人寿健康源2019增强版终身重大疾病保险</td>\n",
       "      <td>947</td>\n",
       "    </tr>\n",
       "    <tr>\n",
       "      <th>149</th>\n",
       "      <td>百年医惠通费用补偿医疗保险</td>\n",
       "      <td>866</td>\n",
       "    </tr>\n",
       "    <tr>\n",
       "      <th>63</th>\n",
       "      <td>华夏华夏红钻石版年金保险</td>\n",
       "      <td>842</td>\n",
       "    </tr>\n",
       "    <tr>\n",
       "      <th>61</th>\n",
       "      <td>华夏华夏福多倍2.0版重大疾病保险</td>\n",
       "      <td>838</td>\n",
       "    </tr>\n",
       "    <tr>\n",
       "      <th>153</th>\n",
       "      <td>百年康盛保终身重大疾病保险</td>\n",
       "      <td>651</td>\n",
       "    </tr>\n",
       "    <tr>\n",
       "      <th>39</th>\n",
       "      <td>信泰百万守护2019重大疾病保险</td>\n",
       "      <td>621</td>\n",
       "    </tr>\n",
       "    <tr>\n",
       "      <th>2</th>\n",
       "      <td>中华尊终身寿险</td>\n",
       "      <td>534</td>\n",
       "    </tr>\n",
       "    <tr>\n",
       "      <th>126</th>\n",
       "      <td>恒大至尊保费用补偿医疗保险</td>\n",
       "      <td>448</td>\n",
       "    </tr>\n",
       "    <tr>\n",
       "      <th>151</th>\n",
       "      <td>百年康多保终身重大疾病保险</td>\n",
       "      <td>404</td>\n",
       "    </tr>\n",
       "    <tr>\n",
       "      <th>37</th>\n",
       "      <td>信泰完美人生守护重大疾病保险</td>\n",
       "      <td>354</td>\n",
       "    </tr>\n",
       "    <tr>\n",
       "      <th>72</th>\n",
       "      <td>同方全球康健一生新多倍保终身重大疾病保险</td>\n",
       "      <td>351</td>\n",
       "    </tr>\n",
       "    <tr>\n",
       "      <th>152</th>\n",
       "      <td>百年康欣保2020版终身重大疾病保险</td>\n",
       "      <td>315</td>\n",
       "    </tr>\n",
       "    <tr>\n",
       "      <th>98</th>\n",
       "      <td>富德生命倍享健康重大疾病保险基本责任</td>\n",
       "      <td>312</td>\n",
       "    </tr>\n",
       "    <tr>\n",
       "      <th>92</th>\n",
       "      <td>天安人寿健康易享医疗保险</td>\n",
       "      <td>300</td>\n",
       "    </tr>\n",
       "    <tr>\n",
       "      <th>33</th>\n",
       "      <td>信泰如意保医疗保险</td>\n",
       "      <td>294</td>\n",
       "    </tr>\n",
       "    <tr>\n",
       "      <th>109</th>\n",
       "      <td>工银安盛人寿御享颐生重大疾病保险</td>\n",
       "      <td>289</td>\n",
       "    </tr>\n",
       "    <tr>\n",
       "      <th>5</th>\n",
       "      <td>中华福卓越版终身重大疾病保险</td>\n",
       "      <td>175</td>\n",
       "    </tr>\n",
       "    <tr>\n",
       "      <th>34</th>\n",
       "      <td>信泰如意尊终身寿险</td>\n",
       "      <td>169</td>\n",
       "    </tr>\n",
       "    <tr>\n",
       "      <th>88</th>\n",
       "      <td>复星保德信福寿齐添养老年金保险</td>\n",
       "      <td>166</td>\n",
       "    </tr>\n",
       "    <tr>\n",
       "      <th>172</th>\n",
       "      <td>长生福御享版重大疾病保险</td>\n",
       "      <td>136</td>\n",
       "    </tr>\n",
       "    <tr>\n",
       "      <th>43</th>\n",
       "      <td>信泰金掌柜年金保险万能型</td>\n",
       "      <td>133</td>\n",
       "    </tr>\n",
       "    <tr>\n",
       "      <th>96</th>\n",
       "      <td>天安人寿鑫如意年金保险万能型</td>\n",
       "      <td>107</td>\n",
       "    </tr>\n",
       "    <tr>\n",
       "      <th>159</th>\n",
       "      <td>长城吉康人生重大疾病保险</td>\n",
       "      <td>100</td>\n",
       "    </tr>\n",
       "    <tr>\n",
       "      <th>44</th>\n",
       "      <td>信泰锦绣传承终身寿险</td>\n",
       "      <td>99</td>\n",
       "    </tr>\n",
       "    <tr>\n",
       "      <th>50</th>\n",
       "      <td>光大永明福运连年B款年金保险</td>\n",
       "      <td>99</td>\n",
       "    </tr>\n",
       "    <tr>\n",
       "      <th>32</th>\n",
       "      <td>信泰如意享六福版养老年金保险</td>\n",
       "      <td>94</td>\n",
       "    </tr>\n",
       "    <tr>\n",
       "      <th>...</th>\n",
       "      <td>...</td>\n",
       "      <td>...</td>\n",
       "    </tr>\n",
       "    <tr>\n",
       "      <th>175</th>\n",
       "      <td>阳光人寿亲子保重大疾病保险</td>\n",
       "      <td>1</td>\n",
       "    </tr>\n",
       "    <tr>\n",
       "      <th>162</th>\n",
       "      <td>长城爱永随终身寿险</td>\n",
       "      <td>1</td>\n",
       "    </tr>\n",
       "    <tr>\n",
       "      <th>178</th>\n",
       "      <td>阳光人寿悦享相伴终身寿险万能型</td>\n",
       "      <td>1</td>\n",
       "    </tr>\n",
       "    <tr>\n",
       "      <th>179</th>\n",
       "      <td>阳光人寿臻爱倍致终身寿险</td>\n",
       "      <td>1</td>\n",
       "    </tr>\n",
       "    <tr>\n",
       "      <th>181</th>\n",
       "      <td>阳光人寿财富一生年金保险</td>\n",
       "      <td>1</td>\n",
       "    </tr>\n",
       "    <tr>\n",
       "      <th>0</th>\n",
       "      <td>上海人寿览海尚选重大疾病保险</td>\n",
       "      <td>1</td>\n",
       "    </tr>\n",
       "    <tr>\n",
       "      <th>157</th>\n",
       "      <td>鑫福来年金保险</td>\n",
       "      <td>1</td>\n",
       "    </tr>\n",
       "    <tr>\n",
       "      <th>154</th>\n",
       "      <td>百年鑫越人生终身寿险</td>\n",
       "      <td>1</td>\n",
       "    </tr>\n",
       "    <tr>\n",
       "      <th>8</th>\n",
       "      <td>中意一生保终身寿险B款期交</td>\n",
       "      <td>1</td>\n",
       "    </tr>\n",
       "    <tr>\n",
       "      <th>21</th>\n",
       "      <td>中英人寿金喜年年年金保险</td>\n",
       "      <td>1</td>\n",
       "    </tr>\n",
       "    <tr>\n",
       "      <th>26</th>\n",
       "      <td>中荷家业常青E款终身寿险</td>\n",
       "      <td>1</td>\n",
       "    </tr>\n",
       "    <tr>\n",
       "      <th>27</th>\n",
       "      <td>中荷金福鑫年金保险</td>\n",
       "      <td>1</td>\n",
       "    </tr>\n",
       "    <tr>\n",
       "      <th>40</th>\n",
       "      <td>信泰百万守护B款重大疾病保险</td>\n",
       "      <td>1</td>\n",
       "    </tr>\n",
       "    <tr>\n",
       "      <th>45</th>\n",
       "      <td>倍健康重大疾病保险2019版含可选责任</td>\n",
       "      <td>1</td>\n",
       "    </tr>\n",
       "    <tr>\n",
       "      <th>56</th>\n",
       "      <td>北肿防癌管家个人疾病保险B款</td>\n",
       "      <td>1</td>\n",
       "    </tr>\n",
       "    <tr>\n",
       "      <th>70</th>\n",
       "      <td>同方全球安心意外伤害保险</td>\n",
       "      <td>1</td>\n",
       "    </tr>\n",
       "    <tr>\n",
       "      <th>81</th>\n",
       "      <td>国华华宝安行两全保险</td>\n",
       "      <td>1</td>\n",
       "    </tr>\n",
       "    <tr>\n",
       "      <th>83</th>\n",
       "      <td>国宝人寿金樽享终身寿险</td>\n",
       "      <td>1</td>\n",
       "    </tr>\n",
       "    <tr>\n",
       "      <th>90</th>\n",
       "      <td>天安人寿传世福终身寿险</td>\n",
       "      <td>1</td>\n",
       "    </tr>\n",
       "    <tr>\n",
       "      <th>106</th>\n",
       "      <td>工银安盛人寿安享特药医疗保险</td>\n",
       "      <td>1</td>\n",
       "    </tr>\n",
       "    <tr>\n",
       "      <th>108</th>\n",
       "      <td>工银安盛人寿康至惠选医疗保险</td>\n",
       "      <td>1</td>\n",
       "    </tr>\n",
       "    <tr>\n",
       "      <th>111</th>\n",
       "      <td>弘康臻爱520重大疾病保险</td>\n",
       "      <td>1</td>\n",
       "    </tr>\n",
       "    <tr>\n",
       "      <th>118</th>\n",
       "      <td>恒大万年松终身重大疾病保险</td>\n",
       "      <td>1</td>\n",
       "    </tr>\n",
       "    <tr>\n",
       "      <th>122</th>\n",
       "      <td>恒大万年青终身重大疾病保险</td>\n",
       "      <td>1</td>\n",
       "    </tr>\n",
       "    <tr>\n",
       "      <th>130</th>\n",
       "      <td>星满意重大疾病保险</td>\n",
       "      <td>1</td>\n",
       "    </tr>\n",
       "    <tr>\n",
       "      <th>134</th>\n",
       "      <td>泰康乐多倍终身重大疾病保险期交</td>\n",
       "      <td>1</td>\n",
       "    </tr>\n",
       "    <tr>\n",
       "      <th>138</th>\n",
       "      <td>泰康乐鑫2018年金保险分红型趸交</td>\n",
       "      <td>1</td>\n",
       "    </tr>\n",
       "    <tr>\n",
       "      <th>141</th>\n",
       "      <td>爱加倍尊享版重大疾病保险</td>\n",
       "      <td>1</td>\n",
       "    </tr>\n",
       "    <tr>\n",
       "      <th>150</th>\n",
       "      <td>百年康倍保重大疾病保险</td>\n",
       "      <td>1</td>\n",
       "    </tr>\n",
       "    <tr>\n",
       "      <th>184</th>\n",
       "      <td>陆家嘴国泰泰惠选医疗保险有社保</td>\n",
       "      <td>1</td>\n",
       "    </tr>\n",
       "  </tbody>\n",
       "</table>\n",
       "<p>185 rows × 2 columns</p>\n",
       "</div>"
      ],
      "text/plain": [
       "                      pname  bb_name\n",
       "125           恒大恒家保终身重大疾病保险     3514\n",
       "36        信泰完美人生守护尊享版重大疾病保险     2430\n",
       "133            横琴琴童尊享增额终身寿险     1512\n",
       "52         光大永明童佳保尊享版重大疾病保险     1230\n",
       "93   天安人寿健康源2019增强版终身重大疾病保险      947\n",
       "149           百年医惠通费用补偿医疗保险      866\n",
       "63             华夏华夏红钻石版年金保险      842\n",
       "61        华夏华夏福多倍2.0版重大疾病保险      838\n",
       "153           百年康盛保终身重大疾病保险      651\n",
       "39         信泰百万守护2019重大疾病保险      621\n",
       "2                   中华尊终身寿险      534\n",
       "126           恒大至尊保费用补偿医疗保险      448\n",
       "151           百年康多保终身重大疾病保险      404\n",
       "37           信泰完美人生守护重大疾病保险      354\n",
       "72     同方全球康健一生新多倍保终身重大疾病保险      351\n",
       "152      百年康欣保2020版终身重大疾病保险      315\n",
       "98       富德生命倍享健康重大疾病保险基本责任      312\n",
       "92             天安人寿健康易享医疗保险      300\n",
       "33                信泰如意保医疗保险      294\n",
       "109        工银安盛人寿御享颐生重大疾病保险      289\n",
       "5            中华福卓越版终身重大疾病保险      175\n",
       "34                信泰如意尊终身寿险      169\n",
       "88          复星保德信福寿齐添养老年金保险      166\n",
       "172            长生福御享版重大疾病保险      136\n",
       "43             信泰金掌柜年金保险万能型      133\n",
       "96           天安人寿鑫如意年金保险万能型      107\n",
       "159            长城吉康人生重大疾病保险      100\n",
       "44               信泰锦绣传承终身寿险       99\n",
       "50           光大永明福运连年B款年金保险       99\n",
       "32           信泰如意享六福版养老年金保险       94\n",
       "..                      ...      ...\n",
       "175           阳光人寿亲子保重大疾病保险        1\n",
       "162               长城爱永随终身寿险        1\n",
       "178         阳光人寿悦享相伴终身寿险万能型        1\n",
       "179            阳光人寿臻爱倍致终身寿险        1\n",
       "181            阳光人寿财富一生年金保险        1\n",
       "0            上海人寿览海尚选重大疾病保险        1\n",
       "157                 鑫福来年金保险        1\n",
       "154              百年鑫越人生终身寿险        1\n",
       "8             中意一生保终身寿险B款期交        1\n",
       "21             中英人寿金喜年年年金保险        1\n",
       "26             中荷家业常青E款终身寿险        1\n",
       "27                中荷金福鑫年金保险        1\n",
       "40           信泰百万守护B款重大疾病保险        1\n",
       "45      倍健康重大疾病保险2019版含可选责任        1\n",
       "56           北肿防癌管家个人疾病保险B款        1\n",
       "70             同方全球安心意外伤害保险        1\n",
       "81               国华华宝安行两全保险        1\n",
       "83              国宝人寿金樽享终身寿险        1\n",
       "90              天安人寿传世福终身寿险        1\n",
       "106          工银安盛人寿安享特药医疗保险        1\n",
       "108          工银安盛人寿康至惠选医疗保险        1\n",
       "111           弘康臻爱520重大疾病保险        1\n",
       "118           恒大万年松终身重大疾病保险        1\n",
       "122           恒大万年青终身重大疾病保险        1\n",
       "130               星满意重大疾病保险        1\n",
       "134         泰康乐多倍终身重大疾病保险期交        1\n",
       "138       泰康乐鑫2018年金保险分红型趸交        1\n",
       "141            爱加倍尊享版重大疾病保险        1\n",
       "150             百年康倍保重大疾病保险        1\n",
       "184         陆家嘴国泰泰惠选医疗保险有社保        1\n",
       "\n",
       "[185 rows x 2 columns]"
      ]
     },
     "execution_count": 78,
     "metadata": {},
     "output_type": "execute_result"
    }
   ],
   "source": [
    "order_off_sum.loc[order_off_sum.bb_age <=18,:].groupby('pname').bb_name.nunique().reset_index().sort_values('bb_name',ascending=False)"
   ]
  },
  {
   "cell_type": "code",
   "execution_count": 61,
   "metadata": {
    "ExecuteTime": {
     "end_time": "2020-05-18T09:37:39.298417Z",
     "start_time": "2020-05-18T09:37:39.224584Z"
    }
   },
   "outputs": [
    {
     "data": {
      "text/plain": [
       "array(['重疾险_少儿', '健康险_其他', '重疾险_其他', '定寿', '健康险_百万医疗', '意外险_其他', '终身寿',\n",
       "       '意外险_旅游险', '健康险_住院保', '意外险_10+1', '意外险_学平险', '财产险', '服务类', nan],\n",
       "      dtype=object)"
      ]
     },
     "execution_count": 61,
     "metadata": {},
     "output_type": "execute_result"
    }
   ],
   "source": [
    "order_online_sum.plabel_need.unique()"
   ]
  },
  {
   "cell_type": "code",
   "execution_count": 63,
   "metadata": {
    "ExecuteTime": {
     "end_time": "2020-05-18T09:38:16.782158Z",
     "start_time": "2020-05-18T09:38:15.481637Z"
    }
   },
   "outputs": [
    {
     "data": {
      "text/html": [
       "<div>\n",
       "<style scoped>\n",
       "    .dataframe tbody tr th:only-of-type {\n",
       "        vertical-align: middle;\n",
       "    }\n",
       "\n",
       "    .dataframe tbody tr th {\n",
       "        vertical-align: top;\n",
       "    }\n",
       "\n",
       "    .dataframe thead th {\n",
       "        text-align: right;\n",
       "    }\n",
       "</style>\n",
       "<table border=\"1\" class=\"dataframe\">\n",
       "  <thead>\n",
       "    <tr style=\"text-align: right;\">\n",
       "      <th>tb_gender</th>\n",
       "      <th>女</th>\n",
       "      <th>男</th>\n",
       "    </tr>\n",
       "    <tr>\n",
       "      <th>bins_tb_age</th>\n",
       "      <th></th>\n",
       "      <th></th>\n",
       "    </tr>\n",
       "  </thead>\n",
       "  <tbody>\n",
       "    <tr>\n",
       "      <th>(0, 18]</th>\n",
       "      <td>59</td>\n",
       "      <td>95</td>\n",
       "    </tr>\n",
       "    <tr>\n",
       "      <th>(18, 22]</th>\n",
       "      <td>3167</td>\n",
       "      <td>3904</td>\n",
       "    </tr>\n",
       "    <tr>\n",
       "      <th>(22, 25]</th>\n",
       "      <td>6161</td>\n",
       "      <td>5147</td>\n",
       "    </tr>\n",
       "    <tr>\n",
       "      <th>(25, 30]</th>\n",
       "      <td>23230</td>\n",
       "      <td>15252</td>\n",
       "    </tr>\n",
       "    <tr>\n",
       "      <th>(30, 35]</th>\n",
       "      <td>38776</td>\n",
       "      <td>23989</td>\n",
       "    </tr>\n",
       "    <tr>\n",
       "      <th>(35, 40]</th>\n",
       "      <td>32354</td>\n",
       "      <td>20096</td>\n",
       "    </tr>\n",
       "    <tr>\n",
       "      <th>(40, 45]</th>\n",
       "      <td>24815</td>\n",
       "      <td>17227</td>\n",
       "    </tr>\n",
       "    <tr>\n",
       "      <th>(45, 50]</th>\n",
       "      <td>22870</td>\n",
       "      <td>19371</td>\n",
       "    </tr>\n",
       "    <tr>\n",
       "      <th>(50, 55]</th>\n",
       "      <td>13683</td>\n",
       "      <td>17469</td>\n",
       "    </tr>\n",
       "    <tr>\n",
       "      <th>(55, 60]</th>\n",
       "      <td>9315</td>\n",
       "      <td>12936</td>\n",
       "    </tr>\n",
       "    <tr>\n",
       "      <th>(60, 100]</th>\n",
       "      <td>10592</td>\n",
       "      <td>16528</td>\n",
       "    </tr>\n",
       "  </tbody>\n",
       "</table>\n",
       "</div>"
      ],
      "text/plain": [
       "tb_gender        女      男\n",
       "bins_tb_age              \n",
       "(0, 18]         59     95\n",
       "(18, 22]      3167   3904\n",
       "(22, 25]      6161   5147\n",
       "(25, 30]     23230  15252\n",
       "(30, 35]     38776  23989\n",
       "(35, 40]     32354  20096\n",
       "(40, 45]     24815  17227\n",
       "(45, 50]     22870  19371\n",
       "(50, 55]     13683  17469\n",
       "(55, 60]      9315  12936\n",
       "(60, 100]    10592  16528"
      ]
     },
     "execution_count": 63,
     "metadata": {},
     "output_type": "execute_result"
    }
   ],
   "source": [
    "order_online_sum.loc[order_online_sum.plabel_need.isin(['意外险_旅游险','意外险_学平险'])==False,:].groupby(['tb_gender','bins_tb_age']).tb_name.nunique().reset_index().pivot(index='bins_tb_age',columns ='tb_gender',values='tb_name')"
   ]
  },
  {
   "cell_type": "code",
   "execution_count": 66,
   "metadata": {
    "ExecuteTime": {
     "end_time": "2020-05-18T09:43:28.637288Z",
     "start_time": "2020-05-18T09:43:28.632327Z"
    }
   },
   "outputs": [
    {
     "data": {
      "text/plain": [
       "Index(['order', 'order_origin', 'order_stat', 'time_order', 'time_pay',\n",
       "       'time_cb', 'time_start', 'time_end', 'pcode', 'pid', 'pname',\n",
       "       'pcompany', 'plan', 'pay_way', 'channel_src', 'channel_detail',\n",
       "       'batch_id', 'order_renew_src', 'is_self', 'bf', 'tgf_rate_A',\n",
       "       'tgf_rate_B', 'tgf_A', 'tgf_B', 'tgf_tax', 'tjf_tax', 'tjf', 'tgf_b1',\n",
       "       'tgf_b2', 'money_add', 'ticket_code', 'ticket_name', 'ticket_rate',\n",
       "       'money_top', 'ticket_value', 'tgf_X', 'uid', 'order_origin_uid',\n",
       "       'uname', 'ucell', 'uprov', 'ucity', 'uarea', 'is_insider', 'ucode',\n",
       "       'time_join', 'area_type', 'area_work', 'area_service_id',\n",
       "       'area_service', 'team_sale_id', 'team_sale_name', 'team_bus_id',\n",
       "       'team_bus_name', 'tj_name', 'tj_uid', 'tj_cell', 'tj_prov', 'tj_city',\n",
       "       'tj_area', 'tj_area_work', 'tj_area_service', 'tb_name', 'tb_id_type',\n",
       "       'tb_id', 'tb_email', 'tb_cell', 'relation', 'bb_name', 'bb_id_type',\n",
       "       'bb_id', 'date_pay', 'mon', 'plabel_L1', 'plabel_L2', 'plabel_term',\n",
       "       'plabel', 'plabel_need', 'plabel_renew', 'plabel_stat', 'bb_age',\n",
       "       'bb_gender', 'ucode_need', 'tb_age', 'tb_gender', 'age', 'sex', 'area',\n",
       "       'degree', 'grade', 'bins_cust_age', 'bins_tb_age'],\n",
       "      dtype='object')"
      ]
     },
     "execution_count": 66,
     "metadata": {},
     "output_type": "execute_result"
    }
   ],
   "source": [
    "order_online_sum.columns"
   ]
  },
  {
   "cell_type": "code",
   "execution_count": 68,
   "metadata": {
    "ExecuteTime": {
     "end_time": "2020-05-18T09:43:47.592603Z",
     "start_time": "2020-05-18T09:43:47.256502Z"
    }
   },
   "outputs": [
    {
     "data": {
      "text/html": [
       "<div>\n",
       "<style scoped>\n",
       "    .dataframe tbody tr th:only-of-type {\n",
       "        vertical-align: middle;\n",
       "    }\n",
       "\n",
       "    .dataframe tbody tr th {\n",
       "        vertical-align: top;\n",
       "    }\n",
       "\n",
       "    .dataframe thead th {\n",
       "        text-align: right;\n",
       "    }\n",
       "</style>\n",
       "<table border=\"1\" class=\"dataframe\">\n",
       "  <thead>\n",
       "    <tr style=\"text-align: right;\">\n",
       "      <th></th>\n",
       "      <th>relation</th>\n",
       "      <th>tb_name</th>\n",
       "    </tr>\n",
       "  </thead>\n",
       "  <tbody>\n",
       "    <tr>\n",
       "      <th>7</th>\n",
       "      <td>本人</td>\n",
       "      <td>94808</td>\n",
       "    </tr>\n",
       "    <tr>\n",
       "      <th>1</th>\n",
       "      <td>儿子</td>\n",
       "      <td>3085</td>\n",
       "    </tr>\n",
       "    <tr>\n",
       "      <th>5</th>\n",
       "      <td>女儿</td>\n",
       "      <td>2507</td>\n",
       "    </tr>\n",
       "    <tr>\n",
       "      <th>0</th>\n",
       "      <td>丈夫</td>\n",
       "      <td>2506</td>\n",
       "    </tr>\n",
       "    <tr>\n",
       "      <th>6</th>\n",
       "      <td>妻子</td>\n",
       "      <td>1350</td>\n",
       "    </tr>\n",
       "    <tr>\n",
       "      <th>8</th>\n",
       "      <td>母亲</td>\n",
       "      <td>840</td>\n",
       "    </tr>\n",
       "    <tr>\n",
       "      <th>9</th>\n",
       "      <td>父亲</td>\n",
       "      <td>420</td>\n",
       "    </tr>\n",
       "    <tr>\n",
       "      <th>2</th>\n",
       "      <td>其他</td>\n",
       "      <td>76</td>\n",
       "    </tr>\n",
       "    <tr>\n",
       "      <th>3</th>\n",
       "      <td>其它</td>\n",
       "      <td>57</td>\n",
       "    </tr>\n",
       "    <tr>\n",
       "      <th>4</th>\n",
       "      <td>劳动关系</td>\n",
       "      <td>2</td>\n",
       "    </tr>\n",
       "  </tbody>\n",
       "</table>\n",
       "</div>"
      ],
      "text/plain": [
       "  relation  tb_name\n",
       "7       本人    94808\n",
       "1       儿子     3085\n",
       "5       女儿     2507\n",
       "0       丈夫     2506\n",
       "6       妻子     1350\n",
       "8       母亲      840\n",
       "9       父亲      420\n",
       "2       其他       76\n",
       "3       其它       57\n",
       "4     劳动关系        2"
      ]
     },
     "execution_count": 68,
     "metadata": {},
     "output_type": "execute_result"
    }
   ],
   "source": [
    "order_online_sum.loc[(order_online_sum.tb_age >=50)\n",
    "                     ,:].groupby('relation').tb_name.nunique().reset_index().sort_values('tb_name',ascending=False)"
   ]
  },
  {
   "cell_type": "markdown",
   "metadata": {},
   "source": [
    "### 用户画像梳理"
   ]
  },
  {
   "cell_type": "code",
   "execution_count": 207,
   "metadata": {
    "ExecuteTime": {
     "end_time": "2020-05-15T07:03:01.251810Z",
     "start_time": "2020-05-15T07:03:01.219896Z"
    }
   },
   "outputs": [],
   "source": [
    "bins = [0,18,22,25,30,35,40,45,50,55,60,100]\n",
    "order_off_sum['bins_uid_age'] =  pd.cut(order_off_sum.age,bins =bins)"
   ]
  },
  {
   "cell_type": "code",
   "execution_count": 214,
   "metadata": {
    "ExecuteTime": {
     "end_time": "2020-05-15T07:13:27.922605Z",
     "start_time": "2020-05-15T07:13:27.916594Z"
    }
   },
   "outputs": [
    {
     "data": {
      "text/plain": [
       "Index(['序号', '保单状态', 'date_tb', '回单日期', '保单录入日期', '承保日期', '预收日期', 'date_input',\n",
       "       '销售团队代码', '销售团队名称', '地区分类', '团队分类', '是否本部', '营业部代码', '营业部名称', '是否营业中心',\n",
       "       '营业部所属批牌机构编码', '营业部所属批牌', '营业部类型', '代理人代码', '代理人姓名', '入司日期', '代理人职级',\n",
       "       '业务合伙人级别', '经营合伙人级别', '经营团队总经理标志', '职业化标志', '推荐人代码', '推荐人姓名', '辅导人代码',\n",
       "       '辅导人姓名', '经营合伙人代码', '经营合伙人姓名', '离职日期', 'ucode', '现代理人姓名', 'area_type',\n",
       "       '原辅代理人姓名', '原辅代理人编码', '原辅代理人所在销售团队名称', '原辅代理人所在销售团队代码', '原辅代理人所在机构',\n",
       "       '现辅代理人姓名', '现辅代理人编码', '现辅代理人所在销售团队名称', '现辅代理人所在销售团队代码', '是否自保件',\n",
       "       '保险公司代码', '保险公司名称', '投保单号', '保单号', 'tb_name', 'bb_name', '险种代码',\n",
       "       '外部险种代码', 'pname', '是否主险', '产品分类', '交费年期|年龄标志', '缴费期', '佣金率', '规模保费',\n",
       "       'bf', '保额', '保全标志', '是否纳入现代理人方案统计', '归属类型', '归属细类', '保单关系人', '代码', '姓名',\n",
       "       '月份', '销服代码', '销服名称', '机构', '职级', '入司日期.1', '入司月', '营业部代码.1', '营业部名称.1',\n",
       "       '是否营业中心.1', '师傅代码', '师傅姓名', 'ucode_need', 'mon', 'age', 'sex', 'area',\n",
       "       'degree', 'grade', 'bins_uid_age'],\n",
       "      dtype='object')"
      ]
     },
     "execution_count": 214,
     "metadata": {},
     "output_type": "execute_result"
    }
   ],
   "source": [
    "order_off_sum.columns"
   ]
  },
  {
   "cell_type": "code",
   "execution_count": 216,
   "metadata": {
    "ExecuteTime": {
     "end_time": "2020-05-15T07:14:31.939408Z",
     "start_time": "2020-05-15T07:14:31.848650Z"
    }
   },
   "outputs": [
    {
     "data": {
      "text/html": [
       "<div>\n",
       "<style scoped>\n",
       "    .dataframe tbody tr th:only-of-type {\n",
       "        vertical-align: middle;\n",
       "    }\n",
       "\n",
       "    .dataframe tbody tr th {\n",
       "        vertical-align: top;\n",
       "    }\n",
       "\n",
       "    .dataframe thead th {\n",
       "        text-align: right;\n",
       "    }\n",
       "</style>\n",
       "<table border=\"1\" class=\"dataframe\">\n",
       "  <thead>\n",
       "    <tr style=\"text-align: right;\">\n",
       "      <th>sex</th>\n",
       "      <th>1</th>\n",
       "      <th>2</th>\n",
       "    </tr>\n",
       "    <tr>\n",
       "      <th>bins_uid_age</th>\n",
       "      <th></th>\n",
       "      <th></th>\n",
       "    </tr>\n",
       "  </thead>\n",
       "  <tbody>\n",
       "    <tr>\n",
       "      <th>(18, 22]</th>\n",
       "      <td>23</td>\n",
       "      <td>64</td>\n",
       "    </tr>\n",
       "    <tr>\n",
       "      <th>(22, 25]</th>\n",
       "      <td>95</td>\n",
       "      <td>128</td>\n",
       "    </tr>\n",
       "    <tr>\n",
       "      <th>(25, 30]</th>\n",
       "      <td>409</td>\n",
       "      <td>764</td>\n",
       "    </tr>\n",
       "    <tr>\n",
       "      <th>(30, 35]</th>\n",
       "      <td>912</td>\n",
       "      <td>2220</td>\n",
       "    </tr>\n",
       "    <tr>\n",
       "      <th>(35, 40]</th>\n",
       "      <td>828</td>\n",
       "      <td>2393</td>\n",
       "    </tr>\n",
       "    <tr>\n",
       "      <th>(40, 45]</th>\n",
       "      <td>620</td>\n",
       "      <td>1545</td>\n",
       "    </tr>\n",
       "    <tr>\n",
       "      <th>(45, 50]</th>\n",
       "      <td>487</td>\n",
       "      <td>1073</td>\n",
       "    </tr>\n",
       "    <tr>\n",
       "      <th>(50, 55]</th>\n",
       "      <td>265</td>\n",
       "      <td>691</td>\n",
       "    </tr>\n",
       "    <tr>\n",
       "      <th>(55, 60]</th>\n",
       "      <td>102</td>\n",
       "      <td>329</td>\n",
       "    </tr>\n",
       "    <tr>\n",
       "      <th>(60, 100]</th>\n",
       "      <td>52</td>\n",
       "      <td>125</td>\n",
       "    </tr>\n",
       "  </tbody>\n",
       "</table>\n",
       "</div>"
      ],
      "text/plain": [
       "sex             1     2\n",
       "bins_uid_age           \n",
       "(18, 22]       23    64\n",
       "(22, 25]       95   128\n",
       "(25, 30]      409   764\n",
       "(30, 35]      912  2220\n",
       "(35, 40]      828  2393\n",
       "(40, 45]      620  1545\n",
       "(45, 50]      487  1073\n",
       "(50, 55]      265   691\n",
       "(55, 60]      102   329\n",
       "(60, 100]      52   125"
      ]
     },
     "execution_count": 216,
     "metadata": {},
     "output_type": "execute_result"
    }
   ],
   "source": [
    "order_off_sum.groupby(['bins_uid_age','sex']).ucode_need.nunique().reset_index().pivot(index='bins_uid_age',columns ='sex',values='ucode_need')"
   ]
  },
  {
   "cell_type": "code",
   "execution_count": 210,
   "metadata": {
    "ExecuteTime": {
     "end_time": "2020-05-15T07:04:51.759302Z",
     "start_time": "2020-05-15T07:04:51.750327Z"
    }
   },
   "outputs": [],
   "source": [
    "order_online_sum['bins_uid_age'] =  pd.cut(order_online_sum.age,bins =bins)"
   ]
  },
  {
   "cell_type": "code",
   "execution_count": 222,
   "metadata": {
    "ExecuteTime": {
     "end_time": "2020-05-15T08:17:43.251414Z",
     "start_time": "2020-05-15T08:17:43.223516Z"
    }
   },
   "outputs": [
    {
     "data": {
      "text/html": [
       "<div>\n",
       "<style scoped>\n",
       "    .dataframe tbody tr th:only-of-type {\n",
       "        vertical-align: middle;\n",
       "    }\n",
       "\n",
       "    .dataframe tbody tr th {\n",
       "        vertical-align: top;\n",
       "    }\n",
       "\n",
       "    .dataframe thead th {\n",
       "        text-align: right;\n",
       "    }\n",
       "</style>\n",
       "<table border=\"1\" class=\"dataframe\">\n",
       "  <thead>\n",
       "    <tr style=\"text-align: right;\">\n",
       "      <th>sex</th>\n",
       "      <th>1.0</th>\n",
       "      <th>2.0</th>\n",
       "    </tr>\n",
       "    <tr>\n",
       "      <th>bins_uid_age</th>\n",
       "      <th></th>\n",
       "      <th></th>\n",
       "    </tr>\n",
       "  </thead>\n",
       "  <tbody>\n",
       "    <tr>\n",
       "      <th>(18, 22]</th>\n",
       "      <td>6</td>\n",
       "      <td>13</td>\n",
       "    </tr>\n",
       "    <tr>\n",
       "      <th>(22, 25]</th>\n",
       "      <td>25</td>\n",
       "      <td>38</td>\n",
       "    </tr>\n",
       "    <tr>\n",
       "      <th>(25, 30]</th>\n",
       "      <td>192</td>\n",
       "      <td>353</td>\n",
       "    </tr>\n",
       "    <tr>\n",
       "      <th>(30, 35]</th>\n",
       "      <td>443</td>\n",
       "      <td>1064</td>\n",
       "    </tr>\n",
       "    <tr>\n",
       "      <th>(35, 40]</th>\n",
       "      <td>367</td>\n",
       "      <td>1013</td>\n",
       "    </tr>\n",
       "    <tr>\n",
       "      <th>(40, 45]</th>\n",
       "      <td>194</td>\n",
       "      <td>510</td>\n",
       "    </tr>\n",
       "    <tr>\n",
       "      <th>(45, 50]</th>\n",
       "      <td>106</td>\n",
       "      <td>249</td>\n",
       "    </tr>\n",
       "    <tr>\n",
       "      <th>(50, 55]</th>\n",
       "      <td>50</td>\n",
       "      <td>140</td>\n",
       "    </tr>\n",
       "    <tr>\n",
       "      <th>(55, 60]</th>\n",
       "      <td>23</td>\n",
       "      <td>85</td>\n",
       "    </tr>\n",
       "    <tr>\n",
       "      <th>(60, 100]</th>\n",
       "      <td>14</td>\n",
       "      <td>36</td>\n",
       "    </tr>\n",
       "  </tbody>\n",
       "</table>\n",
       "</div>"
      ],
      "text/plain": [
       "sex           1.0   2.0\n",
       "bins_uid_age           \n",
       "(18, 22]        6    13\n",
       "(22, 25]       25    38\n",
       "(25, 30]      192   353\n",
       "(30, 35]      443  1064\n",
       "(35, 40]      367  1013\n",
       "(40, 45]      194   510\n",
       "(45, 50]      106   249\n",
       "(50, 55]       50   140\n",
       "(55, 60]       23    85\n",
       "(60, 100]      14    36"
      ]
     },
     "execution_count": 222,
     "metadata": {},
     "output_type": "execute_result"
    }
   ],
   "source": [
    "order_online_sum.groupby(['bins_uid_age','sex']).ucode_need.nunique().reset_index().pivot(index='bins_uid_age',columns ='sex',values='ucode_need')"
   ]
  },
  {
   "cell_type": "code",
   "execution_count": 228,
   "metadata": {
    "ExecuteTime": {
     "end_time": "2020-05-15T08:45:10.687415Z",
     "start_time": "2020-05-15T08:45:10.663469Z"
    }
   },
   "outputs": [
    {
     "data": {
      "text/html": [
       "<div>\n",
       "<style scoped>\n",
       "    .dataframe tbody tr th:only-of-type {\n",
       "        vertical-align: middle;\n",
       "    }\n",
       "\n",
       "    .dataframe tbody tr th {\n",
       "        vertical-align: top;\n",
       "    }\n",
       "\n",
       "    .dataframe thead th {\n",
       "        text-align: right;\n",
       "    }\n",
       "</style>\n",
       "<table border=\"1\" class=\"dataframe\">\n",
       "  <thead>\n",
       "    <tr style=\"text-align: right;\">\n",
       "      <th>degree</th>\n",
       "      <th>专科</th>\n",
       "      <th>中专</th>\n",
       "      <th>其他</th>\n",
       "      <th>初中</th>\n",
       "      <th>博士</th>\n",
       "      <th>小学</th>\n",
       "      <th>本科</th>\n",
       "      <th>硕士</th>\n",
       "      <th>高中</th>\n",
       "    </tr>\n",
       "    <tr>\n",
       "      <th>sex</th>\n",
       "      <th></th>\n",
       "      <th></th>\n",
       "      <th></th>\n",
       "      <th></th>\n",
       "      <th></th>\n",
       "      <th></th>\n",
       "      <th></th>\n",
       "      <th></th>\n",
       "      <th></th>\n",
       "    </tr>\n",
       "  </thead>\n",
       "  <tbody>\n",
       "    <tr>\n",
       "      <th>1.0</th>\n",
       "      <td>432.0</td>\n",
       "      <td>88.0</td>\n",
       "      <td>NaN</td>\n",
       "      <td>20.0</td>\n",
       "      <td>1.0</td>\n",
       "      <td>2.0</td>\n",
       "      <td>653.0</td>\n",
       "      <td>80.0</td>\n",
       "      <td>144.0</td>\n",
       "    </tr>\n",
       "    <tr>\n",
       "      <th>2.0</th>\n",
       "      <td>1082.0</td>\n",
       "      <td>215.0</td>\n",
       "      <td>1.0</td>\n",
       "      <td>77.0</td>\n",
       "      <td>10.0</td>\n",
       "      <td>5.0</td>\n",
       "      <td>1534.0</td>\n",
       "      <td>267.0</td>\n",
       "      <td>310.0</td>\n",
       "    </tr>\n",
       "  </tbody>\n",
       "</table>\n",
       "</div>"
      ],
      "text/plain": [
       "degree      专科     中专   其他    初中    博士   小学      本科     硕士     高中\n",
       "sex                                                              \n",
       "1.0      432.0   88.0  NaN  20.0   1.0  2.0   653.0   80.0  144.0\n",
       "2.0     1082.0  215.0  1.0  77.0  10.0  5.0  1534.0  267.0  310.0"
      ]
     },
     "execution_count": 228,
     "metadata": {},
     "output_type": "execute_result"
    }
   ],
   "source": [
    "order_online_sum.groupby(['sex','degree']).ucode_need.nunique().reset_index().pivot(index='sex',columns ='degree',values='ucode_need')"
   ]
  },
  {
   "cell_type": "code",
   "execution_count": 229,
   "metadata": {
    "ExecuteTime": {
     "end_time": "2020-05-15T08:45:12.291145Z",
     "start_time": "2020-05-15T08:45:12.213324Z"
    }
   },
   "outputs": [
    {
     "data": {
      "text/html": [
       "<div>\n",
       "<style scoped>\n",
       "    .dataframe tbody tr th:only-of-type {\n",
       "        vertical-align: middle;\n",
       "    }\n",
       "\n",
       "    .dataframe tbody tr th {\n",
       "        vertical-align: top;\n",
       "    }\n",
       "\n",
       "    .dataframe thead th {\n",
       "        text-align: right;\n",
       "    }\n",
       "</style>\n",
       "<table border=\"1\" class=\"dataframe\">\n",
       "  <thead>\n",
       "    <tr style=\"text-align: right;\">\n",
       "      <th>degree</th>\n",
       "      <th>专科</th>\n",
       "      <th>中专</th>\n",
       "      <th>其他</th>\n",
       "      <th>初中</th>\n",
       "      <th>博士</th>\n",
       "      <th>小学</th>\n",
       "      <th>本科</th>\n",
       "      <th>硕士</th>\n",
       "      <th>高中</th>\n",
       "    </tr>\n",
       "    <tr>\n",
       "      <th>sex</th>\n",
       "      <th></th>\n",
       "      <th></th>\n",
       "      <th></th>\n",
       "      <th></th>\n",
       "      <th></th>\n",
       "      <th></th>\n",
       "      <th></th>\n",
       "      <th></th>\n",
       "      <th></th>\n",
       "    </tr>\n",
       "  </thead>\n",
       "  <tbody>\n",
       "    <tr>\n",
       "      <th>1</th>\n",
       "      <td>1149.0</td>\n",
       "      <td>355.0</td>\n",
       "      <td>NaN</td>\n",
       "      <td>130.0</td>\n",
       "      <td>8.0</td>\n",
       "      <td>8.0</td>\n",
       "      <td>1340.0</td>\n",
       "      <td>176.0</td>\n",
       "      <td>627.0</td>\n",
       "    </tr>\n",
       "    <tr>\n",
       "      <th>2</th>\n",
       "      <td>2897.0</td>\n",
       "      <td>870.0</td>\n",
       "      <td>1.0</td>\n",
       "      <td>381.0</td>\n",
       "      <td>18.0</td>\n",
       "      <td>40.0</td>\n",
       "      <td>3096.0</td>\n",
       "      <td>476.0</td>\n",
       "      <td>1553.0</td>\n",
       "    </tr>\n",
       "  </tbody>\n",
       "</table>\n",
       "</div>"
      ],
      "text/plain": [
       "degree      专科     中专   其他     初中    博士    小学      本科     硕士      高中\n",
       "sex                                                                 \n",
       "1       1149.0  355.0  NaN  130.0   8.0   8.0  1340.0  176.0   627.0\n",
       "2       2897.0  870.0  1.0  381.0  18.0  40.0  3096.0  476.0  1553.0"
      ]
     },
     "execution_count": 229,
     "metadata": {},
     "output_type": "execute_result"
    }
   ],
   "source": [
    "order_off_sum.groupby(['sex','degree']).ucode_need.nunique().reset_index().pivot(index='sex',columns ='degree',values='ucode_need')"
   ]
  },
  {
   "cell_type": "code",
   "execution_count": 236,
   "metadata": {
    "ExecuteTime": {
     "end_time": "2020-05-15T09:01:08.242542Z",
     "start_time": "2020-05-15T09:01:08.176695Z"
    }
   },
   "outputs": [
    {
     "data": {
      "text/html": [
       "<div>\n",
       "<style scoped>\n",
       "    .dataframe tbody tr th:only-of-type {\n",
       "        vertical-align: middle;\n",
       "    }\n",
       "\n",
       "    .dataframe tbody tr th {\n",
       "        vertical-align: top;\n",
       "    }\n",
       "\n",
       "    .dataframe thead th {\n",
       "        text-align: right;\n",
       "    }\n",
       "</style>\n",
       "<table border=\"1\" class=\"dataframe\">\n",
       "  <thead>\n",
       "    <tr style=\"text-align: right;\">\n",
       "      <th></th>\n",
       "      <th>area</th>\n",
       "      <th>ucode_need</th>\n",
       "    </tr>\n",
       "  </thead>\n",
       "  <tbody>\n",
       "    <tr>\n",
       "      <th>0</th>\n",
       "      <td>上海</td>\n",
       "      <td>295</td>\n",
       "    </tr>\n",
       "    <tr>\n",
       "      <th>1</th>\n",
       "      <td>云南</td>\n",
       "      <td>319</td>\n",
       "    </tr>\n",
       "    <tr>\n",
       "      <th>2</th>\n",
       "      <td>其他</td>\n",
       "      <td>7</td>\n",
       "    </tr>\n",
       "    <tr>\n",
       "      <th>3</th>\n",
       "      <td>内蒙</td>\n",
       "      <td>174</td>\n",
       "    </tr>\n",
       "    <tr>\n",
       "      <th>4</th>\n",
       "      <td>北京</td>\n",
       "      <td>1247</td>\n",
       "    </tr>\n",
       "    <tr>\n",
       "      <th>5</th>\n",
       "      <td>厦门</td>\n",
       "      <td>130</td>\n",
       "    </tr>\n",
       "    <tr>\n",
       "      <th>6</th>\n",
       "      <td>四川</td>\n",
       "      <td>1876</td>\n",
       "    </tr>\n",
       "    <tr>\n",
       "      <th>7</th>\n",
       "      <td>大连</td>\n",
       "      <td>246</td>\n",
       "    </tr>\n",
       "    <tr>\n",
       "      <th>8</th>\n",
       "      <td>天津</td>\n",
       "      <td>439</td>\n",
       "    </tr>\n",
       "    <tr>\n",
       "      <th>9</th>\n",
       "      <td>安徽</td>\n",
       "      <td>150</td>\n",
       "    </tr>\n",
       "    <tr>\n",
       "      <th>10</th>\n",
       "      <td>山东</td>\n",
       "      <td>894</td>\n",
       "    </tr>\n",
       "    <tr>\n",
       "      <th>11</th>\n",
       "      <td>广东</td>\n",
       "      <td>547</td>\n",
       "    </tr>\n",
       "    <tr>\n",
       "      <th>12</th>\n",
       "      <td>新疆</td>\n",
       "      <td>117</td>\n",
       "    </tr>\n",
       "    <tr>\n",
       "      <th>13</th>\n",
       "      <td>江苏</td>\n",
       "      <td>460</td>\n",
       "    </tr>\n",
       "    <tr>\n",
       "      <th>14</th>\n",
       "      <td>江西</td>\n",
       "      <td>180</td>\n",
       "    </tr>\n",
       "    <tr>\n",
       "      <th>15</th>\n",
       "      <td>河北</td>\n",
       "      <td>650</td>\n",
       "    </tr>\n",
       "    <tr>\n",
       "      <th>16</th>\n",
       "      <td>河南</td>\n",
       "      <td>1887</td>\n",
       "    </tr>\n",
       "    <tr>\n",
       "      <th>17</th>\n",
       "      <td>浙江</td>\n",
       "      <td>401</td>\n",
       "    </tr>\n",
       "    <tr>\n",
       "      <th>18</th>\n",
       "      <td>海南</td>\n",
       "      <td>159</td>\n",
       "    </tr>\n",
       "    <tr>\n",
       "      <th>19</th>\n",
       "      <td>深圳</td>\n",
       "      <td>773</td>\n",
       "    </tr>\n",
       "    <tr>\n",
       "      <th>20</th>\n",
       "      <td>湖北</td>\n",
       "      <td>233</td>\n",
       "    </tr>\n",
       "    <tr>\n",
       "      <th>21</th>\n",
       "      <td>湖南</td>\n",
       "      <td>256</td>\n",
       "    </tr>\n",
       "    <tr>\n",
       "      <th>22</th>\n",
       "      <td>燕京</td>\n",
       "      <td>94</td>\n",
       "    </tr>\n",
       "    <tr>\n",
       "      <th>23</th>\n",
       "      <td>福建</td>\n",
       "      <td>149</td>\n",
       "    </tr>\n",
       "    <tr>\n",
       "      <th>24</th>\n",
       "      <td>经纪北京</td>\n",
       "      <td>22</td>\n",
       "    </tr>\n",
       "    <tr>\n",
       "      <th>25</th>\n",
       "      <td>苏州</td>\n",
       "      <td>173</td>\n",
       "    </tr>\n",
       "    <tr>\n",
       "      <th>26</th>\n",
       "      <td>辽宁</td>\n",
       "      <td>241</td>\n",
       "    </tr>\n",
       "    <tr>\n",
       "      <th>27</th>\n",
       "      <td>重庆</td>\n",
       "      <td>337</td>\n",
       "    </tr>\n",
       "    <tr>\n",
       "      <th>28</th>\n",
       "      <td>陕西</td>\n",
       "      <td>456</td>\n",
       "    </tr>\n",
       "    <tr>\n",
       "      <th>29</th>\n",
       "      <td>青岛</td>\n",
       "      <td>213</td>\n",
       "    </tr>\n",
       "  </tbody>\n",
       "</table>\n",
       "</div>"
      ],
      "text/plain": [
       "    area  ucode_need\n",
       "0     上海         295\n",
       "1     云南         319\n",
       "2     其他           7\n",
       "3     内蒙         174\n",
       "4     北京        1247\n",
       "5     厦门         130\n",
       "6     四川        1876\n",
       "7     大连         246\n",
       "8     天津         439\n",
       "9     安徽         150\n",
       "10    山东         894\n",
       "11    广东         547\n",
       "12    新疆         117\n",
       "13    江苏         460\n",
       "14    江西         180\n",
       "15    河北         650\n",
       "16    河南        1887\n",
       "17    浙江         401\n",
       "18    海南         159\n",
       "19    深圳         773\n",
       "20    湖北         233\n",
       "21    湖南         256\n",
       "22    燕京          94\n",
       "23    福建         149\n",
       "24  经纪北京          22\n",
       "25    苏州         173\n",
       "26    辽宁         241\n",
       "27    重庆         337\n",
       "28    陕西         456\n",
       "29    青岛         213"
      ]
     },
     "execution_count": 236,
     "metadata": {},
     "output_type": "execute_result"
    }
   ],
   "source": [
    "order_off_sum.groupby('area').ucode_need.nunique().reset_index()"
   ]
  },
  {
   "cell_type": "code",
   "execution_count": 237,
   "metadata": {
    "ExecuteTime": {
     "end_time": "2020-05-15T09:01:27.753357Z",
     "start_time": "2020-05-15T09:01:27.734402Z"
    }
   },
   "outputs": [
    {
     "data": {
      "text/html": [
       "<div>\n",
       "<style scoped>\n",
       "    .dataframe tbody tr th:only-of-type {\n",
       "        vertical-align: middle;\n",
       "    }\n",
       "\n",
       "    .dataframe tbody tr th {\n",
       "        vertical-align: top;\n",
       "    }\n",
       "\n",
       "    .dataframe thead th {\n",
       "        text-align: right;\n",
       "    }\n",
       "</style>\n",
       "<table border=\"1\" class=\"dataframe\">\n",
       "  <thead>\n",
       "    <tr style=\"text-align: right;\">\n",
       "      <th></th>\n",
       "      <th>area</th>\n",
       "      <th>ucode_need</th>\n",
       "    </tr>\n",
       "  </thead>\n",
       "  <tbody>\n",
       "    <tr>\n",
       "      <th>0</th>\n",
       "      <td>上海</td>\n",
       "      <td>176</td>\n",
       "    </tr>\n",
       "    <tr>\n",
       "      <th>1</th>\n",
       "      <td>云南</td>\n",
       "      <td>105</td>\n",
       "    </tr>\n",
       "    <tr>\n",
       "      <th>2</th>\n",
       "      <td>其他</td>\n",
       "      <td>34</td>\n",
       "    </tr>\n",
       "    <tr>\n",
       "      <th>3</th>\n",
       "      <td>内蒙</td>\n",
       "      <td>70</td>\n",
       "    </tr>\n",
       "    <tr>\n",
       "      <th>4</th>\n",
       "      <td>北京</td>\n",
       "      <td>568</td>\n",
       "    </tr>\n",
       "    <tr>\n",
       "      <th>5</th>\n",
       "      <td>厦门</td>\n",
       "      <td>76</td>\n",
       "    </tr>\n",
       "    <tr>\n",
       "      <th>6</th>\n",
       "      <td>四川</td>\n",
       "      <td>758</td>\n",
       "    </tr>\n",
       "    <tr>\n",
       "      <th>7</th>\n",
       "      <td>大连</td>\n",
       "      <td>109</td>\n",
       "    </tr>\n",
       "    <tr>\n",
       "      <th>8</th>\n",
       "      <td>天津</td>\n",
       "      <td>142</td>\n",
       "    </tr>\n",
       "    <tr>\n",
       "      <th>9</th>\n",
       "      <td>安徽</td>\n",
       "      <td>75</td>\n",
       "    </tr>\n",
       "    <tr>\n",
       "      <th>10</th>\n",
       "      <td>山东</td>\n",
       "      <td>324</td>\n",
       "    </tr>\n",
       "    <tr>\n",
       "      <th>11</th>\n",
       "      <td>广东</td>\n",
       "      <td>223</td>\n",
       "    </tr>\n",
       "    <tr>\n",
       "      <th>12</th>\n",
       "      <td>新疆</td>\n",
       "      <td>32</td>\n",
       "    </tr>\n",
       "    <tr>\n",
       "      <th>13</th>\n",
       "      <td>江苏</td>\n",
       "      <td>181</td>\n",
       "    </tr>\n",
       "    <tr>\n",
       "      <th>14</th>\n",
       "      <td>江西</td>\n",
       "      <td>90</td>\n",
       "    </tr>\n",
       "    <tr>\n",
       "      <th>15</th>\n",
       "      <td>河北</td>\n",
       "      <td>160</td>\n",
       "    </tr>\n",
       "    <tr>\n",
       "      <th>16</th>\n",
       "      <td>河南</td>\n",
       "      <td>413</td>\n",
       "    </tr>\n",
       "    <tr>\n",
       "      <th>17</th>\n",
       "      <td>浙江</td>\n",
       "      <td>120</td>\n",
       "    </tr>\n",
       "    <tr>\n",
       "      <th>18</th>\n",
       "      <td>海南</td>\n",
       "      <td>88</td>\n",
       "    </tr>\n",
       "    <tr>\n",
       "      <th>19</th>\n",
       "      <td>深圳</td>\n",
       "      <td>260</td>\n",
       "    </tr>\n",
       "    <tr>\n",
       "      <th>20</th>\n",
       "      <td>湖北</td>\n",
       "      <td>86</td>\n",
       "    </tr>\n",
       "    <tr>\n",
       "      <th>21</th>\n",
       "      <td>湖南</td>\n",
       "      <td>101</td>\n",
       "    </tr>\n",
       "    <tr>\n",
       "      <th>22</th>\n",
       "      <td>燕京</td>\n",
       "      <td>34</td>\n",
       "    </tr>\n",
       "    <tr>\n",
       "      <th>23</th>\n",
       "      <td>福建</td>\n",
       "      <td>85</td>\n",
       "    </tr>\n",
       "    <tr>\n",
       "      <th>24</th>\n",
       "      <td>经纪北京</td>\n",
       "      <td>16</td>\n",
       "    </tr>\n",
       "    <tr>\n",
       "      <th>25</th>\n",
       "      <td>苏州</td>\n",
       "      <td>63</td>\n",
       "    </tr>\n",
       "    <tr>\n",
       "      <th>26</th>\n",
       "      <td>辽宁</td>\n",
       "      <td>123</td>\n",
       "    </tr>\n",
       "    <tr>\n",
       "      <th>27</th>\n",
       "      <td>重庆</td>\n",
       "      <td>187</td>\n",
       "    </tr>\n",
       "    <tr>\n",
       "      <th>28</th>\n",
       "      <td>陕西</td>\n",
       "      <td>148</td>\n",
       "    </tr>\n",
       "    <tr>\n",
       "      <th>29</th>\n",
       "      <td>青岛</td>\n",
       "      <td>74</td>\n",
       "    </tr>\n",
       "  </tbody>\n",
       "</table>\n",
       "</div>"
      ],
      "text/plain": [
       "    area  ucode_need\n",
       "0     上海         176\n",
       "1     云南         105\n",
       "2     其他          34\n",
       "3     内蒙          70\n",
       "4     北京         568\n",
       "5     厦门          76\n",
       "6     四川         758\n",
       "7     大连         109\n",
       "8     天津         142\n",
       "9     安徽          75\n",
       "10    山东         324\n",
       "11    广东         223\n",
       "12    新疆          32\n",
       "13    江苏         181\n",
       "14    江西          90\n",
       "15    河北         160\n",
       "16    河南         413\n",
       "17    浙江         120\n",
       "18    海南          88\n",
       "19    深圳         260\n",
       "20    湖北          86\n",
       "21    湖南         101\n",
       "22    燕京          34\n",
       "23    福建          85\n",
       "24  经纪北京          16\n",
       "25    苏州          63\n",
       "26    辽宁         123\n",
       "27    重庆         187\n",
       "28    陕西         148\n",
       "29    青岛          74"
      ]
     },
     "execution_count": 237,
     "metadata": {},
     "output_type": "execute_result"
    }
   ],
   "source": [
    "order_online_sum.groupby('area').ucode_need.nunique().reset_index()"
   ]
  },
  {
   "cell_type": "code",
   "execution_count": 239,
   "metadata": {
    "ExecuteTime": {
     "end_time": "2020-05-15T09:16:20.942727Z",
     "start_time": "2020-05-15T09:16:19.619240Z"
    }
   },
   "outputs": [],
   "source": [
    "res = pd.merge(order_online_sum,order_off_sum[['ucode_need','bf']].drop_duplicates(),how='left',on='ucode_need')"
   ]
  },
  {
   "cell_type": "code",
   "execution_count": 242,
   "metadata": {
    "ExecuteTime": {
     "end_time": "2020-05-15T09:19:25.825635Z",
     "start_time": "2020-05-15T09:19:25.655093Z"
    },
    "scrolled": true
   },
   "outputs": [
    {
     "data": {
      "text/html": [
       "<div>\n",
       "<style scoped>\n",
       "    .dataframe tbody tr th:only-of-type {\n",
       "        vertical-align: middle;\n",
       "    }\n",
       "\n",
       "    .dataframe tbody tr th {\n",
       "        vertical-align: top;\n",
       "    }\n",
       "\n",
       "    .dataframe thead th {\n",
       "        text-align: right;\n",
       "    }\n",
       "</style>\n",
       "<table border=\"1\" class=\"dataframe\">\n",
       "  <thead>\n",
       "    <tr style=\"text-align: right;\">\n",
       "      <th></th>\n",
       "      <th>bins_uid_age</th>\n",
       "      <th>ucode_need</th>\n",
       "    </tr>\n",
       "  </thead>\n",
       "  <tbody>\n",
       "    <tr>\n",
       "      <th>0</th>\n",
       "      <td>(0, 18]</td>\n",
       "      <td>0</td>\n",
       "    </tr>\n",
       "    <tr>\n",
       "      <th>1</th>\n",
       "      <td>(18, 22]</td>\n",
       "      <td>11</td>\n",
       "    </tr>\n",
       "    <tr>\n",
       "      <th>2</th>\n",
       "      <td>(22, 25]</td>\n",
       "      <td>29</td>\n",
       "    </tr>\n",
       "    <tr>\n",
       "      <th>3</th>\n",
       "      <td>(25, 30]</td>\n",
       "      <td>336</td>\n",
       "    </tr>\n",
       "    <tr>\n",
       "      <th>4</th>\n",
       "      <td>(30, 35]</td>\n",
       "      <td>1082</td>\n",
       "    </tr>\n",
       "    <tr>\n",
       "      <th>5</th>\n",
       "      <td>(35, 40]</td>\n",
       "      <td>1066</td>\n",
       "    </tr>\n",
       "    <tr>\n",
       "      <th>6</th>\n",
       "      <td>(40, 45]</td>\n",
       "      <td>552</td>\n",
       "    </tr>\n",
       "    <tr>\n",
       "      <th>7</th>\n",
       "      <td>(45, 50]</td>\n",
       "      <td>276</td>\n",
       "    </tr>\n",
       "    <tr>\n",
       "      <th>8</th>\n",
       "      <td>(50, 55]</td>\n",
       "      <td>138</td>\n",
       "    </tr>\n",
       "    <tr>\n",
       "      <th>9</th>\n",
       "      <td>(55, 60]</td>\n",
       "      <td>70</td>\n",
       "    </tr>\n",
       "    <tr>\n",
       "      <th>10</th>\n",
       "      <td>(60, 100]</td>\n",
       "      <td>28</td>\n",
       "    </tr>\n",
       "  </tbody>\n",
       "</table>\n",
       "</div>"
      ],
      "text/plain": [
       "   bins_uid_age  ucode_need\n",
       "0       (0, 18]           0\n",
       "1      (18, 22]          11\n",
       "2      (22, 25]          29\n",
       "3      (25, 30]         336\n",
       "4      (30, 35]        1082\n",
       "5      (35, 40]        1066\n",
       "6      (40, 45]         552\n",
       "7      (45, 50]         276\n",
       "8      (50, 55]         138\n",
       "9      (55, 60]          70\n",
       "10    (60, 100]          28"
      ]
     },
     "execution_count": 242,
     "metadata": {},
     "output_type": "execute_result"
    }
   ],
   "source": [
    "res.loc[res.bf_y.notna(),:].groupby('bins_uid_age').ucode_need.nunique().reset_index()"
   ]
  },
  {
   "cell_type": "code",
   "execution_count": 244,
   "metadata": {
    "ExecuteTime": {
     "end_time": "2020-05-15T09:22:21.885907Z",
     "start_time": "2020-05-15T09:22:21.741265Z"
    }
   },
   "outputs": [
    {
     "data": {
      "text/html": [
       "<div>\n",
       "<style scoped>\n",
       "    .dataframe tbody tr th:only-of-type {\n",
       "        vertical-align: middle;\n",
       "    }\n",
       "\n",
       "    .dataframe tbody tr th {\n",
       "        vertical-align: top;\n",
       "    }\n",
       "\n",
       "    .dataframe thead th {\n",
       "        text-align: right;\n",
       "    }\n",
       "</style>\n",
       "<table border=\"1\" class=\"dataframe\">\n",
       "  <thead>\n",
       "    <tr style=\"text-align: right;\">\n",
       "      <th>sex</th>\n",
       "      <th>1.0</th>\n",
       "      <th>2.0</th>\n",
       "    </tr>\n",
       "    <tr>\n",
       "      <th>bins_uid_age</th>\n",
       "      <th></th>\n",
       "      <th></th>\n",
       "    </tr>\n",
       "  </thead>\n",
       "  <tbody>\n",
       "    <tr>\n",
       "      <th>(18, 22]</th>\n",
       "      <td>3</td>\n",
       "      <td>8</td>\n",
       "    </tr>\n",
       "    <tr>\n",
       "      <th>(22, 25]</th>\n",
       "      <td>16</td>\n",
       "      <td>13</td>\n",
       "    </tr>\n",
       "    <tr>\n",
       "      <th>(25, 30]</th>\n",
       "      <td>109</td>\n",
       "      <td>227</td>\n",
       "    </tr>\n",
       "    <tr>\n",
       "      <th>(30, 35]</th>\n",
       "      <td>303</td>\n",
       "      <td>779</td>\n",
       "    </tr>\n",
       "    <tr>\n",
       "      <th>(35, 40]</th>\n",
       "      <td>241</td>\n",
       "      <td>825</td>\n",
       "    </tr>\n",
       "    <tr>\n",
       "      <th>(40, 45]</th>\n",
       "      <td>138</td>\n",
       "      <td>414</td>\n",
       "    </tr>\n",
       "    <tr>\n",
       "      <th>(45, 50]</th>\n",
       "      <td>76</td>\n",
       "      <td>200</td>\n",
       "    </tr>\n",
       "    <tr>\n",
       "      <th>(50, 55]</th>\n",
       "      <td>35</td>\n",
       "      <td>103</td>\n",
       "    </tr>\n",
       "    <tr>\n",
       "      <th>(55, 60]</th>\n",
       "      <td>14</td>\n",
       "      <td>56</td>\n",
       "    </tr>\n",
       "    <tr>\n",
       "      <th>(60, 100]</th>\n",
       "      <td>8</td>\n",
       "      <td>20</td>\n",
       "    </tr>\n",
       "  </tbody>\n",
       "</table>\n",
       "</div>"
      ],
      "text/plain": [
       "sex           1.0  2.0\n",
       "bins_uid_age          \n",
       "(18, 22]        3    8\n",
       "(22, 25]       16   13\n",
       "(25, 30]      109  227\n",
       "(30, 35]      303  779\n",
       "(35, 40]      241  825\n",
       "(40, 45]      138  414\n",
       "(45, 50]       76  200\n",
       "(50, 55]       35  103\n",
       "(55, 60]       14   56\n",
       "(60, 100]       8   20"
      ]
     },
     "execution_count": 244,
     "metadata": {},
     "output_type": "execute_result"
    }
   ],
   "source": [
    "res.loc[res.bf_y.notna(),:].groupby(['bins_uid_age','sex']).ucode_need.nunique().reset_index().pivot(index='bins_uid_age',columns ='sex',values='ucode_need')"
   ]
  },
  {
   "cell_type": "code",
   "execution_count": 245,
   "metadata": {
    "ExecuteTime": {
     "end_time": "2020-05-15T09:37:14.489729Z",
     "start_time": "2020-05-15T09:37:14.350088Z"
    }
   },
   "outputs": [
    {
     "data": {
      "text/html": [
       "<div>\n",
       "<style scoped>\n",
       "    .dataframe tbody tr th:only-of-type {\n",
       "        vertical-align: middle;\n",
       "    }\n",
       "\n",
       "    .dataframe tbody tr th {\n",
       "        vertical-align: top;\n",
       "    }\n",
       "\n",
       "    .dataframe thead th {\n",
       "        text-align: right;\n",
       "    }\n",
       "</style>\n",
       "<table border=\"1\" class=\"dataframe\">\n",
       "  <thead>\n",
       "    <tr style=\"text-align: right;\">\n",
       "      <th></th>\n",
       "      <th>degree</th>\n",
       "      <th>ucode_need</th>\n",
       "    </tr>\n",
       "  </thead>\n",
       "  <tbody>\n",
       "    <tr>\n",
       "      <th>0</th>\n",
       "      <td>专科</td>\n",
       "      <td>1086</td>\n",
       "    </tr>\n",
       "    <tr>\n",
       "      <th>1</th>\n",
       "      <td>中专</td>\n",
       "      <td>225</td>\n",
       "    </tr>\n",
       "    <tr>\n",
       "      <th>2</th>\n",
       "      <td>其他</td>\n",
       "      <td>1</td>\n",
       "    </tr>\n",
       "    <tr>\n",
       "      <th>3</th>\n",
       "      <td>初中</td>\n",
       "      <td>56</td>\n",
       "    </tr>\n",
       "    <tr>\n",
       "      <th>4</th>\n",
       "      <td>博士</td>\n",
       "      <td>9</td>\n",
       "    </tr>\n",
       "    <tr>\n",
       "      <th>5</th>\n",
       "      <td>小学</td>\n",
       "      <td>4</td>\n",
       "    </tr>\n",
       "    <tr>\n",
       "      <th>6</th>\n",
       "      <td>本科</td>\n",
       "      <td>1625</td>\n",
       "    </tr>\n",
       "    <tr>\n",
       "      <th>7</th>\n",
       "      <td>硕士</td>\n",
       "      <td>266</td>\n",
       "    </tr>\n",
       "    <tr>\n",
       "      <th>8</th>\n",
       "      <td>高中</td>\n",
       "      <td>316</td>\n",
       "    </tr>\n",
       "  </tbody>\n",
       "</table>\n",
       "</div>"
      ],
      "text/plain": [
       "  degree  ucode_need\n",
       "0     专科        1086\n",
       "1     中专         225\n",
       "2     其他           1\n",
       "3     初中          56\n",
       "4     博士           9\n",
       "5     小学           4\n",
       "6     本科        1625\n",
       "7     硕士         266\n",
       "8     高中         316"
      ]
     },
     "execution_count": 245,
     "metadata": {},
     "output_type": "execute_result"
    }
   ],
   "source": [
    "res.loc[res.bf_y.notna(),:].groupby(['degree']).ucode_need.nunique().reset_index()\n",
    "# .pivot(index='bins_uid_age',columns ='sex',values='ucode_need')"
   ]
  },
  {
   "cell_type": "code",
   "execution_count": 246,
   "metadata": {
    "ExecuteTime": {
     "end_time": "2020-05-15T09:45:48.025603Z",
     "start_time": "2020-05-15T09:45:47.854089Z"
    }
   },
   "outputs": [
    {
     "data": {
      "text/html": [
       "<div>\n",
       "<style scoped>\n",
       "    .dataframe tbody tr th:only-of-type {\n",
       "        vertical-align: middle;\n",
       "    }\n",
       "\n",
       "    .dataframe tbody tr th {\n",
       "        vertical-align: top;\n",
       "    }\n",
       "\n",
       "    .dataframe thead th {\n",
       "        text-align: right;\n",
       "    }\n",
       "</style>\n",
       "<table border=\"1\" class=\"dataframe\">\n",
       "  <thead>\n",
       "    <tr style=\"text-align: right;\">\n",
       "      <th></th>\n",
       "      <th>area</th>\n",
       "      <th>ucode_need</th>\n",
       "    </tr>\n",
       "  </thead>\n",
       "  <tbody>\n",
       "    <tr>\n",
       "      <th>0</th>\n",
       "      <td>上海</td>\n",
       "      <td>138</td>\n",
       "    </tr>\n",
       "    <tr>\n",
       "      <th>1</th>\n",
       "      <td>云南</td>\n",
       "      <td>81</td>\n",
       "    </tr>\n",
       "    <tr>\n",
       "      <th>2</th>\n",
       "      <td>其他</td>\n",
       "      <td>1</td>\n",
       "    </tr>\n",
       "    <tr>\n",
       "      <th>3</th>\n",
       "      <td>内蒙</td>\n",
       "      <td>48</td>\n",
       "    </tr>\n",
       "    <tr>\n",
       "      <th>4</th>\n",
       "      <td>北京</td>\n",
       "      <td>398</td>\n",
       "    </tr>\n",
       "    <tr>\n",
       "      <th>5</th>\n",
       "      <td>厦门</td>\n",
       "      <td>60</td>\n",
       "    </tr>\n",
       "    <tr>\n",
       "      <th>6</th>\n",
       "      <td>四川</td>\n",
       "      <td>497</td>\n",
       "    </tr>\n",
       "    <tr>\n",
       "      <th>7</th>\n",
       "      <td>大连</td>\n",
       "      <td>77</td>\n",
       "    </tr>\n",
       "    <tr>\n",
       "      <th>8</th>\n",
       "      <td>天津</td>\n",
       "      <td>117</td>\n",
       "    </tr>\n",
       "    <tr>\n",
       "      <th>9</th>\n",
       "      <td>安徽</td>\n",
       "      <td>40</td>\n",
       "    </tr>\n",
       "    <tr>\n",
       "      <th>10</th>\n",
       "      <td>山东</td>\n",
       "      <td>245</td>\n",
       "    </tr>\n",
       "    <tr>\n",
       "      <th>11</th>\n",
       "      <td>广东</td>\n",
       "      <td>154</td>\n",
       "    </tr>\n",
       "    <tr>\n",
       "      <th>12</th>\n",
       "      <td>新疆</td>\n",
       "      <td>28</td>\n",
       "    </tr>\n",
       "    <tr>\n",
       "      <th>13</th>\n",
       "      <td>江苏</td>\n",
       "      <td>142</td>\n",
       "    </tr>\n",
       "    <tr>\n",
       "      <th>14</th>\n",
       "      <td>江西</td>\n",
       "      <td>56</td>\n",
       "    </tr>\n",
       "    <tr>\n",
       "      <th>15</th>\n",
       "      <td>河北</td>\n",
       "      <td>117</td>\n",
       "    </tr>\n",
       "    <tr>\n",
       "      <th>16</th>\n",
       "      <td>河南</td>\n",
       "      <td>306</td>\n",
       "    </tr>\n",
       "    <tr>\n",
       "      <th>17</th>\n",
       "      <td>浙江</td>\n",
       "      <td>99</td>\n",
       "    </tr>\n",
       "    <tr>\n",
       "      <th>18</th>\n",
       "      <td>海南</td>\n",
       "      <td>78</td>\n",
       "    </tr>\n",
       "    <tr>\n",
       "      <th>19</th>\n",
       "      <td>深圳</td>\n",
       "      <td>202</td>\n",
       "    </tr>\n",
       "    <tr>\n",
       "      <th>20</th>\n",
       "      <td>湖北</td>\n",
       "      <td>57</td>\n",
       "    </tr>\n",
       "    <tr>\n",
       "      <th>21</th>\n",
       "      <td>湖南</td>\n",
       "      <td>83</td>\n",
       "    </tr>\n",
       "    <tr>\n",
       "      <th>22</th>\n",
       "      <td>燕京</td>\n",
       "      <td>28</td>\n",
       "    </tr>\n",
       "    <tr>\n",
       "      <th>23</th>\n",
       "      <td>福建</td>\n",
       "      <td>73</td>\n",
       "    </tr>\n",
       "    <tr>\n",
       "      <th>24</th>\n",
       "      <td>经纪北京</td>\n",
       "      <td>14</td>\n",
       "    </tr>\n",
       "    <tr>\n",
       "      <th>25</th>\n",
       "      <td>苏州</td>\n",
       "      <td>48</td>\n",
       "    </tr>\n",
       "    <tr>\n",
       "      <th>26</th>\n",
       "      <td>辽宁</td>\n",
       "      <td>81</td>\n",
       "    </tr>\n",
       "    <tr>\n",
       "      <th>27</th>\n",
       "      <td>重庆</td>\n",
       "      <td>151</td>\n",
       "    </tr>\n",
       "    <tr>\n",
       "      <th>28</th>\n",
       "      <td>陕西</td>\n",
       "      <td>109</td>\n",
       "    </tr>\n",
       "    <tr>\n",
       "      <th>29</th>\n",
       "      <td>青岛</td>\n",
       "      <td>60</td>\n",
       "    </tr>\n",
       "  </tbody>\n",
       "</table>\n",
       "</div>"
      ],
      "text/plain": [
       "    area  ucode_need\n",
       "0     上海         138\n",
       "1     云南          81\n",
       "2     其他           1\n",
       "3     内蒙          48\n",
       "4     北京         398\n",
       "5     厦门          60\n",
       "6     四川         497\n",
       "7     大连          77\n",
       "8     天津         117\n",
       "9     安徽          40\n",
       "10    山东         245\n",
       "11    广东         154\n",
       "12    新疆          28\n",
       "13    江苏         142\n",
       "14    江西          56\n",
       "15    河北         117\n",
       "16    河南         306\n",
       "17    浙江          99\n",
       "18    海南          78\n",
       "19    深圳         202\n",
       "20    湖北          57\n",
       "21    湖南          83\n",
       "22    燕京          28\n",
       "23    福建          73\n",
       "24  经纪北京          14\n",
       "25    苏州          48\n",
       "26    辽宁          81\n",
       "27    重庆         151\n",
       "28    陕西         109\n",
       "29    青岛          60"
      ]
     },
     "execution_count": 246,
     "metadata": {},
     "output_type": "execute_result"
    }
   ],
   "source": [
    "res.loc[res.bf_y.notna(),:].groupby(['area']).ucode_need.nunique().reset_index()"
   ]
  },
  {
   "cell_type": "code",
   "execution_count": null,
   "metadata": {},
   "outputs": [],
   "source": [
    "res.loc[res]"
   ]
  },
  {
   "cell_type": "markdown",
   "metadata": {},
   "source": [
    "### 线上重疾与线下保单交叉情况"
   ]
  },
  {
   "cell_type": "code",
   "execution_count": 84,
   "metadata": {
    "ExecuteTime": {
     "end_time": "2020-05-15T03:07:57.009866Z",
     "start_time": "2020-05-15T03:07:57.006900Z"
    }
   },
   "outputs": [],
   "source": [
    "agg_col = {'ucode_need':'nunique','bf':'sum'}"
   ]
  },
  {
   "cell_type": "code",
   "execution_count": 20,
   "metadata": {
    "ExecuteTime": {
     "end_time": "2020-05-18T06:31:26.105911Z",
     "start_time": "2020-05-18T06:31:24.904986Z"
    }
   },
   "outputs": [],
   "source": [
    "order_20.ucode.fillna(0,inplace=True)\n",
    "order_20['ucode_need'] = order_20.ucode.map(lambda x:str(int(x)).strip())\n",
    "user_order_all = order_20.groupby(['ucode_need']).bf.sum().reset_index()\n",
    "user_order_need = order_20.loc[(order_20.plabel_term ==1) & (order_20.plabel_L1 =='重疾险')\n",
    "                              & (order_20.ucode_need !='0')].groupby(['ucode_need','mon']).bf.sum().reset_index()"
   ]
  },
  {
   "cell_type": "code",
   "execution_count": 81,
   "metadata": {
    "ExecuteTime": {
     "end_time": "2020-05-14T03:34:39.930280Z",
     "start_time": "2020-05-14T03:34:39.911320Z"
    }
   },
   "outputs": [
    {
     "data": {
      "text/html": [
       "<div>\n",
       "<style scoped>\n",
       "    .dataframe tbody tr th:only-of-type {\n",
       "        vertical-align: middle;\n",
       "    }\n",
       "\n",
       "    .dataframe tbody tr th {\n",
       "        vertical-align: top;\n",
       "    }\n",
       "\n",
       "    .dataframe thead th {\n",
       "        text-align: right;\n",
       "    }\n",
       "</style>\n",
       "<table border=\"1\" class=\"dataframe\">\n",
       "  <thead>\n",
       "    <tr style=\"text-align: right;\">\n",
       "      <th></th>\n",
       "      <th>ucode_need</th>\n",
       "      <th>bf</th>\n",
       "    </tr>\n",
       "    <tr>\n",
       "      <th>mon</th>\n",
       "      <th></th>\n",
       "      <th></th>\n",
       "    </tr>\n",
       "  </thead>\n",
       "  <tbody>\n",
       "    <tr>\n",
       "      <th>2020-01</th>\n",
       "      <td>1634</td>\n",
       "      <td>6477055.25</td>\n",
       "    </tr>\n",
       "    <tr>\n",
       "      <th>2020-02</th>\n",
       "      <td>1337</td>\n",
       "      <td>4890671.80</td>\n",
       "    </tr>\n",
       "    <tr>\n",
       "      <th>2020-03</th>\n",
       "      <td>1454</td>\n",
       "      <td>4956509.04</td>\n",
       "    </tr>\n",
       "    <tr>\n",
       "      <th>2020-04</th>\n",
       "      <td>1622</td>\n",
       "      <td>6071477.77</td>\n",
       "    </tr>\n",
       "    <tr>\n",
       "      <th>2020-05</th>\n",
       "      <td>1169</td>\n",
       "      <td>3791532.57</td>\n",
       "    </tr>\n",
       "  </tbody>\n",
       "</table>\n",
       "</div>"
      ],
      "text/plain": [
       "         ucode_need          bf\n",
       "mon                            \n",
       "2020-01        1634  6477055.25\n",
       "2020-02        1337  4890671.80\n",
       "2020-03        1454  4956509.04\n",
       "2020-04        1622  6071477.77\n",
       "2020-05        1169  3791532.57"
      ]
     },
     "execution_count": 81,
     "metadata": {},
     "output_type": "execute_result"
    }
   ],
   "source": [
    "user_order_need.groupby('mon').agg(agg_col)"
   ]
  },
  {
   "cell_type": "code",
   "execution_count": 82,
   "metadata": {
    "ExecuteTime": {
     "end_time": "2020-05-14T03:35:01.937414Z",
     "start_time": "2020-05-14T03:35:01.929437Z"
    }
   },
   "outputs": [
    {
     "data": {
      "text/plain": [
       "ucode_need        4822.00\n",
       "bf            26187246.43\n",
       "dtype: float64"
      ]
     },
     "execution_count": 82,
     "metadata": {},
     "output_type": "execute_result"
    }
   ],
   "source": [
    "user_order_need.agg(agg_col)"
   ]
  },
  {
   "cell_type": "code",
   "execution_count": 83,
   "metadata": {
    "ExecuteTime": {
     "end_time": "2020-05-14T03:35:21.249784Z",
     "start_time": "2020-05-14T03:35:21.000453Z"
    }
   },
   "outputs": [],
   "source": [
    "\n",
    "user_life_all = order_life_20.loc[order_life_20.ucode_need != '0',:].groupby(['ucode_need','mon']).bf.sum().reset_index()"
   ]
  },
  {
   "cell_type": "code",
   "execution_count": 99,
   "metadata": {
    "ExecuteTime": {
     "end_time": "2020-05-14T07:55:08.569912Z",
     "start_time": "2020-05-14T07:55:08.464225Z"
    }
   },
   "outputs": [],
   "source": [
    "order_life_20['order_type'] = np.nan\n",
    "order_life_20.loc[order_life_20.pname.str.contains('重大疾病'),'order_type'] ='线下重疾'\n",
    "order_life_20.order_type.fillna('其他',inplace=True)"
   ]
  },
  {
   "cell_type": "code",
   "execution_count": 109,
   "metadata": {
    "ExecuteTime": {
     "end_time": "2020-05-14T08:13:16.785118Z",
     "start_time": "2020-05-14T08:13:16.687380Z"
    }
   },
   "outputs": [],
   "source": [
    "order_life_20['bf_std'] = np.nan\n",
    "order_life_20.loc[order_life_20.order_type == '线下重疾','bf_std'] =order_life_20.loc[order_life_20.order_type == '线下重疾','bf']\n",
    "order_life_20.bf_std.fillna(0,inplace=True)\n",
    "order_life_20['ucode_zj'] = np.nan\n",
    "order_life_20.loc[order_life_20.order_type == '线下重疾','ucode_zj'] =order_life_20.loc[order_life_20.order_type == '线下重疾','ucode_need']"
   ]
  },
  {
   "cell_type": "code",
   "execution_count": 115,
   "metadata": {
    "ExecuteTime": {
     "end_time": "2020-05-14T08:21:54.035149Z",
     "start_time": "2020-05-14T08:21:53.950348Z"
    }
   },
   "outputs": [],
   "source": [
    "user_life_need = order_life_20.loc[order_life_20.ucode_zj.notna(),:].groupby(['ucode_need','mon']).bf_std.sum().reset_index()"
   ]
  },
  {
   "cell_type": "code",
   "execution_count": 110,
   "metadata": {
    "ExecuteTime": {
     "end_time": "2020-05-14T08:13:18.907444Z",
     "start_time": "2020-05-14T08:13:18.666097Z"
    },
    "scrolled": true
   },
   "outputs": [
    {
     "data": {
      "text/html": [
       "<div>\n",
       "<style scoped>\n",
       "    .dataframe tbody tr th:only-of-type {\n",
       "        vertical-align: middle;\n",
       "    }\n",
       "\n",
       "    .dataframe tbody tr th {\n",
       "        vertical-align: top;\n",
       "    }\n",
       "\n",
       "    .dataframe thead th {\n",
       "        text-align: right;\n",
       "    }\n",
       "</style>\n",
       "<table border=\"1\" class=\"dataframe\">\n",
       "  <thead>\n",
       "    <tr style=\"text-align: right;\">\n",
       "      <th></th>\n",
       "      <th>ucode_need</th>\n",
       "      <th>bf</th>\n",
       "      <th>ucode_zj</th>\n",
       "      <th>bf_std</th>\n",
       "    </tr>\n",
       "    <tr>\n",
       "      <th>mon</th>\n",
       "      <th></th>\n",
       "      <th></th>\n",
       "      <th></th>\n",
       "      <th></th>\n",
       "    </tr>\n",
       "  </thead>\n",
       "  <tbody>\n",
       "    <tr>\n",
       "      <th>2020-01</th>\n",
       "      <td>6468</td>\n",
       "      <td>1.180469e+08</td>\n",
       "      <td>5229</td>\n",
       "      <td>63966194.28</td>\n",
       "    </tr>\n",
       "    <tr>\n",
       "      <th>2020-02</th>\n",
       "      <td>3451</td>\n",
       "      <td>4.171721e+07</td>\n",
       "      <td>2773</td>\n",
       "      <td>28255768.85</td>\n",
       "    </tr>\n",
       "    <tr>\n",
       "      <th>2020-03</th>\n",
       "      <td>5544</td>\n",
       "      <td>8.049735e+07</td>\n",
       "      <td>4303</td>\n",
       "      <td>44974053.32</td>\n",
       "    </tr>\n",
       "    <tr>\n",
       "      <th>2020-04</th>\n",
       "      <td>5660</td>\n",
       "      <td>8.784301e+07</td>\n",
       "      <td>4451</td>\n",
       "      <td>49895997.33</td>\n",
       "    </tr>\n",
       "    <tr>\n",
       "      <th>2020-05</th>\n",
       "      <td>3316</td>\n",
       "      <td>4.825155e+07</td>\n",
       "      <td>2530</td>\n",
       "      <td>25446042.58</td>\n",
       "    </tr>\n",
       "  </tbody>\n",
       "</table>\n",
       "</div>"
      ],
      "text/plain": [
       "         ucode_need            bf  ucode_zj       bf_std\n",
       "mon                                                     \n",
       "2020-01        6468  1.180469e+08      5229  63966194.28\n",
       "2020-02        3451  4.171721e+07      2773  28255768.85\n",
       "2020-03        5544  8.049735e+07      4303  44974053.32\n",
       "2020-04        5660  8.784301e+07      4451  49895997.33\n",
       "2020-05        3316  4.825155e+07      2530  25446042.58"
      ]
     },
     "execution_count": 110,
     "metadata": {},
     "output_type": "execute_result"
    }
   ],
   "source": [
    "agg_col = {'ucode_need':'nunique','bf':'sum','ucode_zj':'nunique','bf_std':'sum'}\n",
    "order_life_20.groupby('mon').agg(agg_col)"
   ]
  },
  {
   "cell_type": "code",
   "execution_count": 112,
   "metadata": {
    "ExecuteTime": {
     "end_time": "2020-05-14T08:13:54.593072Z",
     "start_time": "2020-05-14T08:13:54.559132Z"
    }
   },
   "outputs": [
    {
     "data": {
      "text/html": [
       "<div>\n",
       "<style scoped>\n",
       "    .dataframe tbody tr th:only-of-type {\n",
       "        vertical-align: middle;\n",
       "    }\n",
       "\n",
       "    .dataframe tbody tr th {\n",
       "        vertical-align: top;\n",
       "    }\n",
       "\n",
       "    .dataframe thead th {\n",
       "        text-align: right;\n",
       "    }\n",
       "</style>\n",
       "<table border=\"1\" class=\"dataframe\">\n",
       "  <thead>\n",
       "    <tr style=\"text-align: right;\">\n",
       "      <th></th>\n",
       "      <th>index</th>\n",
       "      <th>0</th>\n",
       "    </tr>\n",
       "  </thead>\n",
       "  <tbody>\n",
       "    <tr>\n",
       "      <th>0</th>\n",
       "      <td>ucode_need</td>\n",
       "      <td>1.293500e+04</td>\n",
       "    </tr>\n",
       "    <tr>\n",
       "      <th>1</th>\n",
       "      <td>bf</td>\n",
       "      <td>3.763560e+08</td>\n",
       "    </tr>\n",
       "    <tr>\n",
       "      <th>2</th>\n",
       "      <td>ucode_zj</td>\n",
       "      <td>1.105900e+04</td>\n",
       "    </tr>\n",
       "    <tr>\n",
       "      <th>3</th>\n",
       "      <td>bf_std</td>\n",
       "      <td>2.125381e+08</td>\n",
       "    </tr>\n",
       "  </tbody>\n",
       "</table>\n",
       "</div>"
      ],
      "text/plain": [
       "        index             0\n",
       "0  ucode_need  1.293500e+04\n",
       "1          bf  3.763560e+08\n",
       "2    ucode_zj  1.105900e+04\n",
       "3      bf_std  2.125381e+08"
      ]
     },
     "execution_count": 112,
     "metadata": {},
     "output_type": "execute_result"
    }
   ],
   "source": [
    "order_life_20.agg(agg_col).reset_index()"
   ]
  },
  {
   "cell_type": "code",
   "execution_count": 130,
   "metadata": {
    "ExecuteTime": {
     "end_time": "2020-05-14T09:04:04.747162Z",
     "start_time": "2020-05-14T09:04:04.721221Z"
    }
   },
   "outputs": [
    {
     "data": {
      "text/html": [
       "<div>\n",
       "<style scoped>\n",
       "    .dataframe tbody tr th:only-of-type {\n",
       "        vertical-align: middle;\n",
       "    }\n",
       "\n",
       "    .dataframe tbody tr th {\n",
       "        vertical-align: top;\n",
       "    }\n",
       "\n",
       "    .dataframe thead th {\n",
       "        text-align: right;\n",
       "    }\n",
       "</style>\n",
       "<table border=\"1\" class=\"dataframe\">\n",
       "  <thead>\n",
       "    <tr style=\"text-align: right;\">\n",
       "      <th></th>\n",
       "      <th>mon</th>\n",
       "      <th>ucode_need</th>\n",
       "      <th>bf_x</th>\n",
       "      <th>bf_y</th>\n",
       "    </tr>\n",
       "  </thead>\n",
       "  <tbody>\n",
       "    <tr>\n",
       "      <th>0</th>\n",
       "      <td>2020-01</td>\n",
       "      <td>950</td>\n",
       "      <td>3462070.68</td>\n",
       "      <td>23849727.35</td>\n",
       "    </tr>\n",
       "    <tr>\n",
       "      <th>1</th>\n",
       "      <td>2020-02</td>\n",
       "      <td>616</td>\n",
       "      <td>2111920.40</td>\n",
       "      <td>10184028.95</td>\n",
       "    </tr>\n",
       "    <tr>\n",
       "      <th>2</th>\n",
       "      <td>2020-03</td>\n",
       "      <td>820</td>\n",
       "      <td>2644792.94</td>\n",
       "      <td>16082094.36</td>\n",
       "    </tr>\n",
       "    <tr>\n",
       "      <th>3</th>\n",
       "      <td>2020-04</td>\n",
       "      <td>932</td>\n",
       "      <td>3471655.97</td>\n",
       "      <td>20185525.99</td>\n",
       "    </tr>\n",
       "    <tr>\n",
       "      <th>4</th>\n",
       "      <td>2020-05</td>\n",
       "      <td>483</td>\n",
       "      <td>1526387.43</td>\n",
       "      <td>7878557.25</td>\n",
       "    </tr>\n",
       "  </tbody>\n",
       "</table>\n",
       "</div>"
      ],
      "text/plain": [
       "       mon  ucode_need        bf_x         bf_y\n",
       "0  2020-01         950  3462070.68  23849727.35\n",
       "1  2020-02         616  2111920.40  10184028.95\n",
       "2  2020-03         820  2644792.94  16082094.36\n",
       "3  2020-04         932  3471655.97  20185525.99\n",
       "4  2020-05         483  1526387.43   7878557.25"
      ]
     },
     "execution_count": 130,
     "metadata": {},
     "output_type": "execute_result"
    }
   ],
   "source": [
    "agg_col = {'ucode_need':'nunique','bf_x':'sum','bf_y':'sum'}\n",
    "user_cross = pd.merge(user_order_need,user_life_all,how='left',on=['ucode_need','mon'])\n",
    "user_cross.loc[user_cross.bf_y.notna(),:].groupby('mon').agg(agg_col).reset_index()"
   ]
  },
  {
   "cell_type": "code",
   "execution_count": 131,
   "metadata": {
    "ExecuteTime": {
     "end_time": "2020-05-14T09:04:06.230197Z",
     "start_time": "2020-05-14T09:04:06.207229Z"
    }
   },
   "outputs": [
    {
     "data": {
      "text/html": [
       "<div>\n",
       "<style scoped>\n",
       "    .dataframe tbody tr th:only-of-type {\n",
       "        vertical-align: middle;\n",
       "    }\n",
       "\n",
       "    .dataframe tbody tr th {\n",
       "        vertical-align: top;\n",
       "    }\n",
       "\n",
       "    .dataframe thead th {\n",
       "        text-align: right;\n",
       "    }\n",
       "</style>\n",
       "<table border=\"1\" class=\"dataframe\">\n",
       "  <thead>\n",
       "    <tr style=\"text-align: right;\">\n",
       "      <th></th>\n",
       "      <th>index</th>\n",
       "      <th>0</th>\n",
       "    </tr>\n",
       "  </thead>\n",
       "  <tbody>\n",
       "    <tr>\n",
       "      <th>0</th>\n",
       "      <td>ucode_need</td>\n",
       "      <td>3.495000e+03</td>\n",
       "    </tr>\n",
       "    <tr>\n",
       "      <th>1</th>\n",
       "      <td>bf_x</td>\n",
       "      <td>5.262326e+07</td>\n",
       "    </tr>\n",
       "    <tr>\n",
       "      <th>2</th>\n",
       "      <td>bf_y</td>\n",
       "      <td>3.179466e+08</td>\n",
       "    </tr>\n",
       "  </tbody>\n",
       "</table>\n",
       "</div>"
      ],
      "text/plain": [
       "        index             0\n",
       "0  ucode_need  3.495000e+03\n",
       "1        bf_x  5.262326e+07\n",
       "2        bf_y  3.179466e+08"
      ]
     },
     "execution_count": 131,
     "metadata": {},
     "output_type": "execute_result"
    }
   ],
   "source": [
    "user_cross = pd.merge(user_order_need,user_life_all,how='left',on=['ucode_need'])\n",
    "user_cross.loc[user_cross.bf_y.notna(),:].agg(agg_col).reset_index()"
   ]
  },
  {
   "cell_type": "code",
   "execution_count": 132,
   "metadata": {
    "ExecuteTime": {
     "end_time": "2020-05-14T09:05:04.232104Z",
     "start_time": "2020-05-14T09:05:04.208189Z"
    }
   },
   "outputs": [
    {
     "data": {
      "text/html": [
       "<div>\n",
       "<style scoped>\n",
       "    .dataframe tbody tr th:only-of-type {\n",
       "        vertical-align: middle;\n",
       "    }\n",
       "\n",
       "    .dataframe tbody tr th {\n",
       "        vertical-align: top;\n",
       "    }\n",
       "\n",
       "    .dataframe thead th {\n",
       "        text-align: right;\n",
       "    }\n",
       "</style>\n",
       "<table border=\"1\" class=\"dataframe\">\n",
       "  <thead>\n",
       "    <tr style=\"text-align: right;\">\n",
       "      <th></th>\n",
       "      <th>mon</th>\n",
       "      <th>ucode_need</th>\n",
       "      <th>bf</th>\n",
       "      <th>bf_std</th>\n",
       "    </tr>\n",
       "  </thead>\n",
       "  <tbody>\n",
       "    <tr>\n",
       "      <th>0</th>\n",
       "      <td>2020-01</td>\n",
       "      <td>851</td>\n",
       "      <td>3036761.68</td>\n",
       "      <td>13263341.34</td>\n",
       "    </tr>\n",
       "    <tr>\n",
       "      <th>1</th>\n",
       "      <td>2020-02</td>\n",
       "      <td>549</td>\n",
       "      <td>1833220.00</td>\n",
       "      <td>7088260.87</td>\n",
       "    </tr>\n",
       "    <tr>\n",
       "      <th>2</th>\n",
       "      <td>2020-03</td>\n",
       "      <td>720</td>\n",
       "      <td>2257879.04</td>\n",
       "      <td>9905311.08</td>\n",
       "    </tr>\n",
       "    <tr>\n",
       "      <th>3</th>\n",
       "      <td>2020-04</td>\n",
       "      <td>830</td>\n",
       "      <td>3039139.27</td>\n",
       "      <td>11658622.04</td>\n",
       "    </tr>\n",
       "    <tr>\n",
       "      <th>4</th>\n",
       "      <td>2020-05</td>\n",
       "      <td>411</td>\n",
       "      <td>1267363.41</td>\n",
       "      <td>4484438.99</td>\n",
       "    </tr>\n",
       "  </tbody>\n",
       "</table>\n",
       "</div>"
      ],
      "text/plain": [
       "       mon  ucode_need          bf       bf_std\n",
       "0  2020-01         851  3036761.68  13263341.34\n",
       "1  2020-02         549  1833220.00   7088260.87\n",
       "2  2020-03         720  2257879.04   9905311.08\n",
       "3  2020-04         830  3039139.27  11658622.04\n",
       "4  2020-05         411  1267363.41   4484438.99"
      ]
     },
     "execution_count": 132,
     "metadata": {},
     "output_type": "execute_result"
    }
   ],
   "source": [
    "agg_col = {'ucode_need':'nunique','bf':'sum','bf_std':'sum'}\n",
    "user_cross_zj = pd.merge(user_order_need,user_life_need,how='left',on=['ucode_need','mon'])\n",
    "user_cross_zj.loc[user_cross_zj.bf_std.notna(),:].groupby('mon').agg(agg_col).reset_index()"
   ]
  },
  {
   "cell_type": "code",
   "execution_count": 137,
   "metadata": {
    "ExecuteTime": {
     "end_time": "2020-05-14T09:07:14.168757Z",
     "start_time": "2020-05-14T09:07:14.144812Z"
    }
   },
   "outputs": [
    {
     "data": {
      "text/html": [
       "<div>\n",
       "<style scoped>\n",
       "    .dataframe tbody tr th:only-of-type {\n",
       "        vertical-align: middle;\n",
       "    }\n",
       "\n",
       "    .dataframe tbody tr th {\n",
       "        vertical-align: top;\n",
       "    }\n",
       "\n",
       "    .dataframe thead th {\n",
       "        text-align: right;\n",
       "    }\n",
       "</style>\n",
       "<table border=\"1\" class=\"dataframe\">\n",
       "  <thead>\n",
       "    <tr style=\"text-align: right;\">\n",
       "      <th></th>\n",
       "      <th>index</th>\n",
       "      <th>0</th>\n",
       "    </tr>\n",
       "  </thead>\n",
       "  <tbody>\n",
       "    <tr>\n",
       "      <th>0</th>\n",
       "      <td>ucode_need</td>\n",
       "      <td>3.218000e+03</td>\n",
       "    </tr>\n",
       "    <tr>\n",
       "      <th>1</th>\n",
       "      <td>bf</td>\n",
       "      <td>4.443879e+07</td>\n",
       "    </tr>\n",
       "    <tr>\n",
       "      <th>2</th>\n",
       "      <td>bf_std</td>\n",
       "      <td>1.801151e+08</td>\n",
       "    </tr>\n",
       "  </tbody>\n",
       "</table>\n",
       "</div>"
      ],
      "text/plain": [
       "        index             0\n",
       "0  ucode_need  3.218000e+03\n",
       "1          bf  4.443879e+07\n",
       "2      bf_std  1.801151e+08"
      ]
     },
     "execution_count": 137,
     "metadata": {},
     "output_type": "execute_result"
    }
   ],
   "source": [
    "user_cross_zj = pd.merge(user_order_need,user_life_need,how='left',on=['ucode_need'])\n",
    "\n",
    "user_cross_zj.loc[user_cross_zj.bf_std.notna(),:].agg(agg_col).reset_index()"
   ]
  },
  {
   "cell_type": "code",
   "execution_count": 128,
   "metadata": {
    "ExecuteTime": {
     "end_time": "2020-05-14T08:48:34.537017Z",
     "start_time": "2020-05-14T08:48:34.441243Z"
    }
   },
   "outputs": [
    {
     "data": {
      "text/html": [
       "<div>\n",
       "<style scoped>\n",
       "    .dataframe tbody tr th:only-of-type {\n",
       "        vertical-align: middle;\n",
       "    }\n",
       "\n",
       "    .dataframe tbody tr th {\n",
       "        vertical-align: top;\n",
       "    }\n",
       "\n",
       "    .dataframe thead th {\n",
       "        text-align: right;\n",
       "    }\n",
       "</style>\n",
       "<table border=\"1\" class=\"dataframe\">\n",
       "  <thead>\n",
       "    <tr style=\"text-align: right;\">\n",
       "      <th></th>\n",
       "      <th>pname</th>\n",
       "      <th>bf</th>\n",
       "    </tr>\n",
       "  </thead>\n",
       "  <tbody>\n",
       "    <tr>\n",
       "      <th>73</th>\n",
       "      <td>恒大恒家保终身重大疾病保险</td>\n",
       "      <td>59017273.93</td>\n",
       "    </tr>\n",
       "    <tr>\n",
       "      <th>20</th>\n",
       "      <td>信泰完美人生守护尊享版重大疾病保险</td>\n",
       "      <td>30542916.20</td>\n",
       "    </tr>\n",
       "    <tr>\n",
       "      <th>31</th>\n",
       "      <td>光大永明童佳保尊享版重大疾病保险</td>\n",
       "      <td>18394223.67</td>\n",
       "    </tr>\n",
       "    <tr>\n",
       "      <th>58</th>\n",
       "      <td>天安人寿健康源2019增强版终身重大疾病保险</td>\n",
       "      <td>17415753.91</td>\n",
       "    </tr>\n",
       "    <tr>\n",
       "      <th>38</th>\n",
       "      <td>华夏华夏福多倍2.0版重大疾病保险</td>\n",
       "      <td>12462925.16</td>\n",
       "    </tr>\n",
       "    <tr>\n",
       "      <th>24</th>\n",
       "      <td>信泰百万守护2019重大疾病保险</td>\n",
       "      <td>12094898.97</td>\n",
       "    </tr>\n",
       "    <tr>\n",
       "      <th>99</th>\n",
       "      <td>百年康多保终身重大疾病保险</td>\n",
       "      <td>6788484.25</td>\n",
       "    </tr>\n",
       "    <tr>\n",
       "      <th>42</th>\n",
       "      <td>同方全球康健一生新多倍保终身重大疾病保险</td>\n",
       "      <td>5734956.75</td>\n",
       "    </tr>\n",
       "    <tr>\n",
       "      <th>101</th>\n",
       "      <td>百年康盛保终身重大疾病保险</td>\n",
       "      <td>5599934.05</td>\n",
       "    </tr>\n",
       "    <tr>\n",
       "      <th>21</th>\n",
       "      <td>信泰完美人生守护重大疾病保险</td>\n",
       "      <td>5427862.09</td>\n",
       "    </tr>\n",
       "    <tr>\n",
       "      <th>62</th>\n",
       "      <td>富德生命倍享健康重大疾病保险基本责任</td>\n",
       "      <td>4384860.80</td>\n",
       "    </tr>\n",
       "    <tr>\n",
       "      <th>4</th>\n",
       "      <td>中华福卓越版终身重大疾病保险</td>\n",
       "      <td>3557732.61</td>\n",
       "    </tr>\n",
       "    <tr>\n",
       "      <th>100</th>\n",
       "      <td>百年康欣保2020版终身重大疾病保险</td>\n",
       "      <td>2990198.20</td>\n",
       "    </tr>\n",
       "    <tr>\n",
       "      <th>109</th>\n",
       "      <td>长生福御享版重大疾病保险</td>\n",
       "      <td>2943981.65</td>\n",
       "    </tr>\n",
       "    <tr>\n",
       "      <th>64</th>\n",
       "      <td>工银安盛人寿御享颐生重大疾病保险</td>\n",
       "      <td>2239579.00</td>\n",
       "    </tr>\n",
       "    <tr>\n",
       "      <th>7</th>\n",
       "      <td>中意悦享安康重大疾病保险期缴</td>\n",
       "      <td>2112656.25</td>\n",
       "    </tr>\n",
       "    <tr>\n",
       "      <th>77</th>\n",
       "      <td>横琴琴童一号终身重大疾病保险</td>\n",
       "      <td>1658513.52</td>\n",
       "    </tr>\n",
       "    <tr>\n",
       "      <th>88</th>\n",
       "      <td>爱心人寿爱加倍挚爱版终身重大疾病保险</td>\n",
       "      <td>1589238.85</td>\n",
       "    </tr>\n",
       "    <tr>\n",
       "      <th>103</th>\n",
       "      <td>长城吉康人生重大疾病保险</td>\n",
       "      <td>1543603.70</td>\n",
       "    </tr>\n",
       "    <tr>\n",
       "      <th>75</th>\n",
       "      <td>恒大附加投保人豁免保险费重大疾病保险2018版</td>\n",
       "      <td>1241579.10</td>\n",
       "    </tr>\n",
       "    <tr>\n",
       "      <th>19</th>\n",
       "      <td>信泰及时雨旗舰版重大疾病保险</td>\n",
       "      <td>1161540.48</td>\n",
       "    </tr>\n",
       "    <tr>\n",
       "      <th>68</th>\n",
       "      <td>御享人生重大疾病保险</td>\n",
       "      <td>1122107.00</td>\n",
       "    </tr>\n",
       "    <tr>\n",
       "      <th>32</th>\n",
       "      <td>光大永明童佳保重大疾病保险</td>\n",
       "      <td>1095671.60</td>\n",
       "    </tr>\n",
       "    <tr>\n",
       "      <th>108</th>\n",
       "      <td>长生福尊享版重大疾病保险</td>\n",
       "      <td>994431.30</td>\n",
       "    </tr>\n",
       "    <tr>\n",
       "      <th>13</th>\n",
       "      <td>中英人寿至尊守护重大疾病保险</td>\n",
       "      <td>742097.70</td>\n",
       "    </tr>\n",
       "    <tr>\n",
       "      <th>37</th>\n",
       "      <td>华夏华夏福加倍版重大疾病保险</td>\n",
       "      <td>709507.84</td>\n",
       "    </tr>\n",
       "    <tr>\n",
       "      <th>27</th>\n",
       "      <td>信泰百万无忧重大疾病保险</td>\n",
       "      <td>665780.25</td>\n",
       "    </tr>\n",
       "    <tr>\n",
       "      <th>23</th>\n",
       "      <td>信泰百万守护2019B款重大疾病保险</td>\n",
       "      <td>577510.63</td>\n",
       "    </tr>\n",
       "    <tr>\n",
       "      <th>39</th>\n",
       "      <td>华夏常青树重大疾病保险2015</td>\n",
       "      <td>501123.72</td>\n",
       "    </tr>\n",
       "    <tr>\n",
       "      <th>41</th>\n",
       "      <td>同方全球康健一生多倍保终身重大疾病保险</td>\n",
       "      <td>442607.50</td>\n",
       "    </tr>\n",
       "    <tr>\n",
       "      <th>...</th>\n",
       "      <td>...</td>\n",
       "      <td>...</td>\n",
       "    </tr>\n",
       "    <tr>\n",
       "      <th>84</th>\n",
       "      <td>渤海人寿乐健一生终身重大疾病保险</td>\n",
       "      <td>6992.70</td>\n",
       "    </tr>\n",
       "    <tr>\n",
       "      <th>79</th>\n",
       "      <td>泰康乐多倍终身重大疾病保险期交</td>\n",
       "      <td>6868.50</td>\n",
       "    </tr>\n",
       "    <tr>\n",
       "      <th>57</th>\n",
       "      <td>复星联合附加投保人豁免保险费重大疾病保险</td>\n",
       "      <td>5776.33</td>\n",
       "    </tr>\n",
       "    <tr>\n",
       "      <th>92</th>\n",
       "      <td>爱相随重大疾病保险</td>\n",
       "      <td>5772.00</td>\n",
       "    </tr>\n",
       "    <tr>\n",
       "      <th>67</th>\n",
       "      <td>弘康臻爱520重大疾病保险</td>\n",
       "      <td>5310.00</td>\n",
       "    </tr>\n",
       "    <tr>\n",
       "      <th>48</th>\n",
       "      <td>君康福康宝重大疾病保险</td>\n",
       "      <td>4930.00</td>\n",
       "    </tr>\n",
       "    <tr>\n",
       "      <th>22</th>\n",
       "      <td>信泰百万健康重大疾病保险</td>\n",
       "      <td>4320.00</td>\n",
       "    </tr>\n",
       "    <tr>\n",
       "      <th>65</th>\n",
       "      <td>康乐馨享重大疾病保险</td>\n",
       "      <td>3475.00</td>\n",
       "    </tr>\n",
       "    <tr>\n",
       "      <th>85</th>\n",
       "      <td>爱加倍尊享版重大疾病保险</td>\n",
       "      <td>3177.00</td>\n",
       "    </tr>\n",
       "    <tr>\n",
       "      <th>29</th>\n",
       "      <td>倍健康重大疾病保险2019版含可选责任</td>\n",
       "      <td>3090.00</td>\n",
       "    </tr>\n",
       "    <tr>\n",
       "      <th>115</th>\n",
       "      <td>附加C款投保人豁免保费重大疾病保险</td>\n",
       "      <td>2669.00</td>\n",
       "    </tr>\n",
       "    <tr>\n",
       "      <th>122</th>\n",
       "      <td>附加被保险人豁免保险费重大疾病保险</td>\n",
       "      <td>2617.40</td>\n",
       "    </tr>\n",
       "    <tr>\n",
       "      <th>96</th>\n",
       "      <td>瑞泰欣康保定期重大疾病保险</td>\n",
       "      <td>2156.60</td>\n",
       "    </tr>\n",
       "    <tr>\n",
       "      <th>83</th>\n",
       "      <td>泰康附加乐相伴豁免保险费重大疾病保险期缴</td>\n",
       "      <td>1912.19</td>\n",
       "    </tr>\n",
       "    <tr>\n",
       "      <th>2</th>\n",
       "      <td>上海人寿附加豁免保险费重大疾病保险</td>\n",
       "      <td>1412.84</td>\n",
       "    </tr>\n",
       "    <tr>\n",
       "      <th>36</th>\n",
       "      <td>北京人寿附加投保人豁免保险费重大疾病保险</td>\n",
       "      <td>1351.95</td>\n",
       "    </tr>\n",
       "    <tr>\n",
       "      <th>121</th>\n",
       "      <td>附加真心投保人豁免保费重大疾病保险</td>\n",
       "      <td>1164.51</td>\n",
       "    </tr>\n",
       "    <tr>\n",
       "      <th>87</th>\n",
       "      <td>爱心人寿爱一生终身重大疾病保险</td>\n",
       "      <td>1056.00</td>\n",
       "    </tr>\n",
       "    <tr>\n",
       "      <th>25</th>\n",
       "      <td>信泰百万守护B款重大疾病保险</td>\n",
       "      <td>970.00</td>\n",
       "    </tr>\n",
       "    <tr>\n",
       "      <th>14</th>\n",
       "      <td>中英人寿附加贝健康重大疾病保险</td>\n",
       "      <td>605.55</td>\n",
       "    </tr>\n",
       "    <tr>\n",
       "      <th>50</th>\n",
       "      <td>国华少儿成长无忧重大疾病保险</td>\n",
       "      <td>586.65</td>\n",
       "    </tr>\n",
       "    <tr>\n",
       "      <th>8</th>\n",
       "      <td>中意附加一生保重大疾病保险C款期交</td>\n",
       "      <td>566.10</td>\n",
       "    </tr>\n",
       "    <tr>\n",
       "      <th>117</th>\n",
       "      <td>附加加倍真心豁免保费重大疾病保险</td>\n",
       "      <td>408.48</td>\n",
       "    </tr>\n",
       "    <tr>\n",
       "      <th>49</th>\n",
       "      <td>君康附加投保人豁免保险费2019版重大疾病保险</td>\n",
       "      <td>206.76</td>\n",
       "    </tr>\n",
       "    <tr>\n",
       "      <th>17</th>\n",
       "      <td>中荷附加保费豁免C款重大疾病保险</td>\n",
       "      <td>170.50</td>\n",
       "    </tr>\n",
       "    <tr>\n",
       "      <th>95</th>\n",
       "      <td>瑞泰成长卫士重大疾病保险</td>\n",
       "      <td>144.00</td>\n",
       "    </tr>\n",
       "    <tr>\n",
       "      <th>89</th>\n",
       "      <td>爱心人寿附加守护神豁免重大疾病保险</td>\n",
       "      <td>131.88</td>\n",
       "    </tr>\n",
       "    <tr>\n",
       "      <th>53</th>\n",
       "      <td>复星保德信附加投保人豁免C款重大疾病保险</td>\n",
       "      <td>72.24</td>\n",
       "    </tr>\n",
       "    <tr>\n",
       "      <th>97</th>\n",
       "      <td>瑞泰附加投保人豁免升级版重大疾病保险</td>\n",
       "      <td>36.24</td>\n",
       "    </tr>\n",
       "    <tr>\n",
       "      <th>51</th>\n",
       "      <td>国华附加豁免保险费重大疾病保险2017重疾豁免轻症豁免身故豁免</td>\n",
       "      <td>10.48</td>\n",
       "    </tr>\n",
       "  </tbody>\n",
       "</table>\n",
       "<p>125 rows × 2 columns</p>\n",
       "</div>"
      ],
      "text/plain": [
       "                               pname           bf\n",
       "73                     恒大恒家保终身重大疾病保险  59017273.93\n",
       "20                 信泰完美人生守护尊享版重大疾病保险  30542916.20\n",
       "31                  光大永明童佳保尊享版重大疾病保险  18394223.67\n",
       "58            天安人寿健康源2019增强版终身重大疾病保险  17415753.91\n",
       "38                 华夏华夏福多倍2.0版重大疾病保险  12462925.16\n",
       "24                  信泰百万守护2019重大疾病保险  12094898.97\n",
       "99                     百年康多保终身重大疾病保险   6788484.25\n",
       "42              同方全球康健一生新多倍保终身重大疾病保险   5734956.75\n",
       "101                    百年康盛保终身重大疾病保险   5599934.05\n",
       "21                    信泰完美人生守护重大疾病保险   5427862.09\n",
       "62                富德生命倍享健康重大疾病保险基本责任   4384860.80\n",
       "4                     中华福卓越版终身重大疾病保险   3557732.61\n",
       "100               百年康欣保2020版终身重大疾病保险   2990198.20\n",
       "109                     长生福御享版重大疾病保险   2943981.65\n",
       "64                  工银安盛人寿御享颐生重大疾病保险   2239579.00\n",
       "7                     中意悦享安康重大疾病保险期缴   2112656.25\n",
       "77                    横琴琴童一号终身重大疾病保险   1658513.52\n",
       "88                爱心人寿爱加倍挚爱版终身重大疾病保险   1589238.85\n",
       "103                     长城吉康人生重大疾病保险   1543603.70\n",
       "75           恒大附加投保人豁免保险费重大疾病保险2018版   1241579.10\n",
       "19                    信泰及时雨旗舰版重大疾病保险   1161540.48\n",
       "68                        御享人生重大疾病保险   1122107.00\n",
       "32                     光大永明童佳保重大疾病保险   1095671.60\n",
       "108                     长生福尊享版重大疾病保险    994431.30\n",
       "13                    中英人寿至尊守护重大疾病保险    742097.70\n",
       "37                    华夏华夏福加倍版重大疾病保险    709507.84\n",
       "27                      信泰百万无忧重大疾病保险    665780.25\n",
       "23                信泰百万守护2019B款重大疾病保险    577510.63\n",
       "39                   华夏常青树重大疾病保险2015    501123.72\n",
       "41               同方全球康健一生多倍保终身重大疾病保险    442607.50\n",
       "..                               ...          ...\n",
       "84                  渤海人寿乐健一生终身重大疾病保险      6992.70\n",
       "79                   泰康乐多倍终身重大疾病保险期交      6868.50\n",
       "57              复星联合附加投保人豁免保险费重大疾病保险      5776.33\n",
       "92                         爱相随重大疾病保险      5772.00\n",
       "67                     弘康臻爱520重大疾病保险      5310.00\n",
       "48                       君康福康宝重大疾病保险      4930.00\n",
       "22                      信泰百万健康重大疾病保险      4320.00\n",
       "65                        康乐馨享重大疾病保险      3475.00\n",
       "85                      爱加倍尊享版重大疾病保险      3177.00\n",
       "29               倍健康重大疾病保险2019版含可选责任      3090.00\n",
       "115                附加C款投保人豁免保费重大疾病保险      2669.00\n",
       "122                附加被保险人豁免保险费重大疾病保险      2617.40\n",
       "96                     瑞泰欣康保定期重大疾病保险      2156.60\n",
       "83              泰康附加乐相伴豁免保险费重大疾病保险期缴      1912.19\n",
       "2                  上海人寿附加豁免保险费重大疾病保险      1412.84\n",
       "36              北京人寿附加投保人豁免保险费重大疾病保险      1351.95\n",
       "121                附加真心投保人豁免保费重大疾病保险      1164.51\n",
       "87                   爱心人寿爱一生终身重大疾病保险      1056.00\n",
       "25                    信泰百万守护B款重大疾病保险       970.00\n",
       "14                   中英人寿附加贝健康重大疾病保险       605.55\n",
       "50                    国华少儿成长无忧重大疾病保险       586.65\n",
       "8                  中意附加一生保重大疾病保险C款期交       566.10\n",
       "117                 附加加倍真心豁免保费重大疾病保险       408.48\n",
       "49           君康附加投保人豁免保险费2019版重大疾病保险       206.76\n",
       "17                  中荷附加保费豁免C款重大疾病保险       170.50\n",
       "95                      瑞泰成长卫士重大疾病保险       144.00\n",
       "89                 爱心人寿附加守护神豁免重大疾病保险       131.88\n",
       "53              复星保德信附加投保人豁免C款重大疾病保险        72.24\n",
       "97                瑞泰附加投保人豁免升级版重大疾病保险        36.24\n",
       "51   国华附加豁免保险费重大疾病保险2017重疾豁免轻症豁免身故豁免        10.48\n",
       "\n",
       "[125 rows x 2 columns]"
      ]
     },
     "execution_count": 128,
     "metadata": {},
     "output_type": "execute_result"
    }
   ],
   "source": [
    "order_life_20.loc[order_life_20.order_type=='线下重疾'].groupby('pname').bf.sum().reset_index().sort_values('bf',ascending=False)"
   ]
  },
  {
   "cell_type": "markdown",
   "metadata": {},
   "source": [
    "## 旧日报"
   ]
  },
  {
   "cell_type": "markdown",
   "metadata": {},
   "source": [
    "### 基本处理"
   ]
  },
  {
   "cell_type": "code",
   "execution_count": 94,
   "metadata": {
    "ExecuteTime": {
     "end_time": "2020-05-06T12:55:03.544761Z",
     "start_time": "2020-05-06T12:55:03.529822Z"
    }
   },
   "outputs": [
    {
     "ename": "NameError",
     "evalue": "name 'order_sum' is not defined",
     "output_type": "error",
     "traceback": [
      "\u001b[1;31m---------------------------------------------------------------------------\u001b[0m",
      "\u001b[1;31mNameError\u001b[0m                                 Traceback (most recent call last)",
      "\u001b[1;32m<ipython-input-94-2ce750b73601>\u001b[0m in \u001b[0;36m<module>\u001b[1;34m()\u001b[0m\n\u001b[0;32m      1\u001b[0m \u001b[1;31m## 区域中心修正\u001b[0m\u001b[1;33m\u001b[0m\u001b[1;33m\u001b[0m\u001b[0m\n\u001b[0;32m      2\u001b[0m order_sum.loc[(order_sum.area_type =='大童直属区域中心') \n\u001b[1;32m----> 3\u001b[1;33m               | (order_sum.area_type.isna()),'area_type'] = '其他'\n\u001b[0m\u001b[0;32m      4\u001b[0m \u001b[1;33m\u001b[0m\u001b[0m\n\u001b[0;32m      5\u001b[0m order_2019_need.loc[(order_2019_need.area_type =='大童直属区域中心') \n",
      "\u001b[1;31mNameError\u001b[0m: name 'order_sum' is not defined"
     ]
    }
   ],
   "source": [
    "## 区域中心修正\n",
    "order_sum.loc[(order_sum.area_type =='大童直属区域中心') \n",
    "              | (order_sum.area_type.isna()),'area_type'] = '其他'\n",
    "\n",
    "order_2019_need.loc[(order_2019_need.area_type =='大童直属区域中心') \n",
    "              | (order_2019_need.area_type.isna()),'area_type'] = '其他'"
   ]
  },
  {
   "cell_type": "code",
   "execution_count": 88,
   "metadata": {
    "ExecuteTime": {
     "end_time": "2020-05-08T03:54:09.017104Z",
     "start_time": "2020-05-08T03:54:09.013116Z"
    }
   },
   "outputs": [],
   "source": [
    "agg_col_01 = {'uid':'nunique','order':'count'}\n",
    "agg_col_02 = {'bf':'sum'}"
   ]
  },
  {
   "cell_type": "code",
   "execution_count": 46,
   "metadata": {
    "ExecuteTime": {
     "end_time": "2020-04-20T02:11:31.609638Z",
     "start_time": "2020-04-20T02:11:31.601654Z"
    }
   },
   "outputs": [
    {
     "name": "stdout",
     "output_type": "stream",
     "text": [
      "当前数据时间2020-04-19 10:11:31.604645\n",
      "当月开始时间2020-03-26 00:00:00,当月结束时间2020-04-19 00:00:00\n",
      "上月开始时间2020-02-26 00:00:00,上月结束时间2020-03-21 00:00:00\n",
      "去年结束时间2019-04-20 00:00:00\n",
      "当日数据时间2020-04-17 00:00:00\n"
     ]
    }
   ],
   "source": [
    "now = datetime.datetime.now()-datetime.timedelta(hours=24)\n",
    "# now =pd.to_datetime('2019-01-25')\n",
    "curmon = '2020-04'\n",
    "last_mon = '2020-03'\n",
    "curmon_sdate = mon_sdate_map[curmon]\n",
    "lastmon_sdate = mon_sdate_map[last_mon]\n",
    "curmon_edate = pd.to_datetime(now.strftime('%Y-%m-%d'))\n",
    "days_delta = curmon_edate -curmon_sdate\n",
    "lastmon_edate = lastmon_sdate + days_delta\n",
    "print('当前数据时间%s'%now)\n",
    "print('当月开始时间%s,当月结束时间%s'%(curmon_sdate,curmon_edate))\n",
    "print('上月开始时间%s,上月结束时间%s'%(lastmon_sdate,lastmon_edate))\n",
    "\n",
    "ysdate = pd.to_datetime('2018-12-26')\n",
    "yedate = pd.to_datetime(pd.to_datetime(pd.Series(ysdate + (now - pd.to_datetime('2019-12-26'))).dt.strftime('%Y-%m-%d')).unique()[0])\n",
    "print('去年结束时间%s'%(yedate))\n",
    "\n",
    "model =2\n",
    "## 需要修改 \n",
    "start = pd.to_datetime('2020-04-17')\n",
    "end = pd.to_datetime('2020-04-19')\n",
    "\n",
    "\n",
    "tsdate = day_date_descision(model,start,end)[0]\n",
    "tedate = day_date_descision(model,start,end)[1]\n",
    "\n",
    "print('当日数据时间%s'%tsdate)"
   ]
  },
  {
   "cell_type": "markdown",
   "metadata": {},
   "source": [
    "### 目标数据"
   ]
  },
  {
   "cell_type": "code",
   "execution_count": 47,
   "metadata": {
    "ExecuteTime": {
     "end_time": "2020-04-20T02:11:33.845652Z",
     "start_time": "2020-04-20T02:11:33.825706Z"
    }
   },
   "outputs": [],
   "source": [
    "area_target = pd.read_excel('D:\\\\User\\\\Desktop\\\\dic_info\\\\01_2020年各机构月度目标表_new.xlsx')\n",
    "area_target = area_target[['area_name',curmon,'target_year']].copy()\n",
    "area_target.columns = ['area_name','mon_target','year_target']"
   ]
  },
  {
   "cell_type": "markdown",
   "metadata": {},
   "source": [
    "### 对比数据"
   ]
  },
  {
   "cell_type": "code",
   "execution_count": 48,
   "metadata": {
    "ExecuteTime": {
     "end_time": "2020-04-20T02:11:36.428742Z",
     "start_time": "2020-04-20T02:11:35.248900Z"
    }
   },
   "outputs": [],
   "source": [
    "order_new_compare_mon = order_2019_need.loc[(order_2019_need.order.isin(order_renew_list)==False)\n",
    "                   & (order_2019_need.date_pay >= lastmon_sdate)\n",
    "                   & (order_2019_need.date_pay <= lastmon_edate),:].groupby('area_type').bf.sum().reset_index()\n",
    "order_new_compare_year = order_2019_need.loc[(order_2019_need.order.isin(order_renew_list)==False)\n",
    "                   & (order_2019_need.date_pay >= ysdate)\n",
    "                   & (order_2019_need.date_pay <= yedate),:].groupby('area_type').bf.sum().reset_index()"
   ]
  },
  {
   "cell_type": "code",
   "execution_count": 49,
   "metadata": {
    "ExecuteTime": {
     "end_time": "2020-04-20T02:11:36.439713Z",
     "start_time": "2020-04-20T02:11:36.430737Z"
    }
   },
   "outputs": [],
   "source": [
    "order_new_compare = pd.merge(order_new_compare_mon,order_new_compare_year,how='left',on='area_type',suffixes=['_compare_mon','_compare_year'])\n",
    "order_new_compare.fillna(0,inplace=True)\n",
    "order_new_compare['bf_compare_mon'] = order_new_compare.bf_compare_mon/10000\n",
    "order_new_compare['bf_compare_year'] = order_new_compare.bf_compare_year/10000\n",
    "del order_new_compare_mon\n",
    "del order_new_compare_year"
   ]
  },
  {
   "cell_type": "markdown",
   "metadata": {},
   "source": [
    "### 日报表数据"
   ]
  },
  {
   "cell_type": "code",
   "execution_count": 50,
   "metadata": {
    "ExecuteTime": {
     "end_time": "2020-04-20T02:11:38.113236Z",
     "start_time": "2020-04-20T02:11:38.065365Z"
    }
   },
   "outputs": [],
   "source": [
    "## 日数据\n",
    "order_day_uid  = order_sum.loc[(order_sum.date_pay>=tsdate) & (order_sum.date_pay<=tedate),:].groupby(['area_type']).agg(agg_col_01).reset_index()\n",
    "order_day_bf =   order_sum.loc[(order_sum.date_pay>=tsdate) & (order_sum.date_pay<=tedate),:].groupby(['area_type','is_renew']).agg(agg_col_02).reset_index().pivot(index='area_type',columns ='is_renew',values='bf').reset_index()"
   ]
  },
  {
   "cell_type": "code",
   "execution_count": 51,
   "metadata": {
    "ExecuteTime": {
     "end_time": "2020-04-20T02:11:39.209327Z",
     "start_time": "2020-04-20T02:11:38.865226Z"
    }
   },
   "outputs": [],
   "source": [
    "## 月数据\n",
    "order_mon_uid  = order_sum.loc[order_sum.mon ==curmon,:].groupby(['area_type']).agg(agg_col_01).reset_index()\n",
    "order_mon_bf =   order_sum.loc[order_sum.mon ==curmon,:].groupby(['area_type','is_renew']).agg(agg_col_02).reset_index().pivot(index='area_type',columns ='is_renew',values='bf').reset_index()"
   ]
  },
  {
   "cell_type": "code",
   "execution_count": 52,
   "metadata": {
    "ExecuteTime": {
     "end_time": "2020-04-20T02:11:41.050381Z",
     "start_time": "2020-04-20T02:11:39.554383Z"
    }
   },
   "outputs": [],
   "source": [
    "## 年数据\n",
    "order_year_uid  = order_sum.loc[(order_sum.date_pay <= pd.to_datetime('2020-12-25')) & (order_sum.date_pay>=pd.to_datetime('2019-12-26'))].groupby(['area_type']).agg(agg_col_01).reset_index()\n",
    "order_year_bf   = order_sum.loc[(order_sum.date_pay <= pd.to_datetime('2020-12-25')) & (order_sum.date_pay>=pd.to_datetime('2019-12-26'))].groupby(['area_type','is_renew']).agg(agg_col_02).reset_index().pivot(index='area_type',columns ='is_renew',values='bf').reset_index()"
   ]
  },
  {
   "cell_type": "code",
   "execution_count": 53,
   "metadata": {
    "ExecuteTime": {
     "end_time": "2020-04-20T02:11:41.063347Z",
     "start_time": "2020-04-20T02:11:41.051378Z"
    }
   },
   "outputs": [],
   "source": [
    "order_d = pd.merge(order_day_uid,order_day_bf,how='left',on='area_type')\n",
    "order_m = pd.merge(order_mon_uid,order_mon_bf,how='left',on='area_type')\n",
    "order_y = pd.merge(order_year_uid,order_year_bf,how='left',on='area_type')"
   ]
  },
  {
   "cell_type": "code",
   "execution_count": 54,
   "metadata": {
    "ExecuteTime": {
     "end_time": "2020-04-20T02:11:41.075314Z",
     "start_time": "2020-04-20T02:11:41.064342Z"
    }
   },
   "outputs": [],
   "source": [
    "res_mid = pd.merge(order_y,order_m,how='left',on='area_type')\n",
    "res_final = pd.merge(res_mid,order_d,how='left',on='area_type')"
   ]
  },
  {
   "cell_type": "code",
   "execution_count": 55,
   "metadata": {
    "ExecuteTime": {
     "end_time": "2020-04-20T02:11:41.765467Z",
     "start_time": "2020-04-20T02:11:41.761478Z"
    }
   },
   "outputs": [],
   "source": [
    "res_final.rename(columns={'0_x':'0','1_x':'1','0':'0_x','1':'1_x','uid':'uid_x','order':'order_x','uid_x':'uid','order_x':'order'},inplace=True)"
   ]
  },
  {
   "cell_type": "code",
   "execution_count": 56,
   "metadata": {
    "ExecuteTime": {
     "end_time": "2020-04-20T02:11:44.204966Z",
     "start_time": "2020-04-20T02:11:44.192975Z"
    }
   },
   "outputs": [],
   "source": [
    "res_area = pd.merge(res_final,area_name,how='left',on='area_type')\n",
    "res_target = pd.merge(res_area,area_target,how='left',on='area_name')\n",
    "res_compare = pd.merge(res_target,order_new_compare,how='left',on='area_type')"
   ]
  },
  {
   "cell_type": "code",
   "execution_count": 57,
   "metadata": {
    "ExecuteTime": {
     "end_time": "2020-04-20T02:11:44.951957Z",
     "start_time": "2020-04-20T02:11:44.944963Z"
    }
   },
   "outputs": [],
   "source": [
    "res_compare.fillna(0,inplace=True)\n",
    "res_compare['0_x'] = res_compare['0_x']/10000\n",
    "res_compare['1_x'] = res_compare['1_x']/10000\n",
    "res_compare['0_y'] = res_compare['0_y']/10000\n",
    "res_compare['1_y'] = res_compare['1_y']/10000\n",
    "res_compare['0']   = res_compare['0']/10000\n",
    "res_compare['1']   = res_compare['1']/10000"
   ]
  },
  {
   "cell_type": "code",
   "execution_count": 58,
   "metadata": {
    "ExecuteTime": {
     "end_time": "2020-04-20T02:11:45.558322Z",
     "start_time": "2020-04-20T02:11:45.552339Z"
    }
   },
   "outputs": [],
   "source": [
    "res_compare['day_sum'] =  res_compare['0_x'] + res_compare['1_x']\n",
    "res_compare['mon_sum'] =  res_compare['0_y'] + res_compare['1_y']\n",
    "res_compare['year_sum'] = res_compare['0']   + res_compare['1']"
   ]
  },
  {
   "cell_type": "code",
   "execution_count": 59,
   "metadata": {
    "ExecuteTime": {
     "end_time": "2020-04-20T02:11:46.182654Z",
     "start_time": "2020-04-20T02:11:46.176670Z"
    }
   },
   "outputs": [],
   "source": [
    "res_compare['mon_finish_rate'] = res_compare.mon_sum/res_compare.mon_target\n",
    "res_compare['year_finish_rate'] = res_compare.year_sum/res_compare.year_target\n",
    "res_compare['bf_mon_reduce'] = res_compare['0_y'] - res_compare.bf_compare_mon\n",
    "res_compare['bf_year_reduce'] = res_compare['0'] - res_compare.bf_compare_year"
   ]
  },
  {
   "cell_type": "code",
   "execution_count": 60,
   "metadata": {
    "ExecuteTime": {
     "end_time": "2020-04-20T02:11:46.837899Z",
     "start_time": "2020-04-20T02:11:46.834909Z"
    }
   },
   "outputs": [],
   "source": [
    "need_col = ['area_name', 'uid_x', 'order_x', '0_x', '1_x','day_sum', 'uid_y', 'order_y',\n",
    "       '0_y', 'bf_mon_reduce','1_y','mon_sum','mon_target','mon_finish_rate','uid', 'order','0','bf_year_reduce', '1','year_sum','year_target','year_finish_rate']"
   ]
  },
  {
   "cell_type": "code",
   "execution_count": 62,
   "metadata": {
    "ExecuteTime": {
     "end_time": "2020-04-20T02:11:56.869068Z",
     "start_time": "2020-04-20T02:11:56.803244Z"
    }
   },
   "outputs": [],
   "source": [
    "report_01 = res_compare.loc[res_compare.area_name !='其他',need_col].sort_values('mon_sum',ascending=False)\n",
    "report_02 = res_compare.loc[res_compare.area_name =='其他',need_col]\n",
    "report = pd.concat([report_01,report_02])\n",
    "report.replace(np.inf,0,inplace=True)\n",
    "report.reset_index().to_excel('D:\\\\User\\\\Desktop\\\\周期数据\\\\日报\\\\001_数据_网销业务考核表.xlsx')"
   ]
  },
  {
   "cell_type": "markdown",
   "metadata": {},
   "source": [
    "## 交服总奖励方案日报"
   ]
  },
  {
   "cell_type": "code",
   "execution_count": 28,
   "metadata": {
    "ExecuteTime": {
     "end_time": "2020-05-19T02:23:52.277890Z",
     "start_time": "2020-05-19T02:23:52.246972Z"
    }
   },
   "outputs": [],
   "source": [
    "mreport = pd.read_excel(dir_down + '交服网销业务追踪 (16).xlsx',header=2)\n",
    "qreport = pd.read_excel(dir_down + '交服网销业务追踪 (17).xlsx',header=2)\n",
    "yreport = pd.read_excel(dir_down + '交服网销业务追踪 (18).xlsx',header=2)"
   ]
  },
  {
   "cell_type": "code",
   "execution_count": 29,
   "metadata": {
    "ExecuteTime": {
     "end_time": "2020-05-19T02:23:53.126620Z",
     "start_time": "2020-05-19T02:23:53.117644Z"
    }
   },
   "outputs": [
    {
     "data": {
      "text/html": [
       "<div>\n",
       "<style scoped>\n",
       "    .dataframe tbody tr th:only-of-type {\n",
       "        vertical-align: middle;\n",
       "    }\n",
       "\n",
       "    .dataframe tbody tr th {\n",
       "        vertical-align: top;\n",
       "    }\n",
       "\n",
       "    .dataframe thead th {\n",
       "        text-align: right;\n",
       "    }\n",
       "</style>\n",
       "<table border=\"1\" class=\"dataframe\">\n",
       "  <thead>\n",
       "    <tr style=\"text-align: right;\">\n",
       "      <th></th>\n",
       "      <th>业绩排名</th>\n",
       "      <th>交服名称</th>\n",
       "      <th>区域中心名称</th>\n",
       "      <th>保费</th>\n",
       "    </tr>\n",
       "  </thead>\n",
       "  <tbody>\n",
       "    <tr>\n",
       "      <th>0</th>\n",
       "      <td>NaN</td>\n",
       "      <td>合计</td>\n",
       "      <td>NaN</td>\n",
       "      <td>14378997.71</td>\n",
       "    </tr>\n",
       "    <tr>\n",
       "      <th>1</th>\n",
       "      <td>1.0</td>\n",
       "      <td>四川高端</td>\n",
       "      <td>四川</td>\n",
       "      <td>1270940.52</td>\n",
       "    </tr>\n",
       "    <tr>\n",
       "      <th>2</th>\n",
       "      <td>2.0</td>\n",
       "      <td>深圳高端</td>\n",
       "      <td>深圳</td>\n",
       "      <td>811185.84</td>\n",
       "    </tr>\n",
       "    <tr>\n",
       "      <th>3</th>\n",
       "      <td>3.0</td>\n",
       "      <td>北京恒基</td>\n",
       "      <td>北京</td>\n",
       "      <td>666368.10</td>\n",
       "    </tr>\n",
       "    <tr>\n",
       "      <th>4</th>\n",
       "      <td>4.0</td>\n",
       "      <td>北京朝阳</td>\n",
       "      <td>北京</td>\n",
       "      <td>657617.97</td>\n",
       "    </tr>\n",
       "  </tbody>\n",
       "</table>\n",
       "</div>"
      ],
      "text/plain": [
       "   业绩排名  交服名称 区域中心名称           保费\n",
       "0   NaN    合计    NaN  14378997.71\n",
       "1   1.0  四川高端     四川   1270940.52\n",
       "2   2.0  深圳高端     深圳    811185.84\n",
       "3   3.0  北京恒基     北京    666368.10\n",
       "4   4.0  北京朝阳     北京    657617.97"
      ]
     },
     "execution_count": 29,
     "metadata": {},
     "output_type": "execute_result"
    }
   ],
   "source": [
    "mreport.head()"
   ]
  },
  {
   "cell_type": "code",
   "execution_count": 30,
   "metadata": {
    "ExecuteTime": {
     "end_time": "2020-05-19T02:23:54.374291Z",
     "start_time": "2020-05-19T02:23:54.365335Z"
    }
   },
   "outputs": [],
   "source": [
    "col = ['交服名称','保费']\n",
    "res_mid = pd.merge(yreport,qreport[col],how='left',on='交服名称',suffixes=['_y','_q'])\n",
    "res = pd.merge(res_mid,mreport[col],how='left',on='交服名称')"
   ]
  },
  {
   "cell_type": "code",
   "execution_count": 31,
   "metadata": {
    "ExecuteTime": {
     "end_time": "2020-05-19T02:23:56.015896Z",
     "start_time": "2020-05-19T02:23:55.980988Z"
    }
   },
   "outputs": [],
   "source": [
    "res_need = res.loc[res.区域中心名称.notna(),:].sort_values('保费',ascending=False)\n",
    "res_need['保费'] = res_need.保费.map(lambda x:round(x/10000,2))\n",
    "res_need['保费_q'] = res_need.保费_q.map(lambda x:round(x/10000,2))\n",
    "res_need['保费_y'] = res_need.保费_y.map(lambda x:round(x/10000,2))"
   ]
  },
  {
   "cell_type": "code",
   "execution_count": 32,
   "metadata": {
    "ExecuteTime": {
     "end_time": "2020-05-19T02:23:57.004279Z",
     "start_time": "2020-05-19T02:23:56.939435Z"
    }
   },
   "outputs": [],
   "source": [
    "bins = [0,20,30,50,100,999]\n",
    "labels= ['','2000元','3000元','5000元','10000元']\n",
    "res_need['奖励'] = pd.cut(res_need.保费,bins = bins,right=False,labels=labels)\n",
    "col_need = ['交服名称','区域中心名称','保费','奖励','保费_q','保费_y']\n",
    "res_need[col_need].to_excel('D:\\\\User\\\\Desktop\\\\周期数据\\\\交服奖励方案日报-数据.xlsx',index=0)"
   ]
  },
  {
   "cell_type": "markdown",
   "metadata": {},
   "source": [
    "## 业务类型细分表"
   ]
  },
  {
   "cell_type": "code",
   "execution_count": null,
   "metadata": {},
   "outputs": [],
   "source": [
    "order_renew = pd.read_excel('E:\\\\SynologyDrive\\\\dir_dic\\\\10_order_renew_new.xlsx')"
   ]
  },
  {
   "cell_type": "code",
   "execution_count": 9,
   "metadata": {
    "ExecuteTime": {
     "end_time": "2020-04-29T07:22:13.045425Z",
     "start_time": "2020-04-29T07:22:13.041438Z"
    }
   },
   "outputs": [],
   "source": [
    "agg_col = {'uid':'nunique','bf':'sum','order':'count'}"
   ]
  },
  {
   "cell_type": "code",
   "execution_count": 4,
   "metadata": {
    "ExecuteTime": {
     "end_time": "2020-04-29T07:10:27.749510Z",
     "start_time": "2020-04-29T07:10:19.062736Z"
    }
   },
   "outputs": [],
   "source": [
    "order_all = pd.read_csv('E:\\\\SynologyDrive\\\\dir_order\\\\order_report_0428.csv',encoding='utf-8',parse_dates=['date_pay'])\n",
    "order_sum = order_all.loc[order_all.order_stat.isin(['待生效','已生效','已发货'])].copy()\n",
    "order_sum['mon'] = order_sum.date_pay.map(date_bus)"
   ]
  },
  {
   "cell_type": "code",
   "execution_count": 5,
   "metadata": {
    "ExecuteTime": {
     "end_time": "2020-04-29T07:10:34.535048Z",
     "start_time": "2020-04-29T07:10:32.495532Z"
    }
   },
   "outputs": [],
   "source": [
    "order_ptype = pd.merge(order_sum,ptype,how='left',on='pname')\n",
    "order_net = order_ptype.copy()"
   ]
  },
  {
   "cell_type": "code",
   "execution_count": 7,
   "metadata": {
    "ExecuteTime": {
     "end_time": "2020-04-29T07:10:36.758103Z",
     "start_time": "2020-04-29T07:10:36.423026Z"
    }
   },
   "outputs": [],
   "source": [
    "order_net.loc[order_net.plabel_term ==1,'is_term'] = '2_期缴产品'\n",
    "order_net.is_term.fillna('1_一年期产品',inplace=True)"
   ]
  },
  {
   "cell_type": "code",
   "execution_count": 8,
   "metadata": {
    "ExecuteTime": {
     "end_time": "2020-04-29T07:11:50.244177Z",
     "start_time": "2020-04-29T07:11:48.754135Z"
    }
   },
   "outputs": [],
   "source": [
    "order_net['is_insider_new'] = order_net.is_insider\n",
    "order_net.loc[order_net.uid == 'U00000000','is_insider_new'] = '3_官方'\n",
    "order_net.loc[order_net.is_insider_new =='是','is_insider_new'] = '1_司内'\n",
    "order_net.loc[order_net.is_insider_new =='否','is_insider_new'] = '2_司外'"
   ]
  },
  {
   "cell_type": "code",
   "execution_count": 10,
   "metadata": {
    "ExecuteTime": {
     "end_time": "2020-04-29T07:23:58.094806Z",
     "start_time": "2020-04-29T07:23:54.231081Z"
    }
   },
   "outputs": [],
   "source": [
    "order_net.groupby(['mon','is_term','is_insider_new']).agg(agg_col).reset_index().to_excel('12.xlsx',encoding='gbk',index=0)"
   ]
  },
  {
   "cell_type": "code",
   "execution_count": 11,
   "metadata": {
    "ExecuteTime": {
     "end_time": "2020-04-29T07:26:11.651321Z",
     "start_time": "2020-04-29T07:26:08.224485Z"
    }
   },
   "outputs": [
    {
     "data": {
      "text/html": [
       "<div>\n",
       "<style scoped>\n",
       "    .dataframe tbody tr th:only-of-type {\n",
       "        vertical-align: middle;\n",
       "    }\n",
       "\n",
       "    .dataframe tbody tr th {\n",
       "        vertical-align: top;\n",
       "    }\n",
       "\n",
       "    .dataframe thead th {\n",
       "        text-align: right;\n",
       "    }\n",
       "</style>\n",
       "<table border=\"1\" class=\"dataframe\">\n",
       "  <thead>\n",
       "    <tr style=\"text-align: right;\">\n",
       "      <th></th>\n",
       "      <th>mon</th>\n",
       "      <th>is_term</th>\n",
       "      <th>uid</th>\n",
       "      <th>bf</th>\n",
       "      <th>order</th>\n",
       "    </tr>\n",
       "  </thead>\n",
       "  <tbody>\n",
       "    <tr>\n",
       "      <th>28</th>\n",
       "      <td>2020-03</td>\n",
       "      <td>1_一年期产品</td>\n",
       "      <td>20652</td>\n",
       "      <td>30507036.80</td>\n",
       "      <td>91564</td>\n",
       "    </tr>\n",
       "    <tr>\n",
       "      <th>29</th>\n",
       "      <td>2020-03</td>\n",
       "      <td>2_期缴产品</td>\n",
       "      <td>2249</td>\n",
       "      <td>7591232.05</td>\n",
       "      <td>4000</td>\n",
       "    </tr>\n",
       "    <tr>\n",
       "      <th>30</th>\n",
       "      <td>2020-04</td>\n",
       "      <td>1_一年期产品</td>\n",
       "      <td>22488</td>\n",
       "      <td>34327720.66</td>\n",
       "      <td>111275</td>\n",
       "    </tr>\n",
       "    <tr>\n",
       "      <th>31</th>\n",
       "      <td>2020-04</td>\n",
       "      <td>2_期缴产品</td>\n",
       "      <td>2455</td>\n",
       "      <td>9196792.53</td>\n",
       "      <td>4507</td>\n",
       "    </tr>\n",
       "    <tr>\n",
       "      <th>32</th>\n",
       "      <td>2020-05</td>\n",
       "      <td>1_一年期产品</td>\n",
       "      <td>4195</td>\n",
       "      <td>3126433.74</td>\n",
       "      <td>9907</td>\n",
       "    </tr>\n",
       "    <tr>\n",
       "      <th>33</th>\n",
       "      <td>2020-05</td>\n",
       "      <td>2_期缴产品</td>\n",
       "      <td>327</td>\n",
       "      <td>856718.60</td>\n",
       "      <td>434</td>\n",
       "    </tr>\n",
       "  </tbody>\n",
       "</table>\n",
       "</div>"
      ],
      "text/plain": [
       "        mon  is_term    uid           bf   order\n",
       "28  2020-03  1_一年期产品  20652  30507036.80   91564\n",
       "29  2020-03   2_期缴产品   2249   7591232.05    4000\n",
       "30  2020-04  1_一年期产品  22488  34327720.66  111275\n",
       "31  2020-04   2_期缴产品   2455   9196792.53    4507\n",
       "32  2020-05  1_一年期产品   4195   3126433.74    9907\n",
       "33  2020-05   2_期缴产品    327    856718.60     434"
      ]
     },
     "execution_count": 11,
     "metadata": {},
     "output_type": "execute_result"
    }
   ],
   "source": [
    "order_net.groupby(['mon','is_term']).agg(agg_col).reset_index().tail(6)"
   ]
  },
  {
   "cell_type": "code",
   "execution_count": 12,
   "metadata": {
    "ExecuteTime": {
     "end_time": "2020-04-29T07:27:46.214891Z",
     "start_time": "2020-04-29T07:27:42.732205Z"
    }
   },
   "outputs": [
    {
     "data": {
      "text/html": [
       "<div>\n",
       "<style scoped>\n",
       "    .dataframe tbody tr th:only-of-type {\n",
       "        vertical-align: middle;\n",
       "    }\n",
       "\n",
       "    .dataframe tbody tr th {\n",
       "        vertical-align: top;\n",
       "    }\n",
       "\n",
       "    .dataframe thead th {\n",
       "        text-align: right;\n",
       "    }\n",
       "</style>\n",
       "<table border=\"1\" class=\"dataframe\">\n",
       "  <thead>\n",
       "    <tr style=\"text-align: right;\">\n",
       "      <th></th>\n",
       "      <th>mon</th>\n",
       "      <th>is_insider_new</th>\n",
       "      <th>uid</th>\n",
       "      <th>bf</th>\n",
       "      <th>order</th>\n",
       "    </tr>\n",
       "  </thead>\n",
       "  <tbody>\n",
       "    <tr>\n",
       "      <th>45</th>\n",
       "      <td>2020-04</td>\n",
       "      <td>1_司内</td>\n",
       "      <td>13467</td>\n",
       "      <td>32915342.84</td>\n",
       "      <td>75628</td>\n",
       "    </tr>\n",
       "    <tr>\n",
       "      <th>46</th>\n",
       "      <td>2020-04</td>\n",
       "      <td>2_司外</td>\n",
       "      <td>9608</td>\n",
       "      <td>10487253.19</td>\n",
       "      <td>39411</td>\n",
       "    </tr>\n",
       "    <tr>\n",
       "      <th>47</th>\n",
       "      <td>2020-04</td>\n",
       "      <td>3_官方</td>\n",
       "      <td>1</td>\n",
       "      <td>121917.16</td>\n",
       "      <td>743</td>\n",
       "    </tr>\n",
       "    <tr>\n",
       "      <th>48</th>\n",
       "      <td>2020-05</td>\n",
       "      <td>1_司内</td>\n",
       "      <td>2971</td>\n",
       "      <td>3128636.33</td>\n",
       "      <td>6973</td>\n",
       "    </tr>\n",
       "    <tr>\n",
       "      <th>49</th>\n",
       "      <td>2020-05</td>\n",
       "      <td>2_司外</td>\n",
       "      <td>1400</td>\n",
       "      <td>842201.01</td>\n",
       "      <td>3294</td>\n",
       "    </tr>\n",
       "    <tr>\n",
       "      <th>50</th>\n",
       "      <td>2020-05</td>\n",
       "      <td>3_官方</td>\n",
       "      <td>1</td>\n",
       "      <td>12315.00</td>\n",
       "      <td>74</td>\n",
       "    </tr>\n",
       "  </tbody>\n",
       "</table>\n",
       "</div>"
      ],
      "text/plain": [
       "        mon is_insider_new    uid           bf  order\n",
       "45  2020-04           1_司内  13467  32915342.84  75628\n",
       "46  2020-04           2_司外   9608  10487253.19  39411\n",
       "47  2020-04           3_官方      1    121917.16    743\n",
       "48  2020-05           1_司内   2971   3128636.33   6973\n",
       "49  2020-05           2_司外   1400    842201.01   3294\n",
       "50  2020-05           3_官方      1     12315.00     74"
      ]
     },
     "execution_count": 12,
     "metadata": {},
     "output_type": "execute_result"
    }
   ],
   "source": [
    "order_net.groupby(['mon','is_insider_new']).agg(agg_col).reset_index().tail(6)"
   ]
  },
  {
   "cell_type": "code",
   "execution_count": 13,
   "metadata": {
    "ExecuteTime": {
     "end_time": "2020-04-29T07:28:39.692636Z",
     "start_time": "2020-04-29T07:28:36.709614Z"
    }
   },
   "outputs": [
    {
     "data": {
      "text/html": [
       "<div>\n",
       "<style scoped>\n",
       "    .dataframe tbody tr th:only-of-type {\n",
       "        vertical-align: middle;\n",
       "    }\n",
       "\n",
       "    .dataframe tbody tr th {\n",
       "        vertical-align: top;\n",
       "    }\n",
       "\n",
       "    .dataframe thead th {\n",
       "        text-align: right;\n",
       "    }\n",
       "</style>\n",
       "<table border=\"1\" class=\"dataframe\">\n",
       "  <thead>\n",
       "    <tr style=\"text-align: right;\">\n",
       "      <th></th>\n",
       "      <th>mon</th>\n",
       "      <th>uid</th>\n",
       "      <th>bf</th>\n",
       "      <th>order</th>\n",
       "    </tr>\n",
       "  </thead>\n",
       "  <tbody>\n",
       "    <tr>\n",
       "      <th>12</th>\n",
       "      <td>2020-01</td>\n",
       "      <td>21920</td>\n",
       "      <td>37939980.10</td>\n",
       "      <td>115395</td>\n",
       "    </tr>\n",
       "    <tr>\n",
       "      <th>13</th>\n",
       "      <td>2020-02</td>\n",
       "      <td>21212</td>\n",
       "      <td>38722899.55</td>\n",
       "      <td>115640</td>\n",
       "    </tr>\n",
       "    <tr>\n",
       "      <th>14</th>\n",
       "      <td>2020-03</td>\n",
       "      <td>21174</td>\n",
       "      <td>38098268.85</td>\n",
       "      <td>95564</td>\n",
       "    </tr>\n",
       "    <tr>\n",
       "      <th>15</th>\n",
       "      <td>2020-04</td>\n",
       "      <td>23048</td>\n",
       "      <td>43524513.19</td>\n",
       "      <td>115782</td>\n",
       "    </tr>\n",
       "    <tr>\n",
       "      <th>16</th>\n",
       "      <td>2020-05</td>\n",
       "      <td>4372</td>\n",
       "      <td>3983152.34</td>\n",
       "      <td>10341</td>\n",
       "    </tr>\n",
       "  </tbody>\n",
       "</table>\n",
       "</div>"
      ],
      "text/plain": [
       "        mon    uid           bf   order\n",
       "12  2020-01  21920  37939980.10  115395\n",
       "13  2020-02  21212  38722899.55  115640\n",
       "14  2020-03  21174  38098268.85   95564\n",
       "15  2020-04  23048  43524513.19  115782\n",
       "16  2020-05   4372   3983152.34   10341"
      ]
     },
     "execution_count": 13,
     "metadata": {},
     "output_type": "execute_result"
    }
   ],
   "source": [
    "order_net.groupby(['mon']).agg(agg_col).reset_index().tail()"
   ]
  },
  {
   "cell_type": "code",
   "execution_count": 82,
   "metadata": {
    "ExecuteTime": {
     "end_time": "2019-06-26T06:17:58.205000Z",
     "start_time": "2019-06-26T06:17:57.022000Z"
    }
   },
   "outputs": [
    {
     "data": {
      "text/html": [
       "<div>\n",
       "<style scoped>\n",
       "    .dataframe tbody tr th:only-of-type {\n",
       "        vertical-align: middle;\n",
       "    }\n",
       "\n",
       "    .dataframe tbody tr th {\n",
       "        vertical-align: top;\n",
       "    }\n",
       "\n",
       "    .dataframe thead th {\n",
       "        text-align: right;\n",
       "    }\n",
       "</style>\n",
       "<table border=\"1\" class=\"dataframe\">\n",
       "  <thead>\n",
       "    <tr style=\"text-align: right;\">\n",
       "      <th></th>\n",
       "      <th>mon</th>\n",
       "      <th>is_term</th>\n",
       "      <th>is_insider_new</th>\n",
       "      <th>uid</th>\n",
       "      <th>bf</th>\n",
       "      <th>order</th>\n",
       "    </tr>\n",
       "  </thead>\n",
       "  <tbody>\n",
       "    <tr>\n",
       "      <th>29</th>\n",
       "      <td>2019-05</td>\n",
       "      <td>2_期缴产品</td>\n",
       "      <td>3_官方</td>\n",
       "      <td>1</td>\n",
       "      <td>3487.00</td>\n",
       "      <td>5</td>\n",
       "    </tr>\n",
       "    <tr>\n",
       "      <th>30</th>\n",
       "      <td>2019-06</td>\n",
       "      <td>1_一年期产品</td>\n",
       "      <td>1_司内</td>\n",
       "      <td>14325</td>\n",
       "      <td>19682763.27</td>\n",
       "      <td>114862</td>\n",
       "    </tr>\n",
       "    <tr>\n",
       "      <th>31</th>\n",
       "      <td>2019-06</td>\n",
       "      <td>1_一年期产品</td>\n",
       "      <td>2_司外</td>\n",
       "      <td>9983</td>\n",
       "      <td>7870291.88</td>\n",
       "      <td>63573</td>\n",
       "    </tr>\n",
       "    <tr>\n",
       "      <th>32</th>\n",
       "      <td>2019-06</td>\n",
       "      <td>1_一年期产品</td>\n",
       "      <td>3_官方</td>\n",
       "      <td>1</td>\n",
       "      <td>244514.68</td>\n",
       "      <td>3354</td>\n",
       "    </tr>\n",
       "    <tr>\n",
       "      <th>33</th>\n",
       "      <td>2019-06</td>\n",
       "      <td>2_期缴产品</td>\n",
       "      <td>1_司内</td>\n",
       "      <td>2880</td>\n",
       "      <td>7085538.15</td>\n",
       "      <td>5548</td>\n",
       "    </tr>\n",
       "    <tr>\n",
       "      <th>34</th>\n",
       "      <td>2019-06</td>\n",
       "      <td>2_期缴产品</td>\n",
       "      <td>2_司外</td>\n",
       "      <td>369</td>\n",
       "      <td>546327.94</td>\n",
       "      <td>538</td>\n",
       "    </tr>\n",
       "    <tr>\n",
       "      <th>35</th>\n",
       "      <td>2019-06</td>\n",
       "      <td>2_期缴产品</td>\n",
       "      <td>3_官方</td>\n",
       "      <td>1</td>\n",
       "      <td>13154.00</td>\n",
       "      <td>11</td>\n",
       "    </tr>\n",
       "    <tr>\n",
       "      <th>36</th>\n",
       "      <td>2019-07</td>\n",
       "      <td>1_一年期产品</td>\n",
       "      <td>1_司内</td>\n",
       "      <td>1</td>\n",
       "      <td>199.00</td>\n",
       "      <td>1</td>\n",
       "    </tr>\n",
       "  </tbody>\n",
       "</table>\n",
       "</div>"
      ],
      "text/plain": [
       "        mon  is_term is_insider_new    uid           bf   order\n",
       "29  2019-05   2_期缴产品           3_官方      1      3487.00       5\n",
       "30  2019-06  1_一年期产品           1_司内  14325  19682763.27  114862\n",
       "31  2019-06  1_一年期产品           2_司外   9983   7870291.88   63573\n",
       "32  2019-06  1_一年期产品           3_官方      1    244514.68    3354\n",
       "33  2019-06   2_期缴产品           1_司内   2880   7085538.15    5548\n",
       "34  2019-06   2_期缴产品           2_司外    369    546327.94     538\n",
       "35  2019-06   2_期缴产品           3_官方      1     13154.00      11\n",
       "36  2019-07  1_一年期产品           1_司内      1       199.00       1"
      ]
     },
     "execution_count": 82,
     "metadata": {},
     "output_type": "execute_result"
    }
   ],
   "source": [
    "order_net.groupby(['mon','is_term','is_insider_new']).agg(agg_col).reset_index().tail(8)"
   ]
  },
  {
   "cell_type": "markdown",
   "metadata": {},
   "source": [
    "## 撤退保"
   ]
  },
  {
   "cell_type": "code",
   "execution_count": 33,
   "metadata": {
    "ExecuteTime": {
     "end_time": "2020-05-08T02:42:26.913312Z",
     "start_time": "2020-05-08T02:42:26.352780Z"
    }
   },
   "outputs": [],
   "source": [
    "ct_order = pd.read_excel(dir_order + 'ct_order_0426.xlsx')"
   ]
  },
  {
   "cell_type": "code",
   "execution_count": 34,
   "metadata": {
    "ExecuteTime": {
     "end_time": "2020-05-08T02:42:27.654298Z",
     "start_time": "2020-05-08T02:42:27.457827Z"
    }
   },
   "outputs": [],
   "source": [
    "order_sum['is_ct'] = np.nan\n",
    "order_sum.loc[order_sum.order.isin(ct_order.order.unique()),'is_ct'] = '撤退'\n",
    "order_sum.is_ct.fillna('未撤退',inplace=True)"
   ]
  },
  {
   "cell_type": "code",
   "execution_count": 56,
   "metadata": {
    "ExecuteTime": {
     "end_time": "2020-05-08T02:51:24.303810Z",
     "start_time": "2020-05-08T02:51:23.686463Z"
    }
   },
   "outputs": [],
   "source": [
    "col = ['order','date_pay','bb_id','pname','bf','tgf_A','tgf_B','tgf_X','plan']\n",
    "order_ct = order_sum.loc[order_sum.is_ct =='撤退',col].copy()\n",
    "order_nct = order_sum.loc[order_sum.is_ct !='撤退',col].copy()"
   ]
  },
  {
   "cell_type": "code",
   "execution_count": 59,
   "metadata": {
    "ExecuteTime": {
     "end_time": "2020-05-08T02:51:52.496397Z",
     "start_time": "2020-05-08T02:51:52.260031Z"
    }
   },
   "outputs": [],
   "source": [
    "res = pd.merge(order_ct,order_nct[['bb_id','date_pay','pname','bf','plan']],how='left',on='bb_id')"
   ]
  },
  {
   "cell_type": "code",
   "execution_count": 72,
   "metadata": {
    "ExecuteTime": {
     "end_time": "2020-05-08T03:00:59.088350Z",
     "start_time": "2020-05-08T03:00:59.059446Z"
    }
   },
   "outputs": [
    {
     "data": {
      "text/html": [
       "<div>\n",
       "<style scoped>\n",
       "    .dataframe tbody tr th:only-of-type {\n",
       "        vertical-align: middle;\n",
       "    }\n",
       "\n",
       "    .dataframe tbody tr th {\n",
       "        vertical-align: top;\n",
       "    }\n",
       "\n",
       "    .dataframe thead th {\n",
       "        text-align: right;\n",
       "    }\n",
       "</style>\n",
       "<table border=\"1\" class=\"dataframe\">\n",
       "  <thead>\n",
       "    <tr style=\"text-align: right;\">\n",
       "      <th></th>\n",
       "      <th>order</th>\n",
       "      <th>bf_x</th>\n",
       "      <th>pname_x</th>\n",
       "      <th>plan_x</th>\n",
       "      <th>bf_y</th>\n",
       "      <th>pname_y</th>\n",
       "      <th>plan_y</th>\n",
       "    </tr>\n",
       "  </thead>\n",
       "  <tbody>\n",
       "    <tr>\n",
       "      <th>0</th>\n",
       "      <td>20191229220030256</td>\n",
       "      <td>728.0</td>\n",
       "      <td>和谐健康慧馨安少儿定期重大疾病保险</td>\n",
       "      <td>20年</td>\n",
       "      <td>60.00</td>\n",
       "      <td>平安少儿意外伤害保障计划(升级版)</td>\n",
       "      <td>基础版</td>\n",
       "    </tr>\n",
       "    <tr>\n",
       "      <th>1</th>\n",
       "      <td>20191229220030256</td>\n",
       "      <td>728.0</td>\n",
       "      <td>和谐健康慧馨安少儿定期重大疾病保险</td>\n",
       "      <td>20年</td>\n",
       "      <td>928.00</td>\n",
       "      <td>和谐健康慧馨安少儿定期重大疾病保险</td>\n",
       "      <td>20年</td>\n",
       "    </tr>\n",
       "    <tr>\n",
       "      <th>2</th>\n",
       "      <td>20191229200025927</td>\n",
       "      <td>1210.0</td>\n",
       "      <td>华贵大麦定期寿险</td>\n",
       "      <td>30年</td>\n",
       "      <td>720.00</td>\n",
       "      <td>华贵大麦正青春定期寿险</td>\n",
       "      <td>30年</td>\n",
       "    </tr>\n",
       "    <tr>\n",
       "      <th>3</th>\n",
       "      <td>20191229110006817</td>\n",
       "      <td>1248.0</td>\n",
       "      <td>华贵大麦定期寿险</td>\n",
       "      <td>10年</td>\n",
       "      <td>1638.20</td>\n",
       "      <td>华贵大麦2020定期寿险</td>\n",
       "      <td>10年</td>\n",
       "    </tr>\n",
       "    <tr>\n",
       "      <th>4</th>\n",
       "      <td>20191229110006255</td>\n",
       "      <td>778.0</td>\n",
       "      <td>华贵大麦定期寿险</td>\n",
       "      <td>10年</td>\n",
       "      <td>1042.00</td>\n",
       "      <td>华贵大麦2020定期寿险</td>\n",
       "      <td>10年</td>\n",
       "    </tr>\n",
       "    <tr>\n",
       "      <th>5</th>\n",
       "      <td>20191228220030202</td>\n",
       "      <td>3988.0</td>\n",
       "      <td>百年康惠保(2020版)重大疾病保险</td>\n",
       "      <td>30年</td>\n",
       "      <td>3870.00</td>\n",
       "      <td>百年康惠保(2020版)重大疾病保险</td>\n",
       "      <td>20年</td>\n",
       "    </tr>\n",
       "    <tr>\n",
       "      <th>6</th>\n",
       "      <td>20191228160019121</td>\n",
       "      <td>3430.0</td>\n",
       "      <td>百年康惠保(2020版)重大疾病保险</td>\n",
       "      <td>30年</td>\n",
       "      <td>486.00</td>\n",
       "      <td>众安尊享e生2019版</td>\n",
       "      <td>个人版</td>\n",
       "    </tr>\n",
       "    <tr>\n",
       "      <th>7</th>\n",
       "      <td>20191228140012633</td>\n",
       "      <td>185.0</td>\n",
       "      <td>华贵大麦定期寿险</td>\n",
       "      <td>10年</td>\n",
       "      <td>148.00</td>\n",
       "      <td>华贵大麦2020定期寿险</td>\n",
       "      <td>10年</td>\n",
       "    </tr>\n",
       "    <tr>\n",
       "      <th>9</th>\n",
       "      <td>20191227210038574</td>\n",
       "      <td>1400.0</td>\n",
       "      <td>华贵大麦甜蜜家定期寿险</td>\n",
       "      <td>20年</td>\n",
       "      <td>369.00</td>\n",
       "      <td>众惠全能百万医疗2019款</td>\n",
       "      <td>个人版</td>\n",
       "    </tr>\n",
       "    <tr>\n",
       "      <th>10</th>\n",
       "      <td>20191227210038506</td>\n",
       "      <td>4845.0</td>\n",
       "      <td>百年康惠保(2020版)重大疾病保险</td>\n",
       "      <td>30年</td>\n",
       "      <td>4845.00</td>\n",
       "      <td>百年康惠保(2020版)重大疾病保险</td>\n",
       "      <td>30年</td>\n",
       "    </tr>\n",
       "    <tr>\n",
       "      <th>11</th>\n",
       "      <td>20191227200035548</td>\n",
       "      <td>2717.0</td>\n",
       "      <td>复星联合康乐一生（2019版）重大疾病保险</td>\n",
       "      <td>10年</td>\n",
       "      <td>571.00</td>\n",
       "      <td>复星联合乐享一生医疗保险</td>\n",
       "      <td>5年</td>\n",
       "    </tr>\n",
       "    <tr>\n",
       "      <th>12</th>\n",
       "      <td>20191227200035548</td>\n",
       "      <td>2717.0</td>\n",
       "      <td>复星联合康乐一生（2019版）重大疾病保险</td>\n",
       "      <td>10年</td>\n",
       "      <td>1320.00</td>\n",
       "      <td>复星联合康乐一生（2019版）重大疾病保险</td>\n",
       "      <td>30年</td>\n",
       "    </tr>\n",
       "    <tr>\n",
       "      <th>13</th>\n",
       "      <td>20191227190033562</td>\n",
       "      <td>3020.0</td>\n",
       "      <td>华贵大麦定期寿险</td>\n",
       "      <td>20年</td>\n",
       "      <td>460.00</td>\n",
       "      <td>亚太守护意外保</td>\n",
       "      <td>100万</td>\n",
       "    </tr>\n",
       "    <tr>\n",
       "      <th>14</th>\n",
       "      <td>20191227190033562</td>\n",
       "      <td>3020.0</td>\n",
       "      <td>华贵大麦定期寿险</td>\n",
       "      <td>20年</td>\n",
       "      <td>1214.00</td>\n",
       "      <td>华贵大麦2020定期寿险</td>\n",
       "      <td>20年</td>\n",
       "    </tr>\n",
       "    <tr>\n",
       "      <th>15</th>\n",
       "      <td>20191227140018111</td>\n",
       "      <td>1860.0</td>\n",
       "      <td>华贵大麦定期寿险</td>\n",
       "      <td>20年</td>\n",
       "      <td>859.00</td>\n",
       "      <td>众惠全能百万医疗2019款</td>\n",
       "      <td>个人版</td>\n",
       "    </tr>\n",
       "    <tr>\n",
       "      <th>16</th>\n",
       "      <td>20191227120014144</td>\n",
       "      <td>990.0</td>\n",
       "      <td>华贵大麦正青春定期寿险</td>\n",
       "      <td>30年</td>\n",
       "      <td>1475.00</td>\n",
       "      <td>华贵大麦2020定期寿险</td>\n",
       "      <td>30年</td>\n",
       "    </tr>\n",
       "    <tr>\n",
       "      <th>17</th>\n",
       "      <td>20191227110010738</td>\n",
       "      <td>420.0</td>\n",
       "      <td>华贵大麦定期寿险</td>\n",
       "      <td>10年</td>\n",
       "      <td>335.00</td>\n",
       "      <td>华贵大麦2020定期寿险</td>\n",
       "      <td>10年</td>\n",
       "    </tr>\n",
       "    <tr>\n",
       "      <th>18</th>\n",
       "      <td>20191227110010738</td>\n",
       "      <td>420.0</td>\n",
       "      <td>华贵大麦定期寿险</td>\n",
       "      <td>10年</td>\n",
       "      <td>506.00</td>\n",
       "      <td>平安e生保（保证续保版2020）</td>\n",
       "      <td>2020版</td>\n",
       "    </tr>\n",
       "    <tr>\n",
       "      <th>19</th>\n",
       "      <td>20191227100005604</td>\n",
       "      <td>856.0</td>\n",
       "      <td>百年超倍保重大疾病保险</td>\n",
       "      <td>30年</td>\n",
       "      <td>99.00</td>\n",
       "      <td>亚太大护法保险人保障计划</td>\n",
       "      <td>50万</td>\n",
       "    </tr>\n",
       "    <tr>\n",
       "      <th>20</th>\n",
       "      <td>20191227090005156</td>\n",
       "      <td>230.0</td>\n",
       "      <td>华贵大麦定期寿险</td>\n",
       "      <td>10年</td>\n",
       "      <td>188.00</td>\n",
       "      <td>华贵大麦2020定期寿险</td>\n",
       "      <td>10年</td>\n",
       "    </tr>\n",
       "    <tr>\n",
       "      <th>21</th>\n",
       "      <td>20191227090005156</td>\n",
       "      <td>230.0</td>\n",
       "      <td>华贵大麦定期寿险</td>\n",
       "      <td>10年</td>\n",
       "      <td>294.00</td>\n",
       "      <td>平安e生保（保证续保版2020）</td>\n",
       "      <td>2020版</td>\n",
       "    </tr>\n",
       "    <tr>\n",
       "      <th>22</th>\n",
       "      <td>20191226200027707</td>\n",
       "      <td>2907.0</td>\n",
       "      <td>百年康惠保(2020版)重大疾病保险</td>\n",
       "      <td>30年</td>\n",
       "      <td>340.00</td>\n",
       "      <td>众安女性尊享百万意外险</td>\n",
       "      <td>100万</td>\n",
       "    </tr>\n",
       "    <tr>\n",
       "      <th>23</th>\n",
       "      <td>20191226150006171</td>\n",
       "      <td>930.0</td>\n",
       "      <td>华贵大麦正青春定期寿险</td>\n",
       "      <td>20年</td>\n",
       "      <td>1099.00</td>\n",
       "      <td>华贵大麦2020定期寿险</td>\n",
       "      <td>20年</td>\n",
       "    </tr>\n",
       "    <tr>\n",
       "      <th>25</th>\n",
       "      <td>20191225130025375</td>\n",
       "      <td>9640.0</td>\n",
       "      <td>百年康惠保(2020版)重大疾病保险</td>\n",
       "      <td>20年</td>\n",
       "      <td>9640.00</td>\n",
       "      <td>百年康惠保(2020版)重大疾病保险</td>\n",
       "      <td>20年</td>\n",
       "    </tr>\n",
       "    <tr>\n",
       "      <th>27</th>\n",
       "      <td>201912291589994866</td>\n",
       "      <td>18.0</td>\n",
       "      <td>平安短期境内旅行保险</td>\n",
       "      <td>普通型</td>\n",
       "      <td>18.00</td>\n",
       "      <td>平安短期境内旅行保险</td>\n",
       "      <td>普通型</td>\n",
       "    </tr>\n",
       "    <tr>\n",
       "      <th>28</th>\n",
       "      <td>201912291493797905</td>\n",
       "      <td>400.0</td>\n",
       "      <td>孝欣保老年人综合意外保险2019</td>\n",
       "      <td>基础版</td>\n",
       "      <td>500.00</td>\n",
       "      <td>安联不倒翁</td>\n",
       "      <td>标准计划</td>\n",
       "    </tr>\n",
       "    <tr>\n",
       "      <th>29</th>\n",
       "      <td>201912291493797905</td>\n",
       "      <td>400.0</td>\n",
       "      <td>孝欣保老年人综合意外保险2019</td>\n",
       "      <td>基础版</td>\n",
       "      <td>400.00</td>\n",
       "      <td>易安退休乐-老年人意外险</td>\n",
       "      <td>20万</td>\n",
       "    </tr>\n",
       "    <tr>\n",
       "      <th>30</th>\n",
       "      <td>201912295893140126</td>\n",
       "      <td>509.0</td>\n",
       "      <td>孝欣保老年人综合意外保险2019</td>\n",
       "      <td>基础版</td>\n",
       "      <td>400.00</td>\n",
       "      <td>易安退休乐-老年人意外险</td>\n",
       "      <td>20万</td>\n",
       "    </tr>\n",
       "    <tr>\n",
       "      <th>31</th>\n",
       "      <td>201912293006231207</td>\n",
       "      <td>17.0</td>\n",
       "      <td>人保赛事意外保险(非职业版)</td>\n",
       "      <td>经典版</td>\n",
       "      <td>20.00</td>\n",
       "      <td>人保赛事意外保险(非职业版)</td>\n",
       "      <td>基础版</td>\n",
       "    </tr>\n",
       "    <tr>\n",
       "      <th>32</th>\n",
       "      <td>201912293581608617</td>\n",
       "      <td>17.0</td>\n",
       "      <td>人保赛事意外保险(非职业版)</td>\n",
       "      <td>经典版</td>\n",
       "      <td>20.00</td>\n",
       "      <td>人保赛事意外保险(非职业版)</td>\n",
       "      <td>基础版</td>\n",
       "    </tr>\n",
       "    <tr>\n",
       "      <th>...</th>\n",
       "      <td>...</td>\n",
       "      <td>...</td>\n",
       "      <td>...</td>\n",
       "      <td>...</td>\n",
       "      <td>...</td>\n",
       "      <td>...</td>\n",
       "      <td>...</td>\n",
       "    </tr>\n",
       "    <tr>\n",
       "      <th>3835</th>\n",
       "      <td>20200422090006547</td>\n",
       "      <td>1620.0</td>\n",
       "      <td>华贵大麦正青春2020定期寿险</td>\n",
       "      <td>30年</td>\n",
       "      <td>2333.97</td>\n",
       "      <td>国富定海神柱定期寿险</td>\n",
       "      <td>30年</td>\n",
       "    </tr>\n",
       "    <tr>\n",
       "      <th>3837</th>\n",
       "      <td>202004226627907037</td>\n",
       "      <td>856.0</td>\n",
       "      <td>众安安稳e生住院医疗险(糖尿病&amp;高血压专属版)</td>\n",
       "      <td>安稳e生</td>\n",
       "      <td>5620.00</td>\n",
       "      <td>昆仑康爱保疾病保险</td>\n",
       "      <td>20年</td>\n",
       "    </tr>\n",
       "    <tr>\n",
       "      <th>3839</th>\n",
       "      <td>202004222672957686</td>\n",
       "      <td>644.0</td>\n",
       "      <td>众惠全能百万医疗保险2020款</td>\n",
       "      <td>个人版</td>\n",
       "      <td>519.00</td>\n",
       "      <td>众惠全能百万医疗2019款</td>\n",
       "      <td>个人版</td>\n",
       "    </tr>\n",
       "    <tr>\n",
       "      <th>3840</th>\n",
       "      <td>202004229568940113</td>\n",
       "      <td>235.0</td>\n",
       "      <td>平安个人意外保障计划</td>\n",
       "      <td>20万元</td>\n",
       "      <td>258.00</td>\n",
       "      <td>亚太守护意外保</td>\n",
       "      <td>50万</td>\n",
       "    </tr>\n",
       "    <tr>\n",
       "      <th>3841</th>\n",
       "      <td>202004221035871503</td>\n",
       "      <td>115.0</td>\n",
       "      <td>平安个人意外保障计划</td>\n",
       "      <td>10万元</td>\n",
       "      <td>198.00</td>\n",
       "      <td>复星联合爱无忧意外伤害保险</td>\n",
       "      <td>计划一</td>\n",
       "    </tr>\n",
       "    <tr>\n",
       "      <th>3842</th>\n",
       "      <td>202004221035871503</td>\n",
       "      <td>115.0</td>\n",
       "      <td>平安个人意外保障计划</td>\n",
       "      <td>10万元</td>\n",
       "      <td>235.00</td>\n",
       "      <td>平安个人意外保障计划</td>\n",
       "      <td>20万元</td>\n",
       "    </tr>\n",
       "    <tr>\n",
       "      <th>3843</th>\n",
       "      <td>202004221035871503</td>\n",
       "      <td>115.0</td>\n",
       "      <td>平安个人意外保障计划</td>\n",
       "      <td>10万元</td>\n",
       "      <td>160.00</td>\n",
       "      <td>众惠全能百万医疗（普惠版）</td>\n",
       "      <td>普惠版</td>\n",
       "    </tr>\n",
       "    <tr>\n",
       "      <th>3845</th>\n",
       "      <td>202004221552236143</td>\n",
       "      <td>1740.0</td>\n",
       "      <td>众安尊享e生2020版</td>\n",
       "      <td>个人版</td>\n",
       "      <td>235.00</td>\n",
       "      <td>平安个人意外保障计划</td>\n",
       "      <td>20万元</td>\n",
       "    </tr>\n",
       "    <tr>\n",
       "      <th>3846</th>\n",
       "      <td>202004221552236143</td>\n",
       "      <td>1740.0</td>\n",
       "      <td>众安尊享e生2020版</td>\n",
       "      <td>个人版</td>\n",
       "      <td>1005.00</td>\n",
       "      <td>平安住院保保障计划</td>\n",
       "      <td>计划一</td>\n",
       "    </tr>\n",
       "    <tr>\n",
       "      <th>3847</th>\n",
       "      <td>202004221552236143</td>\n",
       "      <td>1740.0</td>\n",
       "      <td>众安尊享e生2020版</td>\n",
       "      <td>个人版</td>\n",
       "      <td>1832.00</td>\n",
       "      <td>众安尊享e生2020版</td>\n",
       "      <td>个人版</td>\n",
       "    </tr>\n",
       "    <tr>\n",
       "      <th>3848</th>\n",
       "      <td>202004223046316734</td>\n",
       "      <td>769.0</td>\n",
       "      <td>众安尊享e生2020版</td>\n",
       "      <td>个人版</td>\n",
       "      <td>60.00</td>\n",
       "      <td>平安少儿意外伤害保障计划(升级版)</td>\n",
       "      <td>基础版</td>\n",
       "    </tr>\n",
       "    <tr>\n",
       "      <th>3849</th>\n",
       "      <td>202004223046316734</td>\n",
       "      <td>769.0</td>\n",
       "      <td>众安尊享e生2020版</td>\n",
       "      <td>个人版</td>\n",
       "      <td>769.00</td>\n",
       "      <td>众安尊享e生2020版</td>\n",
       "      <td>个人版</td>\n",
       "    </tr>\n",
       "    <tr>\n",
       "      <th>3850</th>\n",
       "      <td>202004221216424578</td>\n",
       "      <td>605.0</td>\n",
       "      <td>众惠全能百万医疗保险2020款</td>\n",
       "      <td>个人版</td>\n",
       "      <td>565.00</td>\n",
       "      <td>众惠全能百万医疗保险升级款</td>\n",
       "      <td>个人版</td>\n",
       "    </tr>\n",
       "    <tr>\n",
       "      <th>3851</th>\n",
       "      <td>202004223045621212</td>\n",
       "      <td>195.0</td>\n",
       "      <td>众惠全能百万医疗保险2020款</td>\n",
       "      <td>个人版</td>\n",
       "      <td>175.00</td>\n",
       "      <td>众惠全能百万医疗保险升级款</td>\n",
       "      <td>个人版</td>\n",
       "    </tr>\n",
       "    <tr>\n",
       "      <th>3852</th>\n",
       "      <td>202004225108640455</td>\n",
       "      <td>566.0</td>\n",
       "      <td>众安尊享e生2019版</td>\n",
       "      <td>个人版</td>\n",
       "      <td>605.00</td>\n",
       "      <td>众惠全能百万医疗保险2020款</td>\n",
       "      <td>个人版</td>\n",
       "    </tr>\n",
       "    <tr>\n",
       "      <th>3854</th>\n",
       "      <td>20200423150027564</td>\n",
       "      <td>375.0</td>\n",
       "      <td>华贵大麦正青春2020定期寿险</td>\n",
       "      <td>30年</td>\n",
       "      <td>78.00</td>\n",
       "      <td>复星联合爱无忧意外伤害保险</td>\n",
       "      <td>计划二</td>\n",
       "    </tr>\n",
       "    <tr>\n",
       "      <th>3855</th>\n",
       "      <td>20200423150027564</td>\n",
       "      <td>375.0</td>\n",
       "      <td>华贵大麦正青春2020定期寿险</td>\n",
       "      <td>30年</td>\n",
       "      <td>1196.40</td>\n",
       "      <td>华贵大麦2020定期寿险</td>\n",
       "      <td>10年</td>\n",
       "    </tr>\n",
       "    <tr>\n",
       "      <th>3856</th>\n",
       "      <td>20200423150025387</td>\n",
       "      <td>576.0</td>\n",
       "      <td>华贵大麦正青春2020定期寿险</td>\n",
       "      <td>30年</td>\n",
       "      <td>1395.00</td>\n",
       "      <td>华贵大麦2020定期寿险</td>\n",
       "      <td>10年</td>\n",
       "    </tr>\n",
       "    <tr>\n",
       "      <th>3858</th>\n",
       "      <td>202004231346157411</td>\n",
       "      <td>580.0</td>\n",
       "      <td>众惠全能百万医疗保险</td>\n",
       "      <td>个人版</td>\n",
       "      <td>235.00</td>\n",
       "      <td>安联住院宝保障计划(2019版)</td>\n",
       "      <td>10万</td>\n",
       "    </tr>\n",
       "    <tr>\n",
       "      <th>3860</th>\n",
       "      <td>202004237305680578</td>\n",
       "      <td>460.0</td>\n",
       "      <td>亚太守护意外保</td>\n",
       "      <td>100万</td>\n",
       "      <td>407.00</td>\n",
       "      <td>众安尊享e生2020版</td>\n",
       "      <td>个人版</td>\n",
       "    </tr>\n",
       "    <tr>\n",
       "      <th>3861</th>\n",
       "      <td>202004231126969573</td>\n",
       "      <td>939.0</td>\n",
       "      <td>泰康4-6类职业意外保险</td>\n",
       "      <td>30万元</td>\n",
       "      <td>930.00</td>\n",
       "      <td>人保高职业类别意外险(5-6类)</td>\n",
       "      <td>30万</td>\n",
       "    </tr>\n",
       "    <tr>\n",
       "      <th>3868</th>\n",
       "      <td>202004231131500947</td>\n",
       "      <td>200.0</td>\n",
       "      <td>亚太金典综合保障计划</td>\n",
       "      <td>经典版</td>\n",
       "      <td>100.00</td>\n",
       "      <td>亚太金典综合保障计划</td>\n",
       "      <td>基础版</td>\n",
       "    </tr>\n",
       "    <tr>\n",
       "      <th>3869</th>\n",
       "      <td>202004231037528930</td>\n",
       "      <td>300.0</td>\n",
       "      <td>易安退休乐-老年人意外险</td>\n",
       "      <td>20万</td>\n",
       "      <td>300.00</td>\n",
       "      <td>易安退休乐-老年人意外险</td>\n",
       "      <td>20万</td>\n",
       "    </tr>\n",
       "    <tr>\n",
       "      <th>3871</th>\n",
       "      <td>202004231539804178</td>\n",
       "      <td>309.0</td>\n",
       "      <td>众安尊享e生2020版</td>\n",
       "      <td>个人版</td>\n",
       "      <td>460.00</td>\n",
       "      <td>亚太全家保综合保障计划</td>\n",
       "      <td>2人</td>\n",
       "    </tr>\n",
       "    <tr>\n",
       "      <th>3878</th>\n",
       "      <td>202004255605815862</td>\n",
       "      <td>497.0</td>\n",
       "      <td>众惠全能百万医疗保险2020款</td>\n",
       "      <td>个人版</td>\n",
       "      <td>497.00</td>\n",
       "      <td>众惠全能百万医疗保险2020款</td>\n",
       "      <td>个人版</td>\n",
       "    </tr>\n",
       "    <tr>\n",
       "      <th>3879</th>\n",
       "      <td>202004259813009181</td>\n",
       "      <td>100.0</td>\n",
       "      <td>亚太金典综合保障计划</td>\n",
       "      <td>基础版</td>\n",
       "      <td>100.00</td>\n",
       "      <td>亚太金典综合保障计划</td>\n",
       "      <td>基础版</td>\n",
       "    </tr>\n",
       "    <tr>\n",
       "      <th>3881</th>\n",
       "      <td>20200426210048480</td>\n",
       "      <td>3780.0</td>\n",
       "      <td>华贵大麦正青春2020定期寿险</td>\n",
       "      <td>30年</td>\n",
       "      <td>1691.00</td>\n",
       "      <td>华贵大麦2020定期寿险</td>\n",
       "      <td>20年</td>\n",
       "    </tr>\n",
       "    <tr>\n",
       "      <th>3882</th>\n",
       "      <td>20200426210048480</td>\n",
       "      <td>3780.0</td>\n",
       "      <td>华贵大麦正青春2020定期寿险</td>\n",
       "      <td>30年</td>\n",
       "      <td>399.00</td>\n",
       "      <td>众惠全能百万医疗保险2020款</td>\n",
       "      <td>个人版</td>\n",
       "    </tr>\n",
       "    <tr>\n",
       "      <th>3885</th>\n",
       "      <td>202004267054507048</td>\n",
       "      <td>350.0</td>\n",
       "      <td>人保高职业类别意外险(5-6类)</td>\n",
       "      <td>10万</td>\n",
       "      <td>650.00</td>\n",
       "      <td>人保高职业类别意外险(5-6类)</td>\n",
       "      <td>20万</td>\n",
       "    </tr>\n",
       "    <tr>\n",
       "      <th>3890</th>\n",
       "      <td>202004261037454155</td>\n",
       "      <td>115.0</td>\n",
       "      <td>平安个人意外保障计划</td>\n",
       "      <td>10万元</td>\n",
       "      <td>235.00</td>\n",
       "      <td>平安个人意外保障计划</td>\n",
       "      <td>20万元</td>\n",
       "    </tr>\n",
       "  </tbody>\n",
       "</table>\n",
       "<p>2353 rows × 7 columns</p>\n",
       "</div>"
      ],
      "text/plain": [
       "                   order    bf_x                  pname_x plan_x     bf_y  \\\n",
       "0      20191229220030256   728.0        和谐健康慧馨安少儿定期重大疾病保险    20年    60.00   \n",
       "1      20191229220030256   728.0        和谐健康慧馨安少儿定期重大疾病保险    20年   928.00   \n",
       "2      20191229200025927  1210.0                 华贵大麦定期寿险    30年   720.00   \n",
       "3      20191229110006817  1248.0                 华贵大麦定期寿险    10年  1638.20   \n",
       "4      20191229110006255   778.0                 华贵大麦定期寿险    10年  1042.00   \n",
       "5      20191228220030202  3988.0       百年康惠保(2020版)重大疾病保险    30年  3870.00   \n",
       "6      20191228160019121  3430.0       百年康惠保(2020版)重大疾病保险    30年   486.00   \n",
       "7      20191228140012633   185.0                 华贵大麦定期寿险    10年   148.00   \n",
       "9      20191227210038574  1400.0              华贵大麦甜蜜家定期寿险    20年   369.00   \n",
       "10     20191227210038506  4845.0       百年康惠保(2020版)重大疾病保险    30年  4845.00   \n",
       "11     20191227200035548  2717.0    复星联合康乐一生（2019版）重大疾病保险    10年   571.00   \n",
       "12     20191227200035548  2717.0    复星联合康乐一生（2019版）重大疾病保险    10年  1320.00   \n",
       "13     20191227190033562  3020.0                 华贵大麦定期寿险    20年   460.00   \n",
       "14     20191227190033562  3020.0                 华贵大麦定期寿险    20年  1214.00   \n",
       "15     20191227140018111  1860.0                 华贵大麦定期寿险    20年   859.00   \n",
       "16     20191227120014144   990.0              华贵大麦正青春定期寿险    30年  1475.00   \n",
       "17     20191227110010738   420.0                 华贵大麦定期寿险    10年   335.00   \n",
       "18     20191227110010738   420.0                 华贵大麦定期寿险    10年   506.00   \n",
       "19     20191227100005604   856.0              百年超倍保重大疾病保险    30年    99.00   \n",
       "20     20191227090005156   230.0                 华贵大麦定期寿险    10年   188.00   \n",
       "21     20191227090005156   230.0                 华贵大麦定期寿险    10年   294.00   \n",
       "22     20191226200027707  2907.0       百年康惠保(2020版)重大疾病保险    30年   340.00   \n",
       "23     20191226150006171   930.0              华贵大麦正青春定期寿险    20年  1099.00   \n",
       "25     20191225130025375  9640.0       百年康惠保(2020版)重大疾病保险    20年  9640.00   \n",
       "27    201912291589994866    18.0               平安短期境内旅行保险    普通型    18.00   \n",
       "28    201912291493797905   400.0         孝欣保老年人综合意外保险2019    基础版   500.00   \n",
       "29    201912291493797905   400.0         孝欣保老年人综合意外保险2019    基础版   400.00   \n",
       "30    201912295893140126   509.0         孝欣保老年人综合意外保险2019    基础版   400.00   \n",
       "31    201912293006231207    17.0           人保赛事意外保险(非职业版)    经典版    20.00   \n",
       "32    201912293581608617    17.0           人保赛事意外保险(非职业版)    经典版    20.00   \n",
       "...                  ...     ...                      ...    ...      ...   \n",
       "3835   20200422090006547  1620.0          华贵大麦正青春2020定期寿险    30年  2333.97   \n",
       "3837  202004226627907037   856.0  众安安稳e生住院医疗险(糖尿病&高血压专属版)   安稳e生  5620.00   \n",
       "3839  202004222672957686   644.0          众惠全能百万医疗保险2020款    个人版   519.00   \n",
       "3840  202004229568940113   235.0               平安个人意外保障计划   20万元   258.00   \n",
       "3841  202004221035871503   115.0               平安个人意外保障计划   10万元   198.00   \n",
       "3842  202004221035871503   115.0               平安个人意外保障计划   10万元   235.00   \n",
       "3843  202004221035871503   115.0               平安个人意外保障计划   10万元   160.00   \n",
       "3845  202004221552236143  1740.0              众安尊享e生2020版    个人版   235.00   \n",
       "3846  202004221552236143  1740.0              众安尊享e生2020版    个人版  1005.00   \n",
       "3847  202004221552236143  1740.0              众安尊享e生2020版    个人版  1832.00   \n",
       "3848  202004223046316734   769.0              众安尊享e生2020版    个人版    60.00   \n",
       "3849  202004223046316734   769.0              众安尊享e生2020版    个人版   769.00   \n",
       "3850  202004221216424578   605.0          众惠全能百万医疗保险2020款    个人版   565.00   \n",
       "3851  202004223045621212   195.0          众惠全能百万医疗保险2020款    个人版   175.00   \n",
       "3852  202004225108640455   566.0              众安尊享e生2019版    个人版   605.00   \n",
       "3854   20200423150027564   375.0          华贵大麦正青春2020定期寿险    30年    78.00   \n",
       "3855   20200423150027564   375.0          华贵大麦正青春2020定期寿险    30年  1196.40   \n",
       "3856   20200423150025387   576.0          华贵大麦正青春2020定期寿险    30年  1395.00   \n",
       "3858  202004231346157411   580.0               众惠全能百万医疗保险    个人版   235.00   \n",
       "3860  202004237305680578   460.0                  亚太守护意外保   100万   407.00   \n",
       "3861  202004231126969573   939.0             泰康4-6类职业意外保险   30万元   930.00   \n",
       "3868  202004231131500947   200.0               亚太金典综合保障计划    经典版   100.00   \n",
       "3869  202004231037528930   300.0             易安退休乐-老年人意外险    20万   300.00   \n",
       "3871  202004231539804178   309.0              众安尊享e生2020版    个人版   460.00   \n",
       "3878  202004255605815862   497.0          众惠全能百万医疗保险2020款    个人版   497.00   \n",
       "3879  202004259813009181   100.0               亚太金典综合保障计划    基础版   100.00   \n",
       "3881   20200426210048480  3780.0          华贵大麦正青春2020定期寿险    30年  1691.00   \n",
       "3882   20200426210048480  3780.0          华贵大麦正青春2020定期寿险    30年   399.00   \n",
       "3885  202004267054507048   350.0         人保高职业类别意外险(5-6类)    10万   650.00   \n",
       "3890  202004261037454155   115.0               平安个人意外保障计划   10万元   235.00   \n",
       "\n",
       "                    pname_y plan_y  \n",
       "0         平安少儿意外伤害保障计划(升级版)    基础版  \n",
       "1         和谐健康慧馨安少儿定期重大疾病保险    20年  \n",
       "2               华贵大麦正青春定期寿险    30年  \n",
       "3              华贵大麦2020定期寿险    10年  \n",
       "4              华贵大麦2020定期寿险    10年  \n",
       "5        百年康惠保(2020版)重大疾病保险    20年  \n",
       "6               众安尊享e生2019版    个人版  \n",
       "7              华贵大麦2020定期寿险    10年  \n",
       "9             众惠全能百万医疗2019款    个人版  \n",
       "10       百年康惠保(2020版)重大疾病保险    30年  \n",
       "11             复星联合乐享一生医疗保险     5年  \n",
       "12    复星联合康乐一生（2019版）重大疾病保险    30年  \n",
       "13                  亚太守护意外保   100万  \n",
       "14             华贵大麦2020定期寿险    20年  \n",
       "15            众惠全能百万医疗2019款    个人版  \n",
       "16             华贵大麦2020定期寿险    30年  \n",
       "17             华贵大麦2020定期寿险    10年  \n",
       "18         平安e生保（保证续保版2020）  2020版  \n",
       "19             亚太大护法保险人保障计划    50万  \n",
       "20             华贵大麦2020定期寿险    10年  \n",
       "21         平安e生保（保证续保版2020）  2020版  \n",
       "22              众安女性尊享百万意外险   100万  \n",
       "23             华贵大麦2020定期寿险    20年  \n",
       "25       百年康惠保(2020版)重大疾病保险    20年  \n",
       "27               平安短期境内旅行保险    普通型  \n",
       "28                    安联不倒翁   标准计划  \n",
       "29             易安退休乐-老年人意外险    20万  \n",
       "30             易安退休乐-老年人意外险    20万  \n",
       "31           人保赛事意外保险(非职业版)    基础版  \n",
       "32           人保赛事意外保险(非职业版)    基础版  \n",
       "...                     ...    ...  \n",
       "3835             国富定海神柱定期寿险    30年  \n",
       "3837              昆仑康爱保疾病保险    20年  \n",
       "3839          众惠全能百万医疗2019款    个人版  \n",
       "3840                亚太守护意外保    50万  \n",
       "3841          复星联合爱无忧意外伤害保险    计划一  \n",
       "3842             平安个人意外保障计划   20万元  \n",
       "3843          众惠全能百万医疗（普惠版）    普惠版  \n",
       "3845             平安个人意外保障计划   20万元  \n",
       "3846              平安住院保保障计划    计划一  \n",
       "3847            众安尊享e生2020版    个人版  \n",
       "3848      平安少儿意外伤害保障计划(升级版)    基础版  \n",
       "3849            众安尊享e生2020版    个人版  \n",
       "3850          众惠全能百万医疗保险升级款    个人版  \n",
       "3851          众惠全能百万医疗保险升级款    个人版  \n",
       "3852        众惠全能百万医疗保险2020款    个人版  \n",
       "3854          复星联合爱无忧意外伤害保险    计划二  \n",
       "3855           华贵大麦2020定期寿险    10年  \n",
       "3856           华贵大麦2020定期寿险    10年  \n",
       "3858       安联住院宝保障计划(2019版)    10万  \n",
       "3860            众安尊享e生2020版    个人版  \n",
       "3861       人保高职业类别意外险(5-6类)    30万  \n",
       "3868             亚太金典综合保障计划    基础版  \n",
       "3869           易安退休乐-老年人意外险    20万  \n",
       "3871            亚太全家保综合保障计划     2人  \n",
       "3878        众惠全能百万医疗保险2020款    个人版  \n",
       "3879             亚太金典综合保障计划    基础版  \n",
       "3881           华贵大麦2020定期寿险    20年  \n",
       "3882        众惠全能百万医疗保险2020款    个人版  \n",
       "3885       人保高职业类别意外险(5-6类)    20万  \n",
       "3890             平安个人意外保障计划   20万元  \n",
       "\n",
       "[2353 rows x 7 columns]"
      ]
     },
     "execution_count": 72,
     "metadata": {},
     "output_type": "execute_result"
    }
   ],
   "source": [
    "res.loc[res.bf_y.notna(),['order','bf_x','pname_x','plan_x','bf_y','pname_y','plan_y']]"
   ]
  },
  {
   "cell_type": "markdown",
   "metadata": {},
   "source": [
    "## 寿险数据"
   ]
  },
  {
   "cell_type": "code",
   "execution_count": 37,
   "metadata": {
    "ExecuteTime": {
     "end_time": "2020-05-15T02:28:59.385629Z",
     "start_time": "2020-05-15T02:27:42.551095Z"
    }
   },
   "outputs": [],
   "source": [
    "order_life_20 = pd.read_excel(dir_order_life + 'order_life_20200514.xlsx',header=1)\n",
    "order_life_20.rename(columns = {'行政录入日期':'date_input' ,'投保人':'tb_name' ,'被保险人':'bb_name','退保日期':'date_tb'\n",
    "                              ,'现代理人编码':'ucode','标准保费':'bf','代理人所在机构':'area_type','险种名称':'pname'},inplace=True)\n",
    "order_life_20['mon'] = order_life_20.date_input.map(date_bus)"
   ]
  },
  {
   "cell_type": "code",
   "execution_count": 43,
   "metadata": {
    "ExecuteTime": {
     "end_time": "2020-05-15T02:30:15.845189Z",
     "start_time": "2020-05-15T02:30:15.831228Z"
    }
   },
   "outputs": [
    {
     "data": {
      "text/html": [
       "<div>\n",
       "<style scoped>\n",
       "    .dataframe tbody tr th:only-of-type {\n",
       "        vertical-align: middle;\n",
       "    }\n",
       "\n",
       "    .dataframe tbody tr th {\n",
       "        vertical-align: top;\n",
       "    }\n",
       "\n",
       "    .dataframe thead th {\n",
       "        text-align: right;\n",
       "    }\n",
       "</style>\n",
       "<table border=\"1\" class=\"dataframe\">\n",
       "  <thead>\n",
       "    <tr style=\"text-align: right;\">\n",
       "      <th></th>\n",
       "      <th>PROPOSALCONTNO</th>\n",
       "      <th>PERIODFLAG</th>\n",
       "      <th>INSUREPERIOD</th>\n",
       "      <th>INSURE_SEX</th>\n",
       "      <th>INSURE_AGE</th>\n",
       "      <th>INSURED_SEX</th>\n",
       "      <th>INSURED_AGE</th>\n",
       "    </tr>\n",
       "  </thead>\n",
       "  <tbody>\n",
       "    <tr>\n",
       "      <th>0</th>\n",
       "      <td>202031</td>\n",
       "      <td>1年</td>\n",
       "      <td>1年</td>\n",
       "      <td>女</td>\n",
       "      <td>25</td>\n",
       "      <td>女</td>\n",
       "      <td>25</td>\n",
       "    </tr>\n",
       "    <tr>\n",
       "      <th>1</th>\n",
       "      <td>310A1214328</td>\n",
       "      <td>1年</td>\n",
       "      <td>1年</td>\n",
       "      <td>女</td>\n",
       "      <td>44</td>\n",
       "      <td>女</td>\n",
       "      <td>44</td>\n",
       "    </tr>\n",
       "    <tr>\n",
       "      <th>2</th>\n",
       "      <td>672001000247728</td>\n",
       "      <td>1年</td>\n",
       "      <td>200年</td>\n",
       "      <td>女</td>\n",
       "      <td>56</td>\n",
       "      <td>女</td>\n",
       "      <td>56</td>\n",
       "    </tr>\n",
       "    <tr>\n",
       "      <th>3</th>\n",
       "      <td>672001000448896</td>\n",
       "      <td>1年</td>\n",
       "      <td>200年</td>\n",
       "      <td>女</td>\n",
       "      <td>36</td>\n",
       "      <td>女</td>\n",
       "      <td>7</td>\n",
       "    </tr>\n",
       "    <tr>\n",
       "      <th>4</th>\n",
       "      <td>600001267509001</td>\n",
       "      <td>5年</td>\n",
       "      <td>至200岁</td>\n",
       "      <td>女</td>\n",
       "      <td>30</td>\n",
       "      <td>女</td>\n",
       "      <td>30</td>\n",
       "    </tr>\n",
       "  </tbody>\n",
       "</table>\n",
       "</div>"
      ],
      "text/plain": [
       "    PROPOSALCONTNO PERIODFLAG INSUREPERIOD INSURE_SEX  INSURE_AGE INSURED_SEX  \\\n",
       "0           202031         1年           1年          女          25           女   \n",
       "1      310A1214328         1年           1年          女          44           女   \n",
       "2  672001000247728         1年         200年          女          56           女   \n",
       "3  672001000448896         1年         200年          女          36           女   \n",
       "4  600001267509001         5年        至200岁          女          30           女   \n",
       "\n",
       "   INSURED_AGE  \n",
       "0           25  \n",
       "1           44  \n",
       "2           56  \n",
       "3            7  \n",
       "4           30  "
      ]
     },
     "execution_count": 43,
     "metadata": {},
     "output_type": "execute_result"
    }
   ],
   "source": [
    "cust_all.head()"
   ]
  },
  {
   "cell_type": "code",
   "execution_count": 45,
   "metadata": {
    "ExecuteTime": {
     "end_time": "2020-05-15T02:30:50.844606Z",
     "start_time": "2020-05-15T02:30:50.806709Z"
    }
   },
   "outputs": [
    {
     "data": {
      "text/html": [
       "<div>\n",
       "<style scoped>\n",
       "    .dataframe tbody tr th:only-of-type {\n",
       "        vertical-align: middle;\n",
       "    }\n",
       "\n",
       "    .dataframe tbody tr th {\n",
       "        vertical-align: top;\n",
       "    }\n",
       "\n",
       "    .dataframe thead th {\n",
       "        text-align: right;\n",
       "    }\n",
       "</style>\n",
       "<table border=\"1\" class=\"dataframe\">\n",
       "  <thead>\n",
       "    <tr style=\"text-align: right;\">\n",
       "      <th></th>\n",
       "      <th>序号</th>\n",
       "      <th>保单状态</th>\n",
       "      <th>date_tb</th>\n",
       "      <th>回单日期</th>\n",
       "      <th>保单录入日期</th>\n",
       "      <th>承保日期</th>\n",
       "      <th>预收日期</th>\n",
       "      <th>date_input</th>\n",
       "      <th>销售团队代码</th>\n",
       "      <th>销售团队名称</th>\n",
       "      <th>...</th>\n",
       "      <th>机构</th>\n",
       "      <th>职级</th>\n",
       "      <th>入司日期.1</th>\n",
       "      <th>入司月</th>\n",
       "      <th>营业部代码.1</th>\n",
       "      <th>营业部名称.1</th>\n",
       "      <th>是否营业中心.1</th>\n",
       "      <th>师傅代码</th>\n",
       "      <th>师傅姓名</th>\n",
       "      <th>mon</th>\n",
       "    </tr>\n",
       "  </thead>\n",
       "  <tbody>\n",
       "  </tbody>\n",
       "</table>\n",
       "<p>0 rows × 84 columns</p>\n",
       "</div>"
      ],
      "text/plain": [
       "Empty DataFrame\n",
       "Columns: [序号, 保单状态, date_tb, 回单日期, 保单录入日期, 承保日期, 预收日期, date_input, 销售团队代码, 销售团队名称, 地区分类, 团队分类, 是否本部, 营业部代码, 营业部名称, 是否营业中心, 营业部所属批牌机构编码, 营业部所属批牌, 营业部类型, 代理人代码, 代理人姓名, 入司日期, 代理人职级, 业务合伙人级别, 经营合伙人级别, 经营团队总经理标志, 职业化标志, 推荐人代码, 推荐人姓名, 辅导人代码, 辅导人姓名, 经营合伙人代码, 经营合伙人姓名, 离职日期, ucode, 现代理人姓名, area_type, 原辅代理人姓名, 原辅代理人编码, 原辅代理人所在销售团队名称, 原辅代理人所在销售团队代码, 原辅代理人所在机构, 现辅代理人姓名, 现辅代理人编码, 现辅代理人所在销售团队名称, 现辅代理人所在销售团队代码, 是否自保件, 保险公司代码, 保险公司名称, 投保单号, 保单号, tb_name, bb_name, 险种代码, 外部险种代码, pname, 是否主险, 产品分类, 交费年期|年龄标志, 缴费期, 佣金率, 规模保费, bf, 保额, 保全标志, 是否纳入现代理人方案统计, 归属类型, 归属细类, 保单关系人, 代码, 姓名, 月份, 销服代码, 销服名称, 机构, 职级, 入司日期.1, 入司月, 营业部代码.1, 营业部名称.1, 是否营业中心.1, 师傅代码, 师傅姓名, mon]\n",
       "Index: []\n",
       "\n",
       "[0 rows x 84 columns]"
      ]
     },
     "execution_count": 45,
     "metadata": {},
     "output_type": "execute_result"
    }
   ],
   "source": [
    "order_life_20.loc[order_life_20.投保单号 =='202031']"
   ]
  },
  {
   "cell_type": "code",
   "execution_count": 46,
   "metadata": {
    "ExecuteTime": {
     "end_time": "2020-05-15T02:31:02.785686Z",
     "start_time": "2020-05-15T02:31:02.759747Z"
    }
   },
   "outputs": [
    {
     "data": {
      "text/html": [
       "<div>\n",
       "<style scoped>\n",
       "    .dataframe tbody tr th:only-of-type {\n",
       "        vertical-align: middle;\n",
       "    }\n",
       "\n",
       "    .dataframe tbody tr th {\n",
       "        vertical-align: top;\n",
       "    }\n",
       "\n",
       "    .dataframe thead th {\n",
       "        text-align: right;\n",
       "    }\n",
       "</style>\n",
       "<table border=\"1\" class=\"dataframe\">\n",
       "  <thead>\n",
       "    <tr style=\"text-align: right;\">\n",
       "      <th></th>\n",
       "      <th>序号</th>\n",
       "      <th>保单状态</th>\n",
       "      <th>date_tb</th>\n",
       "      <th>回单日期</th>\n",
       "      <th>保单录入日期</th>\n",
       "      <th>承保日期</th>\n",
       "      <th>预收日期</th>\n",
       "      <th>date_input</th>\n",
       "      <th>销售团队代码</th>\n",
       "      <th>销售团队名称</th>\n",
       "      <th>...</th>\n",
       "      <th>机构</th>\n",
       "      <th>职级</th>\n",
       "      <th>入司日期.1</th>\n",
       "      <th>入司月</th>\n",
       "      <th>营业部代码.1</th>\n",
       "      <th>营业部名称.1</th>\n",
       "      <th>是否营业中心.1</th>\n",
       "      <th>师傅代码</th>\n",
       "      <th>师傅姓名</th>\n",
       "      <th>mon</th>\n",
       "    </tr>\n",
       "  </thead>\n",
       "  <tbody>\n",
       "  </tbody>\n",
       "</table>\n",
       "<p>0 rows × 84 columns</p>\n",
       "</div>"
      ],
      "text/plain": [
       "Empty DataFrame\n",
       "Columns: [序号, 保单状态, date_tb, 回单日期, 保单录入日期, 承保日期, 预收日期, date_input, 销售团队代码, 销售团队名称, 地区分类, 团队分类, 是否本部, 营业部代码, 营业部名称, 是否营业中心, 营业部所属批牌机构编码, 营业部所属批牌, 营业部类型, 代理人代码, 代理人姓名, 入司日期, 代理人职级, 业务合伙人级别, 经营合伙人级别, 经营团队总经理标志, 职业化标志, 推荐人代码, 推荐人姓名, 辅导人代码, 辅导人姓名, 经营合伙人代码, 经营合伙人姓名, 离职日期, ucode, 现代理人姓名, area_type, 原辅代理人姓名, 原辅代理人编码, 原辅代理人所在销售团队名称, 原辅代理人所在销售团队代码, 原辅代理人所在机构, 现辅代理人姓名, 现辅代理人编码, 现辅代理人所在销售团队名称, 现辅代理人所在销售团队代码, 是否自保件, 保险公司代码, 保险公司名称, 投保单号, 保单号, tb_name, bb_name, 险种代码, 外部险种代码, pname, 是否主险, 产品分类, 交费年期|年龄标志, 缴费期, 佣金率, 规模保费, bf, 保额, 保全标志, 是否纳入现代理人方案统计, 归属类型, 归属细类, 保单关系人, 代码, 姓名, 月份, 销服代码, 销服名称, 机构, 职级, 入司日期.1, 入司月, 营业部代码.1, 营业部名称.1, 是否营业中心.1, 师傅代码, 师傅姓名, mon]\n",
       "Index: []\n",
       "\n",
       "[0 rows x 84 columns]"
      ]
     },
     "execution_count": 46,
     "metadata": {},
     "output_type": "execute_result"
    }
   ],
   "source": [
    "order_life_20.loc[order_life_20.保单号 =='202031']"
   ]
  },
  {
   "cell_type": "code",
   "execution_count": 42,
   "metadata": {
    "ExecuteTime": {
     "end_time": "2020-05-15T02:30:06.387478Z",
     "start_time": "2020-05-15T02:30:06.359580Z"
    }
   },
   "outputs": [
    {
     "data": {
      "text/html": [
       "<div>\n",
       "<style scoped>\n",
       "    .dataframe tbody tr th:only-of-type {\n",
       "        vertical-align: middle;\n",
       "    }\n",
       "\n",
       "    .dataframe tbody tr th {\n",
       "        vertical-align: top;\n",
       "    }\n",
       "\n",
       "    .dataframe thead th {\n",
       "        text-align: right;\n",
       "    }\n",
       "</style>\n",
       "<table border=\"1\" class=\"dataframe\">\n",
       "  <thead>\n",
       "    <tr style=\"text-align: right;\">\n",
       "      <th></th>\n",
       "      <th>投保单号</th>\n",
       "      <th>保单号</th>\n",
       "      <th>date_input</th>\n",
       "      <th>pname</th>\n",
       "    </tr>\n",
       "  </thead>\n",
       "  <tbody>\n",
       "    <tr>\n",
       "      <th>0</th>\n",
       "      <td>M110596589602488</td>\n",
       "      <td>110008437888</td>\n",
       "      <td>2020-05-10</td>\n",
       "      <td>光大永明童佳保尊享版重大疾病保险</td>\n",
       "    </tr>\n",
       "    <tr>\n",
       "      <th>1</th>\n",
       "      <td>662003000059078</td>\n",
       "      <td>500006985008</td>\n",
       "      <td>2020-03-26</td>\n",
       "      <td>信泰如意享六福版养老年金保险</td>\n",
       "    </tr>\n",
       "    <tr>\n",
       "      <th>2</th>\n",
       "      <td>1187011444234731</td>\n",
       "      <td>P000000080083204</td>\n",
       "      <td>2020-01-05</td>\n",
       "      <td>富德生命倍享健康重大疾病保险基本责任</td>\n",
       "    </tr>\n",
       "    <tr>\n",
       "      <th>3</th>\n",
       "      <td>662003000059092</td>\n",
       "      <td>500006990392</td>\n",
       "      <td>2020-03-27</td>\n",
       "      <td>信泰完美人生守护尊享版重大疾病保险</td>\n",
       "    </tr>\n",
       "    <tr>\n",
       "      <th>4</th>\n",
       "      <td>1033010000863584</td>\n",
       "      <td>8808120819600688</td>\n",
       "      <td>2020-01-17</td>\n",
       "      <td>华夏华夏福多倍2.0版重大疾病保险</td>\n",
       "    </tr>\n",
       "    <tr>\n",
       "      <th>5</th>\n",
       "      <td>00046629025203036</td>\n",
       "      <td>NaN</td>\n",
       "      <td>2020-05-07</td>\n",
       "      <td>天安人寿健康源2019增强版终身重大疾病保险</td>\n",
       "    </tr>\n",
       "    <tr>\n",
       "      <th>6</th>\n",
       "      <td>1033010000913455</td>\n",
       "      <td>8808119071011088</td>\n",
       "      <td>2020-03-20</td>\n",
       "      <td>华夏医保通普惠版医疗保险</td>\n",
       "    </tr>\n",
       "    <tr>\n",
       "      <th>7</th>\n",
       "      <td>M270512341303788</td>\n",
       "      <td>270001371588</td>\n",
       "      <td>2020-02-10</td>\n",
       "      <td>光大永明百万安康2019版医疗保险</td>\n",
       "    </tr>\n",
       "    <tr>\n",
       "      <th>8</th>\n",
       "      <td>600002219121001</td>\n",
       "      <td>648605000021906478</td>\n",
       "      <td>2020-03-28</td>\n",
       "      <td>附加恒久安心住院医疗保险</td>\n",
       "    </tr>\n",
       "    <tr>\n",
       "      <th>9</th>\n",
       "      <td>600001625584001</td>\n",
       "      <td>648604000015455128</td>\n",
       "      <td>2019-12-28</td>\n",
       "      <td>附加恒久安心住院医疗保险</td>\n",
       "    </tr>\n",
       "    <tr>\n",
       "      <th>10</th>\n",
       "      <td>600001899972001</td>\n",
       "      <td>648603000008223158</td>\n",
       "      <td>2020-02-10</td>\n",
       "      <td>恒大至尊保费用补偿医疗保险</td>\n",
       "    </tr>\n",
       "    <tr>\n",
       "      <th>11</th>\n",
       "      <td>600001935258001</td>\n",
       "      <td>648601000011914748</td>\n",
       "      <td>2020-02-19</td>\n",
       "      <td>恒大恒家保终身重大疾病保险</td>\n",
       "    </tr>\n",
       "    <tr>\n",
       "      <th>12</th>\n",
       "      <td>1005970010043678</td>\n",
       "      <td>8026000146527978</td>\n",
       "      <td>2020-02-29</td>\n",
       "      <td>阳光人寿臻爱倍致终身寿险</td>\n",
       "    </tr>\n",
       "    <tr>\n",
       "      <th>13</th>\n",
       "      <td>662003000063583</td>\n",
       "      <td>500007302118</td>\n",
       "      <td>2020-04-22</td>\n",
       "      <td>信泰完美人生守护尊享版重大疾病保险</td>\n",
       "    </tr>\n",
       "    <tr>\n",
       "      <th>14</th>\n",
       "      <td>1033010000915233</td>\n",
       "      <td>8808119102689288</td>\n",
       "      <td>2020-03-23</td>\n",
       "      <td>华夏华夏福多倍2.0版重大疾病保险</td>\n",
       "    </tr>\n",
       "    <tr>\n",
       "      <th>15</th>\n",
       "      <td>1801600000693438</td>\n",
       "      <td>8410101000312798</td>\n",
       "      <td>2020-01-01</td>\n",
       "      <td>百年康盛保终身重大疾病保险</td>\n",
       "    </tr>\n",
       "    <tr>\n",
       "      <th>16</th>\n",
       "      <td>600002301806001</td>\n",
       "      <td>618607000008587908</td>\n",
       "      <td>2020-04-05</td>\n",
       "      <td>附加恒久安心住院医疗保险</td>\n",
       "    </tr>\n",
       "    <tr>\n",
       "      <th>17</th>\n",
       "      <td>00045948824103036</td>\n",
       "      <td>00184583400908088</td>\n",
       "      <td>2020-03-04</td>\n",
       "      <td>天安人寿健康源2019增强版终身重大疾病保险</td>\n",
       "    </tr>\n",
       "    <tr>\n",
       "      <th>18</th>\n",
       "      <td>600001697982001</td>\n",
       "      <td>618602000030717038</td>\n",
       "      <td>2020-01-02</td>\n",
       "      <td>恒大恒家保终身重大疾病保险</td>\n",
       "    </tr>\n",
       "    <tr>\n",
       "      <th>19</th>\n",
       "      <td>00045967560103036</td>\n",
       "      <td>00184600089408088</td>\n",
       "      <td>2020-01-10</td>\n",
       "      <td>天安人寿鑫如意年金保险万能型</td>\n",
       "    </tr>\n",
       "    <tr>\n",
       "      <th>20</th>\n",
       "      <td>600002564959001</td>\n",
       "      <td>648606000025734938</td>\n",
       "      <td>2020-05-04</td>\n",
       "      <td>附加恒久安心住院医疗保险</td>\n",
       "    </tr>\n",
       "    <tr>\n",
       "      <th>21</th>\n",
       "      <td>A51102100799119</td>\n",
       "      <td>P972000487378</td>\n",
       "      <td>2020-03-17</td>\n",
       "      <td>横琴琴童尊享增额终身寿险</td>\n",
       "    </tr>\n",
       "    <tr>\n",
       "      <th>22</th>\n",
       "      <td>D000000000113172</td>\n",
       "      <td>86130120200003838286</td>\n",
       "      <td>2020-02-25</td>\n",
       "      <td>中华福卓越版终身重大疾病保险</td>\n",
       "    </tr>\n",
       "    <tr>\n",
       "      <th>23</th>\n",
       "      <td>662003000051653</td>\n",
       "      <td>500006570558</td>\n",
       "      <td>2020-01-31</td>\n",
       "      <td>信泰附加安享无忧住院费用补偿医疗保险</td>\n",
       "    </tr>\n",
       "    <tr>\n",
       "      <th>24</th>\n",
       "      <td>600002043002001</td>\n",
       "      <td>648602000035819778</td>\n",
       "      <td>2020-03-09</td>\n",
       "      <td>恒大附加恒顺意外医疗保险</td>\n",
       "    </tr>\n",
       "    <tr>\n",
       "      <th>25</th>\n",
       "      <td>1801600000725931</td>\n",
       "      <td>9510101004093978</td>\n",
       "      <td>2020-01-28</td>\n",
       "      <td>百年医惠通费用补偿医疗保险</td>\n",
       "    </tr>\n",
       "    <tr>\n",
       "      <th>26</th>\n",
       "      <td>662003000062141</td>\n",
       "      <td>500007212465</td>\n",
       "      <td>2020-04-14</td>\n",
       "      <td>信泰完美人生守护尊享版重大疾病保险</td>\n",
       "    </tr>\n",
       "    <tr>\n",
       "      <th>27</th>\n",
       "      <td>600001916873001</td>\n",
       "      <td>648602000034397598</td>\n",
       "      <td>2020-02-14</td>\n",
       "      <td>恒大附加投保人豁免保险费重大疾病保险2018版</td>\n",
       "    </tr>\n",
       "    <tr>\n",
       "      <th>28</th>\n",
       "      <td>600002575382001</td>\n",
       "      <td>648602000042970308</td>\n",
       "      <td>2020-05-05</td>\n",
       "      <td>附加恒久安心住院医疗保险</td>\n",
       "    </tr>\n",
       "    <tr>\n",
       "      <th>29</th>\n",
       "      <td>662003000059552</td>\n",
       "      <td>500007019381</td>\n",
       "      <td>2020-03-29</td>\n",
       "      <td>信泰完美人生守护尊享版重大疾病保险</td>\n",
       "    </tr>\n",
       "    <tr>\n",
       "      <th>...</th>\n",
       "      <td>...</td>\n",
       "      <td>...</td>\n",
       "      <td>...</td>\n",
       "      <td>...</td>\n",
       "    </tr>\n",
       "    <tr>\n",
       "      <th>107208</th>\n",
       "      <td>662003000053208</td>\n",
       "      <td>500006675282</td>\n",
       "      <td>2020-02-26</td>\n",
       "      <td>信泰附加投保人豁免保险费重大疾病保险</td>\n",
       "    </tr>\n",
       "    <tr>\n",
       "      <th>107209</th>\n",
       "      <td>662003000063507</td>\n",
       "      <td>500007296526</td>\n",
       "      <td>2020-04-22</td>\n",
       "      <td>信泰附加安享无忧意外伤害保险</td>\n",
       "    </tr>\n",
       "    <tr>\n",
       "      <th>107210</th>\n",
       "      <td>1801600000797123</td>\n",
       "      <td>8410101000316718</td>\n",
       "      <td>2020-04-13</td>\n",
       "      <td>百年康多保终身重大疾病保险</td>\n",
       "    </tr>\n",
       "    <tr>\n",
       "      <th>107211</th>\n",
       "      <td>M370502823181288</td>\n",
       "      <td>370007232988</td>\n",
       "      <td>2020-01-18</td>\n",
       "      <td>光大永明意外费用补偿2018版医疗保险</td>\n",
       "    </tr>\n",
       "    <tr>\n",
       "      <th>107212</th>\n",
       "      <td>600001741613001</td>\n",
       "      <td>648606000021133638</td>\n",
       "      <td>2020-01-08</td>\n",
       "      <td>恒大附加尊享安康费用补偿医疗保险</td>\n",
       "    </tr>\n",
       "    <tr>\n",
       "      <th>107213</th>\n",
       "      <td>662003000056092</td>\n",
       "      <td>500006838096</td>\n",
       "      <td>2020-03-14</td>\n",
       "      <td>信泰附加投保人豁免保险费重大疾病保险</td>\n",
       "    </tr>\n",
       "    <tr>\n",
       "      <th>107214</th>\n",
       "      <td>600001838978001</td>\n",
       "      <td>648602000033363418</td>\n",
       "      <td>2020-01-22</td>\n",
       "      <td>附加恒久安心住院医疗保险</td>\n",
       "    </tr>\n",
       "    <tr>\n",
       "      <th>107215</th>\n",
       "      <td>600002629715001</td>\n",
       "      <td>648609000005938188</td>\n",
       "      <td>2020-05-09</td>\n",
       "      <td>恒大恒家保终身重大疾病保险</td>\n",
       "    </tr>\n",
       "    <tr>\n",
       "      <th>107216</th>\n",
       "      <td>662003000066267</td>\n",
       "      <td>500007484379</td>\n",
       "      <td>2020-05-06</td>\n",
       "      <td>信泰完美人生守护尊享版重大疾病保险</td>\n",
       "    </tr>\n",
       "    <tr>\n",
       "      <th>107217</th>\n",
       "      <td>00045943713703036</td>\n",
       "      <td>00184447656208088</td>\n",
       "      <td>2020-03-23</td>\n",
       "      <td>天安人寿健康源2019增强版终身重大疾病保险</td>\n",
       "    </tr>\n",
       "    <tr>\n",
       "      <th>107218</th>\n",
       "      <td>M510535392071288</td>\n",
       "      <td>510010082288</td>\n",
       "      <td>2020-04-16</td>\n",
       "      <td>光大永明童佳保尊享版重大疾病保险</td>\n",
       "    </tr>\n",
       "    <tr>\n",
       "      <th>107219</th>\n",
       "      <td>J000059540</td>\n",
       "      <td>0620013015</td>\n",
       "      <td>2020-01-06</td>\n",
       "      <td>附加投保人豁免保费重大疾病保险B款</td>\n",
       "    </tr>\n",
       "    <tr>\n",
       "      <th>107220</th>\n",
       "      <td>1033010000919635</td>\n",
       "      <td>8808121423856488</td>\n",
       "      <td>2020-03-30</td>\n",
       "      <td>华夏附加质子重离子医疗保险</td>\n",
       "    </tr>\n",
       "    <tr>\n",
       "      <th>107221</th>\n",
       "      <td>1033010000894941</td>\n",
       "      <td>8808120852078588</td>\n",
       "      <td>2020-01-20</td>\n",
       "      <td>华夏华夏红钻石版年金保险</td>\n",
       "    </tr>\n",
       "    <tr>\n",
       "      <th>107222</th>\n",
       "      <td>1033010000933445</td>\n",
       "      <td>8808119419469288</td>\n",
       "      <td>2020-04-27</td>\n",
       "      <td>华夏华夏红钻石版年金保险</td>\n",
       "    </tr>\n",
       "    <tr>\n",
       "      <th>107223</th>\n",
       "      <td>662003000061893</td>\n",
       "      <td>500007191305</td>\n",
       "      <td>2020-04-12</td>\n",
       "      <td>信泰附加投保人豁免保险费重大疾病保险</td>\n",
       "    </tr>\n",
       "    <tr>\n",
       "      <th>107224</th>\n",
       "      <td>00045942122003036</td>\n",
       "      <td>00184579084708088</td>\n",
       "      <td>2020-03-26</td>\n",
       "      <td>天安人寿健康易享医疗保险</td>\n",
       "    </tr>\n",
       "    <tr>\n",
       "      <th>107225</th>\n",
       "      <td>600001754438001</td>\n",
       "      <td>648607000021313538</td>\n",
       "      <td>2020-01-10</td>\n",
       "      <td>恒大恒家保终身重大疾病保险</td>\n",
       "    </tr>\n",
       "    <tr>\n",
       "      <th>107226</th>\n",
       "      <td>600002341719001</td>\n",
       "      <td>648602900000501648</td>\n",
       "      <td>2020-04-10</td>\n",
       "      <td>附加恒久安心住院医疗保险</td>\n",
       "    </tr>\n",
       "    <tr>\n",
       "      <th>107227</th>\n",
       "      <td>1801600000811993</td>\n",
       "      <td>9410101006139598</td>\n",
       "      <td>2020-04-28</td>\n",
       "      <td>百年医惠通费用补偿医疗保险</td>\n",
       "    </tr>\n",
       "    <tr>\n",
       "      <th>107228</th>\n",
       "      <td>1801600000806209</td>\n",
       "      <td>9210101006004988</td>\n",
       "      <td>2020-04-23</td>\n",
       "      <td>百年康多保终身重大疾病保险</td>\n",
       "    </tr>\n",
       "    <tr>\n",
       "      <th>107229</th>\n",
       "      <td>600001840198001</td>\n",
       "      <td>618606000016715488</td>\n",
       "      <td>2020-01-23</td>\n",
       "      <td>恒大恒家保终身重大疾病保险</td>\n",
       "    </tr>\n",
       "    <tr>\n",
       "      <th>107230</th>\n",
       "      <td>600001615525001</td>\n",
       "      <td>618605000015099308</td>\n",
       "      <td>2019-12-27</td>\n",
       "      <td>恒大附加尊享安康费用补偿医疗保险</td>\n",
       "    </tr>\n",
       "    <tr>\n",
       "      <th>107231</th>\n",
       "      <td>662003000065731</td>\n",
       "      <td>500007452335</td>\n",
       "      <td>2020-05-02</td>\n",
       "      <td>信泰附加安享无忧意外伤害保险</td>\n",
       "    </tr>\n",
       "    <tr>\n",
       "      <th>107232</th>\n",
       "      <td>600001951321001</td>\n",
       "      <td>648608000013494948</td>\n",
       "      <td>2020-02-23</td>\n",
       "      <td>附加恒久安心住院医疗保险</td>\n",
       "    </tr>\n",
       "    <tr>\n",
       "      <th>107233</th>\n",
       "      <td>662003000058160</td>\n",
       "      <td>500006944001</td>\n",
       "      <td>2020-03-24</td>\n",
       "      <td>信泰完美人生守护尊享版重大疾病保险</td>\n",
       "    </tr>\n",
       "    <tr>\n",
       "      <th>107234</th>\n",
       "      <td>1801600000756576</td>\n",
       "      <td>8610101000177868</td>\n",
       "      <td>2020-03-08</td>\n",
       "      <td>百年附加康佑保意外伤害医疗保险</td>\n",
       "    </tr>\n",
       "    <tr>\n",
       "      <th>107235</th>\n",
       "      <td>1801600000817847</td>\n",
       "      <td>NaN</td>\n",
       "      <td>2020-05-03</td>\n",
       "      <td>百年附加安康保住院医疗保险</td>\n",
       "    </tr>\n",
       "    <tr>\n",
       "      <th>107236</th>\n",
       "      <td>600001777241001</td>\n",
       "      <td>618606000016419868</td>\n",
       "      <td>2020-01-14</td>\n",
       "      <td>恒大附加投保人豁免保险费重大疾病保险2018版</td>\n",
       "    </tr>\n",
       "    <tr>\n",
       "      <th>107237</th>\n",
       "      <td>02070088262399069</td>\n",
       "      <td>NaN</td>\n",
       "      <td>2020-04-27</td>\n",
       "      <td>星满意重大疾病保险</td>\n",
       "    </tr>\n",
       "  </tbody>\n",
       "</table>\n",
       "<p>107238 rows × 4 columns</p>\n",
       "</div>"
      ],
      "text/plain": [
       "                     投保单号                   保单号 date_input  \\\n",
       "0        M110596589602488          110008437888 2020-05-10   \n",
       "1         662003000059078          500006985008 2020-03-26   \n",
       "2        1187011444234731      P000000080083204 2020-01-05   \n",
       "3         662003000059092          500006990392 2020-03-27   \n",
       "4        1033010000863584      8808120819600688 2020-01-17   \n",
       "5       00046629025203036                   NaN 2020-05-07   \n",
       "6        1033010000913455      8808119071011088 2020-03-20   \n",
       "7        M270512341303788          270001371588 2020-02-10   \n",
       "8         600002219121001    648605000021906478 2020-03-28   \n",
       "9         600001625584001    648604000015455128 2019-12-28   \n",
       "10        600001899972001    648603000008223158 2020-02-10   \n",
       "11        600001935258001    648601000011914748 2020-02-19   \n",
       "12       1005970010043678      8026000146527978 2020-02-29   \n",
       "13        662003000063583          500007302118 2020-04-22   \n",
       "14       1033010000915233      8808119102689288 2020-03-23   \n",
       "15       1801600000693438      8410101000312798 2020-01-01   \n",
       "16        600002301806001    618607000008587908 2020-04-05   \n",
       "17      00045948824103036     00184583400908088 2020-03-04   \n",
       "18        600001697982001    618602000030717038 2020-01-02   \n",
       "19      00045967560103036     00184600089408088 2020-01-10   \n",
       "20        600002564959001    648606000025734938 2020-05-04   \n",
       "21        A51102100799119         P972000487378 2020-03-17   \n",
       "22       D000000000113172  86130120200003838286 2020-02-25   \n",
       "23        662003000051653          500006570558 2020-01-31   \n",
       "24        600002043002001    648602000035819778 2020-03-09   \n",
       "25       1801600000725931      9510101004093978 2020-01-28   \n",
       "26        662003000062141          500007212465 2020-04-14   \n",
       "27        600001916873001    648602000034397598 2020-02-14   \n",
       "28        600002575382001    648602000042970308 2020-05-05   \n",
       "29        662003000059552          500007019381 2020-03-29   \n",
       "...                   ...                   ...        ...   \n",
       "107208    662003000053208          500006675282 2020-02-26   \n",
       "107209    662003000063507          500007296526 2020-04-22   \n",
       "107210   1801600000797123      8410101000316718 2020-04-13   \n",
       "107211   M370502823181288          370007232988 2020-01-18   \n",
       "107212    600001741613001    648606000021133638 2020-01-08   \n",
       "107213    662003000056092          500006838096 2020-03-14   \n",
       "107214    600001838978001    648602000033363418 2020-01-22   \n",
       "107215    600002629715001    648609000005938188 2020-05-09   \n",
       "107216    662003000066267          500007484379 2020-05-06   \n",
       "107217  00045943713703036     00184447656208088 2020-03-23   \n",
       "107218   M510535392071288          510010082288 2020-04-16   \n",
       "107219         J000059540            0620013015 2020-01-06   \n",
       "107220   1033010000919635      8808121423856488 2020-03-30   \n",
       "107221   1033010000894941      8808120852078588 2020-01-20   \n",
       "107222   1033010000933445      8808119419469288 2020-04-27   \n",
       "107223    662003000061893          500007191305 2020-04-12   \n",
       "107224  00045942122003036     00184579084708088 2020-03-26   \n",
       "107225    600001754438001    648607000021313538 2020-01-10   \n",
       "107226    600002341719001    648602900000501648 2020-04-10   \n",
       "107227   1801600000811993      9410101006139598 2020-04-28   \n",
       "107228   1801600000806209      9210101006004988 2020-04-23   \n",
       "107229    600001840198001    618606000016715488 2020-01-23   \n",
       "107230    600001615525001    618605000015099308 2019-12-27   \n",
       "107231    662003000065731          500007452335 2020-05-02   \n",
       "107232    600001951321001    648608000013494948 2020-02-23   \n",
       "107233    662003000058160          500006944001 2020-03-24   \n",
       "107234   1801600000756576      8610101000177868 2020-03-08   \n",
       "107235   1801600000817847                   NaN 2020-05-03   \n",
       "107236    600001777241001    618606000016419868 2020-01-14   \n",
       "107237  02070088262399069                   NaN 2020-04-27   \n",
       "\n",
       "                          pname  \n",
       "0              光大永明童佳保尊享版重大疾病保险  \n",
       "1                信泰如意享六福版养老年金保险  \n",
       "2            富德生命倍享健康重大疾病保险基本责任  \n",
       "3             信泰完美人生守护尊享版重大疾病保险  \n",
       "4             华夏华夏福多倍2.0版重大疾病保险  \n",
       "5        天安人寿健康源2019增强版终身重大疾病保险  \n",
       "6                  华夏医保通普惠版医疗保险  \n",
       "7             光大永明百万安康2019版医疗保险  \n",
       "8                  附加恒久安心住院医疗保险  \n",
       "9                  附加恒久安心住院医疗保险  \n",
       "10                恒大至尊保费用补偿医疗保险  \n",
       "11                恒大恒家保终身重大疾病保险  \n",
       "12                 阳光人寿臻爱倍致终身寿险  \n",
       "13            信泰完美人生守护尊享版重大疾病保险  \n",
       "14            华夏华夏福多倍2.0版重大疾病保险  \n",
       "15                百年康盛保终身重大疾病保险  \n",
       "16                 附加恒久安心住院医疗保险  \n",
       "17       天安人寿健康源2019增强版终身重大疾病保险  \n",
       "18                恒大恒家保终身重大疾病保险  \n",
       "19               天安人寿鑫如意年金保险万能型  \n",
       "20                 附加恒久安心住院医疗保险  \n",
       "21                 横琴琴童尊享增额终身寿险  \n",
       "22               中华福卓越版终身重大疾病保险  \n",
       "23           信泰附加安享无忧住院费用补偿医疗保险  \n",
       "24                 恒大附加恒顺意外医疗保险  \n",
       "25                百年医惠通费用补偿医疗保险  \n",
       "26            信泰完美人生守护尊享版重大疾病保险  \n",
       "27      恒大附加投保人豁免保险费重大疾病保险2018版  \n",
       "28                 附加恒久安心住院医疗保险  \n",
       "29            信泰完美人生守护尊享版重大疾病保险  \n",
       "...                         ...  \n",
       "107208       信泰附加投保人豁免保险费重大疾病保险  \n",
       "107209           信泰附加安享无忧意外伤害保险  \n",
       "107210            百年康多保终身重大疾病保险  \n",
       "107211      光大永明意外费用补偿2018版医疗保险  \n",
       "107212         恒大附加尊享安康费用补偿医疗保险  \n",
       "107213       信泰附加投保人豁免保险费重大疾病保险  \n",
       "107214             附加恒久安心住院医疗保险  \n",
       "107215            恒大恒家保终身重大疾病保险  \n",
       "107216        信泰完美人生守护尊享版重大疾病保险  \n",
       "107217   天安人寿健康源2019增强版终身重大疾病保险  \n",
       "107218         光大永明童佳保尊享版重大疾病保险  \n",
       "107219        附加投保人豁免保费重大疾病保险B款  \n",
       "107220            华夏附加质子重离子医疗保险  \n",
       "107221             华夏华夏红钻石版年金保险  \n",
       "107222             华夏华夏红钻石版年金保险  \n",
       "107223       信泰附加投保人豁免保险费重大疾病保险  \n",
       "107224             天安人寿健康易享医疗保险  \n",
       "107225            恒大恒家保终身重大疾病保险  \n",
       "107226             附加恒久安心住院医疗保险  \n",
       "107227            百年医惠通费用补偿医疗保险  \n",
       "107228            百年康多保终身重大疾病保险  \n",
       "107229            恒大恒家保终身重大疾病保险  \n",
       "107230         恒大附加尊享安康费用补偿医疗保险  \n",
       "107231           信泰附加安享无忧意外伤害保险  \n",
       "107232             附加恒久安心住院医疗保险  \n",
       "107233        信泰完美人生守护尊享版重大疾病保险  \n",
       "107234          百年附加康佑保意外伤害医疗保险  \n",
       "107235            百年附加安康保住院医疗保险  \n",
       "107236  恒大附加投保人豁免保险费重大疾病保险2018版  \n",
       "107237                星满意重大疾病保险  \n",
       "\n",
       "[107238 rows x 4 columns]"
      ]
     },
     "execution_count": 42,
     "metadata": {},
     "output_type": "execute_result"
    }
   ],
   "source": [
    "order_life_20[['投保单号','保单号','date_input','pname']]"
   ]
  },
  {
   "cell_type": "markdown",
   "metadata": {},
   "source": [
    "## 峰会新单预警"
   ]
  },
  {
   "cell_type": "code",
   "execution_count": 57,
   "metadata": {
    "ExecuteTime": {
     "end_time": "2020-05-15T02:47:28.830410Z",
     "start_time": "2020-05-15T02:47:28.281879Z"
    }
   },
   "outputs": [],
   "source": [
    "user_fh = order_20.loc[order_20.is_renew =='新单',:].groupby(['uid']).bf.sum().reset_index().sort_values('bf',ascending=False)"
   ]
  },
  {
   "cell_type": "code",
   "execution_count": 59,
   "metadata": {
    "ExecuteTime": {
     "end_time": "2020-05-15T02:48:14.756641Z",
     "start_time": "2020-05-15T02:48:14.729682Z"
    }
   },
   "outputs": [],
   "source": [
    "user_all.rename(columns={'用户ID':'uid'},inplace=True)"
   ]
  },
  {
   "cell_type": "code",
   "execution_count": 64,
   "metadata": {
    "ExecuteTime": {
     "end_time": "2020-05-15T02:49:49.839488Z",
     "start_time": "2020-05-15T02:49:43.978049Z"
    }
   },
   "outputs": [],
   "source": [
    "res = pd.merge(user_fh,user_all,how='left',on='uid')\n",
    "res.loc[res.工号.notna(),:].to_excel('12.xlsx')"
   ]
  },
  {
   "cell_type": "code",
   "execution_count": 60,
   "metadata": {
    "ExecuteTime": {
     "end_time": "2020-05-15T02:48:18.309140Z",
     "start_time": "2020-05-15T02:48:18.278241Z"
    }
   },
   "outputs": [
    {
     "data": {
      "text/html": [
       "<div>\n",
       "<style scoped>\n",
       "    .dataframe tbody tr th:only-of-type {\n",
       "        vertical-align: middle;\n",
       "    }\n",
       "\n",
       "    .dataframe tbody tr th {\n",
       "        vertical-align: top;\n",
       "    }\n",
       "\n",
       "    .dataframe thead th {\n",
       "        text-align: right;\n",
       "    }\n",
       "</style>\n",
       "<table border=\"1\" class=\"dataframe\">\n",
       "  <thead>\n",
       "    <tr style=\"text-align: right;\">\n",
       "      <th></th>\n",
       "      <th>ID</th>\n",
       "      <th>uid</th>\n",
       "      <th>工号</th>\n",
       "      <th>姓名</th>\n",
       "      <th>性别</th>\n",
       "      <th>年龄</th>\n",
       "      <th>LOCATIONNAME</th>\n",
       "      <th>MGMTDIVISIONNAME</th>\n",
       "    </tr>\n",
       "  </thead>\n",
       "  <tbody>\n",
       "    <tr>\n",
       "      <th>0</th>\n",
       "      <td>1</td>\n",
       "      <td>c1bfc8aadf1047bfa38270c09f533e08</td>\n",
       "      <td>640284553.0</td>\n",
       "      <td>季成龙</td>\n",
       "      <td>男</td>\n",
       "      <td>32.0</td>\n",
       "      <td>大童上海区域中心</td>\n",
       "      <td>上海市区营业部</td>\n",
       "    </tr>\n",
       "    <tr>\n",
       "      <th>1</th>\n",
       "      <td>2</td>\n",
       "      <td>c33d709448a5446e9fb3bc1e6264e8ca</td>\n",
       "      <td>640284555.0</td>\n",
       "      <td>何春坪</td>\n",
       "      <td>男</td>\n",
       "      <td>38.0</td>\n",
       "      <td>大童四川区域中心</td>\n",
       "      <td>四川本部营业部</td>\n",
       "    </tr>\n",
       "    <tr>\n",
       "      <th>2</th>\n",
       "      <td>3</td>\n",
       "      <td>d394783e39ba443fb636a46bf2b89a89</td>\n",
       "      <td>640284556.0</td>\n",
       "      <td>窦剑武</td>\n",
       "      <td>男</td>\n",
       "      <td>38.0</td>\n",
       "      <td>大童辽宁区域中心</td>\n",
       "      <td>大童辽宁红兴车世界营业部</td>\n",
       "    </tr>\n",
       "    <tr>\n",
       "      <th>3</th>\n",
       "      <td>4</td>\n",
       "      <td>9b052accef394087a66140f6908101af</td>\n",
       "      <td>640284563.0</td>\n",
       "      <td>杨金玲</td>\n",
       "      <td>女</td>\n",
       "      <td>40.0</td>\n",
       "      <td>大童辽宁区域中心</td>\n",
       "      <td>辽宁本部营业部</td>\n",
       "    </tr>\n",
       "    <tr>\n",
       "      <th>4</th>\n",
       "      <td>5</td>\n",
       "      <td>e6e836c5abb7468bad6132faeefa4203</td>\n",
       "      <td>640284565.0</td>\n",
       "      <td>张慧霞</td>\n",
       "      <td>女</td>\n",
       "      <td>30.0</td>\n",
       "      <td>大童青岛区域中心</td>\n",
       "      <td>青岛西海岸营业部</td>\n",
       "    </tr>\n",
       "    <tr>\n",
       "      <th>5</th>\n",
       "      <td>6</td>\n",
       "      <td>2754e7176d354573a91bb253bd42fdc5</td>\n",
       "      <td>640284566.0</td>\n",
       "      <td>沈杰</td>\n",
       "      <td>女</td>\n",
       "      <td>36.0</td>\n",
       "      <td>大童北京区域中心</td>\n",
       "      <td>北京朝阳营业部</td>\n",
       "    </tr>\n",
       "    <tr>\n",
       "      <th>6</th>\n",
       "      <td>7</td>\n",
       "      <td>28de87a5da6d4b21be0423119ef8a768</td>\n",
       "      <td>640284567.0</td>\n",
       "      <td>关银强</td>\n",
       "      <td>男</td>\n",
       "      <td>38.0</td>\n",
       "      <td>大童大连区域中心</td>\n",
       "      <td>大连市区营业部</td>\n",
       "    </tr>\n",
       "    <tr>\n",
       "      <th>7</th>\n",
       "      <td>8</td>\n",
       "      <td>6758c3ecda7049839f2bd4480249a293</td>\n",
       "      <td>640290846.0</td>\n",
       "      <td>张红霞</td>\n",
       "      <td>女</td>\n",
       "      <td>34.0</td>\n",
       "      <td>大童北京区域中心</td>\n",
       "      <td>北京市区营业部</td>\n",
       "    </tr>\n",
       "    <tr>\n",
       "      <th>8</th>\n",
       "      <td>9</td>\n",
       "      <td>f124a25fc7a24c51957b66df7f27e520</td>\n",
       "      <td>640290849.0</td>\n",
       "      <td>吴咏梅</td>\n",
       "      <td>女</td>\n",
       "      <td>53.0</td>\n",
       "      <td>大童云南区域中心</td>\n",
       "      <td>云南E营业部</td>\n",
       "    </tr>\n",
       "    <tr>\n",
       "      <th>9</th>\n",
       "      <td>10</td>\n",
       "      <td>70e74bd9346d4479aeab15ea2f8972a3</td>\n",
       "      <td>640286392.0</td>\n",
       "      <td>曾祥俊</td>\n",
       "      <td>女</td>\n",
       "      <td>50.0</td>\n",
       "      <td>大童四川区域中心</td>\n",
       "      <td>四川本部营业部</td>\n",
       "    </tr>\n",
       "    <tr>\n",
       "      <th>10</th>\n",
       "      <td>11</td>\n",
       "      <td>aaafbdc8bac447a0a73ed4581b7e4739</td>\n",
       "      <td>640286393.0</td>\n",
       "      <td>刘少春</td>\n",
       "      <td>女</td>\n",
       "      <td>40.0</td>\n",
       "      <td>大童内蒙古区域中心</td>\n",
       "      <td>内蒙古呼和浩特营业部</td>\n",
       "    </tr>\n",
       "    <tr>\n",
       "      <th>11</th>\n",
       "      <td>12</td>\n",
       "      <td>0b822b37a2174c9e9039de5e94e9f7b7</td>\n",
       "      <td>640286395.0</td>\n",
       "      <td>康彩霞</td>\n",
       "      <td>女</td>\n",
       "      <td>29.0</td>\n",
       "      <td>大童内蒙古区域中心</td>\n",
       "      <td>内蒙古呼和浩特营业部</td>\n",
       "    </tr>\n",
       "    <tr>\n",
       "      <th>12</th>\n",
       "      <td>13</td>\n",
       "      <td>6bc390a56074499bbf07d056f323d0ca</td>\n",
       "      <td>640286397.0</td>\n",
       "      <td>王非</td>\n",
       "      <td>男</td>\n",
       "      <td>33.0</td>\n",
       "      <td>大童安徽区域中心</td>\n",
       "      <td>安徽本部营业部</td>\n",
       "    </tr>\n",
       "    <tr>\n",
       "      <th>13</th>\n",
       "      <td>14</td>\n",
       "      <td>41cf249ea0ac4cd0a7fe0c4196e1e42e</td>\n",
       "      <td>640282111.0</td>\n",
       "      <td>王艳</td>\n",
       "      <td>女</td>\n",
       "      <td>44.0</td>\n",
       "      <td>大童河北区域中心</td>\n",
       "      <td>河北秦皇岛营业部</td>\n",
       "    </tr>\n",
       "    <tr>\n",
       "      <th>14</th>\n",
       "      <td>15</td>\n",
       "      <td>85be56f129444b109a99b6c716f39b57</td>\n",
       "      <td>640282112.0</td>\n",
       "      <td>武媛媛</td>\n",
       "      <td>女</td>\n",
       "      <td>35.0</td>\n",
       "      <td>大童内蒙古区域中心</td>\n",
       "      <td>内蒙古呼和浩特营业部</td>\n",
       "    </tr>\n",
       "    <tr>\n",
       "      <th>15</th>\n",
       "      <td>16</td>\n",
       "      <td>2a33ab7c75ce4078ab497d2c1e0b416f</td>\n",
       "      <td>640282115.0</td>\n",
       "      <td>陈云翔</td>\n",
       "      <td>女</td>\n",
       "      <td>29.0</td>\n",
       "      <td>大童四川区域中心</td>\n",
       "      <td>四川泸州营业部</td>\n",
       "    </tr>\n",
       "    <tr>\n",
       "      <th>16</th>\n",
       "      <td>17</td>\n",
       "      <td>6660f010015d420eb88fcd4c1476e139</td>\n",
       "      <td>640283006.0</td>\n",
       "      <td>颜晓芳</td>\n",
       "      <td>女</td>\n",
       "      <td>33.0</td>\n",
       "      <td>大童山东区域中心</td>\n",
       "      <td>山东济南营业部</td>\n",
       "    </tr>\n",
       "    <tr>\n",
       "      <th>17</th>\n",
       "      <td>18</td>\n",
       "      <td>038ff86a3fd04389827581f81c260824</td>\n",
       "      <td>640283007.0</td>\n",
       "      <td>高齐</td>\n",
       "      <td>男</td>\n",
       "      <td>34.0</td>\n",
       "      <td>大童上海区域中心</td>\n",
       "      <td>上海市区营业部</td>\n",
       "    </tr>\n",
       "    <tr>\n",
       "      <th>18</th>\n",
       "      <td>19</td>\n",
       "      <td>c290cd4d60ce411e98a31e437d686e20</td>\n",
       "      <td>640283008.0</td>\n",
       "      <td>陈洁</td>\n",
       "      <td>女</td>\n",
       "      <td>37.0</td>\n",
       "      <td>大童四川区域中心</td>\n",
       "      <td>四川成都第一营业部</td>\n",
       "    </tr>\n",
       "    <tr>\n",
       "      <th>19</th>\n",
       "      <td>20</td>\n",
       "      <td>a7bbcb70b74247cab710bcb33cd4599f</td>\n",
       "      <td>640283009.0</td>\n",
       "      <td>吴秀美</td>\n",
       "      <td>女</td>\n",
       "      <td>30.0</td>\n",
       "      <td>大童四川区域中心</td>\n",
       "      <td>四川成都第一营业部</td>\n",
       "    </tr>\n",
       "    <tr>\n",
       "      <th>20</th>\n",
       "      <td>21</td>\n",
       "      <td>2d5adb52f64e47709314a64833e91b68</td>\n",
       "      <td>640287265.0</td>\n",
       "      <td>余东方</td>\n",
       "      <td>男</td>\n",
       "      <td>34.0</td>\n",
       "      <td>大童河南区域中心</td>\n",
       "      <td>河南商丘营业部</td>\n",
       "    </tr>\n",
       "    <tr>\n",
       "      <th>21</th>\n",
       "      <td>22</td>\n",
       "      <td>d9a176655bf548e58d8c30b61edb5bb3</td>\n",
       "      <td>640287163.0</td>\n",
       "      <td>吴婷婷</td>\n",
       "      <td>女</td>\n",
       "      <td>33.0</td>\n",
       "      <td>大童安徽区域中心</td>\n",
       "      <td>安徽庐阳营业部</td>\n",
       "    </tr>\n",
       "    <tr>\n",
       "      <th>22</th>\n",
       "      <td>23</td>\n",
       "      <td>4b11065982de4fb8b035507b2525c51b</td>\n",
       "      <td>640287165.0</td>\n",
       "      <td>秦海霞</td>\n",
       "      <td>女</td>\n",
       "      <td>40.0</td>\n",
       "      <td>大童河南区域中心</td>\n",
       "      <td>河南新安营业部</td>\n",
       "    </tr>\n",
       "    <tr>\n",
       "      <th>23</th>\n",
       "      <td>24</td>\n",
       "      <td>0bdf7204764c4933a13e1d5b00d0223d</td>\n",
       "      <td>640287167.0</td>\n",
       "      <td>崔永刚</td>\n",
       "      <td>男</td>\n",
       "      <td>40.0</td>\n",
       "      <td>大童河南区域中心</td>\n",
       "      <td>河南中原营业部</td>\n",
       "    </tr>\n",
       "    <tr>\n",
       "      <th>24</th>\n",
       "      <td>25</td>\n",
       "      <td>2f5ad234a1e948939daf1ada0ff1148c</td>\n",
       "      <td>640287168.0</td>\n",
       "      <td>赵爱新</td>\n",
       "      <td>女</td>\n",
       "      <td>55.0</td>\n",
       "      <td>大童河南区域中心</td>\n",
       "      <td>河南新安营业部</td>\n",
       "    </tr>\n",
       "    <tr>\n",
       "      <th>25</th>\n",
       "      <td>26</td>\n",
       "      <td>8bf23e60e869422aa33f57c11f4799b8</td>\n",
       "      <td>640287170.0</td>\n",
       "      <td>金光星</td>\n",
       "      <td>男</td>\n",
       "      <td>42.0</td>\n",
       "      <td>大童山东区域中心</td>\n",
       "      <td>山东烟台营业部</td>\n",
       "    </tr>\n",
       "    <tr>\n",
       "      <th>26</th>\n",
       "      <td>27</td>\n",
       "      <td>2f17ad5b6640464a9ebfc80b26cdc84f</td>\n",
       "      <td>640287171.0</td>\n",
       "      <td>曾鹭慧</td>\n",
       "      <td>女</td>\n",
       "      <td>35.0</td>\n",
       "      <td>大童厦门区域中心</td>\n",
       "      <td>厦门直属营业部</td>\n",
       "    </tr>\n",
       "    <tr>\n",
       "      <th>27</th>\n",
       "      <td>28</td>\n",
       "      <td>40e5254f1df44d0e87217bfbc31c256b</td>\n",
       "      <td>640287263.0</td>\n",
       "      <td>宋红霞</td>\n",
       "      <td>女</td>\n",
       "      <td>51.0</td>\n",
       "      <td>大童深圳区域中心</td>\n",
       "      <td>大童深圳特区营业部</td>\n",
       "    </tr>\n",
       "    <tr>\n",
       "      <th>28</th>\n",
       "      <td>29</td>\n",
       "      <td>dfc09193202d46fe8d36fc534c49a24e</td>\n",
       "      <td>640282158.0</td>\n",
       "      <td>刘丽</td>\n",
       "      <td>女</td>\n",
       "      <td>44.0</td>\n",
       "      <td>大童深圳区域中心</td>\n",
       "      <td>大童深圳特区营业部</td>\n",
       "    </tr>\n",
       "    <tr>\n",
       "      <th>29</th>\n",
       "      <td>30</td>\n",
       "      <td>5e141248866b423686eb16862e565bb2</td>\n",
       "      <td>640282159.0</td>\n",
       "      <td>薛恩娜</td>\n",
       "      <td>女</td>\n",
       "      <td>32.0</td>\n",
       "      <td>大童天津区域中心</td>\n",
       "      <td>天津河西营业部</td>\n",
       "    </tr>\n",
       "    <tr>\n",
       "      <th>...</th>\n",
       "      <td>...</td>\n",
       "      <td>...</td>\n",
       "      <td>...</td>\n",
       "      <td>...</td>\n",
       "      <td>...</td>\n",
       "      <td>...</td>\n",
       "      <td>...</td>\n",
       "      <td>...</td>\n",
       "    </tr>\n",
       "    <tr>\n",
       "      <th>270599</th>\n",
       "      <td>270600</td>\n",
       "      <td>0022787e0c5b4178837f0f24761f3b33</td>\n",
       "      <td>NaN</td>\n",
       "      <td>吕栋</td>\n",
       "      <td>男</td>\n",
       "      <td>38.0</td>\n",
       "      <td>NaN</td>\n",
       "      <td>NaN</td>\n",
       "    </tr>\n",
       "    <tr>\n",
       "      <th>270600</th>\n",
       "      <td>270601</td>\n",
       "      <td>0019fdc238ad4a6fa13108a29ba59ac1</td>\n",
       "      <td>NaN</td>\n",
       "      <td>卢国波</td>\n",
       "      <td>男</td>\n",
       "      <td>31.0</td>\n",
       "      <td>NaN</td>\n",
       "      <td>NaN</td>\n",
       "    </tr>\n",
       "    <tr>\n",
       "      <th>270601</th>\n",
       "      <td>270602</td>\n",
       "      <td>00198a902f88429d8929b2c9e1023bc0</td>\n",
       "      <td>NaN</td>\n",
       "      <td>江美兰</td>\n",
       "      <td>女</td>\n",
       "      <td>51.0</td>\n",
       "      <td>NaN</td>\n",
       "      <td>NaN</td>\n",
       "    </tr>\n",
       "    <tr>\n",
       "      <th>270602</th>\n",
       "      <td>270603</td>\n",
       "      <td>00195fa236284ae0937ba38f9fdf959b</td>\n",
       "      <td>NaN</td>\n",
       "      <td>耿东梅</td>\n",
       "      <td>女</td>\n",
       "      <td>50.0</td>\n",
       "      <td>NaN</td>\n",
       "      <td>NaN</td>\n",
       "    </tr>\n",
       "    <tr>\n",
       "      <th>270603</th>\n",
       "      <td>270604</td>\n",
       "      <td>00188545c39b4aadacc9ab6adfb51f4e</td>\n",
       "      <td>NaN</td>\n",
       "      <td>郭香</td>\n",
       "      <td>女</td>\n",
       "      <td>37.0</td>\n",
       "      <td>NaN</td>\n",
       "      <td>NaN</td>\n",
       "    </tr>\n",
       "    <tr>\n",
       "      <th>270604</th>\n",
       "      <td>270605</td>\n",
       "      <td>001854b09941421d97b2e5ca9969d660</td>\n",
       "      <td>NaN</td>\n",
       "      <td>苏双花</td>\n",
       "      <td>女</td>\n",
       "      <td>34.0</td>\n",
       "      <td>NaN</td>\n",
       "      <td>NaN</td>\n",
       "    </tr>\n",
       "    <tr>\n",
       "      <th>270605</th>\n",
       "      <td>270606</td>\n",
       "      <td>00183f3a7f8e474c85d0947d4c38be13</td>\n",
       "      <td>NaN</td>\n",
       "      <td>王涛</td>\n",
       "      <td>男</td>\n",
       "      <td>36.0</td>\n",
       "      <td>NaN</td>\n",
       "      <td>NaN</td>\n",
       "    </tr>\n",
       "    <tr>\n",
       "      <th>270606</th>\n",
       "      <td>270607</td>\n",
       "      <td>0017fbfab6dc4509a67df5cd0fb9ec46</td>\n",
       "      <td>NaN</td>\n",
       "      <td>蒲小丰</td>\n",
       "      <td>男</td>\n",
       "      <td>26.0</td>\n",
       "      <td>NaN</td>\n",
       "      <td>NaN</td>\n",
       "    </tr>\n",
       "    <tr>\n",
       "      <th>270607</th>\n",
       "      <td>270608</td>\n",
       "      <td>0017c2aba0f94a70bc4eb1c1f60918ff</td>\n",
       "      <td>NaN</td>\n",
       "      <td>刘雅静</td>\n",
       "      <td>女</td>\n",
       "      <td>53.0</td>\n",
       "      <td>NaN</td>\n",
       "      <td>NaN</td>\n",
       "    </tr>\n",
       "    <tr>\n",
       "      <th>270608</th>\n",
       "      <td>270609</td>\n",
       "      <td>00178c784a9f4af0866dbda09665b648</td>\n",
       "      <td>NaN</td>\n",
       "      <td>张琴</td>\n",
       "      <td>女</td>\n",
       "      <td>33.0</td>\n",
       "      <td>NaN</td>\n",
       "      <td>NaN</td>\n",
       "    </tr>\n",
       "    <tr>\n",
       "      <th>270609</th>\n",
       "      <td>270610</td>\n",
       "      <td>0017851714bd438696ba0dcf6e3ef9e9</td>\n",
       "      <td>NaN</td>\n",
       "      <td>张鸿孟</td>\n",
       "      <td>男</td>\n",
       "      <td>32.0</td>\n",
       "      <td>NaN</td>\n",
       "      <td>NaN</td>\n",
       "    </tr>\n",
       "    <tr>\n",
       "      <th>270610</th>\n",
       "      <td>270611</td>\n",
       "      <td>00176567cde94afc90970541f0fa695e</td>\n",
       "      <td>NaN</td>\n",
       "      <td>唐贯中</td>\n",
       "      <td>男</td>\n",
       "      <td>46.0</td>\n",
       "      <td>NaN</td>\n",
       "      <td>NaN</td>\n",
       "    </tr>\n",
       "    <tr>\n",
       "      <th>270611</th>\n",
       "      <td>270612</td>\n",
       "      <td>00170b08288147728e133aec407875f3</td>\n",
       "      <td>NaN</td>\n",
       "      <td>范玉立</td>\n",
       "      <td>女</td>\n",
       "      <td>36.0</td>\n",
       "      <td>NaN</td>\n",
       "      <td>NaN</td>\n",
       "    </tr>\n",
       "    <tr>\n",
       "      <th>270612</th>\n",
       "      <td>270613</td>\n",
       "      <td>0016b919e12e450cae066b8c34c076bc</td>\n",
       "      <td>NaN</td>\n",
       "      <td>赵君君</td>\n",
       "      <td>女</td>\n",
       "      <td>39.0</td>\n",
       "      <td>NaN</td>\n",
       "      <td>NaN</td>\n",
       "    </tr>\n",
       "    <tr>\n",
       "      <th>270613</th>\n",
       "      <td>270614</td>\n",
       "      <td>001696d5aaa74b9e8586b785113a1846</td>\n",
       "      <td>NaN</td>\n",
       "      <td>冯笑</td>\n",
       "      <td>男</td>\n",
       "      <td>36.0</td>\n",
       "      <td>NaN</td>\n",
       "      <td>NaN</td>\n",
       "    </tr>\n",
       "    <tr>\n",
       "      <th>270614</th>\n",
       "      <td>270615</td>\n",
       "      <td>00166500f36e408d88e4eacfbdea3e39</td>\n",
       "      <td>NaN</td>\n",
       "      <td>高朝维</td>\n",
       "      <td>男</td>\n",
       "      <td>30.0</td>\n",
       "      <td>NaN</td>\n",
       "      <td>NaN</td>\n",
       "    </tr>\n",
       "    <tr>\n",
       "      <th>270615</th>\n",
       "      <td>270616</td>\n",
       "      <td>00161e9df21b4973abcbb8eae962899a</td>\n",
       "      <td>NaN</td>\n",
       "      <td>胡雪莲</td>\n",
       "      <td>女</td>\n",
       "      <td>41.0</td>\n",
       "      <td>NaN</td>\n",
       "      <td>NaN</td>\n",
       "    </tr>\n",
       "    <tr>\n",
       "      <th>270616</th>\n",
       "      <td>270617</td>\n",
       "      <td>0015f6bfa5f24362805cb6a8b2871f0d</td>\n",
       "      <td>NaN</td>\n",
       "      <td>代国江</td>\n",
       "      <td>男</td>\n",
       "      <td>44.0</td>\n",
       "      <td>NaN</td>\n",
       "      <td>NaN</td>\n",
       "    </tr>\n",
       "    <tr>\n",
       "      <th>270617</th>\n",
       "      <td>270618</td>\n",
       "      <td>001554313e6440f38714e388157adfed</td>\n",
       "      <td>NaN</td>\n",
       "      <td>许振泽</td>\n",
       "      <td>男</td>\n",
       "      <td>54.0</td>\n",
       "      <td>NaN</td>\n",
       "      <td>NaN</td>\n",
       "    </tr>\n",
       "    <tr>\n",
       "      <th>270618</th>\n",
       "      <td>270619</td>\n",
       "      <td>001540bf1fb44b6db5dbc94e26787f73</td>\n",
       "      <td>NaN</td>\n",
       "      <td>王冬梅</td>\n",
       "      <td>女</td>\n",
       "      <td>34.0</td>\n",
       "      <td>NaN</td>\n",
       "      <td>NaN</td>\n",
       "    </tr>\n",
       "    <tr>\n",
       "      <th>270619</th>\n",
       "      <td>270620</td>\n",
       "      <td>0015052ca94949adbdd3786dc96a59ea</td>\n",
       "      <td>NaN</td>\n",
       "      <td>朱巧语</td>\n",
       "      <td>女</td>\n",
       "      <td>24.0</td>\n",
       "      <td>NaN</td>\n",
       "      <td>NaN</td>\n",
       "    </tr>\n",
       "    <tr>\n",
       "      <th>270620</th>\n",
       "      <td>270621</td>\n",
       "      <td>0014dfc9b62543cabc4b357378d3ca20</td>\n",
       "      <td>NaN</td>\n",
       "      <td>林华</td>\n",
       "      <td>女</td>\n",
       "      <td>46.0</td>\n",
       "      <td>NaN</td>\n",
       "      <td>NaN</td>\n",
       "    </tr>\n",
       "    <tr>\n",
       "      <th>270621</th>\n",
       "      <td>270622</td>\n",
       "      <td>0014d0adb35b4d658e2aa70fde7a508b</td>\n",
       "      <td>NaN</td>\n",
       "      <td>王秀菊</td>\n",
       "      <td>女</td>\n",
       "      <td>54.0</td>\n",
       "      <td>NaN</td>\n",
       "      <td>NaN</td>\n",
       "    </tr>\n",
       "    <tr>\n",
       "      <th>270622</th>\n",
       "      <td>270623</td>\n",
       "      <td>0014ae4b80be4d919b0e160ca0b680ed</td>\n",
       "      <td>NaN</td>\n",
       "      <td>朱春华</td>\n",
       "      <td>女</td>\n",
       "      <td>46.0</td>\n",
       "      <td>NaN</td>\n",
       "      <td>NaN</td>\n",
       "    </tr>\n",
       "    <tr>\n",
       "      <th>270623</th>\n",
       "      <td>270624</td>\n",
       "      <td>0014145a4ca8435e9278631365d9b3be</td>\n",
       "      <td>NaN</td>\n",
       "      <td>徐赛赛</td>\n",
       "      <td>女</td>\n",
       "      <td>32.0</td>\n",
       "      <td>NaN</td>\n",
       "      <td>NaN</td>\n",
       "    </tr>\n",
       "    <tr>\n",
       "      <th>270624</th>\n",
       "      <td>270625</td>\n",
       "      <td>0013a8ec82304c5d86531fc40c76ff51</td>\n",
       "      <td>NaN</td>\n",
       "      <td>樊燕焦</td>\n",
       "      <td>女</td>\n",
       "      <td>33.0</td>\n",
       "      <td>NaN</td>\n",
       "      <td>NaN</td>\n",
       "    </tr>\n",
       "    <tr>\n",
       "      <th>270625</th>\n",
       "      <td>270626</td>\n",
       "      <td>0013892025ac4fbe83d260c413f3b1aa</td>\n",
       "      <td>NaN</td>\n",
       "      <td>张莎</td>\n",
       "      <td>女</td>\n",
       "      <td>28.0</td>\n",
       "      <td>NaN</td>\n",
       "      <td>NaN</td>\n",
       "    </tr>\n",
       "    <tr>\n",
       "      <th>270626</th>\n",
       "      <td>270627</td>\n",
       "      <td>00135593719e46fa8777cd9c6a746823</td>\n",
       "      <td>NaN</td>\n",
       "      <td>马琴</td>\n",
       "      <td>女</td>\n",
       "      <td>38.0</td>\n",
       "      <td>NaN</td>\n",
       "      <td>NaN</td>\n",
       "    </tr>\n",
       "    <tr>\n",
       "      <th>270627</th>\n",
       "      <td>270628</td>\n",
       "      <td>00134c3a3f7446d28e51c06568c707b6</td>\n",
       "      <td>NaN</td>\n",
       "      <td>张国红</td>\n",
       "      <td>男</td>\n",
       "      <td>54.0</td>\n",
       "      <td>NaN</td>\n",
       "      <td>NaN</td>\n",
       "    </tr>\n",
       "    <tr>\n",
       "      <th>270628</th>\n",
       "      <td>270629</td>\n",
       "      <td>0012a26020dd4e4dbbf3a676a4dd3555</td>\n",
       "      <td>NaN</td>\n",
       "      <td>王立选</td>\n",
       "      <td>女</td>\n",
       "      <td>45.0</td>\n",
       "      <td>NaN</td>\n",
       "      <td>NaN</td>\n",
       "    </tr>\n",
       "  </tbody>\n",
       "</table>\n",
       "<p>270629 rows × 8 columns</p>\n",
       "</div>"
      ],
      "text/plain": [
       "            ID                               uid           工号   姓名 性别    年龄  \\\n",
       "0            1  c1bfc8aadf1047bfa38270c09f533e08  640284553.0  季成龙  男  32.0   \n",
       "1            2  c33d709448a5446e9fb3bc1e6264e8ca  640284555.0  何春坪  男  38.0   \n",
       "2            3  d394783e39ba443fb636a46bf2b89a89  640284556.0  窦剑武  男  38.0   \n",
       "3            4  9b052accef394087a66140f6908101af  640284563.0  杨金玲  女  40.0   \n",
       "4            5  e6e836c5abb7468bad6132faeefa4203  640284565.0  张慧霞  女  30.0   \n",
       "5            6  2754e7176d354573a91bb253bd42fdc5  640284566.0   沈杰  女  36.0   \n",
       "6            7  28de87a5da6d4b21be0423119ef8a768  640284567.0  关银强  男  38.0   \n",
       "7            8  6758c3ecda7049839f2bd4480249a293  640290846.0  张红霞  女  34.0   \n",
       "8            9  f124a25fc7a24c51957b66df7f27e520  640290849.0  吴咏梅  女  53.0   \n",
       "9           10  70e74bd9346d4479aeab15ea2f8972a3  640286392.0  曾祥俊  女  50.0   \n",
       "10          11  aaafbdc8bac447a0a73ed4581b7e4739  640286393.0  刘少春  女  40.0   \n",
       "11          12  0b822b37a2174c9e9039de5e94e9f7b7  640286395.0  康彩霞  女  29.0   \n",
       "12          13  6bc390a56074499bbf07d056f323d0ca  640286397.0   王非  男  33.0   \n",
       "13          14  41cf249ea0ac4cd0a7fe0c4196e1e42e  640282111.0   王艳  女  44.0   \n",
       "14          15  85be56f129444b109a99b6c716f39b57  640282112.0  武媛媛  女  35.0   \n",
       "15          16  2a33ab7c75ce4078ab497d2c1e0b416f  640282115.0  陈云翔  女  29.0   \n",
       "16          17  6660f010015d420eb88fcd4c1476e139  640283006.0  颜晓芳  女  33.0   \n",
       "17          18  038ff86a3fd04389827581f81c260824  640283007.0   高齐  男  34.0   \n",
       "18          19  c290cd4d60ce411e98a31e437d686e20  640283008.0   陈洁  女  37.0   \n",
       "19          20  a7bbcb70b74247cab710bcb33cd4599f  640283009.0  吴秀美  女  30.0   \n",
       "20          21  2d5adb52f64e47709314a64833e91b68  640287265.0  余东方  男  34.0   \n",
       "21          22  d9a176655bf548e58d8c30b61edb5bb3  640287163.0  吴婷婷  女  33.0   \n",
       "22          23  4b11065982de4fb8b035507b2525c51b  640287165.0  秦海霞  女  40.0   \n",
       "23          24  0bdf7204764c4933a13e1d5b00d0223d  640287167.0  崔永刚  男  40.0   \n",
       "24          25  2f5ad234a1e948939daf1ada0ff1148c  640287168.0  赵爱新  女  55.0   \n",
       "25          26  8bf23e60e869422aa33f57c11f4799b8  640287170.0  金光星  男  42.0   \n",
       "26          27  2f17ad5b6640464a9ebfc80b26cdc84f  640287171.0  曾鹭慧  女  35.0   \n",
       "27          28  40e5254f1df44d0e87217bfbc31c256b  640287263.0  宋红霞  女  51.0   \n",
       "28          29  dfc09193202d46fe8d36fc534c49a24e  640282158.0   刘丽  女  44.0   \n",
       "29          30  5e141248866b423686eb16862e565bb2  640282159.0  薛恩娜  女  32.0   \n",
       "...        ...                               ...          ...  ... ..   ...   \n",
       "270599  270600  0022787e0c5b4178837f0f24761f3b33          NaN   吕栋  男  38.0   \n",
       "270600  270601  0019fdc238ad4a6fa13108a29ba59ac1          NaN  卢国波  男  31.0   \n",
       "270601  270602  00198a902f88429d8929b2c9e1023bc0          NaN  江美兰  女  51.0   \n",
       "270602  270603  00195fa236284ae0937ba38f9fdf959b          NaN  耿东梅  女  50.0   \n",
       "270603  270604  00188545c39b4aadacc9ab6adfb51f4e          NaN   郭香  女  37.0   \n",
       "270604  270605  001854b09941421d97b2e5ca9969d660          NaN  苏双花  女  34.0   \n",
       "270605  270606  00183f3a7f8e474c85d0947d4c38be13          NaN   王涛  男  36.0   \n",
       "270606  270607  0017fbfab6dc4509a67df5cd0fb9ec46          NaN  蒲小丰  男  26.0   \n",
       "270607  270608  0017c2aba0f94a70bc4eb1c1f60918ff          NaN  刘雅静  女  53.0   \n",
       "270608  270609  00178c784a9f4af0866dbda09665b648          NaN   张琴  女  33.0   \n",
       "270609  270610  0017851714bd438696ba0dcf6e3ef9e9          NaN  张鸿孟  男  32.0   \n",
       "270610  270611  00176567cde94afc90970541f0fa695e          NaN  唐贯中  男  46.0   \n",
       "270611  270612  00170b08288147728e133aec407875f3          NaN  范玉立  女  36.0   \n",
       "270612  270613  0016b919e12e450cae066b8c34c076bc          NaN  赵君君  女  39.0   \n",
       "270613  270614  001696d5aaa74b9e8586b785113a1846          NaN   冯笑  男  36.0   \n",
       "270614  270615  00166500f36e408d88e4eacfbdea3e39          NaN  高朝维  男  30.0   \n",
       "270615  270616  00161e9df21b4973abcbb8eae962899a          NaN  胡雪莲  女  41.0   \n",
       "270616  270617  0015f6bfa5f24362805cb6a8b2871f0d          NaN  代国江  男  44.0   \n",
       "270617  270618  001554313e6440f38714e388157adfed          NaN  许振泽  男  54.0   \n",
       "270618  270619  001540bf1fb44b6db5dbc94e26787f73          NaN  王冬梅  女  34.0   \n",
       "270619  270620  0015052ca94949adbdd3786dc96a59ea          NaN  朱巧语  女  24.0   \n",
       "270620  270621  0014dfc9b62543cabc4b357378d3ca20          NaN   林华  女  46.0   \n",
       "270621  270622  0014d0adb35b4d658e2aa70fde7a508b          NaN  王秀菊  女  54.0   \n",
       "270622  270623  0014ae4b80be4d919b0e160ca0b680ed          NaN  朱春华  女  46.0   \n",
       "270623  270624  0014145a4ca8435e9278631365d9b3be          NaN  徐赛赛  女  32.0   \n",
       "270624  270625  0013a8ec82304c5d86531fc40c76ff51          NaN  樊燕焦  女  33.0   \n",
       "270625  270626  0013892025ac4fbe83d260c413f3b1aa          NaN   张莎  女  28.0   \n",
       "270626  270627  00135593719e46fa8777cd9c6a746823          NaN   马琴  女  38.0   \n",
       "270627  270628  00134c3a3f7446d28e51c06568c707b6          NaN  张国红  男  54.0   \n",
       "270628  270629  0012a26020dd4e4dbbf3a676a4dd3555          NaN  王立选  女  45.0   \n",
       "\n",
       "       LOCATIONNAME MGMTDIVISIONNAME  \n",
       "0          大童上海区域中心          上海市区营业部  \n",
       "1          大童四川区域中心          四川本部营业部  \n",
       "2          大童辽宁区域中心     大童辽宁红兴车世界营业部  \n",
       "3          大童辽宁区域中心          辽宁本部营业部  \n",
       "4          大童青岛区域中心         青岛西海岸营业部  \n",
       "5          大童北京区域中心          北京朝阳营业部  \n",
       "6          大童大连区域中心          大连市区营业部  \n",
       "7          大童北京区域中心          北京市区营业部  \n",
       "8          大童云南区域中心           云南E营业部  \n",
       "9          大童四川区域中心          四川本部营业部  \n",
       "10        大童内蒙古区域中心       内蒙古呼和浩特营业部  \n",
       "11        大童内蒙古区域中心       内蒙古呼和浩特营业部  \n",
       "12         大童安徽区域中心          安徽本部营业部  \n",
       "13         大童河北区域中心         河北秦皇岛营业部  \n",
       "14        大童内蒙古区域中心       内蒙古呼和浩特营业部  \n",
       "15         大童四川区域中心          四川泸州营业部  \n",
       "16         大童山东区域中心          山东济南营业部  \n",
       "17         大童上海区域中心          上海市区营业部  \n",
       "18         大童四川区域中心        四川成都第一营业部  \n",
       "19         大童四川区域中心        四川成都第一营业部  \n",
       "20         大童河南区域中心          河南商丘营业部  \n",
       "21         大童安徽区域中心          安徽庐阳营业部  \n",
       "22         大童河南区域中心          河南新安营业部  \n",
       "23         大童河南区域中心          河南中原营业部  \n",
       "24         大童河南区域中心          河南新安营业部  \n",
       "25         大童山东区域中心          山东烟台营业部  \n",
       "26         大童厦门区域中心          厦门直属营业部  \n",
       "27         大童深圳区域中心        大童深圳特区营业部  \n",
       "28         大童深圳区域中心        大童深圳特区营业部  \n",
       "29         大童天津区域中心          天津河西营业部  \n",
       "...             ...              ...  \n",
       "270599          NaN              NaN  \n",
       "270600          NaN              NaN  \n",
       "270601          NaN              NaN  \n",
       "270602          NaN              NaN  \n",
       "270603          NaN              NaN  \n",
       "270604          NaN              NaN  \n",
       "270605          NaN              NaN  \n",
       "270606          NaN              NaN  \n",
       "270607          NaN              NaN  \n",
       "270608          NaN              NaN  \n",
       "270609          NaN              NaN  \n",
       "270610          NaN              NaN  \n",
       "270611          NaN              NaN  \n",
       "270612          NaN              NaN  \n",
       "270613          NaN              NaN  \n",
       "270614          NaN              NaN  \n",
       "270615          NaN              NaN  \n",
       "270616          NaN              NaN  \n",
       "270617          NaN              NaN  \n",
       "270618          NaN              NaN  \n",
       "270619          NaN              NaN  \n",
       "270620          NaN              NaN  \n",
       "270621          NaN              NaN  \n",
       "270622          NaN              NaN  \n",
       "270623          NaN              NaN  \n",
       "270624          NaN              NaN  \n",
       "270625          NaN              NaN  \n",
       "270626          NaN              NaN  \n",
       "270627          NaN              NaN  \n",
       "270628          NaN              NaN  \n",
       "\n",
       "[270629 rows x 8 columns]"
      ]
     },
     "execution_count": 60,
     "metadata": {},
     "output_type": "execute_result"
    }
   ],
   "source": [
    "user_all"
   ]
  },
  {
   "cell_type": "markdown",
   "metadata": {},
   "source": [
    "## 快保用户行为价值贡献表"
   ]
  },
  {
   "cell_type": "markdown",
   "metadata": {
    "ExecuteTime": {
     "end_time": "2020-04-29T08:25:46.583875Z",
     "start_time": "2020-04-29T08:25:46.579885Z"
    }
   },
   "source": [
    "### 数据读取"
   ]
  },
  {
   "cell_type": "code",
   "execution_count": 122,
   "metadata": {
    "ExecuteTime": {
     "end_time": "2020-04-29T10:11:46.126111Z",
     "start_time": "2020-04-29T10:11:43.199907Z"
    }
   },
   "outputs": [],
   "source": [
    "col = ['order','bf','ucode','time_pay','tb_name','bb_name','is_insider','channel_src','tb_id','bb_id','date_pay','uid']\n",
    "order_all = pd.concat([order_2018[col],order_2019[col],order_sum[col]])\n",
    "order_all['mon'] = order_all.date_pay.map(date_bus)"
   ]
  },
  {
   "cell_type": "code",
   "execution_count": 46,
   "metadata": {
    "ExecuteTime": {
     "end_time": "2020-04-29T09:13:53.250186Z",
     "start_time": "2020-04-29T09:13:02.757509Z"
    }
   },
   "outputs": [],
   "source": [
    "## 寿险用户和寿险保单数据\n",
    "user_offline_all = pd.read_excel(dir_user + 'user_info_offline_20200426.xlsx',header=2)"
   ]
  },
  {
   "cell_type": "code",
   "execution_count": 47,
   "metadata": {
    "ExecuteTime": {
     "end_time": "2020-04-29T09:13:53.438680Z",
     "start_time": "2020-04-29T09:13:53.252179Z"
    }
   },
   "outputs": [],
   "source": [
    "user_offline = user_offline_all.copy()\n",
    "user_offline.rename(columns = {'代理人编码':'ucode','报聘日期':'date_join'},inplace=True)\n",
    "user_offline['mon_join'] = user_offline.date_join.map(date_bus)"
   ]
  },
  {
   "cell_type": "code",
   "execution_count": null,
   "metadata": {},
   "outputs": [],
   "source": [
    "order_detail = pd.read_excel(dir_order_life +'order_life_20200428.xlsx',header=1)"
   ]
  },
  {
   "cell_type": "code",
   "execution_count": 151,
   "metadata": {
    "ExecuteTime": {
     "end_time": "2020-04-30T03:38:03.409409Z",
     "start_time": "2020-04-30T03:38:03.320674Z"
    }
   },
   "outputs": [],
   "source": [
    "order_detail.rename(columns = {'代理人代码':'ucode','代理人所在机构':'area_type','代理人姓名':'uname','标准保费':'bf_std','行政录入日期':'date_pay',\n",
    "                               '险种名称':'pname','投保人':'tb_name','被保险人':'bb_name'},inplace=True)\n",
    "order_detail['mon'] = order_detail.date_pay.map(date_bus)"
   ]
  },
  {
   "cell_type": "code",
   "execution_count": 65,
   "metadata": {
    "ExecuteTime": {
     "end_time": "2020-04-29T09:23:33.312084Z",
     "start_time": "2020-04-29T09:23:30.102659Z"
    }
   },
   "outputs": [],
   "source": [
    "user_online = pd.read_csv(dir_user + 'user_info_online_20200429.csv',low_memory=False,parse_dates=['入职时间'])"
   ]
  },
  {
   "cell_type": "code",
   "execution_count": 89,
   "metadata": {
    "ExecuteTime": {
     "end_time": "2020-04-29T09:36:25.072888Z",
     "start_time": "2020-04-29T09:36:23.511065Z"
    }
   },
   "outputs": [],
   "source": [
    "user_online.loc[user_online.认证时间=='--','认证时间'] =user_online.loc[user_online.认证时间=='--','注册时间']\n",
    "user_online['date_attest'] = pd.to_datetime(pd.to_datetime(user_online.认证时间).dt.strftime('%Y-%m-%d'))\n",
    "user_online.rename(columns = {'用户ID':'uid','工号':'ucode','入职时间':'date_join'},inplace=True)\n",
    "user_online['mon_attest'] = user_online.date_attest.map(date_bus)\n",
    "user_online['days_delta'] = (user_online.date_join - user_online.date_attest).map(lambda x:x.days)\n",
    "user_online.ucode.fillna(0,inplace=True)\n",
    "user_online['ucode'] = user_online.ucode.map(lambda x:str(int(x)).strip())"
   ]
  },
  {
   "cell_type": "markdown",
   "metadata": {},
   "source": [
    "### 业务情况"
   ]
  },
  {
   "cell_type": "code",
   "execution_count": 84,
   "metadata": {
    "ExecuteTime": {
     "end_time": "2020-04-29T09:33:56.466130Z",
     "start_time": "2020-04-29T09:33:56.431254Z"
    }
   },
   "outputs": [
    {
     "data": {
      "text/html": [
       "<div>\n",
       "<style scoped>\n",
       "    .dataframe tbody tr th:only-of-type {\n",
       "        vertical-align: middle;\n",
       "    }\n",
       "\n",
       "    .dataframe tbody tr th {\n",
       "        vertical-align: top;\n",
       "    }\n",
       "\n",
       "    .dataframe thead th {\n",
       "        text-align: right;\n",
       "    }\n",
       "</style>\n",
       "<table border=\"1\" class=\"dataframe\">\n",
       "  <thead>\n",
       "    <tr style=\"text-align: right;\">\n",
       "      <th></th>\n",
       "      <th>mon_attest</th>\n",
       "      <th>uid</th>\n",
       "    </tr>\n",
       "  </thead>\n",
       "  <tbody>\n",
       "    <tr>\n",
       "      <th>17</th>\n",
       "      <td>2020-01</td>\n",
       "      <td>68</td>\n",
       "    </tr>\n",
       "    <tr>\n",
       "      <th>18</th>\n",
       "      <td>2020-02</td>\n",
       "      <td>74</td>\n",
       "    </tr>\n",
       "    <tr>\n",
       "      <th>19</th>\n",
       "      <td>2020-03</td>\n",
       "      <td>342</td>\n",
       "    </tr>\n",
       "    <tr>\n",
       "      <th>20</th>\n",
       "      <td>2020-04</td>\n",
       "      <td>812</td>\n",
       "    </tr>\n",
       "    <tr>\n",
       "      <th>21</th>\n",
       "      <td>2020-05</td>\n",
       "      <td>20</td>\n",
       "    </tr>\n",
       "  </tbody>\n",
       "</table>\n",
       "</div>"
      ],
      "text/plain": [
       "   mon_attest  uid\n",
       "17    2020-01   68\n",
       "18    2020-02   74\n",
       "19    2020-03  342\n",
       "20    2020-04  812\n",
       "21    2020-05   20"
      ]
     },
     "execution_count": 84,
     "metadata": {},
     "output_type": "execute_result"
    }
   ],
   "source": [
    "## 先认证快保后入司人力\n",
    "user_online.loc[(user_online.days_delta >=2) \n",
    "                & (user_online.mon_attest >= '2018-08'),:].groupby('mon_attest').uid.nunique().reset_index().tail()\n"
   ]
  },
  {
   "cell_type": "code",
   "execution_count": 79,
   "metadata": {
    "ExecuteTime": {
     "end_time": "2020-04-29T09:30:46.278284Z",
     "start_time": "2020-04-29T09:30:46.141659Z"
    }
   },
   "outputs": [
    {
     "data": {
      "text/html": [
       "<div>\n",
       "<style scoped>\n",
       "    .dataframe tbody tr th:only-of-type {\n",
       "        vertical-align: middle;\n",
       "    }\n",
       "\n",
       "    .dataframe tbody tr th {\n",
       "        vertical-align: top;\n",
       "    }\n",
       "\n",
       "    .dataframe thead th {\n",
       "        text-align: right;\n",
       "    }\n",
       "</style>\n",
       "<table border=\"1\" class=\"dataframe\">\n",
       "  <thead>\n",
       "    <tr style=\"text-align: right;\">\n",
       "      <th></th>\n",
       "      <th>mon</th>\n",
       "      <th>ucode</th>\n",
       "    </tr>\n",
       "  </thead>\n",
       "  <tbody>\n",
       "    <tr>\n",
       "      <th>0</th>\n",
       "      <td>2020-01</td>\n",
       "      <td>6472</td>\n",
       "    </tr>\n",
       "    <tr>\n",
       "      <th>1</th>\n",
       "      <td>2020-02</td>\n",
       "      <td>3453</td>\n",
       "    </tr>\n",
       "    <tr>\n",
       "      <th>2</th>\n",
       "      <td>2020-03</td>\n",
       "      <td>5551</td>\n",
       "    </tr>\n",
       "    <tr>\n",
       "      <th>3</th>\n",
       "      <td>2020-04</td>\n",
       "      <td>5784</td>\n",
       "    </tr>\n",
       "    <tr>\n",
       "      <th>4</th>\n",
       "      <td>2020-05</td>\n",
       "      <td>911</td>\n",
       "    </tr>\n",
       "  </tbody>\n",
       "</table>\n",
       "</div>"
      ],
      "text/plain": [
       "       mon  ucode\n",
       "0  2020-01   6472\n",
       "1  2020-02   3453\n",
       "2  2020-03   5551\n",
       "3  2020-04   5784\n",
       "4  2020-05    911"
      ]
     },
     "execution_count": 79,
     "metadata": {},
     "output_type": "execute_result"
    }
   ],
   "source": [
    "## 核心开单人力\n",
    "order_detail.groupby(['mon']).ucode.nunique().reset_index()"
   ]
  },
  {
   "cell_type": "code",
   "execution_count": 91,
   "metadata": {
    "ExecuteTime": {
     "end_time": "2020-04-29T09:37:30.473948Z",
     "start_time": "2020-04-29T09:37:30.340297Z"
    }
   },
   "outputs": [
    {
     "data": {
      "text/html": [
       "<div>\n",
       "<style scoped>\n",
       "    .dataframe tbody tr th:only-of-type {\n",
       "        vertical-align: middle;\n",
       "    }\n",
       "\n",
       "    .dataframe tbody tr th {\n",
       "        vertical-align: top;\n",
       "    }\n",
       "\n",
       "    .dataframe thead th {\n",
       "        text-align: right;\n",
       "    }\n",
       "</style>\n",
       "<table border=\"1\" class=\"dataframe\">\n",
       "  <thead>\n",
       "    <tr style=\"text-align: right;\">\n",
       "      <th></th>\n",
       "      <th>mon</th>\n",
       "      <th>bf</th>\n",
       "    </tr>\n",
       "  </thead>\n",
       "  <tbody>\n",
       "    <tr>\n",
       "      <th>0</th>\n",
       "      <td>2020-01</td>\n",
       "      <td>2013658.89</td>\n",
       "    </tr>\n",
       "    <tr>\n",
       "      <th>1</th>\n",
       "      <td>2020-02</td>\n",
       "      <td>2084683.40</td>\n",
       "    </tr>\n",
       "    <tr>\n",
       "      <th>2</th>\n",
       "      <td>2020-03</td>\n",
       "      <td>1943744.38</td>\n",
       "    </tr>\n",
       "    <tr>\n",
       "      <th>3</th>\n",
       "      <td>2020-04</td>\n",
       "      <td>2812820.57</td>\n",
       "    </tr>\n",
       "  </tbody>\n",
       "</table>\n",
       "</div>"
      ],
      "text/plain": [
       "       mon          bf\n",
       "0  2020-01  2013658.89\n",
       "1  2020-02  2084683.40\n",
       "2  2020-03  1943744.38\n",
       "3  2020-04  2812820.57"
      ]
     },
     "execution_count": 91,
     "metadata": {},
     "output_type": "execute_result"
    }
   ],
   "source": [
    "## 贡献情况-线上保费\n",
    "uid_att_join = user_online.loc[(user_online.days_delta >=2) \n",
    "                & (user_online.mon_attest >= '2018-08'),:].uid.unique()\n",
    "ucode_att_join = user_online.loc[(user_online.days_delta >=2) \n",
    "                & (user_online.mon_attest >= '2018-08'),:].ucode.unique()\n",
    "order_sum.loc[order_sum.uid.isin(uid_att_join),:].groupby('mon').bf.sum().tail().reset_index()"
   ]
  },
  {
   "cell_type": "code",
   "execution_count": 96,
   "metadata": {
    "ExecuteTime": {
     "end_time": "2020-04-29T09:42:27.359450Z",
     "start_time": "2020-04-29T09:42:27.334516Z"
    }
   },
   "outputs": [
    {
     "data": {
      "text/html": [
       "<div>\n",
       "<style scoped>\n",
       "    .dataframe tbody tr th:only-of-type {\n",
       "        vertical-align: middle;\n",
       "    }\n",
       "\n",
       "    .dataframe tbody tr th {\n",
       "        vertical-align: top;\n",
       "    }\n",
       "\n",
       "    .dataframe thead th {\n",
       "        text-align: right;\n",
       "    }\n",
       "</style>\n",
       "<table border=\"1\" class=\"dataframe\">\n",
       "  <thead>\n",
       "    <tr style=\"text-align: right;\">\n",
       "      <th></th>\n",
       "      <th>mon</th>\n",
       "      <th>ucode</th>\n",
       "      <th>bf_std</th>\n",
       "    </tr>\n",
       "  </thead>\n",
       "  <tbody>\n",
       "    <tr>\n",
       "      <th>0</th>\n",
       "      <td>2020-01</td>\n",
       "      <td>449</td>\n",
       "      <td>7660641.70</td>\n",
       "    </tr>\n",
       "    <tr>\n",
       "      <th>1</th>\n",
       "      <td>2020-02</td>\n",
       "      <td>235</td>\n",
       "      <td>3272164.24</td>\n",
       "    </tr>\n",
       "    <tr>\n",
       "      <th>2</th>\n",
       "      <td>2020-03</td>\n",
       "      <td>417</td>\n",
       "      <td>5654310.93</td>\n",
       "    </tr>\n",
       "    <tr>\n",
       "      <th>3</th>\n",
       "      <td>2020-04</td>\n",
       "      <td>655</td>\n",
       "      <td>9427975.51</td>\n",
       "    </tr>\n",
       "    <tr>\n",
       "      <th>4</th>\n",
       "      <td>2020-05</td>\n",
       "      <td>103</td>\n",
       "      <td>935052.17</td>\n",
       "    </tr>\n",
       "  </tbody>\n",
       "</table>\n",
       "</div>"
      ],
      "text/plain": [
       "       mon  ucode      bf_std\n",
       "0  2020-01    449  7660641.70\n",
       "1  2020-02    235  3272164.24\n",
       "2  2020-03    417  5654310.93\n",
       "3  2020-04    655  9427975.51\n",
       "4  2020-05    103   935052.17"
      ]
     },
     "execution_count": 96,
     "metadata": {},
     "output_type": "execute_result"
    }
   ],
   "source": [
    "## 贡献情况-线下人力保费\n",
    "order_detail.loc[order_detail.ucode.isin(ucode_att_join),:].groupby(['mon']).agg({'ucode':'nunique','bf_std':'sum'}).reset_index()"
   ]
  },
  {
   "cell_type": "markdown",
   "metadata": {},
   "source": [
    "### 活跃情况"
   ]
  },
  {
   "cell_type": "code",
   "execution_count": 103,
   "metadata": {
    "ExecuteTime": {
     "end_time": "2020-04-29T09:51:31.381102Z",
     "start_time": "2020-04-29T09:50:43.975479Z"
    }
   },
   "outputs": [
    {
     "data": {
      "text/html": [
       "<div>\n",
       "<style scoped>\n",
       "    .dataframe tbody tr th:only-of-type {\n",
       "        vertical-align: middle;\n",
       "    }\n",
       "\n",
       "    .dataframe tbody tr th {\n",
       "        vertical-align: top;\n",
       "    }\n",
       "\n",
       "    .dataframe thead th {\n",
       "        text-align: right;\n",
       "    }\n",
       "</style>\n",
       "<table border=\"1\" class=\"dataframe\">\n",
       "  <thead>\n",
       "    <tr style=\"text-align: right;\">\n",
       "      <th></th>\n",
       "      <th>mon</th>\n",
       "      <th>is_insider</th>\n",
       "      <th>uid</th>\n",
       "    </tr>\n",
       "  </thead>\n",
       "  <tbody>\n",
       "    <tr>\n",
       "      <th>0</th>\n",
       "      <td>2020-04</td>\n",
       "      <td>0</td>\n",
       "      <td>41364</td>\n",
       "    </tr>\n",
       "    <tr>\n",
       "      <th>1</th>\n",
       "      <td>2020-04</td>\n",
       "      <td>1</td>\n",
       "      <td>34252</td>\n",
       "    </tr>\n",
       "  </tbody>\n",
       "</table>\n",
       "</div>"
      ],
      "text/plain": [
       "       mon  is_insider    uid\n",
       "0  2020-04           0  41364\n",
       "1  2020-04           1  34252"
      ]
     },
     "execution_count": 103,
     "metadata": {},
     "output_type": "execute_result"
    }
   ],
   "source": [
    "login = pd.read_excel(dir_login + 'login_2020_0326_0425.xlsx')\n",
    "login['mon'] =pd.to_datetime(login.date_login).map(date_bus)\n",
    "login.groupby(['mon','is_insider']).uid.nunique().reset_index().tail()"
   ]
  },
  {
   "cell_type": "code",
   "execution_count": 101,
   "metadata": {
    "ExecuteTime": {
     "end_time": "2020-04-29T09:49:42.989456Z",
     "start_time": "2020-04-29T09:49:42.096817Z"
    }
   },
   "outputs": [
    {
     "data": {
      "text/html": [
       "<div>\n",
       "<style scoped>\n",
       "    .dataframe tbody tr th:only-of-type {\n",
       "        vertical-align: middle;\n",
       "    }\n",
       "\n",
       "    .dataframe tbody tr th {\n",
       "        vertical-align: top;\n",
       "    }\n",
       "\n",
       "    .dataframe thead th {\n",
       "        text-align: right;\n",
       "    }\n",
       "</style>\n",
       "<table border=\"1\" class=\"dataframe\">\n",
       "  <thead>\n",
       "    <tr style=\"text-align: right;\">\n",
       "      <th>is_insider</th>\n",
       "      <th>0</th>\n",
       "      <th>1</th>\n",
       "    </tr>\n",
       "    <tr>\n",
       "      <th>mon</th>\n",
       "      <th></th>\n",
       "      <th></th>\n",
       "    </tr>\n",
       "  </thead>\n",
       "  <tbody>\n",
       "    <tr>\n",
       "      <th>2020-03</th>\n",
       "      <td>6426.37931</td>\n",
       "      <td>17154.068966</td>\n",
       "    </tr>\n",
       "  </tbody>\n",
       "</table>\n",
       "</div>"
      ],
      "text/plain": [
       "is_insider           0             1\n",
       "mon                                 \n",
       "2020-03     6426.37931  17154.068966"
      ]
     },
     "execution_count": 101,
     "metadata": {},
     "output_type": "execute_result"
    }
   ],
   "source": [
    "## 司内外日军活跃人数\n",
    "res = login.groupby(['mon','is_insider','date_login']).agg({'uid':'nunique'}).reset_index().groupby(['mon','is_insider']).agg({'date_login':'count','uid':'sum'}).reset_index()\n",
    "res['days_avg_act'] =res.uid / res.date_login\n",
    "res.pivot(index='mon',columns = 'is_insider',values = 'days_avg_act')"
   ]
  },
  {
   "cell_type": "code",
   "execution_count": 105,
   "metadata": {
    "ExecuteTime": {
     "end_time": "2020-04-29T09:52:05.683279Z",
     "start_time": "2020-04-29T09:52:05.059909Z"
    }
   },
   "outputs": [
    {
     "data": {
      "text/html": [
       "<div>\n",
       "<style scoped>\n",
       "    .dataframe tbody tr th:only-of-type {\n",
       "        vertical-align: middle;\n",
       "    }\n",
       "\n",
       "    .dataframe tbody tr th {\n",
       "        vertical-align: top;\n",
       "    }\n",
       "\n",
       "    .dataframe thead th {\n",
       "        text-align: right;\n",
       "    }\n",
       "</style>\n",
       "<table border=\"1\" class=\"dataframe\">\n",
       "  <thead>\n",
       "    <tr style=\"text-align: right;\">\n",
       "      <th>is_insider</th>\n",
       "      <th>0</th>\n",
       "      <th>1</th>\n",
       "    </tr>\n",
       "    <tr>\n",
       "      <th>mon</th>\n",
       "      <th></th>\n",
       "      <th></th>\n",
       "    </tr>\n",
       "  </thead>\n",
       "  <tbody>\n",
       "    <tr>\n",
       "      <th>2020-04</th>\n",
       "      <td>2216</td>\n",
       "      <td>13703</td>\n",
       "    </tr>\n",
       "  </tbody>\n",
       "</table>\n",
       "</div>"
      ],
      "text/plain": [
       "is_insider     0      1\n",
       "mon                    \n",
       "2020-04     2216  13703"
      ]
     },
     "execution_count": 105,
     "metadata": {},
     "output_type": "execute_result"
    }
   ],
   "source": [
    "## 司内外7天 或者 20天以上活跃人数\n",
    "res = login.groupby(['mon','uid','is_insider']).agg({'date_login':'nunique'}).reset_index()\n",
    "res.loc[res.date_login>=20,:].groupby(['mon','is_insider']).size().reset_index().pivot(index='mon',columns='is_insider',values=0).tail()"
   ]
  },
  {
   "cell_type": "markdown",
   "metadata": {},
   "source": [
    "### 签到情况"
   ]
  },
  {
   "cell_type": "code",
   "execution_count": 108,
   "metadata": {
    "ExecuteTime": {
     "end_time": "2020-04-29T09:54:32.420662Z",
     "start_time": "2020-04-29T09:54:31.073267Z"
    }
   },
   "outputs": [],
   "source": [
    "## 1.司内外签到用户数\n",
    "score = pd.read_csv(dir_score + 'score_20200326_20200425.csv',parse_dates=['完成时间'])"
   ]
  },
  {
   "cell_type": "code",
   "execution_count": 112,
   "metadata": {
    "ExecuteTime": {
     "end_time": "2020-04-29T10:03:49.922845Z",
     "start_time": "2020-04-29T10:03:46.896936Z"
    }
   },
   "outputs": [
    {
     "data": {
      "text/html": [
       "<div>\n",
       "<style scoped>\n",
       "    .dataframe tbody tr th:only-of-type {\n",
       "        vertical-align: middle;\n",
       "    }\n",
       "\n",
       "    .dataframe tbody tr th {\n",
       "        vertical-align: top;\n",
       "    }\n",
       "\n",
       "    .dataframe thead th {\n",
       "        text-align: right;\n",
       "    }\n",
       "</style>\n",
       "<table border=\"1\" class=\"dataframe\">\n",
       "  <thead>\n",
       "    <tr style=\"text-align: right;\">\n",
       "      <th>是否司内</th>\n",
       "      <th>否</th>\n",
       "      <th>是</th>\n",
       "    </tr>\n",
       "    <tr>\n",
       "      <th>mon</th>\n",
       "      <th></th>\n",
       "      <th></th>\n",
       "    </tr>\n",
       "  </thead>\n",
       "  <tbody>\n",
       "    <tr>\n",
       "      <th>2020-04</th>\n",
       "      <td>6624</td>\n",
       "      <td>19252</td>\n",
       "    </tr>\n",
       "  </tbody>\n",
       "</table>\n",
       "</div>"
      ],
      "text/plain": [
       "是否司内        否      是\n",
       "mon                 \n",
       "2020-04  6624  19252"
      ]
     },
     "execution_count": 112,
     "metadata": {},
     "output_type": "execute_result"
    }
   ],
   "source": [
    "score['date_complete'] = pd.to_datetime(score.完成时间.dt.strftime('%Y-%m-%d'))\n",
    "score['mon'] = score.date_complete.map(date_bus)\n",
    "score.loc[score.任务名称 =='每日签到',:].groupby(['mon','是否司内']).agg({'快保ID':'nunique'}).tail(24).reset_index().pivot(index='mon',columns = '是否司内',values='快保ID')"
   ]
  },
  {
   "cell_type": "code",
   "execution_count": 115,
   "metadata": {
    "ExecuteTime": {
     "end_time": "2020-04-29T10:05:43.200943Z",
     "start_time": "2020-04-29T10:05:42.834956Z"
    }
   },
   "outputs": [
    {
     "data": {
      "text/html": [
       "<div>\n",
       "<style scoped>\n",
       "    .dataframe tbody tr th:only-of-type {\n",
       "        vertical-align: middle;\n",
       "    }\n",
       "\n",
       "    .dataframe tbody tr th {\n",
       "        vertical-align: top;\n",
       "    }\n",
       "\n",
       "    .dataframe thead th {\n",
       "        text-align: right;\n",
       "    }\n",
       "</style>\n",
       "<table border=\"1\" class=\"dataframe\">\n",
       "  <thead>\n",
       "    <tr style=\"text-align: right;\">\n",
       "      <th></th>\n",
       "      <th>mon</th>\n",
       "      <th>是否司内</th>\n",
       "      <th>date_complete</th>\n",
       "      <th>快保ID</th>\n",
       "      <th>avg_qd</th>\n",
       "    </tr>\n",
       "  </thead>\n",
       "  <tbody>\n",
       "    <tr>\n",
       "      <th>0</th>\n",
       "      <td>2020-04</td>\n",
       "      <td>否</td>\n",
       "      <td>31</td>\n",
       "      <td>67831</td>\n",
       "      <td>2188.096774</td>\n",
       "    </tr>\n",
       "    <tr>\n",
       "      <th>1</th>\n",
       "      <td>2020-04</td>\n",
       "      <td>是</td>\n",
       "      <td>31</td>\n",
       "      <td>318873</td>\n",
       "      <td>10286.225806</td>\n",
       "    </tr>\n",
       "  </tbody>\n",
       "</table>\n",
       "</div>"
      ],
      "text/plain": [
       "       mon 是否司内  date_complete    快保ID        avg_qd\n",
       "0  2020-04    否             31   67831   2188.096774\n",
       "1  2020-04    是             31  318873  10286.225806"
      ]
     },
     "execution_count": 115,
     "metadata": {},
     "output_type": "execute_result"
    }
   ],
   "source": [
    "## 2.日均签到用户数\n",
    "res = score.loc[(score.任务名称 =='每日签到'),:].groupby(['mon','是否司内','date_complete']).agg({'快保ID':'nunique'}).reset_index()\n",
    "res = res.groupby(['mon','是否司内']).agg({'date_complete':'nunique','快保ID':'sum'}).reset_index()\n",
    "res['avg_qd'] = res.快保ID/res.date_complete\n",
    "res"
   ]
  },
  {
   "cell_type": "code",
   "execution_count": 118,
   "metadata": {
    "ExecuteTime": {
     "end_time": "2020-04-29T10:07:50.282663Z",
     "start_time": "2020-04-29T10:07:49.975514Z"
    }
   },
   "outputs": [
    {
     "data": {
      "text/html": [
       "<div>\n",
       "<style scoped>\n",
       "    .dataframe tbody tr th:only-of-type {\n",
       "        vertical-align: middle;\n",
       "    }\n",
       "\n",
       "    .dataframe tbody tr th {\n",
       "        vertical-align: top;\n",
       "    }\n",
       "\n",
       "    .dataframe thead th {\n",
       "        text-align: right;\n",
       "    }\n",
       "</style>\n",
       "<table border=\"1\" class=\"dataframe\">\n",
       "  <thead>\n",
       "    <tr style=\"text-align: right;\">\n",
       "      <th>mon</th>\n",
       "      <th>2020-04</th>\n",
       "    </tr>\n",
       "    <tr>\n",
       "      <th>是否司内</th>\n",
       "      <th></th>\n",
       "    </tr>\n",
       "  </thead>\n",
       "  <tbody>\n",
       "    <tr>\n",
       "      <th>否</th>\n",
       "      <td>1939</td>\n",
       "    </tr>\n",
       "    <tr>\n",
       "      <th>是</th>\n",
       "      <td>9254</td>\n",
       "    </tr>\n",
       "  </tbody>\n",
       "</table>\n",
       "</div>"
      ],
      "text/plain": [
       "mon   2020-04\n",
       "是否司内         \n",
       "否        1939\n",
       "是        9254"
      ]
     },
     "execution_count": 118,
     "metadata": {},
     "output_type": "execute_result"
    }
   ],
   "source": [
    "## 签到20天的人数\n",
    "res = score.loc[(score.任务名称 =='每日签到'),:].groupby(['mon','快保ID','是否司内']).agg({'date_complete':'nunique'}).reset_index()\n",
    "res.loc[res.date_complete >= 20,:].groupby(['mon','是否司内']).agg({'快保ID':'nunique'}).reset_index().pivot(index='是否司内',columns = 'mon',values='快保ID')"
   ]
  },
  {
   "cell_type": "markdown",
   "metadata": {},
   "source": [
    "### 客户情况"
   ]
  },
  {
   "cell_type": "code",
   "execution_count": 123,
   "metadata": {
    "ExecuteTime": {
     "end_time": "2020-04-29T10:13:16.129788Z",
     "start_time": "2020-04-29T10:12:35.654502Z"
    }
   },
   "outputs": [],
   "source": [
    "order_all['rns'] =  order_all['date_pay'].groupby(order_all['tb_id']).rank(ascending=True,method='first')\n",
    "order_online_01 = order_all.loc[order_all.rns ==1,['tb_id','date_pay','is_insider']].copy()\n",
    "order_all['rns'] =  order_all['date_pay'].groupby(order_all['bb_id']).rank(ascending=True,method='first')\n",
    "order_online_02 = order_all.loc[order_all.rns ==1,['bb_id','date_pay','is_insider']].copy()\n",
    "\n",
    "order_online_01.columns = ['cust_id','date_pay_first','is_insider']\n",
    "order_online_02.columns = ['cust_id','date_pay_first','is_insider']\n",
    "order_online = pd.concat([order_online_01,order_online_02]).drop_duplicates()\n",
    "\n",
    "order_online['rns'] = order_online['date_pay_first'].groupby(order_online['cust_id']).rank(ascending=True,method='first')\n",
    "\n",
    "cust_info_online = order_online.loc[order_online.rns ==1,['cust_id','date_pay_first','is_insider']]\n",
    "cust_info_online['mon'] = cust_info_online.date_pay_first.map(date_bus)\n",
    "cust_info_online.fillna('2016-05',inplace=True)"
   ]
  },
  {
   "cell_type": "code",
   "execution_count": 124,
   "metadata": {
    "ExecuteTime": {
     "end_time": "2020-04-29T10:13:28.983395Z",
     "start_time": "2020-04-29T10:13:28.320169Z"
    }
   },
   "outputs": [
    {
     "data": {
      "text/html": [
       "<div>\n",
       "<style scoped>\n",
       "    .dataframe tbody tr th:only-of-type {\n",
       "        vertical-align: middle;\n",
       "    }\n",
       "\n",
       "    .dataframe tbody tr th {\n",
       "        vertical-align: top;\n",
       "    }\n",
       "\n",
       "    .dataframe thead th {\n",
       "        text-align: right;\n",
       "    }\n",
       "</style>\n",
       "<table border=\"1\" class=\"dataframe\">\n",
       "  <thead>\n",
       "    <tr style=\"text-align: right;\">\n",
       "      <th></th>\n",
       "      <th>mon</th>\n",
       "      <th>0</th>\n",
       "      <th>是</th>\n",
       "      <th>否</th>\n",
       "    </tr>\n",
       "  </thead>\n",
       "  <tbody>\n",
       "    <tr>\n",
       "      <th>7</th>\n",
       "      <td>2019-12</td>\n",
       "      <td>82297</td>\n",
       "      <td>50295</td>\n",
       "      <td>32002</td>\n",
       "    </tr>\n",
       "    <tr>\n",
       "      <th>8</th>\n",
       "      <td>2020-01</td>\n",
       "      <td>69044</td>\n",
       "      <td>45782</td>\n",
       "      <td>23262</td>\n",
       "    </tr>\n",
       "    <tr>\n",
       "      <th>9</th>\n",
       "      <td>2020-02</td>\n",
       "      <td>60309</td>\n",
       "      <td>51133</td>\n",
       "      <td>9176</td>\n",
       "    </tr>\n",
       "    <tr>\n",
       "      <th>10</th>\n",
       "      <td>2020-03</td>\n",
       "      <td>98103</td>\n",
       "      <td>82651</td>\n",
       "      <td>15452</td>\n",
       "    </tr>\n",
       "    <tr>\n",
       "      <th>11</th>\n",
       "      <td>2020-04</td>\n",
       "      <td>58999</td>\n",
       "      <td>36399</td>\n",
       "      <td>22600</td>\n",
       "    </tr>\n",
       "  </tbody>\n",
       "</table>\n",
       "</div>"
      ],
      "text/plain": [
       "        mon      0      是      否\n",
       "7   2019-12  82297  50295  32002\n",
       "8   2020-01  69044  45782  23262\n",
       "9   2020-02  60309  51133   9176\n",
       "10  2020-03  98103  82651  15452\n",
       "11  2020-04  58999  36399  22600"
      ]
     },
     "execution_count": 124,
     "metadata": {},
     "output_type": "execute_result"
    }
   ],
   "source": [
    "##每月新客数量\n",
    "res_newcust_sum = cust_info_online.groupby(['mon']).size().reset_index().tail(12)\n",
    "res_newcust_insider = cust_info_online.groupby(['mon','is_insider']).size().reset_index().tail(24).pivot(index='mon',columns = 'is_insider',values=0).reset_index()[['mon','是','否']]\n",
    "pd.merge(res_newcust_sum,res_newcust_insider,how='left',on='mon').tail()"
   ]
  },
  {
   "cell_type": "code",
   "execution_count": 125,
   "metadata": {
    "ExecuteTime": {
     "end_time": "2020-04-29T10:15:55.016115Z",
     "start_time": "2020-04-29T10:15:26.552484Z"
    }
   },
   "outputs": [
    {
     "data": {
      "text/html": [
       "<div>\n",
       "<style scoped>\n",
       "    .dataframe tbody tr th:only-of-type {\n",
       "        vertical-align: middle;\n",
       "    }\n",
       "\n",
       "    .dataframe tbody tr th {\n",
       "        vertical-align: top;\n",
       "    }\n",
       "\n",
       "    .dataframe thead th {\n",
       "        text-align: right;\n",
       "    }\n",
       "</style>\n",
       "<table border=\"1\" class=\"dataframe\">\n",
       "  <thead>\n",
       "    <tr style=\"text-align: right;\">\n",
       "      <th></th>\n",
       "      <th>mon</th>\n",
       "      <th>0</th>\n",
       "    </tr>\n",
       "  </thead>\n",
       "  <tbody>\n",
       "    <tr>\n",
       "      <th>23</th>\n",
       "      <td>2019-12</td>\n",
       "      <td>136356</td>\n",
       "    </tr>\n",
       "    <tr>\n",
       "      <th>24</th>\n",
       "      <td>2020-01</td>\n",
       "      <td>126487</td>\n",
       "    </tr>\n",
       "    <tr>\n",
       "      <th>25</th>\n",
       "      <td>2020-02</td>\n",
       "      <td>122135</td>\n",
       "    </tr>\n",
       "    <tr>\n",
       "      <th>26</th>\n",
       "      <td>2020-03</td>\n",
       "      <td>180835</td>\n",
       "    </tr>\n",
       "    <tr>\n",
       "      <th>27</th>\n",
       "      <td>2020-04</td>\n",
       "      <td>121861</td>\n",
       "    </tr>\n",
       "  </tbody>\n",
       "</table>\n",
       "</div>"
      ],
      "text/plain": [
       "        mon       0\n",
       "23  2019-12  136356\n",
       "24  2020-01  126487\n",
       "25  2020-02  122135\n",
       "26  2020-03  180835\n",
       "27  2020-04  121861"
      ]
     },
     "execution_count": 125,
     "metadata": {},
     "output_type": "execute_result"
    }
   ],
   "source": [
    "## 每月总客户数量\n",
    "cust_tb = order_all.groupby(['date_pay','tb_id']).size().reset_index()\n",
    "cust_bb = order_all.groupby(['date_pay','bb_id']).size().reset_index()\n",
    "cust_tb.columns = ['date_pay','cust_id','num']\n",
    "cust_bb.columns = ['date_pay','cust_id','num']\n",
    "\n",
    "col = ['date_pay','cust_id']\n",
    "cust_num_sum = pd.concat([cust_tb[col],cust_bb[col]]).drop_duplicates()\n",
    "cust_num_sum['mon'] = cust_num_sum.date_pay.map(date_bus)\n",
    "cust_num_sum.mon.fillna('2016-05',inplace=True)\n",
    "cust_num_sum = cust_num_sum[['mon','cust_id']].drop_duplicates()\n",
    "\n",
    "cust_num_sum.groupby('mon').size().reset_index().tail()"
   ]
  },
  {
   "cell_type": "code",
   "execution_count": 126,
   "metadata": {
    "ExecuteTime": {
     "end_time": "2020-04-29T10:17:18.026511Z",
     "start_time": "2020-04-29T10:17:08.389463Z"
    }
   },
   "outputs": [
    {
     "data": {
      "text/html": [
       "<div>\n",
       "<style scoped>\n",
       "    .dataframe tbody tr th:only-of-type {\n",
       "        vertical-align: middle;\n",
       "    }\n",
       "\n",
       "    .dataframe tbody tr th {\n",
       "        vertical-align: top;\n",
       "    }\n",
       "\n",
       "    .dataframe thead th {\n",
       "        text-align: right;\n",
       "    }\n",
       "</style>\n",
       "<table border=\"1\" class=\"dataframe\">\n",
       "  <thead>\n",
       "    <tr style=\"text-align: right;\">\n",
       "      <th></th>\n",
       "      <th>mon</th>\n",
       "      <th>0</th>\n",
       "      <th>是</th>\n",
       "      <th>否</th>\n",
       "    </tr>\n",
       "  </thead>\n",
       "  <tbody>\n",
       "    <tr>\n",
       "      <th>0</th>\n",
       "      <td>2019-05</td>\n",
       "      <td>60320</td>\n",
       "      <td>39051</td>\n",
       "      <td>21269</td>\n",
       "    </tr>\n",
       "    <tr>\n",
       "      <th>1</th>\n",
       "      <td>2019-06</td>\n",
       "      <td>64010</td>\n",
       "      <td>43406</td>\n",
       "      <td>20604</td>\n",
       "    </tr>\n",
       "    <tr>\n",
       "      <th>2</th>\n",
       "      <td>2019-07</td>\n",
       "      <td>60103</td>\n",
       "      <td>41412</td>\n",
       "      <td>18691</td>\n",
       "    </tr>\n",
       "    <tr>\n",
       "      <th>3</th>\n",
       "      <td>2019-08</td>\n",
       "      <td>68787</td>\n",
       "      <td>48419</td>\n",
       "      <td>20368</td>\n",
       "    </tr>\n",
       "    <tr>\n",
       "      <th>4</th>\n",
       "      <td>2019-09</td>\n",
       "      <td>94179</td>\n",
       "      <td>64546</td>\n",
       "      <td>29633</td>\n",
       "    </tr>\n",
       "    <tr>\n",
       "      <th>5</th>\n",
       "      <td>2019-10</td>\n",
       "      <td>60041</td>\n",
       "      <td>41703</td>\n",
       "      <td>18338</td>\n",
       "    </tr>\n",
       "    <tr>\n",
       "      <th>6</th>\n",
       "      <td>2019-11</td>\n",
       "      <td>59332</td>\n",
       "      <td>41604</td>\n",
       "      <td>17728</td>\n",
       "    </tr>\n",
       "    <tr>\n",
       "      <th>7</th>\n",
       "      <td>2019-12</td>\n",
       "      <td>54059</td>\n",
       "      <td>38590</td>\n",
       "      <td>15469</td>\n",
       "    </tr>\n",
       "    <tr>\n",
       "      <th>8</th>\n",
       "      <td>2020-01</td>\n",
       "      <td>57443</td>\n",
       "      <td>41584</td>\n",
       "      <td>15859</td>\n",
       "    </tr>\n",
       "    <tr>\n",
       "      <th>9</th>\n",
       "      <td>2020-02</td>\n",
       "      <td>61826</td>\n",
       "      <td>49529</td>\n",
       "      <td>12297</td>\n",
       "    </tr>\n",
       "    <tr>\n",
       "      <th>10</th>\n",
       "      <td>2020-03</td>\n",
       "      <td>82732</td>\n",
       "      <td>63768</td>\n",
       "      <td>18964</td>\n",
       "    </tr>\n",
       "    <tr>\n",
       "      <th>11</th>\n",
       "      <td>2020-04</td>\n",
       "      <td>62862</td>\n",
       "      <td>44788</td>\n",
       "      <td>18074</td>\n",
       "    </tr>\n",
       "  </tbody>\n",
       "</table>\n",
       "</div>"
      ],
      "text/plain": [
       "        mon      0      是      否\n",
       "0   2019-05  60320  39051  21269\n",
       "1   2019-06  64010  43406  20604\n",
       "2   2019-07  60103  41412  18691\n",
       "3   2019-08  68787  48419  20368\n",
       "4   2019-09  94179  64546  29633\n",
       "5   2019-10  60041  41703  18338\n",
       "6   2019-11  59332  41604  17728\n",
       "7   2019-12  54059  38590  15469\n",
       "8   2020-01  57443  41584  15859\n",
       "9   2020-02  61826  49529  12297\n",
       "10  2020-03  82732  63768  18964\n",
       "11  2020-04  62862  44788  18074"
      ]
     },
     "execution_count": 126,
     "metadata": {},
     "output_type": "execute_result"
    }
   ],
   "source": [
    "##每月老客数量\n",
    "res1 = pd.merge(cust_num_sum,cust_info_online[['cust_id','date_pay_first','mon']],how='left',on=['mon','cust_id'])\n",
    "res1.loc[res1.date_pay_first.isna(),'cust_type'] ='老客'\n",
    "res1.cust_type.fillna('新客',inplace=True)\n",
    "res2 = pd.merge(res1,cust_info_online[['cust_id','is_insider']],how='left',on='cust_id')\n",
    "\n",
    "res_ocust_sum = res2.loc[res2.cust_type == '老客',:].groupby(['mon']).size().reset_index().tail(12)\n",
    "res_ocust_insider = res2.loc[res2.cust_type == '老客',:].groupby(['mon','is_insider']).size().reset_index().tail(24).pivot(index='mon',columns = 'is_insider',values=0).reset_index()[['mon','是','否']]\n",
    "pd.merge(res_ocust_sum,res_ocust_insider,how='left',on='mon')"
   ]
  },
  {
   "cell_type": "code",
   "execution_count": 127,
   "metadata": {
    "ExecuteTime": {
     "end_time": "2020-04-29T10:19:37.138429Z",
     "start_time": "2020-04-29T10:19:20.607565Z"
    }
   },
   "outputs": [
    {
     "data": {
      "text/html": [
       "<div>\n",
       "<style scoped>\n",
       "    .dataframe tbody tr th:only-of-type {\n",
       "        vertical-align: middle;\n",
       "    }\n",
       "\n",
       "    .dataframe tbody tr th {\n",
       "        vertical-align: top;\n",
       "    }\n",
       "\n",
       "    .dataframe thead th {\n",
       "        text-align: right;\n",
       "    }\n",
       "</style>\n",
       "<table border=\"1\" class=\"dataframe\">\n",
       "  <thead>\n",
       "    <tr style=\"text-align: right;\">\n",
       "      <th></th>\n",
       "      <th>mon</th>\n",
       "      <th>新客</th>\n",
       "      <th>是_x</th>\n",
       "      <th>否_x</th>\n",
       "      <th>老客</th>\n",
       "      <th>是_y</th>\n",
       "      <th>否_y</th>\n",
       "    </tr>\n",
       "  </thead>\n",
       "  <tbody>\n",
       "    <tr>\n",
       "      <th>0</th>\n",
       "      <td>2019-05</td>\n",
       "      <td>2.017580e+07</td>\n",
       "      <td>1.376635e+07</td>\n",
       "      <td>6409452.82</td>\n",
       "      <td>1.362636e+07</td>\n",
       "      <td>1.051595e+07</td>\n",
       "      <td>3110411.39</td>\n",
       "    </tr>\n",
       "    <tr>\n",
       "      <th>1</th>\n",
       "      <td>2019-06</td>\n",
       "      <td>2.047645e+07</td>\n",
       "      <td>1.501493e+07</td>\n",
       "      <td>5461514.54</td>\n",
       "      <td>1.543290e+07</td>\n",
       "      <td>1.211227e+07</td>\n",
       "      <td>3320628.96</td>\n",
       "    </tr>\n",
       "    <tr>\n",
       "      <th>2</th>\n",
       "      <td>2019-07</td>\n",
       "      <td>1.776492e+07</td>\n",
       "      <td>1.303341e+07</td>\n",
       "      <td>4731507.59</td>\n",
       "      <td>1.413387e+07</td>\n",
       "      <td>1.102361e+07</td>\n",
       "      <td>3110267.99</td>\n",
       "    </tr>\n",
       "    <tr>\n",
       "      <th>3</th>\n",
       "      <td>2019-08</td>\n",
       "      <td>1.776244e+07</td>\n",
       "      <td>1.336868e+07</td>\n",
       "      <td>4393762.68</td>\n",
       "      <td>1.752786e+07</td>\n",
       "      <td>1.347398e+07</td>\n",
       "      <td>4053878.41</td>\n",
       "    </tr>\n",
       "    <tr>\n",
       "      <th>4</th>\n",
       "      <td>2019-09</td>\n",
       "      <td>2.106582e+07</td>\n",
       "      <td>1.553778e+07</td>\n",
       "      <td>5528043.46</td>\n",
       "      <td>1.950285e+07</td>\n",
       "      <td>1.442061e+07</td>\n",
       "      <td>5082240.74</td>\n",
       "    </tr>\n",
       "    <tr>\n",
       "      <th>5</th>\n",
       "      <td>2019-10</td>\n",
       "      <td>1.734281e+07</td>\n",
       "      <td>1.336235e+07</td>\n",
       "      <td>3980454.84</td>\n",
       "      <td>1.618709e+07</td>\n",
       "      <td>1.253543e+07</td>\n",
       "      <td>3651650.97</td>\n",
       "    </tr>\n",
       "    <tr>\n",
       "      <th>6</th>\n",
       "      <td>2019-11</td>\n",
       "      <td>1.852868e+07</td>\n",
       "      <td>1.442770e+07</td>\n",
       "      <td>4100975.22</td>\n",
       "      <td>1.945685e+07</td>\n",
       "      <td>1.524612e+07</td>\n",
       "      <td>4210735.11</td>\n",
       "    </tr>\n",
       "    <tr>\n",
       "      <th>7</th>\n",
       "      <td>2019-12</td>\n",
       "      <td>1.888982e+07</td>\n",
       "      <td>1.480447e+07</td>\n",
       "      <td>4085351.72</td>\n",
       "      <td>1.893903e+07</td>\n",
       "      <td>1.499284e+07</td>\n",
       "      <td>3946183.63</td>\n",
       "    </tr>\n",
       "    <tr>\n",
       "      <th>8</th>\n",
       "      <td>2020-01</td>\n",
       "      <td>1.789971e+07</td>\n",
       "      <td>1.419137e+07</td>\n",
       "      <td>3708342.23</td>\n",
       "      <td>2.002434e+07</td>\n",
       "      <td>1.556410e+07</td>\n",
       "      <td>4460235.32</td>\n",
       "    </tr>\n",
       "    <tr>\n",
       "      <th>9</th>\n",
       "      <td>2020-02</td>\n",
       "      <td>1.648124e+07</td>\n",
       "      <td>1.404621e+07</td>\n",
       "      <td>2435029.02</td>\n",
       "      <td>2.220023e+07</td>\n",
       "      <td>1.824564e+07</td>\n",
       "      <td>3954587.20</td>\n",
       "    </tr>\n",
       "    <tr>\n",
       "      <th>10</th>\n",
       "      <td>2020-03</td>\n",
       "      <td>1.632603e+07</td>\n",
       "      <td>1.282711e+07</td>\n",
       "      <td>3498920.18</td>\n",
       "      <td>2.207493e+07</td>\n",
       "      <td>1.696276e+07</td>\n",
       "      <td>5112170.88</td>\n",
       "    </tr>\n",
       "    <tr>\n",
       "      <th>11</th>\n",
       "      <td>2020-04</td>\n",
       "      <td>1.947049e+07</td>\n",
       "      <td>1.444806e+07</td>\n",
       "      <td>5022435.04</td>\n",
       "      <td>2.394093e+07</td>\n",
       "      <td>1.838089e+07</td>\n",
       "      <td>5560037.31</td>\n",
       "    </tr>\n",
       "  </tbody>\n",
       "</table>\n",
       "</div>"
      ],
      "text/plain": [
       "        mon            新客           是_x         否_x            老客  \\\n",
       "0   2019-05  2.017580e+07  1.376635e+07  6409452.82  1.362636e+07   \n",
       "1   2019-06  2.047645e+07  1.501493e+07  5461514.54  1.543290e+07   \n",
       "2   2019-07  1.776492e+07  1.303341e+07  4731507.59  1.413387e+07   \n",
       "3   2019-08  1.776244e+07  1.336868e+07  4393762.68  1.752786e+07   \n",
       "4   2019-09  2.106582e+07  1.553778e+07  5528043.46  1.950285e+07   \n",
       "5   2019-10  1.734281e+07  1.336235e+07  3980454.84  1.618709e+07   \n",
       "6   2019-11  1.852868e+07  1.442770e+07  4100975.22  1.945685e+07   \n",
       "7   2019-12  1.888982e+07  1.480447e+07  4085351.72  1.893903e+07   \n",
       "8   2020-01  1.789971e+07  1.419137e+07  3708342.23  2.002434e+07   \n",
       "9   2020-02  1.648124e+07  1.404621e+07  2435029.02  2.220023e+07   \n",
       "10  2020-03  1.632603e+07  1.282711e+07  3498920.18  2.207493e+07   \n",
       "11  2020-04  1.947049e+07  1.444806e+07  5022435.04  2.394093e+07   \n",
       "\n",
       "             是_y         否_y  \n",
       "0   1.051595e+07  3110411.39  \n",
       "1   1.211227e+07  3320628.96  \n",
       "2   1.102361e+07  3110267.99  \n",
       "3   1.347398e+07  4053878.41  \n",
       "4   1.442061e+07  5082240.74  \n",
       "5   1.253543e+07  3651650.97  \n",
       "6   1.524612e+07  4210735.11  \n",
       "7   1.499284e+07  3946183.63  \n",
       "8   1.556410e+07  4460235.32  \n",
       "9   1.824564e+07  3954587.20  \n",
       "10  1.696276e+07  5112170.88  \n",
       "11  1.838089e+07  5560037.31  "
      ]
     },
     "execution_count": 127,
     "metadata": {},
     "output_type": "execute_result"
    }
   ],
   "source": [
    "## 新老客保费\n",
    "order_all['mon'] = order_all.date_pay.map(date_bus)\n",
    "col = ['order','date_pay','mon','bf','tb_id','bb_id','is_insider']\n",
    "res_01 = pd.merge(order_all[col],cust_info_online,how='left',left_on=['mon','tb_id'],right_on=['mon','cust_id'])\n",
    "res_02 = pd.merge(res_01,cust_info_online,how='left',left_on=['mon','bb_id'],right_on=['mon','cust_id'],suffixes=['_tb','_bb'])\n",
    "\n",
    "res_02.loc[(res_02.cust_id_tb.notna()) & (res_02.cust_id_bb.notna()),'is_new_cust'] = '新客'\n",
    "res_02.is_new_cust.fillna('老客',inplace=True)\n",
    "\n",
    "res_ncust_insider = res_02.loc[res_02.is_new_cust =='新客',:].groupby(['mon','is_new_cust','is_insider_x']).bf.sum().reset_index().tail(24).pivot(index='mon',columns='is_insider_x',values='bf').reset_index()\n",
    "res_ocust_insider = res_02.loc[res_02.is_new_cust =='老客',:].groupby(['mon','is_new_cust','is_insider_x']).bf.sum().reset_index().tail(24).pivot(index='mon',columns='is_insider_x',values='bf').reset_index()\n",
    "res_sum = pd.merge(res_ncust_insider,res_ocust_insider,how='left',on='mon')\n",
    "\n",
    "res_bf = res_02.groupby(['mon','is_new_cust']).bf.sum().reset_index().tail(24).pivot(index='mon',columns = 'is_new_cust',values='bf').reset_index()\n",
    "pd.merge(res_bf,res_sum,how='left',on='mon')[['mon','新客','是_x','否_x','老客','是_y','否_y']]"
   ]
  },
  {
   "cell_type": "code",
   "execution_count": 130,
   "metadata": {
    "ExecuteTime": {
     "end_time": "2020-04-29T10:26:13.487303Z",
     "start_time": "2020-04-29T10:26:13.331746Z"
    }
   },
   "outputs": [
    {
     "data": {
      "text/html": [
       "<div>\n",
       "<style scoped>\n",
       "    .dataframe tbody tr th:only-of-type {\n",
       "        vertical-align: middle;\n",
       "    }\n",
       "\n",
       "    .dataframe tbody tr th {\n",
       "        vertical-align: top;\n",
       "    }\n",
       "\n",
       "    .dataframe thead th {\n",
       "        text-align: right;\n",
       "    }\n",
       "</style>\n",
       "<table border=\"1\" class=\"dataframe\">\n",
       "  <thead>\n",
       "    <tr style=\"text-align: right;\">\n",
       "      <th>key</th>\n",
       "      <th>APP</th>\n",
       "      <th>APP_是</th>\n",
       "      <th>APP_否</th>\n",
       "      <th>网页</th>\n",
       "      <th>网页_是</th>\n",
       "      <th>网页_否</th>\n",
       "      <th>批量</th>\n",
       "      <th>批量_是</th>\n",
       "      <th>批量_否</th>\n",
       "    </tr>\n",
       "    <tr>\n",
       "      <th>mon</th>\n",
       "      <th></th>\n",
       "      <th></th>\n",
       "      <th></th>\n",
       "      <th></th>\n",
       "      <th></th>\n",
       "      <th></th>\n",
       "      <th></th>\n",
       "      <th></th>\n",
       "      <th></th>\n",
       "    </tr>\n",
       "  </thead>\n",
       "  <tbody>\n",
       "    <tr>\n",
       "      <th>2020-01</th>\n",
       "      <td>77054</td>\n",
       "      <td>52052</td>\n",
       "      <td>25002</td>\n",
       "      <td>25541</td>\n",
       "      <td>17970</td>\n",
       "      <td>7571</td>\n",
       "      <td>11744</td>\n",
       "      <td>8919</td>\n",
       "      <td>2825</td>\n",
       "    </tr>\n",
       "    <tr>\n",
       "      <th>2020-02</th>\n",
       "      <td>84811</td>\n",
       "      <td>70766</td>\n",
       "      <td>14045</td>\n",
       "      <td>28284</td>\n",
       "      <td>24161</td>\n",
       "      <td>4123</td>\n",
       "      <td>577</td>\n",
       "      <td>425</td>\n",
       "      <td>152</td>\n",
       "    </tr>\n",
       "    <tr>\n",
       "      <th>2020-03</th>\n",
       "      <td>76420</td>\n",
       "      <td>52551</td>\n",
       "      <td>23869</td>\n",
       "      <td>95743</td>\n",
       "      <td>89056</td>\n",
       "      <td>6687</td>\n",
       "      <td>302</td>\n",
       "      <td>247</td>\n",
       "      <td>55</td>\n",
       "    </tr>\n",
       "    <tr>\n",
       "      <th>2020-04</th>\n",
       "      <td>88562</td>\n",
       "      <td>56517</td>\n",
       "      <td>32045</td>\n",
       "      <td>20578</td>\n",
       "      <td>13511</td>\n",
       "      <td>7067</td>\n",
       "      <td>3576</td>\n",
       "      <td>3158</td>\n",
       "      <td>418</td>\n",
       "    </tr>\n",
       "  </tbody>\n",
       "</table>\n",
       "</div>"
      ],
      "text/plain": [
       "key        APP  APP_是  APP_否     网页   网页_是  网页_否     批量  批量_是  批量_否\n",
       "mon                                                                \n",
       "2020-01  77054  52052  25002  25541  17970  7571  11744  8919  2825\n",
       "2020-02  84811  70766  14045  28284  24161  4123    577   425   152\n",
       "2020-03  76420  52551  23869  95743  89056  6687    302   247    55\n",
       "2020-04  88562  56517  32045  20578  13511  7067   3576  3158   418"
      ]
     },
     "execution_count": 130,
     "metadata": {},
     "output_type": "execute_result"
    }
   ],
   "source": [
    "## 支付方式\n",
    "res = order_sum.groupby(['mon','channel_src','is_insider']).agg({'order':'count','bf':'sum'}).reset_index()\n",
    "res['key'] =res.channel_src + '_' + res.is_insider\n",
    "res_cnt = res.pivot(index='mon',columns = 'key',values= 'order')\n",
    "\n",
    "res_cnt['APP'] = res_cnt.APP_否 + res_cnt.APP_是\n",
    "res_cnt['网页'] = res_cnt.网页_否 + res_cnt.网页_是\n",
    "res_cnt['批量'] = res_cnt.批量_否 + res_cnt.批量_是\n",
    "\n",
    "col = ['APP','APP_是','APP_否','网页','网页_是','网页_否','批量','批量_是','批量_否']\n",
    "res_cnt[col].tail(12)"
   ]
  },
  {
   "cell_type": "markdown",
   "metadata": {},
   "source": [
    "### 客户贡献情况"
   ]
  },
  {
   "cell_type": "code",
   "execution_count": 174,
   "metadata": {
    "ExecuteTime": {
     "end_time": "2020-04-30T03:49:48.502409Z",
     "start_time": "2020-04-30T03:49:44.403371Z"
    }
   },
   "outputs": [],
   "source": [
    "order_all['rns'] = order_all['date_pay'].groupby(order_all['uid']).rank(ascending=False,method='first')\n",
    "user_info = order_all.loc[order_all.rns ==1,['uid','ucode']].copy()"
   ]
  },
  {
   "cell_type": "code",
   "execution_count": 203,
   "metadata": {
    "ExecuteTime": {
     "end_time": "2020-04-30T05:49:08.097022Z",
     "start_time": "2020-04-30T05:49:01.396199Z"
    }
   },
   "outputs": [],
   "source": [
    "order_sum['uid'] = order_sum.uid.map(lambda x:x.strip())\n",
    "user_info['uid'] = user_info.uid.map(lambda x:x.strip())\n",
    "order_sum.ucode.fillna(0,inplace=True)\n",
    "order_sum['ucode'] = order_sum.ucode.map(lambda x:str(int(x)).strip())\n",
    "\n",
    "order_on = pd.merge(order_sum,user_info,how='left',on='uid')\n",
    "order_on.ucode_y.fillna(0,inplace=True)\n",
    "order_on['ucode'] = order_on.ucode_y.map(lambda x:str(int(x)).strip())\n",
    "order_off = order_detail.copy()\n",
    "order_off['ucode']\n",
    "order_off['ucode'] = order_off.ucode.map(lambda x:str(int(x)).strip())"
   ]
  },
  {
   "cell_type": "code",
   "execution_count": 206,
   "metadata": {
    "ExecuteTime": {
     "end_time": "2020-04-30T05:49:27.208271Z",
     "start_time": "2020-04-30T05:49:26.928021Z"
    }
   },
   "outputs": [],
   "source": [
    "order_on['cust_id_tb'] = order_on.ucode + '_'+order_on.tb_name\n",
    "order_on['cust_id_bb'] = order_on.ucode + '_'+order_on.bb_name\n",
    "\n",
    "order_off['cust_id_tb'] = order_off.ucode + '_'+order_off.tb_name\n",
    "order_off['cust_id_bb'] = order_off.ucode + '_'+order_off.bb_name"
   ]
  },
  {
   "cell_type": "code",
   "execution_count": 245,
   "metadata": {
    "ExecuteTime": {
     "end_time": "2020-04-30T06:22:36.964265Z",
     "start_time": "2020-04-30T06:22:36.706954Z"
    }
   },
   "outputs": [
    {
     "data": {
      "text/html": [
       "<div>\n",
       "<style scoped>\n",
       "    .dataframe tbody tr th:only-of-type {\n",
       "        vertical-align: middle;\n",
       "    }\n",
       "\n",
       "    .dataframe tbody tr th {\n",
       "        vertical-align: top;\n",
       "    }\n",
       "\n",
       "    .dataframe thead th {\n",
       "        text-align: right;\n",
       "    }\n",
       "</style>\n",
       "<table border=\"1\" class=\"dataframe\">\n",
       "  <thead>\n",
       "    <tr style=\"text-align: right;\">\n",
       "      <th></th>\n",
       "      <th>mon</th>\n",
       "      <th>ucode</th>\n",
       "    </tr>\n",
       "  </thead>\n",
       "  <tbody>\n",
       "    <tr>\n",
       "      <th>0</th>\n",
       "      <td>2020-01</td>\n",
       "      <td>4678</td>\n",
       "    </tr>\n",
       "    <tr>\n",
       "      <th>1</th>\n",
       "      <td>2020-02</td>\n",
       "      <td>2870</td>\n",
       "    </tr>\n",
       "    <tr>\n",
       "      <th>2</th>\n",
       "      <td>2020-03</td>\n",
       "      <td>4494</td>\n",
       "    </tr>\n",
       "    <tr>\n",
       "      <th>3</th>\n",
       "      <td>2020-04</td>\n",
       "      <td>4341</td>\n",
       "    </tr>\n",
       "  </tbody>\n",
       "</table>\n",
       "</div>"
      ],
      "text/plain": [
       "       mon  ucode\n",
       "0  2020-01   4678\n",
       "1  2020-02   2870\n",
       "2  2020-03   4494\n",
       "3  2020-04   4341"
      ]
     },
     "execution_count": 245,
     "metadata": {},
     "output_type": "execute_result"
    }
   ],
   "source": [
    "## 线上线下同时开单的代理人数\n",
    "res1 = order_sum.groupby(['mon','ucode']).bf.sum().reset_index()\n",
    "res2 = order_off.groupby(['mon','ucode']).bf_std.sum().reset_index()\n",
    "res = pd.merge(res1,res2,how='left',on=['mon','ucode'])\n",
    "res.loc[res.bf_std.notna(),:].groupby(['mon']).ucode.nunique().reset_index()"
   ]
  },
  {
   "cell_type": "code",
   "execution_count": 244,
   "metadata": {
    "ExecuteTime": {
     "end_time": "2020-04-30T06:21:53.729935Z",
     "start_time": "2020-04-30T06:21:52.030962Z"
    }
   },
   "outputs": [
    {
     "data": {
      "text/html": [
       "<div>\n",
       "<style scoped>\n",
       "    .dataframe tbody tr th:only-of-type {\n",
       "        vertical-align: middle;\n",
       "    }\n",
       "\n",
       "    .dataframe tbody tr th {\n",
       "        vertical-align: top;\n",
       "    }\n",
       "\n",
       "    .dataframe thead th {\n",
       "        text-align: right;\n",
       "    }\n",
       "</style>\n",
       "<table border=\"1\" class=\"dataframe\">\n",
       "  <thead>\n",
       "    <tr style=\"text-align: right;\">\n",
       "      <th></th>\n",
       "      <th>mon</th>\n",
       "      <th>cust_id_bb</th>\n",
       "    </tr>\n",
       "  </thead>\n",
       "  <tbody>\n",
       "    <tr>\n",
       "      <th>0</th>\n",
       "      <td>2020-01</td>\n",
       "      <td>3236</td>\n",
       "    </tr>\n",
       "    <tr>\n",
       "      <th>1</th>\n",
       "      <td>2020-02</td>\n",
       "      <td>2095</td>\n",
       "    </tr>\n",
       "    <tr>\n",
       "      <th>2</th>\n",
       "      <td>2020-03</td>\n",
       "      <td>3314</td>\n",
       "    </tr>\n",
       "    <tr>\n",
       "      <th>3</th>\n",
       "      <td>2020-04</td>\n",
       "      <td>3085</td>\n",
       "    </tr>\n",
       "  </tbody>\n",
       "</table>\n",
       "</div>"
      ],
      "text/plain": [
       "       mon  cust_id_bb\n",
       "0  2020-01        3236\n",
       "1  2020-02        2095\n",
       "2  2020-03        3314\n",
       "3  2020-04        3085"
      ]
     },
     "execution_count": 244,
     "metadata": {},
     "output_type": "execute_result"
    }
   ],
   "source": [
    "## 线上线下同时开单的客户数\n",
    "res1 = order_on.groupby(['date_pay','cust_id_bb']).bf.sum().reset_index()\n",
    "res1['mon'] = res1.date_pay.map(date_bus)\n",
    "res2 = order_off.groupby(['date_pay','cust_id_bb']).bf_std.sum().reset_index()\n",
    "res2['mon'] = res2.date_pay.map(date_bus)\n",
    "res = pd.merge(res1,res2,how='left',on=['mon','cust_id_bb'])\n",
    "res.loc[res.bf_std.notna(),:].groupby(['mon']).cust_id_bb.nunique().reset_index()"
   ]
  },
  {
   "cell_type": "code",
   "execution_count": 218,
   "metadata": {
    "ExecuteTime": {
     "end_time": "2020-04-30T05:55:34.738707Z",
     "start_time": "2020-04-30T05:55:31.873987Z"
    }
   },
   "outputs": [],
   "source": [
    "##线上客户首单时间\n",
    "order_on['rns'] = order_on['date_pay'].groupby(order_on['cust_id_tb']).rank(ascending=True,method='first')\n",
    "cust_id_tb = order_on.loc[order_on.rns ==1,['cust_id_tb','date_pay','area_type','ucode','uid']].copy()\n",
    "cust_id_tb.columns = ['cust_id_bb','date_pay','area_type','ucode','uid']\n",
    "order_on['rns'] = order_on['date_pay'].groupby(order_on['cust_id_bb']).rank(ascending=True,method='first')\n",
    "cust_id_bb = order_on.loc[order_on.rns ==1,['cust_id_bb','date_pay','area_type','ucode','uid']].copy()\n",
    "cust_id_on = pd.concat([cust_id_tb,cust_id_bb])"
   ]
  },
  {
   "cell_type": "code",
   "execution_count": 219,
   "metadata": {
    "ExecuteTime": {
     "end_time": "2020-04-30T05:55:49.428208Z",
     "start_time": "2020-04-30T05:55:49.104354Z"
    }
   },
   "outputs": [],
   "source": [
    "##线下客户首单时间\n",
    "order_off['rns'] = order_off['date_pay'].groupby(order_off['cust_id_tb']).rank(ascending=True,method='first')\n",
    "cust_id_tb = order_off.loc[order_off.rns ==1,['cust_id_tb','date_pay','area_type','ucode']].copy()\n",
    "cust_id_tb.columns = ['cust_id_bb','date_pay','area_type','ucode']\n",
    "order_off['rns'] = order_off['date_pay'].groupby(order_off['cust_id_bb']).rank(ascending=True,method='first')\n",
    "cust_id_bb = order_off.loc[order_off.rns ==1,['cust_id_bb','date_pay','area_type','ucode']].copy()\n",
    "cust_id_off = pd.concat([cust_id_tb,cust_id_bb])"
   ]
  },
  {
   "cell_type": "code",
   "execution_count": 222,
   "metadata": {
    "ExecuteTime": {
     "end_time": "2020-04-30T05:57:53.413105Z",
     "start_time": "2020-04-30T05:57:51.863916Z"
    }
   },
   "outputs": [],
   "source": [
    "cust_id_on['rns'] = cust_id_on['date_pay'].groupby(cust_id_on['cust_id_bb']).rank(ascending=True,method='first')\n",
    "cust_id_off['rns'] = cust_id_off['date_pay'].groupby(cust_id_off['cust_id_bb']).rank(ascending=True,method='first')"
   ]
  },
  {
   "cell_type": "code",
   "execution_count": 229,
   "metadata": {
    "ExecuteTime": {
     "end_time": "2020-04-30T06:02:14.316528Z",
     "start_time": "2020-04-30T06:02:13.748633Z"
    }
   },
   "outputs": [],
   "source": [
    "cust_id_on = cust_id_on.loc[cust_id_on.rns ==1,:].copy()\n",
    "cust_id_off = cust_id_off.loc[cust_id_off.rns ==1,:].copy()\n",
    "cust_res = pd.merge(cust_id_on,cust_id_off[['cust_id_bb','date_pay']],how='left',on='cust_id_bb')"
   ]
  },
  {
   "cell_type": "code",
   "execution_count": 231,
   "metadata": {
    "ExecuteTime": {
     "end_time": "2020-04-30T06:03:06.068771Z",
     "start_time": "2020-04-30T06:03:02.484327Z"
    }
   },
   "outputs": [],
   "source": [
    "cust_res['days'] = (cust_res.date_pay_y - cust_res.date_pay_x).map(lambda x:x.days)"
   ]
  },
  {
   "cell_type": "code",
   "execution_count": 248,
   "metadata": {
    "ExecuteTime": {
     "end_time": "2020-04-30T06:42:30.557640Z",
     "start_time": "2020-04-30T06:42:30.377969Z"
    }
   },
   "outputs": [
    {
     "data": {
      "text/html": [
       "<div>\n",
       "<style scoped>\n",
       "    .dataframe tbody tr th:only-of-type {\n",
       "        vertical-align: middle;\n",
       "    }\n",
       "\n",
       "    .dataframe tbody tr th {\n",
       "        vertical-align: top;\n",
       "    }\n",
       "\n",
       "    .dataframe thead th {\n",
       "        text-align: right;\n",
       "    }\n",
       "</style>\n",
       "<table border=\"1\" class=\"dataframe\">\n",
       "  <thead>\n",
       "    <tr style=\"text-align: right;\">\n",
       "      <th></th>\n",
       "      <th>mon</th>\n",
       "      <th>cust_id_bb</th>\n",
       "    </tr>\n",
       "  </thead>\n",
       "  <tbody>\n",
       "    <tr>\n",
       "      <th>0</th>\n",
       "      <td>2020-01</td>\n",
       "      <td>2160</td>\n",
       "    </tr>\n",
       "    <tr>\n",
       "      <th>1</th>\n",
       "      <td>2020-02</td>\n",
       "      <td>2702</td>\n",
       "    </tr>\n",
       "    <tr>\n",
       "      <th>2</th>\n",
       "      <td>2020-03</td>\n",
       "      <td>2238</td>\n",
       "    </tr>\n",
       "    <tr>\n",
       "      <th>3</th>\n",
       "      <td>2020-04</td>\n",
       "      <td>555</td>\n",
       "    </tr>\n",
       "  </tbody>\n",
       "</table>\n",
       "</div>"
      ],
      "text/plain": [
       "       mon  cust_id_bb\n",
       "0  2020-01        2160\n",
       "1  2020-02        2702\n",
       "2  2020-03        2238\n",
       "3  2020-04         555"
      ]
     },
     "execution_count": 248,
     "metadata": {},
     "output_type": "execute_result"
    }
   ],
   "source": [
    "## 线上客户首单时间  与 线下客户首单时间\n",
    "cust_res['mon'] = cust_res.date_pay_x.map(date_bus)\n",
    "cust_res.loc[cust_res.days >=2,:].groupby('mon').cust_id_bb.nunique().reset_index()"
   ]
  },
  {
   "cell_type": "code",
   "execution_count": 251,
   "metadata": {
    "ExecuteTime": {
     "end_time": "2020-04-30T06:44:43.639860Z",
     "start_time": "2020-04-30T06:44:43.543147Z"
    }
   },
   "outputs": [
    {
     "data": {
      "text/html": [
       "<div>\n",
       "<style scoped>\n",
       "    .dataframe tbody tr th:only-of-type {\n",
       "        vertical-align: middle;\n",
       "    }\n",
       "\n",
       "    .dataframe tbody tr th {\n",
       "        vertical-align: top;\n",
       "    }\n",
       "\n",
       "    .dataframe thead th {\n",
       "        text-align: right;\n",
       "    }\n",
       "</style>\n",
       "<table border=\"1\" class=\"dataframe\">\n",
       "  <thead>\n",
       "    <tr style=\"text-align: right;\">\n",
       "      <th></th>\n",
       "      <th>mon</th>\n",
       "      <th>bf_std</th>\n",
       "    </tr>\n",
       "  </thead>\n",
       "  <tbody>\n",
       "    <tr>\n",
       "      <th>0</th>\n",
       "      <td>2020-01</td>\n",
       "      <td>3077202.40</td>\n",
       "    </tr>\n",
       "    <tr>\n",
       "      <th>1</th>\n",
       "      <td>2020-02</td>\n",
       "      <td>4980967.93</td>\n",
       "    </tr>\n",
       "    <tr>\n",
       "      <th>2</th>\n",
       "      <td>2020-03</td>\n",
       "      <td>14209179.62</td>\n",
       "    </tr>\n",
       "    <tr>\n",
       "      <th>3</th>\n",
       "      <td>2020-04</td>\n",
       "      <td>13785197.52</td>\n",
       "    </tr>\n",
       "    <tr>\n",
       "      <th>4</th>\n",
       "      <td>2020-05</td>\n",
       "      <td>1602306.27</td>\n",
       "    </tr>\n",
       "  </tbody>\n",
       "</table>\n",
       "</div>"
      ],
      "text/plain": [
       "       mon       bf_std\n",
       "0  2020-01   3077202.40\n",
       "1  2020-02   4980967.93\n",
       "2  2020-03  14209179.62\n",
       "3  2020-04  13785197.52\n",
       "4  2020-05   1602306.27"
      ]
     },
     "execution_count": 251,
     "metadata": {},
     "output_type": "execute_result"
    }
   ],
   "source": [
    "order_off.loc[order_off.cust_id_bb.isin(cust_res.loc[cust_res.days >=2,:].cust_id_bb.unique()),:].groupby('mon').bf_std.sum().reset_index()"
   ]
  },
  {
   "cell_type": "markdown",
   "metadata": {},
   "source": [
    "## 活动成本计算"
   ]
  },
  {
   "cell_type": "markdown",
   "metadata": {},
   "source": [
    "### 福利券"
   ]
  },
  {
   "cell_type": "code",
   "execution_count": 125,
   "metadata": {
    "ExecuteTime": {
     "end_time": "2020-01-01T10:59:20.691239Z",
     "start_time": "2020-01-01T10:59:19.302930Z"
    }
   },
   "outputs": [],
   "source": [
    "order_sum = order_2019_need.copy()"
   ]
  },
  {
   "cell_type": "code",
   "execution_count": 14,
   "metadata": {
    "ExecuteTime": {
     "end_time": "2020-04-27T02:43:28.765035Z",
     "start_time": "2020-04-27T02:43:28.164571Z"
    }
   },
   "outputs": [],
   "source": [
    "order_sum['ticket_name_bak'] = order_sum.ticket_name \n",
    "order_sum.loc[order_sum.ticket_name_bak.notna(),'ticket_name_bak'] = order_sum.loc[order_sum.ticket_name_bak.notna(),'ticket_name_bak'].map(lambda x:x.strip())"
   ]
  },
  {
   "cell_type": "code",
   "execution_count": 17,
   "metadata": {
    "ExecuteTime": {
     "end_time": "2020-04-27T02:50:03.513098Z",
     "start_time": "2020-04-27T02:50:03.202921Z"
    }
   },
   "outputs": [],
   "source": [
    "order_sum.ticket_rate.fillna('无',inplace=True)\n",
    "order_sum.ticket_value.fillna('无',inplace=True)\n",
    "order_sum.loc[(order_sum.date_pay >= pd.to_datetime('2020-03-26'))\n",
    "                       & (order_sum.date_pay <= pd.to_datetime('2020-04-25'))\n",
    "                       ,:].groupby(['ticket_name','ticket_rate','ticket_value']).agg({'uid':'nunique','order':'count','tgf_X':'sum','bf':'sum'}).reset_index().to_excel('12.xlsx',encoding='gbk')"
   ]
  },
  {
   "cell_type": "code",
   "execution_count": 16,
   "metadata": {
    "ExecuteTime": {
     "end_time": "2020-04-27T02:43:32.967049Z",
     "start_time": "2020-04-27T02:43:32.623966Z"
    }
   },
   "outputs": [
    {
     "ename": "NameError",
     "evalue": "name 'order_need' is not defined",
     "output_type": "error",
     "traceback": [
      "\u001b[1;31m---------------------------------------------------------------------------\u001b[0m",
      "\u001b[1;31mNameError\u001b[0m                                 Traceback (most recent call last)",
      "\u001b[1;32m<ipython-input-16-78041df033d4>\u001b[0m in \u001b[0;36m<module>\u001b[1;34m()\u001b[0m\n\u001b[1;32m----> 1\u001b[1;33m \u001b[0morder_need\u001b[0m\u001b[1;33m.\u001b[0m\u001b[0mticket_rate\u001b[0m\u001b[1;33m.\u001b[0m\u001b[0mfillna\u001b[0m\u001b[1;33m(\u001b[0m\u001b[1;34m'无'\u001b[0m\u001b[1;33m,\u001b[0m\u001b[0minplace\u001b[0m\u001b[1;33m=\u001b[0m\u001b[1;32mTrue\u001b[0m\u001b[1;33m)\u001b[0m\u001b[1;33m\u001b[0m\u001b[0m\n\u001b[0m\u001b[0;32m      2\u001b[0m \u001b[0morder_need\u001b[0m\u001b[1;33m.\u001b[0m\u001b[0mticket_value\u001b[0m\u001b[1;33m.\u001b[0m\u001b[0mfillna\u001b[0m\u001b[1;33m(\u001b[0m\u001b[1;34m'无'\u001b[0m\u001b[1;33m,\u001b[0m\u001b[0minplace\u001b[0m\u001b[1;33m=\u001b[0m\u001b[1;32mTrue\u001b[0m\u001b[1;33m)\u001b[0m\u001b[1;33m\u001b[0m\u001b[0m\n\u001b[0;32m      3\u001b[0m order_need.loc[(order_need.date_pay >= pd.to_datetime('2019-10-26'))\n\u001b[0;32m      4\u001b[0m                     \u001b[1;33m&\u001b[0m \u001b[1;33m(\u001b[0m\u001b[0morder_need\u001b[0m\u001b[1;33m.\u001b[0m\u001b[0mdate_pay\u001b[0m \u001b[1;33m<=\u001b[0m \u001b[0mpd\u001b[0m\u001b[1;33m.\u001b[0m\u001b[0mto_datetime\u001b[0m\u001b[1;33m(\u001b[0m\u001b[1;34m'2019-11-25'\u001b[0m\u001b[1;33m)\u001b[0m\u001b[1;33m)\u001b[0m\u001b[1;33m\u001b[0m\u001b[0m\n\u001b[0;32m      5\u001b[0m                        ,:].groupby(['ticket_name','ticket_rate','ticket_value']).agg({'uid':'nunique','order':'count','tgf_X':'sum','bf':'sum'}).reset_index().to_excel('11.xlsx',encoding='gbk')\n",
      "\u001b[1;31mNameError\u001b[0m: name 'order_need' is not defined"
     ]
    }
   ],
   "source": [
    "order_need.ticket_rate.fillna('无',inplace=True)\n",
    "order_need.ticket_value.fillna('无',inplace=True)\n",
    "order_need.loc[(order_need.date_pay >= pd.to_datetime('2019-10-26'))\n",
    "                    & (order_need.date_pay <= pd.to_datetime('2019-11-25'))\n",
    "                       ,:].groupby(['ticket_name','ticket_rate','ticket_value']).agg({'uid':'nunique','order':'count','tgf_X':'sum','bf':'sum'}).reset_index().to_excel('11.xlsx',encoding='gbk')"
   ]
  },
  {
   "cell_type": "markdown",
   "metadata": {},
   "source": [
    "### 推广费成本"
   ]
  },
  {
   "cell_type": "code",
   "execution_count": 96,
   "metadata": {
    "ExecuteTime": {
     "end_time": "2020-04-27T09:04:00.567261Z",
     "start_time": "2020-04-27T09:04:00.025169Z"
    },
    "scrolled": true
   },
   "outputs": [
    {
     "data": {
      "text/html": [
       "<div>\n",
       "<style scoped>\n",
       "    .dataframe tbody tr th:only-of-type {\n",
       "        vertical-align: middle;\n",
       "    }\n",
       "\n",
       "    .dataframe tbody tr th {\n",
       "        vertical-align: top;\n",
       "    }\n",
       "\n",
       "    .dataframe thead th {\n",
       "        text-align: right;\n",
       "    }\n",
       "</style>\n",
       "<table border=\"1\" class=\"dataframe\">\n",
       "  <thead>\n",
       "    <tr style=\"text-align: right;\">\n",
       "      <th></th>\n",
       "      <th>mon</th>\n",
       "      <th>bf</th>\n",
       "      <th>tgf_A</th>\n",
       "      <th>tjf</th>\n",
       "      <th>tgf_B</th>\n",
       "      <th>tgf_b1</th>\n",
       "      <th>tgf_b2</th>\n",
       "      <th>tgf_B_cal</th>\n",
       "      <th>tgf_X</th>\n",
       "    </tr>\n",
       "  </thead>\n",
       "  <tbody>\n",
       "    <tr>\n",
       "      <th>0</th>\n",
       "      <td>2020-01</td>\n",
       "      <td>3.781093e+07</td>\n",
       "      <td>8.259251e+06</td>\n",
       "      <td>411120.00</td>\n",
       "      <td>4.271207e+06</td>\n",
       "      <td>3.462658e+06</td>\n",
       "      <td>733720.97</td>\n",
       "      <td>4.196379e+06</td>\n",
       "      <td>769427.74</td>\n",
       "    </tr>\n",
       "    <tr>\n",
       "      <th>1</th>\n",
       "      <td>2020-02</td>\n",
       "      <td>3.847426e+07</td>\n",
       "      <td>6.919081e+06</td>\n",
       "      <td>344222.17</td>\n",
       "      <td>3.445791e+06</td>\n",
       "      <td>3.154371e+06</td>\n",
       "      <td>291419.72</td>\n",
       "      <td>3.445791e+06</td>\n",
       "      <td>1062971.41</td>\n",
       "    </tr>\n",
       "    <tr>\n",
       "      <th>2</th>\n",
       "      <td>2020-03</td>\n",
       "      <td>3.821151e+07</td>\n",
       "      <td>7.849676e+06</td>\n",
       "      <td>390968.71</td>\n",
       "      <td>3.719637e+06</td>\n",
       "      <td>3.310317e+06</td>\n",
       "      <td>409319.24</td>\n",
       "      <td>3.719637e+06</td>\n",
       "      <td>999226.52</td>\n",
       "    </tr>\n",
       "    <tr>\n",
       "      <th>3</th>\n",
       "      <td>2020-04</td>\n",
       "      <td>4.329097e+07</td>\n",
       "      <td>9.150784e+06</td>\n",
       "      <td>455351.82</td>\n",
       "      <td>4.557177e+06</td>\n",
       "      <td>3.946183e+06</td>\n",
       "      <td>610993.83</td>\n",
       "      <td>4.557177e+06</td>\n",
       "      <td>727729.06</td>\n",
       "    </tr>\n",
       "  </tbody>\n",
       "</table>\n",
       "</div>"
      ],
      "text/plain": [
       "       mon            bf         tgf_A        tjf         tgf_B        tgf_b1  \\\n",
       "0  2020-01  3.781093e+07  8.259251e+06  411120.00  4.271207e+06  3.462658e+06   \n",
       "1  2020-02  3.847426e+07  6.919081e+06  344222.17  3.445791e+06  3.154371e+06   \n",
       "2  2020-03  3.821151e+07  7.849676e+06  390968.71  3.719637e+06  3.310317e+06   \n",
       "3  2020-04  4.329097e+07  9.150784e+06  455351.82  4.557177e+06  3.946183e+06   \n",
       "\n",
       "      tgf_b2     tgf_B_cal       tgf_X  \n",
       "0  733720.97  4.196379e+06   769427.74  \n",
       "1  291419.72  3.445791e+06  1062971.41  \n",
       "2  409319.24  3.719637e+06   999226.52  \n",
       "3  610993.83  4.557177e+06   727729.06  "
      ]
     },
     "execution_count": 96,
     "metadata": {},
     "output_type": "execute_result"
    }
   ],
   "source": [
    "agg_fun = {'bf':'sum','tgf_A':'sum','tjf':'sum','tgf_B':'sum','tgf_b1':'sum','tgf_b2':'sum','tgf_B_cal':'sum','tgf_X':'sum'}\n",
    "order_sum['tgf_B_cal'] = order_sum.tgf_b1 + order_sum.tgf_b2\n",
    "order_sum.loc[order_sum.uid !='U00000000',:].groupby('mon').agg(agg_fun).reset_index().tail()"
   ]
  },
  {
   "cell_type": "code",
   "execution_count": 97,
   "metadata": {
    "ExecuteTime": {
     "end_time": "2020-04-27T09:04:09.509401Z",
     "start_time": "2020-04-27T09:04:03.645110Z"
    }
   },
   "outputs": [],
   "source": [
    "order_all = pd.merge(order_sum,ptype,how='left',on='pname')"
   ]
  },
  {
   "cell_type": "code",
   "execution_count": 101,
   "metadata": {
    "ExecuteTime": {
     "end_time": "2020-04-27T09:04:52.441531Z",
     "start_time": "2020-04-27T09:04:52.267971Z"
    }
   },
   "outputs": [
    {
     "data": {
      "text/html": [
       "<div>\n",
       "<style scoped>\n",
       "    .dataframe tbody tr th:only-of-type {\n",
       "        vertical-align: middle;\n",
       "    }\n",
       "\n",
       "    .dataframe tbody tr th {\n",
       "        vertical-align: top;\n",
       "    }\n",
       "\n",
       "    .dataframe thead th {\n",
       "        text-align: right;\n",
       "    }\n",
       "</style>\n",
       "<table border=\"1\" class=\"dataframe\">\n",
       "  <thead>\n",
       "    <tr style=\"text-align: right;\">\n",
       "      <th></th>\n",
       "      <th>bf</th>\n",
       "      <th>tgf_A</th>\n",
       "      <th>tjf</th>\n",
       "      <th>tgf_B</th>\n",
       "      <th>tgf_b1</th>\n",
       "      <th>tgf_b2</th>\n",
       "      <th>tgf_X</th>\n",
       "    </tr>\n",
       "    <tr>\n",
       "      <th>plabel_term</th>\n",
       "      <th></th>\n",
       "      <th></th>\n",
       "      <th></th>\n",
       "      <th></th>\n",
       "      <th></th>\n",
       "      <th></th>\n",
       "      <th></th>\n",
       "    </tr>\n",
       "  </thead>\n",
       "  <tbody>\n",
       "    <tr>\n",
       "      <th>0</th>\n",
       "      <td>34216603.66</td>\n",
       "      <td>6.599647e+06</td>\n",
       "      <td>327647.63</td>\n",
       "      <td>2144577.63</td>\n",
       "      <td>1623044.96</td>\n",
       "      <td>521532.67</td>\n",
       "      <td>479086.10</td>\n",
       "    </tr>\n",
       "    <tr>\n",
       "      <th>1</th>\n",
       "      <td>9194814.22</td>\n",
       "      <td>2.575414e+06</td>\n",
       "      <td>128807.68</td>\n",
       "      <td>2423067.51</td>\n",
       "      <td>2332891.57</td>\n",
       "      <td>90175.71</td>\n",
       "      <td>248642.96</td>\n",
       "    </tr>\n",
       "  </tbody>\n",
       "</table>\n",
       "</div>"
      ],
      "text/plain": [
       "                      bf         tgf_A        tjf       tgf_B      tgf_b1  \\\n",
       "plabel_term                                                                 \n",
       "0            34216603.66  6.599647e+06  327647.63  2144577.63  1623044.96   \n",
       "1             9194814.22  2.575414e+06  128807.68  2423067.51  2332891.57   \n",
       "\n",
       "                tgf_b2      tgf_X  \n",
       "plabel_term                        \n",
       "0            521532.67  479086.10  \n",
       "1             90175.71  248642.96  "
      ]
     },
     "execution_count": 101,
     "metadata": {},
     "output_type": "execute_result"
    }
   ],
   "source": [
    "agg_fun = {'bf':'sum','tgf_A':'sum','tjf':'sum','tgf_B':'sum','tgf_b1':'sum','tgf_b2':'sum','tgf_X':'sum'}\n",
    "order_all.loc[order_all.mon =='2020-04',:].groupby(['plabel_term']).agg(agg_fun)"
   ]
  },
  {
   "cell_type": "code",
   "execution_count": 89,
   "metadata": {
    "ExecuteTime": {
     "end_time": "2020-04-27T09:01:36.897669Z",
     "start_time": "2020-04-27T09:01:36.888684Z"
    }
   },
   "outputs": [
    {
     "data": {
      "text/html": [
       "<div>\n",
       "<style scoped>\n",
       "    .dataframe tbody tr th:only-of-type {\n",
       "        vertical-align: middle;\n",
       "    }\n",
       "\n",
       "    .dataframe tbody tr th {\n",
       "        vertical-align: top;\n",
       "    }\n",
       "\n",
       "    .dataframe thead th {\n",
       "        text-align: right;\n",
       "    }\n",
       "</style>\n",
       "<table border=\"1\" class=\"dataframe\">\n",
       "  <thead>\n",
       "    <tr style=\"text-align: right;\">\n",
       "      <th></th>\n",
       "      <th>pname</th>\n",
       "      <th>0</th>\n",
       "    </tr>\n",
       "  </thead>\n",
       "  <tbody>\n",
       "  </tbody>\n",
       "</table>\n",
       "</div>"
      ],
      "text/plain": [
       "Empty DataFrame\n",
       "Columns: [pname, 0]\n",
       "Index: []"
      ]
     },
     "execution_count": 89,
     "metadata": {},
     "output_type": "execute_result"
    }
   ],
   "source": [
    "order_all.loc[order_all.plabel_term.isna(),:].groupby('pname').size().reset_index()"
   ]
  },
  {
   "cell_type": "markdown",
   "metadata": {},
   "source": [
    "### 指定产品的推广费成本"
   ]
  },
  {
   "cell_type": "code",
   "execution_count": 44,
   "metadata": {
    "ExecuteTime": {
     "end_time": "2019-07-26T07:58:27.511200Z",
     "start_time": "2019-07-26T07:58:26.910200Z"
    }
   },
   "outputs": [
    {
     "data": {
      "text/plain": [
       "34335.14"
      ]
     },
     "execution_count": 44,
     "metadata": {},
     "output_type": "execute_result"
    }
   ],
   "source": [
    "pname_list = ['众惠全能百万医疗2019款','众安尊享e生2019版','平安个人意外保障计划','复星联合康乐一生(C 款升级款)',\n",
    "              '百年康惠保(旗舰版)','富德生命童宝保少儿重大疾病保险','华贵大麦定期寿险']\n",
    "agg_fun = {'bf':'sum','tgf_A':'sum','tjf':'sum','tgf_B':'sum','tgf_b1':'sum','tgf_b2':'sum'}\n",
    "col = ['pname','bf','tgf_A','tgf_B','tgf_rate_B','plan','date_pay']\n",
    "res = order_sum.loc[(order_sum.date_pay >=pd.to_datetime('2019-07-09'))\n",
    "              & (order_sum.date_pay <= pd.to_datetime('2019-07-22'))\n",
    "              & (order_sum.plan.isin(['20年','30年']))\n",
    "              & (order_sum.pname.str.contains('妈咪')),col].copy()\n",
    "res['tgf_rate_b_cal'] = res.tgf_B/res.bf\n",
    "res['b2'] = res.bf * 0.1\n",
    "res.b2.sum()\n",
    "# .groupby(['pname']).agg(agg_fun).reset_index().sort_values('bf',ascending=False).to_excel('12.xlsx',encoding='gbk',index=0)"
   ]
  },
  {
   "cell_type": "markdown",
   "metadata": {},
   "source": [
    "### 产品利润"
   ]
  },
  {
   "cell_type": "code",
   "execution_count": 316,
   "metadata": {
    "ExecuteTime": {
     "end_time": "2019-09-04T03:44:53.764000Z",
     "start_time": "2019-09-04T03:44:53.457000Z"
    }
   },
   "outputs": [],
   "source": [
    "pname_profit = order_sum.loc[order_sum.mon =='2019-08',:].groupby(['pname','plan','tgf_rate_A']).agg({'bf':'sum','tgf_A':'sum','tgf_B':'sum'}).reset_index()"
   ]
  },
  {
   "cell_type": "code",
   "execution_count": 317,
   "metadata": {
    "ExecuteTime": {
     "end_time": "2019-09-04T03:44:54.736000Z",
     "start_time": "2019-09-04T03:44:54.722000Z"
    }
   },
   "outputs": [],
   "source": [
    "pname_profit['rate_A'] = pname_profit.tgf_A/pname_profit.bf\n",
    "pname_profit['income_rate'] = pname_profit.rate_A / 0.7\n",
    "pname_profit['income']= pname_profit.bf * pname_profit.income_rate\n",
    "pname_profit['profit'] = pname_profit.income/1.06-(pname_profit.tgf_A + pname_profit.tgf_B)\n",
    "pname_profit['profit_rate'] = pname_profit.profit / pname_profit.bf"
   ]
  },
  {
   "cell_type": "code",
   "execution_count": 319,
   "metadata": {
    "ExecuteTime": {
     "end_time": "2019-09-04T03:45:40.089000Z",
     "start_time": "2019-09-04T03:45:40.059000Z"
    }
   },
   "outputs": [
    {
     "data": {
      "text/html": [
       "<div>\n",
       "<style scoped>\n",
       "    .dataframe tbody tr th:only-of-type {\n",
       "        vertical-align: middle;\n",
       "    }\n",
       "\n",
       "    .dataframe tbody tr th {\n",
       "        vertical-align: top;\n",
       "    }\n",
       "\n",
       "    .dataframe thead th {\n",
       "        text-align: right;\n",
       "    }\n",
       "</style>\n",
       "<table border=\"1\" class=\"dataframe\">\n",
       "  <thead>\n",
       "    <tr style=\"text-align: right;\">\n",
       "      <th></th>\n",
       "      <th>pname</th>\n",
       "      <th>plan</th>\n",
       "      <th>tgf_rate_A</th>\n",
       "      <th>bf</th>\n",
       "      <th>tgf_A</th>\n",
       "      <th>tgf_B</th>\n",
       "      <th>rate_A</th>\n",
       "      <th>income_rate</th>\n",
       "      <th>income</th>\n",
       "      <th>profit</th>\n",
       "      <th>profit_rate</th>\n",
       "    </tr>\n",
       "  </thead>\n",
       "  <tbody>\n",
       "    <tr>\n",
       "      <th>409</th>\n",
       "      <td>百年康惠保（尊享版）重大疾病保险</td>\n",
       "      <td>10年</td>\n",
       "      <td>20%</td>\n",
       "      <td>21475.00</td>\n",
       "      <td>4295.00</td>\n",
       "      <td>2147.50</td>\n",
       "      <td>0.200000</td>\n",
       "      <td>0.285714</td>\n",
       "      <td>6135.714286</td>\n",
       "      <td>-654.090296</td>\n",
       "      <td>-0.030458</td>\n",
       "    </tr>\n",
       "    <tr>\n",
       "      <th>140</th>\n",
       "      <td>复星联合妈咪保贝少儿重疾保险</td>\n",
       "      <td>10年</td>\n",
       "      <td>20%</td>\n",
       "      <td>36573.10</td>\n",
       "      <td>7314.62</td>\n",
       "      <td>3657.31</td>\n",
       "      <td>0.200000</td>\n",
       "      <td>0.285714</td>\n",
       "      <td>10449.457143</td>\n",
       "      <td>-1113.951563</td>\n",
       "      <td>-0.030458</td>\n",
       "    </tr>\n",
       "    <tr>\n",
       "      <th>63</th>\n",
       "      <td>众安尊享e生2019版</td>\n",
       "      <td>家庭版</td>\n",
       "      <td>20%</td>\n",
       "      <td>389396.00</td>\n",
       "      <td>77879.20</td>\n",
       "      <td>40828.80</td>\n",
       "      <td>0.200000</td>\n",
       "      <td>0.285714</td>\n",
       "      <td>111256.000000</td>\n",
       "      <td>-13749.509434</td>\n",
       "      <td>-0.035310</td>\n",
       "    </tr>\n",
       "    <tr>\n",
       "      <th>149</th>\n",
       "      <td>复星联合康乐一生（2019版）重大疾病保险</td>\n",
       "      <td>15年</td>\n",
       "      <td>30%</td>\n",
       "      <td>15105.00</td>\n",
       "      <td>4531.50</td>\n",
       "      <td>2265.74</td>\n",
       "      <td>0.300000</td>\n",
       "      <td>0.428571</td>\n",
       "      <td>6473.571429</td>\n",
       "      <td>-690.097143</td>\n",
       "      <td>-0.045687</td>\n",
       "    </tr>\n",
       "    <tr>\n",
       "      <th>410</th>\n",
       "      <td>百年康惠保（尊享版）重大疾病保险</td>\n",
       "      <td>20年</td>\n",
       "      <td>35%</td>\n",
       "      <td>80142.00</td>\n",
       "      <td>28049.70</td>\n",
       "      <td>14425.56</td>\n",
       "      <td>0.350000</td>\n",
       "      <td>0.500000</td>\n",
       "      <td>40071.000000</td>\n",
       "      <td>-4672.429811</td>\n",
       "      <td>-0.058302</td>\n",
       "    </tr>\n",
       "    <tr>\n",
       "      <th>411</th>\n",
       "      <td>百年康惠保（尊享版）重大疾病保险</td>\n",
       "      <td>30年</td>\n",
       "      <td>35%</td>\n",
       "      <td>80570.00</td>\n",
       "      <td>28199.50</td>\n",
       "      <td>14502.60</td>\n",
       "      <td>0.350000</td>\n",
       "      <td>0.500000</td>\n",
       "      <td>40285.000000</td>\n",
       "      <td>-4697.383019</td>\n",
       "      <td>-0.058302</td>\n",
       "    </tr>\n",
       "    <tr>\n",
       "      <th>406</th>\n",
       "      <td>百年康惠保(旗舰版)</td>\n",
       "      <td>20年</td>\n",
       "      <td>30%</td>\n",
       "      <td>473936.00</td>\n",
       "      <td>142180.80</td>\n",
       "      <td>77817.52</td>\n",
       "      <td>0.300000</td>\n",
       "      <td>0.428571</td>\n",
       "      <td>203115.428571</td>\n",
       "      <td>-28379.991159</td>\n",
       "      <td>-0.059881</td>\n",
       "    </tr>\n",
       "    <tr>\n",
       "      <th>275</th>\n",
       "      <td>富德生命爱相伴费用补偿医疗保险(2019 版)</td>\n",
       "      <td>1年</td>\n",
       "      <td>10%</td>\n",
       "      <td>81513.00</td>\n",
       "      <td>8151.30</td>\n",
       "      <td>8151.30</td>\n",
       "      <td>0.100000</td>\n",
       "      <td>0.142857</td>\n",
       "      <td>11644.714286</td>\n",
       "      <td>-5317.020485</td>\n",
       "      <td>-0.065229</td>\n",
       "    </tr>\n",
       "    <tr>\n",
       "      <th>408</th>\n",
       "      <td>百年康惠保(旗舰版)</td>\n",
       "      <td>30年</td>\n",
       "      <td>30%</td>\n",
       "      <td>677984.00</td>\n",
       "      <td>203395.20</td>\n",
       "      <td>116300.60</td>\n",
       "      <td>0.300000</td>\n",
       "      <td>0.428571</td>\n",
       "      <td>290564.571429</td>\n",
       "      <td>-45578.279784</td>\n",
       "      <td>-0.067226</td>\n",
       "    </tr>\n",
       "    <tr>\n",
       "      <th>145</th>\n",
       "      <td>复星联合妈咪保贝少儿重疾保险</td>\n",
       "      <td>30年</td>\n",
       "      <td>45%</td>\n",
       "      <td>335597.90</td>\n",
       "      <td>151018.85</td>\n",
       "      <td>76213.18</td>\n",
       "      <td>0.449999</td>\n",
       "      <td>0.642856</td>\n",
       "      <td>215741.214286</td>\n",
       "      <td>-23702.582561</td>\n",
       "      <td>-0.070628</td>\n",
       "    </tr>\n",
       "    <tr>\n",
       "      <th>143</th>\n",
       "      <td>复星联合妈咪保贝少儿重疾保险</td>\n",
       "      <td>20年</td>\n",
       "      <td>45%</td>\n",
       "      <td>666278.40</td>\n",
       "      <td>299824.38</td>\n",
       "      <td>151878.48</td>\n",
       "      <td>0.449999</td>\n",
       "      <td>0.642855</td>\n",
       "      <td>428320.542857</td>\n",
       "      <td>-47626.876173</td>\n",
       "      <td>-0.071482</td>\n",
       "    </tr>\n",
       "    <tr>\n",
       "      <th>98</th>\n",
       "      <td>华贵大麦正青春定期寿险</td>\n",
       "      <td>30年</td>\n",
       "      <td>35%</td>\n",
       "      <td>143514.00</td>\n",
       "      <td>50229.90</td>\n",
       "      <td>28702.80</td>\n",
       "      <td>0.350000</td>\n",
       "      <td>0.500000</td>\n",
       "      <td>71757.000000</td>\n",
       "      <td>-11237.416981</td>\n",
       "      <td>-0.078302</td>\n",
       "    </tr>\n",
       "    <tr>\n",
       "      <th>152</th>\n",
       "      <td>复星联合康乐一生（2019版）重大疾病保险</td>\n",
       "      <td>30年</td>\n",
       "      <td>40%</td>\n",
       "      <td>228072.70</td>\n",
       "      <td>91229.08</td>\n",
       "      <td>57018.13</td>\n",
       "      <td>0.400000</td>\n",
       "      <td>0.571429</td>\n",
       "      <td>130327.257143</td>\n",
       "      <td>-25296.967412</td>\n",
       "      <td>-0.110916</td>\n",
       "    </tr>\n",
       "    <tr>\n",
       "      <th>151</th>\n",
       "      <td>复星联合康乐一生（2019版）重大疾病保险</td>\n",
       "      <td>20年</td>\n",
       "      <td>40%</td>\n",
       "      <td>257443.90</td>\n",
       "      <td>102977.56</td>\n",
       "      <td>64360.95</td>\n",
       "      <td>0.400000</td>\n",
       "      <td>0.571429</td>\n",
       "      <td>147110.800000</td>\n",
       "      <td>-28554.736415</td>\n",
       "      <td>-0.110916</td>\n",
       "    </tr>\n",
       "    <tr>\n",
       "      <th>97</th>\n",
       "      <td>华贵大麦正青春定期寿险</td>\n",
       "      <td>20年</td>\n",
       "      <td>25%</td>\n",
       "      <td>68320.00</td>\n",
       "      <td>17080.00</td>\n",
       "      <td>13664.00</td>\n",
       "      <td>0.250000</td>\n",
       "      <td>0.357143</td>\n",
       "      <td>24400.000000</td>\n",
       "      <td>-7725.132075</td>\n",
       "      <td>-0.113073</td>\n",
       "    </tr>\n",
       "    <tr>\n",
       "      <th>148</th>\n",
       "      <td>复星联合康乐一生(C 款升级款)</td>\n",
       "      <td>30年</td>\n",
       "      <td>45%</td>\n",
       "      <td>48014.43</td>\n",
       "      <td>21606.48</td>\n",
       "      <td>14404.31</td>\n",
       "      <td>0.450000</td>\n",
       "      <td>0.642857</td>\n",
       "      <td>30866.400000</td>\n",
       "      <td>-6891.544717</td>\n",
       "      <td>-0.143531</td>\n",
       "    </tr>\n",
       "    <tr>\n",
       "      <th>147</th>\n",
       "      <td>复星联合康乐一生(C 款升级款)</td>\n",
       "      <td>20年</td>\n",
       "      <td>45%</td>\n",
       "      <td>47200.22</td>\n",
       "      <td>21240.07</td>\n",
       "      <td>14160.05</td>\n",
       "      <td>0.449999</td>\n",
       "      <td>0.642856</td>\n",
       "      <td>30342.957143</td>\n",
       "      <td>-6774.688733</td>\n",
       "      <td>-0.143531</td>\n",
       "    </tr>\n",
       "    <tr>\n",
       "      <th>92</th>\n",
       "      <td>华贵大麦定期寿险</td>\n",
       "      <td>10年</td>\n",
       "      <td>15%</td>\n",
       "      <td>114383.00</td>\n",
       "      <td>17157.45</td>\n",
       "      <td>22876.60</td>\n",
       "      <td>0.150000</td>\n",
       "      <td>0.214286</td>\n",
       "      <td>24510.642857</td>\n",
       "      <td>-16910.802022</td>\n",
       "      <td>-0.147844</td>\n",
       "    </tr>\n",
       "    <tr>\n",
       "      <th>94</th>\n",
       "      <td>华贵大麦定期寿险</td>\n",
       "      <td>30年</td>\n",
       "      <td>35%</td>\n",
       "      <td>546372.00</td>\n",
       "      <td>191230.20</td>\n",
       "      <td>179628.00</td>\n",
       "      <td>0.350000</td>\n",
       "      <td>0.500000</td>\n",
       "      <td>273186.000000</td>\n",
       "      <td>-113135.558491</td>\n",
       "      <td>-0.207067</td>\n",
       "    </tr>\n",
       "    <tr>\n",
       "      <th>93</th>\n",
       "      <td>华贵大麦定期寿险</td>\n",
       "      <td>20年</td>\n",
       "      <td>25%</td>\n",
       "      <td>533911.00</td>\n",
       "      <td>133477.75</td>\n",
       "      <td>175522.90</td>\n",
       "      <td>0.250000</td>\n",
       "      <td>0.357143</td>\n",
       "      <td>190682.500000</td>\n",
       "      <td>-129111.499057</td>\n",
       "      <td>-0.241822</td>\n",
       "    </tr>\n",
       "  </tbody>\n",
       "</table>\n",
       "</div>"
      ],
      "text/plain": [
       "                       pname plan tgf_rate_A         bf      tgf_A      tgf_B  \\\n",
       "409         百年康惠保（尊享版）重大疾病保险  10年        20%   21475.00    4295.00    2147.50   \n",
       "140           复星联合妈咪保贝少儿重疾保险  10年        20%   36573.10    7314.62    3657.31   \n",
       "63               众安尊享e生2019版  家庭版        20%  389396.00   77879.20   40828.80   \n",
       "149    复星联合康乐一生（2019版）重大疾病保险  15年        30%   15105.00    4531.50    2265.74   \n",
       "410         百年康惠保（尊享版）重大疾病保险  20年        35%   80142.00   28049.70   14425.56   \n",
       "411         百年康惠保（尊享版）重大疾病保险  30年        35%   80570.00   28199.50   14502.60   \n",
       "406               百年康惠保(旗舰版)  20年        30%  473936.00  142180.80   77817.52   \n",
       "275  富德生命爱相伴费用补偿医疗保险(2019 版)   1年        10%   81513.00    8151.30    8151.30   \n",
       "408               百年康惠保(旗舰版)  30年        30%  677984.00  203395.20  116300.60   \n",
       "145           复星联合妈咪保贝少儿重疾保险  30年        45%  335597.90  151018.85   76213.18   \n",
       "143           复星联合妈咪保贝少儿重疾保险  20年        45%  666278.40  299824.38  151878.48   \n",
       "98               华贵大麦正青春定期寿险  30年        35%  143514.00   50229.90   28702.80   \n",
       "152    复星联合康乐一生（2019版）重大疾病保险  30年        40%  228072.70   91229.08   57018.13   \n",
       "151    复星联合康乐一生（2019版）重大疾病保险  20年        40%  257443.90  102977.56   64360.95   \n",
       "97               华贵大麦正青春定期寿险  20年        25%   68320.00   17080.00   13664.00   \n",
       "148         复星联合康乐一生(C 款升级款)  30年        45%   48014.43   21606.48   14404.31   \n",
       "147         复星联合康乐一生(C 款升级款)  20年        45%   47200.22   21240.07   14160.05   \n",
       "92                  华贵大麦定期寿险  10年        15%  114383.00   17157.45   22876.60   \n",
       "94                  华贵大麦定期寿险  30年        35%  546372.00  191230.20  179628.00   \n",
       "93                  华贵大麦定期寿险  20年        25%  533911.00  133477.75  175522.90   \n",
       "\n",
       "       rate_A  income_rate         income         profit  profit_rate  \n",
       "409  0.200000     0.285714    6135.714286    -654.090296    -0.030458  \n",
       "140  0.200000     0.285714   10449.457143   -1113.951563    -0.030458  \n",
       "63   0.200000     0.285714  111256.000000  -13749.509434    -0.035310  \n",
       "149  0.300000     0.428571    6473.571429    -690.097143    -0.045687  \n",
       "410  0.350000     0.500000   40071.000000   -4672.429811    -0.058302  \n",
       "411  0.350000     0.500000   40285.000000   -4697.383019    -0.058302  \n",
       "406  0.300000     0.428571  203115.428571  -28379.991159    -0.059881  \n",
       "275  0.100000     0.142857   11644.714286   -5317.020485    -0.065229  \n",
       "408  0.300000     0.428571  290564.571429  -45578.279784    -0.067226  \n",
       "145  0.449999     0.642856  215741.214286  -23702.582561    -0.070628  \n",
       "143  0.449999     0.642855  428320.542857  -47626.876173    -0.071482  \n",
       "98   0.350000     0.500000   71757.000000  -11237.416981    -0.078302  \n",
       "152  0.400000     0.571429  130327.257143  -25296.967412    -0.110916  \n",
       "151  0.400000     0.571429  147110.800000  -28554.736415    -0.110916  \n",
       "97   0.250000     0.357143   24400.000000   -7725.132075    -0.113073  \n",
       "148  0.450000     0.642857   30866.400000   -6891.544717    -0.143531  \n",
       "147  0.449999     0.642856   30342.957143   -6774.688733    -0.143531  \n",
       "92   0.150000     0.214286   24510.642857  -16910.802022    -0.147844  \n",
       "94   0.350000     0.500000  273186.000000 -113135.558491    -0.207067  \n",
       "93   0.250000     0.357143  190682.500000 -129111.499057    -0.241822  "
      ]
     },
     "execution_count": 319,
     "metadata": {},
     "output_type": "execute_result"
    }
   ],
   "source": [
    "pname_profit.sort_values('profit_rate',ascending=False).tail(20)"
   ]
  },
  {
   "cell_type": "code",
   "execution_count": 313,
   "metadata": {
    "ExecuteTime": {
     "end_time": "2019-09-04T03:19:24.729000Z",
     "start_time": "2019-09-04T03:19:24.009000Z"
    }
   },
   "outputs": [
    {
     "data": {
      "text/html": [
       "<div>\n",
       "<style scoped>\n",
       "    .dataframe tbody tr th:only-of-type {\n",
       "        vertical-align: middle;\n",
       "    }\n",
       "\n",
       "    .dataframe tbody tr th {\n",
       "        vertical-align: top;\n",
       "    }\n",
       "\n",
       "    .dataframe thead th {\n",
       "        text-align: right;\n",
       "    }\n",
       "</style>\n",
       "<table border=\"1\" class=\"dataframe\">\n",
       "  <thead>\n",
       "    <tr style=\"text-align: right;\">\n",
       "      <th></th>\n",
       "      <th>pname</th>\n",
       "      <th>bf</th>\n",
       "      <th>0</th>\n",
       "    </tr>\n",
       "  </thead>\n",
       "  <tbody>\n",
       "    <tr>\n",
       "      <th>0</th>\n",
       "      <td>众安生命儿童兴趣基因检测</td>\n",
       "      <td>258.0</td>\n",
       "      <td>29</td>\n",
       "    </tr>\n",
       "    <tr>\n",
       "      <th>1</th>\n",
       "      <td>众安生命儿童兴趣基因检测</td>\n",
       "      <td>488.0</td>\n",
       "      <td>241</td>\n",
       "    </tr>\n",
       "    <tr>\n",
       "      <th>2</th>\n",
       "      <td>众安生命儿童兴趣基因检测（团购）</td>\n",
       "      <td>206.4</td>\n",
       "      <td>64</td>\n",
       "    </tr>\n",
       "    <tr>\n",
       "      <th>3</th>\n",
       "      <td>众安生命儿童兴趣基因检测（团购）</td>\n",
       "      <td>232.2</td>\n",
       "      <td>14</td>\n",
       "    </tr>\n",
       "    <tr>\n",
       "      <th>4</th>\n",
       "      <td>众安生命儿童兴趣基因检测（团购）</td>\n",
       "      <td>390.4</td>\n",
       "      <td>1621</td>\n",
       "    </tr>\n",
       "    <tr>\n",
       "      <th>5</th>\n",
       "      <td>众安生命儿童兴趣基因检测（团购）</td>\n",
       "      <td>439.2</td>\n",
       "      <td>69</td>\n",
       "    </tr>\n",
       "    <tr>\n",
       "      <th>6</th>\n",
       "      <td>众安生命儿童安全用药基因检测</td>\n",
       "      <td>390.4</td>\n",
       "      <td>3</td>\n",
       "    </tr>\n",
       "    <tr>\n",
       "      <th>7</th>\n",
       "      <td>众安生命儿童安全用药基因检测</td>\n",
       "      <td>488.0</td>\n",
       "      <td>4</td>\n",
       "    </tr>\n",
       "    <tr>\n",
       "      <th>8</th>\n",
       "      <td>众安生命百项全能基因组检测</td>\n",
       "      <td>488.0</td>\n",
       "      <td>36</td>\n",
       "    </tr>\n",
       "    <tr>\n",
       "      <th>9</th>\n",
       "      <td>众安生命百项全能基因组检测（团购）</td>\n",
       "      <td>429.4</td>\n",
       "      <td>938</td>\n",
       "    </tr>\n",
       "    <tr>\n",
       "      <th>10</th>\n",
       "      <td>众安生命百项全能基因组检测（团购）</td>\n",
       "      <td>439.2</td>\n",
       "      <td>81</td>\n",
       "    </tr>\n",
       "  </tbody>\n",
       "</table>\n",
       "</div>"
      ],
      "text/plain": [
       "                pname     bf     0\n",
       "0        众安生命儿童兴趣基因检测  258.0    29\n",
       "1        众安生命儿童兴趣基因检测  488.0   241\n",
       "2    众安生命儿童兴趣基因检测（团购）  206.4    64\n",
       "3    众安生命儿童兴趣基因检测（团购）  232.2    14\n",
       "4    众安生命儿童兴趣基因检测（团购）  390.4  1621\n",
       "5    众安生命儿童兴趣基因检测（团购）  439.2    69\n",
       "6      众安生命儿童安全用药基因检测  390.4     3\n",
       "7      众安生命儿童安全用药基因检测  488.0     4\n",
       "8       众安生命百项全能基因组检测  488.0    36\n",
       "9   众安生命百项全能基因组检测（团购）  429.4   938\n",
       "10  众安生命百项全能基因组检测（团购）  439.2    81"
      ]
     },
     "execution_count": 313,
     "metadata": {},
     "output_type": "execute_result"
    }
   ],
   "source": [
    "order_sum.loc[order_sum.pname.str.contains('基因')].groupby(['pname','bf']).size().reset_index()"
   ]
  },
  {
   "cell_type": "code",
   "execution_count": 309,
   "metadata": {
    "ExecuteTime": {
     "end_time": "2019-09-04T03:00:14.873000Z",
     "start_time": "2019-09-04T03:00:14.848000Z"
    }
   },
   "outputs": [
    {
     "data": {
      "text/html": [
       "<div>\n",
       "<style scoped>\n",
       "    .dataframe tbody tr th:only-of-type {\n",
       "        vertical-align: middle;\n",
       "    }\n",
       "\n",
       "    .dataframe tbody tr th {\n",
       "        vertical-align: top;\n",
       "    }\n",
       "\n",
       "    .dataframe thead th {\n",
       "        text-align: right;\n",
       "    }\n",
       "</style>\n",
       "<table border=\"1\" class=\"dataframe\">\n",
       "  <thead>\n",
       "    <tr style=\"text-align: right;\">\n",
       "      <th></th>\n",
       "      <th>pname</th>\n",
       "      <th>tgf_rate_A</th>\n",
       "      <th>bf</th>\n",
       "      <th>tgf_A</th>\n",
       "      <th>tgf_B</th>\n",
       "      <th>rate_A</th>\n",
       "      <th>income_rate</th>\n",
       "      <th>income</th>\n",
       "      <th>profit</th>\n",
       "    </tr>\n",
       "  </thead>\n",
       "  <tbody>\n",
       "    <tr>\n",
       "      <th>0</th>\n",
       "      <td>“安盛户外”境内旅行保险</td>\n",
       "      <td>28%</td>\n",
       "      <td>2554.0</td>\n",
       "      <td>715.12</td>\n",
       "      <td>0.0</td>\n",
       "      <td>0.28</td>\n",
       "      <td>0.400000</td>\n",
       "      <td>1021.600000</td>\n",
       "      <td>248.653585</td>\n",
       "    </tr>\n",
       "    <tr>\n",
       "      <th>1</th>\n",
       "      <td>“童”享阳光家庭财产保险A款</td>\n",
       "      <td>38%</td>\n",
       "      <td>2700.0</td>\n",
       "      <td>1026.00</td>\n",
       "      <td>0.0</td>\n",
       "      <td>0.38</td>\n",
       "      <td>0.542857</td>\n",
       "      <td>1465.714286</td>\n",
       "      <td>356.749326</td>\n",
       "    </tr>\n",
       "    <tr>\n",
       "      <th>2</th>\n",
       "      <td>“童”享阳光家庭财产保险B款</td>\n",
       "      <td>38%</td>\n",
       "      <td>9212.0</td>\n",
       "      <td>3500.56</td>\n",
       "      <td>0.0</td>\n",
       "      <td>0.38</td>\n",
       "      <td>0.542857</td>\n",
       "      <td>5000.800000</td>\n",
       "      <td>1217.175849</td>\n",
       "    </tr>\n",
       "    <tr>\n",
       "      <th>3</th>\n",
       "      <td>“阳光家园”家庭财产火灾保险</td>\n",
       "      <td>21%</td>\n",
       "      <td>3420.0</td>\n",
       "      <td>718.20</td>\n",
       "      <td>0.0</td>\n",
       "      <td>0.21</td>\n",
       "      <td>0.300000</td>\n",
       "      <td>1026.000000</td>\n",
       "      <td>249.724528</td>\n",
       "    </tr>\n",
       "    <tr>\n",
       "      <th>4</th>\n",
       "      <td>中信保诚「亲恩保」恶性肿瘤疾病保险</td>\n",
       "      <td>20%</td>\n",
       "      <td>13272.5</td>\n",
       "      <td>2654.50</td>\n",
       "      <td>0.0</td>\n",
       "      <td>0.20</td>\n",
       "      <td>0.285714</td>\n",
       "      <td>3792.142857</td>\n",
       "      <td>922.993261</td>\n",
       "    </tr>\n",
       "  </tbody>\n",
       "</table>\n",
       "</div>"
      ],
      "text/plain": [
       "               pname tgf_rate_A       bf    tgf_A  tgf_B  rate_A  income_rate  \\\n",
       "0       “安盛户外”境内旅行保险        28%   2554.0   715.12    0.0    0.28     0.400000   \n",
       "1     “童”享阳光家庭财产保险A款        38%   2700.0  1026.00    0.0    0.38     0.542857   \n",
       "2     “童”享阳光家庭财产保险B款        38%   9212.0  3500.56    0.0    0.38     0.542857   \n",
       "3     “阳光家园”家庭财产火灾保险        21%   3420.0   718.20    0.0    0.21     0.300000   \n",
       "4  中信保诚「亲恩保」恶性肿瘤疾病保险        20%  13272.5  2654.50    0.0    0.20     0.285714   \n",
       "\n",
       "        income       profit  \n",
       "0  1021.600000   248.653585  \n",
       "1  1465.714286   356.749326  \n",
       "2  5000.800000  1217.175849  \n",
       "3  1026.000000   249.724528  \n",
       "4  3792.142857   922.993261  "
      ]
     },
     "execution_count": 309,
     "metadata": {},
     "output_type": "execute_result"
    }
   ],
   "source": [
    "pname_profit.head()"
   ]
  },
  {
   "cell_type": "markdown",
   "metadata": {},
   "source": [
    "### 积分成本"
   ]
  },
  {
   "cell_type": "code",
   "execution_count": 5,
   "metadata": {
    "ExecuteTime": {
     "end_time": "2020-05-13T05:48:46.280684Z",
     "start_time": "2020-05-13T05:47:50.727161Z"
    }
   },
   "outputs": [],
   "source": [
    "score_01 = pd.read_excel(dir_score + 'score_20191226_20200125.xlsx')\n",
    "score_01.pivot_table(index=['module_name','job_name'],columns = ['sinei'],values='point_num',aggfunc = 'sum').reset_index().to_excel('12.xlsx')"
   ]
  },
  {
   "cell_type": "code",
   "execution_count": 6,
   "metadata": {
    "ExecuteTime": {
     "end_time": "2020-05-13T05:48:47.582114Z",
     "start_time": "2020-05-13T05:48:46.282594Z"
    }
   },
   "outputs": [],
   "source": [
    "score_04 = pd.read_csv(dir_score + 'score_20200326_20200425.csv')"
   ]
  },
  {
   "cell_type": "code",
   "execution_count": 10,
   "metadata": {
    "ExecuteTime": {
     "end_time": "2020-05-13T05:52:02.345441Z",
     "start_time": "2020-05-13T05:52:02.224763Z"
    }
   },
   "outputs": [
    {
     "data": {
      "text/html": [
       "<div>\n",
       "<style scoped>\n",
       "    .dataframe tbody tr th:only-of-type {\n",
       "        vertical-align: middle;\n",
       "    }\n",
       "\n",
       "    .dataframe tbody tr th {\n",
       "        vertical-align: top;\n",
       "    }\n",
       "\n",
       "    .dataframe thead th {\n",
       "        text-align: right;\n",
       "    }\n",
       "</style>\n",
       "<table border=\"1\" class=\"dataframe\">\n",
       "  <thead>\n",
       "    <tr style=\"text-align: right;\">\n",
       "      <th></th>\n",
       "      <th>模块名称</th>\n",
       "      <th>任务名称</th>\n",
       "      <th>积分</th>\n",
       "    </tr>\n",
       "  </thead>\n",
       "  <tbody>\n",
       "    <tr>\n",
       "      <th>0</th>\n",
       "      <td>任务中心</td>\n",
       "      <td>任务奖励</td>\n",
       "      <td>5010426</td>\n",
       "    </tr>\n",
       "    <tr>\n",
       "      <th>1</th>\n",
       "      <td>任务中心</td>\n",
       "      <td>宝箱奖励</td>\n",
       "      <td>2467102</td>\n",
       "    </tr>\n",
       "    <tr>\n",
       "      <th>2</th>\n",
       "      <td>任务中心</td>\n",
       "      <td>每日签到</td>\n",
       "      <td>2903895</td>\n",
       "    </tr>\n",
       "    <tr>\n",
       "      <th>3</th>\n",
       "      <td>任务中心</td>\n",
       "      <td>补签</td>\n",
       "      <td>-1025600</td>\n",
       "    </tr>\n",
       "    <tr>\n",
       "      <th>4</th>\n",
       "      <td>兑换道具</td>\n",
       "      <td>兑换模板</td>\n",
       "      <td>-178000</td>\n",
       "    </tr>\n",
       "    <tr>\n",
       "      <th>5</th>\n",
       "      <td>出单送保贝产品二</td>\n",
       "      <td>出单送保贝</td>\n",
       "      <td>8160000</td>\n",
       "    </tr>\n",
       "    <tr>\n",
       "      <th>6</th>\n",
       "      <td>出单送宝贝产品一</td>\n",
       "      <td>出单送保贝</td>\n",
       "      <td>2088000</td>\n",
       "    </tr>\n",
       "    <tr>\n",
       "      <th>7</th>\n",
       "      <td>商品兑换</td>\n",
       "      <td>100元福利券</td>\n",
       "      <td>-620000</td>\n",
       "    </tr>\n",
       "    <tr>\n",
       "      <th>8</th>\n",
       "      <td>商品兑换</td>\n",
       "      <td>10元京东e卡</td>\n",
       "      <td>-78020</td>\n",
       "    </tr>\n",
       "    <tr>\n",
       "      <th>9</th>\n",
       "      <td>商品兑换</td>\n",
       "      <td>20元京东e卡</td>\n",
       "      <td>-6640</td>\n",
       "    </tr>\n",
       "    <tr>\n",
       "      <th>10</th>\n",
       "      <td>商品兑换</td>\n",
       "      <td>30元京东e卡</td>\n",
       "      <td>-104580</td>\n",
       "    </tr>\n",
       "    <tr>\n",
       "      <th>11</th>\n",
       "      <td>商品兑换</td>\n",
       "      <td>30元福利券</td>\n",
       "      <td>-1854000</td>\n",
       "    </tr>\n",
       "    <tr>\n",
       "      <th>12</th>\n",
       "      <td>商品兑换</td>\n",
       "      <td>3元福利券</td>\n",
       "      <td>-94500</td>\n",
       "    </tr>\n",
       "    <tr>\n",
       "      <th>13</th>\n",
       "      <td>商品兑换</td>\n",
       "      <td>50元福利券</td>\n",
       "      <td>-275000</td>\n",
       "    </tr>\n",
       "    <tr>\n",
       "      <th>14</th>\n",
       "      <td>商品兑换</td>\n",
       "      <td>80元福利券</td>\n",
       "      <td>-120000</td>\n",
       "    </tr>\n",
       "    <tr>\n",
       "      <th>15</th>\n",
       "      <td>商品兑换</td>\n",
       "      <td>8元福利券</td>\n",
       "      <td>-536800</td>\n",
       "    </tr>\n",
       "    <tr>\n",
       "      <th>16</th>\n",
       "      <td>商品兑换</td>\n",
       "      <td>FLYCO/飞科大功率电吹风机 2000W FH6231</td>\n",
       "      <td>-17000</td>\n",
       "    </tr>\n",
       "    <tr>\n",
       "      <th>17</th>\n",
       "      <td>商品兑换</td>\n",
       "      <td>HYUNDAI韩国现代一拖三弯头快充数据线</td>\n",
       "      <td>-17519</td>\n",
       "    </tr>\n",
       "    <tr>\n",
       "      <th>18</th>\n",
       "      <td>商品兑换</td>\n",
       "      <td>HYUNDAI韩国现代三合一伸缩数据线</td>\n",
       "      <td>-68455</td>\n",
       "    </tr>\n",
       "    <tr>\n",
       "      <th>19</th>\n",
       "      <td>商品兑换</td>\n",
       "      <td>SUPOR/苏泊尔 CFXB40FD8060-86智能家用预约电饭煲4升</td>\n",
       "      <td>-24900</td>\n",
       "    </tr>\n",
       "    <tr>\n",
       "      <th>20</th>\n",
       "      <td>商品兑换</td>\n",
       "      <td>SUPOR/苏泊尔 DJ12B-P81豆浆机家用全自动破壁免过滤多功能米糊</td>\n",
       "      <td>-61800</td>\n",
       "    </tr>\n",
       "    <tr>\n",
       "      <th>21</th>\n",
       "      <td>商品兑换</td>\n",
       "      <td>SUPOR/苏泊尔 DJ13B-P80免过滤豆浆机家用全自动豆浆正品</td>\n",
       "      <td>-25900</td>\n",
       "    </tr>\n",
       "    <tr>\n",
       "      <th>22</th>\n",
       "      <td>商品兑换</td>\n",
       "      <td>Shinco/新科 10000毫安MA小型便携迷你快充移动电源 G2</td>\n",
       "      <td>-18559</td>\n",
       "    </tr>\n",
       "    <tr>\n",
       "      <th>23</th>\n",
       "      <td>商品兑换</td>\n",
       "      <td>ThinkPad X1 Carbon电脑包（0B95757 ）</td>\n",
       "      <td>-6713</td>\n",
       "    </tr>\n",
       "    <tr>\n",
       "      <th>24</th>\n",
       "      <td>商品兑换</td>\n",
       "      <td>utena佑天兰艳肌系列胶原蛋白面膜4片/盒(补水弹润 植物精油面膜)日本面膜</td>\n",
       "      <td>-5300</td>\n",
       "    </tr>\n",
       "    <tr>\n",
       "      <th>25</th>\n",
       "      <td>商品兑换</td>\n",
       "      <td>【预售商品】#大童定制#卡蛙桌面加湿器-白色</td>\n",
       "      <td>-8490</td>\n",
       "    </tr>\n",
       "    <tr>\n",
       "      <th>26</th>\n",
       "      <td>商品兑换</td>\n",
       "      <td>【预售商品】#大童定制#小米移动电源2</td>\n",
       "      <td>-23800</td>\n",
       "    </tr>\n",
       "    <tr>\n",
       "      <th>27</th>\n",
       "      <td>商品兑换</td>\n",
       "      <td>【预售商品】#大童定制#签字笔2支装</td>\n",
       "      <td>-53640</td>\n",
       "    </tr>\n",
       "    <tr>\n",
       "      <th>28</th>\n",
       "      <td>商品兑换</td>\n",
       "      <td>【预售商品】#童童定制#帆布包</td>\n",
       "      <td>-43560</td>\n",
       "    </tr>\n",
       "    <tr>\n",
       "      <th>29</th>\n",
       "      <td>商品兑换</td>\n",
       "      <td>【预售商品】#童童定制#手机支架*2个装</td>\n",
       "      <td>-4310</td>\n",
       "    </tr>\n",
       "    <tr>\n",
       "      <th>...</th>\n",
       "      <td>...</td>\n",
       "      <td>...</td>\n",
       "      <td>...</td>\n",
       "    </tr>\n",
       "    <tr>\n",
       "      <th>280</th>\n",
       "      <td>用户打赏</td>\n",
       "      <td>来自王秋云的打赏</td>\n",
       "      <td>150</td>\n",
       "    </tr>\n",
       "    <tr>\n",
       "      <th>281</th>\n",
       "      <td>用户打赏</td>\n",
       "      <td>来自王艳红的打赏</td>\n",
       "      <td>50</td>\n",
       "    </tr>\n",
       "    <tr>\n",
       "      <th>282</th>\n",
       "      <td>用户打赏</td>\n",
       "      <td>来自盛运阳的打赏</td>\n",
       "      <td>50</td>\n",
       "    </tr>\n",
       "    <tr>\n",
       "      <th>283</th>\n",
       "      <td>用户打赏</td>\n",
       "      <td>来自秦鑫的打赏</td>\n",
       "      <td>50</td>\n",
       "    </tr>\n",
       "    <tr>\n",
       "      <th>284</th>\n",
       "      <td>用户打赏</td>\n",
       "      <td>来自罗晓红的打赏</td>\n",
       "      <td>100</td>\n",
       "    </tr>\n",
       "    <tr>\n",
       "      <th>285</th>\n",
       "      <td>用户打赏</td>\n",
       "      <td>来自翁永林的打赏</td>\n",
       "      <td>50</td>\n",
       "    </tr>\n",
       "    <tr>\n",
       "      <th>286</th>\n",
       "      <td>用户打赏</td>\n",
       "      <td>来自胡家硕的打赏</td>\n",
       "      <td>150</td>\n",
       "    </tr>\n",
       "    <tr>\n",
       "      <th>287</th>\n",
       "      <td>用户打赏</td>\n",
       "      <td>来自胡静的打赏</td>\n",
       "      <td>200</td>\n",
       "    </tr>\n",
       "    <tr>\n",
       "      <th>288</th>\n",
       "      <td>用户打赏</td>\n",
       "      <td>来自莫敏的打赏</td>\n",
       "      <td>150</td>\n",
       "    </tr>\n",
       "    <tr>\n",
       "      <th>289</th>\n",
       "      <td>用户打赏</td>\n",
       "      <td>来自董琳的打赏</td>\n",
       "      <td>300</td>\n",
       "    </tr>\n",
       "    <tr>\n",
       "      <th>290</th>\n",
       "      <td>用户打赏</td>\n",
       "      <td>来自蔡国福的打赏</td>\n",
       "      <td>150</td>\n",
       "    </tr>\n",
       "    <tr>\n",
       "      <th>291</th>\n",
       "      <td>用户打赏</td>\n",
       "      <td>来自蔡永月的打赏</td>\n",
       "      <td>50</td>\n",
       "    </tr>\n",
       "    <tr>\n",
       "      <th>292</th>\n",
       "      <td>用户打赏</td>\n",
       "      <td>来自薛薏惠阳的打赏</td>\n",
       "      <td>50</td>\n",
       "    </tr>\n",
       "    <tr>\n",
       "      <th>293</th>\n",
       "      <td>用户打赏</td>\n",
       "      <td>来自许莉莉的打赏</td>\n",
       "      <td>600</td>\n",
       "    </tr>\n",
       "    <tr>\n",
       "      <th>294</th>\n",
       "      <td>用户打赏</td>\n",
       "      <td>来自贺佐香的打赏</td>\n",
       "      <td>450</td>\n",
       "    </tr>\n",
       "    <tr>\n",
       "      <th>295</th>\n",
       "      <td>用户打赏</td>\n",
       "      <td>来自赵叶的打赏</td>\n",
       "      <td>50</td>\n",
       "    </tr>\n",
       "    <tr>\n",
       "      <th>296</th>\n",
       "      <td>用户打赏</td>\n",
       "      <td>来自赵玉芳的打赏</td>\n",
       "      <td>50</td>\n",
       "    </tr>\n",
       "    <tr>\n",
       "      <th>297</th>\n",
       "      <td>用户打赏</td>\n",
       "      <td>来自闻雯的打赏</td>\n",
       "      <td>50</td>\n",
       "    </tr>\n",
       "    <tr>\n",
       "      <th>298</th>\n",
       "      <td>用户打赏</td>\n",
       "      <td>来自阎吉荣的打赏</td>\n",
       "      <td>150</td>\n",
       "    </tr>\n",
       "    <tr>\n",
       "      <th>299</th>\n",
       "      <td>用户打赏</td>\n",
       "      <td>来自陈亚非的打赏</td>\n",
       "      <td>50</td>\n",
       "    </tr>\n",
       "    <tr>\n",
       "      <th>300</th>\n",
       "      <td>用户打赏</td>\n",
       "      <td>来自陈强的打赏</td>\n",
       "      <td>50</td>\n",
       "    </tr>\n",
       "    <tr>\n",
       "      <th>301</th>\n",
       "      <td>用户打赏</td>\n",
       "      <td>来自陈瑞荣的打赏</td>\n",
       "      <td>200</td>\n",
       "    </tr>\n",
       "    <tr>\n",
       "      <th>302</th>\n",
       "      <td>用户打赏</td>\n",
       "      <td>来自陈艳的打赏</td>\n",
       "      <td>50</td>\n",
       "    </tr>\n",
       "    <tr>\n",
       "      <th>303</th>\n",
       "      <td>用户打赏</td>\n",
       "      <td>来自陈莉的打赏</td>\n",
       "      <td>600</td>\n",
       "    </tr>\n",
       "    <tr>\n",
       "      <th>304</th>\n",
       "      <td>用户打赏</td>\n",
       "      <td>来自隋翔鹰的打赏</td>\n",
       "      <td>500</td>\n",
       "    </tr>\n",
       "    <tr>\n",
       "      <th>305</th>\n",
       "      <td>用户打赏</td>\n",
       "      <td>来自霍保红的打赏</td>\n",
       "      <td>50</td>\n",
       "    </tr>\n",
       "    <tr>\n",
       "      <th>306</th>\n",
       "      <td>用户打赏</td>\n",
       "      <td>来自顾晓楠的打赏</td>\n",
       "      <td>1050</td>\n",
       "    </tr>\n",
       "    <tr>\n",
       "      <th>307</th>\n",
       "      <td>用户打赏</td>\n",
       "      <td>来自高全庆的打赏</td>\n",
       "      <td>50</td>\n",
       "    </tr>\n",
       "    <tr>\n",
       "      <th>308</th>\n",
       "      <td>用户打赏</td>\n",
       "      <td>来自黄彩云的打赏</td>\n",
       "      <td>50</td>\n",
       "    </tr>\n",
       "    <tr>\n",
       "      <th>309</th>\n",
       "      <td>积分发放</td>\n",
       "      <td>积分发放</td>\n",
       "      <td>6090400</td>\n",
       "    </tr>\n",
       "  </tbody>\n",
       "</table>\n",
       "<p>310 rows × 3 columns</p>\n",
       "</div>"
      ],
      "text/plain": [
       "         模块名称                                     任务名称       积分\n",
       "0        任务中心                                     任务奖励  5010426\n",
       "1        任务中心                                     宝箱奖励  2467102\n",
       "2        任务中心                                     每日签到  2903895\n",
       "3        任务中心                                       补签 -1025600\n",
       "4        兑换道具                                     兑换模板  -178000\n",
       "5    出单送保贝产品二                                    出单送保贝  8160000\n",
       "6    出单送宝贝产品一                                    出单送保贝  2088000\n",
       "7        商品兑换                                  100元福利券  -620000\n",
       "8        商品兑换                                  10元京东e卡   -78020\n",
       "9        商品兑换                                  20元京东e卡    -6640\n",
       "10       商品兑换                                  30元京东e卡  -104580\n",
       "11       商品兑换                                   30元福利券 -1854000\n",
       "12       商品兑换                                    3元福利券   -94500\n",
       "13       商品兑换                                   50元福利券  -275000\n",
       "14       商品兑换                                   80元福利券  -120000\n",
       "15       商品兑换                                    8元福利券  -536800\n",
       "16       商品兑换             FLYCO/飞科大功率电吹风机 2000W FH6231   -17000\n",
       "17       商品兑换                    HYUNDAI韩国现代一拖三弯头快充数据线   -17519\n",
       "18       商品兑换                      HYUNDAI韩国现代三合一伸缩数据线   -68455\n",
       "19       商品兑换     SUPOR/苏泊尔 CFXB40FD8060-86智能家用预约电饭煲4升   -24900\n",
       "20       商品兑换    SUPOR/苏泊尔 DJ12B-P81豆浆机家用全自动破壁免过滤多功能米糊   -61800\n",
       "21       商品兑换       SUPOR/苏泊尔 DJ13B-P80免过滤豆浆机家用全自动豆浆正品   -25900\n",
       "22       商品兑换       Shinco/新科 10000毫安MA小型便携迷你快充移动电源 G2   -18559\n",
       "23       商品兑换          ThinkPad X1 Carbon电脑包（0B95757 ）    -6713\n",
       "24       商品兑换  utena佑天兰艳肌系列胶原蛋白面膜4片/盒(补水弹润 植物精油面膜)日本面膜    -5300\n",
       "25       商品兑换                   【预售商品】#大童定制#卡蛙桌面加湿器-白色    -8490\n",
       "26       商品兑换                      【预售商品】#大童定制#小米移动电源2   -23800\n",
       "27       商品兑换                       【预售商品】#大童定制#签字笔2支装   -53640\n",
       "28       商品兑换                          【预售商品】#童童定制#帆布包   -43560\n",
       "29       商品兑换                     【预售商品】#童童定制#手机支架*2个装    -4310\n",
       "..        ...                                      ...      ...\n",
       "280      用户打赏                                 来自王秋云的打赏      150\n",
       "281      用户打赏                                 来自王艳红的打赏       50\n",
       "282      用户打赏                                 来自盛运阳的打赏       50\n",
       "283      用户打赏                                  来自秦鑫的打赏       50\n",
       "284      用户打赏                                 来自罗晓红的打赏      100\n",
       "285      用户打赏                                 来自翁永林的打赏       50\n",
       "286      用户打赏                                 来自胡家硕的打赏      150\n",
       "287      用户打赏                                  来自胡静的打赏      200\n",
       "288      用户打赏                                  来自莫敏的打赏      150\n",
       "289      用户打赏                                  来自董琳的打赏      300\n",
       "290      用户打赏                                 来自蔡国福的打赏      150\n",
       "291      用户打赏                                 来自蔡永月的打赏       50\n",
       "292      用户打赏                                来自薛薏惠阳的打赏       50\n",
       "293      用户打赏                                 来自许莉莉的打赏      600\n",
       "294      用户打赏                                 来自贺佐香的打赏      450\n",
       "295      用户打赏                                  来自赵叶的打赏       50\n",
       "296      用户打赏                                 来自赵玉芳的打赏       50\n",
       "297      用户打赏                                  来自闻雯的打赏       50\n",
       "298      用户打赏                                 来自阎吉荣的打赏      150\n",
       "299      用户打赏                                 来自陈亚非的打赏       50\n",
       "300      用户打赏                                  来自陈强的打赏       50\n",
       "301      用户打赏                                 来自陈瑞荣的打赏      200\n",
       "302      用户打赏                                  来自陈艳的打赏       50\n",
       "303      用户打赏                                  来自陈莉的打赏      600\n",
       "304      用户打赏                                 来自隋翔鹰的打赏      500\n",
       "305      用户打赏                                 来自霍保红的打赏       50\n",
       "306      用户打赏                                 来自顾晓楠的打赏     1050\n",
       "307      用户打赏                                 来自高全庆的打赏       50\n",
       "308      用户打赏                                 来自黄彩云的打赏       50\n",
       "309      积分发放                                     积分发放  6090400\n",
       "\n",
       "[310 rows x 3 columns]"
      ]
     },
     "execution_count": 10,
     "metadata": {},
     "output_type": "execute_result"
    }
   ],
   "source": [
    "score_04.groupby(['模块名称','任务名称']).积分.sum().reset_index().head"
   ]
  },
  {
   "cell_type": "code",
   "execution_count": 12,
   "metadata": {
    "ExecuteTime": {
     "end_time": "2020-05-13T06:03:29.491095Z",
     "start_time": "2020-05-13T06:03:29.202887Z"
    }
   },
   "outputs": [
    {
     "data": {
      "text/html": [
       "<div>\n",
       "<style scoped>\n",
       "    .dataframe tbody tr th:only-of-type {\n",
       "        vertical-align: middle;\n",
       "    }\n",
       "\n",
       "    .dataframe tbody tr th {\n",
       "        vertical-align: top;\n",
       "    }\n",
       "\n",
       "    .dataframe thead th {\n",
       "        text-align: right;\n",
       "    }\n",
       "</style>\n",
       "<table border=\"1\" class=\"dataframe\">\n",
       "  <thead>\n",
       "    <tr style=\"text-align: right;\">\n",
       "      <th></th>\n",
       "      <th>积分</th>\n",
       "      <th>0</th>\n",
       "    </tr>\n",
       "  </thead>\n",
       "  <tbody>\n",
       "    <tr>\n",
       "      <th>0</th>\n",
       "      <td>-7500</td>\n",
       "      <td>12</td>\n",
       "    </tr>\n",
       "    <tr>\n",
       "      <th>1</th>\n",
       "      <td>-5200</td>\n",
       "      <td>35</td>\n",
       "    </tr>\n",
       "    <tr>\n",
       "      <th>2</th>\n",
       "      <td>-4982</td>\n",
       "      <td>1</td>\n",
       "    </tr>\n",
       "    <tr>\n",
       "      <th>3</th>\n",
       "      <td>-3453</td>\n",
       "      <td>1</td>\n",
       "    </tr>\n",
       "    <tr>\n",
       "      <th>4</th>\n",
       "      <td>-3043</td>\n",
       "      <td>1</td>\n",
       "    </tr>\n",
       "    <tr>\n",
       "      <th>5</th>\n",
       "      <td>-3028</td>\n",
       "      <td>1</td>\n",
       "    </tr>\n",
       "    <tr>\n",
       "      <th>6</th>\n",
       "      <td>-2955</td>\n",
       "      <td>1</td>\n",
       "    </tr>\n",
       "    <tr>\n",
       "      <th>7</th>\n",
       "      <td>-2943</td>\n",
       "      <td>1</td>\n",
       "    </tr>\n",
       "    <tr>\n",
       "      <th>8</th>\n",
       "      <td>-2709</td>\n",
       "      <td>1</td>\n",
       "    </tr>\n",
       "    <tr>\n",
       "      <th>9</th>\n",
       "      <td>-2462</td>\n",
       "      <td>1</td>\n",
       "    </tr>\n",
       "    <tr>\n",
       "      <th>10</th>\n",
       "      <td>-2392</td>\n",
       "      <td>1</td>\n",
       "    </tr>\n",
       "    <tr>\n",
       "      <th>11</th>\n",
       "      <td>-2378</td>\n",
       "      <td>1</td>\n",
       "    </tr>\n",
       "    <tr>\n",
       "      <th>12</th>\n",
       "      <td>-1242</td>\n",
       "      <td>1</td>\n",
       "    </tr>\n",
       "    <tr>\n",
       "      <th>13</th>\n",
       "      <td>-1241</td>\n",
       "      <td>1</td>\n",
       "    </tr>\n",
       "    <tr>\n",
       "      <th>14</th>\n",
       "      <td>2462</td>\n",
       "      <td>1</td>\n",
       "    </tr>\n",
       "    <tr>\n",
       "      <th>15</th>\n",
       "      <td>2709</td>\n",
       "      <td>1</td>\n",
       "    </tr>\n",
       "  </tbody>\n",
       "</table>\n",
       "</div>"
      ],
      "text/plain": [
       "      积分   0\n",
       "0  -7500  12\n",
       "1  -5200  35\n",
       "2  -4982   1\n",
       "3  -3453   1\n",
       "4  -3043   1\n",
       "5  -3028   1\n",
       "6  -2955   1\n",
       "7  -2943   1\n",
       "8  -2709   1\n",
       "9  -2462   1\n",
       "10 -2392   1\n",
       "11 -2378   1\n",
       "12 -1242   1\n",
       "13 -1241   1\n",
       "14  2462   1\n",
       "15  2709   1"
      ]
     },
     "execution_count": 12,
     "metadata": {},
     "output_type": "execute_result"
    }
   ],
   "source": [
    "score_04.loc[score_04.任务名称.str.contains('春花'),:].groupby('积分').size().reset_index()"
   ]
  },
  {
   "cell_type": "code",
   "execution_count": 25,
   "metadata": {
    "ExecuteTime": {
     "end_time": "2020-05-12T09:28:50.164389Z",
     "start_time": "2020-05-12T09:28:49.835286Z"
    }
   },
   "outputs": [],
   "source": [
    "score_04.loc[score_04.模块名称 !='用户打赏'].pivot_table(index=['模块名称','任务名称'],columns =['是否司内'],values='积分',aggfunc='sum').reset_index().to_excel('12.xlsx')"
   ]
  },
  {
   "cell_type": "code",
   "execution_count": 107,
   "metadata": {
    "ExecuteTime": {
     "end_time": "2020-04-27T09:10:36.250657Z",
     "start_time": "2020-04-27T09:10:33.254573Z"
    }
   },
   "outputs": [],
   "source": [
    "score['完成时间'] = pd.to_datetime(pd.to_datetime(score.完成时间).dt.strftime('%Y-%m-%d'))\n",
    "score['mon'] = score.完成时间.map(date_bus)"
   ]
  },
  {
   "cell_type": "code",
   "execution_count": 109,
   "metadata": {
    "ExecuteTime": {
     "end_time": "2020-04-27T09:17:15.621377Z",
     "start_time": "2020-04-27T09:17:15.590433Z"
    }
   },
   "outputs": [
    {
     "data": {
      "text/plain": [
       "array(['任务中心', '成长营奖励', '商品兑换', '积分发放', '用户打赏', '出单送宝贝产品一', '出单送保贝产品二',\n",
       "       '兑换道具', '学习计划', '商品退款'], dtype=object)"
      ]
     },
     "execution_count": 109,
     "metadata": {},
     "output_type": "execute_result"
    }
   ],
   "source": [
    "score.模块名称.unique()"
   ]
  },
  {
   "cell_type": "code",
   "execution_count": 111,
   "metadata": {
    "ExecuteTime": {
     "end_time": "2020-04-27T09:19:19.726647Z",
     "start_time": "2020-04-27T09:19:19.505693Z"
    }
   },
   "outputs": [],
   "source": [
    "score.groupby(['模块名称','任务名称','是否司内']).agg({'类型':'count','积分':'sum'}).reset_index().to_excel('12.xlsx',encoding='gbk',index=0)"
   ]
  },
  {
   "cell_type": "code",
   "execution_count": 105,
   "metadata": {
    "ExecuteTime": {
     "end_time": "2019-09-29T09:34:27.079000Z",
     "start_time": "2019-09-29T09:34:26.834000Z"
    }
   },
   "outputs": [
    {
     "data": {
      "text/html": [
       "<div>\n",
       "<style scoped>\n",
       "    .dataframe tbody tr th:only-of-type {\n",
       "        vertical-align: middle;\n",
       "    }\n",
       "\n",
       "    .dataframe tbody tr th {\n",
       "        vertical-align: top;\n",
       "    }\n",
       "\n",
       "    .dataframe thead th {\n",
       "        text-align: right;\n",
       "    }\n",
       "</style>\n",
       "<table border=\"1\" class=\"dataframe\">\n",
       "  <thead>\n",
       "    <tr style=\"text-align: right;\">\n",
       "      <th></th>\n",
       "      <th>job_name</th>\n",
       "      <th>point_num</th>\n",
       "      <th>jfly</th>\n",
       "    </tr>\n",
       "  </thead>\n",
       "  <tbody>\n",
       "    <tr>\n",
       "      <th>0</th>\n",
       "      <td>10元京东e卡</td>\n",
       "      <td>-1660</td>\n",
       "      <td>9</td>\n",
       "    </tr>\n",
       "    <tr>\n",
       "      <th>1</th>\n",
       "      <td>20元京东e卡</td>\n",
       "      <td>-3320</td>\n",
       "      <td>1</td>\n",
       "    </tr>\n",
       "    <tr>\n",
       "      <th>2</th>\n",
       "      <td>20元京东e卡</td>\n",
       "      <td>-2000</td>\n",
       "      <td>30</td>\n",
       "    </tr>\n",
       "    <tr>\n",
       "      <th>3</th>\n",
       "      <td>30元京东e卡</td>\n",
       "      <td>-4980</td>\n",
       "      <td>10</td>\n",
       "    </tr>\n",
       "    <tr>\n",
       "      <th>4</th>\n",
       "      <td>30元京东e卡</td>\n",
       "      <td>-3000</td>\n",
       "      <td>30</td>\n",
       "    </tr>\n",
       "  </tbody>\n",
       "</table>\n",
       "</div>"
      ],
      "text/plain": [
       "  job_name  point_num  jfly\n",
       "0  10元京东e卡      -1660     9\n",
       "1  20元京东e卡      -3320     1\n",
       "2  20元京东e卡      -2000    30\n",
       "3  30元京东e卡      -4980    10\n",
       "4  30元京东e卡      -3000    30"
      ]
     },
     "execution_count": 105,
     "metadata": {},
     "output_type": "execute_result"
    }
   ],
   "source": [
    "score.loc[score.job_name.str.contains('京东'),:].groupby(['job_name','point_num']).agg({'jfly':'count'}).reset_index()"
   ]
  },
  {
   "cell_type": "code",
   "execution_count": 144,
   "metadata": {
    "ExecuteTime": {
     "end_time": "2019-07-09T08:53:47.833000Z",
     "start_time": "2019-07-09T08:53:43.015000Z"
    }
   },
   "outputs": [],
   "source": [
    "score.loc[(score.mon >= '2019-01') & (score.job_name =='每日签到'),:].groupby(['location','mon']).user_id.nunique().reset_index().pivot(index='location',columns = 'mon',values='user_id').to_excel('12.xlsx',encoding='gbk')"
   ]
  },
  {
   "cell_type": "code",
   "execution_count": 82,
   "metadata": {
    "ExecuteTime": {
     "end_time": "2019-10-08T08:14:26.923000Z",
     "start_time": "2019-10-08T08:14:26.699000Z"
    }
   },
   "outputs": [],
   "source": [
    "score.groupby(['module_name','job_name']).agg({'user_id':'count','point_num':'sum'}).reset_index().to_excel('12.xlsx')"
   ]
  },
  {
   "cell_type": "markdown",
   "metadata": {},
   "source": [
    "## 平台基础保费测算"
   ]
  },
  {
   "cell_type": "markdown",
   "metadata": {},
   "source": [
    "### 调整非加点商品"
   ]
  },
  {
   "cell_type": "code",
   "execution_count": 21,
   "metadata": {
    "ExecuteTime": {
     "end_time": "2020-05-20T01:46:13.138051Z",
     "start_time": "2020-05-20T01:46:12.445902Z"
    }
   },
   "outputs": [],
   "source": [
    "## 2月份调整商品\n",
    "order_sum.loc[(order_sum.mon =='2020-02') \n",
    "              & (order_sum.pname == '复星联合爱无忧意外伤害保险'),'tgf_b2'] = 0.1\n",
    "## 3月份调整商品\n",
    "order_sum.loc[(order_sum.date_pay >= pd.to_datetime('2020-03-11'))\n",
    "              & (order_sum.date_pay <= '2020-03-25') \n",
    "              & (order_sum.pname =='复星联合妈咪保贝少儿重大疾病保险'),'tgf_b2'] = 0.1\n",
    "order_sum.loc[(order_sum.mon =='2020-03') \n",
    "              & (order_sum.pname =='众安尊享e生2020版'),'tgf_b2'] = 0.1\n",
    "## 4月份调整商品\n",
    "order_sum.loc[(order_sum.date_pay >= pd.to_datetime('2020-03-26'))\n",
    "              & (order_sum.date_pay <= '2020-04-13') \n",
    "              & (order_sum.pname =='百年康惠保(2020版)重大疾病保险'),'tgf_b2'] = 0.1\n",
    "order_sum.loc[(order_sum.date_pay >= pd.to_datetime('2020-03-26'))\n",
    "              & (order_sum.date_pay <= '2020-04-13') \n",
    "              & (order_sum.pname =='国富人寿嘉和保重大疾病保险'),'tgf_b2'] = 0.1\n",
    "order_sum.loc[(order_sum.date_pay >= pd.to_datetime('2020-03-26'))\n",
    "              & (order_sum.date_pay <= '2020-04-13') \n",
    "              & (order_sum.pname =='百年康惠保（青春定期版）'),'tgf_b2'] = 0.1\n",
    "order_sum.loc[(order_sum.date_pay >= pd.to_datetime('2020-03-26'))\n",
    "              & (order_sum.date_pay <= '2020-04-13') \n",
    "              & (order_sum.pname =='复星联合妈咪保贝少儿重大疾病保险'),'tgf_b2'] = 0.1\n",
    "order_sum.loc[(order_sum.date_pay >= pd.to_datetime('2020-03-26'))\n",
    "              & (order_sum.date_pay <= '2020-04-13') \n",
    "              & (order_sum.pname =='复星联合倍吉星重大疾病保险'),'tgf_b2'] = 0.1\n",
    "order_sum.loc[(order_sum.date_pay >= pd.to_datetime('2020-03-26'))\n",
    "              & (order_sum.date_pay <= '2020-04-13') \n",
    "              & (order_sum.pname =='百年超倍保重大疾病保险'),'tgf_b2'] = 0.1"
   ]
  },
  {
   "cell_type": "code",
   "execution_count": 22,
   "metadata": {
    "ExecuteTime": {
     "end_time": "2020-05-20T01:46:22.110062Z",
     "start_time": "2020-05-20T01:46:14.261050Z"
    }
   },
   "outputs": [
    {
     "data": {
      "text/html": [
       "<div>\n",
       "<style scoped>\n",
       "    .dataframe tbody tr th:only-of-type {\n",
       "        vertical-align: middle;\n",
       "    }\n",
       "\n",
       "    .dataframe tbody tr th {\n",
       "        vertical-align: top;\n",
       "    }\n",
       "\n",
       "    .dataframe thead th {\n",
       "        text-align: right;\n",
       "    }\n",
       "</style>\n",
       "<table border=\"1\" class=\"dataframe\">\n",
       "  <thead>\n",
       "    <tr style=\"text-align: right;\">\n",
       "      <th></th>\n",
       "      <th>ticket_name</th>\n",
       "      <th>tgf_X</th>\n",
       "    </tr>\n",
       "  </thead>\n",
       "  <tbody>\n",
       "    <tr>\n",
       "      <th>0</th>\n",
       "      <td>5月冲刺券</td>\n",
       "      <td>8970.0</td>\n",
       "    </tr>\n",
       "    <tr>\n",
       "      <th>1</th>\n",
       "      <td>E营业部专属大礼包</td>\n",
       "      <td>300.0</td>\n",
       "    </tr>\n",
       "    <tr>\n",
       "      <th>2</th>\n",
       "      <td>出单+10%</td>\n",
       "      <td>154.8</td>\n",
       "    </tr>\n",
       "  </tbody>\n",
       "</table>\n",
       "</div>"
      ],
      "text/plain": [
       "  ticket_name   tgf_X\n",
       "0       5月冲刺券  8970.0\n",
       "1   E营业部专属大礼包   300.0\n",
       "2      出单+10%   154.8"
      ]
     },
     "execution_count": 22,
     "metadata": {},
     "output_type": "execute_result"
    }
   ],
   "source": [
    "## 区分活动订单\n",
    "dic_act = order_sum.loc[(order_sum.tgf_b2 >0)\n",
    "              & (order_sum.mon >='2020-03'),:].groupby(['date_pay','pname']).agg({'bf':'sum'}).reset_index()\n",
    "\n",
    "## 福利券类型\n",
    "ticket_type = pd.read_excel(dir_dic + '12_福利券类型.xlsx')\n",
    "\n",
    "## 验证是否有福利券遗漏，忘记标类型\n",
    "order_ticket = pd.merge(order_sum,ticket_type,how='left',on='ticket_name')\n",
    "order_ticket.loc[(order_ticket.ticket_type.isna()),:].groupby('ticket_name').tgf_X.sum().reset_index()"
   ]
  },
  {
   "cell_type": "code",
   "execution_count": 9,
   "metadata": {
    "ExecuteTime": {
     "end_time": "2020-05-12T07:48:09.448705Z",
     "start_time": "2020-05-12T07:48:08.957932Z"
    }
   },
   "outputs": [],
   "source": [
    "## 导出未标记的福利券\n",
    "order_ticket.loc[(order_ticket.mon >='2020-02')\n",
    "              & (order_ticket.ticket_type.isna()),:].groupby('ticket_name').tgf_X.sum().reset_index().to_excel('12.xlsx')"
   ]
  },
  {
   "cell_type": "markdown",
   "metadata": {},
   "source": [
    "### 基础保费测算"
   ]
  },
  {
   "cell_type": "code",
   "execution_count": 23,
   "metadata": {
    "ExecuteTime": {
     "end_time": "2020-05-20T01:46:30.956406Z",
     "start_time": "2020-05-20T01:46:24.469752Z"
    }
   },
   "outputs": [],
   "source": [
    "order_detail = pd.merge(order_ticket,dic_act,how='left',on=['pname','date_pay'])"
   ]
  },
  {
   "cell_type": "code",
   "execution_count": 24,
   "metadata": {
    "ExecuteTime": {
     "end_time": "2020-05-20T01:46:32.523249Z",
     "start_time": "2020-05-20T01:46:30.957404Z"
    }
   },
   "outputs": [
    {
     "data": {
      "text/html": [
       "<div>\n",
       "<style scoped>\n",
       "    .dataframe tbody tr th:only-of-type {\n",
       "        vertical-align: middle;\n",
       "    }\n",
       "\n",
       "    .dataframe tbody tr th {\n",
       "        vertical-align: top;\n",
       "    }\n",
       "\n",
       "    .dataframe thead th {\n",
       "        text-align: right;\n",
       "    }\n",
       "</style>\n",
       "<table border=\"1\" class=\"dataframe\">\n",
       "  <thead>\n",
       "    <tr style=\"text-align: right;\">\n",
       "      <th>order_type</th>\n",
       "      <th>0_基础</th>\n",
       "      <th>1_商品活动</th>\n",
       "      <th>2_用户福利券</th>\n",
       "    </tr>\n",
       "    <tr>\n",
       "      <th>mon</th>\n",
       "      <th></th>\n",
       "      <th></th>\n",
       "      <th></th>\n",
       "    </tr>\n",
       "  </thead>\n",
       "  <tbody>\n",
       "    <tr>\n",
       "      <th>2020-01</th>\n",
       "      <td>2.560075e+07</td>\n",
       "      <td>NaN</td>\n",
       "      <td>12335215.83</td>\n",
       "    </tr>\n",
       "    <tr>\n",
       "      <th>2020-02</th>\n",
       "      <td>2.037843e+07</td>\n",
       "      <td>NaN</td>\n",
       "      <td>18314723.59</td>\n",
       "    </tr>\n",
       "    <tr>\n",
       "      <th>2020-03</th>\n",
       "      <td>1.924244e+07</td>\n",
       "      <td>7168912.6</td>\n",
       "      <td>11996628.47</td>\n",
       "    </tr>\n",
       "    <tr>\n",
       "      <th>2020-04</th>\n",
       "      <td>2.435758e+07</td>\n",
       "      <td>10103017.7</td>\n",
       "      <td>8964828.81</td>\n",
       "    </tr>\n",
       "    <tr>\n",
       "      <th>2020-05</th>\n",
       "      <td>1.618292e+07</td>\n",
       "      <td>4024161.0</td>\n",
       "      <td>12702607.51</td>\n",
       "    </tr>\n",
       "  </tbody>\n",
       "</table>\n",
       "</div>"
      ],
      "text/plain": [
       "order_type          0_基础      1_商品活动      2_用户福利券\n",
       "mon                                              \n",
       "2020-01     2.560075e+07         NaN  12335215.83\n",
       "2020-02     2.037843e+07         NaN  18314723.59\n",
       "2020-03     1.924244e+07   7168912.6  11996628.47\n",
       "2020-04     2.435758e+07  10103017.7   8964828.81\n",
       "2020-05     1.618292e+07   4024161.0  12702607.51"
      ]
     },
     "execution_count": 24,
     "metadata": {},
     "output_type": "execute_result"
    }
   ],
   "source": [
    "order_detail['order_type'] = np.nan\n",
    "order_type_list = ['0_基础','1_商品活动','2_用户福利券']\n",
    "order_detail.loc[order_detail.bf_y.notna(),'order_type'] = order_type_list[1]\n",
    "\n",
    "order_detail.loc[(order_detail.order_type.isna())\n",
    "                & (order_detail.ticket_type =='用户'),'order_type'] = order_type_list[2]\n",
    "\n",
    "order_detail.order_type.fillna(order_type_list[0],inplace=True)\n",
    "order_detail.groupby(['mon','order_type']).bf_x.sum().reset_index().pivot(index='mon',columns ='order_type',values='bf_x')"
   ]
  },
  {
   "cell_type": "code",
   "execution_count": 25,
   "metadata": {
    "ExecuteTime": {
     "end_time": "2020-05-20T01:46:45.187440Z",
     "start_time": "2020-05-20T01:46:36.664147Z"
    }
   },
   "outputs": [],
   "source": [
    "order_detail.loc[order_detail.order_type==order_type_list[1],:].groupby(['mon','pname','date_pay']).bf_x.sum().reset_index().to_excel('12.xlsx')\n",
    "dic_pname = order_detail.loc[order_detail.order_type==order_type_list[1],:].groupby(['mon','pname']).order.count().reset_index()\n",
    "order_non_act = pd.merge(order_detail,dic_pname,how='left',on=['pname','mon'])\n",
    "order_non_act.loc[order_non_act.order_y.notna(),:].groupby(['mon','pname','date_pay']).bf_x.sum().reset_index().to_excel('11.xlsx')"
   ]
  },
  {
   "cell_type": "code",
   "execution_count": 26,
   "metadata": {
    "ExecuteTime": {
     "end_time": "2020-05-20T01:46:45.360918Z",
     "start_time": "2020-05-20T01:46:45.188351Z"
    }
   },
   "outputs": [
    {
     "data": {
      "text/html": [
       "<div>\n",
       "<style scoped>\n",
       "    .dataframe tbody tr th:only-of-type {\n",
       "        vertical-align: middle;\n",
       "    }\n",
       "\n",
       "    .dataframe tbody tr th {\n",
       "        vertical-align: top;\n",
       "    }\n",
       "\n",
       "    .dataframe thead th {\n",
       "        text-align: right;\n",
       "    }\n",
       "</style>\n",
       "<table border=\"1\" class=\"dataframe\">\n",
       "  <thead>\n",
       "    <tr style=\"text-align: right;\">\n",
       "      <th></th>\n",
       "      <th>index</th>\n",
       "      <th>mon</th>\n",
       "      <th>order_type</th>\n",
       "      <th>ticket_type</th>\n",
       "      <th>bf_x</th>\n",
       "      <th>tgf_X</th>\n",
       "    </tr>\n",
       "  </thead>\n",
       "  <tbody>\n",
       "    <tr>\n",
       "      <th>13</th>\n",
       "      <td>13</td>\n",
       "      <td>2020-04</td>\n",
       "      <td>0_基础</td>\n",
       "      <td>其他</td>\n",
       "      <td>1122826.98</td>\n",
       "      <td>116731.19</td>\n",
       "    </tr>\n",
       "    <tr>\n",
       "      <th>14</th>\n",
       "      <td>14</td>\n",
       "      <td>2020-04</td>\n",
       "      <td>0_基础</td>\n",
       "      <td>未使用</td>\n",
       "      <td>23234749.39</td>\n",
       "      <td>0.00</td>\n",
       "    </tr>\n",
       "    <tr>\n",
       "      <th>15</th>\n",
       "      <td>15</td>\n",
       "      <td>2020-04</td>\n",
       "      <td>1_商品活动</td>\n",
       "      <td>其他</td>\n",
       "      <td>394822.15</td>\n",
       "      <td>69377.20</td>\n",
       "    </tr>\n",
       "    <tr>\n",
       "      <th>16</th>\n",
       "      <td>16</td>\n",
       "      <td>2020-04</td>\n",
       "      <td>1_商品活动</td>\n",
       "      <td>未使用</td>\n",
       "      <td>6121002.11</td>\n",
       "      <td>0.00</td>\n",
       "    </tr>\n",
       "    <tr>\n",
       "      <th>17</th>\n",
       "      <td>17</td>\n",
       "      <td>2020-04</td>\n",
       "      <td>1_商品活动</td>\n",
       "      <td>用户</td>\n",
       "      <td>3587193.44</td>\n",
       "      <td>193266.61</td>\n",
       "    </tr>\n",
       "    <tr>\n",
       "      <th>18</th>\n",
       "      <td>18</td>\n",
       "      <td>2020-04</td>\n",
       "      <td>2_用户福利券</td>\n",
       "      <td>用户</td>\n",
       "      <td>8964828.81</td>\n",
       "      <td>349469.06</td>\n",
       "    </tr>\n",
       "    <tr>\n",
       "      <th>19</th>\n",
       "      <td>19</td>\n",
       "      <td>2020-05</td>\n",
       "      <td>0_基础</td>\n",
       "      <td>其他</td>\n",
       "      <td>1031895.98</td>\n",
       "      <td>111961.21</td>\n",
       "    </tr>\n",
       "    <tr>\n",
       "      <th>20</th>\n",
       "      <td>20</td>\n",
       "      <td>2020-05</td>\n",
       "      <td>0_基础</td>\n",
       "      <td>未使用</td>\n",
       "      <td>15151026.16</td>\n",
       "      <td>8994.80</td>\n",
       "    </tr>\n",
       "    <tr>\n",
       "      <th>21</th>\n",
       "      <td>21</td>\n",
       "      <td>2020-05</td>\n",
       "      <td>1_商品活动</td>\n",
       "      <td>其他</td>\n",
       "      <td>205944.80</td>\n",
       "      <td>50597.93</td>\n",
       "    </tr>\n",
       "    <tr>\n",
       "      <th>22</th>\n",
       "      <td>22</td>\n",
       "      <td>2020-05</td>\n",
       "      <td>1_商品活动</td>\n",
       "      <td>未使用</td>\n",
       "      <td>1909647.40</td>\n",
       "      <td>430.00</td>\n",
       "    </tr>\n",
       "    <tr>\n",
       "      <th>23</th>\n",
       "      <td>23</td>\n",
       "      <td>2020-05</td>\n",
       "      <td>1_商品活动</td>\n",
       "      <td>用户</td>\n",
       "      <td>1908568.80</td>\n",
       "      <td>61075.00</td>\n",
       "    </tr>\n",
       "    <tr>\n",
       "      <th>24</th>\n",
       "      <td>24</td>\n",
       "      <td>2020-05</td>\n",
       "      <td>2_用户福利券</td>\n",
       "      <td>用户</td>\n",
       "      <td>12702607.51</td>\n",
       "      <td>494215.42</td>\n",
       "    </tr>\n",
       "  </tbody>\n",
       "</table>\n",
       "</div>"
      ],
      "text/plain": [
       "    index      mon order_type ticket_type         bf_x      tgf_X\n",
       "13     13  2020-04       0_基础          其他   1122826.98  116731.19\n",
       "14     14  2020-04       0_基础         未使用  23234749.39       0.00\n",
       "15     15  2020-04     1_商品活动          其他    394822.15   69377.20\n",
       "16     16  2020-04     1_商品活动         未使用   6121002.11       0.00\n",
       "17     17  2020-04     1_商品活动          用户   3587193.44  193266.61\n",
       "18     18  2020-04    2_用户福利券          用户   8964828.81  349469.06\n",
       "19     19  2020-05       0_基础          其他   1031895.98  111961.21\n",
       "20     20  2020-05       0_基础         未使用  15151026.16    8994.80\n",
       "21     21  2020-05     1_商品活动          其他    205944.80   50597.93\n",
       "22     22  2020-05     1_商品活动         未使用   1909647.40     430.00\n",
       "23     23  2020-05     1_商品活动          用户   1908568.80   61075.00\n",
       "24     24  2020-05    2_用户福利券          用户  12702607.51  494215.42"
      ]
     },
     "execution_count": 26,
     "metadata": {},
     "output_type": "execute_result"
    }
   ],
   "source": [
    "order_detail.ticket_type.fillna('未使用',inplace=True)\n",
    "order_detail.groupby(['mon','order_type','ticket_type']).agg({'bf_x':'sum','tgf_X':'sum'}).reset_index().reset_index().tail(12)"
   ]
  },
  {
   "cell_type": "markdown",
   "metadata": {},
   "source": [
    "## 意外险用户品质"
   ]
  },
  {
   "cell_type": "markdown",
   "metadata": {},
   "source": [
    "### 理赔数据"
   ]
  },
  {
   "cell_type": "code",
   "execution_count": 32,
   "metadata": {
    "ExecuteTime": {
     "end_time": "2020-05-20T02:02:52.273803Z",
     "start_time": "2020-05-20T02:02:39.047166Z"
    }
   },
   "outputs": [],
   "source": [
    "df1 = pd.read_excel(dir_sup+'意外险用户品质测算\\\\理赔订单列表 (1).xlsx')\n",
    "df2 = pd.read_excel(dir_sup+'意外险用户品质测算\\\\理赔订单列表 (2).xlsx')\n",
    "df3 = pd.read_excel(dir_sup+'意外险用户品质测算\\\\理赔订单列表 (3).xlsx')\n",
    "order_pf = pd.concat([df1,df2,df3])\n",
    "order_pf.rename(columns = {'订单号':'order','保单号':'order_origin'},inplace=True)"
   ]
  },
  {
   "cell_type": "code",
   "execution_count": 85,
   "metadata": {
    "ExecuteTime": {
     "end_time": "2020-05-20T02:59:34.468688Z",
     "start_time": "2020-05-20T02:59:34.438741Z"
    }
   },
   "outputs": [],
   "source": [
    "order_pf['order'] = order_pf.order.map(lambda x:str(x).strip())\n",
    "order_pf['order_origin'] = order_pf.order_origin.map(lambda x:str(x).strip())"
   ]
  },
  {
   "cell_type": "markdown",
   "metadata": {
    "ExecuteTime": {
     "end_time": "2020-04-30T07:56:59.141813Z",
     "start_time": "2020-04-30T07:56:59.123862Z"
    }
   },
   "source": [
    "### 订单数据"
   ]
  },
  {
   "cell_type": "code",
   "execution_count": 33,
   "metadata": {
    "ExecuteTime": {
     "end_time": "2020-05-20T02:04:22.475606Z",
     "start_time": "2020-05-20T02:03:55.926597Z"
    }
   },
   "outputs": [],
   "source": [
    "col = ['order','order_origin','date_pay','bf','uid','pname','time_start','time_end']\n",
    "order_2019 = order_2019.copy()\n",
    "order_2020 = order_20.copy()\n",
    "order_all = pd.concat([order_2019[col],order_2020[col]])\n",
    "order_all['time_protect'] = (pd.to_datetime(order_all.time_end) - pd.to_datetime(order_all.time_start)).map(lambda x:x.days)\n",
    "order_need = order_all.loc[(order_all.time_protect.isin([364,365])) \n",
    "                           & (order_all.order.isin(ct_order.order.unique())==False),:].copy()"
   ]
  },
  {
   "cell_type": "markdown",
   "metadata": {},
   "source": [
    "### 用户基础"
   ]
  },
  {
   "cell_type": "code",
   "execution_count": 164,
   "metadata": {
    "ExecuteTime": {
     "end_time": "2020-05-20T05:54:03.901769Z",
     "start_time": "2020-05-20T05:53:59.957317Z"
    }
   },
   "outputs": [],
   "source": [
    "user_info = pd.read_csv(dir_user + 'user_info_online_20200429.csv',low_memory=False)\n",
    "user_info.rename(columns = {'用户ID':'uid','工号':'ucode'},inplace=True)\n",
    "\n",
    "user_info.loc[user_info.认证时间 =='--','认证时间']= user_info.loc[user_info.认证时间 =='--','注册时间']\n",
    "user_info['long_attest'] = (pd.to_datetime('2020-05-20') -  pd.to_datetime(user_info.认证时间)).map(lambda x:x.days)\n",
    "user_info = user_info[['uid','ucode','long_attest']].copy()\n",
    "user_info.ucode.fillna(0,inplace=True)\n",
    "user_info['ucode'] = user_info.ucode.map(lambda x:str(int(x)).strip())"
   ]
  },
  {
   "cell_type": "code",
   "execution_count": 165,
   "metadata": {
    "ExecuteTime": {
     "end_time": "2020-05-20T05:54:06.202645Z",
     "start_time": "2020-05-20T05:54:06.145770Z"
    }
   },
   "outputs": [
    {
     "name": "stdout",
     "output_type": "stream",
     "text": [
      "<class 'pandas.core.frame.DataFrame'>\n",
      "RangeIndex: 269180 entries, 0 to 269179\n",
      "Data columns (total 3 columns):\n",
      "uid            269180 non-null object\n",
      "ucode          269180 non-null object\n",
      "long_attest    269031 non-null float64\n",
      "dtypes: float64(1), object(2)\n",
      "memory usage: 6.2+ MB\n"
     ]
    }
   ],
   "source": [
    "user_info.info()"
   ]
  },
  {
   "cell_type": "markdown",
   "metadata": {},
   "source": [
    "### R13"
   ]
  },
  {
   "cell_type": "code",
   "execution_count": 192,
   "metadata": {
    "ExecuteTime": {
     "end_time": "2020-05-20T06:08:12.066559Z",
     "start_time": "2020-05-20T06:08:11.013384Z"
    }
   },
   "outputs": [],
   "source": [
    "user_r13 = pd.read_excel(dir_sup + '意外险用户品质测算\\\\R13_2020.04.30.xls')\n",
    "user_r13 = user_r13[['代理人编码','继续率（13个月）']].copy()"
   ]
  },
  {
   "cell_type": "code",
   "execution_count": 193,
   "metadata": {
    "ExecuteTime": {
     "end_time": "2020-05-20T06:08:12.543278Z",
     "start_time": "2020-05-20T06:08:12.519344Z"
    }
   },
   "outputs": [],
   "source": [
    "user_r13.columns = ['ucode','r13']\n",
    "user_r13.ucode.fillna(0,inplace=True)\n",
    "user_r13['ucode'] = user_r13.ucode.map(lambda x:str(int(x)).strip())\n",
    "user_r13 = user_r13.loc[user_r13.ucode != '0',:].copy()"
   ]
  },
  {
   "cell_type": "markdown",
   "metadata": {},
   "source": [
    "### 职业类别"
   ]
  },
  {
   "cell_type": "code",
   "execution_count": 49,
   "metadata": {
    "ExecuteTime": {
     "end_time": "2020-05-20T02:09:39.537416Z",
     "start_time": "2020-05-20T02:09:33.333977Z"
    }
   },
   "outputs": [],
   "source": [
    "user_pro = pd.read_csv(dir_sup + 'user_profession.csv',encoding='utf-8',low_memory=False)\n",
    "user_pro.订单号.replace('TW|T','',regex=True,inplace=True)\n",
    "user_pro_need = user_pro[['订单号','被保人职业类别']].copy()\n",
    "user_pro_need.columns = ['order','class_bb']"
   ]
  },
  {
   "cell_type": "markdown",
   "metadata": {},
   "source": [
    "### 信息组合"
   ]
  },
  {
   "cell_type": "code",
   "execution_count": 127,
   "metadata": {
    "ExecuteTime": {
     "end_time": "2020-05-20T03:25:56.453957Z",
     "start_time": "2020-05-20T03:25:53.843938Z"
    }
   },
   "outputs": [],
   "source": [
    "order_pro = pd.merge(order_need,user_pro_need,how='left',on='order')\n",
    "order_ptype = pd.merge(order_pro,ptype[['pname','plabel_need']],how='left',on='pname')\n",
    "order_ptype.loc[order_ptype.plabel_need =='意外险_10+1','plabel_res'] = '0_意外险101'\n",
    "order_ptype.plabel_res.fillna('1_其他产品',inplace=True)\n",
    "order_pf_need = pd.merge(order_ptype,order_pf[['order_origin','order']],how='left',on='order_origin')"
   ]
  },
  {
   "cell_type": "code",
   "execution_count": 152,
   "metadata": {
    "ExecuteTime": {
     "end_time": "2020-05-20T03:51:12.467282Z",
     "start_time": "2020-05-20T03:51:10.026823Z"
    }
   },
   "outputs": [],
   "source": [
    "## 近半年出单人力\n",
    "uid_order = order_pf_need.groupby(['uid','plabel_res']).order_x.count().reset_index().pivot('uid','plabel_res','order_x').reset_index()\n",
    "uid_need_order = order_pf_need.loc[order_pf_need.date_pay >= pd.to_datetime('2019-11-20'),:].groupby(['uid','plabel_res']).order_x.count().reset_index().pivot('uid','plabel_res','order_x').reset_index()\n",
    "uid_need_pf = order_pf_need.loc[order_pf_need.order_y.notna(),:].groupby(['uid','plabel_res']).order_x.count().reset_index().pivot('uid','plabel_res','order_x').reset_index()\n",
    "uid_need_pro  = order_pf_need.groupby(['uid','plabel_res','class_bb']).order_x.count().reset_index().pivot_table(index='uid',columns =['plabel_res','class_bb'],values='order_x',aggfunc = np.sum).reset_index()"
   ]
  },
  {
   "cell_type": "code",
   "execution_count": 208,
   "metadata": {
    "ExecuteTime": {
     "end_time": "2020-05-20T06:22:35.178118Z",
     "start_time": "2020-05-20T06:22:34.789184Z"
    }
   },
   "outputs": [
    {
     "name": "stderr",
     "output_type": "stream",
     "text": [
      "D:\\ProgramData\\Anaconda3\\lib\\site-packages\\pandas\\core\\reshape\\merge.py:543: UserWarning: merging between different levels can give an unintended result (1 levels on the left, 2 on the right)\n",
      "  warnings.warn(msg, UserWarning)\n",
      "D:\\ProgramData\\Anaconda3\\lib\\site-packages\\pandas\\core\\generic.py:3108: PerformanceWarning: dropping on a non-lexsorted multi-index without a level parameter may impact performance.\n",
      "  obj = obj._drop_axis(labels, axis, level=level, errors=errors)\n"
     ]
    }
   ],
   "source": [
    "mid_01  = pd.merge(uid_order,uid_need_pf,how='left',on='uid',suffixes=['_order','_pf'])\n",
    "mid_02 = pd.merge(mid_01,uid_need_order,how='left',on='uid')\n",
    "mid_03 = pd.merge(mid_02,uid_need_pro,how='left',on='uid')\n",
    "mid_04 = pd.merge(mid_03,user_info,how='left',on='uid')\n",
    "res = pd.merge(mid_04,user_r13,how='left',on='ucode')"
   ]
  },
  {
   "cell_type": "code",
   "execution_count": 200,
   "metadata": {
    "ExecuteTime": {
     "end_time": "2020-05-20T06:09:59.625069Z",
     "start_time": "2020-05-20T06:09:34.258780Z"
    }
   },
   "outputs": [],
   "source": [
    "mid_05.to_excel('12.xlsx')"
   ]
  },
  {
   "cell_type": "code",
   "execution_count": 209,
   "metadata": {
    "ExecuteTime": {
     "end_time": "2020-05-20T06:22:43.859903Z",
     "start_time": "2020-05-20T06:22:43.793108Z"
    }
   },
   "outputs": [],
   "source": [
    "res.fillna(0,inplace=True)"
   ]
  },
  {
   "cell_type": "code",
   "execution_count": 210,
   "metadata": {
    "ExecuteTime": {
     "end_time": "2020-05-20T06:22:44.585990Z",
     "start_time": "2020-05-20T06:22:44.563050Z"
    }
   },
   "outputs": [
    {
     "data": {
      "text/html": [
       "<div>\n",
       "<style scoped>\n",
       "    .dataframe tbody tr th:only-of-type {\n",
       "        vertical-align: middle;\n",
       "    }\n",
       "\n",
       "    .dataframe tbody tr th {\n",
       "        vertical-align: top;\n",
       "    }\n",
       "\n",
       "    .dataframe thead th {\n",
       "        text-align: right;\n",
       "    }\n",
       "</style>\n",
       "<table border=\"1\" class=\"dataframe\">\n",
       "  <thead>\n",
       "    <tr style=\"text-align: right;\">\n",
       "      <th></th>\n",
       "      <th>uid</th>\n",
       "      <th>0_意外险101_order</th>\n",
       "      <th>1_其他产品_order</th>\n",
       "      <th>0_意外险101_pf</th>\n",
       "      <th>1_其他产品_pf</th>\n",
       "      <th>0_意外险101</th>\n",
       "      <th>1_其他产品</th>\n",
       "      <th>(0_意外险101, 1)</th>\n",
       "      <th>(0_意外险101, 2)</th>\n",
       "      <th>(0_意外险101, 3)</th>\n",
       "      <th>...</th>\n",
       "      <th>(0_意外险101, 6)</th>\n",
       "      <th>(1_其他产品, 1)</th>\n",
       "      <th>(1_其他产品, 2)</th>\n",
       "      <th>(1_其他产品, 3)</th>\n",
       "      <th>(1_其他产品, 4)</th>\n",
       "      <th>(1_其他产品, 5)</th>\n",
       "      <th>(1_其他产品, 6)</th>\n",
       "      <th>ucode</th>\n",
       "      <th>long_attest</th>\n",
       "      <th>r13</th>\n",
       "    </tr>\n",
       "  </thead>\n",
       "  <tbody>\n",
       "    <tr>\n",
       "      <th>0</th>\n",
       "      <td>00030dc819cf407ca1207d7c0ee74c0a</td>\n",
       "      <td>1.0</td>\n",
       "      <td>1.0</td>\n",
       "      <td>0.0</td>\n",
       "      <td>0.0</td>\n",
       "      <td>0.0</td>\n",
       "      <td>0.0</td>\n",
       "      <td>0.0</td>\n",
       "      <td>0.0</td>\n",
       "      <td>0.0</td>\n",
       "      <td>...</td>\n",
       "      <td>0.0</td>\n",
       "      <td>0.0</td>\n",
       "      <td>1.0</td>\n",
       "      <td>0.0</td>\n",
       "      <td>0.0</td>\n",
       "      <td>0.0</td>\n",
       "      <td>0.0</td>\n",
       "      <td>0</td>\n",
       "      <td>1164.0</td>\n",
       "      <td>0</td>\n",
       "    </tr>\n",
       "    <tr>\n",
       "      <th>1</th>\n",
       "      <td>00036573a8fd413488ae0463351defc9</td>\n",
       "      <td>7.0</td>\n",
       "      <td>8.0</td>\n",
       "      <td>0.0</td>\n",
       "      <td>0.0</td>\n",
       "      <td>1.0</td>\n",
       "      <td>0.0</td>\n",
       "      <td>3.0</td>\n",
       "      <td>3.0</td>\n",
       "      <td>1.0</td>\n",
       "      <td>...</td>\n",
       "      <td>0.0</td>\n",
       "      <td>0.0</td>\n",
       "      <td>0.0</td>\n",
       "      <td>0.0</td>\n",
       "      <td>0.0</td>\n",
       "      <td>0.0</td>\n",
       "      <td>0.0</td>\n",
       "      <td>0</td>\n",
       "      <td>1315.0</td>\n",
       "      <td>0</td>\n",
       "    </tr>\n",
       "    <tr>\n",
       "      <th>2</th>\n",
       "      <td>0003764068294693af8f72c91ea2fcfd</td>\n",
       "      <td>6.0</td>\n",
       "      <td>39.0</td>\n",
       "      <td>0.0</td>\n",
       "      <td>0.0</td>\n",
       "      <td>0.0</td>\n",
       "      <td>31.0</td>\n",
       "      <td>3.0</td>\n",
       "      <td>0.0</td>\n",
       "      <td>3.0</td>\n",
       "      <td>...</td>\n",
       "      <td>0.0</td>\n",
       "      <td>9.0</td>\n",
       "      <td>3.0</td>\n",
       "      <td>2.0</td>\n",
       "      <td>0.0</td>\n",
       "      <td>0.0</td>\n",
       "      <td>0.0</td>\n",
       "      <td>640269006</td>\n",
       "      <td>380.0</td>\n",
       "      <td>0</td>\n",
       "    </tr>\n",
       "    <tr>\n",
       "      <th>3</th>\n",
       "      <td>000459ac1bd14054a1cd66c3e3151ca0</td>\n",
       "      <td>0.0</td>\n",
       "      <td>2.0</td>\n",
       "      <td>0.0</td>\n",
       "      <td>0.0</td>\n",
       "      <td>0.0</td>\n",
       "      <td>0.0</td>\n",
       "      <td>0.0</td>\n",
       "      <td>0.0</td>\n",
       "      <td>0.0</td>\n",
       "      <td>...</td>\n",
       "      <td>0.0</td>\n",
       "      <td>0.0</td>\n",
       "      <td>2.0</td>\n",
       "      <td>0.0</td>\n",
       "      <td>0.0</td>\n",
       "      <td>0.0</td>\n",
       "      <td>0.0</td>\n",
       "      <td>0</td>\n",
       "      <td>389.0</td>\n",
       "      <td>0</td>\n",
       "    </tr>\n",
       "    <tr>\n",
       "      <th>4</th>\n",
       "      <td>000467be8f4c4baea8ccf57c7afc2854</td>\n",
       "      <td>2.0</td>\n",
       "      <td>0.0</td>\n",
       "      <td>0.0</td>\n",
       "      <td>0.0</td>\n",
       "      <td>2.0</td>\n",
       "      <td>0.0</td>\n",
       "      <td>0.0</td>\n",
       "      <td>0.0</td>\n",
       "      <td>0.0</td>\n",
       "      <td>...</td>\n",
       "      <td>0.0</td>\n",
       "      <td>0.0</td>\n",
       "      <td>0.0</td>\n",
       "      <td>0.0</td>\n",
       "      <td>0.0</td>\n",
       "      <td>0.0</td>\n",
       "      <td>0.0</td>\n",
       "      <td>0</td>\n",
       "      <td>641.0</td>\n",
       "      <td>0</td>\n",
       "    </tr>\n",
       "  </tbody>\n",
       "</table>\n",
       "<p>5 rows × 22 columns</p>\n",
       "</div>"
      ],
      "text/plain": [
       "                                uid  0_意外险101_order  1_其他产品_order  \\\n",
       "0  00030dc819cf407ca1207d7c0ee74c0a             1.0           1.0   \n",
       "1  00036573a8fd413488ae0463351defc9             7.0           8.0   \n",
       "2  0003764068294693af8f72c91ea2fcfd             6.0          39.0   \n",
       "3  000459ac1bd14054a1cd66c3e3151ca0             0.0           2.0   \n",
       "4  000467be8f4c4baea8ccf57c7afc2854             2.0           0.0   \n",
       "\n",
       "   0_意外险101_pf  1_其他产品_pf  0_意外险101  1_其他产品  (0_意外险101, 1)  (0_意外险101, 2)  \\\n",
       "0          0.0        0.0       0.0     0.0            0.0            0.0   \n",
       "1          0.0        0.0       1.0     0.0            3.0            3.0   \n",
       "2          0.0        0.0       0.0    31.0            3.0            0.0   \n",
       "3          0.0        0.0       0.0     0.0            0.0            0.0   \n",
       "4          0.0        0.0       2.0     0.0            0.0            0.0   \n",
       "\n",
       "   (0_意外险101, 3) ...  (0_意外险101, 6)  (1_其他产品, 1)  (1_其他产品, 2)  (1_其他产品, 3)  \\\n",
       "0            0.0 ...            0.0          0.0          1.0          0.0   \n",
       "1            1.0 ...            0.0          0.0          0.0          0.0   \n",
       "2            3.0 ...            0.0          9.0          3.0          2.0   \n",
       "3            0.0 ...            0.0          0.0          2.0          0.0   \n",
       "4            0.0 ...            0.0          0.0          0.0          0.0   \n",
       "\n",
       "   (1_其他产品, 4)  (1_其他产品, 5)  (1_其他产品, 6)      ucode  long_attest r13  \n",
       "0          0.0          0.0          0.0          0       1164.0   0  \n",
       "1          0.0          0.0          0.0          0       1315.0   0  \n",
       "2          0.0          0.0          0.0  640269006        380.0   0  \n",
       "3          0.0          0.0          0.0          0        389.0   0  \n",
       "4          0.0          0.0          0.0          0        641.0   0  \n",
       "\n",
       "[5 rows x 22 columns]"
      ]
     },
     "execution_count": 210,
     "metadata": {},
     "output_type": "execute_result"
    }
   ],
   "source": [
    "res.head()"
   ]
  },
  {
   "cell_type": "code",
   "execution_count": 220,
   "metadata": {
    "ExecuteTime": {
     "end_time": "2020-05-20T06:26:47.585222Z",
     "start_time": "2020-05-20T06:26:47.507413Z"
    }
   },
   "outputs": [
    {
     "name": "stdout",
     "output_type": "stream",
     "text": [
      "<class 'pandas.core.frame.DataFrame'>\n",
      "Int64Index: 79935 entries, 0 to 79934\n",
      "Data columns (total 23 columns):\n",
      "uid               79935 non-null object\n",
      "0_意外险101_order    79935 non-null float64\n",
      "1_其他产品_order      79935 non-null float64\n",
      "0_意外险101_pf       79935 non-null float64\n",
      "1_其他产品_pf         79935 non-null float64\n",
      "0_意外险101          79935 non-null float64\n",
      "1_其他产品            79935 non-null float64\n",
      "(0_意外险101, 1)     79935 non-null float64\n",
      "(0_意外险101, 2)     79935 non-null float64\n",
      "(0_意外险101, 3)     79935 non-null float64\n",
      "(0_意外险101, 4)     79935 non-null float64\n",
      "(0_意外险101, 5)     79935 non-null float64\n",
      "(0_意外险101, 6)     79935 non-null float64\n",
      "(1_其他产品, 1)       79935 non-null float64\n",
      "(1_其他产品, 2)       79935 non-null float64\n",
      "(1_其他产品, 3)       79935 non-null float64\n",
      "(1_其他产品, 4)       79935 non-null float64\n",
      "(1_其他产品, 5)       79935 non-null float64\n",
      "(1_其他产品, 6)       79935 non-null float64\n",
      "ucode             79935 non-null object\n",
      "long_attest       79935 non-null float64\n",
      "r13               79935 non-null object\n",
      "r13_bak           79935 non-null float64\n",
      "dtypes: float64(20), object(3)\n",
      "memory usage: 14.6+ MB\n"
     ]
    }
   ],
   "source": [
    "res.info()"
   ]
  },
  {
   "cell_type": "code",
   "execution_count": 216,
   "metadata": {
    "ExecuteTime": {
     "end_time": "2020-05-20T06:25:52.213291Z",
     "start_time": "2020-05-20T06:25:52.101562Z"
    }
   },
   "outputs": [],
   "source": [
    "res['r13_bak'] = res.r13.replace('%','',regex=True)\n",
    "res['r13_bak'] = res.r13_bak.map(lambda x:float(x)/100)"
   ]
  },
  {
   "cell_type": "code",
   "execution_count": 221,
   "metadata": {
    "ExecuteTime": {
     "end_time": "2020-05-20T06:27:52.110669Z",
     "start_time": "2020-05-20T06:27:52.054820Z"
    }
   },
   "outputs": [],
   "source": [
    "res['is_insider'] = np.nan\n",
    "res.loc[res.ucode != '0','is_insider'] ='否'\n",
    "res.is_insider.fillna('是',inplace=True)"
   ]
  },
  {
   "cell_type": "code",
   "execution_count": 228,
   "metadata": {
    "ExecuteTime": {
     "end_time": "2020-05-20T06:40:32.475656Z",
     "start_time": "2020-05-20T06:40:32.469702Z"
    }
   },
   "outputs": [
    {
     "data": {
      "text/plain": [
       "Index([            'uid',  '0_意外险101_order',    '1_其他产品_order',\n",
       "           '0_意外险101_pf',       '1_其他产品_pf',        '0_意外险101',\n",
       "                '1_其他产品', ('0_意外险101', '1'), ('0_意外险101', '2'),\n",
       "       ('0_意外险101', '3'), ('0_意外险101', '4'), ('0_意外险101', '5'),\n",
       "       ('0_意外险101', '6'),   ('1_其他产品', '1'),   ('1_其他产品', '2'),\n",
       "         ('1_其他产品', '3'),   ('1_其他产品', '4'),   ('1_其他产品', '5'),\n",
       "         ('1_其他产品', '6'),           'ucode',     'long_attest',\n",
       "                   'r13',         'r13_bak',      'is_insider',\n",
       "           'rate_pf_acc',   'rate_pf_noacc',   'rete_cust_acc',\n",
       "       'rete_cust_noacc'],\n",
       "      dtype='object')"
      ]
     },
     "execution_count": 228,
     "metadata": {},
     "output_type": "execute_result"
    }
   ],
   "source": [
    "res.columns"
   ]
  },
  {
   "cell_type": "code",
   "execution_count": 226,
   "metadata": {
    "ExecuteTime": {
     "end_time": "2020-05-20T06:37:35.929758Z",
     "start_time": "2020-05-20T06:37:35.909776Z"
    }
   },
   "outputs": [],
   "source": [
    "res['rate_pf_acc'] = res['0_意外险101_pf']/res['0_意外险101_order']\n",
    "res['rate_pf_noacc'] = res['1_其他产品_pf']/res['1_其他产品_order']\n",
    "res['rete_cust_acc'] = res[('0_意外险101', '1')] + res[('0_意外险101', '2')]+ res[('0_意外险101', '3')]/ res[('0_意外险101', '1')] + \\\n",
    "+ res[('0_意外险101', '2')]+ res[('0_意外险101', '3')]+ res[('0_意外险101', '4')]+ res[('0_意外险101', '5')]+ res[('0_意外险101', '6')]\n",
    "res['rete_cust_noacc'] = res[('1_其他产品', '1')] + res[('1_其他产品', '2')]+ res[('1_其他产品', '3')]/ res[('1_其他产品', '1')] + \\\n",
    "+ res[('1_其他产品', '2')]+ res[('1_其他产品', '3')]+ res[('1_其他产品', '4')]+ res[('1_其他产品', '5')]+ res[('1_其他产品', '6')]"
   ]
  },
  {
   "cell_type": "code",
   "execution_count": 247,
   "metadata": {
    "ExecuteTime": {
     "end_time": "2020-05-20T07:03:03.610850Z",
     "start_time": "2020-05-20T07:03:03.563976Z"
    }
   },
   "outputs": [
    {
     "name": "stdout",
     "output_type": "stream",
     "text": [
      "<class 'pandas.core.frame.DataFrame'>\n",
      "Int64Index: 8553 entries, 13 to 79925\n",
      "Data columns (total 1 columns):\n",
      "uid    8553 non-null object\n",
      "dtypes: object(1)\n",
      "memory usage: 133.6+ KB\n"
     ]
    }
   ],
   "source": [
    "## 意外险件数\n",
    "cnt = 5\n",
    "## 1-3类占比 \n",
    "rate1_3 = 0.7\n",
    "## 件数理赔率\n",
    "rate_pf = 0.01\n",
    "## 认证时长\n",
    "long_att = 366\n",
    "\n",
    "res_01 = res.loc[(res['0_意外险101'] >= cnt) & (res.rete_cust_acc >=rate1_3) & (res.rate_pf_acc <= rate_pf)\n",
    "                   & (res.is_insider =='否'),['uid']].copy()\n",
    "res_02 = res.loc[(res['0_意外险101'] >= cnt) & (res.rete_cust_acc >=rate1_3)  & (res.rate_pf_acc <= rate_pf)\n",
    "                  & (res.is_insider =='是') & (res.long_attest <= long_att),['uid']].copy()\n",
    "res_03 = res.loc[(res['0_意外险101'] >= cnt) & (res.rete_cust_acc >=rate1_3) & (res.rate_pf_acc <= rate_pf) \n",
    "                  & (res.is_insider =='是') & (res.long_attest >= long_att & (res.r13_bak >= 0.9)),['uid']].copy()\n",
    "res_all_acc = pd.concat([res_01,res_02,res_03]).drop_duplicates()\n",
    "res_all_acc.info()"
   ]
  },
  {
   "cell_type": "code",
   "execution_count": 248,
   "metadata": {
    "ExecuteTime": {
     "end_time": "2020-05-20T07:03:05.026066Z",
     "start_time": "2020-05-20T07:03:04.981186Z"
    }
   },
   "outputs": [
    {
     "name": "stdout",
     "output_type": "stream",
     "text": [
      "<class 'pandas.core.frame.DataFrame'>\n",
      "Int64Index: 5561 entries, 2 to 79883\n",
      "Data columns (total 1 columns):\n",
      "uid    5561 non-null object\n",
      "dtypes: object(1)\n",
      "memory usage: 86.9+ KB\n"
     ]
    }
   ],
   "source": [
    "## 意外险件数\n",
    "cnt = 0\n",
    "## 非意外险件数\n",
    "cnt_noacc = 5\n",
    "## 1-3类占比 \n",
    "rate1_3 = 0.7\n",
    "## 件数理赔率\n",
    "rate_pf = 0.01\n",
    "## 认证时长\n",
    "long_att = 366\n",
    "\n",
    "res_01 = res.loc[(res['0_意外险101'] <= cnt) & (res['1_其他产品'] >= cnt_noacc ) & (res.rete_cust_noacc >=rate1_3) & (res.rate_pf_noacc <= rate_pf)\n",
    "                   & (res.is_insider =='否'),['uid']].copy()\n",
    "res_02 = res.loc[(res['0_意外险101'] <= cnt) & (res['1_其他产品'] >= cnt_noacc ) & (res.rete_cust_noacc >=rate1_3)  & (res.rate_pf_noacc <= rate_pf)\n",
    "                  & (res.is_insider =='是') & (res.long_attest <= long_att),['uid']].copy()\n",
    "res_03 = res.loc[(res['0_意外险101'] <= cnt) & (res['1_其他产品'] >= cnt_noacc ) & (res.rete_cust_noacc >=rate1_3) & (res.rate_pf_noacc <= rate_pf) \n",
    "                  & (res.is_insider =='是') & (res.long_attest >= long_att & (res.r13_bak >= 0.9)),['uid']].copy()\n",
    "res_all_noacc = pd.concat([res_01,res_02,res_03]).drop_duplicates()\n",
    "res_all_noacc.info()"
   ]
  },
  {
   "cell_type": "code",
   "execution_count": 250,
   "metadata": {
    "ExecuteTime": {
     "end_time": "2020-05-20T07:04:25.442071Z",
     "start_time": "2020-05-20T07:04:25.431100Z"
    }
   },
   "outputs": [],
   "source": [
    "res = pd.concat([res_all_acc,res_all_noacc]).drop_duplicates()"
   ]
  },
  {
   "cell_type": "code",
   "execution_count": 252,
   "metadata": {
    "ExecuteTime": {
     "end_time": "2020-05-20T07:06:00.826991Z",
     "start_time": "2020-05-20T07:06:00.822004Z"
    }
   },
   "outputs": [
    {
     "data": {
      "text/plain": [
       "Index(['order', 'order_origin', 'date_pay', 'bf', 'uid', 'pname', 'time_start',\n",
       "       'time_end', 'time_protect'],\n",
       "      dtype='object')"
      ]
     },
     "execution_count": 252,
     "metadata": {},
     "output_type": "execute_result"
    }
   ],
   "source": [
    "order_all.columns"
   ]
  },
  {
   "cell_type": "code",
   "execution_count": 262,
   "metadata": {
    "ExecuteTime": {
     "end_time": "2020-05-20T07:13:58.497877Z",
     "start_time": "2020-05-20T07:13:54.317016Z"
    }
   },
   "outputs": [],
   "source": [
    "order_all.loc[(order_all.uid.isin(res.uid.unique())) \n",
    "              &(order_all.pname.isin(['快保-安联意外保险计划','安联意外保(2020版)'])\n",
    "            &(order_all.date_pay >= pd.to_datetime('2019-03-26'))),['uid','order_origin']].to_excel('12.xlsx')"
   ]
  },
  {
   "cell_type": "code",
   "execution_count": 263,
   "metadata": {
    "ExecuteTime": {
     "end_time": "2020-05-20T07:21:59.078528Z",
     "start_time": "2020-05-20T07:21:58.228801Z"
    }
   },
   "outputs": [],
   "source": [
    "res.to_excel('12.xlsx')"
   ]
  },
  {
   "cell_type": "markdown",
   "metadata": {},
   "source": [
    "## 司外用户入司-产品偏好标签"
   ]
  },
  {
   "cell_type": "code",
   "execution_count": 24,
   "metadata": {
    "ExecuteTime": {
     "end_time": "2020-04-27T07:04:36.506640Z",
     "start_time": "2020-04-27T07:04:32.162284Z"
    }
   },
   "outputs": [],
   "source": [
    "col = ['order','pname','date_pay','bf','uid']\n",
    "order_all = pd.concat([order_2019_need[col],order_sum[col]])\n",
    "## 最近一次交易时间\n",
    "order_all['rns'] = order_all['date_pay'].groupby(order_all['uid']).rank(ascending=False,method='first')\n",
    "user_order_first = order_all.loc[order_all.rns ==1,['uid','date_pay']]"
   ]
  },
  {
   "cell_type": "code",
   "execution_count": 25,
   "metadata": {
    "ExecuteTime": {
     "end_time": "2020-04-27T07:05:34.420761Z",
     "start_time": "2020-04-27T07:05:33.855275Z"
    }
   },
   "outputs": [],
   "source": [
    "agg_col = {'order':'count','bf':'sum'}\n",
    "sdate = pd.to_datetime('2020-03-24')\n",
    "edate = pd.to_datetime('2020-04-25')\n",
    "user_order_30 = order_all.loc[(order_all.date_pay >= sdate) & (order_all.date_pay <= edate)].groupby('uid').agg(agg_col).reset_index()\n",
    "\n",
    "sdate = pd.to_datetime('2020-01-24')\n",
    "edate = pd.to_datetime('2020-04-25')\n",
    "user_order_90 = order_all.loc[(order_all.date_pay >= sdate) & (order_all.date_pay <= edate)].groupby('uid').agg(agg_col).reset_index()\n",
    "\n",
    "sdate = pd.to_datetime('2019-11-24')\n",
    "edate = pd.to_datetime('2020-04-25')\n",
    "user_order_180 = order_all.loc[(order_all.date_pay >= sdate) & (order_all.date_pay <= edate)].groupby('uid').agg(agg_col).reset_index()"
   ]
  },
  {
   "cell_type": "code",
   "execution_count": 26,
   "metadata": {
    "ExecuteTime": {
     "end_time": "2020-04-27T07:05:36.881186Z",
     "start_time": "2020-04-27T07:05:35.423082Z"
    }
   },
   "outputs": [],
   "source": [
    "sdate = pd.to_datetime('2019-09-01')\n",
    "edate = pd.to_datetime('2020-03-31')\n",
    "user_order_pname = order_all.loc[(order_all.date_pay >= sdate) & (order_all.date_pay <= edate)].groupby(['uid','pname']).agg(agg_col).reset_index()\n",
    "\n",
    "user_order_pname['order_rns'] = user_order_pname['order'].groupby(user_order_pname['uid']).rank(ascending=False,method='first')\n",
    "user_order_pname['bf_rns'] = user_order_pname['bf'].groupby(user_order_pname['uid']).rank(ascending=False,method='first')\n",
    "\n",
    "user_order_top3 = user_order_pname.loc[user_order_pname.order_rns <=3,:].pivot('uid','order_rns','pname').reset_index()\n",
    "user_bf_top3 = user_order_pname.loc[user_order_pname.bf_rns <=3,:].pivot('uid','bf_rns','pname').reset_index()\n",
    "\n",
    "user_order_301 = pd.merge(user_order_first,user_order_30,how='left',on='uid')\n",
    "user_order_901 = pd.merge(user_order_301,user_order_90,how='left',on='uid')\n",
    "user_order_1801 = pd.merge(user_order_901,user_order_180,how='left',on='uid')\n",
    "\n",
    "user_order_3  = pd.merge(user_order_1801,user_order_top3,how='left',on = 'uid')\n",
    "user_res  = pd.merge(user_order_3,user_bf_top3,how='left',on = 'uid')"
   ]
  },
  {
   "cell_type": "markdown",
   "metadata": {},
   "source": [
    "## 近期报表"
   ]
  },
  {
   "cell_type": "markdown",
   "metadata": {},
   "source": [
    "### A类用户入司报表"
   ]
  },
  {
   "cell_type": "code",
   "execution_count": 134,
   "metadata": {
    "ExecuteTime": {
     "end_time": "2020-05-22T06:40:26.916458Z",
     "start_time": "2020-05-22T06:40:17.379960Z"
    }
   },
   "outputs": [],
   "source": [
    "user_01 = pd.read_excel(dir_down + '用户管理 (23).xlsx')\n",
    "user_02 = pd.read_excel(dir_down + '用户管理 (24).xlsx')\n",
    "cn_col = ['用户ID','手机号','姓名','代理人编码','区域中心']\n",
    "user= pd.concat([user_01[cn_col],user_02[cn_col]])\n",
    "user.columns = ['uid','ucell','uname','ucode_need','area_type']"
   ]
  },
  {
   "cell_type": "code",
   "execution_count": 31,
   "metadata": {
    "ExecuteTime": {
     "end_time": "2020-05-21T02:11:29.614852Z",
     "start_time": "2020-05-21T02:10:32.112518Z"
    }
   },
   "outputs": [],
   "source": [
    "user_todo_join= pd.read_excel(dir_des + '司外用户入司\\\\待入司司外用户名单_2020.04.xlsx')\n",
    "user_report   = pd.read_excel(dir_des + '司外用户入司\\\\待入司司外用户名单_2020.04.xlsx',sheet_name='Sheet2')"
   ]
  },
  {
   "cell_type": "code",
   "execution_count": 32,
   "metadata": {
    "ExecuteTime": {
     "end_time": "2020-05-21T02:11:29.755374Z",
     "start_time": "2020-05-21T02:11:29.617738Z"
    }
   },
   "outputs": [],
   "source": [
    "user_todo_join['uid'] = user_todo_join.uid.str.strip()\n",
    "user['uid'] = user.uid.str.strip()"
   ]
  },
  {
   "cell_type": "code",
   "execution_count": 33,
   "metadata": {
    "ExecuteTime": {
     "end_time": "2020-05-21T02:11:30.121370Z",
     "start_time": "2020-05-21T02:11:29.756346Z"
    }
   },
   "outputs": [],
   "source": [
    "user_need = pd.merge(user_todo_join[['uid','推荐人类别','推荐人机构']],user,how='left',on='uid')\n",
    "\n",
    "user_need['推荐人机构'] = user_need.推荐人机构.str.replace('大童|法人公司|高客','',regex=True)\n",
    "user_need['推荐人机构'] = user_need.推荐人机构.str.replace('直属经纪','经纪北京',regex=True)"
   ]
  },
  {
   "cell_type": "code",
   "execution_count": 34,
   "metadata": {
    "ExecuteTime": {
     "end_time": "2020-05-21T02:11:30.217145Z",
     "start_time": "2020-05-21T02:11:30.123365Z"
    }
   },
   "outputs": [],
   "source": [
    "res = user_need.loc[(user_need.推荐人类别=='司内推荐人') & (user_need.ucode.notna()),:].groupby('推荐人机构').uid.nunique().reset_index()\n",
    "res.columns = ['区域中心','已增员人力']\n",
    "\n",
    "user_res = pd.merge(user_report,res,how='left',on=['区域中心'])\n",
    "user_res.loc[user_res.区域中心 =='总计','已增员人力'] = user_res.已增员人力.sum()"
   ]
  },
  {
   "cell_type": "code",
   "execution_count": 35,
   "metadata": {
    "ExecuteTime": {
     "end_time": "2020-05-21T02:11:30.595103Z",
     "start_time": "2020-05-21T02:11:30.219138Z"
    }
   },
   "outputs": [],
   "source": [
    "user_res.fillna(0,inplace=True)\n",
    "user_res['入职率'] = (user_res.已增员人力 / user_res.待增员人力).map(lambda x:\"{:.2%}\".format(x))\n",
    "user_res[['区域中心', '待增员人力', '已增员人力', '入职率']].to_excel('A类用户已入司情况.xlsx',index=0)"
   ]
  },
  {
   "cell_type": "markdown",
   "metadata": {},
   "source": [
    "### BC类用户入司报表"
   ]
  },
  {
   "cell_type": "code",
   "execution_count": 86,
   "metadata": {
    "ExecuteTime": {
     "end_time": "2020-04-29T06:21:39.324643Z",
     "start_time": "2020-04-29T06:21:37.879869Z"
    }
   },
   "outputs": [],
   "source": [
    "user_get =pd.read_excel(dir_des + '司外用户入司\\\\互联网-t_activity_sign_up_info_0428-04.xlsx')"
   ]
  },
  {
   "cell_type": "code",
   "execution_count": 87,
   "metadata": {
    "ExecuteTime": {
     "end_time": "2020-04-29T06:21:39.336522Z",
     "start_time": "2020-04-29T06:21:39.325579Z"
    }
   },
   "outputs": [],
   "source": [
    "user_get['user_type'] = np.nan\n",
    "user_get.loc[user_get.工号.notna(),'user_type'] = '司内用户'\n",
    "user_get.user_type.fillna('司外用户',inplace=True)"
   ]
  },
  {
   "cell_type": "code",
   "execution_count": 88,
   "metadata": {
    "ExecuteTime": {
     "end_time": "2020-04-29T06:21:39.775664Z",
     "start_time": "2020-04-29T06:21:39.751503Z"
    }
   },
   "outputs": [],
   "source": [
    "user_get.loc[user_get.推荐人ID =='U00000000','推荐人ID'] = np.nan\n",
    "user_get['tj_type'] = np.nan\n",
    "user_get.loc[user_get.推荐人ID.notna(),'tj_type'] = '司外推荐人'\n",
    "user_get.loc[user_get.推荐人工号.notna(),'tj_type'] = '司内推荐人'\n",
    "user_get.tj_type.fillna('无推荐人',inplace=True)"
   ]
  },
  {
   "cell_type": "code",
   "execution_count": 89,
   "metadata": {
    "ExecuteTime": {
     "end_time": "2020-04-29T06:21:40.539868Z",
     "start_time": "2020-04-29T06:21:40.528872Z"
    }
   },
   "outputs": [],
   "source": [
    "user_get.loc[user_get.有效认证==1,'user_cer'] = '认证用户'\n",
    "user_get.user_cer.fillna('注册用户',inplace=True)"
   ]
  },
  {
   "cell_type": "code",
   "execution_count": 90,
   "metadata": {
    "ExecuteTime": {
     "end_time": "2020-04-29T06:21:41.234085Z",
     "start_time": "2020-04-29T06:21:41.169239Z"
    }
   },
   "outputs": [],
   "source": [
    "user_get['date_invite'] = pd.to_datetime(user_get.邀请时间).dt.strftime('%Y-%m-%d')\n",
    "user_get.loc[user_get.date_invite =='2020-04-19','date_invite'] = '2020-04-20'"
   ]
  },
  {
   "cell_type": "code",
   "execution_count": 91,
   "metadata": {
    "ExecuteTime": {
     "end_time": "2020-04-29T06:21:42.326547Z",
     "start_time": "2020-04-29T06:21:42.303580Z"
    }
   },
   "outputs": [],
   "source": [
    "user_get['user_type_res'] = np.nan\n",
    "user_get.loc[user_get.user_type =='司内用户','user_type_res'] = '0_司内用户'\n",
    "user_get.loc[user_get.user_cer =='注册用户','user_type_res'] = '注册用户'\n",
    "user_get.loc[user_get.user_type_res.isna(),'user_type_res'] = user_get.loc[user_get.user_type_res.isna(),'tj_type']"
   ]
  },
  {
   "cell_type": "code",
   "execution_count": 92,
   "metadata": {
    "ExecuteTime": {
     "end_time": "2020-04-29T06:21:43.068471Z",
     "start_time": "2020-04-29T06:21:43.044535Z"
    },
    "scrolled": true
   },
   "outputs": [
    {
     "data": {
      "text/html": [
       "<div>\n",
       "<style scoped>\n",
       "    .dataframe tbody tr th:only-of-type {\n",
       "        vertical-align: middle;\n",
       "    }\n",
       "\n",
       "    .dataframe tbody tr th {\n",
       "        vertical-align: top;\n",
       "    }\n",
       "\n",
       "    .dataframe thead th {\n",
       "        text-align: right;\n",
       "    }\n",
       "</style>\n",
       "<table border=\"1\" class=\"dataframe\">\n",
       "  <thead>\n",
       "    <tr style=\"text-align: right;\">\n",
       "      <th>date_invite</th>\n",
       "      <th>2020-04-20</th>\n",
       "      <th>2020-04-21</th>\n",
       "      <th>2020-04-22</th>\n",
       "      <th>2020-04-23</th>\n",
       "      <th>2020-04-24</th>\n",
       "      <th>2020-04-25</th>\n",
       "      <th>2020-04-26</th>\n",
       "      <th>2020-04-27</th>\n",
       "      <th>2020-04-28</th>\n",
       "    </tr>\n",
       "    <tr>\n",
       "      <th>user_type_res</th>\n",
       "      <th></th>\n",
       "      <th></th>\n",
       "      <th></th>\n",
       "      <th></th>\n",
       "      <th></th>\n",
       "      <th></th>\n",
       "      <th></th>\n",
       "      <th></th>\n",
       "      <th></th>\n",
       "    </tr>\n",
       "  </thead>\n",
       "  <tbody>\n",
       "    <tr>\n",
       "      <th>0_司内用户</th>\n",
       "      <td>3640</td>\n",
       "      <td>1429</td>\n",
       "      <td>779</td>\n",
       "      <td>370</td>\n",
       "      <td>199</td>\n",
       "      <td>35</td>\n",
       "      <td>79</td>\n",
       "      <td>170</td>\n",
       "      <td>438</td>\n",
       "    </tr>\n",
       "    <tr>\n",
       "      <th>司内推荐人</th>\n",
       "      <td>144</td>\n",
       "      <td>67</td>\n",
       "      <td>87</td>\n",
       "      <td>45</td>\n",
       "      <td>38</td>\n",
       "      <td>11</td>\n",
       "      <td>14</td>\n",
       "      <td>25</td>\n",
       "      <td>54</td>\n",
       "    </tr>\n",
       "    <tr>\n",
       "      <th>司外推荐人</th>\n",
       "      <td>205</td>\n",
       "      <td>119</td>\n",
       "      <td>258</td>\n",
       "      <td>234</td>\n",
       "      <td>110</td>\n",
       "      <td>40</td>\n",
       "      <td>66</td>\n",
       "      <td>58</td>\n",
       "      <td>70</td>\n",
       "    </tr>\n",
       "    <tr>\n",
       "      <th>无推荐人</th>\n",
       "      <td>62</td>\n",
       "      <td>30</td>\n",
       "      <td>120</td>\n",
       "      <td>75</td>\n",
       "      <td>36</td>\n",
       "      <td>8</td>\n",
       "      <td>15</td>\n",
       "      <td>11</td>\n",
       "      <td>22</td>\n",
       "    </tr>\n",
       "    <tr>\n",
       "      <th>注册用户</th>\n",
       "      <td>160</td>\n",
       "      <td>75</td>\n",
       "      <td>52</td>\n",
       "      <td>40</td>\n",
       "      <td>79</td>\n",
       "      <td>17</td>\n",
       "      <td>17</td>\n",
       "      <td>42</td>\n",
       "      <td>155</td>\n",
       "    </tr>\n",
       "  </tbody>\n",
       "</table>\n",
       "</div>"
      ],
      "text/plain": [
       "date_invite    2020-04-20  2020-04-21  2020-04-22  2020-04-23  2020-04-24  \\\n",
       "user_type_res                                                               \n",
       "0_司内用户               3640        1429         779         370         199   \n",
       "司内推荐人                 144          67          87          45          38   \n",
       "司外推荐人                 205         119         258         234         110   \n",
       "无推荐人                   62          30         120          75          36   \n",
       "注册用户                  160          75          52          40          79   \n",
       "\n",
       "date_invite    2020-04-25  2020-04-26  2020-04-27  2020-04-28  \n",
       "user_type_res                                                  \n",
       "0_司内用户                 35          79         170         438  \n",
       "司内推荐人                  11          14          25          54  \n",
       "司外推荐人                  40          66          58          70  \n",
       "无推荐人                    8          15          11          22  \n",
       "注册用户                   17          17          42         155  "
      ]
     },
     "execution_count": 92,
     "metadata": {},
     "output_type": "execute_result"
    }
   ],
   "source": [
    "user_get.groupby(['date_invite','user_type_res']).size().reset_index().pivot(index='user_type_res',columns = 'date_invite',values=0)"
   ]
  },
  {
   "cell_type": "markdown",
   "metadata": {
    "ExecuteTime": {
     "end_time": "2020-04-23T03:52:19.312671Z",
     "start_time": "2020-04-23T03:52:19.308681Z"
    }
   },
   "source": [
    "### 广告页面数据"
   ]
  },
  {
   "cell_type": "code",
   "execution_count": 100,
   "metadata": {
    "ExecuteTime": {
     "end_time": "2020-04-24T01:45:35.287876Z",
     "start_time": "2020-04-24T01:45:35.056472Z"
    }
   },
   "outputs": [],
   "source": [
    "data = pd.read_csv(dir_down + 'query_result (9).csv')\n",
    "data['uid'] = data.uid_cnt"
   ]
  },
  {
   "cell_type": "code",
   "execution_count": 101,
   "metadata": {
    "ExecuteTime": {
     "end_time": "2020-04-24T01:45:36.601742Z",
     "start_time": "2020-04-24T01:45:36.410232Z"
    }
   },
   "outputs": [
    {
     "data": {
      "text/html": [
       "<div>\n",
       "<style scoped>\n",
       "    .dataframe tbody tr th:only-of-type {\n",
       "        vertical-align: middle;\n",
       "    }\n",
       "\n",
       "    .dataframe tbody tr th {\n",
       "        vertical-align: top;\n",
       "    }\n",
       "\n",
       "    .dataframe thead th {\n",
       "        text-align: right;\n",
       "    }\n",
       "</style>\n",
       "<table border=\"1\" class=\"dataframe\">\n",
       "  <thead>\n",
       "    <tr style=\"text-align: right;\">\n",
       "      <th></th>\n",
       "      <th>level_0</th>\n",
       "      <th>type</th>\n",
       "      <th>0</th>\n",
       "      <th>2020-04-20</th>\n",
       "      <th>2020-04-21</th>\n",
       "      <th>2020-04-22</th>\n",
       "      <th>2020-04-23</th>\n",
       "      <th>2020-04-24</th>\n",
       "    </tr>\n",
       "  </thead>\n",
       "  <tbody>\n",
       "    <tr>\n",
       "      <th>0</th>\n",
       "      <td>uid</td>\n",
       "      <td>0_页面访问量</td>\n",
       "      <td>17646</td>\n",
       "      <td>7700</td>\n",
       "      <td>5817</td>\n",
       "      <td>5634</td>\n",
       "      <td>4437</td>\n",
       "      <td>1142</td>\n",
       "    </tr>\n",
       "    <tr>\n",
       "      <th>5</th>\n",
       "      <td>uid_cnt</td>\n",
       "      <td>0_页面访问量</td>\n",
       "      <td>105557</td>\n",
       "      <td>45952</td>\n",
       "      <td>23075</td>\n",
       "      <td>20477</td>\n",
       "      <td>12802</td>\n",
       "      <td>3251</td>\n",
       "    </tr>\n",
       "    <tr>\n",
       "      <th>1</th>\n",
       "      <td>uid</td>\n",
       "      <td>1_启屏</td>\n",
       "      <td>7755</td>\n",
       "      <td>2120</td>\n",
       "      <td>2435</td>\n",
       "      <td>2580</td>\n",
       "      <td>2361</td>\n",
       "      <td>704</td>\n",
       "    </tr>\n",
       "    <tr>\n",
       "      <th>6</th>\n",
       "      <td>uid_cnt</td>\n",
       "      <td>1_启屏</td>\n",
       "      <td>12157</td>\n",
       "      <td>2546</td>\n",
       "      <td>2945</td>\n",
       "      <td>3116</td>\n",
       "      <td>2782</td>\n",
       "      <td>768</td>\n",
       "    </tr>\n",
       "    <tr>\n",
       "      <th>2</th>\n",
       "      <td>uid</td>\n",
       "      <td>2_弹窗</td>\n",
       "      <td>8856</td>\n",
       "      <td>3935</td>\n",
       "      <td>2186</td>\n",
       "      <td>2692</td>\n",
       "      <td>1417</td>\n",
       "      <td>2329</td>\n",
       "    </tr>\n",
       "    <tr>\n",
       "      <th>7</th>\n",
       "      <td>uid_cnt</td>\n",
       "      <td>2_弹窗</td>\n",
       "      <td>15772</td>\n",
       "      <td>5400</td>\n",
       "      <td>2519</td>\n",
       "      <td>3629</td>\n",
       "      <td>1630</td>\n",
       "      <td>2594</td>\n",
       "    </tr>\n",
       "    <tr>\n",
       "      <th>3</th>\n",
       "      <td>uid</td>\n",
       "      <td>3_轮播</td>\n",
       "      <td>1006</td>\n",
       "      <td>451</td>\n",
       "      <td>178</td>\n",
       "      <td>262</td>\n",
       "      <td>153</td>\n",
       "      <td>33</td>\n",
       "    </tr>\n",
       "    <tr>\n",
       "      <th>8</th>\n",
       "      <td>uid_cnt</td>\n",
       "      <td>3_轮播</td>\n",
       "      <td>1305</td>\n",
       "      <td>587</td>\n",
       "      <td>201</td>\n",
       "      <td>304</td>\n",
       "      <td>177</td>\n",
       "      <td>36</td>\n",
       "    </tr>\n",
       "    <tr>\n",
       "      <th>4</th>\n",
       "      <td>uid</td>\n",
       "      <td>4_活动栏</td>\n",
       "      <td>4935</td>\n",
       "      <td>2035</td>\n",
       "      <td>1501</td>\n",
       "      <td>1222</td>\n",
       "      <td>624</td>\n",
       "      <td>180</td>\n",
       "    </tr>\n",
       "    <tr>\n",
       "      <th>9</th>\n",
       "      <td>uid_cnt</td>\n",
       "      <td>4_活动栏</td>\n",
       "      <td>8654</td>\n",
       "      <td>3284</td>\n",
       "      <td>2220</td>\n",
       "      <td>1970</td>\n",
       "      <td>911</td>\n",
       "      <td>269</td>\n",
       "    </tr>\n",
       "  </tbody>\n",
       "</table>\n",
       "</div>"
      ],
      "text/plain": [
       "   level_0     type       0  2020-04-20  2020-04-21  2020-04-22  2020-04-23  \\\n",
       "0      uid  0_页面访问量   17646        7700        5817        5634        4437   \n",
       "5  uid_cnt  0_页面访问量  105557       45952       23075       20477       12802   \n",
       "1      uid     1_启屏    7755        2120        2435        2580        2361   \n",
       "6  uid_cnt     1_启屏   12157        2546        2945        3116        2782   \n",
       "2      uid     2_弹窗    8856        3935        2186        2692        1417   \n",
       "7  uid_cnt     2_弹窗   15772        5400        2519        3629        1630   \n",
       "3      uid     3_轮播    1006         451         178         262         153   \n",
       "8  uid_cnt     3_轮播    1305         587         201         304         177   \n",
       "4      uid    4_活动栏    4935        2035        1501        1222         624   \n",
       "9  uid_cnt    4_活动栏    8654        3284        2220        1970         911   \n",
       "\n",
       "   2020-04-24  \n",
       "0        1142  \n",
       "5        3251  \n",
       "1         704  \n",
       "6         768  \n",
       "2        2329  \n",
       "7        2594  \n",
       "3          33  \n",
       "8          36  \n",
       "4         180  \n",
       "9         269  "
      ]
     },
     "execution_count": 101,
     "metadata": {},
     "output_type": "execute_result"
    }
   ],
   "source": [
    "res1= data.groupby(['date','type']).agg({'uid':'nunique','uid_cnt':'count'}).T.stack().reset_index()\n",
    "res2 = data.groupby(['type']).agg({'uid':'nunique','uid_cnt':'count'}).T.stack().reset_index()\n",
    "pd.merge(res2,res1,how='left',on=['level_0','type']).sort_values('type')"
   ]
  },
  {
   "cell_type": "markdown",
   "metadata": {},
   "source": [
    "### 智能外呼数据"
   ]
  },
  {
   "cell_type": "code",
   "execution_count": 280,
   "metadata": {
    "ExecuteTime": {
     "end_time": "2020-04-22T08:33:01.005931Z",
     "start_time": "2020-04-22T08:32:58.755838Z"
    }
   },
   "outputs": [],
   "source": [
    "call = pd.read_excel('D:\\\\User\\\\Documents\\\\WeChat Files\\\\DNLLAU_ANONY\\\\FileStorage\\\\File\\\\2020-04\\\\自动外呼清单2020-04-22 13_47_18.xls')"
   ]
  },
  {
   "cell_type": "code",
   "execution_count": 282,
   "metadata": {
    "ExecuteTime": {
     "end_time": "2020-04-22T08:33:42.240526Z",
     "start_time": "2020-04-22T08:33:42.227563Z"
    }
   },
   "outputs": [
    {
     "data": {
      "text/html": [
       "<div>\n",
       "<style scoped>\n",
       "    .dataframe tbody tr th:only-of-type {\n",
       "        vertical-align: middle;\n",
       "    }\n",
       "\n",
       "    .dataframe tbody tr th {\n",
       "        vertical-align: top;\n",
       "    }\n",
       "\n",
       "    .dataframe thead th {\n",
       "        text-align: right;\n",
       "    }\n",
       "</style>\n",
       "<table border=\"1\" class=\"dataframe\">\n",
       "  <thead>\n",
       "    <tr style=\"text-align: right;\">\n",
       "      <th></th>\n",
       "      <th>外呼Id</th>\n",
       "      <th>客户姓名</th>\n",
       "      <th>客户号码</th>\n",
       "      <th>外呼状态</th>\n",
       "      <th>创建时间</th>\n",
       "      <th>外显号码编号</th>\n",
       "      <th>语音文件</th>\n",
       "      <th>接通短信模板</th>\n",
       "      <th>未接通短信模板</th>\n",
       "      <th>最大拨打次数</th>\n",
       "      <th>拨打时间</th>\n",
       "      <th>结束时间</th>\n",
       "    </tr>\n",
       "  </thead>\n",
       "  <tbody>\n",
       "    <tr>\n",
       "      <th>0</th>\n",
       "      <td>20200421519976</td>\n",
       "      <td>37496</td>\n",
       "      <td>17600965688</td>\n",
       "      <td>0</td>\n",
       "      <td>2020-04-21 14:26:26</td>\n",
       "      <td>8</td>\n",
       "      <td>ewh.wav</td>\n",
       "      <td>ST00136</td>\n",
       "      <td>ST00121</td>\n",
       "      <td>1</td>\n",
       "      <td>2020-04-22 13:45:42</td>\n",
       "      <td>2020-04-22 13:46:06</td>\n",
       "    </tr>\n",
       "    <tr>\n",
       "      <th>1</th>\n",
       "      <td>20200421519991</td>\n",
       "      <td>37497</td>\n",
       "      <td>17710533861</td>\n",
       "      <td>0</td>\n",
       "      <td>2020-04-21 14:26:26</td>\n",
       "      <td>8</td>\n",
       "      <td>ewh.wav</td>\n",
       "      <td>ST00136</td>\n",
       "      <td>ST00121</td>\n",
       "      <td>1</td>\n",
       "      <td>2020-04-22 13:45:49</td>\n",
       "      <td>2020-04-22 13:46:19</td>\n",
       "    </tr>\n",
       "    <tr>\n",
       "      <th>2</th>\n",
       "      <td>20200421520006</td>\n",
       "      <td>37498</td>\n",
       "      <td>15033667129</td>\n",
       "      <td>1</td>\n",
       "      <td>2020-04-21 14:26:26</td>\n",
       "      <td>8</td>\n",
       "      <td>ewh.wav</td>\n",
       "      <td>ST00136</td>\n",
       "      <td>ST00121</td>\n",
       "      <td>1</td>\n",
       "      <td>2020-04-22 13:45:51</td>\n",
       "      <td>2020-04-22 13:46:11</td>\n",
       "    </tr>\n",
       "    <tr>\n",
       "      <th>3</th>\n",
       "      <td>20200421520021</td>\n",
       "      <td>37499</td>\n",
       "      <td>15884746989</td>\n",
       "      <td>1</td>\n",
       "      <td>2020-04-21 14:26:26</td>\n",
       "      <td>8</td>\n",
       "      <td>ewh.wav</td>\n",
       "      <td>ST00136</td>\n",
       "      <td>ST00121</td>\n",
       "      <td>1</td>\n",
       "      <td>2020-04-22 13:45:58</td>\n",
       "      <td>2020-04-22 13:46:16</td>\n",
       "    </tr>\n",
       "    <tr>\n",
       "      <th>4</th>\n",
       "      <td>20200421520036</td>\n",
       "      <td>37500</td>\n",
       "      <td>13508189678</td>\n",
       "      <td>1</td>\n",
       "      <td>2020-04-21 14:26:26</td>\n",
       "      <td>8</td>\n",
       "      <td>ewh.wav</td>\n",
       "      <td>ST00136</td>\n",
       "      <td>ST00121</td>\n",
       "      <td>1</td>\n",
       "      <td>2020-04-22 13:46:00</td>\n",
       "      <td>2020-04-22 13:46:18</td>\n",
       "    </tr>\n",
       "  </tbody>\n",
       "</table>\n",
       "</div>"
      ],
      "text/plain": [
       "             外呼Id   客户姓名         客户号码  外呼状态                 创建时间  外显号码编号  \\\n",
       "0  20200421519976  37496  17600965688     0  2020-04-21 14:26:26       8   \n",
       "1  20200421519991  37497  17710533861     0  2020-04-21 14:26:26       8   \n",
       "2  20200421520006  37498  15033667129     1  2020-04-21 14:26:26       8   \n",
       "3  20200421520021  37499  15884746989     1  2020-04-21 14:26:26       8   \n",
       "4  20200421520036  37500  13508189678     1  2020-04-21 14:26:26       8   \n",
       "\n",
       "      语音文件   接通短信模板  未接通短信模板  最大拨打次数                 拨打时间                 结束时间  \n",
       "0  ewh.wav  ST00136  ST00121       1  2020-04-22 13:45:42  2020-04-22 13:46:06  \n",
       "1  ewh.wav  ST00136  ST00121       1  2020-04-22 13:45:49  2020-04-22 13:46:19  \n",
       "2  ewh.wav  ST00136  ST00121       1  2020-04-22 13:45:51  2020-04-22 13:46:11  \n",
       "3  ewh.wav  ST00136  ST00121       1  2020-04-22 13:45:58  2020-04-22 13:46:16  \n",
       "4  ewh.wav  ST00136  ST00121       1  2020-04-22 13:46:00  2020-04-22 13:46:18  "
      ]
     },
     "execution_count": 282,
     "metadata": {},
     "output_type": "execute_result"
    }
   ],
   "source": [
    "call.head()"
   ]
  },
  {
   "cell_type": "code",
   "execution_count": null,
   "metadata": {},
   "outputs": [],
   "source": []
  },
  {
   "cell_type": "markdown",
   "metadata": {},
   "source": [
    "### 寿险保单数据"
   ]
  },
  {
   "cell_type": "code",
   "execution_count": 178,
   "metadata": {
    "ExecuteTime": {
     "end_time": "2020-04-21T08:02:55.309748Z",
     "start_time": "2020-04-21T08:02:55.287806Z"
    }
   },
   "outputs": [],
   "source": [
    "user['ucode'] = user.ucode.map(lambda x:str(x).strip())"
   ]
  },
  {
   "cell_type": "code",
   "execution_count": 133,
   "metadata": {
    "ExecuteTime": {
     "end_time": "2020-04-21T07:16:31.446731Z",
     "start_time": "2020-04-21T07:15:17.545375Z"
    }
   },
   "outputs": [],
   "source": [
    "df = pd.read_excel(dir_des + 'ReportList_20200421_142051.xlsx',header=1)"
   ]
  },
  {
   "cell_type": "code",
   "execution_count": 153,
   "metadata": {
    "ExecuteTime": {
     "end_time": "2020-04-21T07:23:11.182551Z",
     "start_time": "2020-04-21T07:23:10.889324Z"
    }
   },
   "outputs": [],
   "source": [
    "on_zj = order_20.loc[(order_20.plabel_term ==1) \n",
    "                   & (order_20.plabel_need.str.contains('重疾'))].groupby('ucode').agg({'order':'count','bf':'sum'}).reset_index()"
   ]
  },
  {
   "cell_type": "code",
   "execution_count": 154,
   "metadata": {
    "ExecuteTime": {
     "end_time": "2020-04-21T07:23:12.419234Z",
     "start_time": "2020-04-21T07:23:12.409231Z"
    }
   },
   "outputs": [],
   "source": [
    "off_zj = df.groupby(['代理人代码']).标准保费.sum().reset_index()\n",
    "off_zj.columns =[ 'ucode','bf_std']"
   ]
  },
  {
   "cell_type": "code",
   "execution_count": 155,
   "metadata": {
    "ExecuteTime": {
     "end_time": "2020-04-21T07:23:13.412547Z",
     "start_time": "2020-04-21T07:23:13.398613Z"
    }
   },
   "outputs": [],
   "source": [
    "on_zj['ucode'] = on_zj.ucode.map(lambda x:str(int(x)).strip())\n",
    "off_zj['ucode'] = off_zj.ucode.map(lambda  x:str(int(x)).strip())"
   ]
  },
  {
   "cell_type": "code",
   "execution_count": 158,
   "metadata": {
    "ExecuteTime": {
     "end_time": "2020-04-21T07:25:43.206924Z",
     "start_time": "2020-04-21T07:25:43.195935Z"
    }
   },
   "outputs": [],
   "source": [
    "ucode_res = pd.merge(on_zj,off_zj,how='left',on='ucode')"
   ]
  },
  {
   "cell_type": "code",
   "execution_count": 181,
   "metadata": {
    "ExecuteTime": {
     "end_time": "2020-04-21T08:04:14.093454Z",
     "start_time": "2020-04-21T08:04:12.760987Z"
    }
   },
   "outputs": [],
   "source": [
    "res = pd.merge(ucode_res,user,how='left',on='ucode')"
   ]
  },
  {
   "cell_type": "code",
   "execution_count": 185,
   "metadata": {
    "ExecuteTime": {
     "end_time": "2020-04-21T08:32:06.480957Z",
     "start_time": "2020-04-21T08:31:26.701360Z"
    }
   },
   "outputs": [],
   "source": [
    "user_insider = pd.read_excel(dir_user + 'ReportList_20200421_160639.xlsx')"
   ]
  },
  {
   "cell_type": "code",
   "execution_count": 191,
   "metadata": {
    "ExecuteTime": {
     "end_time": "2020-04-21T08:34:57.377006Z",
     "start_time": "2020-04-21T08:34:57.140611Z"
    }
   },
   "outputs": [],
   "source": [
    "user_team_leader = user_insider.loc[user_insider.经营合伙人代码.notna(),['经营合伙人代码','经营合伙人姓名']].drop_duplicates()\n",
    "user_team_leader.columns = ['ucode','uname']\n",
    "user_team_leader['ucode'] = user_team_leader.ucode.map(lambda x:str(int(x)).strip())"
   ]
  },
  {
   "cell_type": "code",
   "execution_count": 195,
   "metadata": {
    "ExecuteTime": {
     "end_time": "2020-04-21T08:36:45.220508Z",
     "start_time": "2020-04-21T08:36:45.210532Z"
    }
   },
   "outputs": [],
   "source": [
    "res_need = pd.merge(res,user_team_leader,how='left',on='ucode')"
   ]
  },
  {
   "cell_type": "code",
   "execution_count": 197,
   "metadata": {
    "ExecuteTime": {
     "end_time": "2020-04-21T08:37:04.718387Z",
     "start_time": "2020-04-21T08:37:03.897548Z"
    }
   },
   "outputs": [],
   "source": [
    "res_need.to_excel('12.xlsx')"
   ]
  },
  {
   "cell_type": "code",
   "execution_count": 165,
   "metadata": {
    "ExecuteTime": {
     "end_time": "2020-04-24T05:56:05.132873Z",
     "start_time": "2020-04-24T05:56:04.626233Z"
    }
   },
   "outputs": [
    {
     "data": {
      "text/plain": [
       "mon      is_insider\n",
       "2020-01  否              8798\n",
       "         是             13276\n",
       "2020-02  否              6961\n",
       "         是             14296\n",
       "2020-03  否              8585\n",
       "         是             15064\n",
       "2020-04  否              8377\n",
       "         是             12192\n",
       "Name: uid, dtype: int64"
      ]
     },
     "execution_count": 165,
     "metadata": {},
     "output_type": "execute_result"
    }
   ],
   "source": [
    "order_sum.groupby(['mon','is_insider']).uid.nunique()"
   ]
  },
  {
   "cell_type": "code",
   "execution_count": 167,
   "metadata": {
    "ExecuteTime": {
     "end_time": "2020-04-24T06:07:08.143606Z",
     "start_time": "2020-04-24T06:05:44.179641Z"
    }
   },
   "outputs": [],
   "source": [
    "order_life = pd.read_excel(dir_des + 'ReportList_20200424_140050.xlsx',header=1)"
   ]
  },
  {
   "cell_type": "code",
   "execution_count": 169,
   "metadata": {
    "ExecuteTime": {
     "end_time": "2020-04-24T06:07:55.581133Z",
     "start_time": "2020-04-24T06:07:55.576142Z"
    }
   },
   "outputs": [
    {
     "data": {
      "text/plain": [
       "Index(['序号', '保单状态', '退保日期', '回单日期', '保单录入日期', '承保日期', '预收日期', '行政录入日期',\n",
       "       '销售团队代码', '销售团队名称', '地区分类', '团队分类', '是否本部', '营业部代码', '营业部名称', '是否营业中心',\n",
       "       '营业部所属批牌机构编码', '营业部所属批牌', '营业部类型', '代理人代码', '代理人姓名', '入司日期', '代理人职级',\n",
       "       '业务合伙人级别', '经营合伙人级别', '经营团队总经理标志', '推荐人代码', '推荐人姓名', '辅导人代码', '辅导人姓名',\n",
       "       '经营合伙人代码', '经营合伙人姓名', '离职日期', '现代理人编码', '现代理人姓名', '代理人所在机构', '原辅代理人姓名',\n",
       "       '原辅代理人编码', '原辅代理人所在销售团队名称', '原辅代理人所在销售团队代码', '原辅代理人所在机构', '现辅代理人姓名',\n",
       "       '现辅代理人编码', '现辅代理人所在销售团队名称', '现辅代理人所在销售团队代码', '是否自保件', '保险公司代码',\n",
       "       '保险公司名称', '投保单号', '保单号', '投保人', '被保险人', '险种代码', '外部险种代码', '险种名称',\n",
       "       '是否主险', '产品分类', '交费年期|年龄标志', '缴费期', '佣金率', '规模保费', '标准保费', '保额', '保全标志',\n",
       "       '是否纳入现代理人方案统计', '归属类型', '归属细类', '保单关系人', '代码', '姓名', '月份', '销服代码',\n",
       "       '销服名称', '机构', '职级', '入司日期.1', '入司月', '营业部代码.1', '营业部名称.1', '是否营业中心.1',\n",
       "       '师傅代码', '师傅姓名'],\n",
       "      dtype='object')"
      ]
     },
     "execution_count": 169,
     "metadata": {},
     "output_type": "execute_result"
    }
   ],
   "source": [
    "order_life.columns"
   ]
  },
  {
   "cell_type": "code",
   "execution_count": 173,
   "metadata": {
    "ExecuteTime": {
     "end_time": "2020-04-24T06:10:13.041152Z",
     "start_time": "2020-04-24T06:10:12.907509Z"
    }
   },
   "outputs": [],
   "source": [
    "order_life['mon'] = order_life.行政录入日期.map(date_bus)\n",
    "order_life_res = order_life[['mon','代理人代码','标准保费']].groupby(['mon','代理人代码']).标准保费.sum().reset_index()\n",
    "order_life_res.columns = ['mon','ucode','bf_std']"
   ]
  },
  {
   "cell_type": "code",
   "execution_count": 174,
   "metadata": {
    "ExecuteTime": {
     "end_time": "2020-04-24T06:10:29.028462Z",
     "start_time": "2020-04-24T06:10:28.850879Z"
    }
   },
   "outputs": [],
   "source": [
    "order_online =  order_sum.groupby(['mon','ucode']).bf.sum().reset_index()"
   ]
  },
  {
   "cell_type": "code",
   "execution_count": 176,
   "metadata": {
    "ExecuteTime": {
     "end_time": "2020-04-24T06:11:59.683197Z",
     "start_time": "2020-04-24T06:11:59.642308Z"
    }
   },
   "outputs": [],
   "source": [
    "order_life_res['ucode'] = order_life_res.ucode.map(lambda x:str(int(x)))\n",
    "order_online['ucode'] = order_online.ucode.map(lambda x:str(int(x)))"
   ]
  },
  {
   "cell_type": "code",
   "execution_count": 182,
   "metadata": {
    "ExecuteTime": {
     "end_time": "2020-04-24T06:13:27.404410Z",
     "start_time": "2020-04-24T06:13:27.382469Z"
    }
   },
   "outputs": [
    {
     "data": {
      "text/plain": [
       "mon\n",
       "2020-01    6472\n",
       "2020-02    3458\n",
       "2020-03    5558\n",
       "2020-04    5575\n",
       "Name: ucode, dtype: int64"
      ]
     },
     "execution_count": 182,
     "metadata": {},
     "output_type": "execute_result"
    }
   ],
   "source": [
    "order_life_res.groupby('mon').ucode.nunique()"
   ]
  },
  {
   "cell_type": "code",
   "execution_count": 180,
   "metadata": {
    "ExecuteTime": {
     "end_time": "2020-04-24T06:12:41.375358Z",
     "start_time": "2020-04-24T06:12:41.334469Z"
    }
   },
   "outputs": [
    {
     "name": "stdout",
     "output_type": "stream",
     "text": [
      "<class 'pandas.core.frame.DataFrame'>\n",
      "Int64Index: 15079 entries, 27593 to 42671\n",
      "Data columns (total 4 columns):\n",
      "mon       15079 non-null object\n",
      "ucode     15079 non-null object\n",
      "bf        15079 non-null float64\n",
      "bf_std    4500 non-null float64\n",
      "dtypes: float64(2), object(2)\n",
      "memory usage: 589.0+ KB\n"
     ]
    }
   ],
   "source": [
    "res = pd.merge(order_online,order_life_res,how='left',on=['mon','ucode'])\n",
    "res.loc[res.mon == '2020-03'].info()"
   ]
  },
  {
   "cell_type": "code",
   "execution_count": 190,
   "metadata": {
    "ExecuteTime": {
     "end_time": "2020-04-24T07:22:06.032884Z",
     "start_time": "2020-04-24T07:22:05.757649Z"
    }
   },
   "outputs": [
    {
     "data": {
      "text/html": [
       "<div>\n",
       "<style scoped>\n",
       "    .dataframe tbody tr th:only-of-type {\n",
       "        vertical-align: middle;\n",
       "    }\n",
       "\n",
       "    .dataframe tbody tr th {\n",
       "        vertical-align: top;\n",
       "    }\n",
       "\n",
       "    .dataframe thead th {\n",
       "        text-align: right;\n",
       "    }\n",
       "</style>\n",
       "<table border=\"1\" class=\"dataframe\">\n",
       "  <thead>\n",
       "    <tr style=\"text-align: right;\">\n",
       "      <th></th>\n",
       "      <th>ucode</th>\n",
       "      <th>uname</th>\n",
       "      <th>bf</th>\n",
       "    </tr>\n",
       "  </thead>\n",
       "  <tbody>\n",
       "    <tr>\n",
       "      <th>62</th>\n",
       "      <td>640201727.0</td>\n",
       "      <td>王菁</td>\n",
       "      <td>180861.50</td>\n",
       "    </tr>\n",
       "    <tr>\n",
       "      <th>124</th>\n",
       "      <td>640225216.0</td>\n",
       "      <td>徐立群</td>\n",
       "      <td>97968.20</td>\n",
       "    </tr>\n",
       "    <tr>\n",
       "      <th>334</th>\n",
       "      <td>640272931.0</td>\n",
       "      <td>应芷欣</td>\n",
       "      <td>73141.20</td>\n",
       "    </tr>\n",
       "    <tr>\n",
       "      <th>5</th>\n",
       "      <td>640179111.0</td>\n",
       "      <td>赵丽丽</td>\n",
       "      <td>49813.00</td>\n",
       "    </tr>\n",
       "    <tr>\n",
       "      <th>57</th>\n",
       "      <td>640200237.0</td>\n",
       "      <td>闫文奇</td>\n",
       "      <td>48915.18</td>\n",
       "    </tr>\n",
       "    <tr>\n",
       "      <th>188</th>\n",
       "      <td>640246099.0</td>\n",
       "      <td>孙海叶</td>\n",
       "      <td>41882.30</td>\n",
       "    </tr>\n",
       "    <tr>\n",
       "      <th>145</th>\n",
       "      <td>640229495.0</td>\n",
       "      <td>张玉兴</td>\n",
       "      <td>40091.28</td>\n",
       "    </tr>\n",
       "    <tr>\n",
       "      <th>38</th>\n",
       "      <td>640192529.0</td>\n",
       "      <td>陈会升</td>\n",
       "      <td>38669.00</td>\n",
       "    </tr>\n",
       "    <tr>\n",
       "      <th>105</th>\n",
       "      <td>640222596.0</td>\n",
       "      <td>王振</td>\n",
       "      <td>38181.00</td>\n",
       "    </tr>\n",
       "    <tr>\n",
       "      <th>8</th>\n",
       "      <td>640179753.0</td>\n",
       "      <td>马玉涛</td>\n",
       "      <td>35773.70</td>\n",
       "    </tr>\n",
       "    <tr>\n",
       "      <th>67</th>\n",
       "      <td>640206357.0</td>\n",
       "      <td>郑雨静</td>\n",
       "      <td>35132.90</td>\n",
       "    </tr>\n",
       "    <tr>\n",
       "      <th>243</th>\n",
       "      <td>640260086.0</td>\n",
       "      <td>徐苗苗</td>\n",
       "      <td>34417.00</td>\n",
       "    </tr>\n",
       "    <tr>\n",
       "      <th>19</th>\n",
       "      <td>640184360.0</td>\n",
       "      <td>陈晓燕</td>\n",
       "      <td>33511.40</td>\n",
       "    </tr>\n",
       "    <tr>\n",
       "      <th>144</th>\n",
       "      <td>640229228.0</td>\n",
       "      <td>单清辰</td>\n",
       "      <td>32860.39</td>\n",
       "    </tr>\n",
       "    <tr>\n",
       "      <th>72</th>\n",
       "      <td>640206951.0</td>\n",
       "      <td>李志燕</td>\n",
       "      <td>30322.00</td>\n",
       "    </tr>\n",
       "    <tr>\n",
       "      <th>119</th>\n",
       "      <td>640224699.0</td>\n",
       "      <td>王蕾</td>\n",
       "      <td>29309.86</td>\n",
       "    </tr>\n",
       "    <tr>\n",
       "      <th>214</th>\n",
       "      <td>640251809.0</td>\n",
       "      <td>崔鹏</td>\n",
       "      <td>26363.00</td>\n",
       "    </tr>\n",
       "    <tr>\n",
       "      <th>353</th>\n",
       "      <td>640275229.0</td>\n",
       "      <td>张强</td>\n",
       "      <td>25992.31</td>\n",
       "    </tr>\n",
       "    <tr>\n",
       "      <th>110</th>\n",
       "      <td>640223243.0</td>\n",
       "      <td>张中辉</td>\n",
       "      <td>25896.20</td>\n",
       "    </tr>\n",
       "    <tr>\n",
       "      <th>163</th>\n",
       "      <td>640236028.0</td>\n",
       "      <td>冯国文</td>\n",
       "      <td>25170.00</td>\n",
       "    </tr>\n",
       "    <tr>\n",
       "      <th>303</th>\n",
       "      <td>640268933.0</td>\n",
       "      <td>王茜</td>\n",
       "      <td>25122.10</td>\n",
       "    </tr>\n",
       "    <tr>\n",
       "      <th>99</th>\n",
       "      <td>640220813.0</td>\n",
       "      <td>李华海</td>\n",
       "      <td>23841.00</td>\n",
       "    </tr>\n",
       "    <tr>\n",
       "      <th>280</th>\n",
       "      <td>640266482.0</td>\n",
       "      <td>宋秀芳</td>\n",
       "      <td>22958.00</td>\n",
       "    </tr>\n",
       "    <tr>\n",
       "      <th>9</th>\n",
       "      <td>640180143.0</td>\n",
       "      <td>石建丽</td>\n",
       "      <td>22785.00</td>\n",
       "    </tr>\n",
       "    <tr>\n",
       "      <th>310</th>\n",
       "      <td>640269725.0</td>\n",
       "      <td>赵翠</td>\n",
       "      <td>22294.00</td>\n",
       "    </tr>\n",
       "    <tr>\n",
       "      <th>309</th>\n",
       "      <td>640269639.0</td>\n",
       "      <td>金锦花</td>\n",
       "      <td>22029.30</td>\n",
       "    </tr>\n",
       "    <tr>\n",
       "      <th>289</th>\n",
       "      <td>640267510.0</td>\n",
       "      <td>王德贝</td>\n",
       "      <td>21975.00</td>\n",
       "    </tr>\n",
       "    <tr>\n",
       "      <th>198</th>\n",
       "      <td>640248766.0</td>\n",
       "      <td>朱金叶</td>\n",
       "      <td>21086.00</td>\n",
       "    </tr>\n",
       "    <tr>\n",
       "      <th>112</th>\n",
       "      <td>640223285.0</td>\n",
       "      <td>万卫兵</td>\n",
       "      <td>20809.00</td>\n",
       "    </tr>\n",
       "    <tr>\n",
       "      <th>66</th>\n",
       "      <td>640204963.0</td>\n",
       "      <td>孙艺琢</td>\n",
       "      <td>20277.00</td>\n",
       "    </tr>\n",
       "    <tr>\n",
       "      <th>...</th>\n",
       "      <td>...</td>\n",
       "      <td>...</td>\n",
       "      <td>...</td>\n",
       "    </tr>\n",
       "    <tr>\n",
       "      <th>352</th>\n",
       "      <td>640275120.0</td>\n",
       "      <td>郭文萃</td>\n",
       "      <td>99.00</td>\n",
       "    </tr>\n",
       "    <tr>\n",
       "      <th>299</th>\n",
       "      <td>640268656.0</td>\n",
       "      <td>韩春华</td>\n",
       "      <td>99.00</td>\n",
       "    </tr>\n",
       "    <tr>\n",
       "      <th>96</th>\n",
       "      <td>640220166.0</td>\n",
       "      <td>潘桂华</td>\n",
       "      <td>90.00</td>\n",
       "    </tr>\n",
       "    <tr>\n",
       "      <th>149</th>\n",
       "      <td>640231966.0</td>\n",
       "      <td>李士波</td>\n",
       "      <td>90.00</td>\n",
       "    </tr>\n",
       "    <tr>\n",
       "      <th>122</th>\n",
       "      <td>640225212.0</td>\n",
       "      <td>臧权力</td>\n",
       "      <td>86.00</td>\n",
       "    </tr>\n",
       "    <tr>\n",
       "      <th>90</th>\n",
       "      <td>640216853.0</td>\n",
       "      <td>朱泓瑾</td>\n",
       "      <td>80.00</td>\n",
       "    </tr>\n",
       "    <tr>\n",
       "      <th>317</th>\n",
       "      <td>640270078.0</td>\n",
       "      <td>宋吉超</td>\n",
       "      <td>78.00</td>\n",
       "    </tr>\n",
       "    <tr>\n",
       "      <th>180</th>\n",
       "      <td>640244606.0</td>\n",
       "      <td>高晋仲</td>\n",
       "      <td>78.00</td>\n",
       "    </tr>\n",
       "    <tr>\n",
       "      <th>81</th>\n",
       "      <td>640211752.0</td>\n",
       "      <td>战积香</td>\n",
       "      <td>70.00</td>\n",
       "    </tr>\n",
       "    <tr>\n",
       "      <th>185</th>\n",
       "      <td>640244959.0</td>\n",
       "      <td>李青</td>\n",
       "      <td>70.00</td>\n",
       "    </tr>\n",
       "    <tr>\n",
       "      <th>32</th>\n",
       "      <td>640189380.0</td>\n",
       "      <td>李明昊</td>\n",
       "      <td>64.00</td>\n",
       "    </tr>\n",
       "    <tr>\n",
       "      <th>84</th>\n",
       "      <td>640213510.0</td>\n",
       "      <td>杨君</td>\n",
       "      <td>60.00</td>\n",
       "    </tr>\n",
       "    <tr>\n",
       "      <th>41</th>\n",
       "      <td>640193308.0</td>\n",
       "      <td>李华河</td>\n",
       "      <td>60.00</td>\n",
       "    </tr>\n",
       "    <tr>\n",
       "      <th>11</th>\n",
       "      <td>640181756.0</td>\n",
       "      <td>李晶</td>\n",
       "      <td>60.00</td>\n",
       "    </tr>\n",
       "    <tr>\n",
       "      <th>219</th>\n",
       "      <td>640253996.0</td>\n",
       "      <td>郭丽君</td>\n",
       "      <td>56.00</td>\n",
       "    </tr>\n",
       "    <tr>\n",
       "      <th>118</th>\n",
       "      <td>640224669.0</td>\n",
       "      <td>周海东</td>\n",
       "      <td>50.00</td>\n",
       "    </tr>\n",
       "    <tr>\n",
       "      <th>251</th>\n",
       "      <td>640262021.0</td>\n",
       "      <td>潘秀芳</td>\n",
       "      <td>48.00</td>\n",
       "    </tr>\n",
       "    <tr>\n",
       "      <th>10</th>\n",
       "      <td>640180526.0</td>\n",
       "      <td>孔德辉</td>\n",
       "      <td>25.00</td>\n",
       "    </tr>\n",
       "    <tr>\n",
       "      <th>140</th>\n",
       "      <td>640228685.0</td>\n",
       "      <td>刘瑞波</td>\n",
       "      <td>24.00</td>\n",
       "    </tr>\n",
       "    <tr>\n",
       "      <th>146</th>\n",
       "      <td>640229971.0</td>\n",
       "      <td>杨蕾</td>\n",
       "      <td>21.00</td>\n",
       "    </tr>\n",
       "    <tr>\n",
       "      <th>366</th>\n",
       "      <td>640276495.0</td>\n",
       "      <td>姚青</td>\n",
       "      <td>20.00</td>\n",
       "    </tr>\n",
       "    <tr>\n",
       "      <th>46</th>\n",
       "      <td>640196157.0</td>\n",
       "      <td>邵超</td>\n",
       "      <td>15.00</td>\n",
       "    </tr>\n",
       "    <tr>\n",
       "      <th>102</th>\n",
       "      <td>640221930.0</td>\n",
       "      <td>庄涛</td>\n",
       "      <td>14.00</td>\n",
       "    </tr>\n",
       "    <tr>\n",
       "      <th>33</th>\n",
       "      <td>640189545.0</td>\n",
       "      <td>苏伟</td>\n",
       "      <td>13.00</td>\n",
       "    </tr>\n",
       "    <tr>\n",
       "      <th>226</th>\n",
       "      <td>640255320.0</td>\n",
       "      <td>包国宗</td>\n",
       "      <td>6.00</td>\n",
       "    </tr>\n",
       "    <tr>\n",
       "      <th>168</th>\n",
       "      <td>640238398.0</td>\n",
       "      <td>秦海英</td>\n",
       "      <td>6.00</td>\n",
       "    </tr>\n",
       "    <tr>\n",
       "      <th>205</th>\n",
       "      <td>640250792.0</td>\n",
       "      <td>贺丽慧</td>\n",
       "      <td>4.00</td>\n",
       "    </tr>\n",
       "    <tr>\n",
       "      <th>231</th>\n",
       "      <td>640257103.0</td>\n",
       "      <td>吕延维</td>\n",
       "      <td>3.00</td>\n",
       "    </tr>\n",
       "    <tr>\n",
       "      <th>47</th>\n",
       "      <td>640196701.0</td>\n",
       "      <td>邱丽丽</td>\n",
       "      <td>2.00</td>\n",
       "    </tr>\n",
       "    <tr>\n",
       "      <th>320</th>\n",
       "      <td>640270196.0</td>\n",
       "      <td>熊晓艳</td>\n",
       "      <td>1.00</td>\n",
       "    </tr>\n",
       "  </tbody>\n",
       "</table>\n",
       "<p>391 rows × 3 columns</p>\n",
       "</div>"
      ],
      "text/plain": [
       "           ucode uname         bf\n",
       "62   640201727.0    王菁  180861.50\n",
       "124  640225216.0   徐立群   97968.20\n",
       "334  640272931.0   应芷欣   73141.20\n",
       "5    640179111.0   赵丽丽   49813.00\n",
       "57   640200237.0   闫文奇   48915.18\n",
       "188  640246099.0   孙海叶   41882.30\n",
       "145  640229495.0   张玉兴   40091.28\n",
       "38   640192529.0   陈会升   38669.00\n",
       "105  640222596.0    王振   38181.00\n",
       "8    640179753.0   马玉涛   35773.70\n",
       "67   640206357.0   郑雨静   35132.90\n",
       "243  640260086.0   徐苗苗   34417.00\n",
       "19   640184360.0   陈晓燕   33511.40\n",
       "144  640229228.0   单清辰   32860.39\n",
       "72   640206951.0   李志燕   30322.00\n",
       "119  640224699.0    王蕾   29309.86\n",
       "214  640251809.0    崔鹏   26363.00\n",
       "353  640275229.0    张强   25992.31\n",
       "110  640223243.0   张中辉   25896.20\n",
       "163  640236028.0   冯国文   25170.00\n",
       "303  640268933.0    王茜   25122.10\n",
       "99   640220813.0   李华海   23841.00\n",
       "280  640266482.0   宋秀芳   22958.00\n",
       "9    640180143.0   石建丽   22785.00\n",
       "310  640269725.0    赵翠   22294.00\n",
       "309  640269639.0   金锦花   22029.30\n",
       "289  640267510.0   王德贝   21975.00\n",
       "198  640248766.0   朱金叶   21086.00\n",
       "112  640223285.0   万卫兵   20809.00\n",
       "66   640204963.0   孙艺琢   20277.00\n",
       "..           ...   ...        ...\n",
       "352  640275120.0   郭文萃      99.00\n",
       "299  640268656.0   韩春华      99.00\n",
       "96   640220166.0   潘桂华      90.00\n",
       "149  640231966.0   李士波      90.00\n",
       "122  640225212.0   臧权力      86.00\n",
       "90   640216853.0   朱泓瑾      80.00\n",
       "317  640270078.0   宋吉超      78.00\n",
       "180  640244606.0   高晋仲      78.00\n",
       "81   640211752.0   战积香      70.00\n",
       "185  640244959.0    李青      70.00\n",
       "32   640189380.0   李明昊      64.00\n",
       "84   640213510.0    杨君      60.00\n",
       "41   640193308.0   李华河      60.00\n",
       "11   640181756.0    李晶      60.00\n",
       "219  640253996.0   郭丽君      56.00\n",
       "118  640224669.0   周海东      50.00\n",
       "251  640262021.0   潘秀芳      48.00\n",
       "10   640180526.0   孔德辉      25.00\n",
       "140  640228685.0   刘瑞波      24.00\n",
       "146  640229971.0    杨蕾      21.00\n",
       "366  640276495.0    姚青      20.00\n",
       "46   640196157.0    邵超      15.00\n",
       "102  640221930.0    庄涛      14.00\n",
       "33   640189545.0    苏伟      13.00\n",
       "226  640255320.0   包国宗       6.00\n",
       "168  640238398.0   秦海英       6.00\n",
       "205  640250792.0   贺丽慧       4.00\n",
       "231  640257103.0   吕延维       3.00\n",
       "47   640196701.0   邱丽丽       2.00\n",
       "320  640270196.0   熊晓艳       1.00\n",
       "\n",
       "[391 rows x 3 columns]"
      ]
     },
     "execution_count": 190,
     "metadata": {},
     "output_type": "execute_result"
    }
   ],
   "source": [
    "order_2019_need.loc[(order_2019_need.date_pay >= pd.to_datetime('2019-06-26'))\n",
    "                    & (order_2019_need.area_type == '大童青岛区域中心'),:].groupby(['ucode','uname']).bf.sum().reset_index().sort_values('bf',ascending=False)"
   ]
  },
  {
   "cell_type": "markdown",
   "metadata": {},
   "source": [
    "## 离职代理人清单"
   ]
  },
  {
   "cell_type": "code",
   "execution_count": 236,
   "metadata": {
    "ExecuteTime": {
     "end_time": "2020-04-26T05:58:42.157606Z",
     "start_time": "2020-04-26T05:57:48.130028Z"
    }
   },
   "outputs": [],
   "source": [
    "user_in = pd.read_excel(dir_user + 'ReportList_20200426_134954.xlsx',header=2)"
   ]
  },
  {
   "cell_type": "code",
   "execution_count": 324,
   "metadata": {
    "ExecuteTime": {
     "end_time": "2020-04-26T07:01:44.823276Z",
     "start_time": "2020-04-26T07:01:44.621818Z"
    }
   },
   "outputs": [],
   "source": [
    "user_trans = pd.read_excel(dir_user+ '服务助理转换.xlsx')"
   ]
  },
  {
   "cell_type": "code",
   "execution_count": 325,
   "metadata": {
    "ExecuteTime": {
     "end_time": "2020-04-26T07:01:45.640114Z",
     "start_time": "2020-04-26T07:01:45.622136Z"
    }
   },
   "outputs": [],
   "source": [
    "user_need_in = user_in[['代理人编码','Unnamed: 35']].copy()\n",
    "user_need_in.columns = ['ucode','date_left']"
   ]
  },
  {
   "cell_type": "code",
   "execution_count": 326,
   "metadata": {
    "ExecuteTime": {
     "end_time": "2020-04-26T07:01:46.890748Z",
     "start_time": "2020-04-26T07:01:46.312290Z"
    }
   },
   "outputs": [],
   "source": [
    "order_sum.ucode.fillna(0,inplace=True)\n",
    "order_sum['ucode'] = order_sum.ucode.map(lambda x:str(int(x)).strip())\n",
    "user_need_in.ucode.replace('[a-zA-Z]','',inplace=True,regex=True)\n",
    "user_need_in['ucode'] = user_need_in.ucode.map(lambda x:str(int(x)).strip())\n",
    "user_trans['ucode'] = user_trans.ucode.map(lambda x:str(int(x)).strip())\n",
    "user_trans['ucode_new'] = user_trans.ucode_new.map(lambda x:str(int(x)).strip())"
   ]
  },
  {
   "cell_type": "code",
   "execution_count": 300,
   "metadata": {
    "ExecuteTime": {
     "end_time": "2020-04-26T06:51:48.732018Z",
     "start_time": "2020-04-26T06:51:48.679160Z"
    }
   },
   "outputs": [],
   "source": [
    "user_trans = pd.merge(user_trans,user_need_in,how='left',left_on='ucode_new',right_on='ucode')"
   ]
  },
  {
   "cell_type": "code",
   "execution_count": 302,
   "metadata": {
    "ExecuteTime": {
     "end_time": "2020-04-26T06:51:56.689742Z",
     "start_time": "2020-04-26T06:51:56.679768Z"
    }
   },
   "outputs": [],
   "source": [
    "user_trans['user_type'] = np.nan\n",
    "user_trans.loc[user_trans.date_left.isna(),'user_type'] = '在职'\n",
    "user_trans.user_type.fillna('离职',inplace=True)"
   ]
  },
  {
   "cell_type": "code",
   "execution_count": 303,
   "metadata": {
    "ExecuteTime": {
     "end_time": "2020-04-26T06:51:57.870611Z",
     "start_time": "2020-04-26T06:51:57.846650Z"
    }
   },
   "outputs": [],
   "source": [
    "user_need_in['user_type'] = np.nan\n",
    "user_need_in.loc[user_need_in.date_left.isna(),'user_type'] = '在职'\n",
    "user_need_in.user_type.fillna('离职',inplace=True)"
   ]
  },
  {
   "cell_type": "code",
   "execution_count": 305,
   "metadata": {
    "ExecuteTime": {
     "end_time": "2020-04-26T06:53:04.538338Z",
     "start_time": "2020-04-26T06:53:04.505426Z"
    }
   },
   "outputs": [
    {
     "name": "stdout",
     "output_type": "stream",
     "text": [
      "<class 'pandas.core.frame.DataFrame'>\n",
      "Int64Index: 138783 entries, 1 to 138783\n",
      "Data columns (total 3 columns):\n",
      "ucode        138783 non-null object\n",
      "date_left    95210 non-null datetime64[ns]\n",
      "user_type    138783 non-null object\n",
      "dtypes: datetime64[ns](1), object(2)\n",
      "memory usage: 4.2+ MB\n"
     ]
    }
   ],
   "source": [
    "user_need_in.info()"
   ]
  },
  {
   "cell_type": "code",
   "execution_count": 306,
   "metadata": {
    "ExecuteTime": {
     "end_time": "2020-04-26T06:53:14.434878Z",
     "start_time": "2020-04-26T06:53:14.424906Z"
    }
   },
   "outputs": [
    {
     "name": "stdout",
     "output_type": "stream",
     "text": [
      "<class 'pandas.core.frame.DataFrame'>\n",
      "Int64Index: 7650 entries, 0 to 7649\n",
      "Data columns (total 5 columns):\n",
      "ucode_x      7650 non-null object\n",
      "ucode_new    7650 non-null object\n",
      "ucode_y      7650 non-null object\n",
      "date_left    2240 non-null datetime64[ns]\n",
      "user_type    7650 non-null object\n",
      "dtypes: datetime64[ns](1), object(4)\n",
      "memory usage: 358.6+ KB\n"
     ]
    }
   ],
   "source": [
    "user_trans.info(0)"
   ]
  },
  {
   "cell_type": "code",
   "execution_count": 308,
   "metadata": {
    "ExecuteTime": {
     "end_time": "2020-04-26T06:55:28.415657Z",
     "start_time": "2020-04-26T06:55:28.341855Z"
    }
   },
   "outputs": [],
   "source": [
    "user_res = pd.merge(user_need_in,user_trans[['ucode_x','user_type']],how='left',left_on='ucode',right_on = 'ucode_x')"
   ]
  },
  {
   "cell_type": "code",
   "execution_count": 313,
   "metadata": {
    "ExecuteTime": {
     "end_time": "2020-04-26T06:57:43.219239Z",
     "start_time": "2020-04-26T06:57:43.192310Z"
    }
   },
   "outputs": [],
   "source": [
    "user_res.loc[user_res.user_type_y.isna(),'user_type_y'] = user_res.loc[user_res.user_type_y.isna(),'user_type_x'] "
   ]
  },
  {
   "cell_type": "code",
   "execution_count": 314,
   "metadata": {
    "ExecuteTime": {
     "end_time": "2020-04-26T06:57:48.314615Z",
     "start_time": "2020-04-26T06:57:48.262754Z"
    }
   },
   "outputs": [
    {
     "name": "stdout",
     "output_type": "stream",
     "text": [
      "<class 'pandas.core.frame.DataFrame'>\n",
      "Int64Index: 138784 entries, 0 to 138783\n",
      "Data columns (total 5 columns):\n",
      "ucode          138784 non-null object\n",
      "date_left      95211 non-null datetime64[ns]\n",
      "user_type_x    138784 non-null object\n",
      "ucode_x        7650 non-null object\n",
      "user_type_y    138784 non-null object\n",
      "dtypes: datetime64[ns](1), object(4)\n",
      "memory usage: 6.4+ MB\n"
     ]
    }
   ],
   "source": [
    "user_res.info()"
   ]
  },
  {
   "cell_type": "code",
   "execution_count": 315,
   "metadata": {
    "ExecuteTime": {
     "end_time": "2020-04-26T06:58:12.378276Z",
     "start_time": "2020-04-26T06:58:12.359329Z"
    }
   },
   "outputs": [
    {
     "data": {
      "text/html": [
       "<div>\n",
       "<style scoped>\n",
       "    .dataframe tbody tr th:only-of-type {\n",
       "        vertical-align: middle;\n",
       "    }\n",
       "\n",
       "    .dataframe tbody tr th {\n",
       "        vertical-align: top;\n",
       "    }\n",
       "\n",
       "    .dataframe thead th {\n",
       "        text-align: right;\n",
       "    }\n",
       "</style>\n",
       "<table border=\"1\" class=\"dataframe\">\n",
       "  <thead>\n",
       "    <tr style=\"text-align: right;\">\n",
       "      <th></th>\n",
       "      <th>user_type_y</th>\n",
       "      <th>0</th>\n",
       "    </tr>\n",
       "  </thead>\n",
       "  <tbody>\n",
       "    <tr>\n",
       "      <th>0</th>\n",
       "      <td>在职</td>\n",
       "      <td>48983</td>\n",
       "    </tr>\n",
       "    <tr>\n",
       "      <th>1</th>\n",
       "      <td>离职</td>\n",
       "      <td>89801</td>\n",
       "    </tr>\n",
       "  </tbody>\n",
       "</table>\n",
       "</div>"
      ],
      "text/plain": [
       "  user_type_y      0\n",
       "0          在职  48983\n",
       "1          离职  89801"
      ]
     },
     "execution_count": 315,
     "metadata": {},
     "output_type": "execute_result"
    }
   ],
   "source": [
    "user_res.groupby('user_type_y').size().reset_index()"
   ]
  },
  {
   "cell_type": "code",
   "execution_count": 322,
   "metadata": {
    "ExecuteTime": {
     "end_time": "2020-04-26T07:01:28.186752Z",
     "start_time": "2020-04-26T07:01:28.170795Z"
    }
   },
   "outputs": [
    {
     "name": "stdout",
     "output_type": "stream",
     "text": [
      "<class 'pandas.core.frame.DataFrame'>\n",
      "Int64Index: 522334 entries, 0 to 526255\n",
      "Data columns (total 1 columns):\n",
      "ucode    396528 non-null float64\n",
      "dtypes: float64(1)\n",
      "memory usage: 8.0 MB\n"
     ]
    }
   ],
   "source": [
    "order_sum[['ucode']].info()"
   ]
  },
  {
   "cell_type": "code",
   "execution_count": 328,
   "metadata": {
    "ExecuteTime": {
     "end_time": "2020-04-26T07:02:17.148842Z",
     "start_time": "2020-04-26T07:02:11.424149Z"
    }
   },
   "outputs": [],
   "source": [
    "res = pd.merge(order_sum,user_res[['ucode','date_left','user_type_y']],how='left',on='ucode')"
   ]
  },
  {
   "cell_type": "code",
   "execution_count": 332,
   "metadata": {
    "ExecuteTime": {
     "end_time": "2020-04-26T07:05:15.425192Z",
     "start_time": "2020-04-26T07:05:14.504654Z"
    }
   },
   "outputs": [
    {
     "data": {
      "text/html": [
       "<div>\n",
       "<style scoped>\n",
       "    .dataframe tbody tr th:only-of-type {\n",
       "        vertical-align: middle;\n",
       "    }\n",
       "\n",
       "    .dataframe tbody tr th {\n",
       "        vertical-align: top;\n",
       "    }\n",
       "\n",
       "    .dataframe thead th {\n",
       "        text-align: right;\n",
       "    }\n",
       "</style>\n",
       "<table border=\"1\" class=\"dataframe\">\n",
       "  <thead>\n",
       "    <tr style=\"text-align: right;\">\n",
       "      <th></th>\n",
       "      <th>mon</th>\n",
       "      <th>bf</th>\n",
       "    </tr>\n",
       "  </thead>\n",
       "  <tbody>\n",
       "    <tr>\n",
       "      <th>0</th>\n",
       "      <td>2020-01</td>\n",
       "      <td>2.975547e+07</td>\n",
       "    </tr>\n",
       "    <tr>\n",
       "      <th>1</th>\n",
       "      <td>2020-02</td>\n",
       "      <td>3.229185e+07</td>\n",
       "    </tr>\n",
       "    <tr>\n",
       "      <th>2</th>\n",
       "      <td>2020-03</td>\n",
       "      <td>2.978988e+07</td>\n",
       "    </tr>\n",
       "    <tr>\n",
       "      <th>3</th>\n",
       "      <td>2020-04</td>\n",
       "      <td>3.282895e+07</td>\n",
       "    </tr>\n",
       "  </tbody>\n",
       "</table>\n",
       "</div>"
      ],
      "text/plain": [
       "       mon            bf\n",
       "0  2020-01  2.975547e+07\n",
       "1  2020-02  3.229185e+07\n",
       "2  2020-03  2.978988e+07\n",
       "3  2020-04  3.282895e+07"
      ]
     },
     "execution_count": 332,
     "metadata": {},
     "output_type": "execute_result"
    }
   ],
   "source": [
    "order_sum.loc[order_sum.is_insider =='是'].groupby('mon').bf.sum().reset_index()"
   ]
  },
  {
   "cell_type": "code",
   "execution_count": 333,
   "metadata": {
    "ExecuteTime": {
     "end_time": "2020-04-26T07:06:12.453718Z",
     "start_time": "2020-04-26T07:06:10.968688Z"
    }
   },
   "outputs": [],
   "source": [
    "order_2019_need.ucode.fillna(0,inplace=True)\n",
    "order_2019_need['ucode'] = order_2019_need.ucode.map(lambda x:str(int(x)).strip())"
   ]
  },
  {
   "cell_type": "code",
   "execution_count": 42,
   "metadata": {
    "ExecuteTime": {
     "end_time": "2020-04-27T07:31:02.909917Z",
     "start_time": "2020-04-27T07:31:02.224783Z"
    }
   },
   "outputs": [],
   "source": [
    "col = ['mon','date_pay','bf','is_insider','uid','ucode','pname','bb_id']\n",
    "order_all = pd.concat([order_2019_need[col],order_sum[col]])"
   ]
  },
  {
   "cell_type": "code",
   "execution_count": 351,
   "metadata": {
    "ExecuteTime": {
     "end_time": "2020-04-26T07:24:13.395658Z",
     "start_time": "2020-04-26T07:24:12.438219Z"
    }
   },
   "outputs": [],
   "source": [
    "res1 = pd.merge(order_all,user_res[['ucode','date_left','user_type_y']],how='left',on='ucode')"
   ]
  },
  {
   "cell_type": "code",
   "execution_count": 352,
   "metadata": {
    "ExecuteTime": {
     "end_time": "2020-04-26T07:24:14.907616Z",
     "start_time": "2020-04-26T07:24:13.658956Z"
    }
   },
   "outputs": [],
   "source": [
    "order_ptype = pd.merge(res1,ptype,how='left',on='pname')"
   ]
  },
  {
   "cell_type": "code",
   "execution_count": 357,
   "metadata": {
    "ExecuteTime": {
     "end_time": "2020-04-26T07:40:39.064638Z",
     "start_time": "2020-04-26T07:40:38.725531Z"
    }
   },
   "outputs": [],
   "source": [
    "order_ptype.loc[order_ptype.user_type_y =='离职'].groupby(['mon','plabel_term']).bf.sum().reset_index().pivot(index='mon',columns = 'plabel_term',values='bf').to_excel('12.xlsx')"
   ]
  },
  {
   "cell_type": "code",
   "execution_count": 355,
   "metadata": {
    "ExecuteTime": {
     "end_time": "2020-04-26T07:40:19.244431Z",
     "start_time": "2020-04-26T07:40:18.570233Z"
    }
   },
   "outputs": [
    {
     "data": {
      "text/html": [
       "<div>\n",
       "<style scoped>\n",
       "    .dataframe tbody tr th:only-of-type {\n",
       "        vertical-align: middle;\n",
       "    }\n",
       "\n",
       "    .dataframe tbody tr th {\n",
       "        vertical-align: top;\n",
       "    }\n",
       "\n",
       "    .dataframe thead th {\n",
       "        text-align: right;\n",
       "    }\n",
       "</style>\n",
       "<table border=\"1\" class=\"dataframe\">\n",
       "  <thead>\n",
       "    <tr style=\"text-align: right;\">\n",
       "      <th></th>\n",
       "      <th>mon</th>\n",
       "      <th>bf</th>\n",
       "    </tr>\n",
       "  </thead>\n",
       "  <tbody>\n",
       "    <tr>\n",
       "      <th>0</th>\n",
       "      <td>2019-01</td>\n",
       "      <td>3890411.14</td>\n",
       "    </tr>\n",
       "    <tr>\n",
       "      <th>1</th>\n",
       "      <td>2019-02</td>\n",
       "      <td>2948792.19</td>\n",
       "    </tr>\n",
       "    <tr>\n",
       "      <th>2</th>\n",
       "      <td>2019-03</td>\n",
       "      <td>4084045.94</td>\n",
       "    </tr>\n",
       "    <tr>\n",
       "      <th>3</th>\n",
       "      <td>2019-04</td>\n",
       "      <td>4106498.82</td>\n",
       "    </tr>\n",
       "    <tr>\n",
       "      <th>4</th>\n",
       "      <td>2019-05</td>\n",
       "      <td>3180393.44</td>\n",
       "    </tr>\n",
       "    <tr>\n",
       "      <th>5</th>\n",
       "      <td>2019-06</td>\n",
       "      <td>3228044.77</td>\n",
       "    </tr>\n",
       "    <tr>\n",
       "      <th>6</th>\n",
       "      <td>2019-07</td>\n",
       "      <td>2487065.25</td>\n",
       "    </tr>\n",
       "    <tr>\n",
       "      <th>7</th>\n",
       "      <td>2019-08</td>\n",
       "      <td>2853019.30</td>\n",
       "    </tr>\n",
       "    <tr>\n",
       "      <th>8</th>\n",
       "      <td>2019-09</td>\n",
       "      <td>3217095.01</td>\n",
       "    </tr>\n",
       "    <tr>\n",
       "      <th>9</th>\n",
       "      <td>2019-10</td>\n",
       "      <td>2362743.25</td>\n",
       "    </tr>\n",
       "    <tr>\n",
       "      <th>10</th>\n",
       "      <td>2019-11</td>\n",
       "      <td>2570056.81</td>\n",
       "    </tr>\n",
       "    <tr>\n",
       "      <th>11</th>\n",
       "      <td>2019-12</td>\n",
       "      <td>2180580.31</td>\n",
       "    </tr>\n",
       "    <tr>\n",
       "      <th>12</th>\n",
       "      <td>2020-01</td>\n",
       "      <td>2580662.60</td>\n",
       "    </tr>\n",
       "    <tr>\n",
       "      <th>13</th>\n",
       "      <td>2020-02</td>\n",
       "      <td>2569196.70</td>\n",
       "    </tr>\n",
       "    <tr>\n",
       "      <th>14</th>\n",
       "      <td>2020-03</td>\n",
       "      <td>2541417.42</td>\n",
       "    </tr>\n",
       "    <tr>\n",
       "      <th>15</th>\n",
       "      <td>2020-04</td>\n",
       "      <td>2580163.91</td>\n",
       "    </tr>\n",
       "  </tbody>\n",
       "</table>\n",
       "</div>"
      ],
      "text/plain": [
       "        mon          bf\n",
       "0   2019-01  3890411.14\n",
       "1   2019-02  2948792.19\n",
       "2   2019-03  4084045.94\n",
       "3   2019-04  4106498.82\n",
       "4   2019-05  3180393.44\n",
       "5   2019-06  3228044.77\n",
       "6   2019-07  2487065.25\n",
       "7   2019-08  2853019.30\n",
       "8   2019-09  3217095.01\n",
       "9   2019-10  2362743.25\n",
       "10  2019-11  2570056.81\n",
       "11  2019-12  2180580.31\n",
       "12  2020-01  2580662.60\n",
       "13  2020-02  2569196.70\n",
       "14  2020-03  2541417.42\n",
       "15  2020-04  2580163.91"
      ]
     },
     "execution_count": 355,
     "metadata": {},
     "output_type": "execute_result"
    }
   ],
   "source": [
    "order_ptype.loc[(order_ptype.is_insider.isin(['是','否'])) \n",
    "                & (order_ptype.uid.isin(order_ptype.loc[order_ptype.user_type_y =='离职'].uid.unique()))].groupby(['mon']).bf.sum().reset_index()"
   ]
  },
  {
   "cell_type": "code",
   "execution_count": 349,
   "metadata": {
    "ExecuteTime": {
     "end_time": "2020-04-26T07:23:58.656071Z",
     "start_time": "2020-04-26T07:23:58.393768Z"
    }
   },
   "outputs": [
    {
     "ename": "AttributeError",
     "evalue": "'DataFrame' object has no attribute 'uid'",
     "output_type": "error",
     "traceback": [
      "\u001b[1;31m---------------------------------------------------------------------------\u001b[0m",
      "\u001b[1;31mAttributeError\u001b[0m                            Traceback (most recent call last)",
      "\u001b[1;32m<ipython-input-349-7ee19c54ba00>\u001b[0m in \u001b[0;36m<module>\u001b[1;34m()\u001b[0m\n\u001b[1;32m----> 1\u001b[1;33m \u001b[0morder_ptype\u001b[0m\u001b[1;33m.\u001b[0m\u001b[0mloc\u001b[0m\u001b[1;33m[\u001b[0m\u001b[0morder_ptype\u001b[0m\u001b[1;33m.\u001b[0m\u001b[0muser_type_y\u001b[0m \u001b[1;33m==\u001b[0m\u001b[1;34m'离职'\u001b[0m\u001b[1;33m]\u001b[0m\u001b[1;33m.\u001b[0m\u001b[0muid\u001b[0m\u001b[1;33m.\u001b[0m\u001b[0mnunique\u001b[0m\u001b[1;33m(\u001b[0m\u001b[1;33m)\u001b[0m\u001b[1;33m\u001b[0m\u001b[0m\n\u001b[0m",
      "\u001b[1;32mD:\\ProgramData\\Anaconda3\\lib\\site-packages\\pandas\\core\\generic.py\u001b[0m in \u001b[0;36m__getattr__\u001b[1;34m(self, name)\u001b[0m\n\u001b[0;32m   4370\u001b[0m             \u001b[1;32mif\u001b[0m \u001b[0mself\u001b[0m\u001b[1;33m.\u001b[0m\u001b[0m_info_axis\u001b[0m\u001b[1;33m.\u001b[0m\u001b[0m_can_hold_identifiers_and_holds_name\u001b[0m\u001b[1;33m(\u001b[0m\u001b[0mname\u001b[0m\u001b[1;33m)\u001b[0m\u001b[1;33m:\u001b[0m\u001b[1;33m\u001b[0m\u001b[0m\n\u001b[0;32m   4371\u001b[0m                 \u001b[1;32mreturn\u001b[0m \u001b[0mself\u001b[0m\u001b[1;33m[\u001b[0m\u001b[0mname\u001b[0m\u001b[1;33m]\u001b[0m\u001b[1;33m\u001b[0m\u001b[0m\n\u001b[1;32m-> 4372\u001b[1;33m             \u001b[1;32mreturn\u001b[0m \u001b[0mobject\u001b[0m\u001b[1;33m.\u001b[0m\u001b[0m__getattribute__\u001b[0m\u001b[1;33m(\u001b[0m\u001b[0mself\u001b[0m\u001b[1;33m,\u001b[0m \u001b[0mname\u001b[0m\u001b[1;33m)\u001b[0m\u001b[1;33m\u001b[0m\u001b[0m\n\u001b[0m\u001b[0;32m   4373\u001b[0m \u001b[1;33m\u001b[0m\u001b[0m\n\u001b[0;32m   4374\u001b[0m     \u001b[1;32mdef\u001b[0m \u001b[0m__setattr__\u001b[0m\u001b[1;33m(\u001b[0m\u001b[0mself\u001b[0m\u001b[1;33m,\u001b[0m \u001b[0mname\u001b[0m\u001b[1;33m,\u001b[0m \u001b[0mvalue\u001b[0m\u001b[1;33m)\u001b[0m\u001b[1;33m:\u001b[0m\u001b[1;33m\u001b[0m\u001b[0m\n",
      "\u001b[1;31mAttributeError\u001b[0m: 'DataFrame' object has no attribute 'uid'"
     ]
    }
   ],
   "source": [
    "order_ptype.loc[order_ptype.user_type_y =='离职'].uid.nunique()"
   ]
  },
  {
   "cell_type": "code",
   "execution_count": 365,
   "metadata": {
    "ExecuteTime": {
     "end_time": "2020-04-26T08:23:43.971087Z",
     "start_time": "2020-04-26T08:23:37.729419Z"
    }
   },
   "outputs": [],
   "source": [
    "res = pd.merge(order_sum,ptype,how='left',on='pname')"
   ]
  },
  {
   "cell_type": "code",
   "execution_count": 373,
   "metadata": {
    "ExecuteTime": {
     "end_time": "2020-04-26T08:28:05.608162Z",
     "start_time": "2020-04-26T08:28:04.577333Z"
    }
   },
   "outputs": [
    {
     "data": {
      "text/html": [
       "<div>\n",
       "<style scoped>\n",
       "    .dataframe tbody tr th:only-of-type {\n",
       "        vertical-align: middle;\n",
       "    }\n",
       "\n",
       "    .dataframe tbody tr th {\n",
       "        vertical-align: top;\n",
       "    }\n",
       "\n",
       "    .dataframe thead tr th {\n",
       "        text-align: left;\n",
       "    }\n",
       "\n",
       "    .dataframe thead tr:last-of-type th {\n",
       "        text-align: right;\n",
       "    }\n",
       "</style>\n",
       "<table border=\"1\" class=\"dataframe\">\n",
       "  <thead>\n",
       "    <tr>\n",
       "      <th>plabel_L1</th>\n",
       "      <th colspan=\"2\" halign=\"left\">健康险</th>\n",
       "      <th colspan=\"2\" halign=\"left\">意外险</th>\n",
       "    </tr>\n",
       "    <tr>\n",
       "      <th>is_renew</th>\n",
       "      <th>0</th>\n",
       "      <th>1</th>\n",
       "      <th>0</th>\n",
       "      <th>1</th>\n",
       "    </tr>\n",
       "    <tr>\n",
       "      <th>mon</th>\n",
       "      <th></th>\n",
       "      <th></th>\n",
       "      <th></th>\n",
       "      <th></th>\n",
       "    </tr>\n",
       "  </thead>\n",
       "  <tbody>\n",
       "    <tr>\n",
       "      <th>2020-01</th>\n",
       "      <td>10061030.63</td>\n",
       "      <td>7989873.60</td>\n",
       "      <td>6567731.56</td>\n",
       "      <td>3221131.08</td>\n",
       "    </tr>\n",
       "    <tr>\n",
       "      <th>2020-02</th>\n",
       "      <td>9861568.98</td>\n",
       "      <td>9100836.69</td>\n",
       "      <td>8961125.00</td>\n",
       "      <td>2852965.40</td>\n",
       "    </tr>\n",
       "    <tr>\n",
       "      <th>2020-03</th>\n",
       "      <td>9159220.49</td>\n",
       "      <td>9889400.90</td>\n",
       "      <td>6595926.16</td>\n",
       "      <td>4831572.78</td>\n",
       "    </tr>\n",
       "    <tr>\n",
       "      <th>2020-04</th>\n",
       "      <td>10407483.96</td>\n",
       "      <td>10497677.29</td>\n",
       "      <td>8210306.60</td>\n",
       "      <td>5031252.84</td>\n",
       "    </tr>\n",
       "  </tbody>\n",
       "</table>\n",
       "</div>"
      ],
      "text/plain": [
       "plabel_L1          健康险                      意外险            \n",
       "is_renew             0            1           0           1\n",
       "mon                                                        \n",
       "2020-01    10061030.63   7989873.60  6567731.56  3221131.08\n",
       "2020-02     9861568.98   9100836.69  8961125.00  2852965.40\n",
       "2020-03     9159220.49   9889400.90  6595926.16  4831572.78\n",
       "2020-04    10407483.96  10497677.29  8210306.60  5031252.84"
      ]
     },
     "execution_count": 373,
     "metadata": {},
     "output_type": "execute_result"
    }
   ],
   "source": [
    "res.loc[res.plabel_L1.isin(['意外险','健康险'])].groupby(['mon','plabel_L1','is_renew']).bf.sum().reset_index().pivot_table(index='mon',columns = ['plabel_L1','is_renew'],values='bf')"
   ]
  },
  {
   "cell_type": "markdown",
   "metadata": {},
   "source": [
    "### 待入司司外用户名单"
   ]
  },
  {
   "cell_type": "code",
   "execution_count": 18,
   "metadata": {
    "ExecuteTime": {
     "end_time": "2020-04-27T06:55:20.789492Z",
     "start_time": "2020-04-27T06:54:51.839912Z"
    }
   },
   "outputs": [],
   "source": [
    "user = pd.read_excel('D:\\\\User\\\\Desktop\\\\司外用户入司\\\\A类用户\\\\待入司司外用户名单.xlsx')"
   ]
  },
  {
   "cell_type": "code",
   "execution_count": 30,
   "metadata": {
    "ExecuteTime": {
     "end_time": "2020-04-27T07:09:37.373368Z",
     "start_time": "2020-04-27T07:09:37.330452Z"
    }
   },
   "outputs": [],
   "source": [
    "user.rename(columns = {'用户ID':'uid'},inplace=True)"
   ]
  },
  {
   "cell_type": "code",
   "execution_count": 31,
   "metadata": {
    "ExecuteTime": {
     "end_time": "2020-04-27T07:09:47.583060Z",
     "start_time": "2020-04-27T07:09:47.570069Z"
    }
   },
   "outputs": [
    {
     "data": {
      "text/html": [
       "<div>\n",
       "<style scoped>\n",
       "    .dataframe tbody tr th:only-of-type {\n",
       "        vertical-align: middle;\n",
       "    }\n",
       "\n",
       "    .dataframe tbody tr th {\n",
       "        vertical-align: top;\n",
       "    }\n",
       "\n",
       "    .dataframe thead th {\n",
       "        text-align: right;\n",
       "    }\n",
       "</style>\n",
       "<table border=\"1\" class=\"dataframe\">\n",
       "  <thead>\n",
       "    <tr style=\"text-align: right;\">\n",
       "      <th></th>\n",
       "      <th>uid</th>\n",
       "      <th>date_pay</th>\n",
       "      <th>order_x</th>\n",
       "      <th>bf_x</th>\n",
       "      <th>order_y</th>\n",
       "      <th>bf_y</th>\n",
       "      <th>order</th>\n",
       "      <th>bf</th>\n",
       "      <th>1.0_x</th>\n",
       "      <th>2.0_x</th>\n",
       "      <th>3.0_x</th>\n",
       "      <th>1.0_y</th>\n",
       "      <th>2.0_y</th>\n",
       "      <th>3.0_y</th>\n",
       "    </tr>\n",
       "  </thead>\n",
       "  <tbody>\n",
       "    <tr>\n",
       "      <th>0</th>\n",
       "      <td>05aec1da1ec049a6b0da280aceb4567a</td>\n",
       "      <td>2018-12-31</td>\n",
       "      <td>NaN</td>\n",
       "      <td>NaN</td>\n",
       "      <td>NaN</td>\n",
       "      <td>NaN</td>\n",
       "      <td>NaN</td>\n",
       "      <td>NaN</td>\n",
       "      <td>NaN</td>\n",
       "      <td>NaN</td>\n",
       "      <td>NaN</td>\n",
       "      <td>NaN</td>\n",
       "      <td>NaN</td>\n",
       "      <td>NaN</td>\n",
       "    </tr>\n",
       "    <tr>\n",
       "      <th>1</th>\n",
       "      <td>ac8b6943b0954e31bb7eea8bc0d063c6</td>\n",
       "      <td>2018-12-31</td>\n",
       "      <td>NaN</td>\n",
       "      <td>NaN</td>\n",
       "      <td>NaN</td>\n",
       "      <td>NaN</td>\n",
       "      <td>NaN</td>\n",
       "      <td>NaN</td>\n",
       "      <td>NaN</td>\n",
       "      <td>NaN</td>\n",
       "      <td>NaN</td>\n",
       "      <td>NaN</td>\n",
       "      <td>NaN</td>\n",
       "      <td>NaN</td>\n",
       "    </tr>\n",
       "    <tr>\n",
       "      <th>2</th>\n",
       "      <td>3d25b2abdd2b46d1af4598106235bedd</td>\n",
       "      <td>2018-12-31</td>\n",
       "      <td>NaN</td>\n",
       "      <td>NaN</td>\n",
       "      <td>NaN</td>\n",
       "      <td>NaN</td>\n",
       "      <td>NaN</td>\n",
       "      <td>NaN</td>\n",
       "      <td>NaN</td>\n",
       "      <td>NaN</td>\n",
       "      <td>NaN</td>\n",
       "      <td>NaN</td>\n",
       "      <td>NaN</td>\n",
       "      <td>NaN</td>\n",
       "    </tr>\n",
       "    <tr>\n",
       "      <th>3</th>\n",
       "      <td>5a779ca863c148f183f5a6c6d66acc2e</td>\n",
       "      <td>2018-12-31</td>\n",
       "      <td>NaN</td>\n",
       "      <td>NaN</td>\n",
       "      <td>NaN</td>\n",
       "      <td>NaN</td>\n",
       "      <td>NaN</td>\n",
       "      <td>NaN</td>\n",
       "      <td>NaN</td>\n",
       "      <td>NaN</td>\n",
       "      <td>NaN</td>\n",
       "      <td>NaN</td>\n",
       "      <td>NaN</td>\n",
       "      <td>NaN</td>\n",
       "    </tr>\n",
       "    <tr>\n",
       "      <th>4</th>\n",
       "      <td>9672df71663d455eb8705a16e3c5179f</td>\n",
       "      <td>2018-12-31</td>\n",
       "      <td>NaN</td>\n",
       "      <td>NaN</td>\n",
       "      <td>NaN</td>\n",
       "      <td>NaN</td>\n",
       "      <td>NaN</td>\n",
       "      <td>NaN</td>\n",
       "      <td>NaN</td>\n",
       "      <td>NaN</td>\n",
       "      <td>NaN</td>\n",
       "      <td>NaN</td>\n",
       "      <td>NaN</td>\n",
       "      <td>NaN</td>\n",
       "    </tr>\n",
       "  </tbody>\n",
       "</table>\n",
       "</div>"
      ],
      "text/plain": [
       "                                uid   date_pay  order_x  bf_x  order_y  bf_y  \\\n",
       "0  05aec1da1ec049a6b0da280aceb4567a 2018-12-31      NaN   NaN      NaN   NaN   \n",
       "1  ac8b6943b0954e31bb7eea8bc0d063c6 2018-12-31      NaN   NaN      NaN   NaN   \n",
       "2  3d25b2abdd2b46d1af4598106235bedd 2018-12-31      NaN   NaN      NaN   NaN   \n",
       "3  5a779ca863c148f183f5a6c6d66acc2e 2018-12-31      NaN   NaN      NaN   NaN   \n",
       "4  9672df71663d455eb8705a16e3c5179f 2018-12-31      NaN   NaN      NaN   NaN   \n",
       "\n",
       "   order  bf 1.0_x 2.0_x 3.0_x 1.0_y 2.0_y 3.0_y  \n",
       "0    NaN NaN   NaN   NaN   NaN   NaN   NaN   NaN  \n",
       "1    NaN NaN   NaN   NaN   NaN   NaN   NaN   NaN  \n",
       "2    NaN NaN   NaN   NaN   NaN   NaN   NaN   NaN  \n",
       "3    NaN NaN   NaN   NaN   NaN   NaN   NaN   NaN  \n",
       "4    NaN NaN   NaN   NaN   NaN   NaN   NaN   NaN  "
      ]
     },
     "execution_count": 31,
     "metadata": {},
     "output_type": "execute_result"
    }
   ],
   "source": [
    "user_res.head()"
   ]
  },
  {
   "cell_type": "code",
   "execution_count": 35,
   "metadata": {
    "ExecuteTime": {
     "end_time": "2020-04-27T07:13:45.332612Z",
     "start_time": "2020-04-27T07:11:42.219497Z"
    }
   },
   "outputs": [],
   "source": [
    "res.loc[res.工号.isna(),:].to_excel('12.xlsx')"
   ]
  },
  {
   "cell_type": "code",
   "execution_count": 32,
   "metadata": {
    "ExecuteTime": {
     "end_time": "2020-04-27T07:09:52.238615Z",
     "start_time": "2020-04-27T07:09:51.521502Z"
    }
   },
   "outputs": [],
   "source": [
    "res = pd.merge(user,user_res,how='left',on='uid')"
   ]
  },
  {
   "cell_type": "code",
   "execution_count": 38,
   "metadata": {
    "ExecuteTime": {
     "end_time": "2020-04-27T07:29:26.567560Z",
     "start_time": "2020-04-27T07:29:25.649045Z"
    }
   },
   "outputs": [],
   "source": [
    "df = pd.read_csv(dir_down + 'query_result (11).csv',low_memory=False)"
   ]
  },
  {
   "cell_type": "code",
   "execution_count": 36,
   "metadata": {
    "ExecuteTime": {
     "end_time": "2020-04-27T07:28:57.196106Z",
     "start_time": "2020-04-27T07:28:56.785205Z"
    }
   },
   "outputs": [],
   "source": [
    "df1 = pd.read_clipboard()"
   ]
  },
  {
   "cell_type": "code",
   "execution_count": 46,
   "metadata": {
    "ExecuteTime": {
     "end_time": "2020-04-27T07:31:48.060174Z",
     "start_time": "2020-04-27T07:31:45.184865Z"
    }
   },
   "outputs": [],
   "source": [
    "res1 = order_all.groupby(['uid']).bb_id.nunique().reset_index()"
   ]
  },
  {
   "cell_type": "code",
   "execution_count": 44,
   "metadata": {
    "ExecuteTime": {
     "end_time": "2020-04-27T07:31:22.704980Z",
     "start_time": "2020-04-27T07:31:22.257206Z"
    }
   },
   "outputs": [],
   "source": [
    "res = pd.merge(df1,df,how='left',on='uid')[['uid','最近一次登录时间','最近一次交易时间']]"
   ]
  },
  {
   "cell_type": "code",
   "execution_count": 48,
   "metadata": {
    "ExecuteTime": {
     "end_time": "2020-04-27T07:32:05.288102Z",
     "start_time": "2020-04-27T07:32:05.123571Z"
    }
   },
   "outputs": [],
   "source": [
    "res2 = pd.merge(res,res1,how='left',on='uid')"
   ]
  },
  {
   "cell_type": "code",
   "execution_count": 49,
   "metadata": {
    "ExecuteTime": {
     "end_time": "2020-04-27T07:36:33.868446Z",
     "start_time": "2020-04-27T07:36:32.882084Z"
    }
   },
   "outputs": [],
   "source": [
    "df2 = pd.read_csv(dir_down + 'query_result (13).csv',low_memory=False)"
   ]
  },
  {
   "cell_type": "code",
   "execution_count": 50,
   "metadata": {
    "ExecuteTime": {
     "end_time": "2020-04-27T07:36:55.766913Z",
     "start_time": "2020-04-27T07:36:55.761926Z"
    }
   },
   "outputs": [
    {
     "data": {
      "text/plain": [
       "Index(['uid', '是否司内用户', '评分r1-最近一次登录时间距离当日的天数', '评分f1-周期内登录的天数',\n",
       "       '评分r2-最近一次交易时间距离当日的天数', '评分f2-周期内交易件数', '评分m-周期内总保费', '用户综合评分',\n",
       "       '用户综合价值', '用户认证时间', '用户注册时间', '最近一次登录时间', '最近一次交易时间', '最近一次登录时间距离当日的天数',\n",
       "       '周期内登录的天数', '最近一次交易时间距离当日的天数', '周期内交易件数', '周期内交易天数', '周期内总保费'],\n",
       "      dtype='object')"
      ]
     },
     "execution_count": 50,
     "metadata": {},
     "output_type": "execute_result"
    }
   ],
   "source": [
    "df2.columns"
   ]
  },
  {
   "cell_type": "code",
   "execution_count": 53,
   "metadata": {
    "ExecuteTime": {
     "end_time": "2020-04-27T07:38:36.505526Z",
     "start_time": "2020-04-27T07:37:51.860877Z"
    }
   },
   "outputs": [
    {
     "name": "stderr",
     "output_type": "stream",
     "text": [
      "Exception ignored in: <bound method Workbook.__del__ of <xlsxwriter.workbook.Workbook object at 0x0000027312DDD278>>\n",
      "Traceback (most recent call last):\n",
      "  File \"D:\\ProgramData\\Anaconda3\\lib\\site-packages\\xlsxwriter\\workbook.py\", line 154, in __del__\n",
      "    raise Exception(\"Exception caught in workbook destructor. \"\n",
      "Exception: Exception caught in workbook destructor. Explicit close() may be required for workbook.\n"
     ]
    }
   ],
   "source": [
    "pd.merge(res2,df2[['uid','用户综合价值']],how='left',on='uid').to_excel('11.xlsx')"
   ]
  },
  {
   "cell_type": "code",
   "execution_count": 57,
   "metadata": {
    "ExecuteTime": {
     "end_time": "2020-04-27T08:19:14.059493Z",
     "start_time": "2020-04-27T08:19:13.819137Z"
    }
   },
   "outputs": [
    {
     "data": {
      "text/html": [
       "<div>\n",
       "<style scoped>\n",
       "    .dataframe tbody tr th:only-of-type {\n",
       "        vertical-align: middle;\n",
       "    }\n",
       "\n",
       "    .dataframe tbody tr th {\n",
       "        vertical-align: top;\n",
       "    }\n",
       "\n",
       "    .dataframe thead th {\n",
       "        text-align: right;\n",
       "    }\n",
       "</style>\n",
       "<table border=\"1\" class=\"dataframe\">\n",
       "  <thead>\n",
       "    <tr style=\"text-align: right;\">\n",
       "      <th></th>\n",
       "      <th>uid</th>\n",
       "      <th>ucode</th>\n",
       "      <th>0</th>\n",
       "    </tr>\n",
       "  </thead>\n",
       "  <tbody>\n",
       "    <tr>\n",
       "      <th>0</th>\n",
       "      <td>728d5b5d31304b96aa79015cd5a97b61</td>\n",
       "      <td>640225216.0</td>\n",
       "      <td>212</td>\n",
       "    </tr>\n",
       "  </tbody>\n",
       "</table>\n",
       "</div>"
      ],
      "text/plain": [
       "                                uid        ucode    0\n",
       "0  728d5b5d31304b96aa79015cd5a97b61  640225216.0  212"
      ]
     },
     "execution_count": 57,
     "metadata": {},
     "output_type": "execute_result"
    }
   ],
   "source": [
    "order_2019_need.loc[order_2019_need.uname == '徐立群',['uname','uid','ucode','area_type']].groupby(['uid','ucode']).size().reset_index()"
   ]
  },
  {
   "cell_type": "code",
   "execution_count": 54,
   "metadata": {
    "ExecuteTime": {
     "end_time": "2020-04-27T08:17:37.101347Z",
     "start_time": "2020-04-27T08:17:36.430141Z"
    }
   },
   "outputs": [
    {
     "data": {
      "text/html": [
       "<div>\n",
       "<style scoped>\n",
       "    .dataframe tbody tr th:only-of-type {\n",
       "        vertical-align: middle;\n",
       "    }\n",
       "\n",
       "    .dataframe tbody tr th {\n",
       "        vertical-align: top;\n",
       "    }\n",
       "\n",
       "    .dataframe thead th {\n",
       "        text-align: right;\n",
       "    }\n",
       "</style>\n",
       "<table border=\"1\" class=\"dataframe\">\n",
       "  <thead>\n",
       "    <tr style=\"text-align: right;\">\n",
       "      <th></th>\n",
       "      <th>ucode</th>\n",
       "      <th>uname</th>\n",
       "      <th>bf</th>\n",
       "    </tr>\n",
       "  </thead>\n",
       "  <tbody>\n",
       "    <tr>\n",
       "      <th>53</th>\n",
       "      <td>640201727.0</td>\n",
       "      <td>王菁</td>\n",
       "      <td>117283.00</td>\n",
       "    </tr>\n",
       "    <tr>\n",
       "      <th>257</th>\n",
       "      <td>640275229.0</td>\n",
       "      <td>张强</td>\n",
       "      <td>80277.79</td>\n",
       "    </tr>\n",
       "    <tr>\n",
       "      <th>86</th>\n",
       "      <td>640222596.0</td>\n",
       "      <td>王振</td>\n",
       "      <td>61842.80</td>\n",
       "    </tr>\n",
       "    <tr>\n",
       "      <th>245</th>\n",
       "      <td>640274213.0</td>\n",
       "      <td>王海涛</td>\n",
       "      <td>49128.90</td>\n",
       "    </tr>\n",
       "    <tr>\n",
       "      <th>90</th>\n",
       "      <td>640223243.0</td>\n",
       "      <td>张中辉</td>\n",
       "      <td>41766.60</td>\n",
       "    </tr>\n",
       "    <tr>\n",
       "      <th>18</th>\n",
       "      <td>640184360.0</td>\n",
       "      <td>陈晓燕</td>\n",
       "      <td>37216.70</td>\n",
       "    </tr>\n",
       "    <tr>\n",
       "      <th>262</th>\n",
       "      <td>640275442.0</td>\n",
       "      <td>汪美奇</td>\n",
       "      <td>35387.60</td>\n",
       "    </tr>\n",
       "    <tr>\n",
       "      <th>55</th>\n",
       "      <td>640206357.0</td>\n",
       "      <td>郑雨静</td>\n",
       "      <td>34478.00</td>\n",
       "    </tr>\n",
       "    <tr>\n",
       "      <th>4</th>\n",
       "      <td>640179111.0</td>\n",
       "      <td>赵丽丽</td>\n",
       "      <td>33670.40</td>\n",
       "    </tr>\n",
       "    <tr>\n",
       "      <th>111</th>\n",
       "      <td>640229228.0</td>\n",
       "      <td>单清辰</td>\n",
       "      <td>32685.00</td>\n",
       "    </tr>\n",
       "    <tr>\n",
       "      <th>300</th>\n",
       "      <td>640281956.0</td>\n",
       "      <td>王玮</td>\n",
       "      <td>32579.45</td>\n",
       "    </tr>\n",
       "    <tr>\n",
       "      <th>36</th>\n",
       "      <td>640192529.0</td>\n",
       "      <td>陈会升</td>\n",
       "      <td>31338.60</td>\n",
       "    </tr>\n",
       "    <tr>\n",
       "      <th>17</th>\n",
       "      <td>640184151.0</td>\n",
       "      <td>谭燕</td>\n",
       "      <td>29933.30</td>\n",
       "    </tr>\n",
       "    <tr>\n",
       "      <th>233</th>\n",
       "      <td>640272931.0</td>\n",
       "      <td>应芷欣</td>\n",
       "      <td>29747.81</td>\n",
       "    </tr>\n",
       "    <tr>\n",
       "      <th>183</th>\n",
       "      <td>640260086.0</td>\n",
       "      <td>徐苗苗</td>\n",
       "      <td>28222.01</td>\n",
       "    </tr>\n",
       "    <tr>\n",
       "      <th>47</th>\n",
       "      <td>640200237.0</td>\n",
       "      <td>闫文奇</td>\n",
       "      <td>27672.00</td>\n",
       "    </tr>\n",
       "    <tr>\n",
       "      <th>131</th>\n",
       "      <td>640239868.0</td>\n",
       "      <td>刘福泉</td>\n",
       "      <td>27392.74</td>\n",
       "    </tr>\n",
       "    <tr>\n",
       "      <th>310</th>\n",
       "      <td>640282810.0</td>\n",
       "      <td>马季</td>\n",
       "      <td>26161.15</td>\n",
       "    </tr>\n",
       "    <tr>\n",
       "      <th>99</th>\n",
       "      <td>640225216.0</td>\n",
       "      <td>徐立群</td>\n",
       "      <td>25820.80</td>\n",
       "    </tr>\n",
       "    <tr>\n",
       "      <th>23</th>\n",
       "      <td>640185866.0</td>\n",
       "      <td>刘志辉</td>\n",
       "      <td>25200.30</td>\n",
       "    </tr>\n",
       "    <tr>\n",
       "      <th>70</th>\n",
       "      <td>640214349.0</td>\n",
       "      <td>郑军红</td>\n",
       "      <td>23999.38</td>\n",
       "    </tr>\n",
       "    <tr>\n",
       "      <th>60</th>\n",
       "      <td>640206951.0</td>\n",
       "      <td>李志燕</td>\n",
       "      <td>23651.50</td>\n",
       "    </tr>\n",
       "    <tr>\n",
       "      <th>236</th>\n",
       "      <td>640273466.0</td>\n",
       "      <td>史晶</td>\n",
       "      <td>23270.30</td>\n",
       "    </tr>\n",
       "    <tr>\n",
       "      <th>112</th>\n",
       "      <td>640229495.0</td>\n",
       "      <td>张玉兴</td>\n",
       "      <td>22467.73</td>\n",
       "    </tr>\n",
       "    <tr>\n",
       "      <th>0</th>\n",
       "      <td>640176102.0</td>\n",
       "      <td>冯宪芹</td>\n",
       "      <td>22314.40</td>\n",
       "    </tr>\n",
       "    <tr>\n",
       "      <th>212</th>\n",
       "      <td>640268637.0</td>\n",
       "      <td>刘莹莹</td>\n",
       "      <td>21704.60</td>\n",
       "    </tr>\n",
       "    <tr>\n",
       "      <th>237</th>\n",
       "      <td>640273636.0</td>\n",
       "      <td>任刚</td>\n",
       "      <td>21321.00</td>\n",
       "    </tr>\n",
       "    <tr>\n",
       "      <th>35</th>\n",
       "      <td>640192207.0</td>\n",
       "      <td>秦超</td>\n",
       "      <td>21166.50</td>\n",
       "    </tr>\n",
       "    <tr>\n",
       "      <th>95</th>\n",
       "      <td>640224699.0</td>\n",
       "      <td>王蕾</td>\n",
       "      <td>20789.48</td>\n",
       "    </tr>\n",
       "    <tr>\n",
       "      <th>180</th>\n",
       "      <td>640259396.0</td>\n",
       "      <td>葛萃萃</td>\n",
       "      <td>20441.30</td>\n",
       "    </tr>\n",
       "    <tr>\n",
       "      <th>...</th>\n",
       "      <td>...</td>\n",
       "      <td>...</td>\n",
       "      <td>...</td>\n",
       "    </tr>\n",
       "    <tr>\n",
       "      <th>116</th>\n",
       "      <td>640232018.0</td>\n",
       "      <td>梁守业</td>\n",
       "      <td>115.00</td>\n",
       "    </tr>\n",
       "    <tr>\n",
       "      <th>315</th>\n",
       "      <td>640283448.0</td>\n",
       "      <td>刘春艳</td>\n",
       "      <td>115.00</td>\n",
       "    </tr>\n",
       "    <tr>\n",
       "      <th>259</th>\n",
       "      <td>640275323.0</td>\n",
       "      <td>王远芬</td>\n",
       "      <td>115.00</td>\n",
       "    </tr>\n",
       "    <tr>\n",
       "      <th>331</th>\n",
       "      <td>640288740.0</td>\n",
       "      <td>刘坤</td>\n",
       "      <td>115.00</td>\n",
       "    </tr>\n",
       "    <tr>\n",
       "      <th>291</th>\n",
       "      <td>640279442.0</td>\n",
       "      <td>孙世英</td>\n",
       "      <td>115.00</td>\n",
       "    </tr>\n",
       "    <tr>\n",
       "      <th>175</th>\n",
       "      <td>640257576.0</td>\n",
       "      <td>张坤容</td>\n",
       "      <td>103.80</td>\n",
       "    </tr>\n",
       "    <tr>\n",
       "      <th>214</th>\n",
       "      <td>640268889.0</td>\n",
       "      <td>张凯</td>\n",
       "      <td>100.00</td>\n",
       "    </tr>\n",
       "    <tr>\n",
       "      <th>205</th>\n",
       "      <td>640267403.0</td>\n",
       "      <td>邹广满</td>\n",
       "      <td>90.00</td>\n",
       "    </tr>\n",
       "    <tr>\n",
       "      <th>216</th>\n",
       "      <td>640269101.0</td>\n",
       "      <td>毕君丽</td>\n",
       "      <td>80.00</td>\n",
       "    </tr>\n",
       "    <tr>\n",
       "      <th>5</th>\n",
       "      <td>640179266.0</td>\n",
       "      <td>赵珑善</td>\n",
       "      <td>78.00</td>\n",
       "    </tr>\n",
       "    <tr>\n",
       "      <th>76</th>\n",
       "      <td>640219529.0</td>\n",
       "      <td>杜宝玲</td>\n",
       "      <td>78.00</td>\n",
       "    </tr>\n",
       "    <tr>\n",
       "      <th>105</th>\n",
       "      <td>640228172.0</td>\n",
       "      <td>陈环蕊</td>\n",
       "      <td>78.00</td>\n",
       "    </tr>\n",
       "    <tr>\n",
       "      <th>312</th>\n",
       "      <td>640282882.0</td>\n",
       "      <td>吴文霞</td>\n",
       "      <td>78.00</td>\n",
       "    </tr>\n",
       "    <tr>\n",
       "      <th>137</th>\n",
       "      <td>640244959.0</td>\n",
       "      <td>李青</td>\n",
       "      <td>78.00</td>\n",
       "    </tr>\n",
       "    <tr>\n",
       "      <th>304</th>\n",
       "      <td>640282275.0</td>\n",
       "      <td>李雪</td>\n",
       "      <td>76.00</td>\n",
       "    </tr>\n",
       "    <tr>\n",
       "      <th>289</th>\n",
       "      <td>640279278.0</td>\n",
       "      <td>孔宁</td>\n",
       "      <td>60.00</td>\n",
       "    </tr>\n",
       "    <tr>\n",
       "      <th>217</th>\n",
       "      <td>640269396.0</td>\n",
       "      <td>彭洁</td>\n",
       "      <td>53.80</td>\n",
       "    </tr>\n",
       "    <tr>\n",
       "      <th>299</th>\n",
       "      <td>640280049.0</td>\n",
       "      <td>杨清华</td>\n",
       "      <td>49.40</td>\n",
       "    </tr>\n",
       "    <tr>\n",
       "      <th>228</th>\n",
       "      <td>640271143.0</td>\n",
       "      <td>郑芳</td>\n",
       "      <td>24.00</td>\n",
       "    </tr>\n",
       "    <tr>\n",
       "      <th>247</th>\n",
       "      <td>640274387.0</td>\n",
       "      <td>崔红元</td>\n",
       "      <td>22.80</td>\n",
       "    </tr>\n",
       "    <tr>\n",
       "      <th>318</th>\n",
       "      <td>640285020.0</td>\n",
       "      <td>孙秀霞</td>\n",
       "      <td>19.00</td>\n",
       "    </tr>\n",
       "    <tr>\n",
       "      <th>255</th>\n",
       "      <td>640275118.0</td>\n",
       "      <td>马晶</td>\n",
       "      <td>19.00</td>\n",
       "    </tr>\n",
       "    <tr>\n",
       "      <th>126</th>\n",
       "      <td>640237762.0</td>\n",
       "      <td>余晶晶</td>\n",
       "      <td>15.20</td>\n",
       "    </tr>\n",
       "    <tr>\n",
       "      <th>271</th>\n",
       "      <td>640276620.0</td>\n",
       "      <td>刘玮</td>\n",
       "      <td>12.00</td>\n",
       "    </tr>\n",
       "    <tr>\n",
       "      <th>169</th>\n",
       "      <td>640256075.0</td>\n",
       "      <td>郭永瑞</td>\n",
       "      <td>11.40</td>\n",
       "    </tr>\n",
       "    <tr>\n",
       "      <th>160</th>\n",
       "      <td>640252489.0</td>\n",
       "      <td>潘瑞清</td>\n",
       "      <td>7.60</td>\n",
       "    </tr>\n",
       "    <tr>\n",
       "      <th>229</th>\n",
       "      <td>640271412.0</td>\n",
       "      <td>王景丽</td>\n",
       "      <td>7.60</td>\n",
       "    </tr>\n",
       "    <tr>\n",
       "      <th>104</th>\n",
       "      <td>640227433.0</td>\n",
       "      <td>许晓莉</td>\n",
       "      <td>7.60</td>\n",
       "    </tr>\n",
       "    <tr>\n",
       "      <th>287</th>\n",
       "      <td>640279076.0</td>\n",
       "      <td>刘旭</td>\n",
       "      <td>7.60</td>\n",
       "    </tr>\n",
       "    <tr>\n",
       "      <th>281</th>\n",
       "      <td>640278465.0</td>\n",
       "      <td>于秋莲</td>\n",
       "      <td>3.80</td>\n",
       "    </tr>\n",
       "  </tbody>\n",
       "</table>\n",
       "<p>333 rows × 3 columns</p>\n",
       "</div>"
      ],
      "text/plain": [
       "           ucode uname         bf\n",
       "53   640201727.0    王菁  117283.00\n",
       "257  640275229.0    张强   80277.79\n",
       "86   640222596.0    王振   61842.80\n",
       "245  640274213.0   王海涛   49128.90\n",
       "90   640223243.0   张中辉   41766.60\n",
       "18   640184360.0   陈晓燕   37216.70\n",
       "262  640275442.0   汪美奇   35387.60\n",
       "55   640206357.0   郑雨静   34478.00\n",
       "4    640179111.0   赵丽丽   33670.40\n",
       "111  640229228.0   单清辰   32685.00\n",
       "300  640281956.0    王玮   32579.45\n",
       "36   640192529.0   陈会升   31338.60\n",
       "17   640184151.0    谭燕   29933.30\n",
       "233  640272931.0   应芷欣   29747.81\n",
       "183  640260086.0   徐苗苗   28222.01\n",
       "47   640200237.0   闫文奇   27672.00\n",
       "131  640239868.0   刘福泉   27392.74\n",
       "310  640282810.0    马季   26161.15\n",
       "99   640225216.0   徐立群   25820.80\n",
       "23   640185866.0   刘志辉   25200.30\n",
       "70   640214349.0   郑军红   23999.38\n",
       "60   640206951.0   李志燕   23651.50\n",
       "236  640273466.0    史晶   23270.30\n",
       "112  640229495.0   张玉兴   22467.73\n",
       "0    640176102.0   冯宪芹   22314.40\n",
       "212  640268637.0   刘莹莹   21704.60\n",
       "237  640273636.0    任刚   21321.00\n",
       "35   640192207.0    秦超   21166.50\n",
       "95   640224699.0    王蕾   20789.48\n",
       "180  640259396.0   葛萃萃   20441.30\n",
       "..           ...   ...        ...\n",
       "116  640232018.0   梁守业     115.00\n",
       "315  640283448.0   刘春艳     115.00\n",
       "259  640275323.0   王远芬     115.00\n",
       "331  640288740.0    刘坤     115.00\n",
       "291  640279442.0   孙世英     115.00\n",
       "175  640257576.0   张坤容     103.80\n",
       "214  640268889.0    张凯     100.00\n",
       "205  640267403.0   邹广满      90.00\n",
       "216  640269101.0   毕君丽      80.00\n",
       "5    640179266.0   赵珑善      78.00\n",
       "76   640219529.0   杜宝玲      78.00\n",
       "105  640228172.0   陈环蕊      78.00\n",
       "312  640282882.0   吴文霞      78.00\n",
       "137  640244959.0    李青      78.00\n",
       "304  640282275.0    李雪      76.00\n",
       "289  640279278.0    孔宁      60.00\n",
       "217  640269396.0    彭洁      53.80\n",
       "299  640280049.0   杨清华      49.40\n",
       "228  640271143.0    郑芳      24.00\n",
       "247  640274387.0   崔红元      22.80\n",
       "318  640285020.0   孙秀霞      19.00\n",
       "255  640275118.0    马晶      19.00\n",
       "126  640237762.0   余晶晶      15.20\n",
       "271  640276620.0    刘玮      12.00\n",
       "169  640256075.0   郭永瑞      11.40\n",
       "160  640252489.0   潘瑞清       7.60\n",
       "229  640271412.0   王景丽       7.60\n",
       "104  640227433.0   许晓莉       7.60\n",
       "287  640279076.0    刘旭       7.60\n",
       "281  640278465.0   于秋莲       3.80\n",
       "\n",
       "[333 rows x 3 columns]"
      ]
     },
     "execution_count": 54,
     "metadata": {},
     "output_type": "execute_result"
    }
   ],
   "source": [
    "order_sum.loc[order_sum.area_type =='大童青岛区域中心',:].groupby(['ucode','uname']).bf.sum().reset_index().sort_values('bf',ascending=False)"
   ]
  },
  {
   "cell_type": "code",
   "execution_count": 58,
   "metadata": {
    "ExecuteTime": {
     "end_time": "2020-04-27T08:23:09.721622Z",
     "start_time": "2020-04-27T08:23:08.565726Z"
    }
   },
   "outputs": [],
   "source": [
    "df1 = pd.read_excel(dir_down + '用户订单.xlsx')\n",
    "df2 = pd.read_excel(dir_down + '定期寿订单管理 (2).xlsx')"
   ]
  },
  {
   "cell_type": "code",
   "execution_count": 63,
   "metadata": {
    "ExecuteTime": {
     "end_time": "2020-04-27T08:26:11.216939Z",
     "start_time": "2020-04-27T08:26:11.209958Z"
    }
   },
   "outputs": [],
   "source": [
    "col = ['订单号','保单号','订单状态','支付日期','保单金额','推广费代理人','投保人']\n",
    "res = pd.concat([df1[col],df2[col]])"
   ]
  },
  {
   "cell_type": "code",
   "execution_count": 65,
   "metadata": {
    "ExecuteTime": {
     "end_time": "2020-04-27T08:27:06.148584Z",
     "start_time": "2020-04-27T08:27:06.131608Z"
    }
   },
   "outputs": [],
   "source": [
    "res['date_pay'] = pd.to_datetime(pd.to_datetime(res.支付日期).dt.strftime('%Y-%m-%d'))"
   ]
  },
  {
   "cell_type": "code",
   "execution_count": 80,
   "metadata": {
    "ExecuteTime": {
     "end_time": "2020-04-27T08:38:22.462983Z",
     "start_time": "2020-04-27T08:38:22.399154Z"
    }
   },
   "outputs": [],
   "source": [
    "res.loc[(res.date_pay >= pd.to_datetime('2019-06-26')) \n",
    "        & (res.date_pay <= pd.to_datetime('2019-12-25'))\n",
    "       & (res.推广费代理人 =='徐立群')].to_excel('12.xlsx')"
   ]
  },
  {
   "cell_type": "code",
   "execution_count": 70,
   "metadata": {
    "ExecuteTime": {
     "end_time": "2020-04-27T08:30:04.015510Z",
     "start_time": "2020-04-27T08:30:04.003542Z"
    }
   },
   "outputs": [
    {
     "data": {
      "text/html": [
       "<div>\n",
       "<style scoped>\n",
       "    .dataframe tbody tr th:only-of-type {\n",
       "        vertical-align: middle;\n",
       "    }\n",
       "\n",
       "    .dataframe tbody tr th {\n",
       "        vertical-align: top;\n",
       "    }\n",
       "\n",
       "    .dataframe thead th {\n",
       "        text-align: right;\n",
       "    }\n",
       "</style>\n",
       "<table border=\"1\" class=\"dataframe\">\n",
       "  <thead>\n",
       "    <tr style=\"text-align: right;\">\n",
       "      <th></th>\n",
       "      <th>订单号</th>\n",
       "      <th>保单号</th>\n",
       "      <th>订单状态</th>\n",
       "      <th>支付日期</th>\n",
       "      <th>保单金额</th>\n",
       "      <th>推广费代理人</th>\n",
       "      <th>投保人</th>\n",
       "      <th>date_pay</th>\n",
       "    </tr>\n",
       "  </thead>\n",
       "  <tbody>\n",
       "    <tr>\n",
       "      <th>0</th>\n",
       "      <td>202004264310928258</td>\n",
       "      <td>361012006000053800</td>\n",
       "      <td>已生效</td>\n",
       "      <td>2020-04-26 10:28:49</td>\n",
       "      <td>80.0</td>\n",
       "      <td>周海梅</td>\n",
       "      <td>张立立</td>\n",
       "      <td>2020-04-26</td>\n",
       "    </tr>\n",
       "    <tr>\n",
       "      <th>1</th>\n",
       "      <td>202004259813111245</td>\n",
       "      <td>10103006600041219306</td>\n",
       "      <td>待生效</td>\n",
       "      <td>2020-04-25 12:22:25</td>\n",
       "      <td>115.0</td>\n",
       "      <td>周海梅</td>\n",
       "      <td>张雪冬</td>\n",
       "      <td>2020-04-25</td>\n",
       "    </tr>\n",
       "    <tr>\n",
       "      <th>2</th>\n",
       "      <td>202004236756901246</td>\n",
       "      <td>P000000002333668</td>\n",
       "      <td>待生效</td>\n",
       "      <td>2020-04-23 16:11:29</td>\n",
       "      <td>200.0</td>\n",
       "      <td>徐立群</td>\n",
       "      <td>郭贤龙</td>\n",
       "      <td>2020-04-23</td>\n",
       "    </tr>\n",
       "    <tr>\n",
       "      <th>3</th>\n",
       "      <td>202004233245483331</td>\n",
       "      <td>P000000002333660</td>\n",
       "      <td>待生效</td>\n",
       "      <td>2020-04-23 16:07:45</td>\n",
       "      <td>200.0</td>\n",
       "      <td>徐立群</td>\n",
       "      <td>郭东艳</td>\n",
       "      <td>2020-04-23</td>\n",
       "    </tr>\n",
       "    <tr>\n",
       "      <th>4</th>\n",
       "      <td>202004236634648180</td>\n",
       "      <td>P000000002333650</td>\n",
       "      <td>待生效</td>\n",
       "      <td>2020-04-23 16:04:06</td>\n",
       "      <td>200.0</td>\n",
       "      <td>徐立群</td>\n",
       "      <td>郑丙军</td>\n",
       "      <td>2020-04-23</td>\n",
       "    </tr>\n",
       "  </tbody>\n",
       "</table>\n",
       "</div>"
      ],
      "text/plain": [
       "                  订单号                   保单号 订单状态                 支付日期   保单金额  \\\n",
       "0  202004264310928258    361012006000053800  已生效  2020-04-26 10:28:49   80.0   \n",
       "1  202004259813111245  10103006600041219306  待生效  2020-04-25 12:22:25  115.0   \n",
       "2  202004236756901246      P000000002333668  待生效  2020-04-23 16:11:29  200.0   \n",
       "3  202004233245483331      P000000002333660  待生效  2020-04-23 16:07:45  200.0   \n",
       "4  202004236634648180      P000000002333650  待生效  2020-04-23 16:04:06  200.0   \n",
       "\n",
       "  推广费代理人  投保人   date_pay  \n",
       "0    周海梅  张立立 2020-04-26  \n",
       "1    周海梅  张雪冬 2020-04-25  \n",
       "2    徐立群  郭贤龙 2020-04-23  \n",
       "3    徐立群  郭东艳 2020-04-23  \n",
       "4    徐立群  郑丙军 2020-04-23  "
      ]
     },
     "execution_count": 70,
     "metadata": {},
     "output_type": "execute_result"
    }
   ],
   "source": [
    "res.head()"
   ]
  },
  {
   "cell_type": "markdown",
   "metadata": {},
   "source": [
    "## 寿险数据"
   ]
  },
  {
   "cell_type": "code",
   "execution_count": 4,
   "metadata": {
    "ExecuteTime": {
     "end_time": "2020-04-28T09:45:28.921419Z",
     "start_time": "2020-04-28T09:45:28.918435Z"
    }
   },
   "outputs": [],
   "source": [
    "dir_user = 'E:\\\\SynologyDrive\\\\dir_user\\\\'\n",
    "dir_order_life = 'E:\\\\SynologyDrive\\\\dir_order\\\\order_life\\\\'"
   ]
  },
  {
   "cell_type": "code",
   "execution_count": 53,
   "metadata": {
    "ExecuteTime": {
     "end_time": "2020-04-28T05:55:54.386347Z",
     "start_time": "2020-04-28T05:55:53.828859Z"
    }
   },
   "outputs": [],
   "source": [
    "col = ['uid','date_pay','pname','bf','order','uname','ucell','ucode']\n",
    "order_online = pd.concat([order_2019_need[col],order_2020_all[col]])"
   ]
  },
  {
   "cell_type": "code",
   "execution_count": 54,
   "metadata": {
    "ExecuteTime": {
     "end_time": "2020-04-28T05:55:56.446832Z",
     "start_time": "2020-04-28T05:55:55.268011Z"
    }
   },
   "outputs": [],
   "source": [
    "order_all = pd.merge(order_online,ptype,how='left',on='pname')"
   ]
  },
  {
   "cell_type": "markdown",
   "metadata": {},
   "source": [
    "### 用户数据"
   ]
  },
  {
   "cell_type": "code",
   "execution_count": 25,
   "metadata": {
    "ExecuteTime": {
     "end_time": "2020-04-28T05:12:03.843349Z",
     "start_time": "2020-04-28T05:11:11.086813Z"
    }
   },
   "outputs": [],
   "source": []
  },
  {
   "cell_type": "markdown",
   "metadata": {},
   "source": [
    "### 保单数据"
   ]
  },
  {
   "cell_type": "code",
   "execution_count": 72,
   "metadata": {
    "ExecuteTime": {
     "end_time": "2020-04-28T06:06:08.839494Z",
     "start_time": "2020-04-28T06:06:08.828491Z"
    }
   },
   "outputs": [],
   "source": [
    "user_order_off = order_detail.groupby(['ucode']).bf_std.sum().reset_index()"
   ]
  },
  {
   "cell_type": "code",
   "execution_count": 81,
   "metadata": {
    "ExecuteTime": {
     "end_time": "2020-04-28T06:18:04.167780Z",
     "start_time": "2020-04-28T06:18:04.133868Z"
    }
   },
   "outputs": [],
   "source": [
    "user_order_on.fillna(0,inplace=True)\n",
    "user_order_on['ucode'] = user_order_on.ucode.map(lambda x:str(int(x)).strip())\n",
    "user_order_off['ucode'] = user_order_off.ucode.map(lambda x:str(int(x)).strip())\n"
   ]
  },
  {
   "cell_type": "code",
   "execution_count": 91,
   "metadata": {
    "ExecuteTime": {
     "end_time": "2020-04-28T06:26:36.372613Z",
     "start_time": "2020-04-28T06:26:36.344687Z"
    }
   },
   "outputs": [],
   "source": [
    "res_mid = pd.merge(user_order_on,user_order_off,how='left',on='ucode')\n",
    "res = pd.merge(res_mid,user_leader,how='left',on='ucode')"
   ]
  },
  {
   "cell_type": "code",
   "execution_count": 92,
   "metadata": {
    "ExecuteTime": {
     "end_time": "2020-04-28T06:26:40.710015Z",
     "start_time": "2020-04-28T06:26:40.694057Z"
    }
   },
   "outputs": [
    {
     "name": "stdout",
     "output_type": "stream",
     "text": [
      "<class 'pandas.core.frame.DataFrame'>\n",
      "Int64Index: 17520 entries, 0 to 17519\n",
      "Data columns (total 8 columns):\n",
      "uid             17520 non-null object\n",
      "order           17520 non-null int64\n",
      "bf              17520 non-null float64\n",
      "ucell           17520 non-null int64\n",
      "uname           17520 non-null object\n",
      "ucode           17520 non-null object\n",
      "bf_std          6688 non-null float64\n",
      "uname_leader    321 non-null object\n",
      "dtypes: float64(2), int64(2), object(4)\n",
      "memory usage: 1.2+ MB\n"
     ]
    }
   ],
   "source": [
    "res.info()"
   ]
  },
  {
   "cell_type": "code",
   "execution_count": 95,
   "metadata": {
    "ExecuteTime": {
     "end_time": "2020-04-28T06:30:21.712116Z",
     "start_time": "2020-04-28T06:30:18.025973Z"
    }
   },
   "outputs": [],
   "source": [
    "res.loc[res.uname_leader.isna(),:].to_excel(dir_data_support + '名单 to思思.xlsx')"
   ]
  },
  {
   "cell_type": "code",
   "execution_count": null,
   "metadata": {},
   "outputs": [],
   "source": []
  },
  {
   "cell_type": "markdown",
   "metadata": {},
   "source": [
    "## 直播数据"
   ]
  },
  {
   "cell_type": "code",
   "execution_count": 69,
   "metadata": {
    "ExecuteTime": {
     "end_time": "2020-04-29T03:46:36.407509Z",
     "start_time": "2020-04-29T03:46:34.918334Z"
    }
   },
   "outputs": [
    {
     "name": "stderr",
     "output_type": "stream",
     "text": [
      "D:\\ProgramData\\Anaconda3\\lib\\site-packages\\IPython\\core\\interactiveshell.py:2785: DtypeWarning: Columns (20,22,23) have mixed types. Specify dtype option on import or set low_memory=False.\n",
      "  interactivity=interactivity, compiler=compiler, result=result)\n"
     ]
    }
   ],
   "source": [
    "user_zb = pd.read_excel('E:\\\\SynologyDrive\\\\data_temp\\\\4.28直播观看名单.xlsx')\n",
    "user_all = pd.read_csv('E:\\\\SynologyDrive\\\\data_temp\\\\user_info_20200429.csv')"
   ]
  },
  {
   "cell_type": "code",
   "execution_count": 18,
   "metadata": {
    "ExecuteTime": {
     "end_time": "2020-04-29T02:39:32.410703Z",
     "start_time": "2020-04-29T02:39:32.404716Z"
    }
   },
   "outputs": [],
   "source": [
    "user_zb.rename(columns ={'用户ID':'uid','观看时长':'time_long'},inplace=True)"
   ]
  },
  {
   "cell_type": "code",
   "execution_count": 43,
   "metadata": {
    "ExecuteTime": {
     "end_time": "2020-04-29T03:02:48.284302Z",
     "start_time": "2020-04-29T03:02:48.222480Z"
    }
   },
   "outputs": [],
   "source": [
    "user_all.rename(columns = {'用户ID':'uid','工号':'ucode','推荐人ID':'tj_uid','大童工号':'tj_ucode','注册时间':'time_regist'},inplace=True)"
   ]
  },
  {
   "cell_type": "code",
   "execution_count": 23,
   "metadata": {
    "ExecuteTime": {
     "end_time": "2020-04-29T02:42:47.070175Z",
     "start_time": "2020-04-29T02:42:46.181536Z"
    }
   },
   "outputs": [],
   "source": [
    "user_get =pd.read_excel(dir_des + '司外用户入司\\\\互联网-t_activity_sign_up_info_0428-04.xlsx')"
   ]
  },
  {
   "cell_type": "code",
   "execution_count": 27,
   "metadata": {
    "ExecuteTime": {
     "end_time": "2020-04-29T02:47:58.678868Z",
     "start_time": "2020-04-29T02:47:58.672886Z"
    }
   },
   "outputs": [],
   "source": [
    "user_get_01 = user_get[['用户ID','邀请码']].copy()\n",
    "user_get_01.columns = ['uid','code_invite']"
   ]
  },
  {
   "cell_type": "code",
   "execution_count": 71,
   "metadata": {
    "ExecuteTime": {
     "end_time": "2020-04-29T03:46:45.815235Z",
     "start_time": "2020-04-29T03:46:45.810249Z"
    }
   },
   "outputs": [],
   "source": [
    "user_zb_01 = user_zb[['uid','time_long']].copy()"
   ]
  },
  {
   "cell_type": "code",
   "execution_count": 44,
   "metadata": {
    "ExecuteTime": {
     "end_time": "2020-04-29T03:02:58.543910Z",
     "start_time": "2020-04-29T03:02:58.513951Z"
    }
   },
   "outputs": [],
   "source": [
    "user_all_01 = user_all[['uid','time_regist','ucode','tj_uid','tj_ucode']].copy()"
   ]
  },
  {
   "cell_type": "code",
   "execution_count": 72,
   "metadata": {
    "ExecuteTime": {
     "end_time": "2020-04-29T03:46:52.346893Z",
     "start_time": "2020-04-29T03:46:52.220247Z"
    }
   },
   "outputs": [],
   "source": [
    "user_res = pd.merge(user_zb_01,user_all_01,how='left',on='uid')"
   ]
  },
  {
   "cell_type": "code",
   "execution_count": 73,
   "metadata": {
    "ExecuteTime": {
     "end_time": "2020-04-29T03:46:57.488556Z",
     "start_time": "2020-04-29T03:46:57.479549Z"
    }
   },
   "outputs": [
    {
     "name": "stdout",
     "output_type": "stream",
     "text": [
      "<class 'pandas.core.frame.DataFrame'>\n",
      "Int64Index: 2907 entries, 0 to 2906\n",
      "Data columns (total 6 columns):\n",
      "uid            2907 non-null object\n",
      "time_long      2907 non-null int64\n",
      "time_regist    2768 non-null object\n",
      "ucode          2478 non-null float64\n",
      "tj_uid         2656 non-null object\n",
      "tj_ucode       1824 non-null float64\n",
      "dtypes: float64(2), int64(1), object(3)\n",
      "memory usage: 159.0+ KB\n"
     ]
    }
   ],
   "source": [
    "user_res.info()"
   ]
  },
  {
   "cell_type": "code",
   "execution_count": 74,
   "metadata": {
    "ExecuteTime": {
     "end_time": "2020-04-29T04:02:35.544827Z",
     "start_time": "2020-04-29T04:02:35.534853Z"
    }
   },
   "outputs": [
    {
     "name": "stdout",
     "output_type": "stream",
     "text": [
      "<class 'pandas.core.frame.DataFrame'>\n",
      "Int64Index: 429 entries, 6 to 2905\n",
      "Data columns (total 6 columns):\n",
      "uid            429 non-null object\n",
      "time_long      429 non-null int64\n",
      "time_regist    290 non-null object\n",
      "ucode          0 non-null float64\n",
      "tj_uid         223 non-null object\n",
      "tj_ucode       89 non-null float64\n",
      "dtypes: float64(2), int64(1), object(3)\n",
      "memory usage: 23.5+ KB\n"
     ]
    }
   ],
   "source": [
    "user_res.loc[user_res.ucode.isna(),:].info()"
   ]
  },
  {
   "cell_type": "code",
   "execution_count": 75,
   "metadata": {
    "ExecuteTime": {
     "end_time": "2020-04-29T04:03:26.582662Z",
     "start_time": "2020-04-29T04:03:26.572662Z"
    }
   },
   "outputs": [
    {
     "name": "stdout",
     "output_type": "stream",
     "text": [
      "<class 'pandas.core.frame.DataFrame'>\n",
      "Int64Index: 290 entries, 6 to 2905\n",
      "Data columns (total 6 columns):\n",
      "uid            290 non-null object\n",
      "time_long      290 non-null int64\n",
      "time_regist    290 non-null object\n",
      "ucode          0 non-null float64\n",
      "tj_uid         223 non-null object\n",
      "tj_ucode       89 non-null float64\n",
      "dtypes: float64(2), int64(1), object(3)\n",
      "memory usage: 15.9+ KB\n"
     ]
    }
   ],
   "source": [
    "user_res.loc[(user_res.time_regist.notna()) & (user_res.ucode.isna()),:].info()"
   ]
  },
  {
   "cell_type": "code",
   "execution_count": 79,
   "metadata": {
    "ExecuteTime": {
     "end_time": "2020-04-29T06:15:46.914878Z",
     "start_time": "2020-04-29T06:15:46.789216Z"
    }
   },
   "outputs": [],
   "source": [
    "res = pd.merge(user_get_01,user_all_01,how='left',on='uid')"
   ]
  },
  {
   "cell_type": "code",
   "execution_count": 80,
   "metadata": {
    "ExecuteTime": {
     "end_time": "2020-04-29T06:15:52.689775Z",
     "start_time": "2020-04-29T06:15:52.673811Z"
    }
   },
   "outputs": [
    {
     "name": "stdout",
     "output_type": "stream",
     "text": [
      "<class 'pandas.core.frame.DataFrame'>\n",
      "Int64Index: 9800 entries, 0 to 9799\n",
      "Data columns (total 6 columns):\n",
      "uid            9785 non-null object\n",
      "code_invite    9800 non-null int64\n",
      "time_regist    9169 non-null object\n",
      "ucode          7147 non-null float64\n",
      "tj_uid         8681 non-null object\n",
      "tj_ucode       5626 non-null float64\n",
      "dtypes: float64(2), int64(1), object(3)\n",
      "memory usage: 535.9+ KB\n"
     ]
    }
   ],
   "source": [
    "res.info()"
   ]
  },
  {
   "cell_type": "code",
   "execution_count": 81,
   "metadata": {
    "ExecuteTime": {
     "end_time": "2020-04-29T06:16:43.656411Z",
     "start_time": "2020-04-29T06:16:43.648384Z"
    }
   },
   "outputs": [],
   "source": [
    "res.loc[res.tj_uid =='U00000000','tj_uid'] = np.nan"
   ]
  },
  {
   "cell_type": "code",
   "execution_count": 82,
   "metadata": {
    "ExecuteTime": {
     "end_time": "2020-04-29T06:16:50.190510Z",
     "start_time": "2020-04-29T06:16:50.179512Z"
    }
   },
   "outputs": [
    {
     "name": "stdout",
     "output_type": "stream",
     "text": [
      "<class 'pandas.core.frame.DataFrame'>\n",
      "Int64Index: 9800 entries, 0 to 9799\n",
      "Data columns (total 6 columns):\n",
      "uid            9785 non-null object\n",
      "code_invite    9800 non-null int64\n",
      "time_regist    9169 non-null object\n",
      "ucode          7147 non-null float64\n",
      "tj_uid         8596 non-null object\n",
      "tj_ucode       5626 non-null float64\n",
      "dtypes: float64(2), int64(1), object(3)\n",
      "memory usage: 535.9+ KB\n"
     ]
    }
   ],
   "source": [
    "res.info()"
   ]
  },
  {
   "cell_type": "code",
   "execution_count": 85,
   "metadata": {
    "ExecuteTime": {
     "end_time": "2020-04-29T06:18:04.922839Z",
     "start_time": "2020-04-29T06:18:04.493425Z"
    }
   },
   "outputs": [],
   "source": [
    "res.loc[(res.ucode.isna()) & (res.tj_ucode.isna()) & (res.time_regist.notna()),:].to_excel('12.xlsx')"
   ]
  },
  {
   "cell_type": "code",
   "execution_count": 3,
   "metadata": {
    "ExecuteTime": {
     "end_time": "2020-05-06T02:18:21.494993Z",
     "start_time": "2020-05-06T02:18:19.818474Z"
    }
   },
   "outputs": [
    {
     "name": "stderr",
     "output_type": "stream",
     "text": [
      "D:\\ProgramData\\Anaconda3\\lib\\site-packages\\pandas\\io\\clipboards.py:63: ParserWarning: Falling back to the 'python' engine because the 'c' engine does not support regex separators (separators > 1 char and different from '\\s+' are interpreted as regex); you can avoid this warning by specifying engine='python'.\n",
      "  return read_table(StringIO(text), sep=sep, **kwargs)\n"
     ]
    }
   ],
   "source": [
    "user = pd.read_clipboard()"
   ]
  },
  {
   "cell_type": "code",
   "execution_count": 5,
   "metadata": {
    "ExecuteTime": {
     "end_time": "2020-05-06T02:29:45.659280Z",
     "start_time": "2020-05-06T02:29:44.899302Z"
    }
   },
   "outputs": [
    {
     "name": "stderr",
     "output_type": "stream",
     "text": [
      "D:\\ProgramData\\Anaconda3\\lib\\site-packages\\IPython\\core\\interactiveshell.py:2785: DtypeWarning: Columns (11,12) have mixed types. Specify dtype option on import or set low_memory=False.\n",
      "  interactivity=interactivity, compiler=compiler, result=result)\n"
     ]
    }
   ],
   "source": [
    "user_info = pd.read_csv(dir_down + 'query_result (14).csv')"
   ]
  },
  {
   "cell_type": "code",
   "execution_count": 6,
   "metadata": {
    "ExecuteTime": {
     "end_time": "2020-05-06T02:29:53.399888Z",
     "start_time": "2020-05-06T02:29:53.379944Z"
    }
   },
   "outputs": [
    {
     "data": {
      "text/html": [
       "<div>\n",
       "<style scoped>\n",
       "    .dataframe tbody tr th:only-of-type {\n",
       "        vertical-align: middle;\n",
       "    }\n",
       "\n",
       "    .dataframe tbody tr th {\n",
       "        vertical-align: top;\n",
       "    }\n",
       "\n",
       "    .dataframe thead th {\n",
       "        text-align: right;\n",
       "    }\n",
       "</style>\n",
       "<table border=\"1\" class=\"dataframe\">\n",
       "  <thead>\n",
       "    <tr style=\"text-align: right;\">\n",
       "      <th></th>\n",
       "      <th>uid</th>\n",
       "      <th>是否司内用户</th>\n",
       "      <th>评分r1-最近一次登录时间距离当日的天数</th>\n",
       "      <th>评分f1-周期内登录的天数</th>\n",
       "      <th>评分r2-最近一次交易时间距离当日的天数</th>\n",
       "      <th>评分f2-周期内交易件数</th>\n",
       "      <th>评分m-周期内总保费</th>\n",
       "      <th>用户综合评分</th>\n",
       "      <th>用户综合价值</th>\n",
       "      <th>用户认证时间</th>\n",
       "      <th>用户注册时间</th>\n",
       "      <th>最近一次登录时间</th>\n",
       "      <th>最近一次交易时间</th>\n",
       "      <th>最近一次登录时间距离当日的天数</th>\n",
       "      <th>周期内登录的天数</th>\n",
       "      <th>最近一次交易时间距离当日的天数</th>\n",
       "      <th>周期内交易件数</th>\n",
       "      <th>周期内交易天数</th>\n",
       "      <th>周期内总保费</th>\n",
       "    </tr>\n",
       "  </thead>\n",
       "  <tbody>\n",
       "    <tr>\n",
       "      <th>0</th>\n",
       "      <td>4e785d1ca4864fc1a7f0621a7b52581e</td>\n",
       "      <td>0</td>\n",
       "      <td>4</td>\n",
       "      <td>1</td>\n",
       "      <td>0</td>\n",
       "      <td>0</td>\n",
       "      <td>0</td>\n",
       "      <td>30.0</td>\n",
       "      <td>1</td>\n",
       "      <td>2019-04-22 17:06:22</td>\n",
       "      <td>2019-04-03 20:34:16</td>\n",
       "      <td>2020-04-30</td>\n",
       "      <td>NaN</td>\n",
       "      <td>6.0</td>\n",
       "      <td>1.0</td>\n",
       "      <td>NaN</td>\n",
       "      <td>NaN</td>\n",
       "      <td>NaN</td>\n",
       "      <td>NaN</td>\n",
       "    </tr>\n",
       "    <tr>\n",
       "      <th>1</th>\n",
       "      <td>e0381c916ed8450ebf6aec5dc030c10b</td>\n",
       "      <td>1</td>\n",
       "      <td>4</td>\n",
       "      <td>2</td>\n",
       "      <td>2</td>\n",
       "      <td>1</td>\n",
       "      <td>2</td>\n",
       "      <td>185.0</td>\n",
       "      <td>2</td>\n",
       "      <td>2017-11-24 21:15:33</td>\n",
       "      <td>2017-11-18 23:56:37</td>\n",
       "      <td>2020-04-29</td>\n",
       "      <td>2020-04-01</td>\n",
       "      <td>7.0</td>\n",
       "      <td>12.0</td>\n",
       "      <td>35.0</td>\n",
       "      <td>1.0</td>\n",
       "      <td>1.0</td>\n",
       "      <td>550.0</td>\n",
       "    </tr>\n",
       "    <tr>\n",
       "      <th>2</th>\n",
       "      <td>fc75e0531b87414d8895acc331a60020</td>\n",
       "      <td>0</td>\n",
       "      <td>3</td>\n",
       "      <td>1</td>\n",
       "      <td>0</td>\n",
       "      <td>0</td>\n",
       "      <td>0</td>\n",
       "      <td>25.0</td>\n",
       "      <td>1</td>\n",
       "      <td>2018-06-07 16:29:00</td>\n",
       "      <td>2018-06-07 16:29:00</td>\n",
       "      <td>2020-04-06</td>\n",
       "      <td>NaN</td>\n",
       "      <td>30.0</td>\n",
       "      <td>5.0</td>\n",
       "      <td>NaN</td>\n",
       "      <td>NaN</td>\n",
       "      <td>NaN</td>\n",
       "      <td>NaN</td>\n",
       "    </tr>\n",
       "    <tr>\n",
       "      <th>3</th>\n",
       "      <td>f3356828078643b6b3096b1e5778d239</td>\n",
       "      <td>1</td>\n",
       "      <td>5</td>\n",
       "      <td>4</td>\n",
       "      <td>0</td>\n",
       "      <td>0</td>\n",
       "      <td>0</td>\n",
       "      <td>65.0</td>\n",
       "      <td>1</td>\n",
       "      <td>2018-01-18 10:42:28</td>\n",
       "      <td>2018-01-18 10:29:41</td>\n",
       "      <td>2020-05-05</td>\n",
       "      <td>NaN</td>\n",
       "      <td>1.0</td>\n",
       "      <td>33.0</td>\n",
       "      <td>NaN</td>\n",
       "      <td>NaN</td>\n",
       "      <td>NaN</td>\n",
       "      <td>NaN</td>\n",
       "    </tr>\n",
       "    <tr>\n",
       "      <th>4</th>\n",
       "      <td>1a2712435dd048eca33177a42c936211</td>\n",
       "      <td>1</td>\n",
       "      <td>5</td>\n",
       "      <td>4</td>\n",
       "      <td>5</td>\n",
       "      <td>4</td>\n",
       "      <td>3</td>\n",
       "      <td>385.0</td>\n",
       "      <td>4</td>\n",
       "      <td>2017-09-14 11:27:52</td>\n",
       "      <td>2017-09-14 10:50:01</td>\n",
       "      <td>2020-05-05</td>\n",
       "      <td>2020-05-05</td>\n",
       "      <td>1.0</td>\n",
       "      <td>35.0</td>\n",
       "      <td>1.0</td>\n",
       "      <td>6.0</td>\n",
       "      <td>3.0</td>\n",
       "      <td>1570.0</td>\n",
       "    </tr>\n",
       "  </tbody>\n",
       "</table>\n",
       "</div>"
      ],
      "text/plain": [
       "                                uid  是否司内用户  评分r1-最近一次登录时间距离当日的天数  \\\n",
       "0  4e785d1ca4864fc1a7f0621a7b52581e       0                     4   \n",
       "1  e0381c916ed8450ebf6aec5dc030c10b       1                     4   \n",
       "2  fc75e0531b87414d8895acc331a60020       0                     3   \n",
       "3  f3356828078643b6b3096b1e5778d239       1                     5   \n",
       "4  1a2712435dd048eca33177a42c936211       1                     5   \n",
       "\n",
       "   评分f1-周期内登录的天数  评分r2-最近一次交易时间距离当日的天数  评分f2-周期内交易件数  评分m-周期内总保费  用户综合评分  \\\n",
       "0              1                     0             0           0    30.0   \n",
       "1              2                     2             1           2   185.0   \n",
       "2              1                     0             0           0    25.0   \n",
       "3              4                     0             0           0    65.0   \n",
       "4              4                     5             4           3   385.0   \n",
       "\n",
       "   用户综合价值               用户认证时间               用户注册时间    最近一次登录时间    最近一次交易时间  \\\n",
       "0       1  2019-04-22 17:06:22  2019-04-03 20:34:16  2020-04-30         NaN   \n",
       "1       2  2017-11-24 21:15:33  2017-11-18 23:56:37  2020-04-29  2020-04-01   \n",
       "2       1  2018-06-07 16:29:00  2018-06-07 16:29:00  2020-04-06         NaN   \n",
       "3       1  2018-01-18 10:42:28  2018-01-18 10:29:41  2020-05-05         NaN   \n",
       "4       4  2017-09-14 11:27:52  2017-09-14 10:50:01  2020-05-05  2020-05-05   \n",
       "\n",
       "   最近一次登录时间距离当日的天数  周期内登录的天数  最近一次交易时间距离当日的天数  周期内交易件数  周期内交易天数  周期内总保费  \n",
       "0              6.0       1.0              NaN      NaN      NaN     NaN  \n",
       "1              7.0      12.0             35.0      1.0      1.0   550.0  \n",
       "2             30.0       5.0              NaN      NaN      NaN     NaN  \n",
       "3              1.0      33.0              NaN      NaN      NaN     NaN  \n",
       "4              1.0      35.0              1.0      6.0      3.0  1570.0  "
      ]
     },
     "execution_count": 6,
     "metadata": {},
     "output_type": "execute_result"
    }
   ],
   "source": [
    "user_info.head()"
   ]
  },
  {
   "cell_type": "code",
   "execution_count": 8,
   "metadata": {
    "ExecuteTime": {
     "end_time": "2020-05-06T02:32:21.940011Z",
     "start_time": "2020-05-06T02:32:21.656756Z"
    }
   },
   "outputs": [],
   "source": [
    "res_mid = pd.merge(user,user_info[['uid','是否司内用户','最近一次登录时间','最近一次登录时间距离当日的天数']],how='left',on='uid')"
   ]
  },
  {
   "cell_type": "code",
   "execution_count": 11,
   "metadata": {
    "ExecuteTime": {
     "end_time": "2020-05-06T02:34:17.110824Z",
     "start_time": "2020-05-06T02:34:16.909357Z"
    }
   },
   "outputs": [],
   "source": [
    "res = pd.merge(res_mid,user_info[['uid','是否司内用户']],how='left',left_on='tj_uid',right_on ='uid')"
   ]
  },
  {
   "cell_type": "code",
   "execution_count": 13,
   "metadata": {
    "ExecuteTime": {
     "end_time": "2020-05-06T02:34:26.715155Z",
     "start_time": "2020-05-06T02:34:26.704184Z"
    }
   },
   "outputs": [
    {
     "data": {
      "text/html": [
       "<div>\n",
       "<style scoped>\n",
       "    .dataframe tbody tr th:only-of-type {\n",
       "        vertical-align: middle;\n",
       "    }\n",
       "\n",
       "    .dataframe tbody tr th {\n",
       "        vertical-align: top;\n",
       "    }\n",
       "\n",
       "    .dataframe thead th {\n",
       "        text-align: right;\n",
       "    }\n",
       "</style>\n",
       "<table border=\"1\" class=\"dataframe\">\n",
       "  <thead>\n",
       "    <tr style=\"text-align: right;\">\n",
       "      <th></th>\n",
       "      <th>uid_x</th>\n",
       "      <th>tj_uid</th>\n",
       "      <th>是否司内用户_x</th>\n",
       "      <th>最近一次登录时间</th>\n",
       "      <th>最近一次登录时间距离当日的天数</th>\n",
       "      <th>uid_y</th>\n",
       "      <th>是否司内用户_y</th>\n",
       "    </tr>\n",
       "  </thead>\n",
       "  <tbody>\n",
       "    <tr>\n",
       "      <th>0</th>\n",
       "      <td>f969c01dd5944d3aa5aec98be6cb0ac2</td>\n",
       "      <td>f6b57dce01864769968398a026c4ad83</td>\n",
       "      <td>0.0</td>\n",
       "      <td>NaN</td>\n",
       "      <td>NaN</td>\n",
       "      <td>f6b57dce01864769968398a026c4ad83</td>\n",
       "      <td>1.0</td>\n",
       "    </tr>\n",
       "    <tr>\n",
       "      <th>1</th>\n",
       "      <td>f5aee48c1f124127a76f464f768e6afd</td>\n",
       "      <td>f6b57dce01864769968398a026c4ad83</td>\n",
       "      <td>0.0</td>\n",
       "      <td>NaN</td>\n",
       "      <td>NaN</td>\n",
       "      <td>f6b57dce01864769968398a026c4ad83</td>\n",
       "      <td>1.0</td>\n",
       "    </tr>\n",
       "    <tr>\n",
       "      <th>2</th>\n",
       "      <td>e33d7d57e00e46e5a64fadae24d73361</td>\n",
       "      <td>f6b57dce01864769968398a026c4ad83</td>\n",
       "      <td>0.0</td>\n",
       "      <td>2020-05-01</td>\n",
       "      <td>5.0</td>\n",
       "      <td>f6b57dce01864769968398a026c4ad83</td>\n",
       "      <td>1.0</td>\n",
       "    </tr>\n",
       "    <tr>\n",
       "      <th>3</th>\n",
       "      <td>df264d1d92264f3d9a6e121d3dac780a</td>\n",
       "      <td>f6b57dce01864769968398a026c4ad83</td>\n",
       "      <td>0.0</td>\n",
       "      <td>NaN</td>\n",
       "      <td>NaN</td>\n",
       "      <td>f6b57dce01864769968398a026c4ad83</td>\n",
       "      <td>1.0</td>\n",
       "    </tr>\n",
       "    <tr>\n",
       "      <th>4</th>\n",
       "      <td>dfeceab773904751ab8f9e50d397951a</td>\n",
       "      <td>f6b57dce01864769968398a026c4ad83</td>\n",
       "      <td>0.0</td>\n",
       "      <td>NaN</td>\n",
       "      <td>NaN</td>\n",
       "      <td>f6b57dce01864769968398a026c4ad83</td>\n",
       "      <td>1.0</td>\n",
       "    </tr>\n",
       "  </tbody>\n",
       "</table>\n",
       "</div>"
      ],
      "text/plain": [
       "                              uid_x                            tj_uid  \\\n",
       "0  f969c01dd5944d3aa5aec98be6cb0ac2  f6b57dce01864769968398a026c4ad83   \n",
       "1  f5aee48c1f124127a76f464f768e6afd  f6b57dce01864769968398a026c4ad83   \n",
       "2  e33d7d57e00e46e5a64fadae24d73361  f6b57dce01864769968398a026c4ad83   \n",
       "3  df264d1d92264f3d9a6e121d3dac780a  f6b57dce01864769968398a026c4ad83   \n",
       "4  dfeceab773904751ab8f9e50d397951a  f6b57dce01864769968398a026c4ad83   \n",
       "\n",
       "   是否司内用户_x    最近一次登录时间  最近一次登录时间距离当日的天数                             uid_y  \\\n",
       "0       0.0         NaN              NaN  f6b57dce01864769968398a026c4ad83   \n",
       "1       0.0         NaN              NaN  f6b57dce01864769968398a026c4ad83   \n",
       "2       0.0  2020-05-01              5.0  f6b57dce01864769968398a026c4ad83   \n",
       "3       0.0         NaN              NaN  f6b57dce01864769968398a026c4ad83   \n",
       "4       0.0         NaN              NaN  f6b57dce01864769968398a026c4ad83   \n",
       "\n",
       "   是否司内用户_y  \n",
       "0       1.0  \n",
       "1       1.0  \n",
       "2       1.0  \n",
       "3       1.0  \n",
       "4       1.0  "
      ]
     },
     "execution_count": 13,
     "metadata": {},
     "output_type": "execute_result"
    }
   ],
   "source": [
    "res.head()"
   ]
  },
  {
   "cell_type": "code",
   "execution_count": 23,
   "metadata": {
    "ExecuteTime": {
     "end_time": "2020-05-06T02:38:25.366962Z",
     "start_time": "2020-05-06T02:38:20.662493Z"
    }
   },
   "outputs": [],
   "source": [
    "res.loc[(res.是否司内用户_x==0) \n",
    "        & (res.是否司内用户_y !=1)\n",
    "        &(res.最近一次登录时间.notna()),:].to_excel('12.xlsx')"
   ]
  },
  {
   "cell_type": "markdown",
   "metadata": {
    "ExecuteTime": {
     "end_time": "2020-05-09T06:03:12.462919Z",
     "start_time": "2020-05-09T06:03:12.450949Z"
    }
   },
   "source": [
    "## 核心指标"
   ]
  },
  {
   "cell_type": "code",
   "execution_count": 47,
   "metadata": {
    "ExecuteTime": {
     "end_time": "2020-05-09T07:11:49.990330Z",
     "start_time": "2020-05-09T07:11:41.002372Z"
    }
   },
   "outputs": [],
   "source": [
    "order_2020 = pd.read_csv('D:\\\\User\\\\Desktop\\\\order_info\\\\his\\\\order_report_0420.csv',encoding='utf-8',parse_dates=['date_pay'],low_memory=False)\n",
    "order_20 = order_2020.loc[(order_2020.order_stat.isin(['待生效','已生效','已发货','契撤']))\n",
    "                         & (order_2020.date_pay <= pd.to_datetime('2019-12-25'))].copy()"
   ]
  },
  {
   "cell_type": "code",
   "execution_count": 48,
   "metadata": {
    "ExecuteTime": {
     "end_time": "2020-05-09T07:11:50.085077Z",
     "start_time": "2020-05-09T07:11:49.992325Z"
    }
   },
   "outputs": [
    {
     "data": {
      "text/plain": [
       "array(['待生效', '已生效', '已发货', '契撤'], dtype=object)"
      ]
     },
     "execution_count": 48,
     "metadata": {},
     "output_type": "execute_result"
    }
   ],
   "source": [
    "order_20.order_stat.unique()"
   ]
  },
  {
   "cell_type": "code",
   "execution_count": 49,
   "metadata": {
    "ExecuteTime": {
     "end_time": "2020-05-09T07:11:50.204761Z",
     "start_time": "2020-05-09T07:11:50.086075Z"
    }
   },
   "outputs": [
    {
     "data": {
      "text/plain": [
       "array(['待生效', '已生效', '撤保', '退保', '已发货', '订单关闭', '已取消', '契撤'], dtype=object)"
      ]
     },
     "execution_count": 49,
     "metadata": {},
     "output_type": "execute_result"
    }
   ],
   "source": [
    "order_2020.order_stat.unique()"
   ]
  },
  {
   "cell_type": "code",
   "execution_count": 50,
   "metadata": {
    "ExecuteTime": {
     "end_time": "2020-05-09T07:11:50.270582Z",
     "start_time": "2020-05-09T07:11:50.205756Z"
    }
   },
   "outputs": [],
   "source": [
    "order_20['mon'] = order_20.date_pay.map(date_bus)"
   ]
  },
  {
   "cell_type": "code",
   "execution_count": 52,
   "metadata": {
    "ExecuteTime": {
     "end_time": "2020-05-09T07:11:56.491980Z",
     "start_time": "2020-05-09T07:11:56.040149Z"
    }
   },
   "outputs": [
    {
     "data": {
      "text/html": [
       "<div>\n",
       "<style scoped>\n",
       "    .dataframe tbody tr th:only-of-type {\n",
       "        vertical-align: middle;\n",
       "    }\n",
       "\n",
       "    .dataframe tbody tr th {\n",
       "        vertical-align: top;\n",
       "    }\n",
       "\n",
       "    .dataframe thead th {\n",
       "        text-align: right;\n",
       "    }\n",
       "</style>\n",
       "<table border=\"1\" class=\"dataframe\">\n",
       "  <thead>\n",
       "    <tr style=\"text-align: right;\">\n",
       "      <th></th>\n",
       "      <th>mon</th>\n",
       "      <th>bf</th>\n",
       "    </tr>\n",
       "  </thead>\n",
       "  <tbody>\n",
       "    <tr>\n",
       "      <th>0</th>\n",
       "      <td>2019-01</td>\n",
       "      <td>3.050527e+07</td>\n",
       "    </tr>\n",
       "    <tr>\n",
       "      <th>1</th>\n",
       "      <td>2019-02</td>\n",
       "      <td>2.490442e+07</td>\n",
       "    </tr>\n",
       "    <tr>\n",
       "      <th>2</th>\n",
       "      <td>2019-03</td>\n",
       "      <td>3.616098e+07</td>\n",
       "    </tr>\n",
       "    <tr>\n",
       "      <th>3</th>\n",
       "      <td>2019-04</td>\n",
       "      <td>3.896023e+07</td>\n",
       "    </tr>\n",
       "    <tr>\n",
       "      <th>4</th>\n",
       "      <td>2019-05</td>\n",
       "      <td>3.346649e+07</td>\n",
       "    </tr>\n",
       "    <tr>\n",
       "      <th>5</th>\n",
       "      <td>2019-06</td>\n",
       "      <td>3.556558e+07</td>\n",
       "    </tr>\n",
       "    <tr>\n",
       "      <th>6</th>\n",
       "      <td>2019-07</td>\n",
       "      <td>3.158858e+07</td>\n",
       "    </tr>\n",
       "    <tr>\n",
       "      <th>7</th>\n",
       "      <td>2019-08</td>\n",
       "      <td>3.489812e+07</td>\n",
       "    </tr>\n",
       "    <tr>\n",
       "      <th>8</th>\n",
       "      <td>2019-09</td>\n",
       "      <td>4.002310e+07</td>\n",
       "    </tr>\n",
       "    <tr>\n",
       "      <th>9</th>\n",
       "      <td>2019-10</td>\n",
       "      <td>3.322544e+07</td>\n",
       "    </tr>\n",
       "    <tr>\n",
       "      <th>10</th>\n",
       "      <td>2019-11</td>\n",
       "      <td>3.769044e+07</td>\n",
       "    </tr>\n",
       "    <tr>\n",
       "      <th>11</th>\n",
       "      <td>2019-12</td>\n",
       "      <td>3.781686e+07</td>\n",
       "    </tr>\n",
       "  </tbody>\n",
       "</table>\n",
       "</div>"
      ],
      "text/plain": [
       "        mon            bf\n",
       "0   2019-01  3.050527e+07\n",
       "1   2019-02  2.490442e+07\n",
       "2   2019-03  3.616098e+07\n",
       "3   2019-04  3.896023e+07\n",
       "4   2019-05  3.346649e+07\n",
       "5   2019-06  3.556558e+07\n",
       "6   2019-07  3.158858e+07\n",
       "7   2019-08  3.489812e+07\n",
       "8   2019-09  4.002310e+07\n",
       "9   2019-10  3.322544e+07\n",
       "10  2019-11  3.769044e+07\n",
       "11  2019-12  3.781686e+07"
      ]
     },
     "execution_count": 52,
     "metadata": {},
     "output_type": "execute_result"
    }
   ],
   "source": [
    "order_20.groupby('mon').bf.sum().reset_index()"
   ]
  },
  {
   "cell_type": "code",
   "execution_count": 41,
   "metadata": {
    "ExecuteTime": {
     "end_time": "2020-05-09T06:37:15.819360Z",
     "start_time": "2020-05-09T06:37:15.609921Z"
    }
   },
   "outputs": [],
   "source": [
    "order_21 = order_2020.loc[(order_2020.order_stat.isin(['待生效','已生效','已发货']))\n",
    "                         & (order_2020.date_pay >= pd.to_datetime('2019-12-26'))].copy()"
   ]
  },
  {
   "cell_type": "code",
   "execution_count": 42,
   "metadata": {
    "ExecuteTime": {
     "end_time": "2020-05-09T06:37:28.444592Z",
     "start_time": "2020-05-09T06:37:28.425642Z"
    }
   },
   "outputs": [],
   "source": [
    "order_21['mon'] = order_21.date_pay.map(date_bus)"
   ]
  },
  {
   "cell_type": "code",
   "execution_count": 43,
   "metadata": {
    "ExecuteTime": {
     "end_time": "2020-05-09T06:37:40.864371Z",
     "start_time": "2020-05-09T06:37:40.762644Z"
    }
   },
   "outputs": [
    {
     "data": {
      "text/html": [
       "<div>\n",
       "<style scoped>\n",
       "    .dataframe tbody tr th:only-of-type {\n",
       "        vertical-align: middle;\n",
       "    }\n",
       "\n",
       "    .dataframe tbody tr th {\n",
       "        vertical-align: top;\n",
       "    }\n",
       "\n",
       "    .dataframe thead th {\n",
       "        text-align: right;\n",
       "    }\n",
       "</style>\n",
       "<table border=\"1\" class=\"dataframe\">\n",
       "  <thead>\n",
       "    <tr style=\"text-align: right;\">\n",
       "      <th></th>\n",
       "      <th>mon</th>\n",
       "      <th>bf</th>\n",
       "    </tr>\n",
       "  </thead>\n",
       "  <tbody>\n",
       "    <tr>\n",
       "      <th>0</th>\n",
       "      <td>2020-01</td>\n",
       "      <td>37939980.10</td>\n",
       "    </tr>\n",
       "    <tr>\n",
       "      <th>1</th>\n",
       "      <td>2020-02</td>\n",
       "      <td>38722899.55</td>\n",
       "    </tr>\n",
       "    <tr>\n",
       "      <th>2</th>\n",
       "      <td>2020-03</td>\n",
       "      <td>38098268.85</td>\n",
       "    </tr>\n",
       "    <tr>\n",
       "      <th>3</th>\n",
       "      <td>2020-04</td>\n",
       "      <td>34497254.13</td>\n",
       "    </tr>\n",
       "  </tbody>\n",
       "</table>\n",
       "</div>"
      ],
      "text/plain": [
       "       mon           bf\n",
       "0  2020-01  37939980.10\n",
       "1  2020-02  38722899.55\n",
       "2  2020-03  38098268.85\n",
       "3  2020-04  34497254.13"
      ]
     },
     "execution_count": 43,
     "metadata": {},
     "output_type": "execute_result"
    }
   ],
   "source": [
    "order_21.groupby('mon').bf.sum().reset_index()"
   ]
  },
  {
   "cell_type": "code",
   "execution_count": 56,
   "metadata": {
    "ExecuteTime": {
     "end_time": "2020-05-09T07:45:28.229330Z",
     "start_time": "2020-05-09T07:45:28.083691Z"
    }
   },
   "outputs": [
    {
     "data": {
      "text/html": [
       "<div>\n",
       "<style scoped>\n",
       "    .dataframe tbody tr th:only-of-type {\n",
       "        vertical-align: middle;\n",
       "    }\n",
       "\n",
       "    .dataframe tbody tr th {\n",
       "        vertical-align: top;\n",
       "    }\n",
       "\n",
       "    .dataframe thead th {\n",
       "        text-align: right;\n",
       "    }\n",
       "</style>\n",
       "<table border=\"1\" class=\"dataframe\">\n",
       "  <thead>\n",
       "    <tr style=\"text-align: right;\">\n",
       "      <th></th>\n",
       "      <th>is_insider</th>\n",
       "      <th>bf</th>\n",
       "    </tr>\n",
       "  </thead>\n",
       "  <tbody>\n",
       "    <tr>\n",
       "      <th>0</th>\n",
       "      <td>否</td>\n",
       "      <td>1.047130e+08</td>\n",
       "    </tr>\n",
       "    <tr>\n",
       "      <th>1</th>\n",
       "      <td>是</td>\n",
       "      <td>3.100099e+08</td>\n",
       "    </tr>\n",
       "  </tbody>\n",
       "</table>\n",
       "</div>"
      ],
      "text/plain": [
       "  is_insider            bf\n",
       "0          否  1.047130e+08\n",
       "1          是  3.100099e+08"
      ]
     },
     "execution_count": 56,
     "metadata": {},
     "output_type": "execute_result"
    }
   ],
   "source": [
    "order_20.groupby('is_insider').bf.sum().reset_index()"
   ]
  },
  {
   "cell_type": "code",
   "execution_count": 55,
   "metadata": {
    "ExecuteTime": {
     "end_time": "2020-05-09T07:21:15.396500Z",
     "start_time": "2020-05-09T07:21:15.367560Z"
    }
   },
   "outputs": [
    {
     "data": {
      "text/html": [
       "<div>\n",
       "<style scoped>\n",
       "    .dataframe tbody tr th:only-of-type {\n",
       "        vertical-align: middle;\n",
       "    }\n",
       "\n",
       "    .dataframe tbody tr th {\n",
       "        vertical-align: top;\n",
       "    }\n",
       "\n",
       "    .dataframe thead th {\n",
       "        text-align: right;\n",
       "    }\n",
       "</style>\n",
       "<table border=\"1\" class=\"dataframe\">\n",
       "  <thead>\n",
       "    <tr style=\"text-align: right;\">\n",
       "      <th></th>\n",
       "      <th>pname</th>\n",
       "      <th>0</th>\n",
       "    </tr>\n",
       "  </thead>\n",
       "  <tbody>\n",
       "    <tr>\n",
       "      <th>0</th>\n",
       "      <td>安联国庆节公共交通意外保障计划</td>\n",
       "      <td>395</td>\n",
       "    </tr>\n",
       "    <tr>\n",
       "      <th>1</th>\n",
       "      <td>安联少儿意外险</td>\n",
       "      <td>1</td>\n",
       "    </tr>\n",
       "    <tr>\n",
       "      <th>2</th>\n",
       "      <td>永安“离家无忧”短期家财险</td>\n",
       "      <td>1</td>\n",
       "    </tr>\n",
       "  </tbody>\n",
       "</table>\n",
       "</div>"
      ],
      "text/plain": [
       "             pname    0\n",
       "0  安联国庆节公共交通意外保障计划  395\n",
       "1          安联少儿意外险    1\n",
       "2    永安“离家无忧”短期家财险    1"
      ]
     },
     "execution_count": 55,
     "metadata": {},
     "output_type": "execute_result"
    }
   ],
   "source": [
    "order_20.loc[order_20.bf <=0,:].groupby('pname').size().reset_index()"
   ]
  },
  {
   "cell_type": "code",
   "execution_count": 36,
   "metadata": {
    "ExecuteTime": {
     "end_time": "2020-05-09T06:25:12.949915Z",
     "start_time": "2020-05-09T06:25:12.875115Z"
    }
   },
   "outputs": [
    {
     "data": {
      "text/html": [
       "<div>\n",
       "<style scoped>\n",
       "    .dataframe tbody tr th:only-of-type {\n",
       "        vertical-align: middle;\n",
       "    }\n",
       "\n",
       "    .dataframe tbody tr th {\n",
       "        vertical-align: top;\n",
       "    }\n",
       "\n",
       "    .dataframe thead th {\n",
       "        text-align: right;\n",
       "    }\n",
       "</style>\n",
       "<table border=\"1\" class=\"dataframe\">\n",
       "  <thead>\n",
       "    <tr style=\"text-align: right;\">\n",
       "      <th></th>\n",
       "      <th>date_pay</th>\n",
       "      <th>bf</th>\n",
       "    </tr>\n",
       "  </thead>\n",
       "  <tbody>\n",
       "    <tr>\n",
       "      <th>0</th>\n",
       "      <td>2018-12-26</td>\n",
       "      <td>1137401.52</td>\n",
       "    </tr>\n",
       "    <tr>\n",
       "      <th>1</th>\n",
       "      <td>2018-12-27</td>\n",
       "      <td>1178226.55</td>\n",
       "    </tr>\n",
       "    <tr>\n",
       "      <th>2</th>\n",
       "      <td>2018-12-28</td>\n",
       "      <td>1037094.96</td>\n",
       "    </tr>\n",
       "    <tr>\n",
       "      <th>3</th>\n",
       "      <td>2018-12-29</td>\n",
       "      <td>1001030.21</td>\n",
       "    </tr>\n",
       "    <tr>\n",
       "      <th>4</th>\n",
       "      <td>2018-12-30</td>\n",
       "      <td>794357.91</td>\n",
       "    </tr>\n",
       "    <tr>\n",
       "      <th>5</th>\n",
       "      <td>2018-12-31</td>\n",
       "      <td>935097.50</td>\n",
       "    </tr>\n",
       "    <tr>\n",
       "      <th>6</th>\n",
       "      <td>2019-01-01</td>\n",
       "      <td>715735.30</td>\n",
       "    </tr>\n",
       "    <tr>\n",
       "      <th>7</th>\n",
       "      <td>2019-01-02</td>\n",
       "      <td>1225583.68</td>\n",
       "    </tr>\n",
       "    <tr>\n",
       "      <th>8</th>\n",
       "      <td>2019-01-03</td>\n",
       "      <td>1271064.00</td>\n",
       "    </tr>\n",
       "    <tr>\n",
       "      <th>9</th>\n",
       "      <td>2019-01-04</td>\n",
       "      <td>1278249.74</td>\n",
       "    </tr>\n",
       "    <tr>\n",
       "      <th>10</th>\n",
       "      <td>2019-01-05</td>\n",
       "      <td>858211.17</td>\n",
       "    </tr>\n",
       "    <tr>\n",
       "      <th>11</th>\n",
       "      <td>2019-01-06</td>\n",
       "      <td>678040.07</td>\n",
       "    </tr>\n",
       "    <tr>\n",
       "      <th>12</th>\n",
       "      <td>2019-01-07</td>\n",
       "      <td>1136247.94</td>\n",
       "    </tr>\n",
       "    <tr>\n",
       "      <th>13</th>\n",
       "      <td>2019-01-08</td>\n",
       "      <td>1176343.79</td>\n",
       "    </tr>\n",
       "    <tr>\n",
       "      <th>14</th>\n",
       "      <td>2019-01-09</td>\n",
       "      <td>1100516.78</td>\n",
       "    </tr>\n",
       "    <tr>\n",
       "      <th>15</th>\n",
       "      <td>2019-01-10</td>\n",
       "      <td>1066257.18</td>\n",
       "    </tr>\n",
       "    <tr>\n",
       "      <th>16</th>\n",
       "      <td>2019-01-11</td>\n",
       "      <td>1100218.52</td>\n",
       "    </tr>\n",
       "    <tr>\n",
       "      <th>17</th>\n",
       "      <td>2019-01-12</td>\n",
       "      <td>874090.78</td>\n",
       "    </tr>\n",
       "    <tr>\n",
       "      <th>18</th>\n",
       "      <td>2019-01-13</td>\n",
       "      <td>696299.98</td>\n",
       "    </tr>\n",
       "    <tr>\n",
       "      <th>19</th>\n",
       "      <td>2019-01-14</td>\n",
       "      <td>990106.48</td>\n",
       "    </tr>\n",
       "    <tr>\n",
       "      <th>20</th>\n",
       "      <td>2019-01-15</td>\n",
       "      <td>1055924.96</td>\n",
       "    </tr>\n",
       "    <tr>\n",
       "      <th>21</th>\n",
       "      <td>2019-01-16</td>\n",
       "      <td>1159620.00</td>\n",
       "    </tr>\n",
       "    <tr>\n",
       "      <th>22</th>\n",
       "      <td>2019-01-17</td>\n",
       "      <td>1112984.79</td>\n",
       "    </tr>\n",
       "    <tr>\n",
       "      <th>23</th>\n",
       "      <td>2019-01-18</td>\n",
       "      <td>959680.30</td>\n",
       "    </tr>\n",
       "    <tr>\n",
       "      <th>24</th>\n",
       "      <td>2019-01-19</td>\n",
       "      <td>712285.90</td>\n",
       "    </tr>\n",
       "    <tr>\n",
       "      <th>25</th>\n",
       "      <td>2019-01-20</td>\n",
       "      <td>637656.42</td>\n",
       "    </tr>\n",
       "    <tr>\n",
       "      <th>26</th>\n",
       "      <td>2019-01-21</td>\n",
       "      <td>975296.67</td>\n",
       "    </tr>\n",
       "    <tr>\n",
       "      <th>27</th>\n",
       "      <td>2019-01-22</td>\n",
       "      <td>940588.88</td>\n",
       "    </tr>\n",
       "    <tr>\n",
       "      <th>28</th>\n",
       "      <td>2019-01-23</td>\n",
       "      <td>799593.12</td>\n",
       "    </tr>\n",
       "    <tr>\n",
       "      <th>29</th>\n",
       "      <td>2019-01-24</td>\n",
       "      <td>978429.88</td>\n",
       "    </tr>\n",
       "    <tr>\n",
       "      <th>...</th>\n",
       "      <td>...</td>\n",
       "      <td>...</td>\n",
       "    </tr>\n",
       "    <tr>\n",
       "      <th>336</th>\n",
       "      <td>2019-11-27</td>\n",
       "      <td>1085396.30</td>\n",
       "    </tr>\n",
       "    <tr>\n",
       "      <th>337</th>\n",
       "      <td>2019-11-28</td>\n",
       "      <td>1061717.20</td>\n",
       "    </tr>\n",
       "    <tr>\n",
       "      <th>338</th>\n",
       "      <td>2019-11-29</td>\n",
       "      <td>1044939.81</td>\n",
       "    </tr>\n",
       "    <tr>\n",
       "      <th>339</th>\n",
       "      <td>2019-11-30</td>\n",
       "      <td>990844.78</td>\n",
       "    </tr>\n",
       "    <tr>\n",
       "      <th>340</th>\n",
       "      <td>2019-12-01</td>\n",
       "      <td>856482.35</td>\n",
       "    </tr>\n",
       "    <tr>\n",
       "      <th>341</th>\n",
       "      <td>2019-12-02</td>\n",
       "      <td>1219225.76</td>\n",
       "    </tr>\n",
       "    <tr>\n",
       "      <th>342</th>\n",
       "      <td>2019-12-03</td>\n",
       "      <td>1286684.98</td>\n",
       "    </tr>\n",
       "    <tr>\n",
       "      <th>343</th>\n",
       "      <td>2019-12-04</td>\n",
       "      <td>1393579.23</td>\n",
       "    </tr>\n",
       "    <tr>\n",
       "      <th>344</th>\n",
       "      <td>2019-12-05</td>\n",
       "      <td>1271710.22</td>\n",
       "    </tr>\n",
       "    <tr>\n",
       "      <th>345</th>\n",
       "      <td>2019-12-06</td>\n",
       "      <td>1062289.93</td>\n",
       "    </tr>\n",
       "    <tr>\n",
       "      <th>346</th>\n",
       "      <td>2019-12-07</td>\n",
       "      <td>957354.72</td>\n",
       "    </tr>\n",
       "    <tr>\n",
       "      <th>347</th>\n",
       "      <td>2019-12-08</td>\n",
       "      <td>1142468.46</td>\n",
       "    </tr>\n",
       "    <tr>\n",
       "      <th>348</th>\n",
       "      <td>2019-12-09</td>\n",
       "      <td>1229693.71</td>\n",
       "    </tr>\n",
       "    <tr>\n",
       "      <th>349</th>\n",
       "      <td>2019-12-10</td>\n",
       "      <td>1268796.52</td>\n",
       "    </tr>\n",
       "    <tr>\n",
       "      <th>350</th>\n",
       "      <td>2019-12-11</td>\n",
       "      <td>1276059.43</td>\n",
       "    </tr>\n",
       "    <tr>\n",
       "      <th>351</th>\n",
       "      <td>2019-12-12</td>\n",
       "      <td>1522984.91</td>\n",
       "    </tr>\n",
       "    <tr>\n",
       "      <th>352</th>\n",
       "      <td>2019-12-13</td>\n",
       "      <td>1149173.10</td>\n",
       "    </tr>\n",
       "    <tr>\n",
       "      <th>353</th>\n",
       "      <td>2019-12-14</td>\n",
       "      <td>935773.28</td>\n",
       "    </tr>\n",
       "    <tr>\n",
       "      <th>354</th>\n",
       "      <td>2019-12-15</td>\n",
       "      <td>947812.63</td>\n",
       "    </tr>\n",
       "    <tr>\n",
       "      <th>355</th>\n",
       "      <td>2019-12-16</td>\n",
       "      <td>1361962.49</td>\n",
       "    </tr>\n",
       "    <tr>\n",
       "      <th>356</th>\n",
       "      <td>2019-12-17</td>\n",
       "      <td>1350669.63</td>\n",
       "    </tr>\n",
       "    <tr>\n",
       "      <th>357</th>\n",
       "      <td>2019-12-18</td>\n",
       "      <td>1369110.26</td>\n",
       "    </tr>\n",
       "    <tr>\n",
       "      <th>358</th>\n",
       "      <td>2019-12-19</td>\n",
       "      <td>1359027.11</td>\n",
       "    </tr>\n",
       "    <tr>\n",
       "      <th>359</th>\n",
       "      <td>2019-12-20</td>\n",
       "      <td>1472005.86</td>\n",
       "    </tr>\n",
       "    <tr>\n",
       "      <th>360</th>\n",
       "      <td>2019-12-21</td>\n",
       "      <td>907512.51</td>\n",
       "    </tr>\n",
       "    <tr>\n",
       "      <th>361</th>\n",
       "      <td>2019-12-22</td>\n",
       "      <td>1110091.70</td>\n",
       "    </tr>\n",
       "    <tr>\n",
       "      <th>362</th>\n",
       "      <td>2019-12-23</td>\n",
       "      <td>1537546.18</td>\n",
       "    </tr>\n",
       "    <tr>\n",
       "      <th>363</th>\n",
       "      <td>2019-12-24</td>\n",
       "      <td>1771646.95</td>\n",
       "    </tr>\n",
       "    <tr>\n",
       "      <th>364</th>\n",
       "      <td>2019-12-25</td>\n",
       "      <td>2850057.89</td>\n",
       "    </tr>\n",
       "    <tr>\n",
       "      <th>365</th>\n",
       "      <td>2019-12-26</td>\n",
       "      <td>1371407.67</td>\n",
       "    </tr>\n",
       "  </tbody>\n",
       "</table>\n",
       "<p>366 rows × 2 columns</p>\n",
       "</div>"
      ],
      "text/plain": [
       "      date_pay          bf\n",
       "0   2018-12-26  1137401.52\n",
       "1   2018-12-27  1178226.55\n",
       "2   2018-12-28  1037094.96\n",
       "3   2018-12-29  1001030.21\n",
       "4   2018-12-30   794357.91\n",
       "5   2018-12-31   935097.50\n",
       "6   2019-01-01   715735.30\n",
       "7   2019-01-02  1225583.68\n",
       "8   2019-01-03  1271064.00\n",
       "9   2019-01-04  1278249.74\n",
       "10  2019-01-05   858211.17\n",
       "11  2019-01-06   678040.07\n",
       "12  2019-01-07  1136247.94\n",
       "13  2019-01-08  1176343.79\n",
       "14  2019-01-09  1100516.78\n",
       "15  2019-01-10  1066257.18\n",
       "16  2019-01-11  1100218.52\n",
       "17  2019-01-12   874090.78\n",
       "18  2019-01-13   696299.98\n",
       "19  2019-01-14   990106.48\n",
       "20  2019-01-15  1055924.96\n",
       "21  2019-01-16  1159620.00\n",
       "22  2019-01-17  1112984.79\n",
       "23  2019-01-18   959680.30\n",
       "24  2019-01-19   712285.90\n",
       "25  2019-01-20   637656.42\n",
       "26  2019-01-21   975296.67\n",
       "27  2019-01-22   940588.88\n",
       "28  2019-01-23   799593.12\n",
       "29  2019-01-24   978429.88\n",
       "..         ...         ...\n",
       "336 2019-11-27  1085396.30\n",
       "337 2019-11-28  1061717.20\n",
       "338 2019-11-29  1044939.81\n",
       "339 2019-11-30   990844.78\n",
       "340 2019-12-01   856482.35\n",
       "341 2019-12-02  1219225.76\n",
       "342 2019-12-03  1286684.98\n",
       "343 2019-12-04  1393579.23\n",
       "344 2019-12-05  1271710.22\n",
       "345 2019-12-06  1062289.93\n",
       "346 2019-12-07   957354.72\n",
       "347 2019-12-08  1142468.46\n",
       "348 2019-12-09  1229693.71\n",
       "349 2019-12-10  1268796.52\n",
       "350 2019-12-11  1276059.43\n",
       "351 2019-12-12  1522984.91\n",
       "352 2019-12-13  1149173.10\n",
       "353 2019-12-14   935773.28\n",
       "354 2019-12-15   947812.63\n",
       "355 2019-12-16  1361962.49\n",
       "356 2019-12-17  1350669.63\n",
       "357 2019-12-18  1369110.26\n",
       "358 2019-12-19  1359027.11\n",
       "359 2019-12-20  1472005.86\n",
       "360 2019-12-21   907512.51\n",
       "361 2019-12-22  1110091.70\n",
       "362 2019-12-23  1537546.18\n",
       "363 2019-12-24  1771646.95\n",
       "364 2019-12-25  2850057.89\n",
       "365 2019-12-26  1371407.67\n",
       "\n",
       "[366 rows x 2 columns]"
      ]
     },
     "execution_count": 36,
     "metadata": {},
     "output_type": "execute_result"
    }
   ],
   "source": [
    "order_20.groupby('date_pay').bf.sum().reset_index()"
   ]
  },
  {
   "cell_type": "code",
   "execution_count": 40,
   "metadata": {
    "ExecuteTime": {
     "end_time": "2020-05-12T02:30:34.020096Z",
     "start_time": "2020-05-12T02:30:33.981172Z"
    }
   },
   "outputs": [
    {
     "name": "stderr",
     "output_type": "stream",
     "text": [
      "D:\\ProgramData\\Anaconda3\\lib\\site-packages\\pandas\\io\\clipboards.py:63: ParserWarning: Falling back to the 'python' engine because the 'c' engine does not support regex separators (separators > 1 char and different from '\\s+' are interpreted as regex); you can avoid this warning by specifying engine='python'.\n",
      "  return read_table(StringIO(text), sep=sep, **kwargs)\n"
     ]
    }
   ],
   "source": [
    "za_order = pd.read_clipboard()"
   ]
  },
  {
   "cell_type": "code",
   "execution_count": 44,
   "metadata": {
    "ExecuteTime": {
     "end_time": "2020-05-12T02:30:56.295502Z",
     "start_time": "2020-05-12T02:30:56.029212Z"
    }
   },
   "outputs": [],
   "source": [
    "res = pd.merge(za_order,order_20[['order_origin','bf']],how='left',on='order_origin')"
   ]
  },
  {
   "cell_type": "code",
   "execution_count": 57,
   "metadata": {
    "ExecuteTime": {
     "end_time": "2020-05-12T02:45:20.186952Z",
     "start_time": "2020-05-12T02:45:20.176979Z"
    }
   },
   "outputs": [
    {
     "data": {
      "text/html": [
       "<div>\n",
       "<style scoped>\n",
       "    .dataframe tbody tr th:only-of-type {\n",
       "        vertical-align: middle;\n",
       "    }\n",
       "\n",
       "    .dataframe tbody tr th {\n",
       "        vertical-align: top;\n",
       "    }\n",
       "\n",
       "    .dataframe thead th {\n",
       "        text-align: right;\n",
       "    }\n",
       "</style>\n",
       "<table border=\"1\" class=\"dataframe\">\n",
       "  <thead>\n",
       "    <tr style=\"text-align: right;\">\n",
       "      <th></th>\n",
       "      <th>order_origin</th>\n",
       "      <th>bf_za</th>\n",
       "      <th>bf</th>\n",
       "    </tr>\n",
       "  </thead>\n",
       "  <tbody>\n",
       "    <tr>\n",
       "      <th>7801</th>\n",
       "      <td>IH1100351698437124</td>\n",
       "      <td>2.104109</td>\n",
       "      <td>256.0</td>\n",
       "    </tr>\n",
       "  </tbody>\n",
       "</table>\n",
       "</div>"
      ],
      "text/plain": [
       "            order_origin     bf_za     bf\n",
       "7801  IH1100351698437124  2.104109  256.0"
      ]
     },
     "execution_count": 57,
     "metadata": {},
     "output_type": "execute_result"
    }
   ],
   "source": [
    "res.loc[res.order_origin =='IH1100351698437124',:]"
   ]
  },
  {
   "cell_type": "code",
   "execution_count": 58,
   "metadata": {
    "ExecuteTime": {
     "end_time": "2020-05-12T02:46:51.677329Z",
     "start_time": "2020-05-12T02:46:51.667325Z"
    }
   },
   "outputs": [
    {
     "data": {
      "text/html": [
       "<div>\n",
       "<style scoped>\n",
       "    .dataframe tbody tr th:only-of-type {\n",
       "        vertical-align: middle;\n",
       "    }\n",
       "\n",
       "    .dataframe tbody tr th {\n",
       "        vertical-align: top;\n",
       "    }\n",
       "\n",
       "    .dataframe thead th {\n",
       "        text-align: right;\n",
       "    }\n",
       "</style>\n",
       "<table border=\"1\" class=\"dataframe\">\n",
       "  <thead>\n",
       "    <tr style=\"text-align: right;\">\n",
       "      <th></th>\n",
       "      <th>order_origin</th>\n",
       "      <th>bf_za</th>\n",
       "      <th>bf</th>\n",
       "    </tr>\n",
       "  </thead>\n",
       "  <tbody>\n",
       "    <tr>\n",
       "      <th>11</th>\n",
       "      <td>IH1100348125120767</td>\n",
       "      <td>1576.0</td>\n",
       "      <td>1576.0</td>\n",
       "    </tr>\n",
       "    <tr>\n",
       "      <th>12</th>\n",
       "      <td>IH1100348128853406</td>\n",
       "      <td>466.0</td>\n",
       "      <td>466.0</td>\n",
       "    </tr>\n",
       "    <tr>\n",
       "      <th>13</th>\n",
       "      <td>IH1100348128945530</td>\n",
       "      <td>146.0</td>\n",
       "      <td>146.0</td>\n",
       "    </tr>\n",
       "    <tr>\n",
       "      <th>14</th>\n",
       "      <td>IH1100348128496621</td>\n",
       "      <td>176.0</td>\n",
       "      <td>176.0</td>\n",
       "    </tr>\n",
       "    <tr>\n",
       "      <th>15</th>\n",
       "      <td>IH1100348133168720</td>\n",
       "      <td>166.0</td>\n",
       "      <td>176.0</td>\n",
       "    </tr>\n",
       "  </tbody>\n",
       "</table>\n",
       "</div>"
      ],
      "text/plain": [
       "          order_origin   bf_za      bf\n",
       "11  IH1100348125120767  1576.0  1576.0\n",
       "12  IH1100348128853406   466.0   466.0\n",
       "13  IH1100348128945530   146.0   146.0\n",
       "14  IH1100348128496621   176.0   176.0\n",
       "15  IH1100348133168720   166.0   176.0"
      ]
     },
     "execution_count": 58,
     "metadata": {},
     "output_type": "execute_result"
    }
   ],
   "source": [
    "res.loc[res.bf.notna(),:].head()"
   ]
  },
  {
   "cell_type": "code",
   "execution_count": 59,
   "metadata": {
    "ExecuteTime": {
     "end_time": "2020-05-12T02:47:40.023050Z",
     "start_time": "2020-05-12T02:47:40.018033Z"
    }
   },
   "outputs": [],
   "source": [
    "need =res.loc[res.bf.isna(),:].order_origin.unique()"
   ]
  },
  {
   "cell_type": "code",
   "execution_count": 60,
   "metadata": {
    "ExecuteTime": {
     "end_time": "2020-05-12T02:47:45.793596Z",
     "start_time": "2020-05-12T02:47:45.788623Z"
    }
   },
   "outputs": [
    {
     "data": {
      "text/plain": [
       "array(['IH1100348088875928', 'IH1100348089572816', 'IH1100348090709119',\n",
       "       ..., 'IH1100351947926540', 'IH1100351962163955',\n",
       "       'IH1100351962662104'], dtype=object)"
      ]
     },
     "execution_count": 60,
     "metadata": {},
     "output_type": "execute_result"
    }
   ],
   "source": [
    "need"
   ]
  },
  {
   "cell_type": "code",
   "execution_count": 69,
   "metadata": {
    "ExecuteTime": {
     "end_time": "2020-05-12T03:07:42.397388Z",
     "start_time": "2020-05-12T02:50:24.509170Z"
    }
   },
   "outputs": [
    {
     "name": "stdout",
     "output_type": "stream",
     "text": [
      "IH1100349068552713 0\n",
      "IH1100349067886828 0\n",
      "IH1100349070731859 0\n",
      "IH1100349071143607 0\n",
      "IH1100349070734608 0\n",
      "IH1100349071147929 0\n",
      "IH1100349070395038 0\n",
      "IH1100349070734572 0\n",
      "IH1100349071899279 0\n",
      "IH1100349073517516 0\n",
      "IH1100349073526912 0\n",
      "IH1100349073186506 0\n",
      "IH1100349073432687 0\n",
      "IH1100349074180166 0\n",
      "IH1100349075074052 0\n",
      "IH1100349074733751 0\n",
      "IH1100349074740968 0\n",
      "IH1100349076009523 0\n",
      "IH1100349075353448 0\n",
      "IH1100349078202005 0\n",
      "IH1100349078215554 0\n",
      "IH1100349078609134 0\n",
      "IH1100349078469192 0\n",
      "IH1100349078469059 0\n",
      "IH1100349080146473 0\n",
      "IH1100349079758618 0\n",
      "IH1100349079412161 0\n",
      "IH1100349080146340 0\n",
      "IH1100349080146811 0\n",
      "IH1100349080594279 0\n",
      "IH1100349082514352 0\n",
      "IH1100349083134049 0\n",
      "IH1100349083298762 0\n",
      "IH1100349083606994 0\n",
      "IH1100349083848124 0\n",
      "IH1100349084199128 0\n",
      "IH1100349084578152 0\n",
      "IH1100349084199430 0\n",
      "IH1100349084578454 0\n",
      "IH1100349083848390 0\n",
      "IH1100349084996567 0\n",
      "IH1100349085271319 0\n",
      "IH1100349087228688 0\n",
      "IH1100349089505429 0\n",
      "IH1100349089911131 0\n",
      "IH1100349089915888 0\n",
      "IH1100349090636349 0\n",
      "IH1100349090279231 0\n",
      "IH1100349090832225 0\n",
      "IH1100349090833665 0\n",
      "IH1100349092467678 0\n",
      "IH1100349093114974 0\n",
      "IH1100349094012591 0\n",
      "IH1100349094423221 0\n",
      "IH1100349096019150 0\n",
      "IH1100349095356800 0\n",
      "IH1100349095362408 0\n",
      "IH1100349097647286 0\n",
      "IH1100349098516855 0\n",
      "IH1100349099902725 0\n",
      "IH1100349099404844 0\n",
      "IH1100349099406854 0\n",
      "IH1100349101394601 0\n",
      "IH1100349100895735 0\n",
      "IH1100349102510317 0\n",
      "IH1100349102210890 0\n",
      "IH1100349102214209 0\n",
      "IH1100349101739863 0\n",
      "IH1100349105008052 0\n",
      "IH1100349105010981 0\n",
      "IH1100349105519953 0\n",
      "IH1100349104552513 0\n",
      "IH1100349104749176 0\n",
      "IH1100349105913715 0\n",
      "IH1100349105912372 0\n",
      "IH1100349106911395 0\n",
      "IH1100349106425188 0\n",
      "IH1100349111593673 0\n",
      "IH1100349112816861 0\n",
      "IH1100349113286384 0\n",
      "IH1100349113570854 0\n",
      "IH1100349115741719 0\n",
      "IH1100349115315517 0\n",
      "IH1100349116272989 0\n",
      "IH1100349115461620 0\n",
      "IH1100349116919084 0\n",
      "IH1100349120747150 0\n",
      "IH1100349123304538 0\n",
      "IH1100349126001346 0\n",
      "IH1100349125442946 0\n",
      "IH1100349125518476 0\n",
      "IH1100349173217466 0\n",
      "IH1100349173220663 0\n",
      "IH1100349173456149 0\n",
      "IH1100349174803401 0\n",
      "IH1100349181713027 0\n",
      "IH1100349182116382 0\n",
      "IH1100349181371783 0\n",
      "IH1100349185123622 0\n",
      "IH1100349185123453 0\n",
      "IH1100349186632804 0\n",
      "IH1100349187527792 0\n",
      "IH1100349187382861 0\n",
      "IH1100349187391484 0\n",
      "IH1100349189058691 0\n",
      "IH1100349188652454 0\n",
      "IH1100349189304340 0\n",
      "IH1100349189341987 0\n",
      "IH1100349189966028 0\n",
      "IH1100349192030100 0\n",
      "IH1100349191862193 0\n",
      "IH1100349192660955 0\n",
      "IH1100349193073708 0\n",
      "IH1100349192863262 0\n",
      "IH1100349193077088 0\n",
      "IH1100349192469536 0\n",
      "IH1100349194532492 0\n",
      "IH1100349193924771 0\n",
      "IH1100349193925341 0\n",
      "IH1100349195882273 0\n",
      "IH1100349196507783 0\n",
      "IH1100349196519022 0\n",
      "IH1100349198290190 0\n",
      "IH1100349198847662 0\n",
      "IH1100349199078671 0\n",
      "IH1100349199289369 0\n",
      "IH1100349200471670 0\n",
      "IH1100349201662838 0\n",
      "IH1100349203559332 0\n",
      "IH1100349204342330 0\n",
      "IH1100349203979153 0\n",
      "IH1100349204724707 0\n",
      "IH1100349206127051 0\n",
      "IH1100349206847471 0\n",
      "IH1100349207208625 0\n",
      "IH1100349208049119 0\n",
      "IH1100349207781029 0\n",
      "IH1100349212513796 0\n",
      "IH1100349212519391 0\n",
      "IH1100349217060123 0\n",
      "IH1100349216399396 0\n",
      "IH1100349216437664 0\n",
      "IH1100349219416013 0\n",
      "IH1100349219985254 0\n",
      "IH1100349224158864 0\n",
      "IH1100349225288551 0\n",
      "IH1100349226214941 0\n",
      "IH1100349226215475 0\n",
      "IH1100349226516946 0\n",
      "IH1100349229845918 0\n",
      "IH1100349233113765 0\n",
      "IH1100349236589832 0\n",
      "IH1100349242404384 0\n",
      "IH1100349243091155 0\n",
      "IH1100349299500716 0\n",
      "IH1100349299801547 0\n",
      "IH1100349411434502 0\n",
      "IH1100349725434796 0\n",
      "IH1100349967299492 0\n",
      "IH1100350058895732 0\n",
      "IH1100350502635318 0\n",
      "IH1100350533826528 0\n",
      "IH1100350568599424 0\n",
      "IH1100350569074507 0\n",
      "IH1100350569539160 0\n",
      "IH1100350569539293 0\n",
      "IH1100350902223119 0\n",
      "IH1100350979023027 0\n",
      "IH1100350983210253 0\n",
      "IH1100350982325616 0\n",
      "IH1100350982737185 0\n",
      "IH1100351774570019 0\n",
      "IH1100351775057456 0\n",
      "IH1100351778854553 0\n",
      "IH1100351780643787 0\n",
      "IH1100351780670681 0\n",
      "IH1100351781285508 0\n",
      "IH1100351780437740 0\n",
      "IH1100351782426477 0\n",
      "IH1100351783003902 0\n",
      "IH1100351783008556 0\n",
      "IH1100351784304758 0\n",
      "IH1100351783456183 0\n",
      "IH1100351785079696 0\n",
      "IH1100351784883763 0\n",
      "IH1100351785744605 0\n",
      "IH1100351786533049 0\n",
      "IH1100351786100083 0\n",
      "IH1100351786349890 0\n",
      "IH1100351786350225 0\n",
      "IH1100351786783288 0\n",
      "IH1100351786783318 0\n",
      "IH1100351787208265 0\n",
      "IH1100351788954150 0\n",
      "IH1100351789101237 0\n",
      "IH1100351789331690 0\n",
      "IH1100351790192585 0\n",
      "IH1100351791010091 0\n",
      "IH1100351794194809 0\n",
      "IH1100351795879073 0\n",
      "IH1100351798809395 0\n",
      "IH1100351798350991 0\n",
      "IH1100351800936984 0\n",
      "IH1100351804338978 0\n",
      "IH1100351806057578 0\n",
      "IH1100351806696748 0\n",
      "IH1100351807294247 0\n",
      "IH1100351811160731 0\n",
      "IH1100351813011266 0\n",
      "IH1100351814126145 0\n",
      "IH1100351813253952 0\n",
      "IH1100351813489691 0\n",
      "IH1100351813961726 0\n",
      "IH1100351814361710 0\n",
      "IH1100351814381877 0\n",
      "IH1100351814510773 0\n",
      "IH1100351813983127 0\n",
      "IH1100351817117406 0\n",
      "IH1100351816721618 0\n",
      "IH1100351817118957 0\n",
      "IH1100351816490675 0\n",
      "IH1100351817758729 0\n",
      "IH1100351820188104 0\n",
      "IH1100351819315954 0\n",
      "IH1100351820598563 0\n",
      "IH1100351820475118 0\n",
      "IH1100351824212232 0\n",
      "IH1100351825950131 0\n",
      "IH1100351827595550 0\n",
      "IH1100351835168637 0\n",
      "IH1100351834307812 0\n",
      "IH1100351835537091 0\n",
      "IH1100351839863112 0\n",
      "IH1100351840684977 0\n",
      "IH1100351845152689 0\n",
      "IH1100351845544126 0\n",
      "IH1100351844664190 0\n",
      "IH1100351847599436 0\n"
     ]
    }
   ],
   "source": [
    "for x in need:\n",
    "    need_res = order_20.loc[(order_20.order_origin.str.contains(x))\n",
    "             & (order_20.order_origin.notna()),:].order.nunique()\n",
    "    if need_res ==0:\n",
    "        print(x,need_res)"
   ]
  },
  {
   "cell_type": "code",
   "execution_count": 54,
   "metadata": {
    "ExecuteTime": {
     "end_time": "2020-05-12T02:42:53.145152Z",
     "start_time": "2020-05-12T02:42:52.651495Z"
    }
   },
   "outputs": [
    {
     "data": {
      "text/html": [
       "<div>\n",
       "<style scoped>\n",
       "    .dataframe tbody tr th:only-of-type {\n",
       "        vertical-align: middle;\n",
       "    }\n",
       "\n",
       "    .dataframe tbody tr th {\n",
       "        vertical-align: top;\n",
       "    }\n",
       "\n",
       "    .dataframe thead th {\n",
       "        text-align: right;\n",
       "    }\n",
       "</style>\n",
       "<table border=\"1\" class=\"dataframe\">\n",
       "  <thead>\n",
       "    <tr style=\"text-align: right;\">\n",
       "      <th></th>\n",
       "      <th>order</th>\n",
       "      <th>order_origin</th>\n",
       "      <th>pname</th>\n",
       "      <th>bf</th>\n",
       "    </tr>\n",
       "  </thead>\n",
       "  <tbody>\n",
       "    <tr>\n",
       "      <th>522556</th>\n",
       "      <td>202004261317909207</td>\n",
       "      <td>IH1100351962163955,IH1100351962662104</td>\n",
       "      <td>众安尊享e生2020版</td>\n",
       "      <td>731.0</td>\n",
       "    </tr>\n",
       "  </tbody>\n",
       "</table>\n",
       "</div>"
      ],
      "text/plain": [
       "                     order                           order_origin  \\\n",
       "522556  202004261317909207  IH1100351962163955,IH1100351962662104   \n",
       "\n",
       "              pname     bf  \n",
       "522556  众安尊享e生2020版  731.0  "
      ]
     },
     "execution_count": 54,
     "metadata": {},
     "output_type": "execute_result"
    }
   ],
   "source": [
    "order_20.loc[(order_20.order_origin.str.contains('IH1100351962662104'))\n",
    "             & (order_20.order_origin.notna()),['order','order_origin','pname','bf']]"
   ]
  },
  {
   "cell_type": "code",
   "execution_count": 66,
   "metadata": {
    "ExecuteTime": {
     "end_time": "2020-05-12T02:49:27.285235Z",
     "start_time": "2020-05-12T02:49:26.747628Z"
    }
   },
   "outputs": [],
   "source": [
    "need_res = order_20.loc[(order_20.order_origin.str.contains('IHKB1100351962662104'))\n",
    "             & (order_20.order_origin.notna()),:].order.nunique()"
   ]
  },
  {
   "cell_type": "code",
   "execution_count": 67,
   "metadata": {
    "ExecuteTime": {
     "end_time": "2020-05-12T02:49:28.078084Z",
     "start_time": "2020-05-12T02:49:28.075080Z"
    }
   },
   "outputs": [
    {
     "data": {
      "text/plain": [
       "0"
      ]
     },
     "execution_count": 67,
     "metadata": {},
     "output_type": "execute_result"
    }
   ],
   "source": [
    "need_res"
   ]
  },
  {
   "cell_type": "code",
   "execution_count": 48,
   "metadata": {
    "ExecuteTime": {
     "end_time": "2020-05-12T02:32:42.912399Z",
     "start_time": "2020-05-12T02:32:42.811669Z"
    }
   },
   "outputs": [
    {
     "data": {
      "text/html": [
       "<div>\n",
       "<style scoped>\n",
       "    .dataframe tbody tr th:only-of-type {\n",
       "        vertical-align: middle;\n",
       "    }\n",
       "\n",
       "    .dataframe tbody tr th {\n",
       "        vertical-align: top;\n",
       "    }\n",
       "\n",
       "    .dataframe thead th {\n",
       "        text-align: right;\n",
       "    }\n",
       "</style>\n",
       "<table border=\"1\" class=\"dataframe\">\n",
       "  <thead>\n",
       "    <tr style=\"text-align: right;\">\n",
       "      <th></th>\n",
       "      <th>pname</th>\n",
       "      <th>bf</th>\n",
       "    </tr>\n",
       "  </thead>\n",
       "  <tbody>\n",
       "    <tr>\n",
       "      <th>3</th>\n",
       "      <td>众安尊享e生2020版</td>\n",
       "      <td>2412830.0</td>\n",
       "    </tr>\n",
       "    <tr>\n",
       "      <th>2</th>\n",
       "      <td>众安尊享e生2019版</td>\n",
       "      <td>2177686.0</td>\n",
       "    </tr>\n",
       "    <tr>\n",
       "      <th>5</th>\n",
       "      <td>众安尊享e生爸妈版</td>\n",
       "      <td>262072.0</td>\n",
       "    </tr>\n",
       "    <tr>\n",
       "      <th>4</th>\n",
       "      <td>众安尊享e生旗舰版</td>\n",
       "      <td>210954.0</td>\n",
       "    </tr>\n",
       "    <tr>\n",
       "      <th>0</th>\n",
       "      <td>众安尊享e生(优甲版)</td>\n",
       "      <td>23580.0</td>\n",
       "    </tr>\n",
       "    <tr>\n",
       "      <th>1</th>\n",
       "      <td>众安尊享e生(城市版)</td>\n",
       "      <td>6408.0</td>\n",
       "    </tr>\n",
       "  </tbody>\n",
       "</table>\n",
       "</div>"
      ],
      "text/plain": [
       "         pname         bf\n",
       "3  众安尊享e生2020版  2412830.0\n",
       "2  众安尊享e生2019版  2177686.0\n",
       "5    众安尊享e生爸妈版   262072.0\n",
       "4    众安尊享e生旗舰版   210954.0\n",
       "0  众安尊享e生(优甲版)    23580.0\n",
       "1  众安尊享e生(城市版)     6408.0"
      ]
     },
     "execution_count": 48,
     "metadata": {},
     "output_type": "execute_result"
    }
   ],
   "source": [
    "sdate = pd.to_datetime('2020-03-23')\n",
    "edate = pd.to_datetime('2020-04-26')\n",
    "plist = ['众安尊享e生2020版','众安尊享e生2019版','众安尊享e生(优甲版)','众安尊享e生(城市版)','众安尊享e生爸妈版','众安尊享e生旗舰版']\n",
    "order_20.loc[(order_20.date_pay >= sdate) & (order_20.date_pay <=edate) & (order_20.pname.isin(plist)),:].groupby('pname').bf.sum().reset_index().sort_values('bf',ascending=False)"
   ]
  },
  {
   "cell_type": "code",
   "execution_count": 71,
   "metadata": {
    "ExecuteTime": {
     "end_time": "2020-05-12T03:11:14.216985Z",
     "start_time": "2020-05-12T03:11:13.681383Z"
    }
   },
   "outputs": [
    {
     "data": {
      "text/html": [
       "<div>\n",
       "<style scoped>\n",
       "    .dataframe tbody tr th:only-of-type {\n",
       "        vertical-align: middle;\n",
       "    }\n",
       "\n",
       "    .dataframe tbody tr th {\n",
       "        vertical-align: top;\n",
       "    }\n",
       "\n",
       "    .dataframe thead th {\n",
       "        text-align: right;\n",
       "    }\n",
       "</style>\n",
       "<table border=\"1\" class=\"dataframe\">\n",
       "  <thead>\n",
       "    <tr style=\"text-align: right;\">\n",
       "      <th></th>\n",
       "      <th>order</th>\n",
       "      <th>order_origin</th>\n",
       "      <th>pname</th>\n",
       "      <th>bf</th>\n",
       "    </tr>\n",
       "  </thead>\n",
       "  <tbody>\n",
       "  </tbody>\n",
       "</table>\n",
       "</div>"
      ],
      "text/plain": [
       "Empty DataFrame\n",
       "Columns: [order, order_origin, pname, bf]\n",
       "Index: []"
      ]
     },
     "execution_count": 71,
     "metadata": {},
     "output_type": "execute_result"
    }
   ],
   "source": [
    "order_2020_all.loc[(order_2020_all.order_origin.str.contains('IH1100351816490675'))\n",
    "             & (order_2020_all.order_origin.notna()),['order','order_origin','pname','bf']]"
   ]
  },
  {
   "cell_type": "code",
   "execution_count": 40,
   "metadata": {
    "ExecuteTime": {
     "end_time": "2020-05-19T02:47:40.394070Z",
     "start_time": "2020-05-19T02:47:39.677984Z"
    }
   },
   "outputs": [
    {
     "data": {
      "text/html": [
       "<div>\n",
       "<style scoped>\n",
       "    .dataframe tbody tr th:only-of-type {\n",
       "        vertical-align: middle;\n",
       "    }\n",
       "\n",
       "    .dataframe tbody tr th {\n",
       "        vertical-align: top;\n",
       "    }\n",
       "\n",
       "    .dataframe thead th {\n",
       "        text-align: right;\n",
       "    }\n",
       "</style>\n",
       "<table border=\"1\" class=\"dataframe\">\n",
       "  <thead>\n",
       "    <tr style=\"text-align: right;\">\n",
       "      <th></th>\n",
       "      <th>pname</th>\n",
       "      <th>bf</th>\n",
       "    </tr>\n",
       "  </thead>\n",
       "  <tbody>\n",
       "    <tr>\n",
       "      <th>0</th>\n",
       "      <td>富德生命大富翁年金保险</td>\n",
       "      <td>40000.0</td>\n",
       "    </tr>\n",
       "  </tbody>\n",
       "</table>\n",
       "</div>"
      ],
      "text/plain": [
       "         pname       bf\n",
       "0  富德生命大富翁年金保险  40000.0"
      ]
     },
     "execution_count": 40,
     "metadata": {},
     "output_type": "execute_result"
    }
   ],
   "source": [
    "order_20.loc[order_20.plabel_need.isna(),:].groupby('pname').bf.sum().reset_index()"
   ]
  },
  {
   "cell_type": "code",
   "execution_count": 44,
   "metadata": {
    "ExecuteTime": {
     "end_time": "2020-05-19T02:49:56.971901Z",
     "start_time": "2020-05-19T02:49:56.080279Z"
    }
   },
   "outputs": [],
   "source": [
    "order_20.loc[(order_20.plabel_need.str.contains('重疾')) & (order_20.plabel_term ==1) & (order_20.plabel_need.notna()),:].groupby('uid').agg({'order':'count','bf':'sum'}).to_excel('12.xlsx')"
   ]
  },
  {
   "cell_type": "code",
   "execution_count": 47,
   "metadata": {
    "ExecuteTime": {
     "end_time": "2020-05-19T03:51:16.208368Z",
     "start_time": "2020-05-19T03:51:16.203381Z"
    }
   },
   "outputs": [
    {
     "data": {
      "text/plain": [
       "Index(['order', 'order_origin', 'order_stat', 'time_order', 'time_pay',\n",
       "       'time_cb', 'time_start', 'time_end', 'pcode', 'pid', 'pname',\n",
       "       'pcompany', 'plan', 'pay_way', 'channel_src', 'channel_detail',\n",
       "       'batch_id', 'order_renew_src', 'is_self', 'bf', 'tgf_rate_A',\n",
       "       'tgf_rate_B', 'tgf_A', 'tgf_B', 'tgf_tax', 'tjf_tax', 'tjf', 'tgf_b1',\n",
       "       'tgf_b2', 'money_add', 'ticket_code', 'ticket_name', 'ticket_rate',\n",
       "       'money_top', 'ticket_value', 'tgf_X', 'uid', 'order_origin_uid',\n",
       "       'uname', 'ucell', 'uprov', 'ucity', 'uarea', 'is_insider', 'ucode',\n",
       "       'time_join', 'area_type', 'area_work', 'area_service_id',\n",
       "       'area_service', 'team_sale_id', 'team_sale_name', 'team_bus_id',\n",
       "       'team_bus_name', 'tj_name', 'tj_uid', 'tj_cell', 'tj_prov', 'tj_city',\n",
       "       'tj_area', 'tj_area_work', 'tj_area_service', 'tb_name', 'tb_id_type',\n",
       "       'tb_id', 'tb_email', 'tb_cell', 'relation', 'bb_name', 'bb_id_type',\n",
       "       'bb_id', 'date_pay', 'mon', 'plabel_L1', 'plabel_L2', 'plabel_term',\n",
       "       'plabel', 'plabel_need', 'plabel_renew', 'plabel_stat'],\n",
       "      dtype='object')"
      ]
     },
     "execution_count": 47,
     "metadata": {},
     "output_type": "execute_result"
    }
   ],
   "source": [
    "order_20.columns"
   ]
  },
  {
   "cell_type": "code",
   "execution_count": 49,
   "metadata": {
    "ExecuteTime": {
     "end_time": "2020-05-19T03:52:04.648872Z",
     "start_time": "2020-05-19T03:52:02.129604Z"
    }
   },
   "outputs": [],
   "source": [
    "order_20.groupby(['date_pay','plabel_need','pname']).bf.sum().reset_index().to_excel('12.xlsx')"
   ]
  }
 ],
 "metadata": {
  "hide_input": false,
  "kernelspec": {
   "display_name": "Python 3",
   "language": "python",
   "name": "python3"
  },
  "language_info": {
   "codemirror_mode": {
    "name": "ipython",
    "version": 3
   },
   "file_extension": ".py",
   "mimetype": "text/x-python",
   "name": "python",
   "nbconvert_exporter": "python",
   "pygments_lexer": "ipython3",
   "version": "3.7.6"
  },
  "toc": {
   "base_numbering": 1,
   "nav_menu": {
    "height": "20px",
    "width": "160px"
   },
   "number_sections": true,
   "sideBar": true,
   "skip_h1_title": false,
   "title_cell": "Table of Contents",
   "title_sidebar": "Contents",
   "toc_cell": false,
   "toc_position": {
    "height": "851px",
    "left": "74px",
    "top": "144px",
    "width": "300.844px"
   },
   "toc_section_display": true,
   "toc_window_display": true
  }
 },
 "nbformat": 4,
 "nbformat_minor": 2
}
