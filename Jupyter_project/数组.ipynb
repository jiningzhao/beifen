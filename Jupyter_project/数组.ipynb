{
 "cells": [
  {
   "cell_type": "markdown",
   "metadata": {},
   "source": [
    "# 创建一个列表和一个数组"
   ]
  },
  {
   "cell_type": "code",
   "execution_count": 3,
   "metadata": {},
   "outputs": [
    {
     "name": "stdout",
     "output_type": "stream",
     "text": [
      "<class 'numpy.ndarray'>\n",
      "1\n",
      "[5 7]\n"
     ]
    }
   ],
   "source": [
    "import numpy as np\n",
    "LIST = [1,3,5,7]\n",
    "ARR = np.array(LIST)\n",
    "\n",
    "print(type(ARR)) # <class 'numpy.ndarray'>\n",
    "\n",
    "print(ARR[0]) # 1\n",
    "\n",
    "print(ARR[2:]) # [5 7]"
   ]
  },
  {
   "cell_type": "markdown",
   "metadata": {},
   "source": [
    "----\n",
    "**列表与数组的区别:**\n",
    "**首要区别：列表元素可以是任意类型的元素，数组元素必须是相同类型**"
   ]
  },
  {
   "cell_type": "code",
   "execution_count": 4,
   "metadata": {},
   "outputs": [
    {
     "name": "stdout",
     "output_type": "stream",
     "text": [
      "int64\n"
     ]
    }
   ],
   "source": [
    "print(ARR.dtype) # int64"
   ]
  },
  {
   "cell_type": "markdown",
   "metadata": {},
   "source": [
    "----\n",
    "**一旦创建了一个数组，那它的dtype也就固定了，它只能储存相同类型的元素，\n",
    "这时候如果储存一个浮点数类型，系统会自动将其转化为浮点数类型**"
   ]
  },
  {
   "cell_type": "code",
   "execution_count": 5,
   "metadata": {},
   "outputs": [
    {
     "name": "stdout",
     "output_type": "stream",
     "text": [
      "[1 3 5 1]\n"
     ]
    }
   ],
   "source": [
    "ARR[-1] = 1.934\n",
    "print(ARR) # [1 3 5 1]"
   ]
  },
  {
   "cell_type": "markdown",
   "metadata": {},
   "source": [
    "# 数组的创建"
   ]
  },
  {
   "cell_type": "code",
   "execution_count": 6,
   "metadata": {},
   "outputs": [
    {
     "name": "stdout",
     "output_type": "stream",
     "text": [
      "[0. 0. 0. 0. 0.]\n"
     ]
    }
   ],
   "source": [
    "a0 = np.zeros(5,dtype=float)\n",
    "print(a0) # [0. 0. 0. 0. 0.]"
   ]
  },
  {
   "cell_type": "code",
   "execution_count": 7,
   "metadata": {},
   "outputs": [
    {
     "name": "stdout",
     "output_type": "stream",
     "text": [
      "[1 1 1 1 1]\n"
     ]
    }
   ],
   "source": [
    "a1 = np.ones(5,dtype=int)\n",
    "print(a1) # [1 1 1 1 1]"
   ]
  },
  {
   "cell_type": "code",
   "execution_count": 8,
   "metadata": {},
   "outputs": [
    {
     "name": "stdout",
     "output_type": "stream",
     "text": [
      "[5.5 5.5 5.5 5.5]\n"
     ]
    }
   ],
   "source": [
    "a3 = np.empty(4) # 产生的值都是空值\n",
    "a3.fill(5.5) # 填充值为5.5\n",
    "print(a3) # [5.5 5.5 5.5 5.5]"
   ]
  },
  {
   "cell_type": "markdown",
   "metadata": {},
   "source": [
    "---\n",
    "**创建常用的随机数字的数组，np.random模块包含愈多可用于创建随机数组的函数。**\n",
    "**下面是生成一个服从标准正态分布（均值为0方差为1）的5个随机数样本数组:**"
   ]
  },
  {
   "cell_type": "code",
   "execution_count": 9,
   "metadata": {},
   "outputs": [
    {
     "name": "stdout",
     "output_type": "stream",
     "text": [
      "[ 0.47882348  0.0284257   1.66867212  1.16974572 -1.00987525]\n"
     ]
    }
   ],
   "source": [
    "a4 = np.random.randn(5)\n",
    "print(a4)"
   ]
  },
  {
   "cell_type": "markdown",
   "metadata": {},
   "source": [
    "# 多维数组"
   ]
  },
  {
   "cell_type": "markdown",
   "metadata": {},
   "source": [
    "---\n",
    "**生成二维数组**"
   ]
  },
  {
   "cell_type": "code",
   "execution_count": 10,
   "metadata": {},
   "outputs": [
    {
     "name": "stdout",
     "output_type": "stream",
     "text": [
      "[[1 2]\n",
      " [3 4]]\n"
     ]
    }
   ],
   "source": [
    "LIST2 = [[1,2],[3,4]]\n",
    "ARR2 = np.array(LIST2)\n",
    "print(ARR2)"
   ]
  },
  {
   "cell_type": "markdown",
   "metadata": {},
   "source": [
    "---\n",
    "**分别返回列表和数组中的“2”**\n",
    "\n",
    "**数组的索引更为自然**"
   ]
  },
  {
   "cell_type": "code",
   "execution_count": 18,
   "metadata": {},
   "outputs": [
    {
     "name": "stdout",
     "output_type": "stream",
     "text": [
      "2\n",
      "2\n",
      "[1 2]\n",
      "[2 4]\n"
     ]
    }
   ],
   "source": [
    "print(LIST2[0][1])\n",
    "print(ARR2[0,1])\n",
    "print(ARR2[0,:]) # 获得第一行所有元素\n",
    "print(ARR2[:,1]) # 获得第二列所有元素\n",
    "print()"
   ]
  },
  {
   "cell_type": "markdown",
   "metadata": {},
   "source": [
    "---\n",
    "**返回2行3列的array，且值全部为0**"
   ]
  },
  {
   "cell_type": "code",
   "execution_count": 13,
   "metadata": {},
   "outputs": [
    {
     "name": "stdout",
     "output_type": "stream",
     "text": [
      "[[0. 0. 0.]\n",
      " [0. 0. 0.]]\n"
     ]
    }
   ],
   "source": [
    "a5 = np.zeros((2,3),dtype=float)\n",
    "print(a5)"
   ]
  },
  {
   "cell_type": "markdown",
   "metadata": {},
   "source": [
    "---\n",
    "**返回2行4列的array，且值为均值为10，标准差为3的正态分布的随机数**"
   ]
  },
  {
   "cell_type": "code",
   "execution_count": 14,
   "metadata": {},
   "outputs": [
    {
     "name": "stdout",
     "output_type": "stream",
     "text": [
      "[[16.10601005  8.17381585 11.06139679  4.64466494]\n",
      " [ 6.05995598  6.52111227  5.77300574  6.67457172]]\n"
     ]
    }
   ],
   "source": [
    "a6 = np.random.normal(10,3,(2,4))\n",
    "print(a6)"
   ]
  },
  {
   "cell_type": "markdown",
   "metadata": {},
   "source": [
    "---\n",
    "**实际上，只要元素的总数不变，数组的形状就可以随时改变。例如想要一个数字从0增加的2x4数组，最简单的方法如下：**"
   ]
  },
  {
   "cell_type": "code",
   "execution_count": 15,
   "metadata": {},
   "outputs": [
    {
     "name": "stdout",
     "output_type": "stream",
     "text": [
      "[0 1 2 3 4 5 6 7]\n"
     ]
    }
   ],
   "source": [
    "arr1 = np.arange(8)\n",
    "print(arr1)"
   ]
  },
  {
   "cell_type": "code",
   "execution_count": 16,
   "metadata": {},
   "outputs": [
    {
     "name": "stdout",
     "output_type": "stream",
     "text": [
      "[[0 1 2 3]\n",
      " [4 5 6 7]]\n"
     ]
    }
   ],
   "source": [
    "arr2 = np.arange(8).reshape(2,4)\n",
    "print(arr2)"
   ]
  },
  {
   "cell_type": "code",
   "execution_count": 19,
   "metadata": {},
   "outputs": [
    {
     "name": "stdout",
     "output_type": "stream",
     "text": [
      "[1000    1    2    3    4    5    6    7]\n",
      "[[1000    1    2    3]\n",
      " [   4    5    6    7]]\n"
     ]
    }
   ],
   "source": [
    "arr1 = np.arange(8)\n",
    "arr2 = arr1.reshape(2,4)\n",
    "arr1[0] = 1000\n",
    "print(arr1)\n",
    "print(arr2)"
   ]
  },
  {
   "cell_type": "code",
   "execution_count": 20,
   "metadata": {},
   "outputs": [
    {
     "name": "stdout",
     "output_type": "stream",
     "text": [
      "[1000    1    2    3    4    5    6    7]\n",
      "[1 1 2 3 4 5 6 7]\n",
      "[[1 1 2 3]\n",
      " [4 5 6 7]]\n"
     ]
    }
   ],
   "source": [
    "arr3 = arr1.copy()\n",
    "arr1[0] = 1\n",
    "print(arr3)\n",
    "print(arr1)\n",
    "print(arr2)"
   ]
  },
  {
   "cell_type": "markdown",
   "metadata": {},
   "source": [
    "# 多维数组的索引和切片\n",
    "---\n",
    "**使用多维数组，仍然可以像一维数组一样使用切片，并且多维数组可以在不同维度中混合匹配切片和单个索引**"
   ]
  },
  {
   "cell_type": "code",
   "execution_count": 22,
   "metadata": {},
   "outputs": [
    {
     "name": "stdout",
     "output_type": "stream",
     "text": [
      "[[1 1 2 3]\n",
      " [4 5 6 7]]\n",
      "[6]\n"
     ]
    }
   ],
   "source": [
    "print(arr2)\n",
    "print(arr2[1,2:3])"
   ]
  },
  {
   "cell_type": "code",
   "execution_count": 23,
   "metadata": {},
   "outputs": [
    {
     "name": "stdout",
     "output_type": "stream",
     "text": [
      "[2 6]\n"
     ]
    }
   ],
   "source": [
    "print(arr2[:,2])"
   ]
  },
  {
   "cell_type": "code",
   "execution_count": 24,
   "metadata": {},
   "outputs": [
    {
     "name": "stdout",
     "output_type": "stream",
     "text": [
      "[6]\n"
     ]
    }
   ],
   "source": [
    "print(arr2[1][2:3])"
   ]
  },
  {
   "cell_type": "code",
   "execution_count": 26,
   "metadata": {},
   "outputs": [
    {
     "name": "stdout",
     "output_type": "stream",
     "text": [
      "[3, 6]\n"
     ]
    }
   ],
   "source": [
    "LIST = [[1,2,3],[4,5,6]]\n",
    "print([i[2] for i in LIST])"
   ]
  },
  {
   "cell_type": "code",
   "execution_count": 27,
   "metadata": {},
   "outputs": [
    {
     "name": "stdout",
     "output_type": "stream",
     "text": [
      "[1 1 2 3]\n",
      "[4 5 6 7]\n"
     ]
    }
   ],
   "source": [
    "print(arr2[0])\n",
    "print(arr2[1])"
   ]
  },
  {
   "cell_type": "code",
   "execution_count": 28,
   "metadata": {},
   "outputs": [
    {
     "name": "stdout",
     "output_type": "stream",
     "text": [
      "Data type               : int64\n",
      "Total number of elements: 8\n",
      "Number of dimensions    : 2\n",
      "Shape (dimensionality)  : (2, 4)\n",
      "Memory used (in bytes)  : int64\n"
     ]
    }
   ],
   "source": [
    "arr = arr2\n",
    "print('Data type               :',arr.dtype)\n",
    "print('Total number of elements:',arr.size)\n",
    "print('Number of dimensions    :',arr.ndim)\n",
    "print('Shape (dimensionality)  :',arr.shape)\n",
    "print('Memory used (in bytes)  :',arr.dtype)"
   ]
  },
  {
   "cell_type": "code",
   "execution_count": 30,
   "metadata": {},
   "outputs": [
    {
     "name": "stdout",
     "output_type": "stream",
     "text": [
      "Minmum and maximum             : 1 7\n",
      "Sum and product of all elements: 29 5040\n",
      "Mean and standard deviation    : 3.625 2.117634293262177\n"
     ]
    }
   ],
   "source": [
    "print('Minmum and maximum             :',arr.min(),arr.max())\n",
    "print('Sum and product of all elements:',arr.sum(),arr.prod())\n",
    "print('Mean and standard deviation    :',arr.mean(),arr.std())"
   ]
  },
  {
   "cell_type": "code",
   "execution_count": 36,
   "metadata": {},
   "outputs": [
    {
     "name": "stdout",
     "output_type": "stream",
     "text": [
      "The sum of elements along the rows is  : [ 7 22]\n",
      "The sum of elements along the columns is  : [ 5  6  8 10]\n",
      "[[1 1 2 3]\n",
      " [4 5 6 7]]\n",
      "[[ 1  2  4  7]\n",
      " [ 4  9 15 22]]\n",
      "[[ 1  1  2  3]\n",
      " [ 5  6  8 10]]\n"
     ]
    }
   ],
   "source": [
    "print('The sum of elements along the rows is  :',arr.sum(axis=1))\n",
    "print('The sum of elements along the columns is  :',arr.sum(axis=0))\n",
    "print(arr)\n",
    "print(arr.cumsum(axis=1)) # 使数组沿着横轴计算\n",
    "print(arr.cumsum(axis=0)) # 使数组沿着纵轴计算"
   ]
  },
  {
   "cell_type": "markdown",
   "metadata": {},
   "source": [
    "# 数组的转置"
   ]
  },
  {
   "cell_type": "code",
   "execution_count": 37,
   "metadata": {},
   "outputs": [
    {
     "name": "stdout",
     "output_type": "stream",
     "text": [
      "Array: \n",
      " [[1 1 2 3]\n",
      " [4 5 6 7]]\n",
      "Transpose: \n",
      " [[1 4]\n",
      " [1 5]\n",
      " [2 6]\n",
      " [3 7]]\n"
     ]
    }
   ],
   "source": [
    "print(\"Array: \\n\",arr)\n",
    "print(\"Transpose: \\n\",arr.T)"
   ]
  },
  {
   "cell_type": "markdown",
   "metadata": {},
   "source": [
    "# 数组的运算\n",
    "---\n",
    "**NumPy专为科学计算而生，数组支持所有常规的算术运算，NumPy库中包含\n",
    "完整的基本数学函数，这些函数在数组的运算上也发发挥了很大的作用。一\n",
    "般来说，数组的所有操作都是以元素对应的方式来实现的，即同时应用于数\n",
    "组的所有元素，且一一对应**"
   ]
  },
  {
   "cell_type": "code",
   "execution_count": 39,
   "metadata": {},
   "outputs": [
    {
     "name": "stdout",
     "output_type": "stream",
     "text": [
      "[0 1 2 3] + [10 11 12 13] = [10 12 14 16]\n"
     ]
    }
   ],
   "source": [
    "arr1 = np.arange(4)\n",
    "arr2 = np.arange(10,14)\n",
    "print(arr1,'+',arr2,'=',arr1+arr2)"
   ]
  },
  {
   "cell_type": "markdown",
   "metadata": {},
   "source": [
    "---\n",
    "**值得注意的是，即使是乘法运算也是默认元素对应的方式，这与线性代\n",
    "数的矩阵乘法不同，如下所示**"
   ]
  },
  {
   "cell_type": "code",
   "execution_count": 40,
   "metadata": {},
   "outputs": [
    {
     "name": "stdout",
     "output_type": "stream",
     "text": [
      "[0 1 2 3] * [10 11 12 13] = [ 0 11 24 39]\n"
     ]
    }
   ],
   "source": [
    "print(arr1,'*',arr2,'=',arr1*arr2)"
   ]
  },
  {
   "cell_type": "code",
   "execution_count": 41,
   "metadata": {},
   "outputs": [
    {
     "name": "stdout",
     "output_type": "stream",
     "text": [
      "[0.  1.5 3.  4.5]\n"
     ]
    }
   ],
   "source": [
    "print(1.5*arr1)"
   ]
  },
  {
   "cell_type": "markdown",
   "metadata": {},
   "source": [
    "---\n",
    "**NumPy提供了完整的数学函数，并且可以在整个数组上运行，其中包括\n",
    "对数、指数、三角函数和双曲三角函数等。此外，SciPy还在scipy.special\n",
    "模块中提供了一个丰富的特殊函数库，具有贝塞尔、艾里、菲涅耳等古典特殊\n",
    "功能。例如在0到2π之间的正弦函数上采集20个点，实现方式就像下面代码\n",
    "所展示的这样简单。**"
   ]
  },
  {
   "cell_type": "code",
   "execution_count": 48,
   "metadata": {},
   "outputs": [
    {
     "name": "stdout",
     "output_type": "stream",
     "text": [
      "[ 0.00000000e+00  3.24699469e-01  6.14212713e-01  8.37166478e-01\n",
      "  9.69400266e-01  9.96584493e-01  9.15773327e-01  7.35723911e-01\n",
      "  4.75947393e-01  1.64594590e-01 -1.64594590e-01 -4.75947393e-01\n",
      " -7.35723911e-01 -9.15773327e-01 -9.96584493e-01 -9.69400266e-01\n",
      " -8.37166478e-01 -6.14212713e-01 -3.24699469e-01 -2.44929360e-16]\n"
     ]
    }
   ],
   "source": [
    "x = np.linspace(0,2*np.pi,20)\n",
    "y = np.sin(x)\n",
    "print(y)"
   ]
  },
  {
   "cell_type": "code",
   "execution_count": 3,
   "metadata": {},
   "outputs": [
    {
     "ename": "ModuleNotFoundError",
     "evalue": "No module named 'emoji'",
     "output_type": "error",
     "traceback": [
      "\u001b[0;31m---------------------------------------------------------------------------\u001b[0m",
      "\u001b[0;31mModuleNotFoundError\u001b[0m                       Traceback (most recent call last)",
      "\u001b[0;32m<ipython-input-3-04ea0b7ab13d>\u001b[0m in \u001b[0;36m<module>\u001b[0;34m\u001b[0m\n\u001b[0;32m----> 1\u001b[0;31m \u001b[0;32mfrom\u001b[0m \u001b[0memoji\u001b[0m \u001b[0;32mimport\u001b[0m \u001b[0memojize\u001b[0m\u001b[0;34m\u001b[0m\u001b[0;34m\u001b[0m\u001b[0m\n\u001b[0m\u001b[1;32m      2\u001b[0m \u001b[0mprint\u001b[0m\u001b[0;34m(\u001b[0m\u001b[0memojize\u001b[0m\u001b[0;34m(\u001b[0m\u001b[0;34m\":thumbs_up:\"\u001b[0m\u001b[0;34m)\u001b[0m\u001b[0;34m)\u001b[0m\u001b[0;34m\u001b[0m\u001b[0;34m\u001b[0m\u001b[0m\n",
      "\u001b[0;31mModuleNotFoundError\u001b[0m: No module named 'emoji'"
     ]
    }
   ],
   "source": [
    "from emoji import emojize\n",
    "print(emojize(\":thumbs_up:\"))"
   ]
  },
  {
   "cell_type": "code",
   "execution_count": 1,
   "metadata": {},
   "outputs": [
    {
     "name": "stdout",
     "output_type": "stream",
     "text": [
      "[3, 2, 4, 6]\n",
      "Index of 4:  2\n",
      "Removed 4:  [3, 2, 6]\n",
      "reversed:  [6, 2, 3]\n",
      "sorted return:  [2, 3, 6]\n",
      "sorted in place:  [2, 3, 6]\n"
     ]
    }
   ],
   "source": [
    "def array_test():\n",
    "    ar = [3, 2, 4, 5]\n",
    "\n",
    "    ar.pop()\n",
    "\n",
    "    ar.append(6)\n",
    "\n",
    "    print(ar)\n",
    "    print(\"Index of 4: \", ar.index(4))  # index of given value\n",
    "\n",
    "    ar.remove(4)  # remove the first occurence of item with given value\n",
    "    print(\"Removed 4: \", ar)\n",
    "\n",
    "    ar.reverse()\n",
    "    print(\"reversed: \", ar)\n",
    "    print(\"sorted return: \", sorted(ar))\n",
    "\n",
    "    ar.sort()\n",
    "    print(\"sorted in place: \", ar)\n",
    "\n",
    "\n",
    "def main():\n",
    "    array_test()\n",
    "\n",
    "\n",
    "if __name__ == \"__main__\":\n",
    "    main()"
   ]
  },
  {
   "cell_type": "code",
   "execution_count": null,
   "metadata": {},
   "outputs": [],
   "source": []
  },
  {
   "cell_type": "code",
   "execution_count": null,
   "metadata": {},
   "outputs": [],
   "source": []
  }
 ],
 "metadata": {
  "kernelspec": {
   "display_name": "Python 3",
   "language": "python",
   "name": "python3"
  },
  "language_info": {
   "codemirror_mode": {
    "name": "ipython",
    "version": 3
   },
   "file_extension": ".py",
   "mimetype": "text/x-python",
   "name": "python",
   "nbconvert_exporter": "python",
   "pygments_lexer": "ipython3",
   "version": "3.7.6"
  }
 },
 "nbformat": 4,
 "nbformat_minor": 4
}
